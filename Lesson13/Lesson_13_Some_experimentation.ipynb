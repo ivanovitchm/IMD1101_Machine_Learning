{
  "nbformat": 4,
  "nbformat_minor": 0,
  "metadata": {
    "colab": {
      "name": "Lesson#13 - Some experimentation.ipynb",
      "version": "0.3.2",
      "provenance": [],
      "collapsed_sections": []
    },
    "kernelspec": {
      "name": "python3",
      "display_name": "Python 3"
    }
  },
  "cells": [
    {
      "cell_type": "markdown",
      "metadata": {
        "id": "_eg2eHCDt7Se",
        "colab_type": "text"
      },
      "source": [
        "# 1.0 Setup"
      ]
    },
    {
      "cell_type": "markdown",
      "metadata": {
        "id": "zbO3AhUeRQVO",
        "colab_type": "text"
      },
      "source": [
        "## 1.1 References\n",
        "\n",
        "https://www.deeplearning.ai/"
      ]
    },
    {
      "cell_type": "markdown",
      "metadata": {
        "id": "nRdBwo1kKIEc",
        "colab_type": "text"
      },
      "source": [
        "## 1.2 Install and import dependencies"
      ]
    },
    {
      "cell_type": "code",
      "metadata": {
        "id": "vgt9ftNfWVl9",
        "colab_type": "code",
        "outputId": "a6aad40a-ea53-451a-802a-1376df0a8520",
        "colab": {
          "base_uri": "https://localhost:8080/",
          "height": 210
        }
      },
      "source": [
        "# install dependencies \n",
        "!pip install plotly==4.0.0"
      ],
      "execution_count": 1,
      "outputs": [
        {
          "output_type": "stream",
          "text": [
            "Collecting plotly==4.0.0\n",
            "\u001b[?25l  Downloading https://files.pythonhosted.org/packages/58/f3/a49d3281cc7275164ecf89ad3497556b11d9661faa119becdf7f9d3b2125/plotly-4.0.0-py2.py3-none-any.whl (6.8MB)\n",
            "\u001b[K     |████████████████████████████████| 6.8MB 2.8MB/s \n",
            "\u001b[?25hRequirement already satisfied: retrying>=1.3.3 in /usr/local/lib/python3.6/dist-packages (from plotly==4.0.0) (1.3.3)\n",
            "Requirement already satisfied: six in /usr/local/lib/python3.6/dist-packages (from plotly==4.0.0) (1.12.0)\n",
            "Installing collected packages: plotly\n",
            "  Found existing installation: plotly 4.1.1\n",
            "    Uninstalling plotly-4.1.1:\n",
            "      Successfully uninstalled plotly-4.1.1\n",
            "Successfully installed plotly-4.0.0\n"
          ],
          "name": "stdout"
        }
      ]
    },
    {
      "cell_type": "code",
      "metadata": {
        "id": "pJqkeG0rUla-",
        "colab_type": "code",
        "colab": {}
      },
      "source": [
        "# import dependencies\n",
        "import matplotlib.pyplot as plt\n",
        "import pandas as pd\n",
        "import numpy as np\n",
        "import plotly.express as px\n",
        "import plotly\n",
        "import plotly.offline as pyo\n",
        "import plotly.graph_objects as go\n",
        "from sklearn.preprocessing import StandardScaler\n",
        "import scipy.optimize as opt \n",
        "from sklearn.linear_model import LogisticRegression"
      ],
      "execution_count": 0,
      "outputs": []
    },
    {
      "cell_type": "markdown",
      "metadata": {
        "id": "MwQ0qV-LuFeE",
        "colab_type": "text"
      },
      "source": [
        "# 2.0 Example 01"
      ]
    },
    {
      "cell_type": "markdown",
      "metadata": {
        "id": "MNUn5pQfKOlW",
        "colab_type": "text"
      },
      "source": [
        "## 2.1 Get the data"
      ]
    },
    {
      "cell_type": "code",
      "metadata": {
        "id": "lehBBBulRTdo",
        "colab_type": "code",
        "outputId": "cab15a5a-de8b-40f8-d237-cd3c4a232d31",
        "colab": {
          "base_uri": "https://localhost:8080/",
          "height": 198
        }
      },
      "source": [
        "# the dataset contains two tests result of microchips in a \n",
        "# factory and we are going to use the test results to predict\n",
        "# whether the microchips should be accepted or rejected\n",
        "\n",
        "data = pd.read_csv(\"lesson13data1.txt\",\n",
        "                   names=[\"X1\",\"X2\",\"Admitted\"],\n",
        "                   dtype={\"X1\":np.float64,\"X2\":np.float64, \"Admitted\": \"object\"}\n",
        "                   )\n",
        "data.head()"
      ],
      "execution_count": 4,
      "outputs": [
        {
          "output_type": "execute_result",
          "data": {
            "text/html": [
              "<div>\n",
              "<style scoped>\n",
              "    .dataframe tbody tr th:only-of-type {\n",
              "        vertical-align: middle;\n",
              "    }\n",
              "\n",
              "    .dataframe tbody tr th {\n",
              "        vertical-align: top;\n",
              "    }\n",
              "\n",
              "    .dataframe thead th {\n",
              "        text-align: right;\n",
              "    }\n",
              "</style>\n",
              "<table border=\"1\" class=\"dataframe\">\n",
              "  <thead>\n",
              "    <tr style=\"text-align: right;\">\n",
              "      <th></th>\n",
              "      <th>X1</th>\n",
              "      <th>X2</th>\n",
              "      <th>Admitted</th>\n",
              "    </tr>\n",
              "  </thead>\n",
              "  <tbody>\n",
              "    <tr>\n",
              "      <th>0</th>\n",
              "      <td>34.623660</td>\n",
              "      <td>78.024693</td>\n",
              "      <td>0</td>\n",
              "    </tr>\n",
              "    <tr>\n",
              "      <th>1</th>\n",
              "      <td>30.286711</td>\n",
              "      <td>43.894998</td>\n",
              "      <td>0</td>\n",
              "    </tr>\n",
              "    <tr>\n",
              "      <th>2</th>\n",
              "      <td>35.847409</td>\n",
              "      <td>72.902198</td>\n",
              "      <td>0</td>\n",
              "    </tr>\n",
              "    <tr>\n",
              "      <th>3</th>\n",
              "      <td>60.182599</td>\n",
              "      <td>86.308552</td>\n",
              "      <td>1</td>\n",
              "    </tr>\n",
              "    <tr>\n",
              "      <th>4</th>\n",
              "      <td>79.032736</td>\n",
              "      <td>75.344376</td>\n",
              "      <td>1</td>\n",
              "    </tr>\n",
              "  </tbody>\n",
              "</table>\n",
              "</div>"
            ],
            "text/plain": [
              "          X1         X2 Admitted\n",
              "0  34.623660  78.024693        0\n",
              "1  30.286711  43.894998        0\n",
              "2  35.847409  72.902198        0\n",
              "3  60.182599  86.308552        1\n",
              "4  79.032736  75.344376        1"
            ]
          },
          "metadata": {
            "tags": []
          },
          "execution_count": 4
        }
      ]
    },
    {
      "cell_type": "code",
      "metadata": {
        "id": "NiIRHq_vT1BE",
        "colab_type": "code",
        "outputId": "5f25a422-cb59-4b57-a6c5-656918cda687",
        "colab": {
          "base_uri": "https://localhost:8080/",
          "height": 155
        }
      },
      "source": [
        "# fisrt contact with the data\n",
        "data.info()"
      ],
      "execution_count": 5,
      "outputs": [
        {
          "output_type": "stream",
          "text": [
            "<class 'pandas.core.frame.DataFrame'>\n",
            "RangeIndex: 100 entries, 0 to 99\n",
            "Data columns (total 3 columns):\n",
            "X1          100 non-null float64\n",
            "X2          100 non-null float64\n",
            "Admitted    100 non-null object\n",
            "dtypes: float64(2), object(1)\n",
            "memory usage: 2.4+ KB\n"
          ],
          "name": "stdout"
        }
      ]
    },
    {
      "cell_type": "code",
      "metadata": {
        "id": "ycyDC9l4UdC9",
        "colab_type": "code",
        "outputId": "7901ab1d-d06d-49e7-df2d-d269ceda46e6",
        "colab": {
          "base_uri": "https://localhost:8080/",
          "height": 288
        }
      },
      "source": [
        "# first contact with the data\n",
        "data.describe()"
      ],
      "execution_count": 6,
      "outputs": [
        {
          "output_type": "execute_result",
          "data": {
            "text/html": [
              "<div>\n",
              "<style scoped>\n",
              "    .dataframe tbody tr th:only-of-type {\n",
              "        vertical-align: middle;\n",
              "    }\n",
              "\n",
              "    .dataframe tbody tr th {\n",
              "        vertical-align: top;\n",
              "    }\n",
              "\n",
              "    .dataframe thead th {\n",
              "        text-align: right;\n",
              "    }\n",
              "</style>\n",
              "<table border=\"1\" class=\"dataframe\">\n",
              "  <thead>\n",
              "    <tr style=\"text-align: right;\">\n",
              "      <th></th>\n",
              "      <th>X1</th>\n",
              "      <th>X2</th>\n",
              "    </tr>\n",
              "  </thead>\n",
              "  <tbody>\n",
              "    <tr>\n",
              "      <th>count</th>\n",
              "      <td>100.000000</td>\n",
              "      <td>100.000000</td>\n",
              "    </tr>\n",
              "    <tr>\n",
              "      <th>mean</th>\n",
              "      <td>65.644274</td>\n",
              "      <td>66.221998</td>\n",
              "    </tr>\n",
              "    <tr>\n",
              "      <th>std</th>\n",
              "      <td>19.458222</td>\n",
              "      <td>18.582783</td>\n",
              "    </tr>\n",
              "    <tr>\n",
              "      <th>min</th>\n",
              "      <td>30.058822</td>\n",
              "      <td>30.603263</td>\n",
              "    </tr>\n",
              "    <tr>\n",
              "      <th>25%</th>\n",
              "      <td>50.919511</td>\n",
              "      <td>48.179205</td>\n",
              "    </tr>\n",
              "    <tr>\n",
              "      <th>50%</th>\n",
              "      <td>67.032988</td>\n",
              "      <td>67.682381</td>\n",
              "    </tr>\n",
              "    <tr>\n",
              "      <th>75%</th>\n",
              "      <td>80.212529</td>\n",
              "      <td>79.360605</td>\n",
              "    </tr>\n",
              "    <tr>\n",
              "      <th>max</th>\n",
              "      <td>99.827858</td>\n",
              "      <td>98.869436</td>\n",
              "    </tr>\n",
              "  </tbody>\n",
              "</table>\n",
              "</div>"
            ],
            "text/plain": [
              "               X1          X2\n",
              "count  100.000000  100.000000\n",
              "mean    65.644274   66.221998\n",
              "std     19.458222   18.582783\n",
              "min     30.058822   30.603263\n",
              "25%     50.919511   48.179205\n",
              "50%     67.032988   67.682381\n",
              "75%     80.212529   79.360605\n",
              "max     99.827858   98.869436"
            ]
          },
          "metadata": {
            "tags": []
          },
          "execution_count": 6
        }
      ]
    },
    {
      "cell_type": "code",
      "metadata": {
        "id": "4B74OYHWXCo5",
        "colab_type": "code",
        "outputId": "44ba6ba7-bccb-4c75-c79e-6ce17383c888",
        "colab": {
          "base_uri": "https://localhost:8080/",
          "height": 517
        }
      },
      "source": [
        "# see all markers available\n",
        "# https://plot.ly/python/reference/#scatter-marker\n",
        "\n",
        "fig = px.scatter(data, \n",
        "                 x=\"X1\",\n",
        "                 y=\"X2\",\n",
        "                 color_discrete_sequence=[\"red\",\"green\"],\n",
        "                 symbol_sequence=[\"cross\",\"circle\"],\n",
        "                 color=\"Admitted\",\n",
        "                 width=500,\n",
        "                 height=500,\n",
        "                 title=\"Admitted vs not Admitted\",symbol=\"Admitted\",\n",
        "                 )\n",
        "#fig.update_layout({'legend_orientation':'h'})\n",
        "fig.show()"
      ],
      "execution_count": 7,
      "outputs": [
        {
          "output_type": "display_data",
          "data": {
            "text/html": [
              "<html>\n",
              "<head><meta charset=\"utf-8\" /></head>\n",
              "<body>\n",
              "    <div>\n",
              "            <script src=\"https://cdnjs.cloudflare.com/ajax/libs/mathjax/2.7.5/MathJax.js?config=TeX-AMS-MML_SVG\"></script><script type=\"text/javascript\">if (window.MathJax) {MathJax.Hub.Config({SVG: {font: \"STIX-Web\"}});}</script>\n",
              "                <script type=\"text/javascript\">window.PlotlyConfig = {MathJaxConfig: 'local'};</script>\n",
              "        <script src=\"https://cdn.plot.ly/plotly-latest.min.js\"></script>    \n",
              "            <div id=\"9895bf7d-68b8-4cfb-a5f1-06f1229f1c6e\" class=\"plotly-graph-div\" style=\"height:500px; width:500px;\"></div>\n",
              "            <script type=\"text/javascript\">\n",
              "                \n",
              "                    window.PLOTLYENV=window.PLOTLYENV || {};\n",
              "                    \n",
              "                if (document.getElementById(\"9895bf7d-68b8-4cfb-a5f1-06f1229f1c6e\")) {\n",
              "                    Plotly.newPlot(\n",
              "                        '9895bf7d-68b8-4cfb-a5f1-06f1229f1c6e',\n",
              "                        [{\"hoverlabel\": {\"namelength\": 0}, \"hovertemplate\": \"Admitted=0<br>X1=%{x}<br>X2=%{y}\", \"legendgroup\": \"Admitted=0\", \"marker\": {\"color\": \"red\", \"symbol\": \"cross\"}, \"mode\": \"markers\", \"name\": \"Admitted=0\", \"showlegend\": true, \"type\": \"scatter\", \"x\": [34.62365962451697, 30.28671076822607, 35.84740876993872, 45.083277476683385, 95.86155507093572, 75.01365838958247, 39.538339143672225, 67.94685547711617, 67.37202754570876, 50.534788289883004, 34.21206097786789, 93.114388797442, 61.83020602312595, 38.78580379679423, 52.10797973193984, 40.236893735451105, 54.63510555424817, 33.91550010906887, 74.78925295941542, 34.1836400264419, 51.54772026906181, 82.36875375713919, 51.04775177128865, 62.222675761201884, 34.52451385320009, 50.286496118990705, 49.58667721632031, 32.57720016809309, 35.28611281526193, 56.253817497116245, 30.05882244669796, 44.66826172480893, 66.56089447242954, 49.07256321908844, 32.722833040603234, 60.45555629271532, 82.2266615778557, 42.0754545384731, 52.34800398794108, 55.48216114069585], \"xaxis\": \"x\", \"y\": [78.0246928153624, 43.894997524001006, 72.90219802708364, 56.316371781530506, 38.22527805795094, 30.60326323428011, 76.0368108511588, 46.67857410673128, 42.83843832029179, 48.85581152764205, 44.209528598662885, 38.80067033713209, 50.25610789244621, 64.99568095539578, 63.127623768817145, 71.16774802184875, 52.21388588061123, 98.86943574220612, 41.57341522824434, 75.2377203360134, 46.85629026349976, 40.61825515970618, 45.82270145776001, 52.060991948366784, 60.39634245837173, 49.80453881323059, 59.80895099453265, 95.59854761387876, 47.02051394723416, 39.261472510580184, 49.59297386723685, 66.45008614558913, 41.09209807936973, 51.88321182073966, 43.307173064300635, 42.50840943572217, 42.719878537164576, 78.84478600148044, 60.76950525602592, 35.570703472288656], \"yaxis\": \"y\"}, {\"hoverlabel\": {\"namelength\": 0}, \"hovertemplate\": \"Admitted=1<br>X1=%{x}<br>X2=%{y}\", \"legendgroup\": \"Admitted=1\", \"marker\": {\"color\": \"green\", \"symbol\": \"circle\"}, \"mode\": \"markers\", \"name\": \"Admitted=1\", \"showlegend\": true, \"type\": \"scatter\", \"x\": [60.18259938620975, 79.0327360507101, 61.10666453684766, 75.02474556738889, 76.09878670226256, 84.43281996120034, 82.3070533739948, 69.36458875970939, 53.9710521485623, 69.07014406283025, 70.66150955499434, 76.97878372747499, 89.67677575072081, 77.9240914545704, 62.27101367004632, 80.19018075095659, 61.379289447425, 85.40451939411645, 52.04540476831827, 64.17698887494485, 83.90239366249155, 94.44336776917852, 77.19303492601364, 97.7715992800023, 62.073063796676465, 91.56497449807442, 79.94481794066932, 99.2725269292572, 90.5467141139985, 97.64563396007769, 74.24869136721598, 71.7964620586338, 75.39561146568029, 40.45755098375164, 80.27957401466998, 66.74671856944039, 64.0393204150601, 72.34649422579923, 60.4578857391896, 58.840956217268015, 99.82785779692128, 47.26426910848174, 50.45815980285988, 88.91389641665329, 94.83450672430195, 67.31925746917527, 57.238706315698614, 80.36675600171273, 68.46852178591112, 75.47770200533905, 78.6354243489802, 94.09433112516793, 90.44855097096365, 74.49269241843041, 89.8458067072098, 83.48916274498238, 42.261700809981704, 99.31500880510393, 55.34001756003703, 74.77589300092767], \"xaxis\": \"x\", \"y\": [86.30855209546827, 75.3443764369103, 96.51142588489624, 46.55401354116538, 87.42056971926803, 43.533393310721095, 76.48196330235605, 97.71869196188608, 89.20735013750205, 52.740469730167646, 92.92713789364832, 47.575963649755316, 65.79936592745237, 68.9723599933059, 69.95445795447587, 44.821628932183536, 72.80788731317097, 57.05198397627122, 69.43286012045222, 80.90806058670817, 56.30804621605328, 65.56892160559052, 70.4582000018096, 86.7278223300282, 96.76882412413984, 88.69629254546598, 74.16311935043757, 60.99903099844988, 43.39060180650027, 68.86157272420604, 69.82457122657193, 78.45356224515052, 85.75993667331619, 97.53518548909935, 92.11606081344084, 60.99139402740989, 78.03168802018232, 96.22759296761404, 73.09499809758037, 75.85844831279043, 72.36925193383884, 88.47586499559782, 75.80985952982456, 69.80378889835472, 45.69430680250754, 66.58935317747915, 59.51428198012957, 90.96014789746954, 85.59430710452014, 90.42453899753963, 96.64742716885642, 77.15910509073893, 87.50879176484702, 84.84513684930135, 45.35828361091658, 48.38028579728175, 87.10385094025456, 68.77540947206617, 64.9319380069486, 89.52981289513276], \"yaxis\": \"y\"}],\n",
              "                        {\"height\": 500, \"legend\": {\"tracegroupgap\": 0}, \"template\": {\"data\": {\"bar\": [{\"error_x\": {\"color\": \"#2a3f5f\"}, \"error_y\": {\"color\": \"#2a3f5f\"}, \"marker\": {\"line\": {\"color\": \"#E5ECF6\", \"width\": 0.5}}, \"type\": \"bar\"}], \"barpolar\": [{\"marker\": {\"line\": {\"color\": \"#E5ECF6\", \"width\": 0.5}}, \"type\": \"barpolar\"}], \"carpet\": [{\"aaxis\": {\"endlinecolor\": \"#2a3f5f\", \"gridcolor\": \"white\", \"linecolor\": \"white\", \"minorgridcolor\": \"white\", \"startlinecolor\": \"#2a3f5f\"}, \"baxis\": {\"endlinecolor\": \"#2a3f5f\", \"gridcolor\": \"white\", \"linecolor\": \"white\", \"minorgridcolor\": \"white\", \"startlinecolor\": \"#2a3f5f\"}, \"type\": \"carpet\"}], \"choropleth\": [{\"colorbar\": {\"outlinewidth\": 0, \"ticks\": \"\"}, \"type\": \"choropleth\"}], \"contour\": [{\"colorbar\": {\"outlinewidth\": 0, \"ticks\": \"\"}, \"colorscale\": [[0.0, \"#0d0887\"], [0.1111111111111111, \"#46039f\"], [0.2222222222222222, \"#7201a8\"], [0.3333333333333333, \"#9c179e\"], [0.4444444444444444, \"#bd3786\"], [0.5555555555555556, \"#d8576b\"], [0.6666666666666666, \"#ed7953\"], [0.7777777777777778, \"#fb9f3a\"], [0.8888888888888888, \"#fdca26\"], [1.0, \"#f0f921\"]], \"type\": \"contour\"}], \"contourcarpet\": [{\"colorbar\": {\"outlinewidth\": 0, \"ticks\": \"\"}, \"type\": \"contourcarpet\"}], \"heatmap\": [{\"colorbar\": {\"outlinewidth\": 0, \"ticks\": \"\"}, \"colorscale\": [[0.0, \"#0d0887\"], [0.1111111111111111, \"#46039f\"], [0.2222222222222222, \"#7201a8\"], [0.3333333333333333, \"#9c179e\"], [0.4444444444444444, \"#bd3786\"], [0.5555555555555556, \"#d8576b\"], [0.6666666666666666, \"#ed7953\"], [0.7777777777777778, \"#fb9f3a\"], [0.8888888888888888, \"#fdca26\"], [1.0, \"#f0f921\"]], \"type\": \"heatmap\"}], \"heatmapgl\": [{\"colorbar\": {\"outlinewidth\": 0, \"ticks\": \"\"}, \"colorscale\": [[0.0, \"#0d0887\"], [0.1111111111111111, \"#46039f\"], [0.2222222222222222, \"#7201a8\"], [0.3333333333333333, \"#9c179e\"], [0.4444444444444444, \"#bd3786\"], [0.5555555555555556, \"#d8576b\"], [0.6666666666666666, \"#ed7953\"], [0.7777777777777778, \"#fb9f3a\"], [0.8888888888888888, \"#fdca26\"], [1.0, \"#f0f921\"]], \"type\": \"heatmapgl\"}], \"histogram\": [{\"marker\": {\"colorbar\": {\"outlinewidth\": 0, \"ticks\": \"\"}}, \"type\": \"histogram\"}], \"histogram2d\": [{\"colorbar\": {\"outlinewidth\": 0, \"ticks\": \"\"}, \"colorscale\": [[0.0, \"#0d0887\"], [0.1111111111111111, \"#46039f\"], [0.2222222222222222, \"#7201a8\"], [0.3333333333333333, \"#9c179e\"], [0.4444444444444444, \"#bd3786\"], [0.5555555555555556, \"#d8576b\"], [0.6666666666666666, \"#ed7953\"], [0.7777777777777778, \"#fb9f3a\"], [0.8888888888888888, \"#fdca26\"], [1.0, \"#f0f921\"]], \"type\": \"histogram2d\"}], \"histogram2dcontour\": [{\"colorbar\": {\"outlinewidth\": 0, \"ticks\": \"\"}, \"colorscale\": [[0.0, \"#0d0887\"], [0.1111111111111111, \"#46039f\"], [0.2222222222222222, \"#7201a8\"], [0.3333333333333333, \"#9c179e\"], [0.4444444444444444, \"#bd3786\"], [0.5555555555555556, \"#d8576b\"], [0.6666666666666666, \"#ed7953\"], [0.7777777777777778, \"#fb9f3a\"], [0.8888888888888888, \"#fdca26\"], [1.0, \"#f0f921\"]], \"type\": \"histogram2dcontour\"}], \"mesh3d\": [{\"colorbar\": {\"outlinewidth\": 0, \"ticks\": \"\"}, \"type\": \"mesh3d\"}], \"parcoords\": [{\"line\": {\"colorbar\": {\"outlinewidth\": 0, \"ticks\": \"\"}}, \"type\": \"parcoords\"}], \"scatter\": [{\"marker\": {\"colorbar\": {\"outlinewidth\": 0, \"ticks\": \"\"}}, \"type\": \"scatter\"}], \"scatter3d\": [{\"line\": {\"colorbar\": {\"outlinewidth\": 0, \"ticks\": \"\"}}, \"marker\": {\"colorbar\": {\"outlinewidth\": 0, \"ticks\": \"\"}}, \"type\": \"scatter3d\"}], \"scattercarpet\": [{\"marker\": {\"colorbar\": {\"outlinewidth\": 0, \"ticks\": \"\"}}, \"type\": \"scattercarpet\"}], \"scattergeo\": [{\"marker\": {\"colorbar\": {\"outlinewidth\": 0, \"ticks\": \"\"}}, \"type\": \"scattergeo\"}], \"scattergl\": [{\"marker\": {\"colorbar\": {\"outlinewidth\": 0, \"ticks\": \"\"}}, \"type\": \"scattergl\"}], \"scattermapbox\": [{\"marker\": {\"colorbar\": {\"outlinewidth\": 0, \"ticks\": \"\"}}, \"type\": \"scattermapbox\"}], \"scatterpolar\": [{\"marker\": {\"colorbar\": {\"outlinewidth\": 0, \"ticks\": \"\"}}, \"type\": \"scatterpolar\"}], \"scatterpolargl\": [{\"marker\": {\"colorbar\": {\"outlinewidth\": 0, \"ticks\": \"\"}}, \"type\": \"scatterpolargl\"}], \"scatterternary\": [{\"marker\": {\"colorbar\": {\"outlinewidth\": 0, \"ticks\": \"\"}}, \"type\": \"scatterternary\"}], \"surface\": [{\"colorbar\": {\"outlinewidth\": 0, \"ticks\": \"\"}, \"colorscale\": [[0.0, \"#0d0887\"], [0.1111111111111111, \"#46039f\"], [0.2222222222222222, \"#7201a8\"], [0.3333333333333333, \"#9c179e\"], [0.4444444444444444, \"#bd3786\"], [0.5555555555555556, \"#d8576b\"], [0.6666666666666666, \"#ed7953\"], [0.7777777777777778, \"#fb9f3a\"], [0.8888888888888888, \"#fdca26\"], [1.0, \"#f0f921\"]], \"type\": \"surface\"}], \"table\": [{\"cells\": {\"fill\": {\"color\": \"#EBF0F8\"}, \"line\": {\"color\": \"white\"}}, \"header\": {\"fill\": {\"color\": \"#C8D4E3\"}, \"line\": {\"color\": \"white\"}}, \"type\": \"table\"}]}, \"layout\": {\"annotationdefaults\": {\"arrowcolor\": \"#2a3f5f\", \"arrowhead\": 0, \"arrowwidth\": 1}, \"colorscale\": {\"diverging\": [[0, \"#8e0152\"], [0.1, \"#c51b7d\"], [0.2, \"#de77ae\"], [0.3, \"#f1b6da\"], [0.4, \"#fde0ef\"], [0.5, \"#f7f7f7\"], [0.6, \"#e6f5d0\"], [0.7, \"#b8e186\"], [0.8, \"#7fbc41\"], [0.9, \"#4d9221\"], [1, \"#276419\"]], \"sequential\": [[0.0, \"#0d0887\"], [0.1111111111111111, \"#46039f\"], [0.2222222222222222, \"#7201a8\"], [0.3333333333333333, \"#9c179e\"], [0.4444444444444444, \"#bd3786\"], [0.5555555555555556, \"#d8576b\"], [0.6666666666666666, \"#ed7953\"], [0.7777777777777778, \"#fb9f3a\"], [0.8888888888888888, \"#fdca26\"], [1.0, \"#f0f921\"]], \"sequentialminus\": [[0.0, \"#0d0887\"], [0.1111111111111111, \"#46039f\"], [0.2222222222222222, \"#7201a8\"], [0.3333333333333333, \"#9c179e\"], [0.4444444444444444, \"#bd3786\"], [0.5555555555555556, \"#d8576b\"], [0.6666666666666666, \"#ed7953\"], [0.7777777777777778, \"#fb9f3a\"], [0.8888888888888888, \"#fdca26\"], [1.0, \"#f0f921\"]]}, \"colorway\": [\"#636efa\", \"#EF553B\", \"#00cc96\", \"#ab63fa\", \"#FFA15A\", \"#19d3f3\", \"#FF6692\", \"#B6E880\", \"#FF97FF\", \"#FECB52\"], \"font\": {\"color\": \"#2a3f5f\"}, \"geo\": {\"bgcolor\": \"white\", \"lakecolor\": \"white\", \"landcolor\": \"#E5ECF6\", \"showlakes\": true, \"showland\": true, \"subunitcolor\": \"white\"}, \"hoverlabel\": {\"align\": \"left\"}, \"hovermode\": \"closest\", \"mapbox\": {\"style\": \"light\"}, \"paper_bgcolor\": \"white\", \"plot_bgcolor\": \"#E5ECF6\", \"polar\": {\"angularaxis\": {\"gridcolor\": \"white\", \"linecolor\": \"white\", \"ticks\": \"\"}, \"bgcolor\": \"#E5ECF6\", \"radialaxis\": {\"gridcolor\": \"white\", \"linecolor\": \"white\", \"ticks\": \"\"}}, \"scene\": {\"xaxis\": {\"backgroundcolor\": \"#E5ECF6\", \"gridcolor\": \"white\", \"gridwidth\": 2, \"linecolor\": \"white\", \"showbackground\": true, \"ticks\": \"\", \"zerolinecolor\": \"white\"}, \"yaxis\": {\"backgroundcolor\": \"#E5ECF6\", \"gridcolor\": \"white\", \"gridwidth\": 2, \"linecolor\": \"white\", \"showbackground\": true, \"ticks\": \"\", \"zerolinecolor\": \"white\"}, \"zaxis\": {\"backgroundcolor\": \"#E5ECF6\", \"gridcolor\": \"white\", \"gridwidth\": 2, \"linecolor\": \"white\", \"showbackground\": true, \"ticks\": \"\", \"zerolinecolor\": \"white\"}}, \"shapedefaults\": {\"line\": {\"color\": \"#2a3f5f\"}}, \"ternary\": {\"aaxis\": {\"gridcolor\": \"white\", \"linecolor\": \"white\", \"ticks\": \"\"}, \"baxis\": {\"gridcolor\": \"white\", \"linecolor\": \"white\", \"ticks\": \"\"}, \"bgcolor\": \"#E5ECF6\", \"caxis\": {\"gridcolor\": \"white\", \"linecolor\": \"white\", \"ticks\": \"\"}}, \"title\": {\"x\": 0.05}, \"xaxis\": {\"automargin\": true, \"gridcolor\": \"white\", \"linecolor\": \"white\", \"ticks\": \"\", \"zerolinecolor\": \"white\", \"zerolinewidth\": 2}, \"yaxis\": {\"automargin\": true, \"gridcolor\": \"white\", \"linecolor\": \"white\", \"ticks\": \"\", \"zerolinecolor\": \"white\", \"zerolinewidth\": 2}}}, \"title\": {\"text\": \"Admitted vs not Admitted\"}, \"width\": 500, \"xaxis\": {\"anchor\": \"y\", \"domain\": [0.0, 0.98], \"title\": {\"text\": \"X1\"}}, \"yaxis\": {\"anchor\": \"x\", \"domain\": [0.0, 1.0], \"title\": {\"text\": \"X2\"}}},\n",
              "                        {\"responsive\": true}\n",
              "                    ).then(function(){\n",
              "                            \n",
              "var gd = document.getElementById('9895bf7d-68b8-4cfb-a5f1-06f1229f1c6e');\n",
              "var x = new MutationObserver(function (mutations, observer) {{\n",
              "        var display = window.getComputedStyle(gd).display;\n",
              "        if (!display || display === 'none') {{\n",
              "            console.log([gd, 'removed!']);\n",
              "            Plotly.purge(gd);\n",
              "            observer.disconnect();\n",
              "        }}\n",
              "}});\n",
              "\n",
              "// Listen for the removal of the full notebook cells\n",
              "var notebookContainer = gd.closest('#notebook-container');\n",
              "if (notebookContainer) {{\n",
              "    x.observe(notebookContainer, {childList: true});\n",
              "}}\n",
              "\n",
              "// Listen for the clearing of the current output cell\n",
              "var outputEl = gd.closest('.output');\n",
              "if (outputEl) {{\n",
              "    x.observe(outputEl, {childList: true});\n",
              "}}\n",
              "\n",
              "                        })\n",
              "                };\n",
              "                \n",
              "            </script>\n",
              "        </div>\n",
              "</body>\n",
              "</html>"
            ]
          },
          "metadata": {
            "tags": []
          }
        }
      ]
    },
    {
      "cell_type": "code",
      "metadata": {
        "id": "wJjReuzvAGnX",
        "colab_type": "code",
        "colab": {}
      },
      "source": [
        "# normalize using z-score\n",
        "scaler = StandardScaler()\n",
        "scaled_values =  scaler.fit_transform(data.drop(axis=1,labels=\"Admitted\"))"
      ],
      "execution_count": 0,
      "outputs": []
    },
    {
      "cell_type": "code",
      "metadata": {
        "id": "JGPPyfcKVMwh",
        "colab_type": "code",
        "colab": {}
      },
      "source": [
        "data[\"X1_scaled\"] = scaled_values[:,0]\n",
        "data[\"X2_scaled\"] = scaled_values[:,1]"
      ],
      "execution_count": 0,
      "outputs": []
    },
    {
      "cell_type": "code",
      "metadata": {
        "id": "6fheJx-RngeK",
        "colab_type": "code",
        "colab": {
          "base_uri": "https://localhost:8080/",
          "height": 198
        },
        "outputId": "ad579afa-dabd-4b1d-b924-6e090b0377d3"
      },
      "source": [
        "data.head()"
      ],
      "execution_count": 10,
      "outputs": [
        {
          "output_type": "execute_result",
          "data": {
            "text/html": [
              "<div>\n",
              "<style scoped>\n",
              "    .dataframe tbody tr th:only-of-type {\n",
              "        vertical-align: middle;\n",
              "    }\n",
              "\n",
              "    .dataframe tbody tr th {\n",
              "        vertical-align: top;\n",
              "    }\n",
              "\n",
              "    .dataframe thead th {\n",
              "        text-align: right;\n",
              "    }\n",
              "</style>\n",
              "<table border=\"1\" class=\"dataframe\">\n",
              "  <thead>\n",
              "    <tr style=\"text-align: right;\">\n",
              "      <th></th>\n",
              "      <th>X1</th>\n",
              "      <th>X2</th>\n",
              "      <th>Admitted</th>\n",
              "      <th>X1_scaled</th>\n",
              "      <th>X2_scaled</th>\n",
              "    </tr>\n",
              "  </thead>\n",
              "  <tbody>\n",
              "    <tr>\n",
              "      <th>0</th>\n",
              "      <td>34.623660</td>\n",
              "      <td>78.024693</td>\n",
              "      <td>0</td>\n",
              "      <td>-1.602248</td>\n",
              "      <td>0.638341</td>\n",
              "    </tr>\n",
              "    <tr>\n",
              "      <th>1</th>\n",
              "      <td>30.286711</td>\n",
              "      <td>43.894998</td>\n",
              "      <td>0</td>\n",
              "      <td>-1.826256</td>\n",
              "      <td>-1.207541</td>\n",
              "    </tr>\n",
              "    <tr>\n",
              "      <th>2</th>\n",
              "      <td>35.847409</td>\n",
              "      <td>72.902198</td>\n",
              "      <td>0</td>\n",
              "      <td>-1.539040</td>\n",
              "      <td>0.361294</td>\n",
              "    </tr>\n",
              "    <tr>\n",
              "      <th>3</th>\n",
              "      <td>60.182599</td>\n",
              "      <td>86.308552</td>\n",
              "      <td>1</td>\n",
              "      <td>-0.282101</td>\n",
              "      <td>1.086368</td>\n",
              "    </tr>\n",
              "    <tr>\n",
              "      <th>4</th>\n",
              "      <td>79.032736</td>\n",
              "      <td>75.344376</td>\n",
              "      <td>1</td>\n",
              "      <td>0.691528</td>\n",
              "      <td>0.493378</td>\n",
              "    </tr>\n",
              "  </tbody>\n",
              "</table>\n",
              "</div>"
            ],
            "text/plain": [
              "          X1         X2 Admitted  X1_scaled  X2_scaled\n",
              "0  34.623660  78.024693        0  -1.602248   0.638341\n",
              "1  30.286711  43.894998        0  -1.826256  -1.207541\n",
              "2  35.847409  72.902198        0  -1.539040   0.361294\n",
              "3  60.182599  86.308552        1  -0.282101   1.086368\n",
              "4  79.032736  75.344376        1   0.691528   0.493378"
            ]
          },
          "metadata": {
            "tags": []
          },
          "execution_count": 10
        }
      ]
    },
    {
      "cell_type": "markdown",
      "metadata": {
        "id": "kNZs0Ijd6fat",
        "colab_type": "text"
      },
      "source": [
        "## 2.2 Logistic/Sigmoid Function\n"
      ]
    },
    {
      "cell_type": "markdown",
      "metadata": {
        "id": "JOxgv00m60YA",
        "colab_type": "text"
      },
      "source": [
        "\n",
        "$\n",
        "\\displaystyle sigmoid(x) = \\frac{1}{1+e^{-x}}\n",
        "$"
      ]
    },
    {
      "cell_type": "code",
      "metadata": {
        "id": "9208tpMl6Pv6",
        "colab_type": "code",
        "colab": {}
      },
      "source": [
        "# Logistic Function or Sigmoid Function\n",
        "def logistic(z):\n",
        "    # np.exp(x) raises x to the exponential power, ie e^x. e ~= 2.71828\n",
        "    return 1 / (1 + np.exp(-z)) "
      ],
      "execution_count": 0,
      "outputs": []
    },
    {
      "cell_type": "markdown",
      "metadata": {
        "id": "nmr1IHSw6Ud-",
        "colab_type": "text"
      },
      "source": [
        "## 2.3 Cost Function"
      ]
    },
    {
      "cell_type": "markdown",
      "metadata": {
        "id": "Ek8Srs-b6_zZ",
        "colab_type": "text"
      },
      "source": [
        "$\n",
        "\\displaystyle J(\\theta) = - \\frac{1}{m} \\sum_{i=1}^{m}\\left[ y^{(i)}\\log(h_{\\theta}(x^{(i)})) + (1-y)(\\log(1-h_{\\theta}(x^{(i)})\\right]\n",
        "$"
      ]
    },
    {
      "cell_type": "code",
      "metadata": {
        "id": "-ElK2Yi28IO1",
        "colab_type": "code",
        "colab": {}
      },
      "source": [
        "def cost_function(theta, X, y):\n",
        "  thetaX = logistic(np.matmul(X, theta))\n",
        "  return -1/len(y) * np.sum(y*np.log(thetaX) + (1-y)*np.log(1 - thetaX))"
      ],
      "execution_count": 0,
      "outputs": []
    },
    {
      "cell_type": "markdown",
      "metadata": {
        "id": "-gLR5FQQEBJD",
        "colab_type": "text"
      },
      "source": [
        "## 2.4 Gradient Descent"
      ]
    },
    {
      "cell_type": "code",
      "metadata": {
        "id": "asJsWUb9EKD1",
        "colab_type": "code",
        "colab": {}
      },
      "source": [
        "def gradient_descent_multi(theta_, X, y, alpha, iterations):\n",
        "    m = len(X)\n",
        "    theta = theta_.copy()\n",
        "    cost_history = []\n",
        "    for i in range(iterations):\n",
        "        gradient = (1/m) * np.dot(X.T, logistic(np.dot(X, theta)) - y)\n",
        "        theta = theta - (alpha * gradient)\n",
        "        cost_history.append(cost_function(theta,X, y))\n",
        "    return theta, cost_history"
      ],
      "execution_count": 0,
      "outputs": []
    },
    {
      "cell_type": "markdown",
      "metadata": {
        "id": "Ym4e_ejkuziG",
        "colab_type": "text"
      },
      "source": [
        "## 2.5 Learning parameters using fmin_tnc"
      ]
    },
    {
      "cell_type": "markdown",
      "metadata": {
        "id": "BN5mEox2u6EW",
        "colab_type": "text"
      },
      "source": [
        "Instead of taking the gradient descent steps, we will use a built-in function [fmin_tnc](https://docs.scipy.org/doc/scipy/reference/generated/scipy.optimize.fmin_tnc.html) from **scipy** library. **fmin_tnc** is an optimization solver that finds the minimum of an unconstrained function. For logistic regression, you want to optimize the cost function with the parameters **theta**.\n",
        "\n",
        "Concretely, you are going to use **fmin_tnc** to find the best or optimal parameters **theta** for the logistic regression **cost function**, given a fixed dataset (of X and y values). You will pass to **fmin_tnc** the following inputs:\n",
        "\n",
        "- the initial values of the parameters we are trying to optimize.\n",
        "- a function that (gradient(theta,X,y) in this case), when given the training set and a particular **theta**, computes the logistic regression cost and gradient with respect to **theta** for the dataset (X, y)."
      ]
    },
    {
      "cell_type": "code",
      "metadata": {
        "id": "QTX8iBJ1vwTe",
        "colab_type": "code",
        "colab": {}
      },
      "source": [
        "def gradient(theta,X,y):\n",
        "  m = len(X)\n",
        "  return (1/m) * np.dot(X.T, logistic(np.dot(X, theta)) - y)"
      ],
      "execution_count": 0,
      "outputs": []
    },
    {
      "cell_type": "markdown",
      "metadata": {
        "id": "5TeFFkiCFTP-",
        "colab_type": "text"
      },
      "source": [
        "## 2.6 Main"
      ]
    },
    {
      "cell_type": "code",
      "metadata": {
        "id": "pt0TV3JM80aA",
        "colab_type": "code",
        "colab": {}
      },
      "source": [
        "# define X and y\n",
        "X = np.column_stack((np.ones(data.shape[0]),\n",
        "                     data[[\"X1_scaled\",\"X2_scaled\"]]))\n",
        "y = data.Admitted.astype(np.int64).values.reshape(-1,1)\n",
        "\n",
        "# define m and n\n",
        "m,n = X.shape\n",
        "\n",
        "# guess an initial value for theta\n",
        "theta = np.zeros((n,1))"
      ],
      "execution_count": 0,
      "outputs": []
    },
    {
      "cell_type": "code",
      "metadata": {
        "id": "mVYJBR4vsVIj",
        "colab_type": "code",
        "outputId": "63a69c27-4963-46be-afea-d1a3c7b62d55",
        "colab": {
          "base_uri": "https://localhost:8080/",
          "height": 35
        }
      },
      "source": [
        "X.shape"
      ],
      "execution_count": 18,
      "outputs": [
        {
          "output_type": "execute_result",
          "data": {
            "text/plain": [
              "(100, 3)"
            ]
          },
          "metadata": {
            "tags": []
          },
          "execution_count": 18
        }
      ]
    },
    {
      "cell_type": "code",
      "metadata": {
        "id": "hLlocLi2Dubu",
        "colab_type": "code",
        "colab": {}
      },
      "source": [
        "# using gradient descent\n",
        "# theta, X, y, alpha, iterations\n",
        "theta_batch, cost_history = gradient_descent_multi(theta,X,y,1,400)"
      ],
      "execution_count": 0,
      "outputs": []
    },
    {
      "cell_type": "code",
      "metadata": {
        "id": "KaXKeu0KRo6T",
        "colab_type": "code",
        "outputId": "d1f9fc36-d176-4724-87e5-3844f5ea0cc4",
        "colab": {
          "base_uri": "https://localhost:8080/",
          "height": 69
        }
      },
      "source": [
        "# value of theta\n",
        "theta_batch"
      ],
      "execution_count": 20,
      "outputs": [
        {
          "output_type": "execute_result",
          "data": {
            "text/plain": [
              "array([[1.65947664],\n",
              "       [3.8670477 ],\n",
              "       [3.60347302]])"
            ]
          },
          "metadata": {
            "tags": []
          },
          "execution_count": 20
        }
      ]
    },
    {
      "cell_type": "code",
      "metadata": {
        "id": "j8JYRzPcwm-S",
        "colab_type": "code",
        "outputId": "575e5eaf-93de-4e81-cb95-05794c56b382",
        "colab": {
          "base_uri": "https://localhost:8080/",
          "height": 69
        }
      },
      "source": [
        "# using the swiss army knife: fmin_tnc\n",
        "# https://docs.scipy.org/doc/scipy/reference/generated/scipy.optimize.fmin_tnc.html\n",
        "# see the return codes\n",
        "result = opt.fmin_tnc(func = cost_function, \n",
        "                      x0 = theta.flatten(), \n",
        "                      fprime = gradient,\n",
        "                      #approx_grad = True,\n",
        "                      args = (X, y.flatten()))\n",
        "\n",
        "# the output of above function is a tuple whose first element \n",
        "# contains the optimized values of theta\n",
        "theta_opt = result[0].reshape(-1,1)\n",
        "theta_opt"
      ],
      "execution_count": 23,
      "outputs": [
        {
          "output_type": "execute_result",
          "data": {
            "text/plain": [
              "array([[1.71787865],\n",
              "       [3.99150583],\n",
              "       [3.72363971]])"
            ]
          },
          "metadata": {
            "tags": []
          },
          "execution_count": 23
        }
      ]
    },
    {
      "cell_type": "code",
      "metadata": {
        "id": "PT4dPYOwN9Au",
        "colab_type": "code",
        "outputId": "6f3bcdb3-814b-4ecd-802c-b678c0b7ff81",
        "colab": {
          "base_uri": "https://localhost:8080/",
          "height": 417
        }
      },
      "source": [
        "fig = go.Figure(data=go.Scatter(x=np.arange(400), \n",
        "                                y=cost_history,\n",
        "                                name=\"Cost Function\"))\n",
        "fig.update_layout(width=600,\n",
        "                  height=400,\n",
        "                  yaxis=go.layout.YAxis(title_text=\"Cost Function\"),\n",
        "                  xaxis=go.layout.XAxis(title_text=\"Iterations\"),\n",
        "                  title=\"Cost Function vs #iterations (using gradient descent)\",\n",
        "                  showlegend=True\n",
        "                  )\n",
        "fig.show()"
      ],
      "execution_count": 24,
      "outputs": [
        {
          "output_type": "display_data",
          "data": {
            "text/html": [
              "<html>\n",
              "<head><meta charset=\"utf-8\" /></head>\n",
              "<body>\n",
              "    <div>\n",
              "            <script src=\"https://cdnjs.cloudflare.com/ajax/libs/mathjax/2.7.5/MathJax.js?config=TeX-AMS-MML_SVG\"></script><script type=\"text/javascript\">if (window.MathJax) {MathJax.Hub.Config({SVG: {font: \"STIX-Web\"}});}</script>\n",
              "                <script type=\"text/javascript\">window.PlotlyConfig = {MathJaxConfig: 'local'};</script>\n",
              "        <script src=\"https://cdn.plot.ly/plotly-latest.min.js\"></script>    \n",
              "            <div id=\"2de84112-498c-42ae-80fd-4409798ccd21\" class=\"plotly-graph-div\" style=\"height:400px; width:600px;\"></div>\n",
              "            <script type=\"text/javascript\">\n",
              "                \n",
              "                    window.PLOTLYENV=window.PLOTLYENV || {};\n",
              "                    \n",
              "                if (document.getElementById(\"2de84112-498c-42ae-80fd-4409798ccd21\")) {\n",
              "                    Plotly.newPlot(\n",
              "                        '2de84112-498c-42ae-80fd-4409798ccd21',\n",
              "                        [{\"name\": \"Cost Function\", \"type\": \"scatter\", \"x\": [0, 1, 2, 3, 4, 5, 6, 7, 8, 9, 10, 11, 12, 13, 14, 15, 16, 17, 18, 19, 20, 21, 22, 23, 24, 25, 26, 27, 28, 29, 30, 31, 32, 33, 34, 35, 36, 37, 38, 39, 40, 41, 42, 43, 44, 45, 46, 47, 48, 49, 50, 51, 52, 53, 54, 55, 56, 57, 58, 59, 60, 61, 62, 63, 64, 65, 66, 67, 68, 69, 70, 71, 72, 73, 74, 75, 76, 77, 78, 79, 80, 81, 82, 83, 84, 85, 86, 87, 88, 89, 90, 91, 92, 93, 94, 95, 96, 97, 98, 99, 100, 101, 102, 103, 104, 105, 106, 107, 108, 109, 110, 111, 112, 113, 114, 115, 116, 117, 118, 119, 120, 121, 122, 123, 124, 125, 126, 127, 128, 129, 130, 131, 132, 133, 134, 135, 136, 137, 138, 139, 140, 141, 142, 143, 144, 145, 146, 147, 148, 149, 150, 151, 152, 153, 154, 155, 156, 157, 158, 159, 160, 161, 162, 163, 164, 165, 166, 167, 168, 169, 170, 171, 172, 173, 174, 175, 176, 177, 178, 179, 180, 181, 182, 183, 184, 185, 186, 187, 188, 189, 190, 191, 192, 193, 194, 195, 196, 197, 198, 199, 200, 201, 202, 203, 204, 205, 206, 207, 208, 209, 210, 211, 212, 213, 214, 215, 216, 217, 218, 219, 220, 221, 222, 223, 224, 225, 226, 227, 228, 229, 230, 231, 232, 233, 234, 235, 236, 237, 238, 239, 240, 241, 242, 243, 244, 245, 246, 247, 248, 249, 250, 251, 252, 253, 254, 255, 256, 257, 258, 259, 260, 261, 262, 263, 264, 265, 266, 267, 268, 269, 270, 271, 272, 273, 274, 275, 276, 277, 278, 279, 280, 281, 282, 283, 284, 285, 286, 287, 288, 289, 290, 291, 292, 293, 294, 295, 296, 297, 298, 299, 300, 301, 302, 303, 304, 305, 306, 307, 308, 309, 310, 311, 312, 313, 314, 315, 316, 317, 318, 319, 320, 321, 322, 323, 324, 325, 326, 327, 328, 329, 330, 331, 332, 333, 334, 335, 336, 337, 338, 339, 340, 341, 342, 343, 344, 345, 346, 347, 348, 349, 350, 351, 352, 353, 354, 355, 356, 357, 358, 359, 360, 361, 362, 363, 364, 365, 366, 367, 368, 369, 370, 371, 372, 373, 374, 375, 376, 377, 378, 379, 380, 381, 382, 383, 384, 385, 386, 387, 388, 389, 390, 391, 392, 393, 394, 395, 396, 397, 398, 399], \"y\": [0.5594032425456551, 0.48058766485338694, 0.43046342235936147, 0.3960564700549832, 0.3709669278894236, 0.35181143821554683, 0.33666258234791707, 0.3243484792498155, 0.31411698799771764, 0.3054632898746155, 0.2980357306412133, 0.29158158307561594, 0.28591434088214984, 0.2808932044202075, 0.2764097679797487, 0.2723791206465764, 0.26873374092404084, 0.2654192108626502, 0.2623911455046634, 0.25961295257859074, 0.25705417096290983, 0.2546892200293838, 0.2524964455319526, 0.2504573827607223, 0.248556181074808, 0.24677914982076546, 0.24511439661778678, 0.24355153668345658, 0.2420814573412626, 0.24069612578706726, 0.23938843105923618, 0.2381520532694505, 0.23698135472344692, 0.23587128874252009, 0.23481732289271778, 0.23381537401406827, 0.2328617529706419, 0.2319531174528029, 0.231086431484239, 0.2302589305394015, 0.22946809137760052, 0.2287116058600059, 0.22798735814416746, 0.22729340475420315, 0.22662795710875624, 0.22598936615723061, 0.22537610883082468, 0.22478677606094838, 0.22422006215565937, 0.22367475535631928, 0.2231497294229502, 0.22264393611874897, 0.2221563984826461, 0.22168620479432005, 0.22123250314918913, 0.22079449657201355, 0.2203714386071922, 0.2199626293318924, 0.21956741174504232, 0.21918516849112554, 0.21881531888279857, 0.2184573161907335, 0.2181106451728751, 0.21777481981858293, 0.21744938128598013, 0.21713389601330818, 0.21682795398725652, 0.21653116715312215, 0.21624316795331633, 0.21596360798218953, 0.21569215674642508, 0.21542850052138057, 0.21517234129475232, 0.21492339578981784, 0.21468139456129284, 0.21444608115753053, 0.214217211343408, 0.21399455237879106, 0.21377788234795822, 0.2135669895358024, 0.21336167184701563, 0.2131617362648166, 0.21296699834608987, 0.21277728175009025, 0.212592417798118, 0.21241224506179845, 0.2122366089778061, 0.21206536148705835, 0.21189836069657036, 0.2117354705623195, 0.2115765605915978, 0.21142150556346204, 0.21127018526600186, 0.21112248424924862, 0.21097829159264225, 0.21083750068605972, 0.21070000902348426, 0.21056571800846705, 0.21043453277059815, 0.2103063619922616, 0.21018111774500448, 0.21005871533490036, 0.20993907315633134, 0.20982211255365601, 0.20970775769026923, 0.20959593542459382, 0.20948657519257802, 0.20937960889630114, 0.20927497079831958, 0.20917259742140754, 0.20907242745337354, 0.20897440165665365, 0.20887846278240244, 0.20878455548882183, 0.20869262626348473, 0.20860262334942645, 0.20851449667479155, 0.2084281977858371, 0.20834367978310597, 0.2082608972605968, 0.20817980624776636, 0.20810036415421118, 0.2080225297168848, 0.20794626294971566, 0.2078715250954982, 0.20779827857993932, 0.20772648696774607, 0.20765611492065167, 0.20758712815727787, 0.20751949341474235, 0.20745317841192276, 0.20738815181429296, 0.20732438320025512, 0.20726184302889292, 0.20720050260907613, 0.2071403340698509, 0.20708131033205468, 0.20702340508109476, 0.20696659274083729, 0.20691084844855323, 0.2068561480308712, 0.20680246798069138, 0.2067497854350146, 0.2066980781536457, 0.20664732449873047, 0.2065975034150884, 0.2065485944113059, 0.2065005775415545, 0.2064534333881041, 0.20640714304449778, 0.2063616880993617, 0.20631705062081973, 0.2062732131414893, 0.20623015864403152, 0.20618787054723142, 0.2061463326925886, 0.20610552933139328, 0.20606544511226893, 0.20602606506916277, 0.20598737460976316, 0.2059493595043294, 0.20591200587491376, 0.20587530018496222, 0.2058392292292772, 0.20580378012432832, 0.20576894029889656, 0.2057346974850396, 0.20570103970936435, 0.2056679552845955, 0.20563543280142813, 0.20560346112065322, 0.20557202936554558, 0.20554112691450444, 0.20551074339393602, 0.20548086867137041, 0.20545149284880176, 0.2054226062562461, 0.2053941994455056, 0.20536626318413434, 0.2053387884495954, 0.20531176642360577, 0.20528518848665747, 0.2052590462127132, 0.20523333136406707, 0.2052080358863651, 0.2051831519037811, 0.20515867171433985, 0.2051345877853853, 0.2051108927491859, 0.20508757939867434, 0.20506464068331537, 0.20504206970509892, 0.20501985971465214, 0.2049980041074682, 0.2049764964202467, 0.20495533032734173, 0.20493449963731514, 0.2049139982895899, 0.2048938203512014, 0.20487396001364278, 0.20485441158980092, 0.20483516951098138, 0.2048162283240173, 0.20479758268846138, 0.2047792273738571, 0.20476115725708713, 0.20474336731979603, 0.20472585264588522, 0.20470860841907776, 0.2046916299205501, 0.20467491252663006, 0.20465845170655744, 0.2046422430203063, 0.2046262821164665, 0.2046105647301825, 0.204595086681148, 0.2045798438716552, 0.20456483228469535, 0.20455004798211007, 0.20453548710279332, 0.2045211458609387, 0.20450702054433476, 0.20449310751270433, 0.2044794031960873, 0.2044659040932658, 0.2044526067702301, 0.204439507858684, 0.20442660405458896, 0.20441389211674563, 0.20440136886541133, 0.2043890311809528, 0.20437687600253335, 0.20436490032683277, 0.20435310120679995, 0.20434147575043626, 0.2043300211196095, 0.2043187345288974, 0.20430761324446006, 0.2042966545829396, 0.20428585591038745, 0.20427521464121726, 0.20426472823718445, 0.20425439420638963, 0.20424421010230656, 0.20423417352283352, 0.20422428210936758, 0.20421453354590133, 0.20420492555814032, 0.20419545591264274, 0.20418612241597855, 0.20417692291390885, 0.2041678552905848, 0.20415891746776493, 0.20415010740405112, 0.2041414230941425, 0.2041328625681058, 0.204124423890664, 0.2041161051605003, 0.20410790450957858, 0.20409982010247948, 0.20409185013575123, 0.20408399283727607, 0.20407624646565015, 0.20406860930957804, 0.20406107968728088, 0.20405365594591754, 0.20404633646101902, 0.20403911963593552, 0.2040320039012955, 0.20402498771447705, 0.20401806955909096, 0.20401124794447534, 0.20400452140520023, 0.2039978885005853, 0.20399134781422568, 0.20398489795352973, 0.20397853754926623, 0.2039722652551215, 0.2039660797472662, 0.20395997972393098, 0.20395396390499193, 0.20394803103156442, 0.20394217986560592, 0.20393640918952652, 0.20393071780580915, 0.2039251045366363, 0.2039195682235256, 0.20391410772697263, 0.20390872192610118, 0.20390340971832138, 0.20389817001899424, 0.20389300176110348, 0.2038879038949342, 0.2038828753877581, 0.2038779152235255, 0.20387302240256297, 0.203868195941278, 0.20386343487186886, 0.20385873824204148, 0.20385410511473073, 0.20384953456782867, 0.20384502569391696, 0.20384057760000615, 0.20383618940727896, 0.20383186025083916, 0.2038275892794658, 0.2038233756553716, 0.20381921855396723, 0.20381511716362888, 0.20381107068547163, 0.20380707833312664, 0.20380313933252303, 0.2037992529216739, 0.20379541835046652, 0.20379163488045662, 0.20378790178466674, 0.2037842183473887, 0.20378058386398945, 0.20377699764072088, 0.20377345899453347, 0.20376996725289348, 0.2037665217536031, 0.2037631218446252, 0.20375976688391004, 0.2037564562392262, 0.20375318928799466, 0.2037499654171256, 0.20374678402285892, 0.20374364451060653, 0.20374054629479965, 0.20373748879873663, 0.2037344714544356, 0.20373149370248872, 0.20372855499191944, 0.20372565478004256, 0.2037227925323266, 0.2037199677222593, 0.20371717983121454, 0.2037144283483231, 0.20371171277034436, 0.20370903260154183, 0.20370638735355928, 0.203703776545301, 0.20370119970281228, 0.20369865635916407, 0.2036961460543379, 0.20369366833511415, 0.2036912227549617, 0.2036888088739301, 0.20368642625854258, 0.20368407448169265, 0.20368175312254105, 0.20367946176641527, 0.20367720000471082, 0.20367496743479385, 0.20367276365990652, 0.20367058828907222, 0.20366844093700462, 0.20366632122401665, 0.203664228775932, 0.20366216322399766, 0.20366012420479845, 0.20365811136017267, 0.20365612433712932, 0.20365416278776693, 0.20365222636919358, 0.2036503147434485, 0.20364842757742474, 0.20364656454279367, 0.20364472531592998, 0.20364290957783912, 0.20364111701408485, 0.20363934731471844, 0.2036376001742097, 0.20363587529137805, 0.20363417236932588, 0.20363249111537182, 0.20363083124098677, 0.20362919246172928, 0.2036275744971832, 0.2036259770708958, 0.20362439991031767, 0.20362284274674236, 0.20362130531524833, 0.20361978735464084, 0.20361828860739606, 0.2036168088196044, 0.2036153477409164, 0.20361390512448868, 0.20361248072693056, 0.2036110743082528, 0.20360968563181536, 0.20360831446427785, 0.20360696057554947, 0.20360562373874014, 0.20360430373011315, 0.2036030003290373, 0.2036017133179411, 0.20360044248226664, 0.20359918761042506]}],\n",
              "                        {\"height\": 400, \"showlegend\": true, \"template\": {\"data\": {\"bar\": [{\"error_x\": {\"color\": \"#2a3f5f\"}, \"error_y\": {\"color\": \"#2a3f5f\"}, \"marker\": {\"line\": {\"color\": \"#E5ECF6\", \"width\": 0.5}}, \"type\": \"bar\"}], \"barpolar\": [{\"marker\": {\"line\": {\"color\": \"#E5ECF6\", \"width\": 0.5}}, \"type\": \"barpolar\"}], \"carpet\": [{\"aaxis\": {\"endlinecolor\": \"#2a3f5f\", \"gridcolor\": \"white\", \"linecolor\": \"white\", \"minorgridcolor\": \"white\", \"startlinecolor\": \"#2a3f5f\"}, \"baxis\": {\"endlinecolor\": \"#2a3f5f\", \"gridcolor\": \"white\", \"linecolor\": \"white\", \"minorgridcolor\": \"white\", \"startlinecolor\": \"#2a3f5f\"}, \"type\": \"carpet\"}], \"choropleth\": [{\"colorbar\": {\"outlinewidth\": 0, \"ticks\": \"\"}, \"type\": \"choropleth\"}], \"contour\": [{\"colorbar\": {\"outlinewidth\": 0, \"ticks\": \"\"}, \"colorscale\": [[0.0, \"#0d0887\"], [0.1111111111111111, \"#46039f\"], [0.2222222222222222, \"#7201a8\"], [0.3333333333333333, \"#9c179e\"], [0.4444444444444444, \"#bd3786\"], [0.5555555555555556, \"#d8576b\"], [0.6666666666666666, \"#ed7953\"], [0.7777777777777778, \"#fb9f3a\"], [0.8888888888888888, \"#fdca26\"], [1.0, \"#f0f921\"]], \"type\": \"contour\"}], \"contourcarpet\": [{\"colorbar\": {\"outlinewidth\": 0, \"ticks\": \"\"}, \"type\": \"contourcarpet\"}], \"heatmap\": [{\"colorbar\": {\"outlinewidth\": 0, \"ticks\": \"\"}, \"colorscale\": [[0.0, \"#0d0887\"], [0.1111111111111111, \"#46039f\"], [0.2222222222222222, \"#7201a8\"], [0.3333333333333333, \"#9c179e\"], [0.4444444444444444, \"#bd3786\"], [0.5555555555555556, \"#d8576b\"], [0.6666666666666666, \"#ed7953\"], [0.7777777777777778, \"#fb9f3a\"], [0.8888888888888888, \"#fdca26\"], [1.0, \"#f0f921\"]], \"type\": \"heatmap\"}], \"heatmapgl\": [{\"colorbar\": {\"outlinewidth\": 0, \"ticks\": \"\"}, \"colorscale\": [[0.0, \"#0d0887\"], [0.1111111111111111, \"#46039f\"], [0.2222222222222222, \"#7201a8\"], [0.3333333333333333, \"#9c179e\"], [0.4444444444444444, \"#bd3786\"], [0.5555555555555556, \"#d8576b\"], [0.6666666666666666, \"#ed7953\"], [0.7777777777777778, \"#fb9f3a\"], [0.8888888888888888, \"#fdca26\"], [1.0, \"#f0f921\"]], \"type\": \"heatmapgl\"}], \"histogram\": [{\"marker\": {\"colorbar\": {\"outlinewidth\": 0, \"ticks\": \"\"}}, \"type\": \"histogram\"}], \"histogram2d\": [{\"colorbar\": {\"outlinewidth\": 0, \"ticks\": \"\"}, \"colorscale\": [[0.0, \"#0d0887\"], [0.1111111111111111, \"#46039f\"], [0.2222222222222222, \"#7201a8\"], [0.3333333333333333, \"#9c179e\"], [0.4444444444444444, \"#bd3786\"], [0.5555555555555556, \"#d8576b\"], [0.6666666666666666, \"#ed7953\"], [0.7777777777777778, \"#fb9f3a\"], [0.8888888888888888, \"#fdca26\"], [1.0, \"#f0f921\"]], \"type\": \"histogram2d\"}], \"histogram2dcontour\": [{\"colorbar\": {\"outlinewidth\": 0, \"ticks\": \"\"}, \"colorscale\": [[0.0, \"#0d0887\"], [0.1111111111111111, \"#46039f\"], [0.2222222222222222, \"#7201a8\"], [0.3333333333333333, \"#9c179e\"], [0.4444444444444444, \"#bd3786\"], [0.5555555555555556, \"#d8576b\"], [0.6666666666666666, \"#ed7953\"], [0.7777777777777778, \"#fb9f3a\"], [0.8888888888888888, \"#fdca26\"], [1.0, \"#f0f921\"]], \"type\": \"histogram2dcontour\"}], \"mesh3d\": [{\"colorbar\": {\"outlinewidth\": 0, \"ticks\": \"\"}, \"type\": \"mesh3d\"}], \"parcoords\": [{\"line\": {\"colorbar\": {\"outlinewidth\": 0, \"ticks\": \"\"}}, \"type\": \"parcoords\"}], \"scatter\": [{\"marker\": {\"colorbar\": {\"outlinewidth\": 0, \"ticks\": \"\"}}, \"type\": \"scatter\"}], \"scatter3d\": [{\"line\": {\"colorbar\": {\"outlinewidth\": 0, \"ticks\": \"\"}}, \"marker\": {\"colorbar\": {\"outlinewidth\": 0, \"ticks\": \"\"}}, \"type\": \"scatter3d\"}], \"scattercarpet\": [{\"marker\": {\"colorbar\": {\"outlinewidth\": 0, \"ticks\": \"\"}}, \"type\": \"scattercarpet\"}], \"scattergeo\": [{\"marker\": {\"colorbar\": {\"outlinewidth\": 0, \"ticks\": \"\"}}, \"type\": \"scattergeo\"}], \"scattergl\": [{\"marker\": {\"colorbar\": {\"outlinewidth\": 0, \"ticks\": \"\"}}, \"type\": \"scattergl\"}], \"scattermapbox\": [{\"marker\": {\"colorbar\": {\"outlinewidth\": 0, \"ticks\": \"\"}}, \"type\": \"scattermapbox\"}], \"scatterpolar\": [{\"marker\": {\"colorbar\": {\"outlinewidth\": 0, \"ticks\": \"\"}}, \"type\": \"scatterpolar\"}], \"scatterpolargl\": [{\"marker\": {\"colorbar\": {\"outlinewidth\": 0, \"ticks\": \"\"}}, \"type\": \"scatterpolargl\"}], \"scatterternary\": [{\"marker\": {\"colorbar\": {\"outlinewidth\": 0, \"ticks\": \"\"}}, \"type\": \"scatterternary\"}], \"surface\": [{\"colorbar\": {\"outlinewidth\": 0, \"ticks\": \"\"}, \"colorscale\": [[0.0, \"#0d0887\"], [0.1111111111111111, \"#46039f\"], [0.2222222222222222, \"#7201a8\"], [0.3333333333333333, \"#9c179e\"], [0.4444444444444444, \"#bd3786\"], [0.5555555555555556, \"#d8576b\"], [0.6666666666666666, \"#ed7953\"], [0.7777777777777778, \"#fb9f3a\"], [0.8888888888888888, \"#fdca26\"], [1.0, \"#f0f921\"]], \"type\": \"surface\"}], \"table\": [{\"cells\": {\"fill\": {\"color\": \"#EBF0F8\"}, \"line\": {\"color\": \"white\"}}, \"header\": {\"fill\": {\"color\": \"#C8D4E3\"}, \"line\": {\"color\": \"white\"}}, \"type\": \"table\"}]}, \"layout\": {\"annotationdefaults\": {\"arrowcolor\": \"#2a3f5f\", \"arrowhead\": 0, \"arrowwidth\": 1}, \"colorscale\": {\"diverging\": [[0, \"#8e0152\"], [0.1, \"#c51b7d\"], [0.2, \"#de77ae\"], [0.3, \"#f1b6da\"], [0.4, \"#fde0ef\"], [0.5, \"#f7f7f7\"], [0.6, \"#e6f5d0\"], [0.7, \"#b8e186\"], [0.8, \"#7fbc41\"], [0.9, \"#4d9221\"], [1, \"#276419\"]], \"sequential\": [[0.0, \"#0d0887\"], [0.1111111111111111, \"#46039f\"], [0.2222222222222222, \"#7201a8\"], [0.3333333333333333, \"#9c179e\"], [0.4444444444444444, \"#bd3786\"], [0.5555555555555556, \"#d8576b\"], [0.6666666666666666, \"#ed7953\"], [0.7777777777777778, \"#fb9f3a\"], [0.8888888888888888, \"#fdca26\"], [1.0, \"#f0f921\"]], \"sequentialminus\": [[0.0, \"#0d0887\"], [0.1111111111111111, \"#46039f\"], [0.2222222222222222, \"#7201a8\"], [0.3333333333333333, \"#9c179e\"], [0.4444444444444444, \"#bd3786\"], [0.5555555555555556, \"#d8576b\"], [0.6666666666666666, \"#ed7953\"], [0.7777777777777778, \"#fb9f3a\"], [0.8888888888888888, \"#fdca26\"], [1.0, \"#f0f921\"]]}, \"colorway\": [\"#636efa\", \"#EF553B\", \"#00cc96\", \"#ab63fa\", \"#FFA15A\", \"#19d3f3\", \"#FF6692\", \"#B6E880\", \"#FF97FF\", \"#FECB52\"], \"font\": {\"color\": \"#2a3f5f\"}, \"geo\": {\"bgcolor\": \"white\", \"lakecolor\": \"white\", \"landcolor\": \"#E5ECF6\", \"showlakes\": true, \"showland\": true, \"subunitcolor\": \"white\"}, \"hoverlabel\": {\"align\": \"left\"}, \"hovermode\": \"closest\", \"mapbox\": {\"style\": \"light\"}, \"paper_bgcolor\": \"white\", \"plot_bgcolor\": \"#E5ECF6\", \"polar\": {\"angularaxis\": {\"gridcolor\": \"white\", \"linecolor\": \"white\", \"ticks\": \"\"}, \"bgcolor\": \"#E5ECF6\", \"radialaxis\": {\"gridcolor\": \"white\", \"linecolor\": \"white\", \"ticks\": \"\"}}, \"scene\": {\"xaxis\": {\"backgroundcolor\": \"#E5ECF6\", \"gridcolor\": \"white\", \"gridwidth\": 2, \"linecolor\": \"white\", \"showbackground\": true, \"ticks\": \"\", \"zerolinecolor\": \"white\"}, \"yaxis\": {\"backgroundcolor\": \"#E5ECF6\", \"gridcolor\": \"white\", \"gridwidth\": 2, \"linecolor\": \"white\", \"showbackground\": true, \"ticks\": \"\", \"zerolinecolor\": \"white\"}, \"zaxis\": {\"backgroundcolor\": \"#E5ECF6\", \"gridcolor\": \"white\", \"gridwidth\": 2, \"linecolor\": \"white\", \"showbackground\": true, \"ticks\": \"\", \"zerolinecolor\": \"white\"}}, \"shapedefaults\": {\"line\": {\"color\": \"#2a3f5f\"}}, \"ternary\": {\"aaxis\": {\"gridcolor\": \"white\", \"linecolor\": \"white\", \"ticks\": \"\"}, \"baxis\": {\"gridcolor\": \"white\", \"linecolor\": \"white\", \"ticks\": \"\"}, \"bgcolor\": \"#E5ECF6\", \"caxis\": {\"gridcolor\": \"white\", \"linecolor\": \"white\", \"ticks\": \"\"}}, \"title\": {\"x\": 0.05}, \"xaxis\": {\"automargin\": true, \"gridcolor\": \"white\", \"linecolor\": \"white\", \"ticks\": \"\", \"zerolinecolor\": \"white\", \"zerolinewidth\": 2}, \"yaxis\": {\"automargin\": true, \"gridcolor\": \"white\", \"linecolor\": \"white\", \"ticks\": \"\", \"zerolinecolor\": \"white\", \"zerolinewidth\": 2}}}, \"title\": {\"text\": \"Cost Function vs #iterations (using gradient descent)\"}, \"width\": 600, \"xaxis\": {\"title\": {\"text\": \"Iterations\"}}, \"yaxis\": {\"title\": {\"text\": \"Cost Function\"}}},\n",
              "                        {\"responsive\": true}\n",
              "                    ).then(function(){\n",
              "                            \n",
              "var gd = document.getElementById('2de84112-498c-42ae-80fd-4409798ccd21');\n",
              "var x = new MutationObserver(function (mutations, observer) {{\n",
              "        var display = window.getComputedStyle(gd).display;\n",
              "        if (!display || display === 'none') {{\n",
              "            console.log([gd, 'removed!']);\n",
              "            Plotly.purge(gd);\n",
              "            observer.disconnect();\n",
              "        }}\n",
              "}});\n",
              "\n",
              "// Listen for the removal of the full notebook cells\n",
              "var notebookContainer = gd.closest('#notebook-container');\n",
              "if (notebookContainer) {{\n",
              "    x.observe(notebookContainer, {childList: true});\n",
              "}}\n",
              "\n",
              "// Listen for the clearing of the current output cell\n",
              "var outputEl = gd.closest('.output');\n",
              "if (outputEl) {{\n",
              "    x.observe(outputEl, {childList: true});\n",
              "}}\n",
              "\n",
              "                        })\n",
              "                };\n",
              "                \n",
              "            </script>\n",
              "        </div>\n",
              "</body>\n",
              "</html>"
            ]
          },
          "metadata": {
            "tags": []
          }
        }
      ]
    },
    {
      "cell_type": "markdown",
      "metadata": {
        "id": "C48qaFvUSB2P",
        "colab_type": "text"
      },
      "source": [
        "## 2.7 Plotting the decision boundary"
      ]
    },
    {
      "cell_type": "markdown",
      "metadata": {
        "id": "akHApw1aTrVo",
        "colab_type": "text"
      },
      "source": [
        "$\n",
        "\\theta_0 + \\theta_1 x_1 + \\theta_2 x_2 = 0\n",
        "$ is the decision boundary\n",
        "\n",
        "Since we plot $x_1$ against $x_2$ the boundary line will be the equation:\n",
        "\n",
        "$\n",
        "\\displaystyle x_2 = \\frac{-(\\theta_0 + \\theta_1 x_1)}{\\theta_2}\n",
        "$\n",
        "\n",
        "\n"
      ]
    },
    {
      "cell_type": "code",
      "metadata": {
        "id": "cieISOCOU5_D",
        "colab_type": "code",
        "outputId": "3798a943-1dd7-49cd-b425-75482a1dc73f",
        "colab": {
          "base_uri": "https://localhost:8080/",
          "height": 517
        }
      },
      "source": [
        "fig = px.scatter(data, \n",
        "                 x=\"X1_scaled\",\n",
        "                 y=\"X2_scaled\",\n",
        "                 color_discrete_sequence=[\"red\",\"green\"],\n",
        "                 symbol_sequence=[\"cross\",\"circle\"],\n",
        "                 color=\"Admitted\",\n",
        "                 width=800,\n",
        "                 height=500,\n",
        "                 title=\"Admitted vs not Admitted\",symbol=\"Admitted\",\n",
        "                 )\n",
        "fig.add_scatter(x=data.X1_scaled, \n",
        "                y=-(theta_batch[0]+theta_batch[1]*data.X1_scaled)/theta_batch[2],\n",
        "                name=\"Decision Boundary BGD\")\n",
        "\n",
        "fig.add_scatter(x=data.X1_scaled, \n",
        "                y=-(theta_opt[0]+theta_opt[1]*data.X1_scaled)/theta_opt[2],\n",
        "                name=\"Decision Boundary fmin_tnc\")\n",
        "fig.show()"
      ],
      "execution_count": 0,
      "outputs": [
        {
          "output_type": "display_data",
          "data": {
            "text/html": [
              "<html>\n",
              "<head><meta charset=\"utf-8\" /></head>\n",
              "<body>\n",
              "    <div>\n",
              "            <script src=\"https://cdnjs.cloudflare.com/ajax/libs/mathjax/2.7.5/MathJax.js?config=TeX-AMS-MML_SVG\"></script><script type=\"text/javascript\">if (window.MathJax) {MathJax.Hub.Config({SVG: {font: \"STIX-Web\"}});}</script>\n",
              "                <script type=\"text/javascript\">window.PlotlyConfig = {MathJaxConfig: 'local'};</script>\n",
              "        <script src=\"https://cdn.plot.ly/plotly-latest.min.js\"></script>    \n",
              "            <div id=\"58c43772-eb01-4d30-8074-efefa412c9f5\" class=\"plotly-graph-div\" style=\"height:500px; width:800px;\"></div>\n",
              "            <script type=\"text/javascript\">\n",
              "                \n",
              "                    window.PLOTLYENV=window.PLOTLYENV || {};\n",
              "                    \n",
              "                if (document.getElementById(\"58c43772-eb01-4d30-8074-efefa412c9f5\")) {\n",
              "                    Plotly.newPlot(\n",
              "                        '58c43772-eb01-4d30-8074-efefa412c9f5',\n",
              "                        [{\"hoverlabel\": {\"namelength\": 0}, \"hovertemplate\": \"Admitted=0<br>X1_scaled=%{x}<br>X2_scaled=%{y}\", \"legendgroup\": \"Admitted=0\", \"marker\": {\"color\": \"red\", \"symbol\": \"cross\"}, \"mode\": \"markers\", \"name\": \"Admitted=0\", \"showlegend\": true, \"type\": \"scatter\", \"x\": [-1.602247631682213, -1.8262556392853804, -1.5390396905799402, -1.061997277575394, 1.5607546086751352, 0.4839386366508191, -1.34839922267985, 0.11893077213574416, 0.08924029989454053, -0.7804209629456741, -1.6235071382669581, 1.418860557379763, -0.1970006586460275, -1.387268471382328, -0.6991639566514156, -1.3123181372228592, -0.5686352280046247, -1.6388248216323893, 0.4723478582089344, -1.624975110547491, -0.7281019520437483, 0.8638371121949252, -0.7539258551520496, -0.17672918047459357, -1.6073686159111964, -0.7932455168770332, -0.8293919053323263, -1.7079494328019598, -1.5680312218728403, -0.48502703957063864, -1.8380263127595429, -1.0834332812687453, 0.04734441648269214, -0.8559464384884553, -1.7004273404984727, -0.268002774987531, 0.8564979004513702, -1.2173545220202424, -0.6867664492920015, -0.5248839086931132], \"xaxis\": \"x\", \"y\": [0.6383411191827778, -1.2075414011337826, 0.36129429795054324, -0.5357393992539935, -1.5141845155283413, -1.9264162630578543, 0.5308278074215464, -1.0569934599886754, -1.2646847230754836, -0.9392389806846798, -1.1905301911637454, -1.4830647958414673, -0.8635048564568241, -0.06632456986006763, -0.16735723593634586, 0.2674876899602161, -0.7576196987909415, 1.7657155736184151, -1.3331026797396976, 0.48760951316296836, -1.0473817964635164, -1.3847618949646643, -1.1032827792710826, -0.765888868339136, -0.31507682106532875, -0.8879276783696388, -0.34684550890234395, 1.5888117023577002, -1.0384998646255825, -1.458142607992137, -0.8993700317920093, 0.012335995231912245, -1.3591344067812554, -0.7755039916868566, -1.2393335072722187, -1.282534122082009, -1.2710969523502773, 0.6826953293321187, -0.29489455223632305, -1.6577554670038688], \"yaxis\": \"y\"}, {\"hoverlabel\": {\"namelength\": 0}, \"hovertemplate\": \"Admitted=1<br>X1_scaled=%{x}<br>X2_scaled=%{y}\", \"legendgroup\": \"Admitted=1\", \"marker\": {\"color\": \"green\", \"symbol\": \"circle\"}, \"mode\": \"markers\", \"name\": \"Admitted=1\", \"showlegend\": true, \"type\": \"scatter\", \"x\": [-0.28210128866936623, 0.6915282599330196, -0.23437234370160145, 0.48451130114206736, 0.5399866647396586, 0.9704483205014495, 0.8606502219745167, 0.1921581996360106, -0.6029342906126648, 0.17694981879436422, 0.2591455340495779, 0.5854394442965613, 1.241304198053625, 0.634265590865332, -0.17423247622219282, 0.7513115061285496, -0.22029097796152874, 1.0206376266632986, -0.7023960198809316, -0.075786835672144, 0.9430512396754382, 1.4875037306035783, 0.5965057459066474, 1.659410417605494, -0.18445679710035143, 1.3388316657201953, 0.7386382567789204, 1.736934922368421, 1.2862374370547554, 1.65290417524977, 0.4444272787260229, 0.31776703443820226, 0.5036669180785477, -1.30092095634919, 0.7559287629976349, 0.056942428152965435, -0.08289755761756115, 0.34617677916130635, -0.26788245660684173, -0.3513985811087493, 1.765618350591358, -0.9493467469311007, -0.784378905562128, 1.2019006714433877, 1.5077064724242686, 0.08651466948084834, -0.4341564876522657, 0.7604318050817038, 0.14587539019305634, 0.5079069815059397, 0.6710066892041324, 1.4694756177998276, 1.28116720661858, 0.4570301917754443, 1.2500348262074328, 0.9217074245698057, -1.2077347045894595, 1.739129156306381, -0.5322257753722129, 0.4716578021852942], \"xaxis\": \"x\", \"y\": [1.0863682965534438, 0.49337793947471853, 1.6381841338799492, -1.063730237704855, 1.1465110513167858, -1.2270985313943377, 0.5549035901534553, 1.7034783396987379, 1.2431479158860657, -0.7291397514875965, 1.444330233505406, -1.0084587263134468, -0.02285778736770094, 0.14875154676865363, 0.20186768051336446, -1.157425140073187, 0.35619356391808765, -0.49595428894428417, 0.17365739863888974, 0.7942862022939778, -0.5361896820840912, -0.03532121963686229, 0.22911224370045993, 1.10904425631975, 1.6521053513571027, 1.2155076961899578, 0.42949041310491903, -0.2824808007426112, -1.2348213176495564, 0.14275968889359084, 0.19484284074810362, 0.6615362452214331, 1.0566967858797773, 1.6935535106725697, 1.4004636536193753, -0.28289384138743806, 0.6387194503162054, 1.622833213919223, 0.3717217652047204, 0.5211811847651523, 0.3324702528076444, 1.2035860145627317, 0.5185532918292654, 0.19371884195291553, -1.1102269212509437, 0.019868162678108002, -0.3627824921751842, 1.337946850337524, 1.0477388176565572, 1.3089787890153695, 1.6455396754591984, 0.5915263663101539, 1.1512824836560027, 1.007220428405087, -1.1284005184800912, -0.9649574825974411, 1.1293815207702607, 0.13809960506744343, -0.06977206604565121, 1.2605881058052026], \"yaxis\": \"y\"}, {\"name\": \"Decision Boundary BGD\", \"type\": \"scatter\", \"x\": [-1.602247631682213, -1.8262556392853804, -1.5390396905799402, -0.28210128866936623, 0.6915282599330196, -1.061997277575394, -0.23437234370160145, 0.48451130114206736, 0.5399866647396586, 0.9704483205014495, 1.5607546086751352, 0.4839386366508191, 0.8606502219745167, 0.1921581996360106, -1.34839922267985, -0.6029342906126648, 0.17694981879436422, 0.11893077213574416, 0.2591455340495779, 0.5854394442965613, 0.08924029989454053, 1.241304198053625, -0.7804209629456741, -1.6235071382669581, 0.634265590865332, -0.17423247622219282, 0.7513115061285496, 1.418860557379763, -0.1970006586460275, -1.387268471382328, -0.22029097796152874, 1.0206376266632986, -0.6991639566514156, -0.7023960198809316, -1.3123181372228592, -0.5686352280046247, -1.6388248216323893, -0.075786835672144, 0.4723478582089344, -1.624975110547491, 0.9430512396754382, -0.7281019520437483, 1.4875037306035783, 0.8638371121949252, -0.7539258551520496, -0.17672918047459357, 0.5965057459066474, 1.659410417605494, -0.18445679710035143, 1.3388316657201953, 0.7386382567789204, 1.736934922368421, 1.2862374370547554, -1.6073686159111964, -0.7932455168770332, -0.8293919053323263, 1.65290417524977, -1.7079494328019598, 0.4444272787260229, 0.31776703443820226, 0.5036669180785477, -1.5680312218728403, -0.48502703957063864, -1.8380263127595429, -1.0834332812687453, 0.04734441648269214, -1.30092095634919, -0.8559464384884553, 0.7559287629976349, 0.056942428152965435, -1.7004273404984727, -0.08289755761756115, 0.34617677916130635, -0.26788245660684173, -0.3513985811087493, 1.765618350591358, -0.9493467469311007, -0.784378905562128, -0.268002774987531, 0.8564979004513702, 1.2019006714433877, 1.5077064724242686, 0.08651466948084834, -0.4341564876522657, 0.7604318050817038, 0.14587539019305634, -1.2173545220202424, 0.5079069815059397, 0.6710066892041324, -0.6867664492920015, 1.4694756177998276, 1.28116720661858, -0.5248839086931132, 0.4570301917754443, 1.2500348262074328, 0.9217074245698057, -1.2077347045894595, 1.739129156306381, -0.5322257753722129, 0.4716578021852942], \"y\": [1.2589219774476694, 1.4993149667539452, 1.191090715199277, -0.15778597471090766, -1.2026312914911723, 0.6791552138077619, -0.20900603545784976, -0.9804721548900778, -1.0400052431522715, -1.501952855282378, -2.1354368755132587, -0.9798576030693921, -1.3841236160178922, -0.666734995419854, 0.9865059217733397, 0.18651423683280316, -0.6504142032653687, -0.5881513751986421, -0.7386220932858542, -1.0887826492230377, -0.5562892045006111, -1.792620384415035, 0.37698310524816725, 1.2817365026682899, -1.1411801659705918, -0.27354481098889866, -1.2667873608082825, -1.9831640370525043, -0.24911125840075968, 1.0282182470944532, -0.2241173774138379, -1.5558132394202002, 0.28978258570352816, 0.29325105698579884, 0.9477856988526188, 0.14970638215398105, 1.2981745922386687, -0.379191220995461, -0.9674190214854361, 1.283311849230727, -1.4725518252544794, 0.32083723991579, -2.0568280894375146, -1.3875436101282461, 0.34855002273182883, -0.27086548624033185, -1.1006583913140355, -2.2413088265874865, -0.26257263599468494, -1.8972814621269125, -1.25318713138801, -2.324503832176139, -1.8408402483309279, 1.264417534147484, 0.390745706367054, 0.42953600884939663, -2.2343266875747845, 1.3723552971674156, -0.9374562016877137, -0.8015314413347189, -1.0010289022431635, 1.2222028211754747, 0.059982704133802536, 1.5119466017248462, 0.7021591459518028, -0.5113288624094339, 0.9355548754583976, 0.45803286337409266, -1.271742345199379, -0.5216289170436456, 1.364283004243511, -0.3715603879601852, -0.8320192061806692, -0.1730448379119473, -0.08341995780563104, -2.3552852989988744, 0.5582649023484807, 0.38123055009289614, -0.1729157188884273, -1.3796675744942415, -1.7503347016289772, -2.078508553231747, -0.5533642088725428, 0.0053912447740932165, -1.2765747606078448, -0.6170668472383192, 0.845876005631611, -1.0055791035197388, -1.180608678167828, 0.2764782673179296, -2.037481317084082, -1.8353991577910618, 0.10275488900013122, -0.9509809500854787, -1.8019896110907767, -1.449646824797831, 0.8355525502627155, -2.3268585625325557, 0.11063377376394531, -0.9666784915727487]}, {\"name\": \"Decision Boundary fmin_tnc\", \"type\": \"scatter\", \"x\": [-1.602247631682213, -1.8262556392853804, -1.5390396905799402, -0.28210128866936623, 0.6915282599330196, -1.061997277575394, -0.23437234370160145, 0.48451130114206736, 0.5399866647396586, 0.9704483205014495, 1.5607546086751352, 0.4839386366508191, 0.8606502219745167, 0.1921581996360106, -1.34839922267985, -0.6029342906126648, 0.17694981879436422, 0.11893077213574416, 0.2591455340495779, 0.5854394442965613, 0.08924029989454053, 1.241304198053625, -0.7804209629456741, -1.6235071382669581, 0.634265590865332, -0.17423247622219282, 0.7513115061285496, 1.418860557379763, -0.1970006586460275, -1.387268471382328, -0.22029097796152874, 1.0206376266632986, -0.6991639566514156, -0.7023960198809316, -1.3123181372228592, -0.5686352280046247, -1.6388248216323893, -0.075786835672144, 0.4723478582089344, -1.624975110547491, 0.9430512396754382, -0.7281019520437483, 1.4875037306035783, 0.8638371121949252, -0.7539258551520496, -0.17672918047459357, 0.5965057459066474, 1.659410417605494, -0.18445679710035143, 1.3388316657201953, 0.7386382567789204, 1.736934922368421, 1.2862374370547554, -1.6073686159111964, -0.7932455168770332, -0.8293919053323263, 1.65290417524977, -1.7079494328019598, 0.4444272787260229, 0.31776703443820226, 0.5036669180785477, -1.5680312218728403, -0.48502703957063864, -1.8380263127595429, -1.0834332812687453, 0.04734441648269214, -1.30092095634919, -0.8559464384884553, 0.7559287629976349, 0.056942428152965435, -1.7004273404984727, -0.08289755761756115, 0.34617677916130635, -0.26788245660684173, -0.3513985811087493, 1.765618350591358, -0.9493467469311007, -0.784378905562128, -0.268002774987531, 0.8564979004513702, 1.2019006714433877, 1.5077064724242686, 0.08651466948084834, -0.4341564876522657, 0.7604318050817038, 0.14587539019305634, -1.2173545220202424, 0.5079069815059397, 0.6710066892041324, -0.6867664492920015, 1.4694756177998276, 1.28116720661858, -0.5248839086931132, 0.4570301917754443, 1.2500348262074328, 0.9217074245698057, -1.2077347045894595, 1.739129156306381, -0.5322257753722129, 0.4716578021852942], \"y\": [1.256163992478637, 1.4962863831786333, 1.1884090845577129, -0.15894924097177257, -1.2026184265873383, 0.6770498438698948, -0.21011164580665306, -0.9807093636381832, -1.040175438420667, -1.501603058764086, -2.134373997080767, -0.9800955035883625, -1.3839064540993693, -0.6673253627119573, 0.9840545822069304, 0.1849634086981319, -0.6510229420733098, -0.5888302002206053, -0.7391315407951128, -1.0888979381560249, -0.5570038952065479, -1.7919433977049617, 0.37521787564329695, 1.2789528365063678, -1.141236473587005, -0.2745777732011649, -1.2667022785615394, -1.9822725646912984, -0.2501717242656736, 1.0257199540077722, -0.22520597766561593, -1.5554028149072092, 0.28811551344976755, 0.29158008044390715, 0.9453779447434535, 0.1481969868173502, 1.2953724225249568, -0.3801052622217671, -0.9676709235060744, 1.2805264097783882, -1.4722351240347304, 0.31913521095978703, -2.0558536970628514, -1.387322598489969, 0.3468167988544274, -0.27190146443715246, -1.1007603123061869, -2.2401267732885084, -0.26361794904659025, -1.8964866635711517, -1.2531173582529713, -2.3232281303368003, -1.8401089828833246, 1.2616533630996143, 0.38896498487661635, 0.4277116230165871, -2.2331524937274954, 1.3694696258697991, -0.9377418313861052, -0.8019700748740982, -1.0012429712682702, 1.2194861691610335, 0.05857430634411578, 1.5089037993371304, 0.7000278816149557, -0.5120941627689334, 0.9331608889876883, 0.45617640002879, -1.2716516853695534, -0.5223826231364542, 1.3614064195304119, -0.37248301884124807, -0.8324235211373822, -0.17419092801835145, -0.08466693424700998, -2.353974947970948, 0.5562956127093278, 0.37946053934753354, -0.17406195433778804, -1.379455428523269, -1.7497053138395735, -2.0775097562215614, -0.5540821921027024, 0.004044297914652557, -1.276478661164833, -0.6177131235305691, 0.8435829662694587, -1.005788050606276, -1.1806206030404724, 0.27482617108332424, -2.0365287024228627, -1.8346740171124087, 0.10129834465822703, -0.9512513556374537, -1.8013020779014253, -1.4493559066145103, 0.8332711315083142, -2.3255802100886607, 0.10916836054761064, -0.9669312271716158]}],\n",
              "                        {\"height\": 500, \"legend\": {\"tracegroupgap\": 0}, \"template\": {\"data\": {\"bar\": [{\"error_x\": {\"color\": \"#2a3f5f\"}, \"error_y\": {\"color\": \"#2a3f5f\"}, \"marker\": {\"line\": {\"color\": \"#E5ECF6\", \"width\": 0.5}}, \"type\": \"bar\"}], \"barpolar\": [{\"marker\": {\"line\": {\"color\": \"#E5ECF6\", \"width\": 0.5}}, \"type\": \"barpolar\"}], \"carpet\": [{\"aaxis\": {\"endlinecolor\": \"#2a3f5f\", \"gridcolor\": \"white\", \"linecolor\": \"white\", \"minorgridcolor\": \"white\", \"startlinecolor\": \"#2a3f5f\"}, \"baxis\": {\"endlinecolor\": \"#2a3f5f\", \"gridcolor\": \"white\", \"linecolor\": \"white\", \"minorgridcolor\": \"white\", \"startlinecolor\": \"#2a3f5f\"}, \"type\": \"carpet\"}], \"choropleth\": [{\"colorbar\": {\"outlinewidth\": 0, \"ticks\": \"\"}, \"type\": \"choropleth\"}], \"contour\": [{\"colorbar\": {\"outlinewidth\": 0, \"ticks\": \"\"}, \"colorscale\": [[0.0, \"#0d0887\"], [0.1111111111111111, \"#46039f\"], [0.2222222222222222, \"#7201a8\"], [0.3333333333333333, \"#9c179e\"], [0.4444444444444444, \"#bd3786\"], [0.5555555555555556, \"#d8576b\"], [0.6666666666666666, \"#ed7953\"], [0.7777777777777778, \"#fb9f3a\"], [0.8888888888888888, \"#fdca26\"], [1.0, \"#f0f921\"]], \"type\": \"contour\"}], \"contourcarpet\": [{\"colorbar\": {\"outlinewidth\": 0, \"ticks\": \"\"}, \"type\": \"contourcarpet\"}], \"heatmap\": [{\"colorbar\": {\"outlinewidth\": 0, \"ticks\": \"\"}, \"colorscale\": [[0.0, \"#0d0887\"], [0.1111111111111111, \"#46039f\"], [0.2222222222222222, \"#7201a8\"], [0.3333333333333333, \"#9c179e\"], [0.4444444444444444, \"#bd3786\"], [0.5555555555555556, \"#d8576b\"], [0.6666666666666666, \"#ed7953\"], [0.7777777777777778, \"#fb9f3a\"], [0.8888888888888888, \"#fdca26\"], [1.0, \"#f0f921\"]], \"type\": \"heatmap\"}], \"heatmapgl\": [{\"colorbar\": {\"outlinewidth\": 0, \"ticks\": \"\"}, \"colorscale\": [[0.0, \"#0d0887\"], [0.1111111111111111, \"#46039f\"], [0.2222222222222222, \"#7201a8\"], [0.3333333333333333, \"#9c179e\"], [0.4444444444444444, \"#bd3786\"], [0.5555555555555556, \"#d8576b\"], [0.6666666666666666, \"#ed7953\"], [0.7777777777777778, \"#fb9f3a\"], [0.8888888888888888, \"#fdca26\"], [1.0, \"#f0f921\"]], \"type\": \"heatmapgl\"}], \"histogram\": [{\"marker\": {\"colorbar\": {\"outlinewidth\": 0, \"ticks\": \"\"}}, \"type\": \"histogram\"}], \"histogram2d\": [{\"colorbar\": {\"outlinewidth\": 0, \"ticks\": \"\"}, \"colorscale\": [[0.0, \"#0d0887\"], [0.1111111111111111, \"#46039f\"], [0.2222222222222222, \"#7201a8\"], [0.3333333333333333, \"#9c179e\"], [0.4444444444444444, \"#bd3786\"], [0.5555555555555556, \"#d8576b\"], [0.6666666666666666, \"#ed7953\"], [0.7777777777777778, \"#fb9f3a\"], [0.8888888888888888, \"#fdca26\"], [1.0, \"#f0f921\"]], \"type\": \"histogram2d\"}], \"histogram2dcontour\": [{\"colorbar\": {\"outlinewidth\": 0, \"ticks\": \"\"}, \"colorscale\": [[0.0, \"#0d0887\"], [0.1111111111111111, \"#46039f\"], [0.2222222222222222, \"#7201a8\"], [0.3333333333333333, \"#9c179e\"], [0.4444444444444444, \"#bd3786\"], [0.5555555555555556, \"#d8576b\"], [0.6666666666666666, \"#ed7953\"], [0.7777777777777778, \"#fb9f3a\"], [0.8888888888888888, \"#fdca26\"], [1.0, \"#f0f921\"]], \"type\": \"histogram2dcontour\"}], \"mesh3d\": [{\"colorbar\": {\"outlinewidth\": 0, \"ticks\": \"\"}, \"type\": \"mesh3d\"}], \"parcoords\": [{\"line\": {\"colorbar\": {\"outlinewidth\": 0, \"ticks\": \"\"}}, \"type\": \"parcoords\"}], \"scatter\": [{\"marker\": {\"colorbar\": {\"outlinewidth\": 0, \"ticks\": \"\"}}, \"type\": \"scatter\"}], \"scatter3d\": [{\"line\": {\"colorbar\": {\"outlinewidth\": 0, \"ticks\": \"\"}}, \"marker\": {\"colorbar\": {\"outlinewidth\": 0, \"ticks\": \"\"}}, \"type\": \"scatter3d\"}], \"scattercarpet\": [{\"marker\": {\"colorbar\": {\"outlinewidth\": 0, \"ticks\": \"\"}}, \"type\": \"scattercarpet\"}], \"scattergeo\": [{\"marker\": {\"colorbar\": {\"outlinewidth\": 0, \"ticks\": \"\"}}, \"type\": \"scattergeo\"}], \"scattergl\": [{\"marker\": {\"colorbar\": {\"outlinewidth\": 0, \"ticks\": \"\"}}, \"type\": \"scattergl\"}], \"scattermapbox\": [{\"marker\": {\"colorbar\": {\"outlinewidth\": 0, \"ticks\": \"\"}}, \"type\": \"scattermapbox\"}], \"scatterpolar\": [{\"marker\": {\"colorbar\": {\"outlinewidth\": 0, \"ticks\": \"\"}}, \"type\": \"scatterpolar\"}], \"scatterpolargl\": [{\"marker\": {\"colorbar\": {\"outlinewidth\": 0, \"ticks\": \"\"}}, \"type\": \"scatterpolargl\"}], \"scatterternary\": [{\"marker\": {\"colorbar\": {\"outlinewidth\": 0, \"ticks\": \"\"}}, \"type\": \"scatterternary\"}], \"surface\": [{\"colorbar\": {\"outlinewidth\": 0, \"ticks\": \"\"}, \"colorscale\": [[0.0, \"#0d0887\"], [0.1111111111111111, \"#46039f\"], [0.2222222222222222, \"#7201a8\"], [0.3333333333333333, \"#9c179e\"], [0.4444444444444444, \"#bd3786\"], [0.5555555555555556, \"#d8576b\"], [0.6666666666666666, \"#ed7953\"], [0.7777777777777778, \"#fb9f3a\"], [0.8888888888888888, \"#fdca26\"], [1.0, \"#f0f921\"]], \"type\": \"surface\"}], \"table\": [{\"cells\": {\"fill\": {\"color\": \"#EBF0F8\"}, \"line\": {\"color\": \"white\"}}, \"header\": {\"fill\": {\"color\": \"#C8D4E3\"}, \"line\": {\"color\": \"white\"}}, \"type\": \"table\"}]}, \"layout\": {\"annotationdefaults\": {\"arrowcolor\": \"#2a3f5f\", \"arrowhead\": 0, \"arrowwidth\": 1}, \"colorscale\": {\"diverging\": [[0, \"#8e0152\"], [0.1, \"#c51b7d\"], [0.2, \"#de77ae\"], [0.3, \"#f1b6da\"], [0.4, \"#fde0ef\"], [0.5, \"#f7f7f7\"], [0.6, \"#e6f5d0\"], [0.7, \"#b8e186\"], [0.8, \"#7fbc41\"], [0.9, \"#4d9221\"], [1, \"#276419\"]], \"sequential\": [[0.0, \"#0d0887\"], [0.1111111111111111, \"#46039f\"], [0.2222222222222222, \"#7201a8\"], [0.3333333333333333, \"#9c179e\"], [0.4444444444444444, \"#bd3786\"], [0.5555555555555556, \"#d8576b\"], [0.6666666666666666, \"#ed7953\"], [0.7777777777777778, \"#fb9f3a\"], [0.8888888888888888, \"#fdca26\"], [1.0, \"#f0f921\"]], \"sequentialminus\": [[0.0, \"#0d0887\"], [0.1111111111111111, \"#46039f\"], [0.2222222222222222, \"#7201a8\"], [0.3333333333333333, \"#9c179e\"], [0.4444444444444444, \"#bd3786\"], [0.5555555555555556, \"#d8576b\"], [0.6666666666666666, \"#ed7953\"], [0.7777777777777778, \"#fb9f3a\"], [0.8888888888888888, \"#fdca26\"], [1.0, \"#f0f921\"]]}, \"colorway\": [\"#636efa\", \"#EF553B\", \"#00cc96\", \"#ab63fa\", \"#FFA15A\", \"#19d3f3\", \"#FF6692\", \"#B6E880\", \"#FF97FF\", \"#FECB52\"], \"font\": {\"color\": \"#2a3f5f\"}, \"geo\": {\"bgcolor\": \"white\", \"lakecolor\": \"white\", \"landcolor\": \"#E5ECF6\", \"showlakes\": true, \"showland\": true, \"subunitcolor\": \"white\"}, \"hoverlabel\": {\"align\": \"left\"}, \"hovermode\": \"closest\", \"mapbox\": {\"style\": \"light\"}, \"paper_bgcolor\": \"white\", \"plot_bgcolor\": \"#E5ECF6\", \"polar\": {\"angularaxis\": {\"gridcolor\": \"white\", \"linecolor\": \"white\", \"ticks\": \"\"}, \"bgcolor\": \"#E5ECF6\", \"radialaxis\": {\"gridcolor\": \"white\", \"linecolor\": \"white\", \"ticks\": \"\"}}, \"scene\": {\"xaxis\": {\"backgroundcolor\": \"#E5ECF6\", \"gridcolor\": \"white\", \"gridwidth\": 2, \"linecolor\": \"white\", \"showbackground\": true, \"ticks\": \"\", \"zerolinecolor\": \"white\"}, \"yaxis\": {\"backgroundcolor\": \"#E5ECF6\", \"gridcolor\": \"white\", \"gridwidth\": 2, \"linecolor\": \"white\", \"showbackground\": true, \"ticks\": \"\", \"zerolinecolor\": \"white\"}, \"zaxis\": {\"backgroundcolor\": \"#E5ECF6\", \"gridcolor\": \"white\", \"gridwidth\": 2, \"linecolor\": \"white\", \"showbackground\": true, \"ticks\": \"\", \"zerolinecolor\": \"white\"}}, \"shapedefaults\": {\"line\": {\"color\": \"#2a3f5f\"}}, \"ternary\": {\"aaxis\": {\"gridcolor\": \"white\", \"linecolor\": \"white\", \"ticks\": \"\"}, \"baxis\": {\"gridcolor\": \"white\", \"linecolor\": \"white\", \"ticks\": \"\"}, \"bgcolor\": \"#E5ECF6\", \"caxis\": {\"gridcolor\": \"white\", \"linecolor\": \"white\", \"ticks\": \"\"}}, \"title\": {\"x\": 0.05}, \"xaxis\": {\"automargin\": true, \"gridcolor\": \"white\", \"linecolor\": \"white\", \"ticks\": \"\", \"zerolinecolor\": \"white\", \"zerolinewidth\": 2}, \"yaxis\": {\"automargin\": true, \"gridcolor\": \"white\", \"linecolor\": \"white\", \"ticks\": \"\", \"zerolinecolor\": \"white\", \"zerolinewidth\": 2}}}, \"title\": {\"text\": \"Admitted vs not Admitted\"}, \"width\": 800, \"xaxis\": {\"anchor\": \"y\", \"domain\": [0.0, 0.98], \"title\": {\"text\": \"X1_scaled\"}}, \"yaxis\": {\"anchor\": \"x\", \"domain\": [0.0, 1.0], \"title\": {\"text\": \"X2_scaled\"}}},\n",
              "                        {\"responsive\": true}\n",
              "                    ).then(function(){\n",
              "                            \n",
              "var gd = document.getElementById('58c43772-eb01-4d30-8074-efefa412c9f5');\n",
              "var x = new MutationObserver(function (mutations, observer) {{\n",
              "        var display = window.getComputedStyle(gd).display;\n",
              "        if (!display || display === 'none') {{\n",
              "            console.log([gd, 'removed!']);\n",
              "            Plotly.purge(gd);\n",
              "            observer.disconnect();\n",
              "        }}\n",
              "}});\n",
              "\n",
              "// Listen for the removal of the full notebook cells\n",
              "var notebookContainer = gd.closest('#notebook-container');\n",
              "if (notebookContainer) {{\n",
              "    x.observe(notebookContainer, {childList: true});\n",
              "}}\n",
              "\n",
              "// Listen for the clearing of the current output cell\n",
              "var outputEl = gd.closest('.output');\n",
              "if (outputEl) {{\n",
              "    x.observe(outputEl, {childList: true});\n",
              "}}\n",
              "\n",
              "                        })\n",
              "                };\n",
              "                \n",
              "            </script>\n",
              "        </div>\n",
              "</body>\n",
              "</html>"
            ]
          },
          "metadata": {
            "tags": []
          }
        }
      ]
    },
    {
      "cell_type": "markdown",
      "metadata": {
        "id": "Lv5Uji5kYqom",
        "colab_type": "text"
      },
      "source": [
        "## 2.8 Prediction"
      ]
    },
    {
      "cell_type": "code",
      "metadata": {
        "id": "d76J5rraYso6",
        "colab_type": "code",
        "colab": {}
      },
      "source": [
        "# if z >=0 class 1\n",
        "def prediction(X,theta):\n",
        "  return np.dot(X,theta) >= 0"
      ],
      "execution_count": 0,
      "outputs": []
    },
    {
      "cell_type": "markdown",
      "metadata": {
        "id": "3YKarVc7ZsOO",
        "colab_type": "text"
      },
      "source": [
        "## 2.9 Accuracy on training set"
      ]
    },
    {
      "cell_type": "code",
      "metadata": {
        "id": "keZQkyEAtbJh",
        "colab_type": "code",
        "outputId": "7090a10e-97f1-41b3-9838-af5a7e02bc84",
        "colab": {
          "base_uri": "https://localhost:8080/",
          "height": 35
        }
      },
      "source": [
        "X.shape"
      ],
      "execution_count": 0,
      "outputs": [
        {
          "output_type": "execute_result",
          "data": {
            "text/plain": [
              "(100, 3)"
            ]
          },
          "metadata": {
            "tags": []
          },
          "execution_count": 24
        }
      ]
    },
    {
      "cell_type": "code",
      "metadata": {
        "id": "DyWWfgQ3tcvY",
        "colab_type": "code",
        "outputId": "fc1fc641-1d53-4ebd-a9e9-bb0dd55db280",
        "colab": {
          "base_uri": "https://localhost:8080/",
          "height": 35
        }
      },
      "source": [
        "theta_batch.shape"
      ],
      "execution_count": 0,
      "outputs": [
        {
          "output_type": "execute_result",
          "data": {
            "text/plain": [
              "(3, 1)"
            ]
          },
          "metadata": {
            "tags": []
          },
          "execution_count": 25
        }
      ]
    },
    {
      "cell_type": "code",
      "metadata": {
        "id": "rw9YzSaStnvf",
        "colab_type": "code",
        "outputId": "0a2b9784-0722-4f7f-f5f6-6e85132bb33e",
        "colab": {
          "base_uri": "https://localhost:8080/",
          "height": 35
        }
      },
      "source": [
        "sum(prediction(X,theta_batch)==y)[0]"
      ],
      "execution_count": 27,
      "outputs": [
        {
          "output_type": "execute_result",
          "data": {
            "text/plain": [
              "89"
            ]
          },
          "metadata": {
            "tags": []
          },
          "execution_count": 27
        }
      ]
    },
    {
      "cell_type": "code",
      "metadata": {
        "id": "4bhvBtg6ZFh5",
        "colab_type": "code",
        "outputId": "db487645-ae9c-4321-ff39-b81f13b1cae6",
        "colab": {
          "base_uri": "https://localhost:8080/",
          "height": 35
        }
      },
      "source": [
        "p = prediction(X,theta_batch)\n",
        "print(\"Train Accuracy BGD: {}\".format(sum(p==y)[0]/len(y)))"
      ],
      "execution_count": 28,
      "outputs": [
        {
          "output_type": "stream",
          "text": [
            "Train Accuracy BGD: 0.89\n"
          ],
          "name": "stdout"
        }
      ]
    },
    {
      "cell_type": "code",
      "metadata": {
        "id": "hHN2ML531Zci",
        "colab_type": "code",
        "outputId": "093f33c1-82f6-4648-cacb-fd5997ed7dc7",
        "colab": {
          "base_uri": "https://localhost:8080/",
          "height": 35
        }
      },
      "source": [
        "p = prediction(X,theta_opt)\n",
        "print(\"Train Accuracy fmin_tnc: {}\".format(sum(p==y)[0]/len(y)))"
      ],
      "execution_count": 29,
      "outputs": [
        {
          "output_type": "stream",
          "text": [
            "Train Accuracy fmin_tnc: 0.89\n"
          ],
          "name": "stdout"
        }
      ]
    },
    {
      "cell_type": "markdown",
      "metadata": {
        "id": "1Q1haQmXazHy",
        "colab_type": "text"
      },
      "source": [
        "## 2.10 A single test"
      ]
    },
    {
      "cell_type": "code",
      "metadata": {
        "id": "jj5kCtvma04Y",
        "colab_type": "code",
        "outputId": "88b3d8b1-2c16-4862-e829-1dca7c2079d3",
        "colab": {
          "base_uri": "https://localhost:8080/",
          "height": 86
        }
      },
      "source": [
        "x_test = np.array([40,81])\n",
        "x_test = (x_test - scaler.mean_)/scaler.scale_\n",
        "x_test = np.append(np.ones(1),x_test)\n",
        "prob_batch = logistic(np.dot(x_test,theta_batch))\n",
        "prob_fmin = logistic(np.dot(x_test,theta_opt))\n",
        "print(\"For a student with scores 40 and 81, we predict an admission probability g(h_theta(X))\\n\"\"\"\n",
        "\"Prob(batch): {0}\\n Prob(fmin): {1}. \\nIn other words, he or she was not admitted g(h_theta(X) < 0.5).\".format(prob_batch,prob_fmin))"
      ],
      "execution_count": 30,
      "outputs": [
        {
          "output_type": "stream",
          "text": [
            "For a student with scores 40 and 81, we predict an admission probability g(h_theta(X))\n",
            "Prob(batch): [0.35835075]\n",
            " Prob(fmin): [0.35596176]. \n",
            "In other words, he or she was not admitted g(h_theta(X) < 0.5).\n"
          ],
          "name": "stdout"
        }
      ]
    },
    {
      "cell_type": "markdown",
      "metadata": {
        "id": "24ZSiDDGdiw4",
        "colab_type": "text"
      },
      "source": [
        "# 3.0 Example 02"
      ]
    },
    {
      "cell_type": "markdown",
      "metadata": {
        "colab_type": "text",
        "id": "4X-rZyP1v4x5"
      },
      "source": [
        "## 3.1 Get the data"
      ]
    },
    {
      "cell_type": "code",
      "metadata": {
        "colab_type": "code",
        "outputId": "2eb55f9b-785f-427e-e538-d4e2a600a6ee",
        "id": "qTZ3G7hPv4x8",
        "colab": {
          "base_uri": "https://localhost:8080/",
          "height": 198
        }
      },
      "source": [
        "# the dataset contains two tests result of microchips in a \n",
        "# factory and we are going to use the test results to predict\n",
        "# whether the microchips should be accepted or rejected\n",
        "\n",
        "data2 = pd.read_csv(\"lesson13data2.txt\",\n",
        "                   names=[\"X1\",\"X2\",\"Admitted\"],\n",
        "                   dtype={\"X1\":np.float64,\"X2\":np.float64, \"Admitted\": \"object\"}\n",
        "                   )\n",
        "data2.head()"
      ],
      "execution_count": 72,
      "outputs": [
        {
          "output_type": "execute_result",
          "data": {
            "text/html": [
              "<div>\n",
              "<style scoped>\n",
              "    .dataframe tbody tr th:only-of-type {\n",
              "        vertical-align: middle;\n",
              "    }\n",
              "\n",
              "    .dataframe tbody tr th {\n",
              "        vertical-align: top;\n",
              "    }\n",
              "\n",
              "    .dataframe thead th {\n",
              "        text-align: right;\n",
              "    }\n",
              "</style>\n",
              "<table border=\"1\" class=\"dataframe\">\n",
              "  <thead>\n",
              "    <tr style=\"text-align: right;\">\n",
              "      <th></th>\n",
              "      <th>X1</th>\n",
              "      <th>X2</th>\n",
              "      <th>Admitted</th>\n",
              "    </tr>\n",
              "  </thead>\n",
              "  <tbody>\n",
              "    <tr>\n",
              "      <th>0</th>\n",
              "      <td>0.051267</td>\n",
              "      <td>0.69956</td>\n",
              "      <td>1</td>\n",
              "    </tr>\n",
              "    <tr>\n",
              "      <th>1</th>\n",
              "      <td>-0.092742</td>\n",
              "      <td>0.68494</td>\n",
              "      <td>1</td>\n",
              "    </tr>\n",
              "    <tr>\n",
              "      <th>2</th>\n",
              "      <td>-0.213710</td>\n",
              "      <td>0.69225</td>\n",
              "      <td>1</td>\n",
              "    </tr>\n",
              "    <tr>\n",
              "      <th>3</th>\n",
              "      <td>-0.375000</td>\n",
              "      <td>0.50219</td>\n",
              "      <td>1</td>\n",
              "    </tr>\n",
              "    <tr>\n",
              "      <th>4</th>\n",
              "      <td>-0.513250</td>\n",
              "      <td>0.46564</td>\n",
              "      <td>1</td>\n",
              "    </tr>\n",
              "  </tbody>\n",
              "</table>\n",
              "</div>"
            ],
            "text/plain": [
              "         X1       X2 Admitted\n",
              "0  0.051267  0.69956        1\n",
              "1 -0.092742  0.68494        1\n",
              "2 -0.213710  0.69225        1\n",
              "3 -0.375000  0.50219        1\n",
              "4 -0.513250  0.46564        1"
            ]
          },
          "metadata": {
            "tags": []
          },
          "execution_count": 72
        }
      ]
    },
    {
      "cell_type": "code",
      "metadata": {
        "colab_type": "code",
        "outputId": "0762f335-6bd4-4089-e42f-3f4473ef3a20",
        "id": "ciIBmjjPv4x_",
        "colab": {
          "base_uri": "https://localhost:8080/",
          "height": 155
        }
      },
      "source": [
        "# fisrt contact with the data\n",
        "data2.info()"
      ],
      "execution_count": 73,
      "outputs": [
        {
          "output_type": "stream",
          "text": [
            "<class 'pandas.core.frame.DataFrame'>\n",
            "RangeIndex: 118 entries, 0 to 117\n",
            "Data columns (total 3 columns):\n",
            "X1          118 non-null float64\n",
            "X2          118 non-null float64\n",
            "Admitted    118 non-null object\n",
            "dtypes: float64(2), object(1)\n",
            "memory usage: 2.8+ KB\n"
          ],
          "name": "stdout"
        }
      ]
    },
    {
      "cell_type": "code",
      "metadata": {
        "colab_type": "code",
        "outputId": "e5cca808-5925-4efb-8275-175341af7660",
        "id": "U8-h11p4v4yB",
        "colab": {
          "base_uri": "https://localhost:8080/",
          "height": 288
        }
      },
      "source": [
        "# first contact with the data\n",
        "data2.describe()"
      ],
      "execution_count": 74,
      "outputs": [
        {
          "output_type": "execute_result",
          "data": {
            "text/html": [
              "<div>\n",
              "<style scoped>\n",
              "    .dataframe tbody tr th:only-of-type {\n",
              "        vertical-align: middle;\n",
              "    }\n",
              "\n",
              "    .dataframe tbody tr th {\n",
              "        vertical-align: top;\n",
              "    }\n",
              "\n",
              "    .dataframe thead th {\n",
              "        text-align: right;\n",
              "    }\n",
              "</style>\n",
              "<table border=\"1\" class=\"dataframe\">\n",
              "  <thead>\n",
              "    <tr style=\"text-align: right;\">\n",
              "      <th></th>\n",
              "      <th>X1</th>\n",
              "      <th>X2</th>\n",
              "    </tr>\n",
              "  </thead>\n",
              "  <tbody>\n",
              "    <tr>\n",
              "      <th>count</th>\n",
              "      <td>118.000000</td>\n",
              "      <td>118.000000</td>\n",
              "    </tr>\n",
              "    <tr>\n",
              "      <th>mean</th>\n",
              "      <td>0.054779</td>\n",
              "      <td>0.183102</td>\n",
              "    </tr>\n",
              "    <tr>\n",
              "      <th>std</th>\n",
              "      <td>0.496654</td>\n",
              "      <td>0.519743</td>\n",
              "    </tr>\n",
              "    <tr>\n",
              "      <th>min</th>\n",
              "      <td>-0.830070</td>\n",
              "      <td>-0.769740</td>\n",
              "    </tr>\n",
              "    <tr>\n",
              "      <th>25%</th>\n",
              "      <td>-0.372120</td>\n",
              "      <td>-0.254385</td>\n",
              "    </tr>\n",
              "    <tr>\n",
              "      <th>50%</th>\n",
              "      <td>-0.006336</td>\n",
              "      <td>0.213455</td>\n",
              "    </tr>\n",
              "    <tr>\n",
              "      <th>75%</th>\n",
              "      <td>0.478970</td>\n",
              "      <td>0.646562</td>\n",
              "    </tr>\n",
              "    <tr>\n",
              "      <th>max</th>\n",
              "      <td>1.070900</td>\n",
              "      <td>1.108900</td>\n",
              "    </tr>\n",
              "  </tbody>\n",
              "</table>\n",
              "</div>"
            ],
            "text/plain": [
              "               X1          X2\n",
              "count  118.000000  118.000000\n",
              "mean     0.054779    0.183102\n",
              "std      0.496654    0.519743\n",
              "min     -0.830070   -0.769740\n",
              "25%     -0.372120   -0.254385\n",
              "50%     -0.006336    0.213455\n",
              "75%      0.478970    0.646562\n",
              "max      1.070900    1.108900"
            ]
          },
          "metadata": {
            "tags": []
          },
          "execution_count": 74
        }
      ]
    },
    {
      "cell_type": "code",
      "metadata": {
        "colab_type": "code",
        "outputId": "3799937d-2ba0-40ce-d251-9fded08372da",
        "id": "I7qK_U6gv4yF",
        "colab": {
          "base_uri": "https://localhost:8080/",
          "height": 517
        }
      },
      "source": [
        "# see all markers available\n",
        "# https://plot.ly/python/reference/#scatter-marker\n",
        "\n",
        "fig = px.scatter(data2, \n",
        "                 x=\"X1\",\n",
        "                 y=\"X2\",\n",
        "                 color_discrete_sequence=[\"green\",\"red\"],\n",
        "                 symbol_sequence=[\"cross\",\"circle\"],\n",
        "                 color=\"Admitted\",\n",
        "                 width=500,\n",
        "                 height=500,\n",
        "                 title=\"Admitted vs not Admitted\",symbol=\"Admitted\",\n",
        "                 )\n",
        "fig.show()"
      ],
      "execution_count": 75,
      "outputs": [
        {
          "output_type": "display_data",
          "data": {
            "text/html": [
              "<html>\n",
              "<head><meta charset=\"utf-8\" /></head>\n",
              "<body>\n",
              "    <div>\n",
              "            <script src=\"https://cdnjs.cloudflare.com/ajax/libs/mathjax/2.7.5/MathJax.js?config=TeX-AMS-MML_SVG\"></script><script type=\"text/javascript\">if (window.MathJax) {MathJax.Hub.Config({SVG: {font: \"STIX-Web\"}});}</script>\n",
              "                <script type=\"text/javascript\">window.PlotlyConfig = {MathJaxConfig: 'local'};</script>\n",
              "        <script src=\"https://cdn.plot.ly/plotly-latest.min.js\"></script>    \n",
              "            <div id=\"a23e558a-42a7-467f-ba29-833fffcddc1b\" class=\"plotly-graph-div\" style=\"height:500px; width:500px;\"></div>\n",
              "            <script type=\"text/javascript\">\n",
              "                \n",
              "                    window.PLOTLYENV=window.PLOTLYENV || {};\n",
              "                    \n",
              "                if (document.getElementById(\"a23e558a-42a7-467f-ba29-833fffcddc1b\")) {\n",
              "                    Plotly.newPlot(\n",
              "                        'a23e558a-42a7-467f-ba29-833fffcddc1b',\n",
              "                        [{\"hoverlabel\": {\"namelength\": 0}, \"hovertemplate\": \"Admitted=1<br>X1=%{x}<br>X2=%{y}\", \"legendgroup\": \"Admitted=1\", \"marker\": {\"color\": \"green\", \"symbol\": \"cross\"}, \"mode\": \"markers\", \"name\": \"Admitted=1\", \"showlegend\": true, \"type\": \"scatter\", \"x\": [0.05126699999999999, -0.09274199999999999, -0.21370999999999998, -0.375, -0.51325, -0.52477, -0.39804, -0.30588000000000004, 0.016705, 0.13191, 0.38537, 0.5293800000000001, 0.6388199999999999, 0.73675, 0.54666, 0.322, 0.16647, -0.046659, -0.17339000000000002, -0.47868999999999995, -0.60541, -0.62846, -0.5938899999999999, -0.42108, -0.11578, 0.20104, 0.46601000000000004, 0.6733899999999999, -0.13882, -0.29435, -0.26555, -0.16187, -0.17339000000000002, -0.28283, -0.36348, -0.30012, -0.23675, -0.06394, 0.062788, 0.22984000000000002, 0.2932, 0.48328999999999994, 0.64459, 0.46025, 0.6273, 0.5754600000000001, 0.72523, 0.22408000000000003, 0.44297, 0.322, 0.13767000000000001, -0.0063364, -0.09274199999999999, -0.20795, -0.20795, -0.43836, -0.21946999999999997, -0.13882], \"xaxis\": \"x\", \"y\": [0.6995600000000001, 0.68494, 0.69225, 0.5021899999999999, 0.46563999999999994, 0.2098, 0.034357, -0.19225, -0.40424, -0.51389, -0.56506, -0.5212, -0.24341999999999997, -0.18494000000000002, 0.48757, 0.5826, 0.53874, 0.81652, 0.6995600000000001, 0.63377, 0.59722, 0.33405999999999997, 0.005117, -0.27266, -0.39693, -0.6016100000000001, -0.53582, -0.53582, 0.54605, 0.7799699999999999, 0.96272, 0.8019, 0.6483899999999999, 0.47295, 0.31213, 0.027047, -0.21418, -0.18494000000000002, -0.16301, -0.41155, -0.2288, -0.18494000000000002, -0.14107999999999998, 0.012426999999999999, 0.15863, 0.26827, 0.44371000000000005, 0.52412, 0.67032, 0.69225, 0.57529, 0.39985, 0.5533600000000001, 0.35599000000000003, 0.17325, 0.21711, -0.016812999999999998, -0.27266], \"yaxis\": \"y\"}, {\"hoverlabel\": {\"namelength\": 0}, \"hovertemplate\": \"Admitted=0<br>X1=%{x}<br>X2=%{y}\", \"legendgroup\": \"Admitted=0\", \"marker\": {\"color\": \"red\", \"symbol\": \"circle\"}, \"mode\": \"markers\", \"name\": \"Admitted=0\", \"showlegend\": true, \"type\": \"scatter\", \"x\": [0.18375999999999998, 0.22408000000000003, 0.29896, 0.50634, 0.61578, 0.60426, 0.76555, 0.92684, 0.82316, 0.96141, 0.9383600000000001, 0.8634799999999999, 0.89804, 0.85196, 0.8289200000000001, 0.79435, 0.5927399999999999, 0.51786, 0.46601000000000004, 0.35081, 0.28744000000000003, 0.085829, 0.14919000000000002, -0.13305999999999998, -0.40956, -0.39228, -0.74366, -0.69758, -0.7551800000000001, -0.69758, -0.4038, -0.38076, -0.50749, -0.54781, 0.10311, 0.057027999999999995, -0.10425999999999999, -0.081221, 0.28744000000000003, 0.39689, 0.6388199999999999, 0.82316, 0.6733899999999999, 1.0709, -0.046659, -0.23675, -0.15035, -0.49021000000000003, -0.46717, -0.28859, -0.6111800000000001, -0.6630199999999999, -0.59965, -0.72638, -0.8300700000000001, -0.7206199999999999, -0.5938899999999999, -0.48445, -0.0063364, 0.63265], \"xaxis\": \"x\", \"y\": [0.93348, 0.7799699999999999, 0.61915, 0.7580399999999999, 0.7288, 0.59722, 0.5021899999999999, 0.3633, 0.27558, 0.085526, 0.012426999999999999, -0.082602, -0.20686999999999997, -0.36769, -0.5212, -0.55775, -0.7405, -0.5943, -0.41886, -0.57968, -0.76974, -0.75512, -0.57968, -0.4481, -0.41155, -0.25804, -0.25804, 0.041667, 0.2902, 0.68494, 0.70687, 0.91886, 0.9042399999999999, 0.70687, 0.7799699999999999, 0.91886, 0.9919600000000001, 1.1089, 1.087, 0.82383, 0.8896200000000001, 0.66301, 0.64108, 0.10015, -0.57968, -0.6381600000000001, -0.36769, -0.3019, -0.13377, -0.060673000000000005, -0.067982, -0.21418, -0.41886, -0.082602, 0.31213, 0.53874, 0.49488000000000004, 0.9992700000000001, 0.9992700000000001, -0.030612], \"yaxis\": \"y\"}],\n",
              "                        {\"height\": 500, \"legend\": {\"tracegroupgap\": 0}, \"template\": {\"data\": {\"bar\": [{\"error_x\": {\"color\": \"#2a3f5f\"}, \"error_y\": {\"color\": \"#2a3f5f\"}, \"marker\": {\"line\": {\"color\": \"#E5ECF6\", \"width\": 0.5}}, \"type\": \"bar\"}], \"barpolar\": [{\"marker\": {\"line\": {\"color\": \"#E5ECF6\", \"width\": 0.5}}, \"type\": \"barpolar\"}], \"carpet\": [{\"aaxis\": {\"endlinecolor\": \"#2a3f5f\", \"gridcolor\": \"white\", \"linecolor\": \"white\", \"minorgridcolor\": \"white\", \"startlinecolor\": \"#2a3f5f\"}, \"baxis\": {\"endlinecolor\": \"#2a3f5f\", \"gridcolor\": \"white\", \"linecolor\": \"white\", \"minorgridcolor\": \"white\", \"startlinecolor\": \"#2a3f5f\"}, \"type\": \"carpet\"}], \"choropleth\": [{\"colorbar\": {\"outlinewidth\": 0, \"ticks\": \"\"}, \"type\": \"choropleth\"}], \"contour\": [{\"colorbar\": {\"outlinewidth\": 0, \"ticks\": \"\"}, \"colorscale\": [[0.0, \"#0d0887\"], [0.1111111111111111, \"#46039f\"], [0.2222222222222222, \"#7201a8\"], [0.3333333333333333, \"#9c179e\"], [0.4444444444444444, \"#bd3786\"], [0.5555555555555556, \"#d8576b\"], [0.6666666666666666, \"#ed7953\"], [0.7777777777777778, \"#fb9f3a\"], [0.8888888888888888, \"#fdca26\"], [1.0, \"#f0f921\"]], \"type\": \"contour\"}], \"contourcarpet\": [{\"colorbar\": {\"outlinewidth\": 0, \"ticks\": \"\"}, \"type\": \"contourcarpet\"}], \"heatmap\": [{\"colorbar\": {\"outlinewidth\": 0, \"ticks\": \"\"}, \"colorscale\": [[0.0, \"#0d0887\"], [0.1111111111111111, \"#46039f\"], [0.2222222222222222, \"#7201a8\"], [0.3333333333333333, \"#9c179e\"], [0.4444444444444444, \"#bd3786\"], [0.5555555555555556, \"#d8576b\"], [0.6666666666666666, \"#ed7953\"], [0.7777777777777778, \"#fb9f3a\"], [0.8888888888888888, \"#fdca26\"], [1.0, \"#f0f921\"]], \"type\": \"heatmap\"}], \"heatmapgl\": [{\"colorbar\": {\"outlinewidth\": 0, \"ticks\": \"\"}, \"colorscale\": [[0.0, \"#0d0887\"], [0.1111111111111111, \"#46039f\"], [0.2222222222222222, \"#7201a8\"], [0.3333333333333333, \"#9c179e\"], [0.4444444444444444, \"#bd3786\"], [0.5555555555555556, \"#d8576b\"], [0.6666666666666666, \"#ed7953\"], [0.7777777777777778, \"#fb9f3a\"], [0.8888888888888888, \"#fdca26\"], [1.0, \"#f0f921\"]], \"type\": \"heatmapgl\"}], \"histogram\": [{\"marker\": {\"colorbar\": {\"outlinewidth\": 0, \"ticks\": \"\"}}, \"type\": \"histogram\"}], \"histogram2d\": [{\"colorbar\": {\"outlinewidth\": 0, \"ticks\": \"\"}, \"colorscale\": [[0.0, \"#0d0887\"], [0.1111111111111111, \"#46039f\"], [0.2222222222222222, \"#7201a8\"], [0.3333333333333333, \"#9c179e\"], [0.4444444444444444, \"#bd3786\"], [0.5555555555555556, \"#d8576b\"], [0.6666666666666666, \"#ed7953\"], [0.7777777777777778, \"#fb9f3a\"], [0.8888888888888888, \"#fdca26\"], [1.0, \"#f0f921\"]], \"type\": \"histogram2d\"}], \"histogram2dcontour\": [{\"colorbar\": {\"outlinewidth\": 0, \"ticks\": \"\"}, \"colorscale\": [[0.0, \"#0d0887\"], [0.1111111111111111, \"#46039f\"], [0.2222222222222222, \"#7201a8\"], [0.3333333333333333, \"#9c179e\"], [0.4444444444444444, \"#bd3786\"], [0.5555555555555556, \"#d8576b\"], [0.6666666666666666, \"#ed7953\"], [0.7777777777777778, \"#fb9f3a\"], [0.8888888888888888, \"#fdca26\"], [1.0, \"#f0f921\"]], \"type\": \"histogram2dcontour\"}], \"mesh3d\": [{\"colorbar\": {\"outlinewidth\": 0, \"ticks\": \"\"}, \"type\": \"mesh3d\"}], \"parcoords\": [{\"line\": {\"colorbar\": {\"outlinewidth\": 0, \"ticks\": \"\"}}, \"type\": \"parcoords\"}], \"scatter\": [{\"marker\": {\"colorbar\": {\"outlinewidth\": 0, \"ticks\": \"\"}}, \"type\": \"scatter\"}], \"scatter3d\": [{\"line\": {\"colorbar\": {\"outlinewidth\": 0, \"ticks\": \"\"}}, \"marker\": {\"colorbar\": {\"outlinewidth\": 0, \"ticks\": \"\"}}, \"type\": \"scatter3d\"}], \"scattercarpet\": [{\"marker\": {\"colorbar\": {\"outlinewidth\": 0, \"ticks\": \"\"}}, \"type\": \"scattercarpet\"}], \"scattergeo\": [{\"marker\": {\"colorbar\": {\"outlinewidth\": 0, \"ticks\": \"\"}}, \"type\": \"scattergeo\"}], \"scattergl\": [{\"marker\": {\"colorbar\": {\"outlinewidth\": 0, \"ticks\": \"\"}}, \"type\": \"scattergl\"}], \"scattermapbox\": [{\"marker\": {\"colorbar\": {\"outlinewidth\": 0, \"ticks\": \"\"}}, \"type\": \"scattermapbox\"}], \"scatterpolar\": [{\"marker\": {\"colorbar\": {\"outlinewidth\": 0, \"ticks\": \"\"}}, \"type\": \"scatterpolar\"}], \"scatterpolargl\": [{\"marker\": {\"colorbar\": {\"outlinewidth\": 0, \"ticks\": \"\"}}, \"type\": \"scatterpolargl\"}], \"scatterternary\": [{\"marker\": {\"colorbar\": {\"outlinewidth\": 0, \"ticks\": \"\"}}, \"type\": \"scatterternary\"}], \"surface\": [{\"colorbar\": {\"outlinewidth\": 0, \"ticks\": \"\"}, \"colorscale\": [[0.0, \"#0d0887\"], [0.1111111111111111, \"#46039f\"], [0.2222222222222222, \"#7201a8\"], [0.3333333333333333, \"#9c179e\"], [0.4444444444444444, \"#bd3786\"], [0.5555555555555556, \"#d8576b\"], [0.6666666666666666, \"#ed7953\"], [0.7777777777777778, \"#fb9f3a\"], [0.8888888888888888, \"#fdca26\"], [1.0, \"#f0f921\"]], \"type\": \"surface\"}], \"table\": [{\"cells\": {\"fill\": {\"color\": \"#EBF0F8\"}, \"line\": {\"color\": \"white\"}}, \"header\": {\"fill\": {\"color\": \"#C8D4E3\"}, \"line\": {\"color\": \"white\"}}, \"type\": \"table\"}]}, \"layout\": {\"annotationdefaults\": {\"arrowcolor\": \"#2a3f5f\", \"arrowhead\": 0, \"arrowwidth\": 1}, \"colorscale\": {\"diverging\": [[0, \"#8e0152\"], [0.1, \"#c51b7d\"], [0.2, \"#de77ae\"], [0.3, \"#f1b6da\"], [0.4, \"#fde0ef\"], [0.5, \"#f7f7f7\"], [0.6, \"#e6f5d0\"], [0.7, \"#b8e186\"], [0.8, \"#7fbc41\"], [0.9, \"#4d9221\"], [1, \"#276419\"]], \"sequential\": [[0.0, \"#0d0887\"], [0.1111111111111111, \"#46039f\"], [0.2222222222222222, \"#7201a8\"], [0.3333333333333333, \"#9c179e\"], [0.4444444444444444, \"#bd3786\"], [0.5555555555555556, \"#d8576b\"], [0.6666666666666666, \"#ed7953\"], [0.7777777777777778, \"#fb9f3a\"], [0.8888888888888888, \"#fdca26\"], [1.0, \"#f0f921\"]], \"sequentialminus\": [[0.0, \"#0d0887\"], [0.1111111111111111, \"#46039f\"], [0.2222222222222222, \"#7201a8\"], [0.3333333333333333, \"#9c179e\"], [0.4444444444444444, \"#bd3786\"], [0.5555555555555556, \"#d8576b\"], [0.6666666666666666, \"#ed7953\"], [0.7777777777777778, \"#fb9f3a\"], [0.8888888888888888, \"#fdca26\"], [1.0, \"#f0f921\"]]}, \"colorway\": [\"#636efa\", \"#EF553B\", \"#00cc96\", \"#ab63fa\", \"#FFA15A\", \"#19d3f3\", \"#FF6692\", \"#B6E880\", \"#FF97FF\", \"#FECB52\"], \"font\": {\"color\": \"#2a3f5f\"}, \"geo\": {\"bgcolor\": \"white\", \"lakecolor\": \"white\", \"landcolor\": \"#E5ECF6\", \"showlakes\": true, \"showland\": true, \"subunitcolor\": \"white\"}, \"hoverlabel\": {\"align\": \"left\"}, \"hovermode\": \"closest\", \"mapbox\": {\"style\": \"light\"}, \"paper_bgcolor\": \"white\", \"plot_bgcolor\": \"#E5ECF6\", \"polar\": {\"angularaxis\": {\"gridcolor\": \"white\", \"linecolor\": \"white\", \"ticks\": \"\"}, \"bgcolor\": \"#E5ECF6\", \"radialaxis\": {\"gridcolor\": \"white\", \"linecolor\": \"white\", \"ticks\": \"\"}}, \"scene\": {\"xaxis\": {\"backgroundcolor\": \"#E5ECF6\", \"gridcolor\": \"white\", \"gridwidth\": 2, \"linecolor\": \"white\", \"showbackground\": true, \"ticks\": \"\", \"zerolinecolor\": \"white\"}, \"yaxis\": {\"backgroundcolor\": \"#E5ECF6\", \"gridcolor\": \"white\", \"gridwidth\": 2, \"linecolor\": \"white\", \"showbackground\": true, \"ticks\": \"\", \"zerolinecolor\": \"white\"}, \"zaxis\": {\"backgroundcolor\": \"#E5ECF6\", \"gridcolor\": \"white\", \"gridwidth\": 2, \"linecolor\": \"white\", \"showbackground\": true, \"ticks\": \"\", \"zerolinecolor\": \"white\"}}, \"shapedefaults\": {\"line\": {\"color\": \"#2a3f5f\"}}, \"ternary\": {\"aaxis\": {\"gridcolor\": \"white\", \"linecolor\": \"white\", \"ticks\": \"\"}, \"baxis\": {\"gridcolor\": \"white\", \"linecolor\": \"white\", \"ticks\": \"\"}, \"bgcolor\": \"#E5ECF6\", \"caxis\": {\"gridcolor\": \"white\", \"linecolor\": \"white\", \"ticks\": \"\"}}, \"title\": {\"x\": 0.05}, \"xaxis\": {\"automargin\": true, \"gridcolor\": \"white\", \"linecolor\": \"white\", \"ticks\": \"\", \"zerolinecolor\": \"white\", \"zerolinewidth\": 2}, \"yaxis\": {\"automargin\": true, \"gridcolor\": \"white\", \"linecolor\": \"white\", \"ticks\": \"\", \"zerolinecolor\": \"white\", \"zerolinewidth\": 2}}}, \"title\": {\"text\": \"Admitted vs not Admitted\"}, \"width\": 500, \"xaxis\": {\"anchor\": \"y\", \"domain\": [0.0, 0.98], \"title\": {\"text\": \"X1\"}}, \"yaxis\": {\"anchor\": \"x\", \"domain\": [0.0, 1.0], \"title\": {\"text\": \"X2\"}}},\n",
              "                        {\"responsive\": true}\n",
              "                    ).then(function(){\n",
              "                            \n",
              "var gd = document.getElementById('a23e558a-42a7-467f-ba29-833fffcddc1b');\n",
              "var x = new MutationObserver(function (mutations, observer) {{\n",
              "        var display = window.getComputedStyle(gd).display;\n",
              "        if (!display || display === 'none') {{\n",
              "            console.log([gd, 'removed!']);\n",
              "            Plotly.purge(gd);\n",
              "            observer.disconnect();\n",
              "        }}\n",
              "}});\n",
              "\n",
              "// Listen for the removal of the full notebook cells\n",
              "var notebookContainer = gd.closest('#notebook-container');\n",
              "if (notebookContainer) {{\n",
              "    x.observe(notebookContainer, {childList: true});\n",
              "}}\n",
              "\n",
              "// Listen for the clearing of the current output cell\n",
              "var outputEl = gd.closest('.output');\n",
              "if (outputEl) {{\n",
              "    x.observe(outputEl, {childList: true});\n",
              "}}\n",
              "\n",
              "                        })\n",
              "                };\n",
              "                \n",
              "            </script>\n",
              "        </div>\n",
              "</body>\n",
              "</html>"
            ]
          },
          "metadata": {
            "tags": []
          }
        }
      ]
    },
    {
      "cell_type": "markdown",
      "metadata": {
        "id": "B6-I1po6IG6O",
        "colab_type": "text"
      },
      "source": [
        "## 3.2 Polynomial Features"
      ]
    },
    {
      "cell_type": "markdown",
      "metadata": {
        "id": "fcSnBwYTIM8y",
        "colab_type": "text"
      },
      "source": [
        "https://scikit-learn.org/stable/modules/generated/sklearn.preprocessing.PolynomialFeatures.html\n",
        "\n"
      ]
    },
    {
      "cell_type": "code",
      "metadata": {
        "id": "fLCzxMcq2IGA",
        "colab_type": "code",
        "outputId": "b3772145-7f36-4fb9-efce-43b963fe4509",
        "colab": {
          "base_uri": "https://localhost:8080/",
          "height": 121
        }
      },
      "source": [
        "import numpy as np\n",
        "from sklearn.preprocessing import PolynomialFeatures\n",
        "\n",
        "# n = 2 (x1, x2)\n",
        "a = np.arange(6).reshape(3, 2)\n",
        "print(a)\n",
        "# d = 2 (degree is 2)\n",
        "poly = PolynomialFeatures(2)\n",
        "poly.fit_transform(a)"
      ],
      "execution_count": 76,
      "outputs": [
        {
          "output_type": "stream",
          "text": [
            "[[0 1]\n",
            " [2 3]\n",
            " [4 5]]\n"
          ],
          "name": "stdout"
        },
        {
          "output_type": "execute_result",
          "data": {
            "text/plain": [
              "array([[ 1.,  0.,  1.,  0.,  0.,  1.],\n",
              "       [ 1.,  2.,  3.,  4.,  6.,  9.],\n",
              "       [ 1.,  4.,  5., 16., 20., 25.]])"
            ]
          },
          "metadata": {
            "tags": []
          },
          "execution_count": 76
        }
      ]
    },
    {
      "cell_type": "markdown",
      "metadata": {
        "id": "bthf5axdGlpD",
        "colab_type": "text"
      },
      "source": [
        "$\n",
        "\\displaystyle terms = \\binom{n+d}{d} = \\binom{2+2}{2} = 6\\\\\n",
        "\\displaystyle \\left[1, x_1, x_2, x_1^2, x_1 x_2, x_2^2 \\right]\\\\\n",
        "\\displaystyle \\theta_0 + \\theta_1 x_1 + \\theta_2 x_2 + \\theta_3 x_1^2 + \\theta_4 x_1 x_2 + \\theta_5 x_2^2 = 0 \\\\\n",
        "$\n"
      ]
    },
    {
      "cell_type": "code",
      "metadata": {
        "id": "Je5WspPvGj6d",
        "colab_type": "code",
        "outputId": "f45e83d2-fa1a-4e66-bf91-101f3c0afea0",
        "colab": {
          "base_uri": "https://localhost:8080/",
          "height": 69
        }
      },
      "source": [
        "poly2 = PolynomialFeatures(3)\n",
        "poly2.fit_transform(a)"
      ],
      "execution_count": 77,
      "outputs": [
        {
          "output_type": "execute_result",
          "data": {
            "text/plain": [
              "array([[  1.,   0.,   1.,   0.,   0.,   1.,   0.,   0.,   0.,   1.],\n",
              "       [  1.,   2.,   3.,   4.,   6.,   9.,   8.,  12.,  18.,  27.],\n",
              "       [  1.,   4.,   5.,  16.,  20.,  25.,  64.,  80., 100., 125.]])"
            ]
          },
          "metadata": {
            "tags": []
          },
          "execution_count": 77
        }
      ]
    },
    {
      "cell_type": "markdown",
      "metadata": {
        "id": "j9XU3RehKZyn",
        "colab_type": "text"
      },
      "source": [
        "$\n",
        "\\displaystyle terms = \\binom{n+d}{d} = \\binom{2+3}{3} = 10\\\\\n",
        "\\displaystyle \\left[1, x_1, x_2, x_1^2, x_1 x_2, x_2^2, x_1^3, x_1^2x_2, x_1x_2^2, x_2^3 \\right]\\\\\n",
        "\\displaystyle \\theta_0 + \\theta_1 x_1 + \\theta_2 x_2 + \\theta_3 x_1^2 + \\theta_4 x_1 x_2 + \\theta_5 x_2^2 + \\theta_6 x_1^3 + \\theta_7 x_1^2x_2 + \\theta_8 x_1x_2^2 + \\theta_9 x_2^3 = 0 \\\\\n",
        "$"
      ]
    },
    {
      "cell_type": "code",
      "metadata": {
        "id": "aUrMI_a3tx6a",
        "colab_type": "code",
        "outputId": "7866638d-9b51-48b3-d502-d5b55f2fc76d",
        "colab": {
          "base_uri": "https://localhost:8080/",
          "height": 35
        }
      },
      "source": [
        "poly = PolynomialFeatures(6)\n",
        "\n",
        "# C(2+6,6) = 28 columns\n",
        "X = poly.fit_transform(data2[[\"X1\",\"X2\"]])\n",
        "y = data2.Admitted.astype(np.int64).values.reshape(-1,1)\n",
        "\n",
        "# define m and n\n",
        "m,n = X.shape\n",
        "\n",
        "print(m,n)\n",
        "\n",
        "# guess an initial value for theta\n",
        "theta = np.zeros((n,1))"
      ],
      "execution_count": 78,
      "outputs": [
        {
          "output_type": "stream",
          "text": [
            "118 28\n"
          ],
          "name": "stdout"
        }
      ]
    },
    {
      "cell_type": "code",
      "metadata": {
        "id": "Kb5IGagf9rJ3",
        "colab_type": "code",
        "outputId": "53546e14-9cae-44c3-e24e-0a12275962cf",
        "colab": {
          "base_uri": "https://localhost:8080/",
          "height": 35
        }
      },
      "source": [
        "y.shape"
      ],
      "execution_count": 79,
      "outputs": [
        {
          "output_type": "execute_result",
          "data": {
            "text/plain": [
              "(118, 1)"
            ]
          },
          "metadata": {
            "tags": []
          },
          "execution_count": 79
        }
      ]
    },
    {
      "cell_type": "code",
      "metadata": {
        "id": "0AlZBMEnvCtX",
        "colab_type": "code",
        "outputId": "118d5513-dcd6-4408-b906-33c3fcd3beec",
        "colab": {
          "base_uri": "https://localhost:8080/",
          "height": 35
        }
      },
      "source": [
        "theta.shape"
      ],
      "execution_count": 80,
      "outputs": [
        {
          "output_type": "execute_result",
          "data": {
            "text/plain": [
              "(28, 1)"
            ]
          },
          "metadata": {
            "tags": []
          },
          "execution_count": 80
        }
      ]
    },
    {
      "cell_type": "code",
      "metadata": {
        "colab_type": "code",
        "id": "mYunWzUityCp",
        "colab": {}
      },
      "source": [
        "# using gradient descent\n",
        "theta_batch, cost_history = gradient_descent_multi(theta,X,y,1,1000)"
      ],
      "execution_count": 0,
      "outputs": []
    },
    {
      "cell_type": "code",
      "metadata": {
        "id": "KRdxfdUi4XKv",
        "colab_type": "code",
        "colab": {}
      },
      "source": [
        "# using the swiss army knife: fmin_tnc\n",
        "result = opt.fmin_tnc(func = cost_function, \n",
        "                      x0 = theta.flatten(), \n",
        "                      fprime = gradient,\n",
        "                      #approx_grad = True,\n",
        "                      args = (X, y.flatten())\n",
        "                      )\n",
        "\n",
        "#the output of above function is a tuple whose first element \n",
        "#contains the optimized values of theta\n",
        "theta_opt = result[0].reshape(-1,1)"
      ],
      "execution_count": 0,
      "outputs": []
    },
    {
      "cell_type": "code",
      "metadata": {
        "id": "xXXSXETiuhhz",
        "colab_type": "code",
        "outputId": "b5e34a2e-f549-4723-dee8-cf29e5629621",
        "colab": {
          "base_uri": "https://localhost:8080/",
          "height": 501
        }
      },
      "source": [
        "np.hstack((theta_batch,theta_opt))"
      ],
      "execution_count": 83,
      "outputs": [
        {
          "output_type": "execute_result",
          "data": {
            "text/plain": [
              "array([[ 3.25330946e+00,  1.44841523e+01],\n",
              "       [ 2.30689087e+00,  1.89467688e+01],\n",
              "       [ 3.56981732e+00,  6.82056303e+00],\n",
              "       [-5.02948176e+00, -1.54843730e+02],\n",
              "       [-4.11214084e+00, -8.62129674e+01],\n",
              "       [-4.98400183e+00, -5.56361782e+01],\n",
              "       [ 1.02490787e+00, -1.53010127e+02],\n",
              "       [-1.50909822e+00, -1.38851420e+02],\n",
              "       [-9.49121021e-01, -7.27707860e+01],\n",
              "       [-3.32284247e-01,  7.85309773e+00],\n",
              "       [-4.10630911e+00,  5.56708720e+02],\n",
              "       [ 2.87498386e-01,  5.19020470e+02],\n",
              "       [-2.18883217e+00,  6.09923082e+02],\n",
              "       [-1.54724591e+00,  2.83177923e+02],\n",
              "       [-3.37455596e+00,  6.42501849e+01],\n",
              "       [-6.08714253e-01,  2.76743854e+02],\n",
              "       [-7.08618930e-01,  3.95139827e+02],\n",
              "       [ 4.26069185e-01,  4.52428164e+02],\n",
              "       [-1.29159280e+00,  2.99585929e+02],\n",
              "       [-1.49618215e+00,  1.24060240e+02],\n",
              "       [-2.45932430e-01, -8.86598211e+00],\n",
              "       [-3.25985502e+00, -6.56270557e+02],\n",
              "       [ 3.73145291e-01, -8.54347243e+02],\n",
              "       [-9.70760740e-01, -1.18901070e+03],\n",
              "       [ 2.94430170e-01, -9.57235898e+02],\n",
              "       [-1.30750799e+00, -8.44840784e+02],\n",
              "       [-1.14419961e+00, -3.64940211e+02],\n",
              "       [-1.68163172e+00, -3.94448371e+01]])"
            ]
          },
          "metadata": {
            "tags": []
          },
          "execution_count": 83
        }
      ]
    },
    {
      "cell_type": "code",
      "metadata": {
        "id": "LH-A0_jF_pao",
        "colab_type": "code",
        "outputId": "2d3d9020-e9c6-4e2d-b136-b06c3ddae18b",
        "colab": {
          "base_uri": "https://localhost:8080/",
          "height": 417
        }
      },
      "source": [
        "fig = go.Figure(data=go.Scatter(x=np.arange(1000), \n",
        "                                y=cost_history,\n",
        "                                name=\"Cost Function\"))\n",
        "fig.update_layout(width=600,\n",
        "                  height=400,\n",
        "                  yaxis=go.layout.YAxis(title_text=\"Cost Function\"),\n",
        "                  xaxis=go.layout.XAxis(title_text=\"Iterations\"),\n",
        "                  title=\"Cost Function vs #iterations (gradient descent)\",\n",
        "                  showlegend=True\n",
        "                  )\n",
        "fig.show()"
      ],
      "execution_count": 84,
      "outputs": [
        {
          "output_type": "display_data",
          "data": {
            "text/html": [
              "<html>\n",
              "<head><meta charset=\"utf-8\" /></head>\n",
              "<body>\n",
              "    <div>\n",
              "            <script src=\"https://cdnjs.cloudflare.com/ajax/libs/mathjax/2.7.5/MathJax.js?config=TeX-AMS-MML_SVG\"></script><script type=\"text/javascript\">if (window.MathJax) {MathJax.Hub.Config({SVG: {font: \"STIX-Web\"}});}</script>\n",
              "                <script type=\"text/javascript\">window.PlotlyConfig = {MathJaxConfig: 'local'};</script>\n",
              "        <script src=\"https://cdn.plot.ly/plotly-latest.min.js\"></script>    \n",
              "            <div id=\"2a809559-3ed3-4fd6-b4b8-22298c0bc78f\" class=\"plotly-graph-div\" style=\"height:400px; width:600px;\"></div>\n",
              "            <script type=\"text/javascript\">\n",
              "                \n",
              "                    window.PLOTLYENV=window.PLOTLYENV || {};\n",
              "                    \n",
              "                if (document.getElementById(\"2a809559-3ed3-4fd6-b4b8-22298c0bc78f\")) {\n",
              "                    Plotly.newPlot(\n",
              "                        '2a809559-3ed3-4fd6-b4b8-22298c0bc78f',\n",
              "                        [{\"name\": \"Cost Function\", \"type\": \"scatter\", \"x\": [0, 1, 2, 3, 4, 5, 6, 7, 8, 9, 10, 11, 12, 13, 14, 15, 16, 17, 18, 19, 20, 21, 22, 23, 24, 25, 26, 27, 28, 29, 30, 31, 32, 33, 34, 35, 36, 37, 38, 39, 40, 41, 42, 43, 44, 45, 46, 47, 48, 49, 50, 51, 52, 53, 54, 55, 56, 57, 58, 59, 60, 61, 62, 63, 64, 65, 66, 67, 68, 69, 70, 71, 72, 73, 74, 75, 76, 77, 78, 79, 80, 81, 82, 83, 84, 85, 86, 87, 88, 89, 90, 91, 92, 93, 94, 95, 96, 97, 98, 99, 100, 101, 102, 103, 104, 105, 106, 107, 108, 109, 110, 111, 112, 113, 114, 115, 116, 117, 118, 119, 120, 121, 122, 123, 124, 125, 126, 127, 128, 129, 130, 131, 132, 133, 134, 135, 136, 137, 138, 139, 140, 141, 142, 143, 144, 145, 146, 147, 148, 149, 150, 151, 152, 153, 154, 155, 156, 157, 158, 159, 160, 161, 162, 163, 164, 165, 166, 167, 168, 169, 170, 171, 172, 173, 174, 175, 176, 177, 178, 179, 180, 181, 182, 183, 184, 185, 186, 187, 188, 189, 190, 191, 192, 193, 194, 195, 196, 197, 198, 199, 200, 201, 202, 203, 204, 205, 206, 207, 208, 209, 210, 211, 212, 213, 214, 215, 216, 217, 218, 219, 220, 221, 222, 223, 224, 225, 226, 227, 228, 229, 230, 231, 232, 233, 234, 235, 236, 237, 238, 239, 240, 241, 242, 243, 244, 245, 246, 247, 248, 249, 250, 251, 252, 253, 254, 255, 256, 257, 258, 259, 260, 261, 262, 263, 264, 265, 266, 267, 268, 269, 270, 271, 272, 273, 274, 275, 276, 277, 278, 279, 280, 281, 282, 283, 284, 285, 286, 287, 288, 289, 290, 291, 292, 293, 294, 295, 296, 297, 298, 299, 300, 301, 302, 303, 304, 305, 306, 307, 308, 309, 310, 311, 312, 313, 314, 315, 316, 317, 318, 319, 320, 321, 322, 323, 324, 325, 326, 327, 328, 329, 330, 331, 332, 333, 334, 335, 336, 337, 338, 339, 340, 341, 342, 343, 344, 345, 346, 347, 348, 349, 350, 351, 352, 353, 354, 355, 356, 357, 358, 359, 360, 361, 362, 363, 364, 365, 366, 367, 368, 369, 370, 371, 372, 373, 374, 375, 376, 377, 378, 379, 380, 381, 382, 383, 384, 385, 386, 387, 388, 389, 390, 391, 392, 393, 394, 395, 396, 397, 398, 399, 400, 401, 402, 403, 404, 405, 406, 407, 408, 409, 410, 411, 412, 413, 414, 415, 416, 417, 418, 419, 420, 421, 422, 423, 424, 425, 426, 427, 428, 429, 430, 431, 432, 433, 434, 435, 436, 437, 438, 439, 440, 441, 442, 443, 444, 445, 446, 447, 448, 449, 450, 451, 452, 453, 454, 455, 456, 457, 458, 459, 460, 461, 462, 463, 464, 465, 466, 467, 468, 469, 470, 471, 472, 473, 474, 475, 476, 477, 478, 479, 480, 481, 482, 483, 484, 485, 486, 487, 488, 489, 490, 491, 492, 493, 494, 495, 496, 497, 498, 499, 500, 501, 502, 503, 504, 505, 506, 507, 508, 509, 510, 511, 512, 513, 514, 515, 516, 517, 518, 519, 520, 521, 522, 523, 524, 525, 526, 527, 528, 529, 530, 531, 532, 533, 534, 535, 536, 537, 538, 539, 540, 541, 542, 543, 544, 545, 546, 547, 548, 549, 550, 551, 552, 553, 554, 555, 556, 557, 558, 559, 560, 561, 562, 563, 564, 565, 566, 567, 568, 569, 570, 571, 572, 573, 574, 575, 576, 577, 578, 579, 580, 581, 582, 583, 584, 585, 586, 587, 588, 589, 590, 591, 592, 593, 594, 595, 596, 597, 598, 599, 600, 601, 602, 603, 604, 605, 606, 607, 608, 609, 610, 611, 612, 613, 614, 615, 616, 617, 618, 619, 620, 621, 622, 623, 624, 625, 626, 627, 628, 629, 630, 631, 632, 633, 634, 635, 636, 637, 638, 639, 640, 641, 642, 643, 644, 645, 646, 647, 648, 649, 650, 651, 652, 653, 654, 655, 656, 657, 658, 659, 660, 661, 662, 663, 664, 665, 666, 667, 668, 669, 670, 671, 672, 673, 674, 675, 676, 677, 678, 679, 680, 681, 682, 683, 684, 685, 686, 687, 688, 689, 690, 691, 692, 693, 694, 695, 696, 697, 698, 699, 700, 701, 702, 703, 704, 705, 706, 707, 708, 709, 710, 711, 712, 713, 714, 715, 716, 717, 718, 719, 720, 721, 722, 723, 724, 725, 726, 727, 728, 729, 730, 731, 732, 733, 734, 735, 736, 737, 738, 739, 740, 741, 742, 743, 744, 745, 746, 747, 748, 749, 750, 751, 752, 753, 754, 755, 756, 757, 758, 759, 760, 761, 762, 763, 764, 765, 766, 767, 768, 769, 770, 771, 772, 773, 774, 775, 776, 777, 778, 779, 780, 781, 782, 783, 784, 785, 786, 787, 788, 789, 790, 791, 792, 793, 794, 795, 796, 797, 798, 799, 800, 801, 802, 803, 804, 805, 806, 807, 808, 809, 810, 811, 812, 813, 814, 815, 816, 817, 818, 819, 820, 821, 822, 823, 824, 825, 826, 827, 828, 829, 830, 831, 832, 833, 834, 835, 836, 837, 838, 839, 840, 841, 842, 843, 844, 845, 846, 847, 848, 849, 850, 851, 852, 853, 854, 855, 856, 857, 858, 859, 860, 861, 862, 863, 864, 865, 866, 867, 868, 869, 870, 871, 872, 873, 874, 875, 876, 877, 878, 879, 880, 881, 882, 883, 884, 885, 886, 887, 888, 889, 890, 891, 892, 893, 894, 895, 896, 897, 898, 899, 900, 901, 902, 903, 904, 905, 906, 907, 908, 909, 910, 911, 912, 913, 914, 915, 916, 917, 918, 919, 920, 921, 922, 923, 924, 925, 926, 927, 928, 929, 930, 931, 932, 933, 934, 935, 936, 937, 938, 939, 940, 941, 942, 943, 944, 945, 946, 947, 948, 949, 950, 951, 952, 953, 954, 955, 956, 957, 958, 959, 960, 961, 962, 963, 964, 965, 966, 967, 968, 969, 970, 971, 972, 973, 974, 975, 976, 977, 978, 979, 980, 981, 982, 983, 984, 985, 986, 987, 988, 989, 990, 991, 992, 993, 994, 995, 996, 997, 998, 999], \"y\": [0.681237315087989, 0.671924154044972, 0.6639918171957944, 0.6568955424256675, 0.6503765773284905, 0.6442996197658541, 0.6385848013068368, 0.6331788943286997, 0.62804278765938, 0.623145780099186, 0.6184627855304075, 0.6139728203666551, 0.6096580847348431, 0.6055033404142401, 0.6014954531795793, 0.5976230373089706, 0.593876170503558, 0.5902461611934832, 0.5867253567557815, 0.5833069845818447, 0.5799850199185309, 0.5767540757036913, 0.5736093105466716, 0.5705463517147902, 0.5675612305501913, 0.5646503281971463, 0.5618103298919999, 0.5590381863732322, 0.5563310812200546, 0.5536864031344165, 0.5511017223512776, 0.548574770501992, 0.5461034233710113, 0.5436856860812436, 0.5413196803219127, 0.5390036332975982, 0.5367358681307457, 0.5345147954942994, 0.5323389062878574, 0.530206765201236, 0.5281170050346267, 0.5260683216655748, 0.5240594695704999, 0.5220892578230754, 0.5201565465039351, 0.5182602434663419, 0.5163993014109411, 0.5145727152298358, 0.5127795195861746, 0.511018786700454, 0.5092896243189301, 0.507591173843082, 0.5059226086020467, 0.5042831322524642, 0.5026719772922975, 0.5010884036770007, 0.4995316975279315, 0.49800116992420684, 0.4964961557703094, 0.49501601273269646, 0.49356012023946844, 0.4921278785378536, 0.49071870780485455, 0.4893320473069182, 0.4879673546049367, 0.48662410480126606, 0.48530178982578726, 0.48399991775832213, 0.48271801218497484, 0.48145561158618766, 0.4802122687545008, 0.4789875502401757, 0.477781035822998, 0.4765923180087093, 0.4754210015486415, 0.4742667029812338, 0.47312905019421336, 0.472007682006305, 0.4709022477674178, 0.46981240697632615, 0.4687378289149303, 0.4676781922982415, 0.4666331849392882, 0.4656025034281926, 0.46458585282471526, 0.4635829463635998, 0.46259350517209846, 0.4616172579990895, 0.4606539409552312, 0.4597032972636326, 0.4587650770205452, 0.4578390369656099, 0.4569249402612174, 0.4560225562805651, 0.45513166040401476, 0.45425203382337437, 0.45338346335375224, 0.4525257412526417, 0.45167866504592047, 0.45084203736045797, 0.45001566576304297, 0.44919936260535653, 0.44839294487473075, 0.44759623405044313, 0.44680905596531273, 0.4460312406723697, 0.44526262231638986, 0.4445030390100849, 0.4437523327147573, 0.44301034912523374, 0.44227693755890146, 0.4415519508486781, 0.44083524523975554, 0.4401266802899643, 0.4394261187736126, 0.43873342658866005, 0.4380484726670935, 0.43737112888837787, 0.4367012699958587, 0.4360387735160038, 0.43538351968036937, 0.43473539135018574, 0.4340942739434643, 0.433460055364522, 0.4328326259358377, 0.43221187833214647, 0.4315977075166896, 0.4309900106795377, 0.4303886871779092, 0.4297936384784097, 0.42920476810112146, 0.4286219815654725, 0.428045186337822, 0.42747429178069807, 0.42690920910362656, 0.4263498513154956, 0.4257961331783974, 0.42524797116289736, 0.4247052834046761, 0.4241679896624982, 0.42363601127745903, 0.4231092711334651, 0.4225876936189042, 0.422071204589466, 0.4215597313320677, 0.4210532025298529, 0.42055154822822277, 0.4200546998018646, 0.41956258992274487, 0.419075152529032, 0.4185923227949206, 0.4181140371013235, 0.4176402330074032, 0.4171708492229178, 0.41670582558134917, 0.4162451030137917, 0.4157886235235756, 0.4153363301615987, 0.4148881670023463, 0.4144440791205749, 0.41400401256863983, 0.4135679143544447, 0.41313573241999235, 0.41270741562052154, 0.4122829137042059, 0.4118621772924007, 0.41144515786041946, 0.41103180771882303, 0.41062207999520656, 0.4102159286164671, 0.40981330829153817, 0.4094141744945774, 0.4090184834485919, 0.40862619210948825, 0.4082372581505363, 0.4078516399472312, 0.4074692965625432, 0.40709018773254463, 0.4067142738523998, 0.40634151596271106, 0.40597187573620663, 0.40560531546476214, 0.4052417980467462, 0.4048812869746795, 0.4045237463231996, 0.4041691407373206, 0.4038174354209817, 0.40346859612587443, 0.40312258914054067, 0.40277938127973506, 0.4024389398740438, 0.4021012327597502, 0.40176622826894476, 0.4014338952198687, 0.40110420290748644, 0.40077712109427954, 0.4004526200012579, 0.4001306702991798, 0.39981124309997707, 0.399494309948378, 0.3991798428137245, 0.3988678140819765, 0.3985581965478998, 0.39825096340743144, 0.39794608825021854, 0.39764354505232613, 0.3973433081691084, 0.3970453523282403, 0.39674965262290396, 0.3964561845051276, 0.39616492377927126, 0.39587584659565633, 0.39558892944433505, 0.39530414914899603, 0.3950214828610035, 0.39474090805356427, 0.39446240251602277, 0.39418594434827736, 0.3939115119553174, 0.3936390840418759, 0.3933686396071976, 0.39310015793991676, 0.39283361861304306, 0.39256900147905355, 0.39230628666508743, 0.39204545456824097, 0.3917864858509597, 0.3915293614365272, 0.3912740625046458, 0.3910205704871098, 0.390768867063565, 0.39051893415735633, 0.3902707539314606, 0.3900243087844992, 0.38977958134683294, 0.38953655447673624, 0.38929521125664557, 0.38905553498948453, 0.3888175091950614, 0.3885811176065386, 0.38834634416697067, 0.38811317302591164, 0.38788158853608795, 0.3876515752501374, 0.3874231179174099, 0.38719620148083234, 0.3869708110738315, 0.38674693201731947, 0.38652454981673323, 0.38630365015913404, 0.3860842189103595, 0.38586624211223236, 0.38564970597981924, 0.3854345968987431, 0.3852209014225451, 0.38500860627009736, 0.38479769832306154, 0.384588164623397, 0.384379992370914, 0.384173168920872, 0.3839676817816228, 0.3837635186122968, 0.3835606672205302, 0.3833591155602368, 0.38315885172941566, 0.38295986396800374, 0.3827621406557624, 0.3825656703102051, 0.3823704415845614, 0.38217644326577654, 0.38198366427254726, 0.38179209365339367, 0.38160172058476216, 0.38141253436916506, 0.3812245244333518, 0.38103768032651036, 0.38085199171850365, 0.380667448398133, 0.3804840402714346, 0.3803017573600037, 0.3801205897993482, 0.3799405278372717, 0.37976156183228105, 0.3795836822520259, 0.3794068796717597, 0.3792311447728316, 0.37905646834119944, 0.3788828412659721, 0.37871025453797263, 0.37853869924832817, 0.37836816658708183, 0.37819864784182916, 0.3780301343963749, 0.37786261772941565, 0.3776960894132404, 0.3775305411124553, 0.3773659645827278, 0.37720235166955257, 0.3770396943070361, 0.37687798451670307, 0.37671721440631933, 0.37655737616873725, 0.3763984620807571, 0.3762404645020075, 0.37608337587384477, 0.3759271887182684, 0.37577189563685515, 0.37561748930970923, 0.3754639624944291, 0.3753113080250917, 0.37515951881125126, 0.37500858783695534, 0.37485850815977445, 0.37470927290984907, 0.37456087528894905, 0.3744133085695508, 0.374266566093925, 0.3741206412732421, 0.37397552758668884, 0.37383121858059976, 0.37368770786760197, 0.37354498912577255, 0.3734030560978089, 0.3732619025902123, 0.37312152247248304, 0.37298190967632816, 0.37284305819488095, 0.3727049620819329, 0.3725676154511763, 0.3724310124754581, 0.3722951473860464, 0.37216001447190566, 0.37202560807898444, 0.3718919226095133, 0.3717589525213123, 0.37162669232710943, 0.37149513659386946, 0.3713642799421313, 0.3712341170453567, 0.3711046426292863, 0.37097585147130807, 0.3708477383998316, 0.3707202982936747, 0.370593526081455, 0.3704674167409948, 0.3703419652987313, 0.37021716682913536, 0.37009301645414056, 0.36996950934257933, 0.369846640709626, 0.36972440581624944, 0.3696027999686731, 0.36948181851784123, 0.36936145685889554, 0.3692417104306556, 0.3691225747151094, 0.36900404523690994, 0.3688861175628786, 0.3687687873015161, 0.36865205010251917, 0.3685359016563058, 0.3684203376935444, 0.36830535398469244, 0.36819094633953875, 0.3680771106067542, 0.36796384267344634, 0.36785113846472284, 0.3677389939432587, 0.3676274051088699, 0.36751636799809334, 0.36740587868377195, 0.36729593327464594, 0.36718652791494844, 0.3670776587840081, 0.36696932209585575, 0.366861514098837, 0.3667542310752299, 0.36664746934086734, 0.3665412252447649, 0.3664354951687533, 0.3663302755271164, 0.366225562766233, 0.3661213533642235, 0.3660176438306024, 0.3659144307059335, 0.3658117105614911, 0.3657094799989252, 0.3656077356499306, 0.36550647417592075, 0.365405692267706, 0.36530538664517503, 0.3652055540569819, 0.3651061912802357, 0.3650072951201954, 0.36490886240996756, 0.3648108900102078, 0.36471337480882854, 0.3646163137207063, 0.3645197036873967, 0.36442354167685026, 0.3643278246831332, 0.36423254972615227, 0.36413771385138083, 0.3640433141295907, 0.3639493476565861, 0.36385581155294183, 0.36376270296374313, 0.36367001905833096, 0.3635777570300483, 0.36348591409599157, 0.36339448749676284, 0.3633034744962283, 0.3632128723812757, 0.36312267846157903, 0.36303289006936196, 0.36294350455916785, 0.3628545193076298, 0.3627659317132451, 0.36267773919615237, 0.36258993919790966, 0.3625025291812783, 0.36241550663000605, 0.3623288690486156, 0.36224261396219415, 0.3621567389161854, 0.36207124147618525, 0.3619861192277384, 0.3619013697761388, 0.3618169907462318, 0.3617329797822183, 0.36164933454746195, 0.36156605272429876, 0.36148313201384735, 0.36140057013582383, 0.3613183648283569, 0.36123651384780675, 0.36115501496858415, 0.3610738659829734, 0.36099306470095677, 0.3609126089500406, 0.3608324965750837, 0.3607527254381284, 0.3606732934182325, 0.3605941984113031, 0.3605154383299341, 0.3604370111032436, 0.3603589146767136, 0.36028114701203295, 0.36020370608693997, 0.36012658989506857, 0.36004979644579516, 0.3599733237640879, 0.3598971698903573, 0.35982133288030854, 0.3597458108047958, 0.35967060174967763, 0.3595957038156746, 0.3595211151182286, 0.3594468337873624, 0.35937285796754304, 0.35929918581754444, 0.35922581551031335, 0.35915274523283564, 0.35907997318600515, 0.35900749758449224, 0.35893531665661627, 0.35886342864421694, 0.35879183180252905, 0.35872052440005786, 0.3586495047184554, 0.35857877105239877, 0.35850832170946934, 0.3584381550100349, 0.3583682692871293, 0.35829866288633794, 0.3582293341656815, 0.3581602814955018, 0.3580915032583495, 0.35802299784887187, 0.35795476367370266, 0.35788679915135246, 0.3578191027121018, 0.35775167279789316, 0.3576845078622253, 0.35761760637004913, 0.35755096679766424, 0.3574845876326166, 0.35741846737359656, 0.3573526045303395, 0.3572869976235265, 0.3572216451846861, 0.35715654575609745, 0.3570916978906942, 0.35702710015196987, 0.3569627511138833, 0.35689864936076604, 0.3568347934872308, 0.35677118209807923, 0.356707813808213, 0.35664468724254406, 0.356581801035907, 0.35651915383297095, 0.35645674428815394, 0.3563945710655369, 0.35633263283877964, 0.3562709282910366, 0.3562094561148745, 0.35614821501218985, 0.3560872036941286, 0.3560264208810048, 0.35596586530222213, 0.3559055356961944, 0.3558454308102683, 0.3557855494006462, 0.35572589023230994, 0.3556664520789449, 0.3556072337228661, 0.3555482339549432, 0.3554894515745284, 0.35543088538938317, 0.35537253421560705, 0.35531439687756594, 0.3552564722078228, 0.35519875904706727, 0.355141256244047, 0.3550839626554996, 0.35502687714608516, 0.3549699985883189, 0.3549133258625061, 0.35485685785667526, 0.35480059346651427, 0.35474453159530567, 0.35468867115386316, 0.354633011060469, 0.3545775502408112, 0.3545222876279221, 0.3544672221621174, 0.3544123527909352, 0.3543576784690765, 0.35430319815834604, 0.3542489108275928, 0.35419481545265274, 0.3541409110162909, 0.35408719650814385, 0.35403367092466437, 0.3539803332690641, 0.35392718255125927, 0.3538742177878158, 0.353821438001894, 0.35376884222319593, 0.35371642948791165, 0.3536641988386662, 0.35361214932446805, 0.3535602800006568, 0.35350858992885165, 0.3534570781769019, 0.35340574381883494, 0.35335458593480823, 0.35330360361105834, 0.3532527959398535, 0.3532021620194444, 0.3531517009540161, 0.3531014118536416, 0.35305129383423345, 0.3530013460174985, 0.35295156753089063, 0.35290195750756576, 0.3528525150863362, 0.3528032394116262, 0.3527541296334271, 0.3527051849072535, 0.3526564043940998, 0.3526077872603966, 0.3525593326779682, 0.35251103982399035, 0.35246290788094803, 0.35241493603659363, 0.3523671234839062, 0.3523194694210503, 0.35227197305133545, 0.35222463358317696, 0.352177450230054, 0.3521304222104729, 0.3520835487479265, 0.3520368290708558, 0.3519902624126121, 0.35194384801141876, 0.3518975851103332, 0.35185147295721025, 0.35180551080466543, 0.35175969791003775, 0.35171403353535374, 0.35166851694729107, 0.3516231474171443, 0.35157792422078804, 0.35153284663864304, 0.35148791395564094, 0.35144312546119055, 0.3513984804491432, 0.3513539782177593, 0.3513096180696752, 0.35126539931186973, 0.3512213212556316, 0.35117738321652653, 0.35113358451436555, 0.3510899244731728, 0.3510464024211535, 0.35100301769066317, 0.35095976961817643, 0.35091665754425605, 0.3508736808135218, 0.35083083877462157, 0.35078813078019977, 0.3507455561868689, 0.35070311435517926, 0.35066080464959004, 0.3506186264384402, 0.35057657909391976, 0.3505346619920415, 0.3504928745126124, 0.35045121603920637, 0.3504096859591354, 0.3503682836634232, 0.350327008546777, 0.35028586000756134, 0.35024483744777063, 0.3502039402730033, 0.35016316789243446, 0.350122519718791, 0.35008199516832467, 0.3500415936607872, 0.3500013146194042, 0.3499611574708508, 0.34992112164522565, 0.3498812065760269, 0.3498414117001276, 0.34980173645775053, 0.349762180292445, 0.3497227426510627, 0.3496834229837334, 0.349644220743842, 0.349605135388005, 0.34956616637604726, 0.3495273131709791, 0.3494885752389737, 0.34944995204934437, 0.34941144307452204, 0.3493730477900331, 0.34933476567447824, 0.3492965962095092, 0.3492585388798083, 0.34922059317306614, 0.3491827585799612, 0.3491450345941379, 0.34910742071218637, 0.3490699164336211, 0.3490325212608607, 0.3489952346992076, 0.34895805625682785, 0.3489209854447304, 0.3488840217767476, 0.3488471647695162, 0.34881041394245643, 0.34877376881775374, 0.3487372289203387, 0.3487007937778684, 0.34866446292070724, 0.3486282358819086, 0.34859211219719544, 0.3485560914049427, 0.34852017304615823, 0.3484843566644651, 0.3484486418060831, 0.34841302801981144, 0.348377514857011, 0.34834210187158543, 0.34830678861996556, 0.3482715746610909, 0.34823645955639315, 0.34820144286977855, 0.34816652416761096, 0.34813170301869584, 0.34809697899426295, 0.34806235166795024, 0.34802782061578724, 0.34799338541617897, 0.34795904564988944, 0.3479248009000265, 0.34789065075202524, 0.3478565947936326, 0.34782263261489194, 0.34778876380812696, 0.34775498796792703, 0.34772130469113144, 0.34768771357681494, 0.3476542142262721, 0.34762080624300246, 0.34758748923269656, 0.34755426280322027, 0.347521126564601, 0.34748808012901305, 0.34745512311076315, 0.34742225512627684, 0.3473894757940836, 0.34735678473480347, 0.3473241815711331, 0.347291665927832, 0.3472592374317085, 0.3472268957116069, 0.3471946403983938, 0.3471624711249446, 0.34713038752613, 0.34709838923880404, 0.34706647590178946, 0.3470346471558663, 0.34700290264375816, 0.3469712420101199, 0.3469396649015248, 0.346908170966452, 0.3468767598552744, 0.3468454312202461, 0.3468141847154902, 0.34678301999698663, 0.34675193672255994, 0.3467209345518682, 0.34669001314638975, 0.3466591721694125, 0.346628411286022, 0.34659773016308953, 0.3465671284692609, 0.34653660587494484, 0.34650616205230217, 0.3464757966752336, 0.3464455094193696, 0.3464152999620585, 0.346385167982356, 0.346355113161014, 0.3463251351804702, 0.3462952337248365, 0.3462654084798894, 0.34623565913305826, 0.3462059853734158, 0.34617638689166746, 0.3461468633801403, 0.3461174145327736, 0.34608804004510835, 0.34605873961427697, 0.3460295129389936, 0.3460003597195438, 0.3459712796577747, 0.3459422724570855, 0.3459133378224173, 0.3458844754602438, 0.34585568507856107, 0.34582696638687893, 0.3457983190962104, 0.3457697429190637, 0.34574123756943126, 0.3457128027627819, 0.34568443821605044, 0.34565614364763003, 0.34562791877736126, 0.3455997633265249, 0.34557167701783176, 0.34554365957541444, 0.3455157107248184, 0.3454878301929933, 0.3454600177082838, 0.3454322730004217, 0.3454045958005172, 0.34537698584104976, 0.3453494428558611, 0.345321966580145, 0.34529455675044046, 0.3452672131046228, 0.34523993538189574, 0.34521272332278286, 0.3451855766691204, 0.34515849516404795, 0.3451314785520019, 0.3451045265787064, 0.3450776389911663, 0.3450508155376591, 0.3450240559677269, 0.3449973600321694, 0.34497072748303576, 0.34494415807361706, 0.3449176515584391, 0.344891207693255, 0.344864826235037, 0.3448385069419705, 0.3448122495734449, 0.3447860538900484, 0.3447599196535593, 0.3447338466269394, 0.3447078345743274, 0.3446818832610304, 0.3446559924535187, 0.34463016191941753, 0.34460439142750077, 0.3445786807476841, 0.3445530296510179, 0.34452743790968066, 0.34450190529697217, 0.34447643158730723, 0.34445101655620874, 0.344425659980301, 0.34440036163730353, 0.3443751213060241, 0.3443499387663532, 0.3443248137992567, 0.3442997461867699, 0.3442747357119914, 0.3442497821590765, 0.3442248853132313, 0.34420004496070633, 0.34417526088879036, 0.3441505328858049, 0.34412586074109713, 0.3441012442450352, 0.34407668318900053, 0.344052177365384, 0.3440277265675782, 0.344003330589973, 0.3439789892279485, 0.34395470227787034, 0.34393046953708356, 0.3439062908039069, 0.3438821658776268, 0.34385809455849264, 0.3438340766477105, 0.34381011194743777, 0.343786200260778, 0.343762341391775, 0.3437385351454075, 0.34371478132758404, 0.3436910797451377, 0.3436674302058198, 0.34364383251829644, 0.34362028649214116, 0.3435967919378316, 0.34357334866674333, 0.3435499564911445, 0.34352661522419176, 0.3435033246799243, 0.34348008467325913, 0.34345689501998616, 0.3434337555367632, 0.3434106660411109, 0.3433876263514079, 0.3433646362868862, 0.343341695667626, 0.34331880431455125, 0.3432959620494244, 0.3432731686948421, 0.3432504240742304, 0.34322772801183987, 0.34320508033274144, 0.34318248086282094, 0.3431599294287756, 0.3431374258581086, 0.34311496997912494, 0.343092561620927, 0.34307020061340976, 0.3430478867872569, 0.343025619973936, 0.34300340000569407, 0.34298122671555376, 0.3429590999373079, 0.34293701950551697, 0.34291498525550335, 0.3428929970233475, 0.34287105464588385, 0.34284915796069704, 0.3428273068061169, 0.34280550102121493, 0.3427837404457999, 0.34276202492041424, 0.34274035428632943, 0.3427187283855422, 0.3426971470607708, 0.3426756101554505, 0.3426541175137302, 0.34263266898046807, 0.3426112644012283, 0.3425899036222759, 0.3425685864905746, 0.3425473128537819, 0.3425260825602454, 0.34250489545899937, 0.3424837513997607, 0.34246265023292555, 0.3424415918095651, 0.3424205759814225, 0.34239960260090857, 0.3423786715210987, 0.3423577825957293, 0.3423369356791936, 0.3423161306265386, 0.3422953672934615, 0.3422746455363059, 0.3422539652120589, 0.3422333261783467, 0.34221272829343224, 0.34219217141621106, 0.3421716554062078, 0.3421511801235734, 0.3421307454290811, 0.34211035118412425, 0.34208999725071093, 0.342069683491463, 0.342049409769611, 0.34202917594899207, 0.34200898189404616, 0.3419888274698126, 0.3419687125419274, 0.34194863697662037, 0.34192860064071084, 0.34190860340160545, 0.3418886451272945, 0.3418687256863497, 0.34184884494791984, 0.341829002781729, 0.3418091990580723, 0.3417894336478139, 0.34176970642238336, 0.34175001725377335, 0.34173036601453544, 0.3417107525777785, 0.34169117681716493, 0.3416716386069083, 0.34165213782177006, 0.34163267433705663, 0.3416132480286166, 0.3415938587728382, 0.3415745064466465, 0.3415551909274998, 0.34153591209338796, 0.3415166698228286, 0.34149746399486525, 0.3414782944890638, 0.34145916118551034, 0.34144006396480836, 0.3414210027080758, 0.34140197729694294, 0.34138298761354885, 0.3413640335405397, 0.3413451149610651, 0.34132623175877697, 0.3413073838178256, 0.3412885710228573, 0.3412697932590127, 0.3412510504119229, 0.3412323423677084, 0.341213669012975, 0.34119503023481307, 0.3411764259207933, 0.34115785595896525, 0.3411393202378549, 0.34112081864646226, 0.34110235107425785, 0.34108391741118205, 0.3410655175476409, 0.3410471513745056, 0.34102881878310837, 0.34101051966524104, 0.3409922539131529, 0.34097402141954775, 0.3409558220775817, 0.34093765578086116, 0.3409195224234407, 0.3409014218998201, 0.34088335410494286, 0.34086531893419353, 0.340847316283395, 0.34082934604880766, 0.34081140812712574, 0.34079350241547635, 0.34077562881141593, 0.3407577872129294, 0.34073997751842716, 0.3407221996267437, 0.3407044534371345, 0.34068673884927464, 0.3406690557632567, 0.34065140407958827, 0.34063378369918973, 0.34061619452339326, 0.34059863645393934, 0.34058110939297576, 0.34056361324305534, 0.3405461479071336, 0.34052871328856693, 0.340511309291111, 0.3404939358189179, 0.34047659277653525, 0.34045928006890297, 0.3404419976013527, 0.34042474527960487, 0.34040752300976707]}],\n",
              "                        {\"height\": 400, \"showlegend\": true, \"template\": {\"data\": {\"bar\": [{\"error_x\": {\"color\": \"#2a3f5f\"}, \"error_y\": {\"color\": \"#2a3f5f\"}, \"marker\": {\"line\": {\"color\": \"#E5ECF6\", \"width\": 0.5}}, \"type\": \"bar\"}], \"barpolar\": [{\"marker\": {\"line\": {\"color\": \"#E5ECF6\", \"width\": 0.5}}, \"type\": \"barpolar\"}], \"carpet\": [{\"aaxis\": {\"endlinecolor\": \"#2a3f5f\", \"gridcolor\": \"white\", \"linecolor\": \"white\", \"minorgridcolor\": \"white\", \"startlinecolor\": \"#2a3f5f\"}, \"baxis\": {\"endlinecolor\": \"#2a3f5f\", \"gridcolor\": \"white\", \"linecolor\": \"white\", \"minorgridcolor\": \"white\", \"startlinecolor\": \"#2a3f5f\"}, \"type\": \"carpet\"}], \"choropleth\": [{\"colorbar\": {\"outlinewidth\": 0, \"ticks\": \"\"}, \"type\": \"choropleth\"}], \"contour\": [{\"colorbar\": {\"outlinewidth\": 0, \"ticks\": \"\"}, \"colorscale\": [[0.0, \"#0d0887\"], [0.1111111111111111, \"#46039f\"], [0.2222222222222222, \"#7201a8\"], [0.3333333333333333, \"#9c179e\"], [0.4444444444444444, \"#bd3786\"], [0.5555555555555556, \"#d8576b\"], [0.6666666666666666, \"#ed7953\"], [0.7777777777777778, \"#fb9f3a\"], [0.8888888888888888, \"#fdca26\"], [1.0, \"#f0f921\"]], \"type\": \"contour\"}], \"contourcarpet\": [{\"colorbar\": {\"outlinewidth\": 0, \"ticks\": \"\"}, \"type\": \"contourcarpet\"}], \"heatmap\": [{\"colorbar\": {\"outlinewidth\": 0, \"ticks\": \"\"}, \"colorscale\": [[0.0, \"#0d0887\"], [0.1111111111111111, \"#46039f\"], [0.2222222222222222, \"#7201a8\"], [0.3333333333333333, \"#9c179e\"], [0.4444444444444444, \"#bd3786\"], [0.5555555555555556, \"#d8576b\"], [0.6666666666666666, \"#ed7953\"], [0.7777777777777778, \"#fb9f3a\"], [0.8888888888888888, \"#fdca26\"], [1.0, \"#f0f921\"]], \"type\": \"heatmap\"}], \"heatmapgl\": [{\"colorbar\": {\"outlinewidth\": 0, \"ticks\": \"\"}, \"colorscale\": [[0.0, \"#0d0887\"], [0.1111111111111111, \"#46039f\"], [0.2222222222222222, \"#7201a8\"], [0.3333333333333333, \"#9c179e\"], [0.4444444444444444, \"#bd3786\"], [0.5555555555555556, \"#d8576b\"], [0.6666666666666666, \"#ed7953\"], [0.7777777777777778, \"#fb9f3a\"], [0.8888888888888888, \"#fdca26\"], [1.0, \"#f0f921\"]], \"type\": \"heatmapgl\"}], \"histogram\": [{\"marker\": {\"colorbar\": {\"outlinewidth\": 0, \"ticks\": \"\"}}, \"type\": \"histogram\"}], \"histogram2d\": [{\"colorbar\": {\"outlinewidth\": 0, \"ticks\": \"\"}, \"colorscale\": [[0.0, \"#0d0887\"], [0.1111111111111111, \"#46039f\"], [0.2222222222222222, \"#7201a8\"], [0.3333333333333333, \"#9c179e\"], [0.4444444444444444, \"#bd3786\"], [0.5555555555555556, \"#d8576b\"], [0.6666666666666666, \"#ed7953\"], [0.7777777777777778, \"#fb9f3a\"], [0.8888888888888888, \"#fdca26\"], [1.0, \"#f0f921\"]], \"type\": \"histogram2d\"}], \"histogram2dcontour\": [{\"colorbar\": {\"outlinewidth\": 0, \"ticks\": \"\"}, \"colorscale\": [[0.0, \"#0d0887\"], [0.1111111111111111, \"#46039f\"], [0.2222222222222222, \"#7201a8\"], [0.3333333333333333, \"#9c179e\"], [0.4444444444444444, \"#bd3786\"], [0.5555555555555556, \"#d8576b\"], [0.6666666666666666, \"#ed7953\"], [0.7777777777777778, \"#fb9f3a\"], [0.8888888888888888, \"#fdca26\"], [1.0, \"#f0f921\"]], \"type\": \"histogram2dcontour\"}], \"mesh3d\": [{\"colorbar\": {\"outlinewidth\": 0, \"ticks\": \"\"}, \"type\": \"mesh3d\"}], \"parcoords\": [{\"line\": {\"colorbar\": {\"outlinewidth\": 0, \"ticks\": \"\"}}, \"type\": \"parcoords\"}], \"scatter\": [{\"marker\": {\"colorbar\": {\"outlinewidth\": 0, \"ticks\": \"\"}}, \"type\": \"scatter\"}], \"scatter3d\": [{\"line\": {\"colorbar\": {\"outlinewidth\": 0, \"ticks\": \"\"}}, \"marker\": {\"colorbar\": {\"outlinewidth\": 0, \"ticks\": \"\"}}, \"type\": \"scatter3d\"}], \"scattercarpet\": [{\"marker\": {\"colorbar\": {\"outlinewidth\": 0, \"ticks\": \"\"}}, \"type\": \"scattercarpet\"}], \"scattergeo\": [{\"marker\": {\"colorbar\": {\"outlinewidth\": 0, \"ticks\": \"\"}}, \"type\": \"scattergeo\"}], \"scattergl\": [{\"marker\": {\"colorbar\": {\"outlinewidth\": 0, \"ticks\": \"\"}}, \"type\": \"scattergl\"}], \"scattermapbox\": [{\"marker\": {\"colorbar\": {\"outlinewidth\": 0, \"ticks\": \"\"}}, \"type\": \"scattermapbox\"}], \"scatterpolar\": [{\"marker\": {\"colorbar\": {\"outlinewidth\": 0, \"ticks\": \"\"}}, \"type\": \"scatterpolar\"}], \"scatterpolargl\": [{\"marker\": {\"colorbar\": {\"outlinewidth\": 0, \"ticks\": \"\"}}, \"type\": \"scatterpolargl\"}], \"scatterternary\": [{\"marker\": {\"colorbar\": {\"outlinewidth\": 0, \"ticks\": \"\"}}, \"type\": \"scatterternary\"}], \"surface\": [{\"colorbar\": {\"outlinewidth\": 0, \"ticks\": \"\"}, \"colorscale\": [[0.0, \"#0d0887\"], [0.1111111111111111, \"#46039f\"], [0.2222222222222222, \"#7201a8\"], [0.3333333333333333, \"#9c179e\"], [0.4444444444444444, \"#bd3786\"], [0.5555555555555556, \"#d8576b\"], [0.6666666666666666, \"#ed7953\"], [0.7777777777777778, \"#fb9f3a\"], [0.8888888888888888, \"#fdca26\"], [1.0, \"#f0f921\"]], \"type\": \"surface\"}], \"table\": [{\"cells\": {\"fill\": {\"color\": \"#EBF0F8\"}, \"line\": {\"color\": \"white\"}}, \"header\": {\"fill\": {\"color\": \"#C8D4E3\"}, \"line\": {\"color\": \"white\"}}, \"type\": \"table\"}]}, \"layout\": {\"annotationdefaults\": {\"arrowcolor\": \"#2a3f5f\", \"arrowhead\": 0, \"arrowwidth\": 1}, \"colorscale\": {\"diverging\": [[0, \"#8e0152\"], [0.1, \"#c51b7d\"], [0.2, \"#de77ae\"], [0.3, \"#f1b6da\"], [0.4, \"#fde0ef\"], [0.5, \"#f7f7f7\"], [0.6, \"#e6f5d0\"], [0.7, \"#b8e186\"], [0.8, \"#7fbc41\"], [0.9, \"#4d9221\"], [1, \"#276419\"]], \"sequential\": [[0.0, \"#0d0887\"], [0.1111111111111111, \"#46039f\"], [0.2222222222222222, \"#7201a8\"], [0.3333333333333333, \"#9c179e\"], [0.4444444444444444, \"#bd3786\"], [0.5555555555555556, \"#d8576b\"], [0.6666666666666666, \"#ed7953\"], [0.7777777777777778, \"#fb9f3a\"], [0.8888888888888888, \"#fdca26\"], [1.0, \"#f0f921\"]], \"sequentialminus\": [[0.0, \"#0d0887\"], [0.1111111111111111, \"#46039f\"], [0.2222222222222222, \"#7201a8\"], [0.3333333333333333, \"#9c179e\"], [0.4444444444444444, \"#bd3786\"], [0.5555555555555556, \"#d8576b\"], [0.6666666666666666, \"#ed7953\"], [0.7777777777777778, \"#fb9f3a\"], [0.8888888888888888, \"#fdca26\"], [1.0, \"#f0f921\"]]}, \"colorway\": [\"#636efa\", \"#EF553B\", \"#00cc96\", \"#ab63fa\", \"#FFA15A\", \"#19d3f3\", \"#FF6692\", \"#B6E880\", \"#FF97FF\", \"#FECB52\"], \"font\": {\"color\": \"#2a3f5f\"}, \"geo\": {\"bgcolor\": \"white\", \"lakecolor\": \"white\", \"landcolor\": \"#E5ECF6\", \"showlakes\": true, \"showland\": true, \"subunitcolor\": \"white\"}, \"hoverlabel\": {\"align\": \"left\"}, \"hovermode\": \"closest\", \"mapbox\": {\"style\": \"light\"}, \"paper_bgcolor\": \"white\", \"plot_bgcolor\": \"#E5ECF6\", \"polar\": {\"angularaxis\": {\"gridcolor\": \"white\", \"linecolor\": \"white\", \"ticks\": \"\"}, \"bgcolor\": \"#E5ECF6\", \"radialaxis\": {\"gridcolor\": \"white\", \"linecolor\": \"white\", \"ticks\": \"\"}}, \"scene\": {\"xaxis\": {\"backgroundcolor\": \"#E5ECF6\", \"gridcolor\": \"white\", \"gridwidth\": 2, \"linecolor\": \"white\", \"showbackground\": true, \"ticks\": \"\", \"zerolinecolor\": \"white\"}, \"yaxis\": {\"backgroundcolor\": \"#E5ECF6\", \"gridcolor\": \"white\", \"gridwidth\": 2, \"linecolor\": \"white\", \"showbackground\": true, \"ticks\": \"\", \"zerolinecolor\": \"white\"}, \"zaxis\": {\"backgroundcolor\": \"#E5ECF6\", \"gridcolor\": \"white\", \"gridwidth\": 2, \"linecolor\": \"white\", \"showbackground\": true, \"ticks\": \"\", \"zerolinecolor\": \"white\"}}, \"shapedefaults\": {\"line\": {\"color\": \"#2a3f5f\"}}, \"ternary\": {\"aaxis\": {\"gridcolor\": \"white\", \"linecolor\": \"white\", \"ticks\": \"\"}, \"baxis\": {\"gridcolor\": \"white\", \"linecolor\": \"white\", \"ticks\": \"\"}, \"bgcolor\": \"#E5ECF6\", \"caxis\": {\"gridcolor\": \"white\", \"linecolor\": \"white\", \"ticks\": \"\"}}, \"title\": {\"x\": 0.05}, \"xaxis\": {\"automargin\": true, \"gridcolor\": \"white\", \"linecolor\": \"white\", \"ticks\": \"\", \"zerolinecolor\": \"white\", \"zerolinewidth\": 2}, \"yaxis\": {\"automargin\": true, \"gridcolor\": \"white\", \"linecolor\": \"white\", \"ticks\": \"\", \"zerolinecolor\": \"white\", \"zerolinewidth\": 2}}}, \"title\": {\"text\": \"Cost Function vs #iterations (gradient descent)\"}, \"width\": 600, \"xaxis\": {\"title\": {\"text\": \"Iterations\"}}, \"yaxis\": {\"title\": {\"text\": \"Cost Function\"}}},\n",
              "                        {\"responsive\": true}\n",
              "                    ).then(function(){\n",
              "                            \n",
              "var gd = document.getElementById('2a809559-3ed3-4fd6-b4b8-22298c0bc78f');\n",
              "var x = new MutationObserver(function (mutations, observer) {{\n",
              "        var display = window.getComputedStyle(gd).display;\n",
              "        if (!display || display === 'none') {{\n",
              "            console.log([gd, 'removed!']);\n",
              "            Plotly.purge(gd);\n",
              "            observer.disconnect();\n",
              "        }}\n",
              "}});\n",
              "\n",
              "// Listen for the removal of the full notebook cells\n",
              "var notebookContainer = gd.closest('#notebook-container');\n",
              "if (notebookContainer) {{\n",
              "    x.observe(notebookContainer, {childList: true});\n",
              "}}\n",
              "\n",
              "// Listen for the clearing of the current output cell\n",
              "var outputEl = gd.closest('.output');\n",
              "if (outputEl) {{\n",
              "    x.observe(outputEl, {childList: true});\n",
              "}}\n",
              "\n",
              "                        })\n",
              "                };\n",
              "                \n",
              "            </script>\n",
              "        </div>\n",
              "</body>\n",
              "</html>"
            ]
          },
          "metadata": {
            "tags": []
          }
        }
      ]
    },
    {
      "cell_type": "code",
      "metadata": {
        "id": "fWwsj2xsujDZ",
        "colab_type": "code",
        "outputId": "d13bc46d-0029-4992-8813-d181038f1766",
        "colab": {
          "base_uri": "https://localhost:8080/",
          "height": 35
        }
      },
      "source": [
        "p = prediction(X,theta_batch)\n",
        "print(\"Train Accuracy BGD: {}\".format(sum(p==y)[0]/len(y)))"
      ],
      "execution_count": 91,
      "outputs": [
        {
          "output_type": "stream",
          "text": [
            "Train Accuracy BGD: 0.8389830508474576\n"
          ],
          "name": "stdout"
        }
      ]
    },
    {
      "cell_type": "code",
      "metadata": {
        "id": "jegexgN0AhN7",
        "colab_type": "code",
        "outputId": "2b094582-4678-4e03-bf17-ae57d1af170a",
        "colab": {
          "base_uri": "https://localhost:8080/",
          "height": 35
        }
      },
      "source": [
        "p = prediction(X,theta_opt)\n",
        "print(\"Train Accuracy fmin: {}\".format(sum(p==y)[0]/len(y)))"
      ],
      "execution_count": 92,
      "outputs": [
        {
          "output_type": "stream",
          "text": [
            "Train Accuracy fmin: 0.864406779661017\n"
          ],
          "name": "stdout"
        }
      ]
    },
    {
      "cell_type": "markdown",
      "metadata": {
        "id": "YxcR1-NMPxW0",
        "colab_type": "text"
      },
      "source": [
        "## 3.3 Plot Decision Boundary"
      ]
    },
    {
      "cell_type": "code",
      "metadata": {
        "id": "jhb0nTmdM11s",
        "colab_type": "code",
        "colab": {}
      },
      "source": [
        "# For that, we will assign a color to each\n",
        "x_ = np.linspace(-1,1.5,50)\n",
        "y_ = np.linspace(-1,1.5,50)\n",
        "xx, yy = np.meshgrid(x_, y_)"
      ],
      "execution_count": 0,
      "outputs": []
    },
    {
      "cell_type": "code",
      "metadata": {
        "id": "kzPWsEUcNIAz",
        "colab_type": "code",
        "colab": {}
      },
      "source": [
        "poly6 = PolynomialFeatures(6)\n",
        "# manual predict\n",
        "# transform X1 and X2 using a polynomial of higher degree\n",
        "# z = x_transformed * theta\n",
        "\n",
        "# change to theta_batch in order to see other decision boundary\n",
        "Z = np.dot(poly6.fit_transform(np.c_[xx.ravel(), yy.ravel()]),theta_batch)\n",
        "Z = Z.reshape(xx.shape)"
      ],
      "execution_count": 0,
      "outputs": []
    },
    {
      "cell_type": "code",
      "metadata": {
        "id": "ShKqbT2BOOcQ",
        "colab_type": "code",
        "outputId": "51cfb1bf-9f18-45f5-b6b0-4ab4db486776",
        "colab": {
          "base_uri": "https://localhost:8080/",
          "height": 35
        }
      },
      "source": [
        "Z.shape"
      ],
      "execution_count": 96,
      "outputs": [
        {
          "output_type": "execute_result",
          "data": {
            "text/plain": [
              "(50, 50)"
            ]
          },
          "metadata": {
            "tags": []
          },
          "execution_count": 96
        }
      ]
    },
    {
      "cell_type": "code",
      "metadata": {
        "id": "8zlffAW6uynp",
        "colab_type": "code",
        "outputId": "8288fca7-5712-45e4-a949-59d51d1bf8ae",
        "colab": {
          "base_uri": "https://localhost:8080/",
          "height": 517
        }
      },
      "source": [
        "fig = px.scatter(data2, \n",
        "                 x=\"X1\",\n",
        "                 y=\"X2\",\n",
        "                 color_discrete_sequence=[\"green\",\"red\"],\n",
        "                 symbol_sequence=[\"cross\",\"circle\"],\n",
        "                 color=\"Admitted\",\n",
        "                 width=500,\n",
        "                 height=500,\n",
        "                 title=\"Admitted vs not Admitted\",symbol=\"Admitted\",\n",
        "                 )\n",
        "fig.add_contour(z=Z,\n",
        "                x=x_,\n",
        "                y=y_,\n",
        "                ncontours=1,\n",
        "                showscale=False,\n",
        "                colorscale='haline')\n",
        "fig.show()\n",
        "\n",
        "# other colorscale\n",
        "# https://plot.ly/python/v3/cmocean-colorscales/"
      ],
      "execution_count": 97,
      "outputs": [
        {
          "output_type": "display_data",
          "data": {
            "text/html": [
              "<html>\n",
              "<head><meta charset=\"utf-8\" /></head>\n",
              "<body>\n",
              "    <div>\n",
              "            <script src=\"https://cdnjs.cloudflare.com/ajax/libs/mathjax/2.7.5/MathJax.js?config=TeX-AMS-MML_SVG\"></script><script type=\"text/javascript\">if (window.MathJax) {MathJax.Hub.Config({SVG: {font: \"STIX-Web\"}});}</script>\n",
              "                <script type=\"text/javascript\">window.PlotlyConfig = {MathJaxConfig: 'local'};</script>\n",
              "        <script src=\"https://cdn.plot.ly/plotly-latest.min.js\"></script>    \n",
              "            <div id=\"5f32331b-0774-47c5-9ddf-ad73ec1ca117\" class=\"plotly-graph-div\" style=\"height:500px; width:500px;\"></div>\n",
              "            <script type=\"text/javascript\">\n",
              "                \n",
              "                    window.PLOTLYENV=window.PLOTLYENV || {};\n",
              "                    \n",
              "                if (document.getElementById(\"5f32331b-0774-47c5-9ddf-ad73ec1ca117\")) {\n",
              "                    Plotly.newPlot(\n",
              "                        '5f32331b-0774-47c5-9ddf-ad73ec1ca117',\n",
              "                        [{\"hoverlabel\": {\"namelength\": 0}, \"hovertemplate\": \"Admitted=1<br>X1=%{x}<br>X2=%{y}\", \"legendgroup\": \"Admitted=1\", \"marker\": {\"color\": \"green\", \"symbol\": \"cross\"}, \"mode\": \"markers\", \"name\": \"Admitted=1\", \"showlegend\": true, \"type\": \"scatter\", \"x\": [0.05126699999999999, -0.09274199999999999, -0.21370999999999998, -0.375, -0.51325, -0.52477, -0.39804, -0.30588000000000004, 0.016705, 0.13191, 0.38537, 0.5293800000000001, 0.6388199999999999, 0.73675, 0.54666, 0.322, 0.16647, -0.046659, -0.17339000000000002, -0.47868999999999995, -0.60541, -0.62846, -0.5938899999999999, -0.42108, -0.11578, 0.20104, 0.46601000000000004, 0.6733899999999999, -0.13882, -0.29435, -0.26555, -0.16187, -0.17339000000000002, -0.28283, -0.36348, -0.30012, -0.23675, -0.06394, 0.062788, 0.22984000000000002, 0.2932, 0.48328999999999994, 0.64459, 0.46025, 0.6273, 0.5754600000000001, 0.72523, 0.22408000000000003, 0.44297, 0.322, 0.13767000000000001, -0.0063364, -0.09274199999999999, -0.20795, -0.20795, -0.43836, -0.21946999999999997, -0.13882], \"xaxis\": \"x\", \"y\": [0.6995600000000001, 0.68494, 0.69225, 0.5021899999999999, 0.46563999999999994, 0.2098, 0.034357, -0.19225, -0.40424, -0.51389, -0.56506, -0.5212, -0.24341999999999997, -0.18494000000000002, 0.48757, 0.5826, 0.53874, 0.81652, 0.6995600000000001, 0.63377, 0.59722, 0.33405999999999997, 0.005117, -0.27266, -0.39693, -0.6016100000000001, -0.53582, -0.53582, 0.54605, 0.7799699999999999, 0.96272, 0.8019, 0.6483899999999999, 0.47295, 0.31213, 0.027047, -0.21418, -0.18494000000000002, -0.16301, -0.41155, -0.2288, -0.18494000000000002, -0.14107999999999998, 0.012426999999999999, 0.15863, 0.26827, 0.44371000000000005, 0.52412, 0.67032, 0.69225, 0.57529, 0.39985, 0.5533600000000001, 0.35599000000000003, 0.17325, 0.21711, -0.016812999999999998, -0.27266], \"yaxis\": \"y\"}, {\"hoverlabel\": {\"namelength\": 0}, \"hovertemplate\": \"Admitted=0<br>X1=%{x}<br>X2=%{y}\", \"legendgroup\": \"Admitted=0\", \"marker\": {\"color\": \"red\", \"symbol\": \"circle\"}, \"mode\": \"markers\", \"name\": \"Admitted=0\", \"showlegend\": true, \"type\": \"scatter\", \"x\": [0.18375999999999998, 0.22408000000000003, 0.29896, 0.50634, 0.61578, 0.60426, 0.76555, 0.92684, 0.82316, 0.96141, 0.9383600000000001, 0.8634799999999999, 0.89804, 0.85196, 0.8289200000000001, 0.79435, 0.5927399999999999, 0.51786, 0.46601000000000004, 0.35081, 0.28744000000000003, 0.085829, 0.14919000000000002, -0.13305999999999998, -0.40956, -0.39228, -0.74366, -0.69758, -0.7551800000000001, -0.69758, -0.4038, -0.38076, -0.50749, -0.54781, 0.10311, 0.057027999999999995, -0.10425999999999999, -0.081221, 0.28744000000000003, 0.39689, 0.6388199999999999, 0.82316, 0.6733899999999999, 1.0709, -0.046659, -0.23675, -0.15035, -0.49021000000000003, -0.46717, -0.28859, -0.6111800000000001, -0.6630199999999999, -0.59965, -0.72638, -0.8300700000000001, -0.7206199999999999, -0.5938899999999999, -0.48445, -0.0063364, 0.63265], \"xaxis\": \"x\", \"y\": [0.93348, 0.7799699999999999, 0.61915, 0.7580399999999999, 0.7288, 0.59722, 0.5021899999999999, 0.3633, 0.27558, 0.085526, 0.012426999999999999, -0.082602, -0.20686999999999997, -0.36769, -0.5212, -0.55775, -0.7405, -0.5943, -0.41886, -0.57968, -0.76974, -0.75512, -0.57968, -0.4481, -0.41155, -0.25804, -0.25804, 0.041667, 0.2902, 0.68494, 0.70687, 0.91886, 0.9042399999999999, 0.70687, 0.7799699999999999, 0.91886, 0.9919600000000001, 1.1089, 1.087, 0.82383, 0.8896200000000001, 0.66301, 0.64108, 0.10015, -0.57968, -0.6381600000000001, -0.36769, -0.3019, -0.13377, -0.060673000000000005, -0.067982, -0.21418, -0.41886, -0.082602, 0.31213, 0.53874, 0.49488000000000004, 0.9992700000000001, 0.9992700000000001, -0.030612], \"yaxis\": \"y\"}, {\"colorscale\": [[0.0, \"rgb(41, 24, 107)\"], [0.09090909090909091, \"rgb(42, 35, 160)\"], [0.18181818181818182, \"rgb(15, 71, 153)\"], [0.2727272727272727, \"rgb(18, 95, 142)\"], [0.36363636363636365, \"rgb(38, 116, 137)\"], [0.45454545454545453, \"rgb(53, 136, 136)\"], [0.5454545454545454, \"rgb(65, 157, 133)\"], [0.6363636363636364, \"rgb(81, 178, 124)\"], [0.7272727272727273, \"rgb(111, 198, 107)\"], [0.8181818181818182, \"rgb(160, 214, 91)\"], [0.9090909090909091, \"rgb(212, 225, 112)\"], [1.0, \"rgb(253, 238, 153)\"]], \"ncontours\": 1, \"showscale\": false, \"type\": \"contour\", \"x\": [-1.0, -0.9489795918367347, -0.8979591836734694, -0.846938775510204, -0.7959183673469388, -0.7448979591836735, -0.6938775510204082, -0.6428571428571428, -0.5918367346938775, -0.5408163265306123, -0.4897959183673469, -0.43877551020408156, -0.3877551020408163, -0.33673469387755106, -0.2857142857142857, -0.23469387755102034, -0.18367346938775508, -0.13265306122448983, -0.08163265306122447, -0.030612244897959107, 0.020408163265306145, 0.0714285714285714, 0.12244897959183687, 0.17346938775510212, 0.22448979591836737, 0.2755102040816326, 0.3265306122448979, 0.37755102040816335, 0.4285714285714286, 0.47959183673469385, 0.5306122448979593, 0.5816326530612246, 0.6326530612244898, 0.6836734693877551, 0.7346938775510203, 0.7857142857142858, 0.8367346938775511, 0.8877551020408163, 0.9387755102040818, 0.989795918367347, 1.0408163265306123, 1.0918367346938775, 1.1428571428571428, 1.193877551020408, 1.2448979591836737, 1.295918367346939, 1.3469387755102042, 1.3979591836734695, 1.4489795918367347, 1.5], \"y\": [-1.0, -0.9489795918367347, -0.8979591836734694, -0.846938775510204, -0.7959183673469388, -0.7448979591836735, -0.6938775510204082, -0.6428571428571428, -0.5918367346938775, -0.5408163265306123, -0.4897959183673469, -0.43877551020408156, -0.3877551020408163, -0.33673469387755106, -0.2857142857142857, -0.23469387755102034, -0.18367346938775508, -0.13265306122448983, -0.08163265306122447, -0.030612244897959107, 0.020408163265306145, 0.0714285714285714, 0.12244897959183687, 0.17346938775510212, 0.22448979591836737, 0.2755102040816326, 0.3265306122448979, 0.37755102040816335, 0.4285714285714286, 0.47959183673469385, 0.5306122448979593, 0.5816326530612246, 0.6326530612244898, 0.6836734693877551, 0.7346938775510203, 0.7857142857142858, 0.8367346938775511, 0.8877551020408163, 0.9387755102040818, 0.989795918367347, 1.0408163265306123, 1.0918367346938775, 1.1428571428571428, 1.193877551020408, 1.2448979591836737, 1.295918367346939, 1.3469387755102042, 1.3979591836734695, 1.4489795918367347, 1.5], \"z\": [[-29.68428054525836, -27.170219966289082, -24.985101218026912, -23.081042314398694, -21.416573624425176, -19.955970675342357, -18.668628355152205, -17.528476514602527, -16.513436968596178, -15.60492189702951, -14.787373645060086, -14.04784592280368, -13.375626404460522, -12.761900726870811, -12.19945788749951, -11.682437041850383, -11.206115700309336, -10.766739324416982, -10.36139232257049, -9.987910445154721, -9.644834579102586, -9.331405941884723, -9.047602674928385, -8.794217836465645, -8.572978793810822, -8.386708015067228, -8.239525260263115, -8.137091171916932, -8.086892265031864, -8.098567316519572, -8.184275154053276, -8.359103844350038, -8.641521280882364, -9.053867171019032, -9.622886422595219, -10.380303929911873, -11.363440759164343, -12.615871733300317, -14.18812441630699, -16.13841949692749, -18.533452571806592, -21.449217328065732, -24.971870125307202, -29.19863597704768, -34.238755931581046, -40.214475852270255, -47.2620765972689, -55.5329455986716, -65.19468984109392, -76.43229023968142], [-27.47293085990588, -24.99997198461222, -22.854286726550008, -20.988029306192626, -19.359770381093274, -17.93382905919606, -16.67964631157639, -15.571199784610602, -14.586460011574877, -13.706888023673386, -12.916974360495763, -12.203819479903785, -11.556755567347357, -10.96700974460974, -10.42740867798206, -9.932124585867069, -9.476462645812203, -9.056689800971855, -8.669904965998969, -8.313950632365856, -7.9873658731143165, -7.689380747034988, -7.4199521022759924, -7.179840779380828, -6.970730213755548, -6.79538643756518, -6.657859481059435, -6.563726173327673, -6.5203743424831275, -6.537328415276418, -6.626616416138298, -6.803178365651699, -7.08531607845303, -7.495184360562724, -8.059323606145089, -8.809233793697398, -9.781989881668236, -11.020898603505161, -12.576196662131576, -14.505790323852885, -16.876036411691942, -19.76256469815375, -23.251141697419385, -27.438575856969265, -32.43366414863567, -38.35818005908432, -45.347902979725674, -53.553688996055044, -63.142583076422184, -74.29897266023015], [-25.532256339153687, -23.095496605368137, -20.984603955901143, -19.151755651315597, -17.55555029313638, -16.160339047351222, -14.935598267340758, -13.855343516237927, -12.89758498871657, -12.043824332209319, -11.278592867554755, -10.589031209073852, -9.964510284075637, -9.396293751792168, -8.87724182174274, -8.401556471527385, -7.964568064049628, -7.562563364168488, -7.192654954779796, -6.852692052326725, -6.541212721739621, -6.257437490805083, -6.001304363964323, -5.773545235540784, -5.575803702397021, -5.410794276020853, -5.28250299404079, -5.196429431170698, -5.159870109583774, -5.182243308715754, -5.275455274497387, -5.454307828016192, -5.736947373607478, -6.145355306374628, -6.70587981913863, -7.449809108816921, -8.413985982231434, -9.641463861345983, -11.182204187932854, -13.093815227668674, -15.442332273659598, -18.303039249395688, -21.761331711134595, -25.913621249714524, -30.868281291796485, -36.74663430053558, -43.68398037568202, -51.830667253110974, -61.35320170378185, -72.43540233212688], [-23.82591148042748, -21.42092979789109, -19.340659146299075, -17.537286472886915, -15.969425791630565, -14.601448616937002, -13.402855796764038, -12.347690745169409, -11.413994074289098, -10.58329962574495, -9.840171901481543, -9.171784894032346, -8.567542316215114, -8.018739230256559, -7.518265076346301, -7.06034810062007, -6.640341182572175, -6.254549061897255, -5.900096964761271, -5.574840629501794, -5.277317731757526, -5.006740709027124, -4.7630309846572505, -4.546894591259932, -4.359939193559148, -4.2048325106667095, -4.085502137787393, -4.007376767353338, -3.977668809587729, -4.005698412497724, -4.103258881296648, -4.285023497255479, -4.56899373598357, -4.976988885138654, -5.535177061566111, -6.274647627867507, -7.2320250083983755, -8.45012390469531, -9.978645910332293, -11.874917525206254, -14.204669569251996, -17.042857995586292, -20.474526103081278, -24.595708148367144, -29.51437435726409, -35.35141733564334, -42.24167987971791, -50.33502418576208, -59.79744245926055, -70.81220892348657], [-22.32203598709031, -19.944841383282693, -17.89144214256383, -16.114021358465017, -14.571195738932794, -13.227345250209176, -12.05198416014121, -11.019173480919772, -10.1069748112476, -9.296945577936652, -8.573675676934679, -7.924365513781094, -7.3384454434921, -6.807236609875082, -6.323653184272258, -5.881946003733612, -5.477487608619093, -5.106598679630055, -4.766415874269999, -4.454801062734548, -4.1702919632307225, -3.912094176725445, -3.6801146211233484, -3.4750363648738114, -3.2984348600073043, -3.15293557460096, -3.042413024673433, -2.972231205509027, -2.949525422411079, -2.983525520884611, -3.085920516248261, -3.2712646226754485, -3.5574246816648536, -3.9660689899401174, -4.523197526778839, -5.259713580770826, -6.212036776005597, -7.4227574976891955, -8.941332717190226, -10.824823216515153, -13.13867221221292, -15.957525378708786, -19.366092271067423, -23.46004914718533, -28.34698318941252, -34.14737812560322, -40.99564124959637, -49.04117184112489, -58.44947098515438, -69.40329279065115], [-20.992852309463423, -18.639834997279227, -16.609928778830508, -14.855299166607754, -13.334552657087722, -12.012065584803397, -10.857354375843258, -9.84448720077979, -8.95153702702726, -8.160076070628758, -7.454711647472512, -6.822663423937478, -6.2533820669681734, -5.738209293578784, -5.270079319786555, -4.843261708974429, -4.453145619682955, -4.096065452831462, -3.7691678983685124, -3.4703203813516037, -3.1980609074561417, -2.9515893079136926, -2.730799883879483, -2.5363554502291743, -2.36980277878491, -2.233729440970621, -2.131962049896593, -2.0698059018733144, -2.0543260173545828, -2.0946695813098715, -2.202429783025971, -2.3920510553378977, -2.6812757132890592, -3.091631992220707, -3.648963485290622, -4.383999980421096, -5.332969696676159, -6.538252920068109, -8.049077038793254, -9.922252977896939, -12.222953033367887, -15.025530105661757, -18.41437833265394, -22.484835122021714, -27.344124583055628, -33.11234235789996, -39.92348185222288, -47.926501865315466, -57.28643561962012, -68.18554118968838], [-19.81428454219354, -17.482169409465428, -15.472704619609576, -13.738024189779168, -12.236711312580958, -10.933126420334958, -9.79677664876342, -8.80172670010905, -7.92605110568253, -7.151327887839258, -6.462173621385392, -5.845819894413143, -5.291731168565343, -4.791264038729271, -4.337367892159748, -3.924326967031504, -3.5475438104208044, -3.2033641357163445, -2.8889430794594126, -2.6021528576133175, -2.3415318212620835, -2.106274911738409, -1.896265515180894, -1.7121487165205345, -1.5554459528964828, -1.4287110665010707, -1.3357277568541033, -1.281748432506419, -1.273774462172709, -1.3208778252936173, -1.4345641620270935, -1.6291772226690124, -1.9223447165030718, -2.3354655600799457, -2.894238524925707, -3.629232284679524, -4.576496861660596, -5.7782164728644, -7.283403775388167, -9.14863551128563, -11.43882955185105, -14.228063341332529, -17.600433740074514, -21.65095826708965, -26.48651774205992, -32.22684032676679, -39.00552696595111, -46.97111822760183, -56.288202542674156, -67.13856584423702], [-18.76559867796667, -16.451401198834787, -14.459610057193649, -12.742313673602762, -11.258058657438816, -9.971177081345036, -8.851155155109915, -7.8720432989751465, -7.011907616372849, -6.252322766092029, -5.577906233874358, -4.975894003439167, -4.435757626937744, -3.9488626948368712, -3.508168705231638, -3.1079703325875356, -2.7436800959117944, -2.411652426353998, -2.1090491342359656, -1.8337462755109, -1.584282417651795, -1.359848304969121, -1.1603179233577654, -0.9863209644732469, -0.8393566893371922, -0.7219491913720839, -0.6378440588652656, -0.5922464368622231, -0.5921004884891254, -0.6464102557046423, -0.7666019194810074, -0.9669274594143662, -1.2649097127643922, -1.681828832923153, -2.2432501473132573, -2.9795934147152576, -3.9267434820243237, -5.126702340436192, -6.628282581062369, -8.487842249974591, -10.770061102678582, -13.54875825801706, -16.907751251501985, -20.94175648807613, -25.757331094303904, -31.473856169991272, -38.224561439235316, -46.15759130090272, -55.437112278537626, -66.24446186969878], [-17.829064217568384, -15.530048785696309, -13.553406765410717, -11.851166692461248, -10.381825126674546, -9.109673136593411, -8.004164183545175, -7.039323405139406, -6.193198298194822, -5.447350801095492, -4.7863907755763115, -4.1975508879377355, -3.6703028896897743, -3.1960152976252685, -2.76765247332241, -2.3795151020765575, -2.0270220712612894, -1.7065337481187393, -1.4152166569791964, -1.1509495559099752, -0.9122709127935371, -0.6983677808348929, -0.5091060734982678, -0.3451022388730285, -0.20783633346888442, -0.09980649544034614, -0.02472481724045794, 0.012245382296211194, 0.0042108864412986335, -0.0577714903688753, -0.1850563729041046, -0.39181269494035487, -0.6954679684890936, -1.1171939524558838, -1.6824337207282465, -2.4214701296927807, -3.3700356851815547, -4.56996380884778, -6.069881503970727, -7.925943420689898, -10.202607320668525, -12.973450941186265, -16.32203025866119, -20.342779151601068, -25.141950462983903, -30.83859846206757, -37.56560270562911, -45.47073329863292, -54.717757554328315, -65.48758805377646], [-16.989637136290586, -14.703277819927758, -12.739465509723924, -11.050154381442757, -9.593777292081068, -8.334571474697679, -7.241945632671525, -6.289888433389065, -5.456418401360919, -4.723075210767799, -4.07445237743568, -3.4977713502402743, -2.9824970019407337, -2.5199945194426405, -2.103227693490255, -1.7264986077880464, -1.3852287275514636, -1.075781387486991, -0.7953256792014674, -0.5417417380406655, -0.3135674293571489, -0.10998643420737797, 0.06914226552189962, 0.22321350255800199, 0.35076364025740103, 0.4493168891915369, 0.5151902243033692, 0.5432569026346699, 0.5266685816240355, 0.45653603797564424, 0.32156848709873764, 0.10767150311785145, -0.2024964605462416, -0.6300089500248385, -1.2001977892788838, -1.9432207578058214, -2.894670667775689, -4.0962258405965155, -5.596341982908962, -7.450985462010208, -9.724407980707154, -12.489962651598875, -15.830961470788282, -19.841574191023142, -24.627768594266357, -30.308292163695278, -37.01569515513074, -44.89739506789499, -54.11678251509892, -64.85436849335875], [-16.234664206684762, -13.958607925575421, -12.005475313677783, -10.327131524633597, -8.881931872370178, -7.634046736118969, -6.552827864863392, -5.61221608121596, -4.7901903847246405, -4.0682584546084914, -3.4309885519225736, -2.865582821152119, -2.3614919912359693, -1.9100714760192763, -1.5042788741354738, -1.1384128683175223, -0.8078935241383987, -0.5090839881808742, -0.2391535856365461, 0.00401768266585667, 0.22189324380290665, 0.41529265686964534, 0.5843629176634807, 0.7285083639388157, 0.8462791812324244, 0.9352185092595403, 0.9916681488807003, 1.0105328696393032, 0.9850033178699177, 0.906237525377313, 0.7630010186862275, 0.5412655288618737, 0.22376630190116975, -0.21048199030528814, -0.7867107384405254, -1.534964283657756, -2.4907082049061957, -3.695479005686177, -5.19757520023351, -7.052789799133091, -9.325184194361821, -12.087903443760762, -15.424032954936552, -19.427496568592108, -24.203996041286647, -29.871991927624713, -36.56372586187492, -44.42628423901758, -53.622703295221754, -64.33311558775151], [-15.553608677661718, -13.28564080180033, -11.341173981690904, -9.671969499757456, -8.236291099658255, -6.998229101494124, -5.9270659164459865, -4.99668296084171, -4.185008969652181, -3.4735097094166596, -2.8467190905974182, -2.2918116793636214, -1.7982166088044829, -1.3572728895716917, -0.9619261199510896, -0.6064665953636463, -0.2863088172956627, 0.002187598341731878, 0.2618556134238281, 0.49481706039431805, 0.702537535618002, 0.8858398933042427, 1.0448763400011445, 1.1790591296604582, 1.286949859273243, 1.3661073650762379, 1.412894219328982, 1.4222418276616597, 1.3873741269936848, 1.2994898840230156, 1.14740359428621, 0.9171449817891983, 0.5915170992088126, 0.14961302866502502, -0.43370881693605634, -1.1883907919884802, -2.149783515701984, -3.3592947690468278, -4.865079791127874, -6.722772974987904, -8.996260962840267, -11.758497140730764, -15.092357532628753, -19.091538093947598, -23.86149340449438, -29.52041676084868, -36.20026166817101, -44.04780473144018, -53.22574994612002, -63.91387438825544], [-14.937797309937825, -12.675809680170993, -10.738099978195208, -9.076310579161081, -7.6485994422984485, -6.418963436314381, -5.356603064220466, -4.435328587589356, -3.6330075502405696, -2.931053701355565, -2.313957318022087, -1.768856927207778, -1.2851524271630481, -0.8541596082532175, -0.46880607321991863, -0.12336855687178194, 0.18674835479563368, 0.46519210605063366, 0.714800653446912, 0.9376995484158125, 1.1353576204293274, 1.3086012607338184, 1.457587306654487, 1.5817345264705633, 1.6796137048612398, 1.748796328922329, 1.7856618747536697, 1.7851636946172436, 1.7405535046660516, 1.643064473243705, 1.4815529097547573, 1.2420985541057723, 0.9075634667171155, 0.45710951910549946, -0.134325514962772, -0.8965932677477779, -1.8649414852412631, -3.0806621343011744, -4.591780909215451, -6.453788137695085, -8.730411086296469, -11.49442766527299, -14.828521532855888, -18.826178598964383, -23.59262492834514, -29.24580604314074, -35.91740762488785, -43.7539176159443, -52.917729720345534, -63.58828830409038], [-14.380188767827725, -12.122150138302583, -10.189365663121619, -8.533343587146494, -7.1121216840593515, -5.889589791950535, -4.834853748335587, -3.921640724601513, -3.127745959882314, -2.4345208943637706, -1.826402702017508, -1.2904852227643262, -0.8161312940667891, -0.39462648195108296, -0.018874211458147272, 0.3168677034759362, 0.6172091307102843, 0.8858082911602883, 1.1255110306294238, 1.3384486922117875, 1.5260945892653788, 1.6892790789561092, 1.8281632363725444, 1.942171129211378, 2.0298806930336504, 2.0888732070916847, 2.1155413707267714, 2.104855980337573, 2.05009120691928, 1.942508474173478, 1.7709989371887653, 1.521684561692107, 1.177477803870902, 0.7175998907658032, 0.11705770123426684, -0.6539207525151745, -1.6304922428178803, -2.8538456438773774, -4.371890648518867, -6.2399878843719865, -8.521720429482901, -11.2897067273556, -14.626454901422473, -18.625258468944175, -23.391133454338767, -29.041796901939964, -35.70868678818497, -43.53802333323132, -52.691911712003005, -63.349486164665976], [-13.875163367383541, -11.61909226984264, -9.689451883732232, -8.037600913649635, -6.621442359650169, -5.404745263024598, -4.35650785150585, -3.4503620839049987, -2.6640195941765135, -1.9787590349127553, -1.3789548202677704, -0.8516472683103369, -0.3861541428062658, 0.026276405570011763, 0.3927714985946069, 0.7190977904240548, 1.0098843280959433, 1.2688040126002686, 1.4987136605215237, 1.7017526662515237, 1.8794002647729617, 2.032491395013703, 2.161191163771809, 2.264927910211291, 2.3422848709286095, 2.3908504455898973, 2.407027063138918, 2.385798648575757, 2.320456690306257, 2.202284908062169, 2.02020252139205, 1.760366118722894, 1.405730126992487, 0.9355658818525099, 0.32493929844235936, -0.45585285726628433, -1.4418880965541612, -2.6742647354684026, -4.200789821765776, -6.076708461285163, -8.365474543749361, -11.139562867996101, -14.481322666638341, -18.48387253015386, -23.252036730404107, -28.903322943582165, -35.568941372590324, -43.39486526884661, -52.54293285352064, -63.19199063819886], [-13.41833418088056, -11.162274210803263, -9.234023922799025, -7.584776884265555, -6.172286546592364, -4.9601872011279315, -3.917356334576137, -3.0173183838219657, -2.2376898901864744, -1.5596660531110094, -0.967548683270715, -0.4483155551172979, 0.00876884114894727, 0.4125011481778387, 0.7700455906387467, 1.0871990249607622, 1.3686145896436015, 1.6179839561392446, 1.8381781803043087, 2.0313471544231483, 2.198977659801703, 2.3419100199320595, 2.4603133542277678, 2.5536194323298758, 2.620415128983702, 2.6582934794863475, 2.6636633357049333, 2.631517622665577, 2.5551601957131003, 2.425891298241469, 2.232651619994971, 1.9616249559401298, 1.595799465708339, 1.1144875336092432, 0.4928042292148478, -0.29889563148564013, -1.2956218243602193, -2.5383944548378032, -4.074931095041173, -5.96037532034917, -8.25806664538823, -11.040351859453096, -14.389437761356868, -18.398285293710263, -23.171545076630245, -28.826534340877643, -35.49425526042449, -43.32045468445023, -52.46672526876739, -63.111648006676376], [-13.006379497649434, -10.748377022239767, -8.819768803128978, -7.171567486620038, -5.7613620134378, -4.552637784885884, -3.51413822843282, -2.6192677627274943, -1.8455361620438062, -1.1740443201546233, -0.5890114136350038, -0.07734346459467467, 0.37175669716021753, 0.7671380725360946, 1.1160087321316638, 1.4242016557883677, 1.6963991727115717, 1.936316002162486, 2.1468408947208166, 2.3301368741181494, 2.4877000796420776, 2.6203772091110475, 2.7283415624199536, 2.8110276856564553, 2.867024615788034, 2.8939277259197853, 2.888149171122933, 2.8446869348340926, 2.756852475825259, 2.6159569757445307, 2.410956187227563, 2.1280538825797644, 1.750263903029218, 1.2569308085503397, 0.6232091282582701, -0.18049878862600366, -1.1891463212397722, -2.443687524972036, -3.9917634787861696, -5.888430031971837, -8.19692695032624, -10.989488461764573, -14.348195201359738, -18.365867555811388, -23.14700040734422, -28.808739277035357, -35.48189786757137, -43.31201700543424, -52.46046498251667, -63.105579297166734], [-12.636896641254815, -10.37498092927584, -8.444253948435737, -6.795531453087753, -5.386222724333363, -4.179649946368891, -3.14440898226137, -2.253771549153691, -1.4851287928990005, -0.819476262124359, -0.2409402817236872, 0.2636542742200363, 0.7051748100833097, 1.0925304369213755, 1.432980001258215, 1.7323987144472852, 1.9955033826029882, 2.2260362371028686, 2.426907365660552, 2.600295743969408, 2.7477088679169546, 2.870000986369999, 2.9673499345304983, 3.0391925678621687, 3.084118796587818, 3.09972422075742, 3.082421365886917, 3.027209519167752, 2.927403166247151, 2.774319028579118, 2.556921701346177, 2.2614278919518482, 1.8708692590838476, 1.3646138523480302, 0.7178461524730619, -0.09899428791417586, -1.1208156029424328, -2.3885177715792345, -3.9496781751432697, -5.859278554246023, -8.180473365162744, -10.985399535632606, -14.356027620088167, -18.385054354314107, -23.176836609535258, -28.84836674593368, -35.530289365595436, -43.367959464886226, -52.52254198625648, -63.172152769475666], [-12.308277143020545, -10.040442916475193, -8.10580720055775, -6.454972699856867, -5.045153699932076, -3.839494653850097, -2.8064301681504444, -1.9190863882402736, -1.1547237832185084, -0.4942213301292129, 0.07839790235574284, 0.5763997708247652, 1.010730674585354, 1.390367773693649, 1.7226278075547126, 2.0134345140935417, 2.2675446494968194, 2.4887326085253973, 2.6799336453975124, 2.843345695242733, 2.980489796126645, 3.09222911164627, 3.178746554096217, 3.2394810082055585, 3.2730221554454615, 3.27696389890753, 3.24771638875289, 3.1802766482320166, 3.0679578002752814, 2.902076894654237, 2.671601335713638, 2.3627539106742033, 1.9585764185060894, 1.4384518993731206, 0.7775854646477445, -0.053556272503290536, -1.08984716596249, -2.3721449049344843, -3.9479757816481347, -5.872260858487881, -8.20808353455442, -11.02749851165461, -14.41238215972062, -18.45532428165841, -23.260561277625452, -28.94495070873755, -35.63898726020533, -43.48786010389959, -52.65255166034608, -63.310977760149584], [-12.019603271901271, -9.7437956795597, -7.803418193022884, -6.148844122340171, -4.7370772346507, -3.531069550909436, -2.499080542042477, -1.6140777245316453, -0.8531786554283038, -0.19713432679646825, 0.37014604041481647, 0.8620288030698404, 1.2895483031153225, 1.6617578754202502, 1.986039456186426, 2.2683717919297797, 2.5135572490323836, 2.7254072238652336, 2.9068861534817314, 3.0602141268819234, 3.186928096847464, 3.2879016923473157, 3.3633236315141803, 3.4126347351916637, 3.434423541052175, 3.426280518285565, 3.3846108828584875, 3.3044060133445, 3.1789734673249033, 2.9996255983603026, 2.7553267735329126, 2.432299191559596, 2.013587301475626, 1.4785808218891907, 0.8024963608066331, -0.044182363971589034, -1.096305703884179, -2.394700658071586, -3.986854851267833, -5.927641911121581, -8.280088244946539, -11.116181215901062, -14.517718718597038, -18.57720015413807, -23.398758804586954, -29.099135606862166, -35.8086943260641, -43.672478128230125, -52.8513075525191, -63.522919882825185], [-11.770565920700587, -9.484667933473993, -7.536661080959531, -5.876672746932659, -4.461480470273823, -3.253828951884204, -2.221788461030741, -1.3381546411204388, -0.5798897149039166, 0.07239491089177585, 0.6349146415010605, 1.1211462906284702, 1.542221277528033, 1.9072774246533826, 2.223769355878599, 2.4977374952897895, 2.734035666547396, 2.9365172928192487, 3.108180197284338, 3.2512700042073304, 3.367342140583813, 3.4572824383562755, 3.521286337200823, 3.558796687884624, 3.56840015619409, 3.5476822274337936, 3.4930408114961127, 3.399458448501612, 3.260233115010168, 3.0666676308028062, 2.8077176662342884, 2.4695983501564376, 2.0353494784121744, 1.4843593229003111, 0.7918470412110641, -0.0716963131676942, -1.141108180073437, -2.4571962813212895, -4.067421808785564, -6.026624011910557, -8.397786184650657, -11.25284305183969, -14.673529554989496, -18.752271037517854, -23.593114829405657, -29.31270323128313, -36.04128789794579, -43.9237856212992, -53.120875512733264, -63.810137584925634], [-11.56140384863565, -9.263226076796593, -7.305638627354211, -5.638506239115632, -4.21836432590444, -3.007735193666137, -1.9744856570028966, -1.0912260551375743, -0.3347506673069831, 0.31448047241557386, 0.8728183608684823, 1.3538604121207474, 1.7688444443616507, 2.1270012673611447, 2.435865870500976, 2.7015472113765466, 2.928956604969506, 3.121994713391079, 3.283697136196128, 3.4163386012679413, 3.5214957562737688, 3.600068560691078, 3.6522602784045506, 3.6775160708738124, 3.674420190871895, 3.640551776794432, 3.5722992475395907, 3.4646332979587307, 3.310838494877808, 3.1022034736894994, 2.8276697355160714, 2.473439044942978, 2.0225394283231903, 1.4543497726522605, 0.7440830250141284, -0.13777200740235607, -1.2260502567161518, -2.5615513931960416, -4.191722223531899, -6.171380488535194, -8.563480060268823, -11.439917538606174, -14.882380247219423, -18.98323562899717, -23.846462040891343, -29.588620948193125, -36.33987051823863, -44.24502061354341, -53.46462918436639, -64.17614006070309], [-11.392864280248281, -9.080137212497494, -7.110947645655651, -5.434880767907257, -4.008213784260999, -2.793231343844952, -1.7575823666310417, -0.8736782695887815, -0.11813259226825368, 0.5287579781876248, 1.0834911826015734, 1.559795365891154, 1.9690242537687115, 2.320510330012052, 2.6218768143058444, 2.879308240653765, 3.0977796363613694, 3.281244301589702, 3.4327801894796415, 3.5546948868469697, 3.648589195448187, 3.715379313817053, 3.755277619671863, 3.767732052893459, 3.7513240990739725, 3.7036253736363056, 3.6210128065243365, 3.49844242746387, 3.329181751794315, 3.104500766871094, 2.81332151903879, 2.4418263011750314, 1.9730244408050999, 1.3862776887872734, 0.6567842085689206, -0.24497883398670517, -1.353854080202888, -2.7106441876212024, -4.362793438462482, -6.365110747517049, -8.780534069464272, -11.68093620562133, -15.14797201012125, -19.273966995520247, -24.162847337834343, -29.93111128100503, -36.708841940794656, -44.640761508110614, -53.8873268517591, -64.62586652062791], [-11.26618486066256, -8.93655352504223, -6.953665798725363, -5.2668102266596435, -3.8319895343209778, -2.611235265198399, -1.5719638177082471, -0.6863738815376257, 0.06911472658288798, 0.7143808276772736, 1.2660802458928124, 1.738082774439575, 2.141867742100646, 2.486878180313078, 2.7808335908195843, 3.0300013138909536, 3.239426497119213, 3.413120664781513, 3.554208887774758, 3.6650355541209554, 3.7472287400433104, 3.8017231816130526, 3.828741846966989, 3.8277361090957984, 3.79728451920306, 3.734950180635007, 3.6370967233810236, 3.4986628791448684, 3.3128956569866386, 3.0710421195354587, 2.761999759772909, 2.3719254783871966, 1.8838031616980346, 1.2769698601522794, 0.526600567390292, -0.39684840011697053, -1.5282374228601112, -2.908382997512751, -4.584738555582224, -6.61211668148953, -9.053452730078593, -11.980609843554769, -15.475225367852573, -19.629598668432767, -24.54762034550867, -30.345742848701565, -37.15399249112578, -45.11702286290264, -54.39520964410384, -65.16578681712413], [-11.183096967188913, -8.834118013842486, -6.835359754134691, -5.1357968102023746, -3.6911409703109017, -2.463155036528777, -1.419008071831556, -0.5306720466350132, 0.225640115242431, 0.8699950911880241, 1.419218314973699, 1.887331732505849, 2.2859501581458352, 2.6246362316012184, 2.911213975387735, 3.152040952861995, 3.3522390268249227, 3.5158837186959255, 3.6461521682578053, 3.74542969397239, 3.815374953866907, 3.856943706991095, 3.8703711754450354, 3.8551130069777324, 3.8097448381564174, 3.731820458106587, 3.617688572822782, 3.462268170050091, 3.2587824847363978, 2.9984515650553503, 2.6701434390000705, 2.2599838815476057, 1.750924782394092, 1.1222711142606703, 0.3491665017701342, -0.5979626091057062, -1.7540041810278895, -3.159799214701485, -4.862821777716007, -6.9179004328150775, -9.387981065595419, -12.344931111635056, -15.870385183050795, -20.056632094485, -25.007543288521635, -30.83954266053139, -37.68261778294647, -45.68137252896429, -54.99612109568053, -65.80402342665155], [-11.145850377274655, -8.774991583053108, -6.758114695808368, -5.043862948332558, -3.5876405470428745, -2.3509257298459563, -1.3006252234315085, -0.4084700999951867, 0.349546966609259, 0.9936930452885679, 1.5409748926992846, 2.0055774988078046, 2.3992612330211602, 2.73171759088855, 3.0108835413735777, 3.24321447469724, 3.4339157507516487, 3.587132848084484, 3.7061001134541804, 3.7932481119558408, 3.850269577717901, 3.8781439651695093, 3.8771206008786514, 3.8466604359609984, 3.78533639905951, 3.6906923498947375, 3.559060633385895, 3.385338234342641, 3.1627215327276077, 2.882399659489646, 2.5332064529678298, 2.1012310158661736, 1.5693868727990892, 0.9169397284075758, 0.11899382604615427, -0.8540630929594917, -2.0371562294840935, -3.471161566203707, -5.203585106625837, -7.2892835135488205, -9.79122614695054, -12.781298501306352, -16.341147042336267, -20.563065443181443, -25.55092222000998, -31.42112976705172, -38.30365479106279, -46.34307014521899, -55.69964806243857, -66.55049478813443], [-11.157259292801083, -8.761901487715665, -6.724585192014549, -4.993604595651341, -3.524039491597592, -2.2770675438968797, -1.21931795514812, -0.3222665334182002, 0.4383278414161671, 1.0829453518973189, 1.6287859777862237, 2.0902088314328178, 2.4791300937170795, 2.805379550560819, 3.0770157300102197, 3.3005996398890978, 3.4814271060229096, 3.623719711033479, 3.730774333704473, 3.8050712889175964, 3.8483410681595323, 3.8615896805996064, 3.845082594738194, 3.7982872806258534, 3.719774352653199, 3.6070773129114984, 3.456510895124018, 3.2629480091480865, 3.0195552860479076, 2.7174872237380865, 2.3455389331979135, 1.8897574852563663, 1.333011857947845, 0.6545214844386473, -0.17065659847582282, -1.1721820013031214, -2.3850266322150735, -3.8501117468383876, -5.614986397474514, -7.734547281748733, -10.271799990688594, -13.298661656231554, -16.89680499816189, -21.15854377047691, -26.187759607182446, -32.100870267517394, -39.027839280607964, -47.113226989550796, -56.51728299492546, -67.4170799977363], [-11.220769720726967, -8.798211136248502, -6.738067419701326, -4.988265877746921, -3.5035448713538537, -2.2447652940415512, -1.1782634495533681, -0.2752453289588992, 0.4887777128144153, 1.1345118810204666, 1.6793624657043313, 2.1378739668828937, 2.5221288202961962, 2.8421047237295207, 3.105990563906197, 3.320460943951158, 3.490909311425216, 3.6216396869300844, 3.7160169932841214, 3.776575985268819, 3.8050887799460145, 3.8025909875458432, 3.7693664429254228, 3.70489053759827, 3.6077321523344534, 3.4754141903314775, 3.304232710955903, 3.089034664055693, 2.8229542248433126, 2.497107729349532, 2.100247210447987, 1.618372534450479, 1.0343021382729696, 0.3272023671723563, -0.5279245869460465, -1.5607941466502944, -2.8064342095328336, -4.305821408190839, -6.106558769635789, -8.263594774132272, -10.839983813466143, -13.90768804864189, -17.548420667009246, -21.85453053881914, -26.929928273208894, -32.891053673616476, -39.867884592624506, -48.004987186233016, -57.462607567561776, -68.41780485998174], [-11.340548210078634, -8.888011249283222, -6.8025927451797354, -5.031835093724049, -3.530118018364525, -2.2579692584755193, -1.181416657220156, -0.2713816488423699, 0.49688585461177226, 1.14433117714354, 1.6885771932216627, 2.1443652427732394, 2.5239546467453726, 2.837480823237519, 3.093272004204598, 3.298124552730811, 3.45753688087421, 3.575901968082003, 3.656658480176562, 3.7024004889122133, 3.7149457921027205, 3.6953628343195213, 3.6439562281606905, 3.560210876090644, 3.4426946928505653, 3.2889199284395776, 3.09516309166664, 2.856243474273182, 2.5652602756264784, 2.213288327983738, 1.7890324223269427, 1.2784402347684296, 0.6642738535271691, -0.07436009352418038, -0.9625217107415103, -2.0299905060207637, -3.3118594615386785, -4.84917050392284, -6.689591373850979, -8.888133895079491, -11.507913642901325, -14.620951012033043, -18.309013683931173, -22.664500493537876, -27.79136669545584, -33.8060906295523, -40.83868178599269, -49.0337302697032, -58.55149766426274, -69.56904929522422], [-11.521591945286442, -9.036232374847716, -6.923042661153268, -5.129162075080015, -3.608594310079038, -2.32151738079883, -1.2336349211377682, -0.31556888172589304, 0.45770637316408624, 1.107388569276483, 1.651330626603099, 2.104482364184374, 2.4792908054813223, 2.786059084318158, 3.0332639513956816, 3.2278318813753897, 3.3753737805343187, 3.4803782949906257, 3.5463637194998983, 3.5759885068222044, 3.5711203776598666, 3.532864031165981, 3.461547456023662, 3.3566668420960193, 3.2167900926468818, 3.0394189371322335, 2.8208096445624067, 2.555752337434985, 2.237308906238466, 1.8565095245266365, 1.4020077645636841, 0.8596943135400612, 0.2122692903590524, -0.5612268370058957, -1.4859237335831308, -2.5916730789040106, -3.9136418479333708, -5.4929469914292905, -7.377331515732111, -9.621881961982679, -12.28978728476994, -15.453139130207731, -19.193773513440853, -23.604153895580428, -28.788295660068556, -34.862731988472014, -41.95752113570566, -50.21729510468468, -59.802349720406276, -70.88977610346069], [-11.769860195867814, -9.248778759895652, -7.105285080093838, -5.286096900927109, -3.744824306412342, -2.4412788289314964, -1.3408239574738214, -0.4137670453073552, 0.3652073829203566, 1.0175629246522444, 1.56139519346244, 2.0118743136677257, 2.381646015509737, 2.6811913309078896, 2.919144889783026, 3.10257181695182, 3.2372032295919, 3.327630335277706, 3.3774571305870893, 3.3894117002786324, 3.365416117039717, 3.306614941805318, 3.213362324647527, 3.085167706235819, 2.920600119868049, 2.717151094072177, 2.4710561557787347, 2.17707493406402, 1.8282298644640331, 1.4155034938591324, 0.927494385929434, 0.35003162718095604, -0.3342520664575379, -1.1463886424669236, -2.11158440399939, -3.2597711015693767, -4.6261984241737535, -6.252067889841322, -8.185208135611527, -10.480791606942434, -13.20209264654805, -16.421286982664807, -20.220292616747383, -24.69165211059375, -29.93945627289959, -36.08030924524166, -43.24433498749093, -51.57622516265461, -61.23632842114746, -72.40178108449258], [-12.092427122456703, -9.532683578182452, -7.356331983964261, -5.509649969561604, -3.945836243160355, -2.624318910375419, -1.510105192682679, -0.5731725452801939, 0.2120988256213412, 0.8674520460788839, 1.41123825826803, 1.8588599049047603, 2.2231726142379213, 2.514845685612421, 2.742681175603177, 2.913891584719784, 3.0343361446819332, 3.108715706265543, 3.1407262277196373, 3.1331708637539566, 3.0880306550973033, 3.006493818626608, 2.888943638066748, 2.7349049552610927, 2.5429492620127725, 2.310558392496697, 2.0339468162422936, 1.7078425316869903, 1.3252265603004312, 0.8770310412794124, 0.35179592681356464, -0.2647157220782246, -0.9899438391406776, -1.8449988559042425, -2.855170604136468, -4.050478617722684, -5.466263833975872, -7.143821694375903, -9.131076644737966, -11.483298034810264, -14.263857417301036, -17.545027246334794, -21.408820975337825, -25.947874554352985, -31.26636932678381, -37.480996325567624, -44.721961968778395, -53.134035154658434, -62.877635756079506, -74.12996451443324], [-12.497655939179591, -9.896285514487772, -7.6845184302872065, -5.808173426379186, -4.2200198817619015, -2.8790853438228297, -1.750004456960374, -0.8024092906347882, -0.010361066848358469, 0.6481767129451717, 1.1918237415018638, 1.636226980019618, 1.9944633329409287, 2.2774009233263692, 2.4940189687988124, 2.6516862580583953, 2.7563982279681976, 2.8129726412106733, 2.8252038645148, 2.7959757474539755, 2.7273331018146427, 2.620511781535641, 2.475927363218302, 2.2931224272072734, 2.0706724392420828, 1.8060502326794188, 1.495449091286169, 1.1335644326031713, 0.7133340918797169, 0.22563720657876507, -0.3410482985470886, -1.001029625808913, -1.7718244183640266, -2.674627473427827, -3.7348188549148933, -4.982513405509369, -6.4531516581645745, -8.188132147031943, -10.235485117819179, -12.65058763757766, -15.496920103919196, -18.84686415366197, -22.78254197090576, -27.396696994536473, -32.793616025159935, -39.090092731464736, -46.41643255601484, -54.917499020470935, -64.75380143024131, -76.10262397856198], [-12.995394432377955, -10.349426705184444, -8.099702914560659, -6.191563948136893, -4.577331715407147, -3.2156158871112037, -2.07066203404602, -1.1117411653063565, -0.3125806659546697, 0.3491633658797326, 0.892392382472238, 1.3330102505452555, 1.6843267158812276, 1.9574194685064232, 2.161454808445428, 2.3039669120463873, 2.3910956988769714, 2.427783299191086, 2.4179291219663046, 2.3645035235120506, 2.2696200766484904, 2.1345664404561813, 1.9597938305964395, 1.7448650902024525, 1.4883613613411137, 1.1877473570455992, 0.8391952339186712, 0.43736706530672675, -0.024844084955430557, -0.5566144882290862, -1.1695314761853703, -1.8779765653482734, -2.6995499810669497, -3.6555365809172677, -4.771413177532633, -6.077397260864084, -7.609037119869625, -9.407843363632882, -11.521961841910981, -14.006887965111662, -16.92622242369977, -20.352468307032893, -24.367869621626333, -29.065291208847306, -34.54914006203853, -40.93632804307073, -48.35727599832494, -56.95695927410365, -66.89599463147138, -78.35176856052445], [-13.597191835677211, -10.903672035153926, -8.61348908901983, -6.671486883561547, -5.02952153149249, -3.6457673215246507, -2.4840640673697, -1.5133058561693433, -0.7068711963549292, -0.04209456493633024, 0.5002206457798959, 0.9362477820431021, 1.2795411830818635, 1.5413990360980332, 1.7311848318315217, 1.8566074206958172, 1.923959669484244, 1.9383157186469417, 1.9036868401385902, 1.8231358958368533, 1.698850396531581, 1.5321741614847206, 1.3235975785609644, 1.072706464929161, 0.7780895283344087, 0.4372044289409307, 0.046202441745653466, -0.40028828043746056, -0.9094208434223647, -1.4904291475251377, -2.154968822867456, -2.917499564109334, -3.795708864611144, -4.810977150024882, -5.9888843113147106, -7.359757637206776, -8.959261146068258, -10.82902631721574, -13.017324221652814, -15.579779052236905, -18.580123053275486, -22.09099284955144, -26.19476717477772, -30.984445999481327, -36.564571058316545, -43.052187776807195, -50.57784859751871, -59.28665770565889, -69.33935715410828, -80.91345438787967], [-14.316537061402169, -11.572549791048242, -9.239468837745592, -7.261621750304654, -5.590380330421989, -4.183465792441823, -3.0042953225468407, -2.0213700373782766, -1.207704342085231, -0.5402966878032744, 0.0003582714376806351, 0.43071612237624635, 0.7645877367531533, 1.0135029161155957, 1.1870326371922895, 1.2930698978392714, 1.3380691635564368, 1.3272444145748081, 1.2647257935145308, 1.153674853613615, 0.9963584075274001, 0.7941809766987538, 0.5476758412990144, 0.2564546907396603, -0.08088412524529254, -0.4668887449461514, -0.9054283424536731, -1.4019090748644643, -1.9635314289156365, -2.599588967048745, -3.321808472902981, -4.1447314962376165, -5.086137297283756, -6.167507190525317, -7.414530287909294, -8.857650641485288, -10.532655785474272, -12.481306677766705, -14.75200904084981, -17.40052610216417, -20.490732733889615, -24.095410992160325, -28.29708705570922, -33.18890956394162, -38.87556935443824, -45.474260599887145, -53.11568334444551, -61.94508743953017, -72.12335787903766, -83.82814153399337], [-15.169118288338927, -12.371813670898385, -9.993486708119393, -7.977929088243803, -6.276009600755224, -4.844978506330268, -3.6478133062190796, -2.6526059110551357, -1.83199120909428, -1.162617033883052, -0.6246555313562707, -0.20135592636389088, 0.12136131137287176, 0.3552689018761708, 0.5101557900968663, 0.5941087816706103, 0.6137527792446527, 0.5744496193754101, 0.48045550999672937, 0.33503706845891124, 0.14054596013846776, -0.10154786238141433, -0.39066431955963177, -0.7271627645752261, -1.1124329424347055, -1.5490273485086075, -2.040834986497372, -2.593296525826434, -3.2136608584706075, -3.9112830552077456, -4.697963721301646, -5.588329751614218, -6.600256485146953, -7.755331259011621, -9.079358361830248, -10.602905386564384, -12.361890982773563, -14.398214008303132, -16.760424080401297, -19.504433526265373, -22.69427073301742, -26.402874897109076, -30.71293217315564, -35.71775322219948, -41.52219215940269, -48.24360690116886, -56.01286091169445, -64.97536634894914, -75.2921686100855, -87.14107227627801], [-16.17310390584335, -13.319726150069235, -10.893925698624635, -8.838938669130565, -7.105111950701692, -5.6492067840873235, -4.433743741241634, -3.4263891043231913, -2.5993826441237244, -1.9290067979261396, -1.395097246791856, -0.9805948922773586, -0.6711392325800452, -0.4547031381133184, -0.3212690265109739, -0.2625464370608199, -0.2717310045675916, -0.34330483264511713, -0.47287826643775066, -0.6570730647710796, -0.893446971731886, -1.1804596876773914, -1.517480239673752, -1.9048357513638225, -2.343901612264193, -2.837233046491497, -3.3887380809179652, -4.003891912756269, -4.689992676573608, -5.456458610735087, -6.315166623276346, -7.280832257205446, -8.371431055234051, -9.608661323937847, -11.01844829734625, -12.631489699961364, -14.483842709206181, -16.61755231730214, -19.081321092575863, -21.931220340195118, -25.23144266233423, -29.055095917768565, -33.485038580898376, -38.614756500201906, -44.54928105611777, -51.40614871835645, -59.31640200264138, -68.42563182687904, -78.89506126675826, -90.90267071077912], [-17.34944481429592, -14.437363203560949, -11.962014402994575, -9.866059062584851, -8.09930309596167, -6.61800047072745, -5.384197398217124, -4.365117922687346, -3.5325909099349797, -2.8625184353448585, -2.334385571366818, -1.930811574421968, -1.6371424712382696, -1.4410850446153454, -1.3323822186185668, -1.3025298432024135, -1.3445348782631035, -1.4527149771204595, -1.6225394694290882, -1.8505117435187808, -2.134093028164211, -2.471667573783886, -2.862549233068368, -3.307029441037752, -3.8064665945284277, -4.363416831109098, -4.981806207426052, -5.667144276977735, -6.426779067318544, -7.270193456691937, -8.209342950092763, -9.259034854758882, -10.437348855092061, -11.766098987008112, -13.271337011716302, -14.983897188928061, -16.939982449494885, -19.1817919674756, -21.75819013163283, -24.7254169163587, -28.147839652029912, -32.098746194792, -36.66117949577285, -41.92881356972558, -48.00687086310059, -55.01308102154675, -63.07868105684231, -72.34945691325461, -82.98682643332918, -95.16896372310822], [-18.722198081903148, -15.748940384656837, -13.222155510706678, -11.083908558435768, -9.283445203913523, -7.776493701416065, -6.524608283375907, -5.494553959760921, -4.657732716882521, -3.9896511156331442, -3.469429289152991, -3.0793513399260473, -2.8044571363053485, -2.6321755084675207, -2.5519988437965866, -2.5551990816970447, -2.6345851078362132, -2.7843015478158195, -2.99966896027289, -3.277065429409887, -3.613849556954102, -4.008324853546343, -4.459745529558868, -4.968363685342573, -5.5355179009034945, -6.163763225008521, -6.8570425637204035, -7.620899468362035, -8.462732322909968, -9.392089930817232, -10.421008501265408, -11.564390034845932, -12.840422108670733, -14.271039060912091, -15.882424574771754, -17.705555661879366, -19.77678804512009, -22.138482940891606, -24.83967524079026, -27.93678309272653, -31.494358881469786, -35.58588160862229, -40.29459067202241, -45.71436104457723, -51.950619852524326, -59.12130435312269, -67.35786131177326, -76.80628777856849, -87.62821326427107, -100.00202331572217], [-20.318871957845445, -17.28216025991774, -14.702275663823483, -12.520667445408987, -10.686001594147614, -9.153462023849887, -7.884093182802904, -6.844184063339011, -6.0046936108337094, -5.340717532132857, -4.830996503409128, -4.457465777447745, -4.204846190361473, -4.060276567734868, -4.012987530197812, -4.054016698428305, -4.175965297584524, -4.372796161166139, -4.639673134304921, -4.97284187648458, -5.369552063689907, -5.828020989985157, -6.347438568521703, -6.9280137319749535, -7.571062232410562, -8.27913584057987, -9.056192944644623, -9.907810548330971, -10.841437668512711, -11.866690132223816, -12.995686773100235, -14.243427027250913, -15.628209928558142, -17.172094503407138, -18.901401564844885, -20.847256906168283, -23.04617589394146, -25.540689460442536, -28.380011495539463, -31.620747637995187, -35.327645466202185, -39.57438608834614, -44.444417131998875, -50.03182713314068, -56.44226132461188, -63.793878823993296, -72.21835122091676, -81.86190256380411, -92.88639074603589, -105.47043029154914], [-22.170792241771508, -19.06858120052288, -16.434196670179965, -14.208451646160572, -12.339412795346576, -10.78170087698375, -9.4958325630109, -8.447603657818242, -7.607513717435049, -6.950232068146553, -6.454105224540129, -6.100705706980757, -5.874422258515706, -5.762091461208536, -5.752670751902332, -5.836952837412206, -6.007321509147097, -6.257548857160794, -6.582633883632257, -6.978682515775185, -7.442829018176867, -7.973198804566287, -8.568912649011505, -9.230132296546277, -9.958147473225992, -10.755504295612834, -11.626175079690213, -12.575769549206491, -13.611787443447934, -14.74391252444097, -15.98434798358369, -17.348193247706604, -18.853862184562708, -20.523542707746763, -22.38369778104389, -24.465607822207396, -26.805954506165858, -29.44744596765952, -32.43948340330594, -35.838869073094855, -39.71055570131237, -44.1284372768944, -49.176181253209386, -54.94810214727021, -61.55007653837553, -69.10049946618005, -77.73128222819463, -87.58889157671508, -98.83543031518049, -111.64975929396086], [-24.313490009639153, -21.144007529957207, -18.454028072917342, -16.183707708657288, -14.280493958512128, -12.698425426103888, -11.39747282786032, -10.342921422963064, -9.504794842724968, -8.857320319396733, -8.378435314402807, -8.049335546006564, -7.854064416404718, -7.779143838251023, -7.81324646060924, -7.94690929433537, -8.17228873688913, -8.482956996574746, -8.873739916210956, -9.340596196230315, -9.880538017207755, -10.491593061818406, -11.172807936224714, -11.92429299089276, -12.747308540837926, -13.644392485299761, -14.619529326846159, -15.678360589906776, -16.828436638735703, -18.07950989480347, -19.443869453618227, -20.936717100976242, -22.57658472864169, -24.385793149455644, -26.390952311874365, -28.623502913936896, -31.1202994166618, -33.924234456873364, -37.084904659456875, -40.65931784904325, -44.712641661122916, -49.31899355258905, -54.56227221170987, -60.537030367530406, -67.34938899870352, -75.1179929417498, -83.97500789874752, -94.06715884445106, -105.55680983283901, -118.6230852030915], [-26.787110695902655, -23.548901028045226, -20.80258107636341, -18.487629153903413, -16.55085362653841, -14.945691754247745, -13.631549931825543, -12.573185329018528, -11.740128930093082, -11.106149972831602, -10.648761786958119, -10.34876903199318, -10.189856334538003, -10.158218324987878, -10.242231073674862, -10.432164926439725, -10.71993873963315, -11.098915514546235, -11.563739431270228, -12.110214281985538, -12.735223303680023, -13.436690410296523, -14.2135828243097, -15.065955107732067, -15.995034592549398, -17.003348210585276, -18.094890722795018, -19.27533434798879, -20.552279790984034, -21.935548670187124, -23.43751734460436, -25.073492140282077, -26.86212597617625, -28.82587638945114, -30.991504960207326, -33.39061813563901, -36.0602494536205, -39.04348316572208, -42.39011925965505, -46.157379881146056, -50.410657155240735, -55.224302407036525, -60.68245678184492, -66.8799232647827, -73.92308009979284, -81.93083560809409, -91.03562440606058, -101.38444502253009, -113.13993891554175, -126.4815108885031], [-29.63684453204664, -26.328813791331353, -23.525803828259374, -21.166594180014116, -19.197333860131746, -17.570839409970255, -16.24593434960765, -15.186830028169549, -14.362547873585958, -13.746383041777328, -13.315409465269916, -13.050026301240372, -12.933545778989608, -12.95182244684593, -13.092923818497445, -13.346842418753706, -13.705249228736687, -14.161288530500945, -14.709414151083084, -15.345267105980525, -16.06559464205945, -16.86821067989212, -17.751997655523375, -18.716949761666424, -19.76425758832794, -20.896434162862356, -22.117482389455493, -23.433103888037394, -24.850949232624462, -26.380909589090876, -28.035449752369217, -29.829982583080415, -31.78328484359296, -33.917954433511326, -36.260909024593715, -38.84392609509908, -41.7042243635633, -44.88508662200481, -48.43652396855936, -52.41598143954398, -56.889085040950455, -61.930430179367825, -67.62441149233425, -74.06609407811817, -81.3621261249287, -89.63169293955511, -99.00751237543602, -109.63687166015752, -121.68270562238044, -135.32471631819726], [-32.91337834146624, -29.53484244980661, -26.675238058333058, -24.27262472263503, -22.272471720076865, -20.626955311456534, -19.29429740209362, -18.238145602346577, -17.426994687559244, -16.833649457436657, -16.43472899485007, -16.21021232407128, -16.143025468436235, -16.21866990743787, -16.424892433248218, -16.751396406669823, -17.18959441251635, -17.73240231442254, -18.374074709083384, -19.110081779922552, -19.937027550190145, -20.85260953548965, -21.85561979573419, -22.945987386532067, -24.124862210001524, -25.39474026501477, -26.759630296871357, -28.225261846400702, -29.799334698493944, -31.491809730065107, -33.315241157441406, -35.28515018318294, -37.42044004233161, -39.74385244808927, -42.282465436925186, -45.068232613112755, -48.138563792695464, -51.53694704688213, -55.3136121448715, -59.52623539610585, -64.24068589195419, -69.5318131468245, -75.48427613870538, -82.19341374913675, -89.76615660261012, -98.3219803053978, -107.99390008381167, -118.9295068218911, -131.29204449852, -145.26152902397334], [-36.67336869069409, -33.22410373998204, -30.3084970732188, -27.86386687170879, -25.834982105849786, -24.17335900698127, -22.836598938662192, -21.787767667377935, -20.99481603267656, -20.43004201673429, -20.069594213350292, -19.89301669637073, -19.882835287542044, -20.024185223793545, -20.304480223949238, -20.713122954868926, -21.241256897018562, -21.881559609469956, -22.62807739432958, -23.476101360596793, -24.42208488745129, -25.46360248696975, -26.599350066271857, -27.829186589095503, -29.154217136801293, -30.57691736880632, -32.10129938244719, -33.73311897227235, -35.48012428876358, -37.35234589648691, -39.362428231672695, -41.52600245922493, -43.86210072915994, -46.39361183247427, -49.14777825644181, -52.156734639340286, -55.45808762460686, -59.09553711442321, -63.11953892272972, -67.58800882766886, -72.56706802345815, -78.13182997169207, -84.3672286520733, -91.36888821257344, -99.24403401902273, -108.11244510412908, -118.1074480159266, -129.3769520656531, -142.08452597505703, -156.41051592313363], [-40.97993639697352, -37.46023143430846, -34.48976510772364, -32.005092644587634, -29.950261950576973, -28.276109291714334, -26.939596375836, -25.90318883348849, -25.134276098254574, -24.604632686508452, -24.289920876600252, -24.16923478746984, -24.224685856689753, -24.44102971793756, -24.805334477897397, -25.306690392590767, -25.93596094313666, -26.685575310940894, -27.549362252314737, -28.522425372522783, -29.601059799260135, -30.782710255558783, -32.06597053212333, -33.45062435909594, -34.93772767725051, -36.529732308616225, -38.23065102653026, -40.04626402511983, -41.984366788213435, -44.05505935768143, -46.27107700120589, -48.64816227947959, -51.20547851283446, -53.96606464729914, -56.95733152008589, -60.2115995245067, -63.76667767431875, -67.66648406749904, -71.96170774944846, -76.71051197562481, -81.97927887360544, -87.84339550457892, -94.3880813242661, -101.70925704327037, -109.91445488685724, -119.1237702541629, -129.47085477683277, -141.10395077708847, -154.18696712522453, -168.90059649653432], [-45.90318239217833, -42.31389462694268, -39.29031803244016, -36.76822311549267, -34.69091577234107, -33.00853218087309, -31.67737509228033, -30.659291522144848, -29.921091840954755, -29.43401026404913, -29.173206740992278, -29.117310244377194, -29.248003458058285, -29.5496488648134, -30.008956233435093, -30.61469150525116, -31.357427080074455, -32.22933350158197, -33.224012542123155, -34.336371686957534, -35.56254001792158, -36.89982549652483, -38.34671364647535, -39.902907635634335, -41.56940975740008, -43.348644311521205, -45.244621884339075, -47.26314502845958, -49.41205534185411, -51.70152194638985, -54.1443713657893, -56.756458803019044, -59.5570808171079, -62.56942939939419, -65.82108744920234, -69.34456564894882, -73.17788073867715, -77.36517519002241, -81.9573782796049, -87.01290856185295, -92.59841774125532, -98.7895759440425, -105.67189838929747, -113.3416134594958, -121.90657217047485, -131.48719904083214, -142.2174843607534, -154.2460178602696, -167.7370637769431, -182.8716773229834], [-51.52072494307908, -47.8633373758603, -44.789065417705594, -42.23287290131963, -40.13730258183324, -38.45177023922104, -37.13190018014829, -36.13890213924706, -35.43898957982153, -35.00283939398274, -34.80509300221249, -34.82389885235651, -35.04049631804694, -35.438840996554084, -36.00527140606736, -36.72821708240556, -37.597948075156395, -38.6063658432453, -39.74683554993344, -41.01405975724511, -42.40399351982424, -43.91380087822032, -45.5418527516035, -47.287766229908954, -49.15248526541061, -51.13840276372396, -53.249524074238366, -55.491671879978426, -57.87273248689474, -60.4029435125839, -63.095222974437725, -65.96553977722178, -69.03332560008316, -72.3219281829876, -75.85910601258571, -79.67756440750865, -83.81553300309284, -88.31738463553424, -93.23429562547167, -98.62494746099941, -104.55626988010918, -111.10422535256139, -118.35463496118535, -126.40404568260928, -135.36063906741919, -145.3451813197468, -156.4920147762877, -168.9500907847477, -182.88404398171878, -198.47530796998484]]}],\n",
              "                        {\"height\": 500, \"legend\": {\"tracegroupgap\": 0}, \"template\": {\"data\": {\"bar\": [{\"error_x\": {\"color\": \"#2a3f5f\"}, \"error_y\": {\"color\": \"#2a3f5f\"}, \"marker\": {\"line\": {\"color\": \"#E5ECF6\", \"width\": 0.5}}, \"type\": \"bar\"}], \"barpolar\": [{\"marker\": {\"line\": {\"color\": \"#E5ECF6\", \"width\": 0.5}}, \"type\": \"barpolar\"}], \"carpet\": [{\"aaxis\": {\"endlinecolor\": \"#2a3f5f\", \"gridcolor\": \"white\", \"linecolor\": \"white\", \"minorgridcolor\": \"white\", \"startlinecolor\": \"#2a3f5f\"}, \"baxis\": {\"endlinecolor\": \"#2a3f5f\", \"gridcolor\": \"white\", \"linecolor\": \"white\", \"minorgridcolor\": \"white\", \"startlinecolor\": \"#2a3f5f\"}, \"type\": \"carpet\"}], \"choropleth\": [{\"colorbar\": {\"outlinewidth\": 0, \"ticks\": \"\"}, \"type\": \"choropleth\"}], \"contour\": [{\"colorbar\": {\"outlinewidth\": 0, \"ticks\": \"\"}, \"colorscale\": [[0.0, \"#0d0887\"], [0.1111111111111111, \"#46039f\"], [0.2222222222222222, \"#7201a8\"], [0.3333333333333333, \"#9c179e\"], [0.4444444444444444, \"#bd3786\"], [0.5555555555555556, \"#d8576b\"], [0.6666666666666666, \"#ed7953\"], [0.7777777777777778, \"#fb9f3a\"], [0.8888888888888888, \"#fdca26\"], [1.0, \"#f0f921\"]], \"type\": \"contour\"}], \"contourcarpet\": [{\"colorbar\": {\"outlinewidth\": 0, \"ticks\": \"\"}, \"type\": \"contourcarpet\"}], \"heatmap\": [{\"colorbar\": {\"outlinewidth\": 0, \"ticks\": \"\"}, \"colorscale\": [[0.0, \"#0d0887\"], [0.1111111111111111, \"#46039f\"], [0.2222222222222222, \"#7201a8\"], [0.3333333333333333, \"#9c179e\"], [0.4444444444444444, \"#bd3786\"], [0.5555555555555556, \"#d8576b\"], [0.6666666666666666, \"#ed7953\"], [0.7777777777777778, \"#fb9f3a\"], [0.8888888888888888, \"#fdca26\"], [1.0, \"#f0f921\"]], \"type\": \"heatmap\"}], \"heatmapgl\": [{\"colorbar\": {\"outlinewidth\": 0, \"ticks\": \"\"}, \"colorscale\": [[0.0, \"#0d0887\"], [0.1111111111111111, \"#46039f\"], [0.2222222222222222, \"#7201a8\"], [0.3333333333333333, \"#9c179e\"], [0.4444444444444444, \"#bd3786\"], [0.5555555555555556, \"#d8576b\"], [0.6666666666666666, \"#ed7953\"], [0.7777777777777778, \"#fb9f3a\"], [0.8888888888888888, \"#fdca26\"], [1.0, \"#f0f921\"]], \"type\": \"heatmapgl\"}], \"histogram\": [{\"marker\": {\"colorbar\": {\"outlinewidth\": 0, \"ticks\": \"\"}}, \"type\": \"histogram\"}], \"histogram2d\": [{\"colorbar\": {\"outlinewidth\": 0, \"ticks\": \"\"}, \"colorscale\": [[0.0, \"#0d0887\"], [0.1111111111111111, \"#46039f\"], [0.2222222222222222, \"#7201a8\"], [0.3333333333333333, \"#9c179e\"], [0.4444444444444444, \"#bd3786\"], [0.5555555555555556, \"#d8576b\"], [0.6666666666666666, \"#ed7953\"], [0.7777777777777778, \"#fb9f3a\"], [0.8888888888888888, \"#fdca26\"], [1.0, \"#f0f921\"]], \"type\": \"histogram2d\"}], \"histogram2dcontour\": [{\"colorbar\": {\"outlinewidth\": 0, \"ticks\": \"\"}, \"colorscale\": [[0.0, \"#0d0887\"], [0.1111111111111111, \"#46039f\"], [0.2222222222222222, \"#7201a8\"], [0.3333333333333333, \"#9c179e\"], [0.4444444444444444, \"#bd3786\"], [0.5555555555555556, \"#d8576b\"], [0.6666666666666666, \"#ed7953\"], [0.7777777777777778, \"#fb9f3a\"], [0.8888888888888888, \"#fdca26\"], [1.0, \"#f0f921\"]], \"type\": \"histogram2dcontour\"}], \"mesh3d\": [{\"colorbar\": {\"outlinewidth\": 0, \"ticks\": \"\"}, \"type\": \"mesh3d\"}], \"parcoords\": [{\"line\": {\"colorbar\": {\"outlinewidth\": 0, \"ticks\": \"\"}}, \"type\": \"parcoords\"}], \"scatter\": [{\"marker\": {\"colorbar\": {\"outlinewidth\": 0, \"ticks\": \"\"}}, \"type\": \"scatter\"}], \"scatter3d\": [{\"line\": {\"colorbar\": {\"outlinewidth\": 0, \"ticks\": \"\"}}, \"marker\": {\"colorbar\": {\"outlinewidth\": 0, \"ticks\": \"\"}}, \"type\": \"scatter3d\"}], \"scattercarpet\": [{\"marker\": {\"colorbar\": {\"outlinewidth\": 0, \"ticks\": \"\"}}, \"type\": \"scattercarpet\"}], \"scattergeo\": [{\"marker\": {\"colorbar\": {\"outlinewidth\": 0, \"ticks\": \"\"}}, \"type\": \"scattergeo\"}], \"scattergl\": [{\"marker\": {\"colorbar\": {\"outlinewidth\": 0, \"ticks\": \"\"}}, \"type\": \"scattergl\"}], \"scattermapbox\": [{\"marker\": {\"colorbar\": {\"outlinewidth\": 0, \"ticks\": \"\"}}, \"type\": \"scattermapbox\"}], \"scatterpolar\": [{\"marker\": {\"colorbar\": {\"outlinewidth\": 0, \"ticks\": \"\"}}, \"type\": \"scatterpolar\"}], \"scatterpolargl\": [{\"marker\": {\"colorbar\": {\"outlinewidth\": 0, \"ticks\": \"\"}}, \"type\": \"scatterpolargl\"}], \"scatterternary\": [{\"marker\": {\"colorbar\": {\"outlinewidth\": 0, \"ticks\": \"\"}}, \"type\": \"scatterternary\"}], \"surface\": [{\"colorbar\": {\"outlinewidth\": 0, \"ticks\": \"\"}, \"colorscale\": [[0.0, \"#0d0887\"], [0.1111111111111111, \"#46039f\"], [0.2222222222222222, \"#7201a8\"], [0.3333333333333333, \"#9c179e\"], [0.4444444444444444, \"#bd3786\"], [0.5555555555555556, \"#d8576b\"], [0.6666666666666666, \"#ed7953\"], [0.7777777777777778, \"#fb9f3a\"], [0.8888888888888888, \"#fdca26\"], [1.0, \"#f0f921\"]], \"type\": \"surface\"}], \"table\": [{\"cells\": {\"fill\": {\"color\": \"#EBF0F8\"}, \"line\": {\"color\": \"white\"}}, \"header\": {\"fill\": {\"color\": \"#C8D4E3\"}, \"line\": {\"color\": \"white\"}}, \"type\": \"table\"}]}, \"layout\": {\"annotationdefaults\": {\"arrowcolor\": \"#2a3f5f\", \"arrowhead\": 0, \"arrowwidth\": 1}, \"colorscale\": {\"diverging\": [[0, \"#8e0152\"], [0.1, \"#c51b7d\"], [0.2, \"#de77ae\"], [0.3, \"#f1b6da\"], [0.4, \"#fde0ef\"], [0.5, \"#f7f7f7\"], [0.6, \"#e6f5d0\"], [0.7, \"#b8e186\"], [0.8, \"#7fbc41\"], [0.9, \"#4d9221\"], [1, \"#276419\"]], \"sequential\": [[0.0, \"#0d0887\"], [0.1111111111111111, \"#46039f\"], [0.2222222222222222, \"#7201a8\"], [0.3333333333333333, \"#9c179e\"], [0.4444444444444444, \"#bd3786\"], [0.5555555555555556, \"#d8576b\"], [0.6666666666666666, \"#ed7953\"], [0.7777777777777778, \"#fb9f3a\"], [0.8888888888888888, \"#fdca26\"], [1.0, \"#f0f921\"]], \"sequentialminus\": [[0.0, \"#0d0887\"], [0.1111111111111111, \"#46039f\"], [0.2222222222222222, \"#7201a8\"], [0.3333333333333333, \"#9c179e\"], [0.4444444444444444, \"#bd3786\"], [0.5555555555555556, \"#d8576b\"], [0.6666666666666666, \"#ed7953\"], [0.7777777777777778, \"#fb9f3a\"], [0.8888888888888888, \"#fdca26\"], [1.0, \"#f0f921\"]]}, \"colorway\": [\"#636efa\", \"#EF553B\", \"#00cc96\", \"#ab63fa\", \"#FFA15A\", \"#19d3f3\", \"#FF6692\", \"#B6E880\", \"#FF97FF\", \"#FECB52\"], \"font\": {\"color\": \"#2a3f5f\"}, \"geo\": {\"bgcolor\": \"white\", \"lakecolor\": \"white\", \"landcolor\": \"#E5ECF6\", \"showlakes\": true, \"showland\": true, \"subunitcolor\": \"white\"}, \"hoverlabel\": {\"align\": \"left\"}, \"hovermode\": \"closest\", \"mapbox\": {\"style\": \"light\"}, \"paper_bgcolor\": \"white\", \"plot_bgcolor\": \"#E5ECF6\", \"polar\": {\"angularaxis\": {\"gridcolor\": \"white\", \"linecolor\": \"white\", \"ticks\": \"\"}, \"bgcolor\": \"#E5ECF6\", \"radialaxis\": {\"gridcolor\": \"white\", \"linecolor\": \"white\", \"ticks\": \"\"}}, \"scene\": {\"xaxis\": {\"backgroundcolor\": \"#E5ECF6\", \"gridcolor\": \"white\", \"gridwidth\": 2, \"linecolor\": \"white\", \"showbackground\": true, \"ticks\": \"\", \"zerolinecolor\": \"white\"}, \"yaxis\": {\"backgroundcolor\": \"#E5ECF6\", \"gridcolor\": \"white\", \"gridwidth\": 2, \"linecolor\": \"white\", \"showbackground\": true, \"ticks\": \"\", \"zerolinecolor\": \"white\"}, \"zaxis\": {\"backgroundcolor\": \"#E5ECF6\", \"gridcolor\": \"white\", \"gridwidth\": 2, \"linecolor\": \"white\", \"showbackground\": true, \"ticks\": \"\", \"zerolinecolor\": \"white\"}}, \"shapedefaults\": {\"line\": {\"color\": \"#2a3f5f\"}}, \"ternary\": {\"aaxis\": {\"gridcolor\": \"white\", \"linecolor\": \"white\", \"ticks\": \"\"}, \"baxis\": {\"gridcolor\": \"white\", \"linecolor\": \"white\", \"ticks\": \"\"}, \"bgcolor\": \"#E5ECF6\", \"caxis\": {\"gridcolor\": \"white\", \"linecolor\": \"white\", \"ticks\": \"\"}}, \"title\": {\"x\": 0.05}, \"xaxis\": {\"automargin\": true, \"gridcolor\": \"white\", \"linecolor\": \"white\", \"ticks\": \"\", \"zerolinecolor\": \"white\", \"zerolinewidth\": 2}, \"yaxis\": {\"automargin\": true, \"gridcolor\": \"white\", \"linecolor\": \"white\", \"ticks\": \"\", \"zerolinecolor\": \"white\", \"zerolinewidth\": 2}}}, \"title\": {\"text\": \"Admitted vs not Admitted\"}, \"width\": 500, \"xaxis\": {\"anchor\": \"y\", \"domain\": [0.0, 0.98], \"title\": {\"text\": \"X1\"}}, \"yaxis\": {\"anchor\": \"x\", \"domain\": [0.0, 1.0], \"title\": {\"text\": \"X2\"}}},\n",
              "                        {\"responsive\": true}\n",
              "                    ).then(function(){\n",
              "                            \n",
              "var gd = document.getElementById('5f32331b-0774-47c5-9ddf-ad73ec1ca117');\n",
              "var x = new MutationObserver(function (mutations, observer) {{\n",
              "        var display = window.getComputedStyle(gd).display;\n",
              "        if (!display || display === 'none') {{\n",
              "            console.log([gd, 'removed!']);\n",
              "            Plotly.purge(gd);\n",
              "            observer.disconnect();\n",
              "        }}\n",
              "}});\n",
              "\n",
              "// Listen for the removal of the full notebook cells\n",
              "var notebookContainer = gd.closest('#notebook-container');\n",
              "if (notebookContainer) {{\n",
              "    x.observe(notebookContainer, {childList: true});\n",
              "}}\n",
              "\n",
              "// Listen for the clearing of the current output cell\n",
              "var outputEl = gd.closest('.output');\n",
              "if (outputEl) {{\n",
              "    x.observe(outputEl, {childList: true});\n",
              "}}\n",
              "\n",
              "                        })\n",
              "                };\n",
              "                \n",
              "            </script>\n",
              "        </div>\n",
              "</body>\n",
              "</html>"
            ]
          },
          "metadata": {
            "tags": []
          }
        }
      ]
    },
    {
      "cell_type": "markdown",
      "metadata": {
        "id": "iwogFOAZ4E2V",
        "colab_type": "text"
      },
      "source": [
        "## 3.4 Cost Function with Regularization (L2 - Ridge Regression)"
      ]
    },
    {
      "cell_type": "markdown",
      "metadata": {
        "id": "dyU7Kzk90WpU",
        "colab_type": "text"
      },
      "source": [
        "**Reference**\n",
        "\n",
        "https://machinelearningmastery.com/vector-norms-machine-learning/\n"
      ]
    },
    {
      "cell_type": "markdown",
      "metadata": {
        "id": "N9jVKt4OzrXq",
        "colab_type": "text"
      },
      "source": [
        "**Ridge regression** adds ''squared magnitude'' of coefficient as penalty term to the loss function. Here this  part\n",
        "```python\n",
        "lambda_/(2*m) * np.sum(theta[1:]**2)\n",
        "```\n",
        "represents L2 regularization element."
      ]
    },
    {
      "cell_type": "markdown",
      "metadata": {
        "id": "tQRJHOtf4PXI",
        "colab_type": "text"
      },
      "source": [
        "$\n",
        "\\displaystyle J(\\theta) = - \\frac{1}{m} \\sum_{i=1}^{m}\\left[ y^{(i)}\\log(h_{\\theta}(x^{(i)})) + (1-y)(\\log(1-h_{\\theta}(x^{(i)})\\right] + \\frac{\\lambda}{2m} \\sum_{j=1}^{n}\\theta_j^2\\\\\n",
        "\\theta_i: i = 0 \\ldots n \n",
        "$"
      ]
    },
    {
      "cell_type": "code",
      "metadata": {
        "id": "H4hxIvyGRLsa",
        "colab_type": "code",
        "colab": {}
      },
      "source": [
        "def cost_function_reg_l2(theta, X, y, lambda_):\n",
        "  m = len(y)\n",
        "  thetaX = logistic(np.matmul(X, theta))\n",
        "  regularization = lambda_/(2*m) * np.sum(theta[1:]**2)\n",
        "  return -1/m * np.sum(y*np.log(thetaX) + (1-y)*np.log(1 - thetaX)) + regularization"
      ],
      "execution_count": 0,
      "outputs": []
    },
    {
      "cell_type": "markdown",
      "metadata": {
        "id": "ccWrnj_h0jYt",
        "colab_type": "text"
      },
      "source": [
        "## 3.5 Cost Function with Regularization (L1 - Lasso Regression)"
      ]
    },
    {
      "cell_type": "markdown",
      "metadata": {
        "id": "l9UiJiA50sw1",
        "colab_type": "text"
      },
      "source": [
        "**Lasso Regression** (Least Absolute Shrinkage and Selection Operator) adds ''absolute value of magnitude'' of coefficient as penalty term to the loss function.\n",
        "\n",
        "Here this parte \n",
        "```python\n",
        "lambda_/(2*m) * np.sum(np.abs(theta[1:]))\n",
        "```\n",
        "\n",
        " represents L1 regularization element."
      ]
    },
    {
      "cell_type": "markdown",
      "metadata": {
        "id": "TvUKZlkT1mYe",
        "colab_type": "text"
      },
      "source": [
        "$\n",
        "\\displaystyle J(\\theta) = - \\frac{1}{m} \\sum_{i=1}^{m}\\left[ y^{(i)}\\log(h_{\\theta}(x^{(i)})) + (1-y)(\\log(1-h_{\\theta}(x^{(i)})\\right] + \\frac{\\lambda}{2m} \\sum_{j=1}^{n}|\\theta_j|\\\\\n",
        "\\theta_i: i = 0 \\ldots n \n",
        "$"
      ]
    },
    {
      "cell_type": "code",
      "metadata": {
        "id": "04dp-Q4k08iC",
        "colab_type": "code",
        "colab": {}
      },
      "source": [
        "def cost_function_reg_l1(theta, X, y, lambda_):\n",
        "  m = len(y)\n",
        "  thetaX = logistic(np.matmul(X, theta))\n",
        "  regularization = lambda_/(2*m) * np.sum(np.absolute(theta[1:]))\n",
        "  return -1/m * np.sum(y*np.log(thetaX) + (1-y)*np.log(1 - thetaX)) + regularization"
      ],
      "execution_count": 0,
      "outputs": []
    },
    {
      "cell_type": "markdown",
      "metadata": {
        "id": "I_v7DS5M6sM-",
        "colab_type": "text"
      },
      "source": [
        "## 3.6 Gradient Descent with Regularization (L1 and L2)"
      ]
    },
    {
      "cell_type": "code",
      "metadata": {
        "id": "ggiObnmZ5Z5q",
        "colab_type": "code",
        "colab": {}
      },
      "source": [
        "def gradient_descent_multi_reg(theta_, X, y, alpha, iterations,lambda_,penalty):\n",
        "    m = len(X)\n",
        "    theta = theta_.copy()\n",
        "    cost_history = []\n",
        "    for i in range(iterations):\n",
        "        gradient = np.dot(X.T, logistic(np.dot(X, theta)) - y)\n",
        "        theta[0] = theta[0] - (alpha/m * gradient[0])\n",
        "        if penalty == 'l1':\n",
        "          theta[1:] = theta[1:] - (alpha/m * (gradient[1:] + lambda_/2))\n",
        "          cost_history.append(cost_function_reg_l1(theta, X, y,lambda_))\n",
        "        else:\n",
        "          theta[1:] = theta[1:]*(1-alpha*lambda_/m) - (alpha/m * gradient[1:])\n",
        "          cost_history.append(cost_function_reg_l2(theta, X, y,lambda_))\n",
        "    return theta, cost_history"
      ],
      "execution_count": 0,
      "outputs": []
    },
    {
      "cell_type": "code",
      "metadata": {
        "id": "QZJzy140B7He",
        "colab_type": "code",
        "colab": {}
      },
      "source": [
        "# gradient for fmin_tnc\n",
        "def gradient_reg(theta,X,y,lambda_):\n",
        "  m = len(X)\n",
        "  grad = (1/m) * np.dot(X.T, logistic(np.dot(X, theta)) - y)\n",
        "  grad[1:] = grad[1:] + (lambda_/m) * theta[1:]\n",
        "  return grad"
      ],
      "execution_count": 0,
      "outputs": []
    },
    {
      "cell_type": "markdown",
      "metadata": {
        "id": "Xpbn7Ve397W5",
        "colab_type": "text"
      },
      "source": [
        "## 3.6 Main"
      ]
    },
    {
      "cell_type": "code",
      "metadata": {
        "id": "oKmynj5l1OdP",
        "colab_type": "code",
        "outputId": "4a7c4f84-b1da-46e9-92b7-69dbb32ff55f",
        "colab": {
          "base_uri": "https://localhost:8080/",
          "height": 35
        }
      },
      "source": [
        "poly = PolynomialFeatures(6)\n",
        "\n",
        "# C(2+6,6) = 28 columns\n",
        "X = poly.fit_transform(data2[[\"X1\",\"X2\"]])\n",
        "y = data2.Admitted.astype(np.int64).values.reshape(-1,1)\n",
        "\n",
        "# define m and n\n",
        "m,n = X.shape\n",
        "\n",
        "print(m,n)\n",
        "\n",
        "# guess an initial value for theta\n",
        "theta = np.zeros((n,1))\n",
        "\n",
        "lambda_  = 0.5"
      ],
      "execution_count": 102,
      "outputs": [
        {
          "output_type": "stream",
          "text": [
            "118 28\n"
          ],
          "name": "stdout"
        }
      ]
    },
    {
      "cell_type": "code",
      "metadata": {
        "id": "yD87TuEK-MUn",
        "colab_type": "code",
        "colab": {}
      },
      "source": [
        "theta_batch_reg_l1, cost_history_reg_l1 = gradient_descent_multi_reg(theta, X,y,1,280,lambda_,'l1')"
      ],
      "execution_count": 0,
      "outputs": []
    },
    {
      "cell_type": "code",
      "metadata": {
        "id": "L5tSX_o32xf1",
        "colab_type": "code",
        "colab": {}
      },
      "source": [
        "theta_batch_reg_l2, cost_history_reg_l2 = gradient_descent_multi_reg(theta,X,y,1,280,lambda_,'l2')"
      ],
      "execution_count": 0,
      "outputs": []
    },
    {
      "cell_type": "code",
      "metadata": {
        "id": "F0C_taryDjeU",
        "colab_type": "code",
        "colab": {}
      },
      "source": [
        "# using the swiss army knife: fmin_tnc\n",
        "result = opt.fmin_tnc(func = cost_function_reg_l1, \n",
        "                      x0 = theta.flatten(), \n",
        "                      fprime = gradient_reg,\n",
        "                      #approx_grad = True,\n",
        "                      args = (X, y.flatten(),lambda_),\n",
        "                      maxfun=1000\n",
        "                      )\n",
        "\n",
        "#the output of above function is a tuple whose first element \n",
        "#contains the optimized values of theta\n",
        "theta_opt = result[0].reshape(-1,1)"
      ],
      "execution_count": 0,
      "outputs": []
    },
    {
      "cell_type": "code",
      "metadata": {
        "id": "yXU2jxHOLT7t",
        "colab_type": "code",
        "outputId": "7374273c-d7c7-4e1b-d549-4e13aff5adb9",
        "colab": {
          "base_uri": "https://localhost:8080/",
          "height": 104
        }
      },
      "source": [
        "clf = LogisticRegression(penalty=\"l1\",C=1/lambda_,solver=\"liblinear\")\n",
        "clf.fit(X,y.ravel())"
      ],
      "execution_count": 107,
      "outputs": [
        {
          "output_type": "execute_result",
          "data": {
            "text/plain": [
              "LogisticRegression(C=2.0, class_weight=None, dual=False, fit_intercept=True,\n",
              "                   intercept_scaling=1, l1_ratio=None, max_iter=100,\n",
              "                   multi_class='warn', n_jobs=None, penalty='l1',\n",
              "                   random_state=None, solver='liblinear', tol=0.0001, verbose=0,\n",
              "                   warm_start=False)"
            ]
          },
          "metadata": {
            "tags": []
          },
          "execution_count": 107
        }
      ]
    },
    {
      "cell_type": "code",
      "metadata": {
        "id": "Xdx_0374-fQX",
        "colab_type": "code",
        "outputId": "23998bdc-d338-4160-925d-c2510e9bce2c",
        "colab": {
          "base_uri": "https://localhost:8080/",
          "height": 501
        }
      },
      "source": [
        "print(np.hstack((theta_batch,theta_batch_reg_l1,theta_batch_reg_l2,theta_opt,clf.coef_.reshape(28,1))))"
      ],
      "execution_count": 108,
      "outputs": [
        {
          "output_type": "stream",
          "text": [
            "[[ 3.25330946  2.34552949  1.57887747  1.71035761  1.2694631 ]\n",
            " [ 2.30689087  1.70043432  0.89299092  0.9799437   1.55159076]\n",
            " [ 3.56981732  2.61008535  1.57446815  1.65796762  2.19584655]\n",
            " [-5.02948176 -3.70018168 -2.54548567 -2.73692178 -5.59361492]\n",
            " [-4.11214084 -2.13592389 -1.30264737 -1.49621204 -3.43484441]\n",
            " [-4.98400183 -2.75793823 -1.8243869  -2.11724597 -4.93171905]\n",
            " [ 1.02490787  0.30422358  0.23122962  0.27707024  0.        ]\n",
            " [-1.50909822 -1.15428515 -0.51927564 -0.56838261  0.        ]\n",
            " [-0.94912102 -1.04695799 -0.49573234 -0.53398159  0.        ]\n",
            " [-0.33228425 -0.32210283 -0.19116124 -0.18065132  0.        ]\n",
            " [-4.10630911 -2.99896953 -1.8826361  -1.99969841 -2.27754891]\n",
            " [ 0.28749839 -0.50694553 -0.0838596  -0.06286978  0.        ]\n",
            " [-2.18883217 -1.66998372 -0.81923709 -0.90867848  0.        ]\n",
            " [-1.54724591 -1.05583167 -0.4076183  -0.46218555  0.        ]\n",
            " [-3.37455596 -2.45539718 -1.54466524 -1.64007657 -2.11253224]\n",
            " [-0.60871425 -0.68857047 -0.28410407 -0.27745375  0.        ]\n",
            " [-0.70861893 -0.92895856 -0.2913328  -0.30073549  0.        ]\n",
            " [ 0.42606918 -0.52294578 -0.05410697 -0.03641228  0.        ]\n",
            " [-1.2915928  -1.08058794 -0.38159997 -0.42841917  0.        ]\n",
            " [-1.49618215 -1.14685291 -0.42450577 -0.46808731  0.        ]\n",
            " [-0.24593243 -0.97093    -0.56012097 -0.46176409  0.        ]\n",
            " [-3.25985502 -2.37722257 -1.36245343 -1.42821177  0.        ]\n",
            " [ 0.37314529 -0.44451395  0.03013812  0.06163895  0.        ]\n",
            " [-0.97076074 -1.10487362 -0.38972975 -0.42602632  0.        ]\n",
            " [ 0.29443017 -0.48795959  0.01534548  0.03324865  0.        ]\n",
            " [-1.30750799 -1.19139285 -0.4404191  -0.48656156  0.        ]\n",
            " [-1.14419961 -0.88798674 -0.22421615 -0.24980497  0.        ]\n",
            " [-1.68163172 -1.97551496 -1.19190683 -1.12362151  0.        ]]\n"
          ],
          "name": "stdout"
        }
      ]
    },
    {
      "cell_type": "code",
      "metadata": {
        "id": "87OdRReb-6wg",
        "colab_type": "code",
        "outputId": "e683716f-eb30-4036-f033-6922d3d53104",
        "colab": {
          "base_uri": "https://localhost:8080/",
          "height": 35
        }
      },
      "source": [
        "p = prediction(X,theta_batch_reg_l1)\n",
        "print(\"Train Accuracy BGD L1: {}\".format(sum(p==y)[0]/len(y)))"
      ],
      "execution_count": 124,
      "outputs": [
        {
          "output_type": "stream",
          "text": [
            "Train Accuracy BGD L1: 0.8389830508474576\n"
          ],
          "name": "stdout"
        }
      ]
    },
    {
      "cell_type": "code",
      "metadata": {
        "id": "uW2cl3CuJHbV",
        "colab_type": "code",
        "outputId": "f1a32e31-c405-4472-87cd-f99d61bd2a00",
        "colab": {
          "base_uri": "https://localhost:8080/",
          "height": 35
        }
      },
      "source": [
        "p = prediction(X,theta_batch_reg_l2)\n",
        "print(\"Train Accuracy: BGD L2 {}\".format(sum(p==y)[0]/len(y)))"
      ],
      "execution_count": 110,
      "outputs": [
        {
          "output_type": "stream",
          "text": [
            "Train Accuracy: BGD L2 0.8220338983050848\n"
          ],
          "name": "stdout"
        }
      ]
    },
    {
      "cell_type": "code",
      "metadata": {
        "id": "sycPfqvxFL-E",
        "colab_type": "code",
        "outputId": "eae64332-a68a-4acd-f1bb-cab51bbd2dc1",
        "colab": {
          "base_uri": "https://localhost:8080/",
          "height": 35
        }
      },
      "source": [
        "p = prediction(X,theta_opt)\n",
        "print(\"Train Accuracy fmin: {}\".format(sum(p==y)[0]/len(y)))"
      ],
      "execution_count": 111,
      "outputs": [
        {
          "output_type": "stream",
          "text": [
            "Train Accuracy fmin: 0.8220338983050848\n"
          ],
          "name": "stdout"
        }
      ]
    },
    {
      "cell_type": "code",
      "metadata": {
        "id": "nRAR5nTbMWNE",
        "colab_type": "code",
        "outputId": "89c224be-923f-4c2c-dab4-7d41981f610e",
        "colab": {
          "base_uri": "https://localhost:8080/",
          "height": 35
        }
      },
      "source": [
        "p = prediction(X,clf.coef_.reshape(28,1))\n",
        "print(\"Train Accuracy scikit: {}\".format(sum(p==y)[0]/len(y)))"
      ],
      "execution_count": 112,
      "outputs": [
        {
          "output_type": "stream",
          "text": [
            "Train Accuracy scikit: 0.6694915254237288\n"
          ],
          "name": "stdout"
        }
      ]
    },
    {
      "cell_type": "code",
      "metadata": {
        "id": "mRPLEWGz-ZoE",
        "colab_type": "code",
        "outputId": "0376b469-a007-4dd2-967e-3d6096cb1df0",
        "colab": {
          "base_uri": "https://localhost:8080/",
          "height": 417
        }
      },
      "source": [
        "fig = go.Figure(data=go.Scatter(x=np.arange(1000), \n",
        "                                y=cost_history_reg_l1,\n",
        "                                name=\"Cost Function\"))\n",
        "fig.update_layout(width=600,\n",
        "                  height=400,\n",
        "                  yaxis=go.layout.YAxis(title_text=\"Cost Function\"),\n",
        "                  xaxis=go.layout.XAxis(title_text=\"Iterations\"),\n",
        "                  title=\"Cost Function vs #iterations\",\n",
        "                  showlegend=True\n",
        "                  )\n",
        "fig.show()"
      ],
      "execution_count": 113,
      "outputs": [
        {
          "output_type": "display_data",
          "data": {
            "text/html": [
              "<html>\n",
              "<head><meta charset=\"utf-8\" /></head>\n",
              "<body>\n",
              "    <div>\n",
              "            <script src=\"https://cdnjs.cloudflare.com/ajax/libs/mathjax/2.7.5/MathJax.js?config=TeX-AMS-MML_SVG\"></script><script type=\"text/javascript\">if (window.MathJax) {MathJax.Hub.Config({SVG: {font: \"STIX-Web\"}});}</script>\n",
              "                <script type=\"text/javascript\">window.PlotlyConfig = {MathJaxConfig: 'local'};</script>\n",
              "        <script src=\"https://cdn.plot.ly/plotly-latest.min.js\"></script>    \n",
              "            <div id=\"997cbf3b-900c-4010-989c-a48914c57e92\" class=\"plotly-graph-div\" style=\"height:400px; width:600px;\"></div>\n",
              "            <script type=\"text/javascript\">\n",
              "                \n",
              "                    window.PLOTLYENV=window.PLOTLYENV || {};\n",
              "                    \n",
              "                if (document.getElementById(\"997cbf3b-900c-4010-989c-a48914c57e92\")) {\n",
              "                    Plotly.newPlot(\n",
              "                        '997cbf3b-900c-4010-989c-a48914c57e92',\n",
              "                        [{\"name\": \"Cost Function\", \"type\": \"scatter\", \"x\": [0, 1, 2, 3, 4, 5, 6, 7, 8, 9, 10, 11, 12, 13, 14, 15, 16, 17, 18, 19, 20, 21, 22, 23, 24, 25, 26, 27, 28, 29, 30, 31, 32, 33, 34, 35, 36, 37, 38, 39, 40, 41, 42, 43, 44, 45, 46, 47, 48, 49, 50, 51, 52, 53, 54, 55, 56, 57, 58, 59, 60, 61, 62, 63, 64, 65, 66, 67, 68, 69, 70, 71, 72, 73, 74, 75, 76, 77, 78, 79, 80, 81, 82, 83, 84, 85, 86, 87, 88, 89, 90, 91, 92, 93, 94, 95, 96, 97, 98, 99, 100, 101, 102, 103, 104, 105, 106, 107, 108, 109, 110, 111, 112, 113, 114, 115, 116, 117, 118, 119, 120, 121, 122, 123, 124, 125, 126, 127, 128, 129, 130, 131, 132, 133, 134, 135, 136, 137, 138, 139, 140, 141, 142, 143, 144, 145, 146, 147, 148, 149, 150, 151, 152, 153, 154, 155, 156, 157, 158, 159, 160, 161, 162, 163, 164, 165, 166, 167, 168, 169, 170, 171, 172, 173, 174, 175, 176, 177, 178, 179, 180, 181, 182, 183, 184, 185, 186, 187, 188, 189, 190, 191, 192, 193, 194, 195, 196, 197, 198, 199, 200, 201, 202, 203, 204, 205, 206, 207, 208, 209, 210, 211, 212, 213, 214, 215, 216, 217, 218, 219, 220, 221, 222, 223, 224, 225, 226, 227, 228, 229, 230, 231, 232, 233, 234, 235, 236, 237, 238, 239, 240, 241, 242, 243, 244, 245, 246, 247, 248, 249, 250, 251, 252, 253, 254, 255, 256, 257, 258, 259, 260, 261, 262, 263, 264, 265, 266, 267, 268, 269, 270, 271, 272, 273, 274, 275, 276, 277, 278, 279, 280, 281, 282, 283, 284, 285, 286, 287, 288, 289, 290, 291, 292, 293, 294, 295, 296, 297, 298, 299, 300, 301, 302, 303, 304, 305, 306, 307, 308, 309, 310, 311, 312, 313, 314, 315, 316, 317, 318, 319, 320, 321, 322, 323, 324, 325, 326, 327, 328, 329, 330, 331, 332, 333, 334, 335, 336, 337, 338, 339, 340, 341, 342, 343, 344, 345, 346, 347, 348, 349, 350, 351, 352, 353, 354, 355, 356, 357, 358, 359, 360, 361, 362, 363, 364, 365, 366, 367, 368, 369, 370, 371, 372, 373, 374, 375, 376, 377, 378, 379, 380, 381, 382, 383, 384, 385, 386, 387, 388, 389, 390, 391, 392, 393, 394, 395, 396, 397, 398, 399, 400, 401, 402, 403, 404, 405, 406, 407, 408, 409, 410, 411, 412, 413, 414, 415, 416, 417, 418, 419, 420, 421, 422, 423, 424, 425, 426, 427, 428, 429, 430, 431, 432, 433, 434, 435, 436, 437, 438, 439, 440, 441, 442, 443, 444, 445, 446, 447, 448, 449, 450, 451, 452, 453, 454, 455, 456, 457, 458, 459, 460, 461, 462, 463, 464, 465, 466, 467, 468, 469, 470, 471, 472, 473, 474, 475, 476, 477, 478, 479, 480, 481, 482, 483, 484, 485, 486, 487, 488, 489, 490, 491, 492, 493, 494, 495, 496, 497, 498, 499, 500, 501, 502, 503, 504, 505, 506, 507, 508, 509, 510, 511, 512, 513, 514, 515, 516, 517, 518, 519, 520, 521, 522, 523, 524, 525, 526, 527, 528, 529, 530, 531, 532, 533, 534, 535, 536, 537, 538, 539, 540, 541, 542, 543, 544, 545, 546, 547, 548, 549, 550, 551, 552, 553, 554, 555, 556, 557, 558, 559, 560, 561, 562, 563, 564, 565, 566, 567, 568, 569, 570, 571, 572, 573, 574, 575, 576, 577, 578, 579, 580, 581, 582, 583, 584, 585, 586, 587, 588, 589, 590, 591, 592, 593, 594, 595, 596, 597, 598, 599, 600, 601, 602, 603, 604, 605, 606, 607, 608, 609, 610, 611, 612, 613, 614, 615, 616, 617, 618, 619, 620, 621, 622, 623, 624, 625, 626, 627, 628, 629, 630, 631, 632, 633, 634, 635, 636, 637, 638, 639, 640, 641, 642, 643, 644, 645, 646, 647, 648, 649, 650, 651, 652, 653, 654, 655, 656, 657, 658, 659, 660, 661, 662, 663, 664, 665, 666, 667, 668, 669, 670, 671, 672, 673, 674, 675, 676, 677, 678, 679, 680, 681, 682, 683, 684, 685, 686, 687, 688, 689, 690, 691, 692, 693, 694, 695, 696, 697, 698, 699, 700, 701, 702, 703, 704, 705, 706, 707, 708, 709, 710, 711, 712, 713, 714, 715, 716, 717, 718, 719, 720, 721, 722, 723, 724, 725, 726, 727, 728, 729, 730, 731, 732, 733, 734, 735, 736, 737, 738, 739, 740, 741, 742, 743, 744, 745, 746, 747, 748, 749, 750, 751, 752, 753, 754, 755, 756, 757, 758, 759, 760, 761, 762, 763, 764, 765, 766, 767, 768, 769, 770, 771, 772, 773, 774, 775, 776, 777, 778, 779, 780, 781, 782, 783, 784, 785, 786, 787, 788, 789, 790, 791, 792, 793, 794, 795, 796, 797, 798, 799, 800, 801, 802, 803, 804, 805, 806, 807, 808, 809, 810, 811, 812, 813, 814, 815, 816, 817, 818, 819, 820, 821, 822, 823, 824, 825, 826, 827, 828, 829, 830, 831, 832, 833, 834, 835, 836, 837, 838, 839, 840, 841, 842, 843, 844, 845, 846, 847, 848, 849, 850, 851, 852, 853, 854, 855, 856, 857, 858, 859, 860, 861, 862, 863, 864, 865, 866, 867, 868, 869, 870, 871, 872, 873, 874, 875, 876, 877, 878, 879, 880, 881, 882, 883, 884, 885, 886, 887, 888, 889, 890, 891, 892, 893, 894, 895, 896, 897, 898, 899, 900, 901, 902, 903, 904, 905, 906, 907, 908, 909, 910, 911, 912, 913, 914, 915, 916, 917, 918, 919, 920, 921, 922, 923, 924, 925, 926, 927, 928, 929, 930, 931, 932, 933, 934, 935, 936, 937, 938, 939, 940, 941, 942, 943, 944, 945, 946, 947, 948, 949, 950, 951, 952, 953, 954, 955, 956, 957, 958, 959, 960, 961, 962, 963, 964, 965, 966, 967, 968, 969, 970, 971, 972, 973, 974, 975, 976, 977, 978, 979, 980, 981, 982, 983, 984, 985, 986, 987, 988, 989, 990, 991, 992, 993, 994, 995, 996, 997, 998, 999], \"y\": [0.681493586820053, 0.6725670083554522, 0.6650701958688195, 0.6584133752794776, 0.6523281757357063, 0.6466777809422065, 0.6413827505558436, 0.6363903788411802, 0.631661779314452, 0.6271662170875152, 0.6228784361527407, 0.6187772504357875, 0.6148446909228921, 0.6110654173544795, 0.6074262722406953, 0.6039159237257372, 0.6005245717965124, 0.5972437038362914, 0.594065890451982, 0.5909846148331375, 0.5880257814792763, 0.5851639054666498, 0.5823843168951792, 0.5796827872251917, 0.5770555025764951, 0.5744990045470093, 0.5720101406599277, 0.5695860228148842, 0.5672239923924268, 0.5649215908905347, 0.5626765351633212, 0.5604866964912057, 0.5583500828438323, 0.5562648238063381, 0.5542291577300281, 0.5522414207433151, 0.5503000373206601, 0.5484035121583887, 0.54655042314861, 0.5447394152774931, 0.5429691953031783, 0.5412385270926606, 0.5395462275169258, 0.5378911628201904, 0.5362722453928437, 0.5346884308891332, 0.5331387156401535, 0.5316221343206098, 0.5301377578344507, 0.5286846913899509, 0.5272620727394406, 0.5258690705627078, 0.5245048829763137, 0.5231687361537543, 0.5218598830436458, 0.520577602175006, 0.5193211965402813, 0.5180899925481113, 0.5168833390389296, 0.5157006063574572, 0.5145411854769313, 0.5134044871705873, 0.5122899412264861, 0.5111969957022513, 0.5101251162167032, 0.509073785275713, 0.508042501629909, 0.507030779662114, 0.5060381488026165, 0.5050641529705624, 0.5041083500399203, 0.5031703113286113, 0.502249621109518, 0.5013458761421936, 0.500458685224187, 0.4995876687609804, 0.4987324583536099, 0.4978926964031071, 0.4970680357309497, 0.4962611158479819, 0.49547559386464385, 0.49470414216150954, 0.49394645164153583, 0.4932022219857689, 0.49247116135196517, 0.49175298608507484, 0.4910474204390677, 0.4903541963095982, 0.4896730529770417, 0.48900373685944903, 0.48834600127499767, 0.487699606213529, 0.48706431811678896, 0.4864399096670012, 0.4858261595834252, 0.48522285242656293, 0.4846297784096953, 0.48404673321744374, 0.48347351783106973, 0.4829099383602286, 0.4823558058809188, 0.4818109362793702, 0.48127515010162863, 0.48074827240860946, 0.4802301326363946, 0.4797205644615637, 0.4792194056713579, 0.478726498038481, 0.4782416872003538, 0.477764822542646, 0.477295757086913, 0.47683434738217884, 0.47638045340030727, 0.475933938435015, 0.47549466900438225, 0.4750625147567261, 0.4746373483797055, 0.4742190455125335, 0.4738074846611757, 0.47340254711642216, 0.4730041168747212, 0.47261208056167026, 0.47222632735806397, 0.4718467489284009, 0.4714732393517574, 0.4711056950549398, 0.4707440147478289, 0.470388099360836, 0.47003785198439024, 0.46969317781038544, 0.4693539840755105, 0.46902018000639634, 0.4686916767665131, 0.4683683874047524, 0.46805022680563496, 0.4677371116410849, 0.46742896032371184, 0.4671256929615506, 0.46682723131420356, 0.4665334987503366, 0.4662444202064821, 0.46595992214709925, 0.46567993252585194, 0.46540438074805907, 0.4651331976342764, 0.4648663153849709, 0.46460366754625193, 0.46434518897661886, 0.46409081581469347, 0.46384048544790335, 0.46359413648208125, 0.46335170871195364, 0.4631131430924838, 0.46287838171104523, 0.4626473677603939, 0.4624200455124155, 0.4621963602926202, 0.46197625845536106, 0.46175968735975237, 0.46154659534626474, 0.4613369317139744, 0.46113064669844706, 0.4609276914502337, 0.4607280180139606, 0.46053157930799266, 0.46033832910465333, 0.46014822201098354, 0.4599612134500196, 0.45977725964257876, 0.459596317589531, 0.45941834505454754, 0.4592433005473051, 0.4590711433071374, 0.4589018332871164, 0.4587353311385517, 0.4585715981958948, 0.45841059646203675, 0.4582522885939848, 0.45809663788891036, 0.457943608270554, 0.45779316427597744, 0.4576452710426535, 0.4574998942958826, 0.45735700033652715, 0.45721655602905265, 0.4570785287898692, 0.45694288657596255, 0.4568095978738065, 0.4566786316885503, 0.4565499575334697, 0.45642354541967856, 0.4562993658460889, 0.4561773897896157, 0.45605758869561785, 0.45593993446856995, 0.4558243994629562, 0.4557109564743825, 0.4555995787308989, 0.45549023988452875, 0.45538291400299513, 0.455277575561644, 0.4551741994355538, 0.4550727608918302, 0.4549732355820778, 0.4548755995350482, 0.45477982914945386, 0.4546859011869486, 0.454593792765268, 0.4545034813515243, 0.4544149447556545, 0.45432816112401464, 0.4542431089331195, 0.45415976698352023, 0.4540781143938198, 0.4539981305948204, 0.45391979532380083, 0.45384308861891853, 0.4537679908137359, 0.45369448253186423, 0.45362254468172647, 0.45355215845143104, 0.4534833053037581, 0.4534159669712528, 0.4533501254514229, 0.4532857630020414, 0.4532228621365456, 0.453161405619536, 0.4531013764623702, 0.453042757918847, 0.45298553348098414, 0.45292968687488233, 0.45287520205667436, 0.45282206320856055, 0.45277025473492444, 0.4527197612585284, 0.4526705676167873, 0.452622658858119, 0.4525760202383676, 0.4525306372173009, 0.45248649545517755, 0.45244358080938235, 0.4524018793311325, 0.4523613772622449, 0.4523220610319718, 0.45228391725389705, 0.4522469327228948, 0.4522110944121471, 0.4521763894702214, 0.45214280521820427, 0.4521103291468912, 0.452078948914031, 0.4520486523416244, 0.4520194274132734, 0.4519912622715826, 0.45196414521561, 0.4519380646983675, 0.45191300932436684, 0.45188896784721433, 0.45186592916725005, 0.4518438823292319, 0.4518228165200629, 0.45180272106656116, 0.4517835854332723, 0.45176539922032066, 0.45174815216130315, 0.4517318341212191, 0.4517164350944411, 0.4517019452027208, 0.4516883546932327, 0.451675653936653, 0.4516638334252741, 0.4516528837711523, 0.45164279570428983, 0.4516335600708501, 0.4516251678314033, 0.45161761005920503, 0.45161087793850585, 0.4516049627628892, 0.45159985593364116, 0.4515955489581467]}],\n",
              "                        {\"height\": 400, \"showlegend\": true, \"template\": {\"data\": {\"bar\": [{\"error_x\": {\"color\": \"#2a3f5f\"}, \"error_y\": {\"color\": \"#2a3f5f\"}, \"marker\": {\"line\": {\"color\": \"#E5ECF6\", \"width\": 0.5}}, \"type\": \"bar\"}], \"barpolar\": [{\"marker\": {\"line\": {\"color\": \"#E5ECF6\", \"width\": 0.5}}, \"type\": \"barpolar\"}], \"carpet\": [{\"aaxis\": {\"endlinecolor\": \"#2a3f5f\", \"gridcolor\": \"white\", \"linecolor\": \"white\", \"minorgridcolor\": \"white\", \"startlinecolor\": \"#2a3f5f\"}, \"baxis\": {\"endlinecolor\": \"#2a3f5f\", \"gridcolor\": \"white\", \"linecolor\": \"white\", \"minorgridcolor\": \"white\", \"startlinecolor\": \"#2a3f5f\"}, \"type\": \"carpet\"}], \"choropleth\": [{\"colorbar\": {\"outlinewidth\": 0, \"ticks\": \"\"}, \"type\": \"choropleth\"}], \"contour\": [{\"colorbar\": {\"outlinewidth\": 0, \"ticks\": \"\"}, \"colorscale\": [[0.0, \"#0d0887\"], [0.1111111111111111, \"#46039f\"], [0.2222222222222222, \"#7201a8\"], [0.3333333333333333, \"#9c179e\"], [0.4444444444444444, \"#bd3786\"], [0.5555555555555556, \"#d8576b\"], [0.6666666666666666, \"#ed7953\"], [0.7777777777777778, \"#fb9f3a\"], [0.8888888888888888, \"#fdca26\"], [1.0, \"#f0f921\"]], \"type\": \"contour\"}], \"contourcarpet\": [{\"colorbar\": {\"outlinewidth\": 0, \"ticks\": \"\"}, \"type\": \"contourcarpet\"}], \"heatmap\": [{\"colorbar\": {\"outlinewidth\": 0, \"ticks\": \"\"}, \"colorscale\": [[0.0, \"#0d0887\"], [0.1111111111111111, \"#46039f\"], [0.2222222222222222, \"#7201a8\"], [0.3333333333333333, \"#9c179e\"], [0.4444444444444444, \"#bd3786\"], [0.5555555555555556, \"#d8576b\"], [0.6666666666666666, \"#ed7953\"], [0.7777777777777778, \"#fb9f3a\"], [0.8888888888888888, \"#fdca26\"], [1.0, \"#f0f921\"]], \"type\": \"heatmap\"}], \"heatmapgl\": [{\"colorbar\": {\"outlinewidth\": 0, \"ticks\": \"\"}, \"colorscale\": [[0.0, \"#0d0887\"], [0.1111111111111111, \"#46039f\"], [0.2222222222222222, \"#7201a8\"], [0.3333333333333333, \"#9c179e\"], [0.4444444444444444, \"#bd3786\"], [0.5555555555555556, \"#d8576b\"], [0.6666666666666666, \"#ed7953\"], [0.7777777777777778, \"#fb9f3a\"], [0.8888888888888888, \"#fdca26\"], [1.0, \"#f0f921\"]], \"type\": \"heatmapgl\"}], \"histogram\": [{\"marker\": {\"colorbar\": {\"outlinewidth\": 0, \"ticks\": \"\"}}, \"type\": \"histogram\"}], \"histogram2d\": [{\"colorbar\": {\"outlinewidth\": 0, \"ticks\": \"\"}, \"colorscale\": [[0.0, \"#0d0887\"], [0.1111111111111111, \"#46039f\"], [0.2222222222222222, \"#7201a8\"], [0.3333333333333333, \"#9c179e\"], [0.4444444444444444, \"#bd3786\"], [0.5555555555555556, \"#d8576b\"], [0.6666666666666666, \"#ed7953\"], [0.7777777777777778, \"#fb9f3a\"], [0.8888888888888888, \"#fdca26\"], [1.0, \"#f0f921\"]], \"type\": \"histogram2d\"}], \"histogram2dcontour\": [{\"colorbar\": {\"outlinewidth\": 0, \"ticks\": \"\"}, \"colorscale\": [[0.0, \"#0d0887\"], [0.1111111111111111, \"#46039f\"], [0.2222222222222222, \"#7201a8\"], [0.3333333333333333, \"#9c179e\"], [0.4444444444444444, \"#bd3786\"], [0.5555555555555556, \"#d8576b\"], [0.6666666666666666, \"#ed7953\"], [0.7777777777777778, \"#fb9f3a\"], [0.8888888888888888, \"#fdca26\"], [1.0, \"#f0f921\"]], \"type\": \"histogram2dcontour\"}], \"mesh3d\": [{\"colorbar\": {\"outlinewidth\": 0, \"ticks\": \"\"}, \"type\": \"mesh3d\"}], \"parcoords\": [{\"line\": {\"colorbar\": {\"outlinewidth\": 0, \"ticks\": \"\"}}, \"type\": \"parcoords\"}], \"scatter\": [{\"marker\": {\"colorbar\": {\"outlinewidth\": 0, \"ticks\": \"\"}}, \"type\": \"scatter\"}], \"scatter3d\": [{\"line\": {\"colorbar\": {\"outlinewidth\": 0, \"ticks\": \"\"}}, \"marker\": {\"colorbar\": {\"outlinewidth\": 0, \"ticks\": \"\"}}, \"type\": \"scatter3d\"}], \"scattercarpet\": [{\"marker\": {\"colorbar\": {\"outlinewidth\": 0, \"ticks\": \"\"}}, \"type\": \"scattercarpet\"}], \"scattergeo\": [{\"marker\": {\"colorbar\": {\"outlinewidth\": 0, \"ticks\": \"\"}}, \"type\": \"scattergeo\"}], \"scattergl\": [{\"marker\": {\"colorbar\": {\"outlinewidth\": 0, \"ticks\": \"\"}}, \"type\": \"scattergl\"}], \"scattermapbox\": [{\"marker\": {\"colorbar\": {\"outlinewidth\": 0, \"ticks\": \"\"}}, \"type\": \"scattermapbox\"}], \"scatterpolar\": [{\"marker\": {\"colorbar\": {\"outlinewidth\": 0, \"ticks\": \"\"}}, \"type\": \"scatterpolar\"}], \"scatterpolargl\": [{\"marker\": {\"colorbar\": {\"outlinewidth\": 0, \"ticks\": \"\"}}, \"type\": \"scatterpolargl\"}], \"scatterternary\": [{\"marker\": {\"colorbar\": {\"outlinewidth\": 0, \"ticks\": \"\"}}, \"type\": \"scatterternary\"}], \"surface\": [{\"colorbar\": {\"outlinewidth\": 0, \"ticks\": \"\"}, \"colorscale\": [[0.0, \"#0d0887\"], [0.1111111111111111, \"#46039f\"], [0.2222222222222222, \"#7201a8\"], [0.3333333333333333, \"#9c179e\"], [0.4444444444444444, \"#bd3786\"], [0.5555555555555556, \"#d8576b\"], [0.6666666666666666, \"#ed7953\"], [0.7777777777777778, \"#fb9f3a\"], [0.8888888888888888, \"#fdca26\"], [1.0, \"#f0f921\"]], \"type\": \"surface\"}], \"table\": [{\"cells\": {\"fill\": {\"color\": \"#EBF0F8\"}, \"line\": {\"color\": \"white\"}}, \"header\": {\"fill\": {\"color\": \"#C8D4E3\"}, \"line\": {\"color\": \"white\"}}, \"type\": \"table\"}]}, \"layout\": {\"annotationdefaults\": {\"arrowcolor\": \"#2a3f5f\", \"arrowhead\": 0, \"arrowwidth\": 1}, \"colorscale\": {\"diverging\": [[0, \"#8e0152\"], [0.1, \"#c51b7d\"], [0.2, \"#de77ae\"], [0.3, \"#f1b6da\"], [0.4, \"#fde0ef\"], [0.5, \"#f7f7f7\"], [0.6, \"#e6f5d0\"], [0.7, \"#b8e186\"], [0.8, \"#7fbc41\"], [0.9, \"#4d9221\"], [1, \"#276419\"]], \"sequential\": [[0.0, \"#0d0887\"], [0.1111111111111111, \"#46039f\"], [0.2222222222222222, \"#7201a8\"], [0.3333333333333333, \"#9c179e\"], [0.4444444444444444, \"#bd3786\"], [0.5555555555555556, \"#d8576b\"], [0.6666666666666666, \"#ed7953\"], [0.7777777777777778, \"#fb9f3a\"], [0.8888888888888888, \"#fdca26\"], [1.0, \"#f0f921\"]], \"sequentialminus\": [[0.0, \"#0d0887\"], [0.1111111111111111, \"#46039f\"], [0.2222222222222222, \"#7201a8\"], [0.3333333333333333, \"#9c179e\"], [0.4444444444444444, \"#bd3786\"], [0.5555555555555556, \"#d8576b\"], [0.6666666666666666, \"#ed7953\"], [0.7777777777777778, \"#fb9f3a\"], [0.8888888888888888, \"#fdca26\"], [1.0, \"#f0f921\"]]}, \"colorway\": [\"#636efa\", \"#EF553B\", \"#00cc96\", \"#ab63fa\", \"#FFA15A\", \"#19d3f3\", \"#FF6692\", \"#B6E880\", \"#FF97FF\", \"#FECB52\"], \"font\": {\"color\": \"#2a3f5f\"}, \"geo\": {\"bgcolor\": \"white\", \"lakecolor\": \"white\", \"landcolor\": \"#E5ECF6\", \"showlakes\": true, \"showland\": true, \"subunitcolor\": \"white\"}, \"hoverlabel\": {\"align\": \"left\"}, \"hovermode\": \"closest\", \"mapbox\": {\"style\": \"light\"}, \"paper_bgcolor\": \"white\", \"plot_bgcolor\": \"#E5ECF6\", \"polar\": {\"angularaxis\": {\"gridcolor\": \"white\", \"linecolor\": \"white\", \"ticks\": \"\"}, \"bgcolor\": \"#E5ECF6\", \"radialaxis\": {\"gridcolor\": \"white\", \"linecolor\": \"white\", \"ticks\": \"\"}}, \"scene\": {\"xaxis\": {\"backgroundcolor\": \"#E5ECF6\", \"gridcolor\": \"white\", \"gridwidth\": 2, \"linecolor\": \"white\", \"showbackground\": true, \"ticks\": \"\", \"zerolinecolor\": \"white\"}, \"yaxis\": {\"backgroundcolor\": \"#E5ECF6\", \"gridcolor\": \"white\", \"gridwidth\": 2, \"linecolor\": \"white\", \"showbackground\": true, \"ticks\": \"\", \"zerolinecolor\": \"white\"}, \"zaxis\": {\"backgroundcolor\": \"#E5ECF6\", \"gridcolor\": \"white\", \"gridwidth\": 2, \"linecolor\": \"white\", \"showbackground\": true, \"ticks\": \"\", \"zerolinecolor\": \"white\"}}, \"shapedefaults\": {\"line\": {\"color\": \"#2a3f5f\"}}, \"ternary\": {\"aaxis\": {\"gridcolor\": \"white\", \"linecolor\": \"white\", \"ticks\": \"\"}, \"baxis\": {\"gridcolor\": \"white\", \"linecolor\": \"white\", \"ticks\": \"\"}, \"bgcolor\": \"#E5ECF6\", \"caxis\": {\"gridcolor\": \"white\", \"linecolor\": \"white\", \"ticks\": \"\"}}, \"title\": {\"x\": 0.05}, \"xaxis\": {\"automargin\": true, \"gridcolor\": \"white\", \"linecolor\": \"white\", \"ticks\": \"\", \"zerolinecolor\": \"white\", \"zerolinewidth\": 2}, \"yaxis\": {\"automargin\": true, \"gridcolor\": \"white\", \"linecolor\": \"white\", \"ticks\": \"\", \"zerolinecolor\": \"white\", \"zerolinewidth\": 2}}}, \"title\": {\"text\": \"Cost Function vs #iterations\"}, \"width\": 600, \"xaxis\": {\"title\": {\"text\": \"Iterations\"}}, \"yaxis\": {\"title\": {\"text\": \"Cost Function\"}}},\n",
              "                        {\"responsive\": true}\n",
              "                    ).then(function(){\n",
              "                            \n",
              "var gd = document.getElementById('997cbf3b-900c-4010-989c-a48914c57e92');\n",
              "var x = new MutationObserver(function (mutations, observer) {{\n",
              "        var display = window.getComputedStyle(gd).display;\n",
              "        if (!display || display === 'none') {{\n",
              "            console.log([gd, 'removed!']);\n",
              "            Plotly.purge(gd);\n",
              "            observer.disconnect();\n",
              "        }}\n",
              "}});\n",
              "\n",
              "// Listen for the removal of the full notebook cells\n",
              "var notebookContainer = gd.closest('#notebook-container');\n",
              "if (notebookContainer) {{\n",
              "    x.observe(notebookContainer, {childList: true});\n",
              "}}\n",
              "\n",
              "// Listen for the clearing of the current output cell\n",
              "var outputEl = gd.closest('.output');\n",
              "if (outputEl) {{\n",
              "    x.observe(outputEl, {childList: true});\n",
              "}}\n",
              "\n",
              "                        })\n",
              "                };\n",
              "                \n",
              "            </script>\n",
              "        </div>\n",
              "</body>\n",
              "</html>"
            ]
          },
          "metadata": {
            "tags": []
          }
        }
      ]
    },
    {
      "cell_type": "code",
      "metadata": {
        "id": "I6H3tdTh-2Tz",
        "colab_type": "code",
        "colab": {}
      },
      "source": [
        "# For that, we will assign a color to each\n",
        "x_ = np.linspace(-1,1.5,50)\n",
        "y_ = np.linspace(-1,1.5,50)\n",
        "xx, yy = np.meshgrid(x_, y_)"
      ],
      "execution_count": 0,
      "outputs": []
    },
    {
      "cell_type": "code",
      "metadata": {
        "id": "rbizPsYm-5Xf",
        "colab_type": "code",
        "colab": {}
      },
      "source": [
        "poly6 = PolynomialFeatures(6)\n",
        "# manual predict\n",
        "# transform X1 and X2 using a polynomial of higher degree\n",
        "# z = x_transformed * theta\n",
        "Z = np.dot(poly6.fit_transform(np.c_[xx.ravel(), yy.ravel()]),theta_batch)\n",
        "Z = Z.reshape(xx.shape)"
      ],
      "execution_count": 0,
      "outputs": []
    },
    {
      "cell_type": "code",
      "metadata": {
        "id": "poj7raRl-nVX",
        "colab_type": "code",
        "outputId": "027042fc-5bf0-4104-a668-035b5eb45335",
        "colab": {
          "base_uri": "https://localhost:8080/",
          "height": 517
        }
      },
      "source": [
        "fig = px.scatter(data2, \n",
        "                 x=\"X1\",\n",
        "                 y=\"X2\",\n",
        "                 color_discrete_sequence=[\"green\",\"red\"],\n",
        "                 symbol_sequence=[\"cross\",\"circle\"],\n",
        "                 color=\"Admitted\",\n",
        "                 width=800,\n",
        "                 height=500,\n",
        "                 title=\"Admitted vs not Admitted\",symbol=\"Admitted\",\n",
        "                 )\n",
        "fig.add_contour(z=Z,\n",
        "                x=x_,\n",
        "                y=y_,\n",
        "                ncontours=1,\n",
        "                showscale=False,\n",
        "                colorscale='haline')\n",
        "fig.show()\n",
        "\n",
        "# other colorscale\n",
        "# https://plot.ly/python/v3/cmocean-colorscales/"
      ],
      "execution_count": 122,
      "outputs": [
        {
          "output_type": "display_data",
          "data": {
            "text/html": [
              "<html>\n",
              "<head><meta charset=\"utf-8\" /></head>\n",
              "<body>\n",
              "    <div>\n",
              "            <script src=\"https://cdnjs.cloudflare.com/ajax/libs/mathjax/2.7.5/MathJax.js?config=TeX-AMS-MML_SVG\"></script><script type=\"text/javascript\">if (window.MathJax) {MathJax.Hub.Config({SVG: {font: \"STIX-Web\"}});}</script>\n",
              "                <script type=\"text/javascript\">window.PlotlyConfig = {MathJaxConfig: 'local'};</script>\n",
              "        <script src=\"https://cdn.plot.ly/plotly-latest.min.js\"></script>    \n",
              "            <div id=\"1782bc7c-1e90-4279-b9c1-2ecb02ba8483\" class=\"plotly-graph-div\" style=\"height:500px; width:800px;\"></div>\n",
              "            <script type=\"text/javascript\">\n",
              "                \n",
              "                    window.PLOTLYENV=window.PLOTLYENV || {};\n",
              "                    \n",
              "                if (document.getElementById(\"1782bc7c-1e90-4279-b9c1-2ecb02ba8483\")) {\n",
              "                    Plotly.newPlot(\n",
              "                        '1782bc7c-1e90-4279-b9c1-2ecb02ba8483',\n",
              "                        [{\"hoverlabel\": {\"namelength\": 0}, \"hovertemplate\": \"Admitted=1<br>X1=%{x}<br>X2=%{y}\", \"legendgroup\": \"Admitted=1\", \"marker\": {\"color\": \"green\", \"symbol\": \"cross\"}, \"mode\": \"markers\", \"name\": \"Admitted=1\", \"showlegend\": true, \"type\": \"scatter\", \"x\": [0.05126699999999999, -0.09274199999999999, -0.21370999999999998, -0.375, -0.51325, -0.52477, -0.39804, -0.30588000000000004, 0.016705, 0.13191, 0.38537, 0.5293800000000001, 0.6388199999999999, 0.73675, 0.54666, 0.322, 0.16647, -0.046659, -0.17339000000000002, -0.47868999999999995, -0.60541, -0.62846, -0.5938899999999999, -0.42108, -0.11578, 0.20104, 0.46601000000000004, 0.6733899999999999, -0.13882, -0.29435, -0.26555, -0.16187, -0.17339000000000002, -0.28283, -0.36348, -0.30012, -0.23675, -0.06394, 0.062788, 0.22984000000000002, 0.2932, 0.48328999999999994, 0.64459, 0.46025, 0.6273, 0.5754600000000001, 0.72523, 0.22408000000000003, 0.44297, 0.322, 0.13767000000000001, -0.0063364, -0.09274199999999999, -0.20795, -0.20795, -0.43836, -0.21946999999999997, -0.13882], \"xaxis\": \"x\", \"y\": [0.6995600000000001, 0.68494, 0.69225, 0.5021899999999999, 0.46563999999999994, 0.2098, 0.034357, -0.19225, -0.40424, -0.51389, -0.56506, -0.5212, -0.24341999999999997, -0.18494000000000002, 0.48757, 0.5826, 0.53874, 0.81652, 0.6995600000000001, 0.63377, 0.59722, 0.33405999999999997, 0.005117, -0.27266, -0.39693, -0.6016100000000001, -0.53582, -0.53582, 0.54605, 0.7799699999999999, 0.96272, 0.8019, 0.6483899999999999, 0.47295, 0.31213, 0.027047, -0.21418, -0.18494000000000002, -0.16301, -0.41155, -0.2288, -0.18494000000000002, -0.14107999999999998, 0.012426999999999999, 0.15863, 0.26827, 0.44371000000000005, 0.52412, 0.67032, 0.69225, 0.57529, 0.39985, 0.5533600000000001, 0.35599000000000003, 0.17325, 0.21711, -0.016812999999999998, -0.27266], \"yaxis\": \"y\"}, {\"hoverlabel\": {\"namelength\": 0}, \"hovertemplate\": \"Admitted=0<br>X1=%{x}<br>X2=%{y}\", \"legendgroup\": \"Admitted=0\", \"marker\": {\"color\": \"red\", \"symbol\": \"circle\"}, \"mode\": \"markers\", \"name\": \"Admitted=0\", \"showlegend\": true, \"type\": \"scatter\", \"x\": [0.18375999999999998, 0.22408000000000003, 0.29896, 0.50634, 0.61578, 0.60426, 0.76555, 0.92684, 0.82316, 0.96141, 0.9383600000000001, 0.8634799999999999, 0.89804, 0.85196, 0.8289200000000001, 0.79435, 0.5927399999999999, 0.51786, 0.46601000000000004, 0.35081, 0.28744000000000003, 0.085829, 0.14919000000000002, -0.13305999999999998, -0.40956, -0.39228, -0.74366, -0.69758, -0.7551800000000001, -0.69758, -0.4038, -0.38076, -0.50749, -0.54781, 0.10311, 0.057027999999999995, -0.10425999999999999, -0.081221, 0.28744000000000003, 0.39689, 0.6388199999999999, 0.82316, 0.6733899999999999, 1.0709, -0.046659, -0.23675, -0.15035, -0.49021000000000003, -0.46717, -0.28859, -0.6111800000000001, -0.6630199999999999, -0.59965, -0.72638, -0.8300700000000001, -0.7206199999999999, -0.5938899999999999, -0.48445, -0.0063364, 0.63265], \"xaxis\": \"x\", \"y\": [0.93348, 0.7799699999999999, 0.61915, 0.7580399999999999, 0.7288, 0.59722, 0.5021899999999999, 0.3633, 0.27558, 0.085526, 0.012426999999999999, -0.082602, -0.20686999999999997, -0.36769, -0.5212, -0.55775, -0.7405, -0.5943, -0.41886, -0.57968, -0.76974, -0.75512, -0.57968, -0.4481, -0.41155, -0.25804, -0.25804, 0.041667, 0.2902, 0.68494, 0.70687, 0.91886, 0.9042399999999999, 0.70687, 0.7799699999999999, 0.91886, 0.9919600000000001, 1.1089, 1.087, 0.82383, 0.8896200000000001, 0.66301, 0.64108, 0.10015, -0.57968, -0.6381600000000001, -0.36769, -0.3019, -0.13377, -0.060673000000000005, -0.067982, -0.21418, -0.41886, -0.082602, 0.31213, 0.53874, 0.49488000000000004, 0.9992700000000001, 0.9992700000000001, -0.030612], \"yaxis\": \"y\"}, {\"colorscale\": [[0.0, \"rgb(41, 24, 107)\"], [0.09090909090909091, \"rgb(42, 35, 160)\"], [0.18181818181818182, \"rgb(15, 71, 153)\"], [0.2727272727272727, \"rgb(18, 95, 142)\"], [0.36363636363636365, \"rgb(38, 116, 137)\"], [0.45454545454545453, \"rgb(53, 136, 136)\"], [0.5454545454545454, \"rgb(65, 157, 133)\"], [0.6363636363636364, \"rgb(81, 178, 124)\"], [0.7272727272727273, \"rgb(111, 198, 107)\"], [0.8181818181818182, \"rgb(160, 214, 91)\"], [0.9090909090909091, \"rgb(212, 225, 112)\"], [1.0, \"rgb(253, 238, 153)\"]], \"ncontours\": 1, \"showscale\": false, \"type\": \"contour\", \"x\": [-1.0, -0.9489795918367347, -0.8979591836734694, -0.846938775510204, -0.7959183673469388, -0.7448979591836735, -0.6938775510204082, -0.6428571428571428, -0.5918367346938775, -0.5408163265306123, -0.4897959183673469, -0.43877551020408156, -0.3877551020408163, -0.33673469387755106, -0.2857142857142857, -0.23469387755102034, -0.18367346938775508, -0.13265306122448983, -0.08163265306122447, -0.030612244897959107, 0.020408163265306145, 0.0714285714285714, 0.12244897959183687, 0.17346938775510212, 0.22448979591836737, 0.2755102040816326, 0.3265306122448979, 0.37755102040816335, 0.4285714285714286, 0.47959183673469385, 0.5306122448979593, 0.5816326530612246, 0.6326530612244898, 0.6836734693877551, 0.7346938775510203, 0.7857142857142858, 0.8367346938775511, 0.8877551020408163, 0.9387755102040818, 0.989795918367347, 1.0408163265306123, 1.0918367346938775, 1.1428571428571428, 1.193877551020408, 1.2448979591836737, 1.295918367346939, 1.3469387755102042, 1.3979591836734695, 1.4489795918367347, 1.5], \"y\": [-1.0, -0.9489795918367347, -0.8979591836734694, -0.846938775510204, -0.7959183673469388, -0.7448979591836735, -0.6938775510204082, -0.6428571428571428, -0.5918367346938775, -0.5408163265306123, -0.4897959183673469, -0.43877551020408156, -0.3877551020408163, -0.33673469387755106, -0.2857142857142857, -0.23469387755102034, -0.18367346938775508, -0.13265306122448983, -0.08163265306122447, -0.030612244897959107, 0.020408163265306145, 0.0714285714285714, 0.12244897959183687, 0.17346938775510212, 0.22448979591836737, 0.2755102040816326, 0.3265306122448979, 0.37755102040816335, 0.4285714285714286, 0.47959183673469385, 0.5306122448979593, 0.5816326530612246, 0.6326530612244898, 0.6836734693877551, 0.7346938775510203, 0.7857142857142858, 0.8367346938775511, 0.8877551020408163, 0.9387755102040818, 0.989795918367347, 1.0408163265306123, 1.0918367346938775, 1.1428571428571428, 1.193877551020408, 1.2448979591836737, 1.295918367346939, 1.3469387755102042, 1.3979591836734695, 1.4489795918367347, 1.5], \"z\": [[-29.68428054525836, -27.170219966289082, -24.985101218026912, -23.081042314398694, -21.416573624425176, -19.955970675342357, -18.668628355152205, -17.528476514602527, -16.513436968596178, -15.60492189702951, -14.787373645060086, -14.04784592280368, -13.375626404460522, -12.761900726870811, -12.19945788749951, -11.682437041850383, -11.206115700309336, -10.766739324416982, -10.36139232257049, -9.987910445154721, -9.644834579102586, -9.331405941884723, -9.047602674928385, -8.794217836465645, -8.572978793810822, -8.386708015067228, -8.239525260263115, -8.137091171916932, -8.086892265031864, -8.098567316519572, -8.184275154053276, -8.359103844350038, -8.641521280882364, -9.053867171019032, -9.622886422595219, -10.380303929911873, -11.363440759164343, -12.615871733300317, -14.18812441630699, -16.13841949692749, -18.533452571806592, -21.449217328065732, -24.971870125307202, -29.19863597704768, -34.238755931581046, -40.214475852270255, -47.2620765972689, -55.5329455986716, -65.19468984109392, -76.43229023968142], [-27.47293085990588, -24.99997198461222, -22.854286726550008, -20.988029306192626, -19.359770381093274, -17.93382905919606, -16.67964631157639, -15.571199784610602, -14.586460011574877, -13.706888023673386, -12.916974360495763, -12.203819479903785, -11.556755567347357, -10.96700974460974, -10.42740867798206, -9.932124585867069, -9.476462645812203, -9.056689800971855, -8.669904965998969, -8.313950632365856, -7.9873658731143165, -7.689380747034988, -7.4199521022759924, -7.179840779380828, -6.970730213755548, -6.79538643756518, -6.657859481059435, -6.563726173327673, -6.5203743424831275, -6.537328415276418, -6.626616416138298, -6.803178365651699, -7.08531607845303, -7.495184360562724, -8.059323606145089, -8.809233793697398, -9.781989881668236, -11.020898603505161, -12.576196662131576, -14.505790323852885, -16.876036411691942, -19.76256469815375, -23.251141697419385, -27.438575856969265, -32.43366414863567, -38.35818005908432, -45.347902979725674, -53.553688996055044, -63.142583076422184, -74.29897266023015], [-25.532256339153687, -23.095496605368137, -20.984603955901143, -19.151755651315597, -17.55555029313638, -16.160339047351222, -14.935598267340758, -13.855343516237927, -12.89758498871657, -12.043824332209319, -11.278592867554755, -10.589031209073852, -9.964510284075637, -9.396293751792168, -8.87724182174274, -8.401556471527385, -7.964568064049628, -7.562563364168488, -7.192654954779796, -6.852692052326725, -6.541212721739621, -6.257437490805083, -6.001304363964323, -5.773545235540784, -5.575803702397021, -5.410794276020853, -5.28250299404079, -5.196429431170698, -5.159870109583774, -5.182243308715754, -5.275455274497387, -5.454307828016192, -5.736947373607478, -6.145355306374628, -6.70587981913863, -7.449809108816921, -8.413985982231434, -9.641463861345983, -11.182204187932854, -13.093815227668674, -15.442332273659598, -18.303039249395688, -21.761331711134595, -25.913621249714524, -30.868281291796485, -36.74663430053558, -43.68398037568202, -51.830667253110974, -61.35320170378185, -72.43540233212688], [-23.82591148042748, -21.42092979789109, -19.340659146299075, -17.537286472886915, -15.969425791630565, -14.601448616937002, -13.402855796764038, -12.347690745169409, -11.413994074289098, -10.58329962574495, -9.840171901481543, -9.171784894032346, -8.567542316215114, -8.018739230256559, -7.518265076346301, -7.06034810062007, -6.640341182572175, -6.254549061897255, -5.900096964761271, -5.574840629501794, -5.277317731757526, -5.006740709027124, -4.7630309846572505, -4.546894591259932, -4.359939193559148, -4.2048325106667095, -4.085502137787393, -4.007376767353338, -3.977668809587729, -4.005698412497724, -4.103258881296648, -4.285023497255479, -4.56899373598357, -4.976988885138654, -5.535177061566111, -6.274647627867507, -7.2320250083983755, -8.45012390469531, -9.978645910332293, -11.874917525206254, -14.204669569251996, -17.042857995586292, -20.474526103081278, -24.595708148367144, -29.51437435726409, -35.35141733564334, -42.24167987971791, -50.33502418576208, -59.79744245926055, -70.81220892348657], [-22.32203598709031, -19.944841383282693, -17.89144214256383, -16.114021358465017, -14.571195738932794, -13.227345250209176, -12.05198416014121, -11.019173480919772, -10.1069748112476, -9.296945577936652, -8.573675676934679, -7.924365513781094, -7.3384454434921, -6.807236609875082, -6.323653184272258, -5.881946003733612, -5.477487608619093, -5.106598679630055, -4.766415874269999, -4.454801062734548, -4.1702919632307225, -3.912094176725445, -3.6801146211233484, -3.4750363648738114, -3.2984348600073043, -3.15293557460096, -3.042413024673433, -2.972231205509027, -2.949525422411079, -2.983525520884611, -3.085920516248261, -3.2712646226754485, -3.5574246816648536, -3.9660689899401174, -4.523197526778839, -5.259713580770826, -6.212036776005597, -7.4227574976891955, -8.941332717190226, -10.824823216515153, -13.13867221221292, -15.957525378708786, -19.366092271067423, -23.46004914718533, -28.34698318941252, -34.14737812560322, -40.99564124959637, -49.04117184112489, -58.44947098515438, -69.40329279065115], [-20.992852309463423, -18.639834997279227, -16.609928778830508, -14.855299166607754, -13.334552657087722, -12.012065584803397, -10.857354375843258, -9.84448720077979, -8.95153702702726, -8.160076070628758, -7.454711647472512, -6.822663423937478, -6.2533820669681734, -5.738209293578784, -5.270079319786555, -4.843261708974429, -4.453145619682955, -4.096065452831462, -3.7691678983685124, -3.4703203813516037, -3.1980609074561417, -2.9515893079136926, -2.730799883879483, -2.5363554502291743, -2.36980277878491, -2.233729440970621, -2.131962049896593, -2.0698059018733144, -2.0543260173545828, -2.0946695813098715, -2.202429783025971, -2.3920510553378977, -2.6812757132890592, -3.091631992220707, -3.648963485290622, -4.383999980421096, -5.332969696676159, -6.538252920068109, -8.049077038793254, -9.922252977896939, -12.222953033367887, -15.025530105661757, -18.41437833265394, -22.484835122021714, -27.344124583055628, -33.11234235789996, -39.92348185222288, -47.926501865315466, -57.28643561962012, -68.18554118968838], [-19.81428454219354, -17.482169409465428, -15.472704619609576, -13.738024189779168, -12.236711312580958, -10.933126420334958, -9.79677664876342, -8.80172670010905, -7.92605110568253, -7.151327887839258, -6.462173621385392, -5.845819894413143, -5.291731168565343, -4.791264038729271, -4.337367892159748, -3.924326967031504, -3.5475438104208044, -3.2033641357163445, -2.8889430794594126, -2.6021528576133175, -2.3415318212620835, -2.106274911738409, -1.896265515180894, -1.7121487165205345, -1.5554459528964828, -1.4287110665010707, -1.3357277568541033, -1.281748432506419, -1.273774462172709, -1.3208778252936173, -1.4345641620270935, -1.6291772226690124, -1.9223447165030718, -2.3354655600799457, -2.894238524925707, -3.629232284679524, -4.576496861660596, -5.7782164728644, -7.283403775388167, -9.14863551128563, -11.43882955185105, -14.228063341332529, -17.600433740074514, -21.65095826708965, -26.48651774205992, -32.22684032676679, -39.00552696595111, -46.97111822760183, -56.288202542674156, -67.13856584423702], [-18.76559867796667, -16.451401198834787, -14.459610057193649, -12.742313673602762, -11.258058657438816, -9.971177081345036, -8.851155155109915, -7.8720432989751465, -7.011907616372849, -6.252322766092029, -5.577906233874358, -4.975894003439167, -4.435757626937744, -3.9488626948368712, -3.508168705231638, -3.1079703325875356, -2.7436800959117944, -2.411652426353998, -2.1090491342359656, -1.8337462755109, -1.584282417651795, -1.359848304969121, -1.1603179233577654, -0.9863209644732469, -0.8393566893371922, -0.7219491913720839, -0.6378440588652656, -0.5922464368622231, -0.5921004884891254, -0.6464102557046423, -0.7666019194810074, -0.9669274594143662, -1.2649097127643922, -1.681828832923153, -2.2432501473132573, -2.9795934147152576, -3.9267434820243237, -5.126702340436192, -6.628282581062369, -8.487842249974591, -10.770061102678582, -13.54875825801706, -16.907751251501985, -20.94175648807613, -25.757331094303904, -31.473856169991272, -38.224561439235316, -46.15759130090272, -55.437112278537626, -66.24446186969878], [-17.829064217568384, -15.530048785696309, -13.553406765410717, -11.851166692461248, -10.381825126674546, -9.109673136593411, -8.004164183545175, -7.039323405139406, -6.193198298194822, -5.447350801095492, -4.7863907755763115, -4.1975508879377355, -3.6703028896897743, -3.1960152976252685, -2.76765247332241, -2.3795151020765575, -2.0270220712612894, -1.7065337481187393, -1.4152166569791964, -1.1509495559099752, -0.9122709127935371, -0.6983677808348929, -0.5091060734982678, -0.3451022388730285, -0.20783633346888442, -0.09980649544034614, -0.02472481724045794, 0.012245382296211194, 0.0042108864412986335, -0.0577714903688753, -0.1850563729041046, -0.39181269494035487, -0.6954679684890936, -1.1171939524558838, -1.6824337207282465, -2.4214701296927807, -3.3700356851815547, -4.56996380884778, -6.069881503970727, -7.925943420689898, -10.202607320668525, -12.973450941186265, -16.32203025866119, -20.342779151601068, -25.141950462983903, -30.83859846206757, -37.56560270562911, -45.47073329863292, -54.717757554328315, -65.48758805377646], [-16.989637136290586, -14.703277819927758, -12.739465509723924, -11.050154381442757, -9.593777292081068, -8.334571474697679, -7.241945632671525, -6.289888433389065, -5.456418401360919, -4.723075210767799, -4.07445237743568, -3.4977713502402743, -2.9824970019407337, -2.5199945194426405, -2.103227693490255, -1.7264986077880464, -1.3852287275514636, -1.075781387486991, -0.7953256792014674, -0.5417417380406655, -0.3135674293571489, -0.10998643420737797, 0.06914226552189962, 0.22321350255800199, 0.35076364025740103, 0.4493168891915369, 0.5151902243033692, 0.5432569026346699, 0.5266685816240355, 0.45653603797564424, 0.32156848709873764, 0.10767150311785145, -0.2024964605462416, -0.6300089500248385, -1.2001977892788838, -1.9432207578058214, -2.894670667775689, -4.0962258405965155, -5.596341982908962, -7.450985462010208, -9.724407980707154, -12.489962651598875, -15.830961470788282, -19.841574191023142, -24.627768594266357, -30.308292163695278, -37.01569515513074, -44.89739506789499, -54.11678251509892, -64.85436849335875], [-16.234664206684762, -13.958607925575421, -12.005475313677783, -10.327131524633597, -8.881931872370178, -7.634046736118969, -6.552827864863392, -5.61221608121596, -4.7901903847246405, -4.0682584546084914, -3.4309885519225736, -2.865582821152119, -2.3614919912359693, -1.9100714760192763, -1.5042788741354738, -1.1384128683175223, -0.8078935241383987, -0.5090839881808742, -0.2391535856365461, 0.00401768266585667, 0.22189324380290665, 0.41529265686964534, 0.5843629176634807, 0.7285083639388157, 0.8462791812324244, 0.9352185092595403, 0.9916681488807003, 1.0105328696393032, 0.9850033178699177, 0.906237525377313, 0.7630010186862275, 0.5412655288618737, 0.22376630190116975, -0.21048199030528814, -0.7867107384405254, -1.534964283657756, -2.4907082049061957, -3.695479005686177, -5.19757520023351, -7.052789799133091, -9.325184194361821, -12.087903443760762, -15.424032954936552, -19.427496568592108, -24.203996041286647, -29.871991927624713, -36.56372586187492, -44.42628423901758, -53.622703295221754, -64.33311558775151], [-15.553608677661718, -13.28564080180033, -11.341173981690904, -9.671969499757456, -8.236291099658255, -6.998229101494124, -5.9270659164459865, -4.99668296084171, -4.185008969652181, -3.4735097094166596, -2.8467190905974182, -2.2918116793636214, -1.7982166088044829, -1.3572728895716917, -0.9619261199510896, -0.6064665953636463, -0.2863088172956627, 0.002187598341731878, 0.2618556134238281, 0.49481706039431805, 0.702537535618002, 0.8858398933042427, 1.0448763400011445, 1.1790591296604582, 1.286949859273243, 1.3661073650762379, 1.412894219328982, 1.4222418276616597, 1.3873741269936848, 1.2994898840230156, 1.14740359428621, 0.9171449817891983, 0.5915170992088126, 0.14961302866502502, -0.43370881693605634, -1.1883907919884802, -2.149783515701984, -3.3592947690468278, -4.865079791127874, -6.722772974987904, -8.996260962840267, -11.758497140730764, -15.092357532628753, -19.091538093947598, -23.86149340449438, -29.52041676084868, -36.20026166817101, -44.04780473144018, -53.22574994612002, -63.91387438825544], [-14.937797309937825, -12.675809680170993, -10.738099978195208, -9.076310579161081, -7.6485994422984485, -6.418963436314381, -5.356603064220466, -4.435328587589356, -3.6330075502405696, -2.931053701355565, -2.313957318022087, -1.768856927207778, -1.2851524271630481, -0.8541596082532175, -0.46880607321991863, -0.12336855687178194, 0.18674835479563368, 0.46519210605063366, 0.714800653446912, 0.9376995484158125, 1.1353576204293274, 1.3086012607338184, 1.457587306654487, 1.5817345264705633, 1.6796137048612398, 1.748796328922329, 1.7856618747536697, 1.7851636946172436, 1.7405535046660516, 1.643064473243705, 1.4815529097547573, 1.2420985541057723, 0.9075634667171155, 0.45710951910549946, -0.134325514962772, -0.8965932677477779, -1.8649414852412631, -3.0806621343011744, -4.591780909215451, -6.453788137695085, -8.730411086296469, -11.49442766527299, -14.828521532855888, -18.826178598964383, -23.59262492834514, -29.24580604314074, -35.91740762488785, -43.7539176159443, -52.917729720345534, -63.58828830409038], [-14.380188767827725, -12.122150138302583, -10.189365663121619, -8.533343587146494, -7.1121216840593515, -5.889589791950535, -4.834853748335587, -3.921640724601513, -3.127745959882314, -2.4345208943637706, -1.826402702017508, -1.2904852227643262, -0.8161312940667891, -0.39462648195108296, -0.018874211458147272, 0.3168677034759362, 0.6172091307102843, 0.8858082911602883, 1.1255110306294238, 1.3384486922117875, 1.5260945892653788, 1.6892790789561092, 1.8281632363725444, 1.942171129211378, 2.0298806930336504, 2.0888732070916847, 2.1155413707267714, 2.104855980337573, 2.05009120691928, 1.942508474173478, 1.7709989371887653, 1.521684561692107, 1.177477803870902, 0.7175998907658032, 0.11705770123426684, -0.6539207525151745, -1.6304922428178803, -2.8538456438773774, -4.371890648518867, -6.2399878843719865, -8.521720429482901, -11.2897067273556, -14.626454901422473, -18.625258468944175, -23.391133454338767, -29.041796901939964, -35.70868678818497, -43.53802333323132, -52.691911712003005, -63.349486164665976], [-13.875163367383541, -11.61909226984264, -9.689451883732232, -8.037600913649635, -6.621442359650169, -5.404745263024598, -4.35650785150585, -3.4503620839049987, -2.6640195941765135, -1.9787590349127553, -1.3789548202677704, -0.8516472683103369, -0.3861541428062658, 0.026276405570011763, 0.3927714985946069, 0.7190977904240548, 1.0098843280959433, 1.2688040126002686, 1.4987136605215237, 1.7017526662515237, 1.8794002647729617, 2.032491395013703, 2.161191163771809, 2.264927910211291, 2.3422848709286095, 2.3908504455898973, 2.407027063138918, 2.385798648575757, 2.320456690306257, 2.202284908062169, 2.02020252139205, 1.760366118722894, 1.405730126992487, 0.9355658818525099, 0.32493929844235936, -0.45585285726628433, -1.4418880965541612, -2.6742647354684026, -4.200789821765776, -6.076708461285163, -8.365474543749361, -11.139562867996101, -14.481322666638341, -18.48387253015386, -23.252036730404107, -28.903322943582165, -35.568941372590324, -43.39486526884661, -52.54293285352064, -63.19199063819886], [-13.41833418088056, -11.162274210803263, -9.234023922799025, -7.584776884265555, -6.172286546592364, -4.9601872011279315, -3.917356334576137, -3.0173183838219657, -2.2376898901864744, -1.5596660531110094, -0.967548683270715, -0.4483155551172979, 0.00876884114894727, 0.4125011481778387, 0.7700455906387467, 1.0871990249607622, 1.3686145896436015, 1.6179839561392446, 1.8381781803043087, 2.0313471544231483, 2.198977659801703, 2.3419100199320595, 2.4603133542277678, 2.5536194323298758, 2.620415128983702, 2.6582934794863475, 2.6636633357049333, 2.631517622665577, 2.5551601957131003, 2.425891298241469, 2.232651619994971, 1.9616249559401298, 1.595799465708339, 1.1144875336092432, 0.4928042292148478, -0.29889563148564013, -1.2956218243602193, -2.5383944548378032, -4.074931095041173, -5.96037532034917, -8.25806664538823, -11.040351859453096, -14.389437761356868, -18.398285293710263, -23.171545076630245, -28.826534340877643, -35.49425526042449, -43.32045468445023, -52.46672526876739, -63.111648006676376], [-13.006379497649434, -10.748377022239767, -8.819768803128978, -7.171567486620038, -5.7613620134378, -4.552637784885884, -3.51413822843282, -2.6192677627274943, -1.8455361620438062, -1.1740443201546233, -0.5890114136350038, -0.07734346459467467, 0.37175669716021753, 0.7671380725360946, 1.1160087321316638, 1.4242016557883677, 1.6963991727115717, 1.936316002162486, 2.1468408947208166, 2.3301368741181494, 2.4877000796420776, 2.6203772091110475, 2.7283415624199536, 2.8110276856564553, 2.867024615788034, 2.8939277259197853, 2.888149171122933, 2.8446869348340926, 2.756852475825259, 2.6159569757445307, 2.410956187227563, 2.1280538825797644, 1.750263903029218, 1.2569308085503397, 0.6232091282582701, -0.18049878862600366, -1.1891463212397722, -2.443687524972036, -3.9917634787861696, -5.888430031971837, -8.19692695032624, -10.989488461764573, -14.348195201359738, -18.365867555811388, -23.14700040734422, -28.808739277035357, -35.48189786757137, -43.31201700543424, -52.46046498251667, -63.105579297166734], [-12.636896641254815, -10.37498092927584, -8.444253948435737, -6.795531453087753, -5.386222724333363, -4.179649946368891, -3.14440898226137, -2.253771549153691, -1.4851287928990005, -0.819476262124359, -0.2409402817236872, 0.2636542742200363, 0.7051748100833097, 1.0925304369213755, 1.432980001258215, 1.7323987144472852, 1.9955033826029882, 2.2260362371028686, 2.426907365660552, 2.600295743969408, 2.7477088679169546, 2.870000986369999, 2.9673499345304983, 3.0391925678621687, 3.084118796587818, 3.09972422075742, 3.082421365886917, 3.027209519167752, 2.927403166247151, 2.774319028579118, 2.556921701346177, 2.2614278919518482, 1.8708692590838476, 1.3646138523480302, 0.7178461524730619, -0.09899428791417586, -1.1208156029424328, -2.3885177715792345, -3.9496781751432697, -5.859278554246023, -8.180473365162744, -10.985399535632606, -14.356027620088167, -18.385054354314107, -23.176836609535258, -28.84836674593368, -35.530289365595436, -43.367959464886226, -52.52254198625648, -63.172152769475666], [-12.308277143020545, -10.040442916475193, -8.10580720055775, -6.454972699856867, -5.045153699932076, -3.839494653850097, -2.8064301681504444, -1.9190863882402736, -1.1547237832185084, -0.4942213301292129, 0.07839790235574284, 0.5763997708247652, 1.010730674585354, 1.390367773693649, 1.7226278075547126, 2.0134345140935417, 2.2675446494968194, 2.4887326085253973, 2.6799336453975124, 2.843345695242733, 2.980489796126645, 3.09222911164627, 3.178746554096217, 3.2394810082055585, 3.2730221554454615, 3.27696389890753, 3.24771638875289, 3.1802766482320166, 3.0679578002752814, 2.902076894654237, 2.671601335713638, 2.3627539106742033, 1.9585764185060894, 1.4384518993731206, 0.7775854646477445, -0.053556272503290536, -1.08984716596249, -2.3721449049344843, -3.9479757816481347, -5.872260858487881, -8.20808353455442, -11.02749851165461, -14.41238215972062, -18.45532428165841, -23.260561277625452, -28.94495070873755, -35.63898726020533, -43.48786010389959, -52.65255166034608, -63.310977760149584], [-12.019603271901271, -9.7437956795597, -7.803418193022884, -6.148844122340171, -4.7370772346507, -3.531069550909436, -2.499080542042477, -1.6140777245316453, -0.8531786554283038, -0.19713432679646825, 0.37014604041481647, 0.8620288030698404, 1.2895483031153225, 1.6617578754202502, 1.986039456186426, 2.2683717919297797, 2.5135572490323836, 2.7254072238652336, 2.9068861534817314, 3.0602141268819234, 3.186928096847464, 3.2879016923473157, 3.3633236315141803, 3.4126347351916637, 3.434423541052175, 3.426280518285565, 3.3846108828584875, 3.3044060133445, 3.1789734673249033, 2.9996255983603026, 2.7553267735329126, 2.432299191559596, 2.013587301475626, 1.4785808218891907, 0.8024963608066331, -0.044182363971589034, -1.096305703884179, -2.394700658071586, -3.986854851267833, -5.927641911121581, -8.280088244946539, -11.116181215901062, -14.517718718597038, -18.57720015413807, -23.398758804586954, -29.099135606862166, -35.8086943260641, -43.672478128230125, -52.8513075525191, -63.522919882825185], [-11.770565920700587, -9.484667933473993, -7.536661080959531, -5.876672746932659, -4.461480470273823, -3.253828951884204, -2.221788461030741, -1.3381546411204388, -0.5798897149039166, 0.07239491089177585, 0.6349146415010605, 1.1211462906284702, 1.542221277528033, 1.9072774246533826, 2.223769355878599, 2.4977374952897895, 2.734035666547396, 2.9365172928192487, 3.108180197284338, 3.2512700042073304, 3.367342140583813, 3.4572824383562755, 3.521286337200823, 3.558796687884624, 3.56840015619409, 3.5476822274337936, 3.4930408114961127, 3.399458448501612, 3.260233115010168, 3.0666676308028062, 2.8077176662342884, 2.4695983501564376, 2.0353494784121744, 1.4843593229003111, 0.7918470412110641, -0.0716963131676942, -1.141108180073437, -2.4571962813212895, -4.067421808785564, -6.026624011910557, -8.397786184650657, -11.25284305183969, -14.673529554989496, -18.752271037517854, -23.593114829405657, -29.31270323128313, -36.04128789794579, -43.9237856212992, -53.120875512733264, -63.810137584925634], [-11.56140384863565, -9.263226076796593, -7.305638627354211, -5.638506239115632, -4.21836432590444, -3.007735193666137, -1.9744856570028966, -1.0912260551375743, -0.3347506673069831, 0.31448047241557386, 0.8728183608684823, 1.3538604121207474, 1.7688444443616507, 2.1270012673611447, 2.435865870500976, 2.7015472113765466, 2.928956604969506, 3.121994713391079, 3.283697136196128, 3.4163386012679413, 3.5214957562737688, 3.600068560691078, 3.6522602784045506, 3.6775160708738124, 3.674420190871895, 3.640551776794432, 3.5722992475395907, 3.4646332979587307, 3.310838494877808, 3.1022034736894994, 2.8276697355160714, 2.473439044942978, 2.0225394283231903, 1.4543497726522605, 0.7440830250141284, -0.13777200740235607, -1.2260502567161518, -2.5615513931960416, -4.191722223531899, -6.171380488535194, -8.563480060268823, -11.439917538606174, -14.882380247219423, -18.98323562899717, -23.846462040891343, -29.588620948193125, -36.33987051823863, -44.24502061354341, -53.46462918436639, -64.17614006070309], [-11.392864280248281, -9.080137212497494, -7.110947645655651, -5.434880767907257, -4.008213784260999, -2.793231343844952, -1.7575823666310417, -0.8736782695887815, -0.11813259226825368, 0.5287579781876248, 1.0834911826015734, 1.559795365891154, 1.9690242537687115, 2.320510330012052, 2.6218768143058444, 2.879308240653765, 3.0977796363613694, 3.281244301589702, 3.4327801894796415, 3.5546948868469697, 3.648589195448187, 3.715379313817053, 3.755277619671863, 3.767732052893459, 3.7513240990739725, 3.7036253736363056, 3.6210128065243365, 3.49844242746387, 3.329181751794315, 3.104500766871094, 2.81332151903879, 2.4418263011750314, 1.9730244408050999, 1.3862776887872734, 0.6567842085689206, -0.24497883398670517, -1.353854080202888, -2.7106441876212024, -4.362793438462482, -6.365110747517049, -8.780534069464272, -11.68093620562133, -15.14797201012125, -19.273966995520247, -24.162847337834343, -29.93111128100503, -36.708841940794656, -44.640761508110614, -53.8873268517591, -64.62586652062791], [-11.26618486066256, -8.93655352504223, -6.953665798725363, -5.2668102266596435, -3.8319895343209778, -2.611235265198399, -1.5719638177082471, -0.6863738815376257, 0.06911472658288798, 0.7143808276772736, 1.2660802458928124, 1.738082774439575, 2.141867742100646, 2.486878180313078, 2.7808335908195843, 3.0300013138909536, 3.239426497119213, 3.413120664781513, 3.554208887774758, 3.6650355541209554, 3.7472287400433104, 3.8017231816130526, 3.828741846966989, 3.8277361090957984, 3.79728451920306, 3.734950180635007, 3.6370967233810236, 3.4986628791448684, 3.3128956569866386, 3.0710421195354587, 2.761999759772909, 2.3719254783871966, 1.8838031616980346, 1.2769698601522794, 0.526600567390292, -0.39684840011697053, -1.5282374228601112, -2.908382997512751, -4.584738555582224, -6.61211668148953, -9.053452730078593, -11.980609843554769, -15.475225367852573, -19.629598668432767, -24.54762034550867, -30.345742848701565, -37.15399249112578, -45.11702286290264, -54.39520964410384, -65.16578681712413], [-11.183096967188913, -8.834118013842486, -6.835359754134691, -5.1357968102023746, -3.6911409703109017, -2.463155036528777, -1.419008071831556, -0.5306720466350132, 0.225640115242431, 0.8699950911880241, 1.419218314973699, 1.887331732505849, 2.2859501581458352, 2.6246362316012184, 2.911213975387735, 3.152040952861995, 3.3522390268249227, 3.5158837186959255, 3.6461521682578053, 3.74542969397239, 3.815374953866907, 3.856943706991095, 3.8703711754450354, 3.8551130069777324, 3.8097448381564174, 3.731820458106587, 3.617688572822782, 3.462268170050091, 3.2587824847363978, 2.9984515650553503, 2.6701434390000705, 2.2599838815476057, 1.750924782394092, 1.1222711142606703, 0.3491665017701342, -0.5979626091057062, -1.7540041810278895, -3.159799214701485, -4.862821777716007, -6.9179004328150775, -9.387981065595419, -12.344931111635056, -15.870385183050795, -20.056632094485, -25.007543288521635, -30.83954266053139, -37.68261778294647, -45.68137252896429, -54.99612109568053, -65.80402342665155], [-11.145850377274655, -8.774991583053108, -6.758114695808368, -5.043862948332558, -3.5876405470428745, -2.3509257298459563, -1.3006252234315085, -0.4084700999951867, 0.349546966609259, 0.9936930452885679, 1.5409748926992846, 2.0055774988078046, 2.3992612330211602, 2.73171759088855, 3.0108835413735777, 3.24321447469724, 3.4339157507516487, 3.587132848084484, 3.7061001134541804, 3.7932481119558408, 3.850269577717901, 3.8781439651695093, 3.8771206008786514, 3.8466604359609984, 3.78533639905951, 3.6906923498947375, 3.559060633385895, 3.385338234342641, 3.1627215327276077, 2.882399659489646, 2.5332064529678298, 2.1012310158661736, 1.5693868727990892, 0.9169397284075758, 0.11899382604615427, -0.8540630929594917, -2.0371562294840935, -3.471161566203707, -5.203585106625837, -7.2892835135488205, -9.79122614695054, -12.781298501306352, -16.341147042336267, -20.563065443181443, -25.55092222000998, -31.42112976705172, -38.30365479106279, -46.34307014521899, -55.69964806243857, -66.55049478813443], [-11.157259292801083, -8.761901487715665, -6.724585192014549, -4.993604595651341, -3.524039491597592, -2.2770675438968797, -1.21931795514812, -0.3222665334182002, 0.4383278414161671, 1.0829453518973189, 1.6287859777862237, 2.0902088314328178, 2.4791300937170795, 2.805379550560819, 3.0770157300102197, 3.3005996398890978, 3.4814271060229096, 3.623719711033479, 3.730774333704473, 3.8050712889175964, 3.8483410681595323, 3.8615896805996064, 3.845082594738194, 3.7982872806258534, 3.719774352653199, 3.6070773129114984, 3.456510895124018, 3.2629480091480865, 3.0195552860479076, 2.7174872237380865, 2.3455389331979135, 1.8897574852563663, 1.333011857947845, 0.6545214844386473, -0.17065659847582282, -1.1721820013031214, -2.3850266322150735, -3.8501117468383876, -5.614986397474514, -7.734547281748733, -10.271799990688594, -13.298661656231554, -16.89680499816189, -21.15854377047691, -26.187759607182446, -32.100870267517394, -39.027839280607964, -47.113226989550796, -56.51728299492546, -67.4170799977363], [-11.220769720726967, -8.798211136248502, -6.738067419701326, -4.988265877746921, -3.5035448713538537, -2.2447652940415512, -1.1782634495533681, -0.2752453289588992, 0.4887777128144153, 1.1345118810204666, 1.6793624657043313, 2.1378739668828937, 2.5221288202961962, 2.8421047237295207, 3.105990563906197, 3.320460943951158, 3.490909311425216, 3.6216396869300844, 3.7160169932841214, 3.776575985268819, 3.8050887799460145, 3.8025909875458432, 3.7693664429254228, 3.70489053759827, 3.6077321523344534, 3.4754141903314775, 3.304232710955903, 3.089034664055693, 2.8229542248433126, 2.497107729349532, 2.100247210447987, 1.618372534450479, 1.0343021382729696, 0.3272023671723563, -0.5279245869460465, -1.5607941466502944, -2.8064342095328336, -4.305821408190839, -6.106558769635789, -8.263594774132272, -10.839983813466143, -13.90768804864189, -17.548420667009246, -21.85453053881914, -26.929928273208894, -32.891053673616476, -39.867884592624506, -48.004987186233016, -57.462607567561776, -68.41780485998174], [-11.340548210078634, -8.888011249283222, -6.8025927451797354, -5.031835093724049, -3.530118018364525, -2.2579692584755193, -1.181416657220156, -0.2713816488423699, 0.49688585461177226, 1.14433117714354, 1.6885771932216627, 2.1443652427732394, 2.5239546467453726, 2.837480823237519, 3.093272004204598, 3.298124552730811, 3.45753688087421, 3.575901968082003, 3.656658480176562, 3.7024004889122133, 3.7149457921027205, 3.6953628343195213, 3.6439562281606905, 3.560210876090644, 3.4426946928505653, 3.2889199284395776, 3.09516309166664, 2.856243474273182, 2.5652602756264784, 2.213288327983738, 1.7890324223269427, 1.2784402347684296, 0.6642738535271691, -0.07436009352418038, -0.9625217107415103, -2.0299905060207637, -3.3118594615386785, -4.84917050392284, -6.689591373850979, -8.888133895079491, -11.507913642901325, -14.620951012033043, -18.309013683931173, -22.664500493537876, -27.79136669545584, -33.8060906295523, -40.83868178599269, -49.0337302697032, -58.55149766426274, -69.56904929522422], [-11.521591945286442, -9.036232374847716, -6.923042661153268, -5.129162075080015, -3.608594310079038, -2.32151738079883, -1.2336349211377682, -0.31556888172589304, 0.45770637316408624, 1.107388569276483, 1.651330626603099, 2.104482364184374, 2.4792908054813223, 2.786059084318158, 3.0332639513956816, 3.2278318813753897, 3.3753737805343187, 3.4803782949906257, 3.5463637194998983, 3.5759885068222044, 3.5711203776598666, 3.532864031165981, 3.461547456023662, 3.3566668420960193, 3.2167900926468818, 3.0394189371322335, 2.8208096445624067, 2.555752337434985, 2.237308906238466, 1.8565095245266365, 1.4020077645636841, 0.8596943135400612, 0.2122692903590524, -0.5612268370058957, -1.4859237335831308, -2.5916730789040106, -3.9136418479333708, -5.4929469914292905, -7.377331515732111, -9.621881961982679, -12.28978728476994, -15.453139130207731, -19.193773513440853, -23.604153895580428, -28.788295660068556, -34.862731988472014, -41.95752113570566, -50.21729510468468, -59.802349720406276, -70.88977610346069], [-11.769860195867814, -9.248778759895652, -7.105285080093838, -5.286096900927109, -3.744824306412342, -2.4412788289314964, -1.3408239574738214, -0.4137670453073552, 0.3652073829203566, 1.0175629246522444, 1.56139519346244, 2.0118743136677257, 2.381646015509737, 2.6811913309078896, 2.919144889783026, 3.10257181695182, 3.2372032295919, 3.327630335277706, 3.3774571305870893, 3.3894117002786324, 3.365416117039717, 3.306614941805318, 3.213362324647527, 3.085167706235819, 2.920600119868049, 2.717151094072177, 2.4710561557787347, 2.17707493406402, 1.8282298644640331, 1.4155034938591324, 0.927494385929434, 0.35003162718095604, -0.3342520664575379, -1.1463886424669236, -2.11158440399939, -3.2597711015693767, -4.6261984241737535, -6.252067889841322, -8.185208135611527, -10.480791606942434, -13.20209264654805, -16.421286982664807, -20.220292616747383, -24.69165211059375, -29.93945627289959, -36.08030924524166, -43.24433498749093, -51.57622516265461, -61.23632842114746, -72.40178108449258], [-12.092427122456703, -9.532683578182452, -7.356331983964261, -5.509649969561604, -3.945836243160355, -2.624318910375419, -1.510105192682679, -0.5731725452801939, 0.2120988256213412, 0.8674520460788839, 1.41123825826803, 1.8588599049047603, 2.2231726142379213, 2.514845685612421, 2.742681175603177, 2.913891584719784, 3.0343361446819332, 3.108715706265543, 3.1407262277196373, 3.1331708637539566, 3.0880306550973033, 3.006493818626608, 2.888943638066748, 2.7349049552610927, 2.5429492620127725, 2.310558392496697, 2.0339468162422936, 1.7078425316869903, 1.3252265603004312, 0.8770310412794124, 0.35179592681356464, -0.2647157220782246, -0.9899438391406776, -1.8449988559042425, -2.855170604136468, -4.050478617722684, -5.466263833975872, -7.143821694375903, -9.131076644737966, -11.483298034810264, -14.263857417301036, -17.545027246334794, -21.408820975337825, -25.947874554352985, -31.26636932678381, -37.480996325567624, -44.721961968778395, -53.134035154658434, -62.877635756079506, -74.12996451443324], [-12.497655939179591, -9.896285514487772, -7.6845184302872065, -5.808173426379186, -4.2200198817619015, -2.8790853438228297, -1.750004456960374, -0.8024092906347882, -0.010361066848358469, 0.6481767129451717, 1.1918237415018638, 1.636226980019618, 1.9944633329409287, 2.2774009233263692, 2.4940189687988124, 2.6516862580583953, 2.7563982279681976, 2.8129726412106733, 2.8252038645148, 2.7959757474539755, 2.7273331018146427, 2.620511781535641, 2.475927363218302, 2.2931224272072734, 2.0706724392420828, 1.8060502326794188, 1.495449091286169, 1.1335644326031713, 0.7133340918797169, 0.22563720657876507, -0.3410482985470886, -1.001029625808913, -1.7718244183640266, -2.674627473427827, -3.7348188549148933, -4.982513405509369, -6.4531516581645745, -8.188132147031943, -10.235485117819179, -12.65058763757766, -15.496920103919196, -18.84686415366197, -22.78254197090576, -27.396696994536473, -32.793616025159935, -39.090092731464736, -46.41643255601484, -54.917499020470935, -64.75380143024131, -76.10262397856198], [-12.995394432377955, -10.349426705184444, -8.099702914560659, -6.191563948136893, -4.577331715407147, -3.2156158871112037, -2.07066203404602, -1.1117411653063565, -0.3125806659546697, 0.3491633658797326, 0.892392382472238, 1.3330102505452555, 1.6843267158812276, 1.9574194685064232, 2.161454808445428, 2.3039669120463873, 2.3910956988769714, 2.427783299191086, 2.4179291219663046, 2.3645035235120506, 2.2696200766484904, 2.1345664404561813, 1.9597938305964395, 1.7448650902024525, 1.4883613613411137, 1.1877473570455992, 0.8391952339186712, 0.43736706530672675, -0.024844084955430557, -0.5566144882290862, -1.1695314761853703, -1.8779765653482734, -2.6995499810669497, -3.6555365809172677, -4.771413177532633, -6.077397260864084, -7.609037119869625, -9.407843363632882, -11.521961841910981, -14.006887965111662, -16.92622242369977, -20.352468307032893, -24.367869621626333, -29.065291208847306, -34.54914006203853, -40.93632804307073, -48.35727599832494, -56.95695927410365, -66.89599463147138, -78.35176856052445], [-13.597191835677211, -10.903672035153926, -8.61348908901983, -6.671486883561547, -5.02952153149249, -3.6457673215246507, -2.4840640673697, -1.5133058561693433, -0.7068711963549292, -0.04209456493633024, 0.5002206457798959, 0.9362477820431021, 1.2795411830818635, 1.5413990360980332, 1.7311848318315217, 1.8566074206958172, 1.923959669484244, 1.9383157186469417, 1.9036868401385902, 1.8231358958368533, 1.698850396531581, 1.5321741614847206, 1.3235975785609644, 1.072706464929161, 0.7780895283344087, 0.4372044289409307, 0.046202441745653466, -0.40028828043746056, -0.9094208434223647, -1.4904291475251377, -2.154968822867456, -2.917499564109334, -3.795708864611144, -4.810977150024882, -5.9888843113147106, -7.359757637206776, -8.959261146068258, -10.82902631721574, -13.017324221652814, -15.579779052236905, -18.580123053275486, -22.09099284955144, -26.19476717477772, -30.984445999481327, -36.564571058316545, -43.052187776807195, -50.57784859751871, -59.28665770565889, -69.33935715410828, -80.91345438787967], [-14.316537061402169, -11.572549791048242, -9.239468837745592, -7.261621750304654, -5.590380330421989, -4.183465792441823, -3.0042953225468407, -2.0213700373782766, -1.207704342085231, -0.5402966878032744, 0.0003582714376806351, 0.43071612237624635, 0.7645877367531533, 1.0135029161155957, 1.1870326371922895, 1.2930698978392714, 1.3380691635564368, 1.3272444145748081, 1.2647257935145308, 1.153674853613615, 0.9963584075274001, 0.7941809766987538, 0.5476758412990144, 0.2564546907396603, -0.08088412524529254, -0.4668887449461514, -0.9054283424536731, -1.4019090748644643, -1.9635314289156365, -2.599588967048745, -3.321808472902981, -4.1447314962376165, -5.086137297283756, -6.167507190525317, -7.414530287909294, -8.857650641485288, -10.532655785474272, -12.481306677766705, -14.75200904084981, -17.40052610216417, -20.490732733889615, -24.095410992160325, -28.29708705570922, -33.18890956394162, -38.87556935443824, -45.474260599887145, -53.11568334444551, -61.94508743953017, -72.12335787903766, -83.82814153399337], [-15.169118288338927, -12.371813670898385, -9.993486708119393, -7.977929088243803, -6.276009600755224, -4.844978506330268, -3.6478133062190796, -2.6526059110551357, -1.83199120909428, -1.162617033883052, -0.6246555313562707, -0.20135592636389088, 0.12136131137287176, 0.3552689018761708, 0.5101557900968663, 0.5941087816706103, 0.6137527792446527, 0.5744496193754101, 0.48045550999672937, 0.33503706845891124, 0.14054596013846776, -0.10154786238141433, -0.39066431955963177, -0.7271627645752261, -1.1124329424347055, -1.5490273485086075, -2.040834986497372, -2.593296525826434, -3.2136608584706075, -3.9112830552077456, -4.697963721301646, -5.588329751614218, -6.600256485146953, -7.755331259011621, -9.079358361830248, -10.602905386564384, -12.361890982773563, -14.398214008303132, -16.760424080401297, -19.504433526265373, -22.69427073301742, -26.402874897109076, -30.71293217315564, -35.71775322219948, -41.52219215940269, -48.24360690116886, -56.01286091169445, -64.97536634894914, -75.2921686100855, -87.14107227627801], [-16.17310390584335, -13.319726150069235, -10.893925698624635, -8.838938669130565, -7.105111950701692, -5.6492067840873235, -4.433743741241634, -3.4263891043231913, -2.5993826441237244, -1.9290067979261396, -1.395097246791856, -0.9805948922773586, -0.6711392325800452, -0.4547031381133184, -0.3212690265109739, -0.2625464370608199, -0.2717310045675916, -0.34330483264511713, -0.47287826643775066, -0.6570730647710796, -0.893446971731886, -1.1804596876773914, -1.517480239673752, -1.9048357513638225, -2.343901612264193, -2.837233046491497, -3.3887380809179652, -4.003891912756269, -4.689992676573608, -5.456458610735087, -6.315166623276346, -7.280832257205446, -8.371431055234051, -9.608661323937847, -11.01844829734625, -12.631489699961364, -14.483842709206181, -16.61755231730214, -19.081321092575863, -21.931220340195118, -25.23144266233423, -29.055095917768565, -33.485038580898376, -38.614756500201906, -44.54928105611777, -51.40614871835645, -59.31640200264138, -68.42563182687904, -78.89506126675826, -90.90267071077912], [-17.34944481429592, -14.437363203560949, -11.962014402994575, -9.866059062584851, -8.09930309596167, -6.61800047072745, -5.384197398217124, -4.365117922687346, -3.5325909099349797, -2.8625184353448585, -2.334385571366818, -1.930811574421968, -1.6371424712382696, -1.4410850446153454, -1.3323822186185668, -1.3025298432024135, -1.3445348782631035, -1.4527149771204595, -1.6225394694290882, -1.8505117435187808, -2.134093028164211, -2.471667573783886, -2.862549233068368, -3.307029441037752, -3.8064665945284277, -4.363416831109098, -4.981806207426052, -5.667144276977735, -6.426779067318544, -7.270193456691937, -8.209342950092763, -9.259034854758882, -10.437348855092061, -11.766098987008112, -13.271337011716302, -14.983897188928061, -16.939982449494885, -19.1817919674756, -21.75819013163283, -24.7254169163587, -28.147839652029912, -32.098746194792, -36.66117949577285, -41.92881356972558, -48.00687086310059, -55.01308102154675, -63.07868105684231, -72.34945691325461, -82.98682643332918, -95.16896372310822], [-18.722198081903148, -15.748940384656837, -13.222155510706678, -11.083908558435768, -9.283445203913523, -7.776493701416065, -6.524608283375907, -5.494553959760921, -4.657732716882521, -3.9896511156331442, -3.469429289152991, -3.0793513399260473, -2.8044571363053485, -2.6321755084675207, -2.5519988437965866, -2.5551990816970447, -2.6345851078362132, -2.7843015478158195, -2.99966896027289, -3.277065429409887, -3.613849556954102, -4.008324853546343, -4.459745529558868, -4.968363685342573, -5.5355179009034945, -6.163763225008521, -6.8570425637204035, -7.620899468362035, -8.462732322909968, -9.392089930817232, -10.421008501265408, -11.564390034845932, -12.840422108670733, -14.271039060912091, -15.882424574771754, -17.705555661879366, -19.77678804512009, -22.138482940891606, -24.83967524079026, -27.93678309272653, -31.494358881469786, -35.58588160862229, -40.29459067202241, -45.71436104457723, -51.950619852524326, -59.12130435312269, -67.35786131177326, -76.80628777856849, -87.62821326427107, -100.00202331572217], [-20.318871957845445, -17.28216025991774, -14.702275663823483, -12.520667445408987, -10.686001594147614, -9.153462023849887, -7.884093182802904, -6.844184063339011, -6.0046936108337094, -5.340717532132857, -4.830996503409128, -4.457465777447745, -4.204846190361473, -4.060276567734868, -4.012987530197812, -4.054016698428305, -4.175965297584524, -4.372796161166139, -4.639673134304921, -4.97284187648458, -5.369552063689907, -5.828020989985157, -6.347438568521703, -6.9280137319749535, -7.571062232410562, -8.27913584057987, -9.056192944644623, -9.907810548330971, -10.841437668512711, -11.866690132223816, -12.995686773100235, -14.243427027250913, -15.628209928558142, -17.172094503407138, -18.901401564844885, -20.847256906168283, -23.04617589394146, -25.540689460442536, -28.380011495539463, -31.620747637995187, -35.327645466202185, -39.57438608834614, -44.444417131998875, -50.03182713314068, -56.44226132461188, -63.793878823993296, -72.21835122091676, -81.86190256380411, -92.88639074603589, -105.47043029154914], [-22.170792241771508, -19.06858120052288, -16.434196670179965, -14.208451646160572, -12.339412795346576, -10.78170087698375, -9.4958325630109, -8.447603657818242, -7.607513717435049, -6.950232068146553, -6.454105224540129, -6.100705706980757, -5.874422258515706, -5.762091461208536, -5.752670751902332, -5.836952837412206, -6.007321509147097, -6.257548857160794, -6.582633883632257, -6.978682515775185, -7.442829018176867, -7.973198804566287, -8.568912649011505, -9.230132296546277, -9.958147473225992, -10.755504295612834, -11.626175079690213, -12.575769549206491, -13.611787443447934, -14.74391252444097, -15.98434798358369, -17.348193247706604, -18.853862184562708, -20.523542707746763, -22.38369778104389, -24.465607822207396, -26.805954506165858, -29.44744596765952, -32.43948340330594, -35.838869073094855, -39.71055570131237, -44.1284372768944, -49.176181253209386, -54.94810214727021, -61.55007653837553, -69.10049946618005, -77.73128222819463, -87.58889157671508, -98.83543031518049, -111.64975929396086], [-24.313490009639153, -21.144007529957207, -18.454028072917342, -16.183707708657288, -14.280493958512128, -12.698425426103888, -11.39747282786032, -10.342921422963064, -9.504794842724968, -8.857320319396733, -8.378435314402807, -8.049335546006564, -7.854064416404718, -7.779143838251023, -7.81324646060924, -7.94690929433537, -8.17228873688913, -8.482956996574746, -8.873739916210956, -9.340596196230315, -9.880538017207755, -10.491593061818406, -11.172807936224714, -11.92429299089276, -12.747308540837926, -13.644392485299761, -14.619529326846159, -15.678360589906776, -16.828436638735703, -18.07950989480347, -19.443869453618227, -20.936717100976242, -22.57658472864169, -24.385793149455644, -26.390952311874365, -28.623502913936896, -31.1202994166618, -33.924234456873364, -37.084904659456875, -40.65931784904325, -44.712641661122916, -49.31899355258905, -54.56227221170987, -60.537030367530406, -67.34938899870352, -75.1179929417498, -83.97500789874752, -94.06715884445106, -105.55680983283901, -118.6230852030915], [-26.787110695902655, -23.548901028045226, -20.80258107636341, -18.487629153903413, -16.55085362653841, -14.945691754247745, -13.631549931825543, -12.573185329018528, -11.740128930093082, -11.106149972831602, -10.648761786958119, -10.34876903199318, -10.189856334538003, -10.158218324987878, -10.242231073674862, -10.432164926439725, -10.71993873963315, -11.098915514546235, -11.563739431270228, -12.110214281985538, -12.735223303680023, -13.436690410296523, -14.2135828243097, -15.065955107732067, -15.995034592549398, -17.003348210585276, -18.094890722795018, -19.27533434798879, -20.552279790984034, -21.935548670187124, -23.43751734460436, -25.073492140282077, -26.86212597617625, -28.82587638945114, -30.991504960207326, -33.39061813563901, -36.0602494536205, -39.04348316572208, -42.39011925965505, -46.157379881146056, -50.410657155240735, -55.224302407036525, -60.68245678184492, -66.8799232647827, -73.92308009979284, -81.93083560809409, -91.03562440606058, -101.38444502253009, -113.13993891554175, -126.4815108885031], [-29.63684453204664, -26.328813791331353, -23.525803828259374, -21.166594180014116, -19.197333860131746, -17.570839409970255, -16.24593434960765, -15.186830028169549, -14.362547873585958, -13.746383041777328, -13.315409465269916, -13.050026301240372, -12.933545778989608, -12.95182244684593, -13.092923818497445, -13.346842418753706, -13.705249228736687, -14.161288530500945, -14.709414151083084, -15.345267105980525, -16.06559464205945, -16.86821067989212, -17.751997655523375, -18.716949761666424, -19.76425758832794, -20.896434162862356, -22.117482389455493, -23.433103888037394, -24.850949232624462, -26.380909589090876, -28.035449752369217, -29.829982583080415, -31.78328484359296, -33.917954433511326, -36.260909024593715, -38.84392609509908, -41.7042243635633, -44.88508662200481, -48.43652396855936, -52.41598143954398, -56.889085040950455, -61.930430179367825, -67.62441149233425, -74.06609407811817, -81.3621261249287, -89.63169293955511, -99.00751237543602, -109.63687166015752, -121.68270562238044, -135.32471631819726], [-32.91337834146624, -29.53484244980661, -26.675238058333058, -24.27262472263503, -22.272471720076865, -20.626955311456534, -19.29429740209362, -18.238145602346577, -17.426994687559244, -16.833649457436657, -16.43472899485007, -16.21021232407128, -16.143025468436235, -16.21866990743787, -16.424892433248218, -16.751396406669823, -17.18959441251635, -17.73240231442254, -18.374074709083384, -19.110081779922552, -19.937027550190145, -20.85260953548965, -21.85561979573419, -22.945987386532067, -24.124862210001524, -25.39474026501477, -26.759630296871357, -28.225261846400702, -29.799334698493944, -31.491809730065107, -33.315241157441406, -35.28515018318294, -37.42044004233161, -39.74385244808927, -42.282465436925186, -45.068232613112755, -48.138563792695464, -51.53694704688213, -55.3136121448715, -59.52623539610585, -64.24068589195419, -69.5318131468245, -75.48427613870538, -82.19341374913675, -89.76615660261012, -98.3219803053978, -107.99390008381167, -118.9295068218911, -131.29204449852, -145.26152902397334], [-36.67336869069409, -33.22410373998204, -30.3084970732188, -27.86386687170879, -25.834982105849786, -24.17335900698127, -22.836598938662192, -21.787767667377935, -20.99481603267656, -20.43004201673429, -20.069594213350292, -19.89301669637073, -19.882835287542044, -20.024185223793545, -20.304480223949238, -20.713122954868926, -21.241256897018562, -21.881559609469956, -22.62807739432958, -23.476101360596793, -24.42208488745129, -25.46360248696975, -26.599350066271857, -27.829186589095503, -29.154217136801293, -30.57691736880632, -32.10129938244719, -33.73311897227235, -35.48012428876358, -37.35234589648691, -39.362428231672695, -41.52600245922493, -43.86210072915994, -46.39361183247427, -49.14777825644181, -52.156734639340286, -55.45808762460686, -59.09553711442321, -63.11953892272972, -67.58800882766886, -72.56706802345815, -78.13182997169207, -84.3672286520733, -91.36888821257344, -99.24403401902273, -108.11244510412908, -118.1074480159266, -129.3769520656531, -142.08452597505703, -156.41051592313363], [-40.97993639697352, -37.46023143430846, -34.48976510772364, -32.005092644587634, -29.950261950576973, -28.276109291714334, -26.939596375836, -25.90318883348849, -25.134276098254574, -24.604632686508452, -24.289920876600252, -24.16923478746984, -24.224685856689753, -24.44102971793756, -24.805334477897397, -25.306690392590767, -25.93596094313666, -26.685575310940894, -27.549362252314737, -28.522425372522783, -29.601059799260135, -30.782710255558783, -32.06597053212333, -33.45062435909594, -34.93772767725051, -36.529732308616225, -38.23065102653026, -40.04626402511983, -41.984366788213435, -44.05505935768143, -46.27107700120589, -48.64816227947959, -51.20547851283446, -53.96606464729914, -56.95733152008589, -60.2115995245067, -63.76667767431875, -67.66648406749904, -71.96170774944846, -76.71051197562481, -81.97927887360544, -87.84339550457892, -94.3880813242661, -101.70925704327037, -109.91445488685724, -119.1237702541629, -129.47085477683277, -141.10395077708847, -154.18696712522453, -168.90059649653432], [-45.90318239217833, -42.31389462694268, -39.29031803244016, -36.76822311549267, -34.69091577234107, -33.00853218087309, -31.67737509228033, -30.659291522144848, -29.921091840954755, -29.43401026404913, -29.173206740992278, -29.117310244377194, -29.248003458058285, -29.5496488648134, -30.008956233435093, -30.61469150525116, -31.357427080074455, -32.22933350158197, -33.224012542123155, -34.336371686957534, -35.56254001792158, -36.89982549652483, -38.34671364647535, -39.902907635634335, -41.56940975740008, -43.348644311521205, -45.244621884339075, -47.26314502845958, -49.41205534185411, -51.70152194638985, -54.1443713657893, -56.756458803019044, -59.5570808171079, -62.56942939939419, -65.82108744920234, -69.34456564894882, -73.17788073867715, -77.36517519002241, -81.9573782796049, -87.01290856185295, -92.59841774125532, -98.7895759440425, -105.67189838929747, -113.3416134594958, -121.90657217047485, -131.48719904083214, -142.2174843607534, -154.2460178602696, -167.7370637769431, -182.8716773229834], [-51.52072494307908, -47.8633373758603, -44.789065417705594, -42.23287290131963, -40.13730258183324, -38.45177023922104, -37.13190018014829, -36.13890213924706, -35.43898957982153, -35.00283939398274, -34.80509300221249, -34.82389885235651, -35.04049631804694, -35.438840996554084, -36.00527140606736, -36.72821708240556, -37.597948075156395, -38.6063658432453, -39.74683554993344, -41.01405975724511, -42.40399351982424, -43.91380087822032, -45.5418527516035, -47.287766229908954, -49.15248526541061, -51.13840276372396, -53.249524074238366, -55.491671879978426, -57.87273248689474, -60.4029435125839, -63.095222974437725, -65.96553977722178, -69.03332560008316, -72.3219281829876, -75.85910601258571, -79.67756440750865, -83.81553300309284, -88.31738463553424, -93.23429562547167, -98.62494746099941, -104.55626988010918, -111.10422535256139, -118.35463496118535, -126.40404568260928, -135.36063906741919, -145.3451813197468, -156.4920147762877, -168.9500907847477, -182.88404398171878, -198.47530796998484]]}],\n",
              "                        {\"height\": 500, \"legend\": {\"tracegroupgap\": 0}, \"template\": {\"data\": {\"bar\": [{\"error_x\": {\"color\": \"#2a3f5f\"}, \"error_y\": {\"color\": \"#2a3f5f\"}, \"marker\": {\"line\": {\"color\": \"#E5ECF6\", \"width\": 0.5}}, \"type\": \"bar\"}], \"barpolar\": [{\"marker\": {\"line\": {\"color\": \"#E5ECF6\", \"width\": 0.5}}, \"type\": \"barpolar\"}], \"carpet\": [{\"aaxis\": {\"endlinecolor\": \"#2a3f5f\", \"gridcolor\": \"white\", \"linecolor\": \"white\", \"minorgridcolor\": \"white\", \"startlinecolor\": \"#2a3f5f\"}, \"baxis\": {\"endlinecolor\": \"#2a3f5f\", \"gridcolor\": \"white\", \"linecolor\": \"white\", \"minorgridcolor\": \"white\", \"startlinecolor\": \"#2a3f5f\"}, \"type\": \"carpet\"}], \"choropleth\": [{\"colorbar\": {\"outlinewidth\": 0, \"ticks\": \"\"}, \"type\": \"choropleth\"}], \"contour\": [{\"colorbar\": {\"outlinewidth\": 0, \"ticks\": \"\"}, \"colorscale\": [[0.0, \"#0d0887\"], [0.1111111111111111, \"#46039f\"], [0.2222222222222222, \"#7201a8\"], [0.3333333333333333, \"#9c179e\"], [0.4444444444444444, \"#bd3786\"], [0.5555555555555556, \"#d8576b\"], [0.6666666666666666, \"#ed7953\"], [0.7777777777777778, \"#fb9f3a\"], [0.8888888888888888, \"#fdca26\"], [1.0, \"#f0f921\"]], \"type\": \"contour\"}], \"contourcarpet\": [{\"colorbar\": {\"outlinewidth\": 0, \"ticks\": \"\"}, \"type\": \"contourcarpet\"}], \"heatmap\": [{\"colorbar\": {\"outlinewidth\": 0, \"ticks\": \"\"}, \"colorscale\": [[0.0, \"#0d0887\"], [0.1111111111111111, \"#46039f\"], [0.2222222222222222, \"#7201a8\"], [0.3333333333333333, \"#9c179e\"], [0.4444444444444444, \"#bd3786\"], [0.5555555555555556, \"#d8576b\"], [0.6666666666666666, \"#ed7953\"], [0.7777777777777778, \"#fb9f3a\"], [0.8888888888888888, \"#fdca26\"], [1.0, \"#f0f921\"]], \"type\": \"heatmap\"}], \"heatmapgl\": [{\"colorbar\": {\"outlinewidth\": 0, \"ticks\": \"\"}, \"colorscale\": [[0.0, \"#0d0887\"], [0.1111111111111111, \"#46039f\"], [0.2222222222222222, \"#7201a8\"], [0.3333333333333333, \"#9c179e\"], [0.4444444444444444, \"#bd3786\"], [0.5555555555555556, \"#d8576b\"], [0.6666666666666666, \"#ed7953\"], [0.7777777777777778, \"#fb9f3a\"], [0.8888888888888888, \"#fdca26\"], [1.0, \"#f0f921\"]], \"type\": \"heatmapgl\"}], \"histogram\": [{\"marker\": {\"colorbar\": {\"outlinewidth\": 0, \"ticks\": \"\"}}, \"type\": \"histogram\"}], \"histogram2d\": [{\"colorbar\": {\"outlinewidth\": 0, \"ticks\": \"\"}, \"colorscale\": [[0.0, \"#0d0887\"], [0.1111111111111111, \"#46039f\"], [0.2222222222222222, \"#7201a8\"], [0.3333333333333333, \"#9c179e\"], [0.4444444444444444, \"#bd3786\"], [0.5555555555555556, \"#d8576b\"], [0.6666666666666666, \"#ed7953\"], [0.7777777777777778, \"#fb9f3a\"], [0.8888888888888888, \"#fdca26\"], [1.0, \"#f0f921\"]], \"type\": \"histogram2d\"}], \"histogram2dcontour\": [{\"colorbar\": {\"outlinewidth\": 0, \"ticks\": \"\"}, \"colorscale\": [[0.0, \"#0d0887\"], [0.1111111111111111, \"#46039f\"], [0.2222222222222222, \"#7201a8\"], [0.3333333333333333, \"#9c179e\"], [0.4444444444444444, \"#bd3786\"], [0.5555555555555556, \"#d8576b\"], [0.6666666666666666, \"#ed7953\"], [0.7777777777777778, \"#fb9f3a\"], [0.8888888888888888, \"#fdca26\"], [1.0, \"#f0f921\"]], \"type\": \"histogram2dcontour\"}], \"mesh3d\": [{\"colorbar\": {\"outlinewidth\": 0, \"ticks\": \"\"}, \"type\": \"mesh3d\"}], \"parcoords\": [{\"line\": {\"colorbar\": {\"outlinewidth\": 0, \"ticks\": \"\"}}, \"type\": \"parcoords\"}], \"scatter\": [{\"marker\": {\"colorbar\": {\"outlinewidth\": 0, \"ticks\": \"\"}}, \"type\": \"scatter\"}], \"scatter3d\": [{\"line\": {\"colorbar\": {\"outlinewidth\": 0, \"ticks\": \"\"}}, \"marker\": {\"colorbar\": {\"outlinewidth\": 0, \"ticks\": \"\"}}, \"type\": \"scatter3d\"}], \"scattercarpet\": [{\"marker\": {\"colorbar\": {\"outlinewidth\": 0, \"ticks\": \"\"}}, \"type\": \"scattercarpet\"}], \"scattergeo\": [{\"marker\": {\"colorbar\": {\"outlinewidth\": 0, \"ticks\": \"\"}}, \"type\": \"scattergeo\"}], \"scattergl\": [{\"marker\": {\"colorbar\": {\"outlinewidth\": 0, \"ticks\": \"\"}}, \"type\": \"scattergl\"}], \"scattermapbox\": [{\"marker\": {\"colorbar\": {\"outlinewidth\": 0, \"ticks\": \"\"}}, \"type\": \"scattermapbox\"}], \"scatterpolar\": [{\"marker\": {\"colorbar\": {\"outlinewidth\": 0, \"ticks\": \"\"}}, \"type\": \"scatterpolar\"}], \"scatterpolargl\": [{\"marker\": {\"colorbar\": {\"outlinewidth\": 0, \"ticks\": \"\"}}, \"type\": \"scatterpolargl\"}], \"scatterternary\": [{\"marker\": {\"colorbar\": {\"outlinewidth\": 0, \"ticks\": \"\"}}, \"type\": \"scatterternary\"}], \"surface\": [{\"colorbar\": {\"outlinewidth\": 0, \"ticks\": \"\"}, \"colorscale\": [[0.0, \"#0d0887\"], [0.1111111111111111, \"#46039f\"], [0.2222222222222222, \"#7201a8\"], [0.3333333333333333, \"#9c179e\"], [0.4444444444444444, \"#bd3786\"], [0.5555555555555556, \"#d8576b\"], [0.6666666666666666, \"#ed7953\"], [0.7777777777777778, \"#fb9f3a\"], [0.8888888888888888, \"#fdca26\"], [1.0, \"#f0f921\"]], \"type\": \"surface\"}], \"table\": [{\"cells\": {\"fill\": {\"color\": \"#EBF0F8\"}, \"line\": {\"color\": \"white\"}}, \"header\": {\"fill\": {\"color\": \"#C8D4E3\"}, \"line\": {\"color\": \"white\"}}, \"type\": \"table\"}]}, \"layout\": {\"annotationdefaults\": {\"arrowcolor\": \"#2a3f5f\", \"arrowhead\": 0, \"arrowwidth\": 1}, \"colorscale\": {\"diverging\": [[0, \"#8e0152\"], [0.1, \"#c51b7d\"], [0.2, \"#de77ae\"], [0.3, \"#f1b6da\"], [0.4, \"#fde0ef\"], [0.5, \"#f7f7f7\"], [0.6, \"#e6f5d0\"], [0.7, \"#b8e186\"], [0.8, \"#7fbc41\"], [0.9, \"#4d9221\"], [1, \"#276419\"]], \"sequential\": [[0.0, \"#0d0887\"], [0.1111111111111111, \"#46039f\"], [0.2222222222222222, \"#7201a8\"], [0.3333333333333333, \"#9c179e\"], [0.4444444444444444, \"#bd3786\"], [0.5555555555555556, \"#d8576b\"], [0.6666666666666666, \"#ed7953\"], [0.7777777777777778, \"#fb9f3a\"], [0.8888888888888888, \"#fdca26\"], [1.0, \"#f0f921\"]], \"sequentialminus\": [[0.0, \"#0d0887\"], [0.1111111111111111, \"#46039f\"], [0.2222222222222222, \"#7201a8\"], [0.3333333333333333, \"#9c179e\"], [0.4444444444444444, \"#bd3786\"], [0.5555555555555556, \"#d8576b\"], [0.6666666666666666, \"#ed7953\"], [0.7777777777777778, \"#fb9f3a\"], [0.8888888888888888, \"#fdca26\"], [1.0, \"#f0f921\"]]}, \"colorway\": [\"#636efa\", \"#EF553B\", \"#00cc96\", \"#ab63fa\", \"#FFA15A\", \"#19d3f3\", \"#FF6692\", \"#B6E880\", \"#FF97FF\", \"#FECB52\"], \"font\": {\"color\": \"#2a3f5f\"}, \"geo\": {\"bgcolor\": \"white\", \"lakecolor\": \"white\", \"landcolor\": \"#E5ECF6\", \"showlakes\": true, \"showland\": true, \"subunitcolor\": \"white\"}, \"hoverlabel\": {\"align\": \"left\"}, \"hovermode\": \"closest\", \"mapbox\": {\"style\": \"light\"}, \"paper_bgcolor\": \"white\", \"plot_bgcolor\": \"#E5ECF6\", \"polar\": {\"angularaxis\": {\"gridcolor\": \"white\", \"linecolor\": \"white\", \"ticks\": \"\"}, \"bgcolor\": \"#E5ECF6\", \"radialaxis\": {\"gridcolor\": \"white\", \"linecolor\": \"white\", \"ticks\": \"\"}}, \"scene\": {\"xaxis\": {\"backgroundcolor\": \"#E5ECF6\", \"gridcolor\": \"white\", \"gridwidth\": 2, \"linecolor\": \"white\", \"showbackground\": true, \"ticks\": \"\", \"zerolinecolor\": \"white\"}, \"yaxis\": {\"backgroundcolor\": \"#E5ECF6\", \"gridcolor\": \"white\", \"gridwidth\": 2, \"linecolor\": \"white\", \"showbackground\": true, \"ticks\": \"\", \"zerolinecolor\": \"white\"}, \"zaxis\": {\"backgroundcolor\": \"#E5ECF6\", \"gridcolor\": \"white\", \"gridwidth\": 2, \"linecolor\": \"white\", \"showbackground\": true, \"ticks\": \"\", \"zerolinecolor\": \"white\"}}, \"shapedefaults\": {\"line\": {\"color\": \"#2a3f5f\"}}, \"ternary\": {\"aaxis\": {\"gridcolor\": \"white\", \"linecolor\": \"white\", \"ticks\": \"\"}, \"baxis\": {\"gridcolor\": \"white\", \"linecolor\": \"white\", \"ticks\": \"\"}, \"bgcolor\": \"#E5ECF6\", \"caxis\": {\"gridcolor\": \"white\", \"linecolor\": \"white\", \"ticks\": \"\"}}, \"title\": {\"x\": 0.05}, \"xaxis\": {\"automargin\": true, \"gridcolor\": \"white\", \"linecolor\": \"white\", \"ticks\": \"\", \"zerolinecolor\": \"white\", \"zerolinewidth\": 2}, \"yaxis\": {\"automargin\": true, \"gridcolor\": \"white\", \"linecolor\": \"white\", \"ticks\": \"\", \"zerolinecolor\": \"white\", \"zerolinewidth\": 2}}}, \"title\": {\"text\": \"Admitted vs not Admitted\"}, \"width\": 800, \"xaxis\": {\"anchor\": \"y\", \"domain\": [0.0, 0.98], \"title\": {\"text\": \"X1\"}}, \"yaxis\": {\"anchor\": \"x\", \"domain\": [0.0, 1.0], \"title\": {\"text\": \"X2\"}}},\n",
              "                        {\"responsive\": true}\n",
              "                    ).then(function(){\n",
              "                            \n",
              "var gd = document.getElementById('1782bc7c-1e90-4279-b9c1-2ecb02ba8483');\n",
              "var x = new MutationObserver(function (mutations, observer) {{\n",
              "        var display = window.getComputedStyle(gd).display;\n",
              "        if (!display || display === 'none') {{\n",
              "            console.log([gd, 'removed!']);\n",
              "            Plotly.purge(gd);\n",
              "            observer.disconnect();\n",
              "        }}\n",
              "}});\n",
              "\n",
              "// Listen for the removal of the full notebook cells\n",
              "var notebookContainer = gd.closest('#notebook-container');\n",
              "if (notebookContainer) {{\n",
              "    x.observe(notebookContainer, {childList: true});\n",
              "}}\n",
              "\n",
              "// Listen for the clearing of the current output cell\n",
              "var outputEl = gd.closest('.output');\n",
              "if (outputEl) {{\n",
              "    x.observe(outputEl, {childList: true});\n",
              "}}\n",
              "\n",
              "                        })\n",
              "                };\n",
              "                \n",
              "            </script>\n",
              "        </div>\n",
              "</body>\n",
              "</html>"
            ]
          },
          "metadata": {
            "tags": []
          }
        }
      ]
    },
    {
      "cell_type": "code",
      "metadata": {
        "id": "rLgCEWq4LX5F",
        "colab_type": "code",
        "colab": {}
      },
      "source": [
        ""
      ],
      "execution_count": 0,
      "outputs": []
    }
  ]
}