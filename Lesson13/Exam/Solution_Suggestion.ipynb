{
  "nbformat": 4,
  "nbformat_minor": 0,
  "metadata": {
    "colab": {
      "name": "Solution_Suggestion.ipynb",
      "provenance": [],
      "collapsed_sections": []
    },
    "kernelspec": {
      "name": "python3",
      "display_name": "Python 3"
    }
  },
  "cells": [
    {
      "cell_type": "markdown",
      "metadata": {
        "id": "DTcDpMWaElxP",
        "colab_type": "text"
      },
      "source": [
        "- Load libraries\n",
        "- Get data, including EDA\n",
        "- Clean, prepare, and manipulate data\n",
        "- Modeling (train & test)\n",
        "- Algorithm tuning\n",
        "- Finalizing the model"
      ]
    },
    {
      "cell_type": "markdown",
      "metadata": {
        "id": "NKdKbN8CE5Wc",
        "colab_type": "text"
      },
      "source": [
        "## Load libraries"
      ]
    },
    {
      "cell_type": "code",
      "metadata": {
        "id": "yNiiOM-wQnkV",
        "colab_type": "code",
        "colab": {}
      },
      "source": [
        "from sklearn.neighbors import KNeighborsRegressor\n",
        "from sklearn.metrics import mean_squared_error\n",
        "import missingno as msno\n",
        "import numpy as np\n",
        "import pandas as pd\n",
        "from google.colab import files\n",
        "import matplotlib.pyplot as plt\n",
        "import seaborn as sns\n",
        "from sklearn.impute import SimpleImputer\n",
        "from sklearn.base import BaseEstimator, TransformerMixin\n",
        "from sklearn.pipeline import Pipeline, FeatureUnion\n",
        "from sklearn.preprocessing import OneHotEncoder\n",
        "from sklearn.linear_model import LinearRegression\n",
        "from sklearn.model_selection import KFold\n",
        "from sklearn.model_selection import GridSearchCV\n",
        "from sklearn.model_selection import StratifiedKFold\n",
        "from sklearn import metrics\n",
        "from sklearn.metrics import make_scorer\n",
        "from sklearn.feature_selection import SelectKBest\n",
        "from sklearn.feature_selection import chi2\n",
        "from sklearn.preprocessing import StandardScaler"
      ],
      "execution_count": 0,
      "outputs": []
    },
    {
      "cell_type": "markdown",
      "metadata": {
        "id": "PXGNz86wE9-M",
        "colab_type": "text"
      },
      "source": [
        "## Get data, including EDA"
      ]
    },
    {
      "cell_type": "code",
      "metadata": {
        "id": "XqCOwzmGQ_4A",
        "colab_type": "code",
        "colab": {}
      },
      "source": [
        "# load datasets\n",
        "# tip: we don't have y_test in kaggle competition\n",
        "#     X_train,y_train = train\n",
        "#     X_test = test\n",
        "train = pd.read_csv(\"train.csv\")\n",
        "test = pd.read_csv(\"test.csv\")"
      ],
      "execution_count": 0,
      "outputs": []
    },
    {
      "cell_type": "code",
      "metadata": {
        "id": "jfBqmdwlF__I",
        "colab_type": "code",
        "outputId": "6487db9f-8f7f-477f-8845-7d296d0f89b5",
        "colab": {
          "base_uri": "https://localhost:8080/",
          "height": 305
        }
      },
      "source": [
        "train.head()"
      ],
      "execution_count": 0,
      "outputs": [
        {
          "output_type": "execute_result",
          "data": {
            "text/html": [
              "<div>\n",
              "<style scoped>\n",
              "    .dataframe tbody tr th:only-of-type {\n",
              "        vertical-align: middle;\n",
              "    }\n",
              "\n",
              "    .dataframe tbody tr th {\n",
              "        vertical-align: top;\n",
              "    }\n",
              "\n",
              "    .dataframe thead th {\n",
              "        text-align: right;\n",
              "    }\n",
              "</style>\n",
              "<table border=\"1\" class=\"dataframe\">\n",
              "  <thead>\n",
              "    <tr style=\"text-align: right;\">\n",
              "      <th></th>\n",
              "      <th>host_response_time</th>\n",
              "      <th>host_response_rate</th>\n",
              "      <th>host_neighbourhood</th>\n",
              "      <th>host_listings_count</th>\n",
              "      <th>neighbourhood</th>\n",
              "      <th>city</th>\n",
              "      <th>state</th>\n",
              "      <th>zipcode</th>\n",
              "      <th>latitude</th>\n",
              "      <th>longitude</th>\n",
              "      <th>property_type</th>\n",
              "      <th>room_type</th>\n",
              "      <th>accommodates</th>\n",
              "      <th>bathrooms</th>\n",
              "      <th>bedrooms</th>\n",
              "      <th>beds</th>\n",
              "      <th>bed_type</th>\n",
              "      <th>security_deposit</th>\n",
              "      <th>cleaning_fee</th>\n",
              "      <th>extra_people</th>\n",
              "      <th>minimum_nights</th>\n",
              "      <th>maximum_nights</th>\n",
              "      <th>number_of_reviews</th>\n",
              "      <th>review_scores_rating</th>\n",
              "      <th>reviews_per_month</th>\n",
              "      <th>price</th>\n",
              "    </tr>\n",
              "  </thead>\n",
              "  <tbody>\n",
              "    <tr>\n",
              "      <th>0</th>\n",
              "      <td>within an hour</td>\n",
              "      <td>84%</td>\n",
              "      <td>Ipanema</td>\n",
              "      <td>12.0</td>\n",
              "      <td>Ipanema</td>\n",
              "      <td>Rio De Janeiro</td>\n",
              "      <td>Rj</td>\n",
              "      <td>22411-002</td>\n",
              "      <td>-22.98262</td>\n",
              "      <td>-43.20720</td>\n",
              "      <td>Apartment</td>\n",
              "      <td>Entire home/apt</td>\n",
              "      <td>4</td>\n",
              "      <td>2.0</td>\n",
              "      <td>2.0</td>\n",
              "      <td>2.0</td>\n",
              "      <td>Real Bed</td>\n",
              "      <td>$500.00</td>\n",
              "      <td>$130.00</td>\n",
              "      <td>$23.00</td>\n",
              "      <td>2</td>\n",
              "      <td>1125</td>\n",
              "      <td>21</td>\n",
              "      <td>81.0</td>\n",
              "      <td>0.32</td>\n",
              "      <td>309.0</td>\n",
              "    </tr>\n",
              "    <tr>\n",
              "      <th>1</th>\n",
              "      <td>within a day</td>\n",
              "      <td>50%</td>\n",
              "      <td>Barra da Tijuca</td>\n",
              "      <td>1.0</td>\n",
              "      <td>Barra da Tijuca</td>\n",
              "      <td>Barra da Tijuca</td>\n",
              "      <td>Rio de Janeiro</td>\n",
              "      <td>22630-010</td>\n",
              "      <td>-23.01124</td>\n",
              "      <td>-43.32676</td>\n",
              "      <td>Apartment</td>\n",
              "      <td>Entire home/apt</td>\n",
              "      <td>2</td>\n",
              "      <td>1.0</td>\n",
              "      <td>1.0</td>\n",
              "      <td>1.0</td>\n",
              "      <td>Real Bed</td>\n",
              "      <td>NaN</td>\n",
              "      <td>NaN</td>\n",
              "      <td>$0.00</td>\n",
              "      <td>1</td>\n",
              "      <td>1125</td>\n",
              "      <td>5</td>\n",
              "      <td>88.0</td>\n",
              "      <td>1.15</td>\n",
              "      <td>351.0</td>\n",
              "    </tr>\n",
              "    <tr>\n",
              "      <th>2</th>\n",
              "      <td>within an hour</td>\n",
              "      <td>99%</td>\n",
              "      <td>Ipanema</td>\n",
              "      <td>340.0</td>\n",
              "      <td>Copacabana</td>\n",
              "      <td>Copacabana</td>\n",
              "      <td>Rio de Janeiro</td>\n",
              "      <td>22081-010</td>\n",
              "      <td>-22.98264</td>\n",
              "      <td>-43.19115</td>\n",
              "      <td>Apartment</td>\n",
              "      <td>Entire home/apt</td>\n",
              "      <td>8</td>\n",
              "      <td>3.5</td>\n",
              "      <td>3.0</td>\n",
              "      <td>7.0</td>\n",
              "      <td>Real Bed</td>\n",
              "      <td>$1,000.00</td>\n",
              "      <td>$190.00</td>\n",
              "      <td>$48.00</td>\n",
              "      <td>4</td>\n",
              "      <td>1125</td>\n",
              "      <td>1</td>\n",
              "      <td>100.0</td>\n",
              "      <td>0.06</td>\n",
              "      <td>398.0</td>\n",
              "    </tr>\n",
              "    <tr>\n",
              "      <th>3</th>\n",
              "      <td>within a few hours</td>\n",
              "      <td>100%</td>\n",
              "      <td>Lagoa</td>\n",
              "      <td>7.0</td>\n",
              "      <td>Lagoa</td>\n",
              "      <td>Rio de Janeiro</td>\n",
              "      <td>Rio de Janeiro</td>\n",
              "      <td>22061</td>\n",
              "      <td>-22.97651</td>\n",
              "      <td>-43.19890</td>\n",
              "      <td>Apartment</td>\n",
              "      <td>Entire home/apt</td>\n",
              "      <td>10</td>\n",
              "      <td>3.0</td>\n",
              "      <td>3.0</td>\n",
              "      <td>6.0</td>\n",
              "      <td>Real Bed</td>\n",
              "      <td>$1,972.00</td>\n",
              "      <td>$498.00</td>\n",
              "      <td>$174.00</td>\n",
              "      <td>3</td>\n",
              "      <td>120</td>\n",
              "      <td>7</td>\n",
              "      <td>94.0</td>\n",
              "      <td>0.13</td>\n",
              "      <td>849.0</td>\n",
              "    </tr>\n",
              "    <tr>\n",
              "      <th>4</th>\n",
              "      <td>within a day</td>\n",
              "      <td>75%</td>\n",
              "      <td>Joá</td>\n",
              "      <td>4.0</td>\n",
              "      <td>Joá</td>\n",
              "      <td>Rio de Janeiro</td>\n",
              "      <td>RJ</td>\n",
              "      <td>22611-021</td>\n",
              "      <td>-23.00995</td>\n",
              "      <td>-43.28959</td>\n",
              "      <td>House</td>\n",
              "      <td>Entire home/apt</td>\n",
              "      <td>2</td>\n",
              "      <td>1.5</td>\n",
              "      <td>1.0</td>\n",
              "      <td>2.0</td>\n",
              "      <td>Real Bed</td>\n",
              "      <td>NaN</td>\n",
              "      <td>NaN</td>\n",
              "      <td>$100.00</td>\n",
              "      <td>2</td>\n",
              "      <td>9</td>\n",
              "      <td>1</td>\n",
              "      <td>100.0</td>\n",
              "      <td>0.09</td>\n",
              "      <td>70.0</td>\n",
              "    </tr>\n",
              "  </tbody>\n",
              "</table>\n",
              "</div>"
            ],
            "text/plain": [
              "   host_response_time host_response_rate  ... reviews_per_month  price\n",
              "0      within an hour                84%  ...              0.32  309.0\n",
              "1        within a day                50%  ...              1.15  351.0\n",
              "2      within an hour                99%  ...              0.06  398.0\n",
              "3  within a few hours               100%  ...              0.13  849.0\n",
              "4        within a day                75%  ...              0.09   70.0\n",
              "\n",
              "[5 rows x 26 columns]"
            ]
          },
          "metadata": {
            "tags": []
          },
          "execution_count": 179
        }
      ]
    },
    {
      "cell_type": "code",
      "metadata": {
        "id": "sX8LeBFIFd6D",
        "colab_type": "code",
        "outputId": "ea3fa86a-f179-458f-c3ee-262c081b35d5",
        "colab": {
          "base_uri": "https://localhost:8080/",
          "height": 553
        }
      },
      "source": [
        "train.info()"
      ],
      "execution_count": 0,
      "outputs": [
        {
          "output_type": "stream",
          "text": [
            "<class 'pandas.core.frame.DataFrame'>\n",
            "RangeIndex: 9000 entries, 0 to 8999\n",
            "Data columns (total 26 columns):\n",
            "host_response_time      6489 non-null object\n",
            "host_response_rate      6489 non-null object\n",
            "host_neighbourhood      6344 non-null object\n",
            "host_listings_count     8997 non-null float64\n",
            "neighbourhood           8748 non-null object\n",
            "city                    8988 non-null object\n",
            "state                   8990 non-null object\n",
            "zipcode                 8603 non-null object\n",
            "latitude                9000 non-null float64\n",
            "longitude               9000 non-null float64\n",
            "property_type           9000 non-null object\n",
            "room_type               9000 non-null object\n",
            "accommodates            9000 non-null int64\n",
            "bathrooms               8984 non-null float64\n",
            "bedrooms                8995 non-null float64\n",
            "beds                    8994 non-null float64\n",
            "bed_type                9000 non-null object\n",
            "security_deposit        5999 non-null object\n",
            "cleaning_fee            7254 non-null object\n",
            "extra_people            9000 non-null object\n",
            "minimum_nights          9000 non-null int64\n",
            "maximum_nights          9000 non-null int64\n",
            "number_of_reviews       9000 non-null int64\n",
            "review_scores_rating    9000 non-null float64\n",
            "reviews_per_month       8999 non-null float64\n",
            "price                   9000 non-null float64\n",
            "dtypes: float64(9), int64(4), object(13)\n",
            "memory usage: 1.8+ MB\n"
          ],
          "name": "stdout"
        }
      ]
    },
    {
      "cell_type": "markdown",
      "metadata": {
        "id": "QZnRPamYG577",
        "colab_type": "text"
      },
      "source": [
        "### EDA for numerical columns"
      ]
    },
    {
      "cell_type": "code",
      "metadata": {
        "id": "_qJscEJ-HCU-",
        "colab_type": "code",
        "colab": {}
      },
      "source": [
        "# 9 columns float64, 4 columns int64 = 13 numerical columns\n",
        "numerical_cols  = train.select_dtypes([\"float64\",\"int64\"]).columns.to_list()\n",
        "numerical_train = train[numerical_cols].copy()"
      ],
      "execution_count": 0,
      "outputs": []
    },
    {
      "cell_type": "code",
      "metadata": {
        "id": "Ommd5MObKDEv",
        "colab_type": "code",
        "outputId": "f18e0055-46ac-42b6-f7fc-3aaf0a64a9a2",
        "colab": {
          "base_uri": "https://localhost:8080/",
          "height": 218
        }
      },
      "source": [
        "numerical_train.head()"
      ],
      "execution_count": 0,
      "outputs": [
        {
          "output_type": "execute_result",
          "data": {
            "text/html": [
              "<div>\n",
              "<style scoped>\n",
              "    .dataframe tbody tr th:only-of-type {\n",
              "        vertical-align: middle;\n",
              "    }\n",
              "\n",
              "    .dataframe tbody tr th {\n",
              "        vertical-align: top;\n",
              "    }\n",
              "\n",
              "    .dataframe thead th {\n",
              "        text-align: right;\n",
              "    }\n",
              "</style>\n",
              "<table border=\"1\" class=\"dataframe\">\n",
              "  <thead>\n",
              "    <tr style=\"text-align: right;\">\n",
              "      <th></th>\n",
              "      <th>host_listings_count</th>\n",
              "      <th>latitude</th>\n",
              "      <th>longitude</th>\n",
              "      <th>accommodates</th>\n",
              "      <th>bathrooms</th>\n",
              "      <th>bedrooms</th>\n",
              "      <th>beds</th>\n",
              "      <th>minimum_nights</th>\n",
              "      <th>maximum_nights</th>\n",
              "      <th>number_of_reviews</th>\n",
              "      <th>review_scores_rating</th>\n",
              "      <th>reviews_per_month</th>\n",
              "      <th>price</th>\n",
              "    </tr>\n",
              "  </thead>\n",
              "  <tbody>\n",
              "    <tr>\n",
              "      <th>0</th>\n",
              "      <td>12.0</td>\n",
              "      <td>-22.98262</td>\n",
              "      <td>-43.20720</td>\n",
              "      <td>4</td>\n",
              "      <td>2.0</td>\n",
              "      <td>2.0</td>\n",
              "      <td>2.0</td>\n",
              "      <td>2</td>\n",
              "      <td>1125</td>\n",
              "      <td>21</td>\n",
              "      <td>81.0</td>\n",
              "      <td>0.32</td>\n",
              "      <td>309.0</td>\n",
              "    </tr>\n",
              "    <tr>\n",
              "      <th>1</th>\n",
              "      <td>1.0</td>\n",
              "      <td>-23.01124</td>\n",
              "      <td>-43.32676</td>\n",
              "      <td>2</td>\n",
              "      <td>1.0</td>\n",
              "      <td>1.0</td>\n",
              "      <td>1.0</td>\n",
              "      <td>1</td>\n",
              "      <td>1125</td>\n",
              "      <td>5</td>\n",
              "      <td>88.0</td>\n",
              "      <td>1.15</td>\n",
              "      <td>351.0</td>\n",
              "    </tr>\n",
              "    <tr>\n",
              "      <th>2</th>\n",
              "      <td>340.0</td>\n",
              "      <td>-22.98264</td>\n",
              "      <td>-43.19115</td>\n",
              "      <td>8</td>\n",
              "      <td>3.5</td>\n",
              "      <td>3.0</td>\n",
              "      <td>7.0</td>\n",
              "      <td>4</td>\n",
              "      <td>1125</td>\n",
              "      <td>1</td>\n",
              "      <td>100.0</td>\n",
              "      <td>0.06</td>\n",
              "      <td>398.0</td>\n",
              "    </tr>\n",
              "    <tr>\n",
              "      <th>3</th>\n",
              "      <td>7.0</td>\n",
              "      <td>-22.97651</td>\n",
              "      <td>-43.19890</td>\n",
              "      <td>10</td>\n",
              "      <td>3.0</td>\n",
              "      <td>3.0</td>\n",
              "      <td>6.0</td>\n",
              "      <td>3</td>\n",
              "      <td>120</td>\n",
              "      <td>7</td>\n",
              "      <td>94.0</td>\n",
              "      <td>0.13</td>\n",
              "      <td>849.0</td>\n",
              "    </tr>\n",
              "    <tr>\n",
              "      <th>4</th>\n",
              "      <td>4.0</td>\n",
              "      <td>-23.00995</td>\n",
              "      <td>-43.28959</td>\n",
              "      <td>2</td>\n",
              "      <td>1.5</td>\n",
              "      <td>1.0</td>\n",
              "      <td>2.0</td>\n",
              "      <td>2</td>\n",
              "      <td>9</td>\n",
              "      <td>1</td>\n",
              "      <td>100.0</td>\n",
              "      <td>0.09</td>\n",
              "      <td>70.0</td>\n",
              "    </tr>\n",
              "  </tbody>\n",
              "</table>\n",
              "</div>"
            ],
            "text/plain": [
              "   host_listings_count  latitude  ...  reviews_per_month  price\n",
              "0                 12.0 -22.98262  ...               0.32  309.0\n",
              "1                  1.0 -23.01124  ...               1.15  351.0\n",
              "2                340.0 -22.98264  ...               0.06  398.0\n",
              "3                  7.0 -22.97651  ...               0.13  849.0\n",
              "4                  4.0 -23.00995  ...               0.09   70.0\n",
              "\n",
              "[5 rows x 13 columns]"
            ]
          },
          "metadata": {
            "tags": []
          },
          "execution_count": 182
        }
      ]
    },
    {
      "cell_type": "code",
      "metadata": {
        "id": "e2zBC8U6H1eu",
        "colab_type": "code",
        "outputId": "c8031f7e-12d8-4d4d-a334-8d1e898b9550",
        "colab": {
          "base_uri": "https://localhost:8080/",
          "height": 856
        }
      },
      "source": [
        "# who is missing?\n",
        "msno.matrix(numerical_train,figsize=(10,8))\n",
        "numerical_train.isnull().sum()"
      ],
      "execution_count": 0,
      "outputs": [
        {
          "output_type": "execute_result",
          "data": {
            "text/plain": [
              "host_listings_count      3\n",
              "latitude                 0\n",
              "longitude                0\n",
              "accommodates             0\n",
              "bathrooms               16\n",
              "bedrooms                 5\n",
              "beds                     6\n",
              "minimum_nights           0\n",
              "maximum_nights           0\n",
              "number_of_reviews        0\n",
              "review_scores_rating     0\n",
              "reviews_per_month        1\n",
              "price                    0\n",
              "dtype: int64"
            ]
          },
          "metadata": {
            "tags": []
          },
          "execution_count": 183
        },
        {
          "output_type": "display_data",
          "data": {
            "image/png": "[encoded data removed]",
            "text/plain": [
              "<Figure size 720x576 with 2 Axes>"
            ]
          },
          "metadata": {
            "tags": []
          }
        }
      ]
    },
    {
      "cell_type": "code",
      "metadata": {
        "id": "GEJQpaxKHp4d",
        "colab_type": "code",
        "outputId": "3b2f98af-03a4-499f-8bbe-44fdc8328bac",
        "colab": {
          "base_uri": "https://localhost:8080/",
          "height": 308
        }
      },
      "source": [
        "numerical_train.describe()"
      ],
      "execution_count": 0,
      "outputs": [
        {
          "output_type": "execute_result",
          "data": {
            "text/html": [
              "<div>\n",
              "<style scoped>\n",
              "    .dataframe tbody tr th:only-of-type {\n",
              "        vertical-align: middle;\n",
              "    }\n",
              "\n",
              "    .dataframe tbody tr th {\n",
              "        vertical-align: top;\n",
              "    }\n",
              "\n",
              "    .dataframe thead th {\n",
              "        text-align: right;\n",
              "    }\n",
              "</style>\n",
              "<table border=\"1\" class=\"dataframe\">\n",
              "  <thead>\n",
              "    <tr style=\"text-align: right;\">\n",
              "      <th></th>\n",
              "      <th>host_listings_count</th>\n",
              "      <th>latitude</th>\n",
              "      <th>longitude</th>\n",
              "      <th>accommodates</th>\n",
              "      <th>bathrooms</th>\n",
              "      <th>bedrooms</th>\n",
              "      <th>beds</th>\n",
              "      <th>minimum_nights</th>\n",
              "      <th>maximum_nights</th>\n",
              "      <th>number_of_reviews</th>\n",
              "      <th>review_scores_rating</th>\n",
              "      <th>reviews_per_month</th>\n",
              "      <th>price</th>\n",
              "    </tr>\n",
              "  </thead>\n",
              "  <tbody>\n",
              "    <tr>\n",
              "      <th>count</th>\n",
              "      <td>8997.000000</td>\n",
              "      <td>9000.000000</td>\n",
              "      <td>9000.000000</td>\n",
              "      <td>9000.000000</td>\n",
              "      <td>8984.000000</td>\n",
              "      <td>8995.000000</td>\n",
              "      <td>8994.000000</td>\n",
              "      <td>9000.000000</td>\n",
              "      <td>9000.000000</td>\n",
              "      <td>9000.000000</td>\n",
              "      <td>9000.000000</td>\n",
              "      <td>8999.000000</td>\n",
              "      <td>9000.000000</td>\n",
              "    </tr>\n",
              "    <tr>\n",
              "      <th>mean</th>\n",
              "      <td>9.105591</td>\n",
              "      <td>-22.966473</td>\n",
              "      <td>-43.233905</td>\n",
              "      <td>3.980111</td>\n",
              "      <td>1.563947</td>\n",
              "      <td>1.514619</td>\n",
              "      <td>2.500334</td>\n",
              "      <td>3.587556</td>\n",
              "      <td>661.760444</td>\n",
              "      <td>15.352000</td>\n",
              "      <td>94.323333</td>\n",
              "      <td>0.610770</td>\n",
              "      <td>367.890000</td>\n",
              "    </tr>\n",
              "    <tr>\n",
              "      <th>std</th>\n",
              "      <td>37.763230</td>\n",
              "      <td>0.031795</td>\n",
              "      <td>0.083452</td>\n",
              "      <td>2.267514</td>\n",
              "      <td>0.855437</td>\n",
              "      <td>0.963927</td>\n",
              "      <td>1.891312</td>\n",
              "      <td>17.968985</td>\n",
              "      <td>1584.354138</td>\n",
              "      <td>28.800757</td>\n",
              "      <td>9.774358</td>\n",
              "      <td>0.827369</td>\n",
              "      <td>966.137214</td>\n",
              "    </tr>\n",
              "    <tr>\n",
              "      <th>min</th>\n",
              "      <td>0.000000</td>\n",
              "      <td>-23.072620</td>\n",
              "      <td>-43.706640</td>\n",
              "      <td>1.000000</td>\n",
              "      <td>0.000000</td>\n",
              "      <td>0.000000</td>\n",
              "      <td>0.000000</td>\n",
              "      <td>1.000000</td>\n",
              "      <td>1.000000</td>\n",
              "      <td>0.000000</td>\n",
              "      <td>20.000000</td>\n",
              "      <td>0.010000</td>\n",
              "      <td>0.000000</td>\n",
              "    </tr>\n",
              "    <tr>\n",
              "      <th>25%</th>\n",
              "      <td>1.000000</td>\n",
              "      <td>-22.984172</td>\n",
              "      <td>-43.230123</td>\n",
              "      <td>2.000000</td>\n",
              "      <td>1.000000</td>\n",
              "      <td>1.000000</td>\n",
              "      <td>1.000000</td>\n",
              "      <td>2.000000</td>\n",
              "      <td>30.000000</td>\n",
              "      <td>2.000000</td>\n",
              "      <td>93.000000</td>\n",
              "      <td>0.100000</td>\n",
              "      <td>131.000000</td>\n",
              "    </tr>\n",
              "    <tr>\n",
              "      <th>50%</th>\n",
              "      <td>2.000000</td>\n",
              "      <td>-22.971590</td>\n",
              "      <td>-43.193475</td>\n",
              "      <td>4.000000</td>\n",
              "      <td>1.000000</td>\n",
              "      <td>1.000000</td>\n",
              "      <td>2.000000</td>\n",
              "      <td>2.000000</td>\n",
              "      <td>1125.000000</td>\n",
              "      <td>4.000000</td>\n",
              "      <td>98.000000</td>\n",
              "      <td>0.280000</td>\n",
              "      <td>208.000000</td>\n",
              "    </tr>\n",
              "    <tr>\n",
              "      <th>75%</th>\n",
              "      <td>3.000000</td>\n",
              "      <td>-22.953230</td>\n",
              "      <td>-43.184848</td>\n",
              "      <td>5.000000</td>\n",
              "      <td>2.000000</td>\n",
              "      <td>2.000000</td>\n",
              "      <td>3.000000</td>\n",
              "      <td>3.000000</td>\n",
              "      <td>1125.000000</td>\n",
              "      <td>14.000000</td>\n",
              "      <td>100.000000</td>\n",
              "      <td>0.770000</td>\n",
              "      <td>374.000000</td>\n",
              "    </tr>\n",
              "    <tr>\n",
              "      <th>max</th>\n",
              "      <td>340.000000</td>\n",
              "      <td>-22.751700</td>\n",
              "      <td>-43.104620</td>\n",
              "      <td>16.000000</td>\n",
              "      <td>9.000000</td>\n",
              "      <td>13.000000</td>\n",
              "      <td>30.000000</td>\n",
              "      <td>1095.000000</td>\n",
              "      <td>99999.000000</td>\n",
              "      <td>341.000000</td>\n",
              "      <td>100.000000</td>\n",
              "      <td>8.280000</td>\n",
              "      <td>35501.000000</td>\n",
              "    </tr>\n",
              "  </tbody>\n",
              "</table>\n",
              "</div>"
            ],
            "text/plain": [
              "       host_listings_count     latitude  ...  reviews_per_month         price\n",
              "count          8997.000000  9000.000000  ...        8999.000000   9000.000000\n",
              "mean              9.105591   -22.966473  ...           0.610770    367.890000\n",
              "std              37.763230     0.031795  ...           0.827369    966.137214\n",
              "min               0.000000   -23.072620  ...           0.010000      0.000000\n",
              "25%               1.000000   -22.984172  ...           0.100000    131.000000\n",
              "50%               2.000000   -22.971590  ...           0.280000    208.000000\n",
              "75%               3.000000   -22.953230  ...           0.770000    374.000000\n",
              "max             340.000000   -22.751700  ...           8.280000  35501.000000\n",
              "\n",
              "[8 rows x 13 columns]"
            ]
          },
          "metadata": {
            "tags": []
          },
          "execution_count": 184
        }
      ]
    },
    {
      "cell_type": "markdown",
      "metadata": {
        "id": "4Pc5nX8eKY4D",
        "colab_type": "text"
      },
      "source": [
        "**Insights**\n",
        "- host_listings_count\n",
        "  - **std** is desproportionate (maybe outliers?)\n",
        "  - probably imputer using **median**, check again after outlier are removed\n",
        "- lat, long: \n",
        "  - **throw away** for reasons of simplicity\n",
        "- accommodates: ok\n",
        "- bathrooms:\n",
        "  - imputer using **median**\n",
        "- bedrooms:\n",
        "  - imputer using **median**\n",
        "- beds:\n",
        "  - imputer using **median**\n",
        "- minimum nights,maximum_nights,number_of_reviews:\n",
        "  - **std** is desproportionate (maybe outliers?)\n",
        "- review_scores_rating: ok\n",
        "- reviews_per_month:\n",
        "  - **std** is desproportionate (maybe outliers?)\n",
        "  - imputer using **median**\n",
        "- **price**:\n",
        "- **std** is desproportionate (maybe outliers?)"
      ]
    },
    {
      "cell_type": "code",
      "metadata": {
        "id": "wa3_iygLRuxU",
        "colab_type": "code",
        "outputId": "8e10dd1e-83f0-4de8-e0f6-9fcc1d08d39c",
        "colab": {
          "base_uri": "https://localhost:8080/",
          "height": 873
        }
      },
      "source": [
        "# trying to confirm the insights\n",
        "numerical_train.plot(kind=\"density\",\n",
        "          subplots=True,\n",
        "          sharex=False,\n",
        "          layout=(5,3),\n",
        "          figsize=(12,12))\n",
        "plt.tight_layout()\n",
        "plt.show()"
      ],
      "execution_count": 0,
      "outputs": [
        {
          "output_type": "display_data",
          "data": {
            "image/png": "[encoded data removed]",
            "text/plain": [
              "<Figure size 864x864 with 15 Axes>"
            ]
          },
          "metadata": {
            "tags": []
          }
        }
      ]
    },
    {
      "cell_type": "code",
      "metadata": {
        "id": "X_tKipxSOQUM",
        "colab_type": "code",
        "outputId": "889275e5-76ae-4734-db0e-1f375c4136ea",
        "colab": {
          "base_uri": "https://localhost:8080/",
          "height": 873
        }
      },
      "source": [
        "# trying to confirm the insights\n",
        "numerical_train.plot(kind=\"box\",\n",
        "                     subplots=True,\n",
        "                     sharex=False,\n",
        "                     layout=(5,3),\n",
        "                     figsize=(12,12))\n",
        "plt.tight_layout()\n",
        "plt.show()"
      ],
      "execution_count": 0,
      "outputs": [
        {
          "output_type": "display_data",
          "data": {
            "image/png": "[encoded data removed]",
            "text/plain": [
              "<Figure size 864x864 with 15 Axes>"
            ]
          },
          "metadata": {
            "tags": []
          }
        }
      ]
    },
    {
      "cell_type": "code",
      "metadata": {
        "id": "2MscUnhpTcBV",
        "colab_type": "code",
        "outputId": "7f9f7a8b-efb4-439c-f6e0-c0db9ef9816f",
        "colab": {
          "base_uri": "https://localhost:8080/",
          "height": 382
        }
      },
      "source": [
        "sns.heatmap(numerical_train.corr())"
      ],
      "execution_count": 0,
      "outputs": [
        {
          "output_type": "execute_result",
          "data": {
            "text/plain": [
              "<matplotlib.axes._subplots.AxesSubplot at 0x7f6b07e683c8>"
            ]
          },
          "metadata": {
            "tags": []
          },
          "execution_count": 187
        },
        {
          "output_type": "display_data",
          "data": {
            "image/png": "[encoded data removed]",
            "text/plain": [
              "<Figure size 432x288 with 2 Axes>"
            ]
          },
          "metadata": {
            "tags": []
          }
        }
      ]
    },
    {
      "cell_type": "code",
      "metadata": {
        "id": "KF_z1w8ZU1qY",
        "colab_type": "code",
        "outputId": "bceaa09a-030b-459c-9722-7051d611d39e",
        "colab": {
          "base_uri": "https://localhost:8080/",
          "height": 259
        }
      },
      "source": [
        "# there is no significant correlation with target column\n",
        "numerical_train.corr()[\"price\"].sort_values(ascending=False)"
      ],
      "execution_count": 0,
      "outputs": [
        {
          "output_type": "execute_result",
          "data": {
            "text/plain": [
              "price                   1.000000\n",
              "bathrooms               0.242736\n",
              "bedrooms                0.236029\n",
              "accommodates            0.201935\n",
              "beds                    0.157388\n",
              "minimum_nights          0.061752\n",
              "review_scores_rating    0.028816\n",
              "host_listings_count     0.021250\n",
              "maximum_nights          0.007182\n",
              "longitude              -0.016096\n",
              "number_of_reviews      -0.051673\n",
              "reviews_per_month      -0.077585\n",
              "latitude               -0.079550\n",
              "Name: price, dtype: float64"
            ]
          },
          "metadata": {
            "tags": []
          },
          "execution_count": 188
        }
      ]
    },
    {
      "cell_type": "code",
      "metadata": {
        "id": "ZN3auadTWbBb",
        "colab_type": "code",
        "outputId": "6c05a344-0826-4559-9aba-0788dc3313e0",
        "colab": {
          "base_uri": "https://localhost:8080/",
          "height": 35
        }
      },
      "source": [
        "# columns with correlations between [0.061,-0.079] are condidate to leave\n",
        "numerical_train.loc[:,(numerical_train.corr()[\"price\"] > 0.062)].columns"
      ],
      "execution_count": 0,
      "outputs": [
        {
          "output_type": "execute_result",
          "data": {
            "text/plain": [
              "Index(['accommodates', 'bathrooms', 'bedrooms', 'beds', 'price'], dtype='object')"
            ]
          },
          "metadata": {
            "tags": []
          },
          "execution_count": 189
        }
      ]
    },
    {
      "cell_type": "code",
      "metadata": {
        "id": "8FhadvXQVOjh",
        "colab_type": "code",
        "outputId": "7fb81333-2cdd-4c2a-b5c7-8fa0401d0782",
        "colab": {
          "base_uri": "https://localhost:8080/",
          "height": 121
        }
      },
      "source": [
        "# colinearity problem\n",
        "numerical_train.corr()[\"accommodates\"].sort_values(ascending=False)[:5]"
      ],
      "execution_count": 0,
      "outputs": [
        {
          "output_type": "execute_result",
          "data": {
            "text/plain": [
              "accommodates    1.000000\n",
              "beds            0.795496\n",
              "bedrooms        0.702192\n",
              "bathrooms       0.594450\n",
              "price           0.201935\n",
              "Name: accommodates, dtype: float64"
            ]
          },
          "metadata": {
            "tags": []
          },
          "execution_count": 190
        }
      ]
    },
    {
      "cell_type": "code",
      "metadata": {
        "id": "YHNUwqivZze3",
        "colab_type": "code",
        "colab": {}
      },
      "source": [
        "def clean_outliers(data, algorithm='iqr'):\n",
        "  df = data.copy()\n",
        "  if algorithm == \"iqr\":\n",
        "    Q1 = df.quantile(0.25)\n",
        "    Q3 = df.quantile(0.75)\n",
        "    IQR = Q3 - Q1\n",
        "    low = Q1 - 1.5 * IQR\n",
        "    up = Q3 + 1.5 * IQR\n",
        "    df = df[((df > low).all(axis=1) & (df < up).all(axis=1))]\n",
        "  elif algorithm == \"z-score\":\n",
        "    df = pd.DataFrame(StandardScaler().fit_transform(df),\n",
        "                            columns=df.columns,\n",
        "                            index=df.index)\n",
        "    df = df[(df < 2.698).all(axis=1) & (df > -2.698).all(axis=1)]\n",
        "  return df"
      ],
      "execution_count": 0,
      "outputs": []
    },
    {
      "cell_type": "code",
      "metadata": {
        "id": "J3aIDbvPZ1-Q",
        "colab_type": "code",
        "colab": {}
      },
      "source": [
        "df = clean_outliers(numerical_train)"
      ],
      "execution_count": 0,
      "outputs": []
    },
    {
      "cell_type": "code",
      "metadata": {
        "id": "AaX4anJVZ88e",
        "colab_type": "code",
        "outputId": "49c6d957-8870-475b-e374-df6b810041b0",
        "colab": {
          "base_uri": "https://localhost:8080/",
          "height": 35
        }
      },
      "source": [
        "df.shape"
      ],
      "execution_count": 0,
      "outputs": [
        {
          "output_type": "execute_result",
          "data": {
            "text/plain": [
              "(3131, 13)"
            ]
          },
          "metadata": {
            "tags": []
          },
          "execution_count": 299
        }
      ]
    },
    {
      "cell_type": "markdown",
      "metadata": {
        "id": "X-UmLV_Relv-",
        "colab_type": "text"
      },
      "source": [
        "**Summarization notes**\n",
        "- outliers can matters\n",
        "- eliminate columns with small (< 0.06) correlation to target (price)\n",
        "- normalization can be used\n",
        "- multicolinearity issues"
      ]
    },
    {
      "cell_type": "markdown",
      "metadata": {
        "id": "4Hb6zmD7eaQ0",
        "colab_type": "text"
      },
      "source": [
        "### EDA for categorical columns"
      ]
    },
    {
      "cell_type": "code",
      "metadata": {
        "id": "jq45K4VQeeqk",
        "colab_type": "code",
        "colab": {}
      },
      "source": [
        "# 9 \"object\" columns\n",
        "categorical_cols  = train.select_dtypes([\"object\"]).columns.to_list()\n",
        "categorical_train = train[categorical_cols].copy()"
      ],
      "execution_count": 0,
      "outputs": []
    },
    {
      "cell_type": "code",
      "metadata": {
        "id": "nyYjMH3igBY4",
        "colab_type": "code",
        "outputId": "0cd82451-e099-4de3-c19c-da240d62c998",
        "colab": {
          "base_uri": "https://localhost:8080/",
          "height": 305
        }
      },
      "source": [
        "categorical_train.head()"
      ],
      "execution_count": 0,
      "outputs": [
        {
          "output_type": "execute_result",
          "data": {
            "text/html": [
              "<div>\n",
              "<style scoped>\n",
              "    .dataframe tbody tr th:only-of-type {\n",
              "        vertical-align: middle;\n",
              "    }\n",
              "\n",
              "    .dataframe tbody tr th {\n",
              "        vertical-align: top;\n",
              "    }\n",
              "\n",
              "    .dataframe thead th {\n",
              "        text-align: right;\n",
              "    }\n",
              "</style>\n",
              "<table border=\"1\" class=\"dataframe\">\n",
              "  <thead>\n",
              "    <tr style=\"text-align: right;\">\n",
              "      <th></th>\n",
              "      <th>host_response_time</th>\n",
              "      <th>host_response_rate</th>\n",
              "      <th>host_neighbourhood</th>\n",
              "      <th>neighbourhood</th>\n",
              "      <th>city</th>\n",
              "      <th>state</th>\n",
              "      <th>zipcode</th>\n",
              "      <th>property_type</th>\n",
              "      <th>room_type</th>\n",
              "      <th>bed_type</th>\n",
              "      <th>security_deposit</th>\n",
              "      <th>cleaning_fee</th>\n",
              "      <th>extra_people</th>\n",
              "    </tr>\n",
              "  </thead>\n",
              "  <tbody>\n",
              "    <tr>\n",
              "      <th>0</th>\n",
              "      <td>within an hour</td>\n",
              "      <td>84%</td>\n",
              "      <td>Ipanema</td>\n",
              "      <td>Ipanema</td>\n",
              "      <td>Rio De Janeiro</td>\n",
              "      <td>Rj</td>\n",
              "      <td>22411-002</td>\n",
              "      <td>Apartment</td>\n",
              "      <td>Entire home/apt</td>\n",
              "      <td>Real Bed</td>\n",
              "      <td>$500.00</td>\n",
              "      <td>$130.00</td>\n",
              "      <td>$23.00</td>\n",
              "    </tr>\n",
              "    <tr>\n",
              "      <th>1</th>\n",
              "      <td>within a day</td>\n",
              "      <td>50%</td>\n",
              "      <td>Barra da Tijuca</td>\n",
              "      <td>Barra da Tijuca</td>\n",
              "      <td>Barra da Tijuca</td>\n",
              "      <td>Rio de Janeiro</td>\n",
              "      <td>22630-010</td>\n",
              "      <td>Apartment</td>\n",
              "      <td>Entire home/apt</td>\n",
              "      <td>Real Bed</td>\n",
              "      <td>NaN</td>\n",
              "      <td>NaN</td>\n",
              "      <td>$0.00</td>\n",
              "    </tr>\n",
              "    <tr>\n",
              "      <th>2</th>\n",
              "      <td>within an hour</td>\n",
              "      <td>99%</td>\n",
              "      <td>Ipanema</td>\n",
              "      <td>Copacabana</td>\n",
              "      <td>Copacabana</td>\n",
              "      <td>Rio de Janeiro</td>\n",
              "      <td>22081-010</td>\n",
              "      <td>Apartment</td>\n",
              "      <td>Entire home/apt</td>\n",
              "      <td>Real Bed</td>\n",
              "      <td>$1,000.00</td>\n",
              "      <td>$190.00</td>\n",
              "      <td>$48.00</td>\n",
              "    </tr>\n",
              "    <tr>\n",
              "      <th>3</th>\n",
              "      <td>within a few hours</td>\n",
              "      <td>100%</td>\n",
              "      <td>Lagoa</td>\n",
              "      <td>Lagoa</td>\n",
              "      <td>Rio de Janeiro</td>\n",
              "      <td>Rio de Janeiro</td>\n",
              "      <td>22061</td>\n",
              "      <td>Apartment</td>\n",
              "      <td>Entire home/apt</td>\n",
              "      <td>Real Bed</td>\n",
              "      <td>$1,972.00</td>\n",
              "      <td>$498.00</td>\n",
              "      <td>$174.00</td>\n",
              "    </tr>\n",
              "    <tr>\n",
              "      <th>4</th>\n",
              "      <td>within a day</td>\n",
              "      <td>75%</td>\n",
              "      <td>Joá</td>\n",
              "      <td>Joá</td>\n",
              "      <td>Rio de Janeiro</td>\n",
              "      <td>RJ</td>\n",
              "      <td>22611-021</td>\n",
              "      <td>House</td>\n",
              "      <td>Entire home/apt</td>\n",
              "      <td>Real Bed</td>\n",
              "      <td>NaN</td>\n",
              "      <td>NaN</td>\n",
              "      <td>$100.00</td>\n",
              "    </tr>\n",
              "  </tbody>\n",
              "</table>\n",
              "</div>"
            ],
            "text/plain": [
              "   host_response_time host_response_rate  ... cleaning_fee extra_people\n",
              "0      within an hour                84%  ...      $130.00       $23.00\n",
              "1        within a day                50%  ...          NaN        $0.00\n",
              "2      within an hour                99%  ...      $190.00       $48.00\n",
              "3  within a few hours               100%  ...      $498.00      $174.00\n",
              "4        within a day                75%  ...          NaN      $100.00\n",
              "\n",
              "[5 rows x 13 columns]"
            ]
          },
          "metadata": {
            "tags": []
          },
          "execution_count": 192
        }
      ]
    },
    {
      "cell_type": "code",
      "metadata": {
        "id": "9swyLbFjgKgD",
        "colab_type": "code",
        "outputId": "59d212b9-d7e8-4b9d-b59f-c3a4126d6913",
        "colab": {
          "base_uri": "https://localhost:8080/",
          "height": 854
        }
      },
      "source": [
        "# who is missing?\n",
        "msno.matrix(categorical_train,figsize=(10,8))\n",
        "categorical_train.isnull().sum()"
      ],
      "execution_count": 0,
      "outputs": [
        {
          "output_type": "execute_result",
          "data": {
            "text/plain": [
              "host_response_time    2511\n",
              "host_response_rate    2511\n",
              "host_neighbourhood    2656\n",
              "neighbourhood          252\n",
              "city                    12\n",
              "state                   10\n",
              "zipcode                397\n",
              "property_type            0\n",
              "room_type                0\n",
              "bed_type                 0\n",
              "security_deposit      3001\n",
              "cleaning_fee          1746\n",
              "extra_people             0\n",
              "dtype: int64"
            ]
          },
          "metadata": {
            "tags": []
          },
          "execution_count": 193
        },
        {
          "output_type": "display_data",
          "data": {
            "image/png": "[encoded data removed]",
            "text/plain": [
              "<Figure size 720x576 with 2 Axes>"
            ]
          },
          "metadata": {
            "tags": []
          }
        }
      ]
    },
    {
      "cell_type": "code",
      "metadata": {
        "id": "agSJ4_TijN-u",
        "colab_type": "code",
        "outputId": "9aef1d9b-37af-4c00-bea8-91a4df27dd32",
        "colab": {
          "base_uri": "https://localhost:8080/",
          "height": 339
        }
      },
      "source": [
        "# zipcode can be used to identify the neighourhood when the latter is missing\n",
        "categorical_train[categorical_train.neighbourhood.isnull()].head()"
      ],
      "execution_count": 0,
      "outputs": [
        {
          "output_type": "execute_result",
          "data": {
            "text/html": [
              "<div>\n",
              "<style scoped>\n",
              "    .dataframe tbody tr th:only-of-type {\n",
              "        vertical-align: middle;\n",
              "    }\n",
              "\n",
              "    .dataframe tbody tr th {\n",
              "        vertical-align: top;\n",
              "    }\n",
              "\n",
              "    .dataframe thead th {\n",
              "        text-align: right;\n",
              "    }\n",
              "</style>\n",
              "<table border=\"1\" class=\"dataframe\">\n",
              "  <thead>\n",
              "    <tr style=\"text-align: right;\">\n",
              "      <th></th>\n",
              "      <th>host_response_time</th>\n",
              "      <th>host_response_rate</th>\n",
              "      <th>host_neighbourhood</th>\n",
              "      <th>neighbourhood</th>\n",
              "      <th>city</th>\n",
              "      <th>state</th>\n",
              "      <th>zipcode</th>\n",
              "      <th>property_type</th>\n",
              "      <th>room_type</th>\n",
              "      <th>bed_type</th>\n",
              "      <th>security_deposit</th>\n",
              "      <th>cleaning_fee</th>\n",
              "      <th>extra_people</th>\n",
              "    </tr>\n",
              "  </thead>\n",
              "  <tbody>\n",
              "    <tr>\n",
              "      <th>44</th>\n",
              "      <td>within a few hours</td>\n",
              "      <td>100%</td>\n",
              "      <td>NaN</td>\n",
              "      <td>NaN</td>\n",
              "      <td>Jacarepagua</td>\n",
              "      <td>Rio de Janeiro</td>\n",
              "      <td>22775-033</td>\n",
              "      <td>Condominium</td>\n",
              "      <td>Entire home/apt</td>\n",
              "      <td>Real Bed</td>\n",
              "      <td>$0.00</td>\n",
              "      <td>$150.00</td>\n",
              "      <td>$0.00</td>\n",
              "    </tr>\n",
              "    <tr>\n",
              "      <th>46</th>\n",
              "      <td>NaN</td>\n",
              "      <td>NaN</td>\n",
              "      <td>Barra da Tijuca</td>\n",
              "      <td>NaN</td>\n",
              "      <td>Rio de Janeiro</td>\n",
              "      <td>Rio de Janeiro</td>\n",
              "      <td>21920-001</td>\n",
              "      <td>Apartment</td>\n",
              "      <td>Entire home/apt</td>\n",
              "      <td>Real Bed</td>\n",
              "      <td>$700.00</td>\n",
              "      <td>$130.00</td>\n",
              "      <td>$50.00</td>\n",
              "    </tr>\n",
              "    <tr>\n",
              "      <th>117</th>\n",
              "      <td>within a few hours</td>\n",
              "      <td>100%</td>\n",
              "      <td>NaN</td>\n",
              "      <td>NaN</td>\n",
              "      <td>Campo Grande</td>\n",
              "      <td>Rio de Janeiro</td>\n",
              "      <td>23070-470</td>\n",
              "      <td>House</td>\n",
              "      <td>Entire home/apt</td>\n",
              "      <td>Real Bed</td>\n",
              "      <td>NaN</td>\n",
              "      <td>$100.00</td>\n",
              "      <td>$50.00</td>\n",
              "    </tr>\n",
              "    <tr>\n",
              "      <th>131</th>\n",
              "      <td>NaN</td>\n",
              "      <td>NaN</td>\n",
              "      <td>NaN</td>\n",
              "      <td>NaN</td>\n",
              "      <td>Rio de Janeiro</td>\n",
              "      <td>Rio de Janeiro</td>\n",
              "      <td>20531</td>\n",
              "      <td>House</td>\n",
              "      <td>Entire home/apt</td>\n",
              "      <td>Real Bed</td>\n",
              "      <td>NaN</td>\n",
              "      <td>NaN</td>\n",
              "      <td>$0.00</td>\n",
              "    </tr>\n",
              "    <tr>\n",
              "      <th>132</th>\n",
              "      <td>within an hour</td>\n",
              "      <td>100%</td>\n",
              "      <td>NaN</td>\n",
              "      <td>NaN</td>\n",
              "      <td>Rio de Janeiro, Rio de Janeiro, BR</td>\n",
              "      <td>RJ</td>\n",
              "      <td>NaN</td>\n",
              "      <td>House</td>\n",
              "      <td>Private room</td>\n",
              "      <td>Real Bed</td>\n",
              "      <td>$0.00</td>\n",
              "      <td>$58.00</td>\n",
              "      <td>$42.00</td>\n",
              "    </tr>\n",
              "  </tbody>\n",
              "</table>\n",
              "</div>"
            ],
            "text/plain": [
              "     host_response_time host_response_rate  ... cleaning_fee extra_people\n",
              "44   within a few hours               100%  ...      $150.00        $0.00\n",
              "46                  NaN                NaN  ...      $130.00       $50.00\n",
              "117  within a few hours               100%  ...      $100.00       $50.00\n",
              "131                 NaN                NaN  ...          NaN        $0.00\n",
              "132      within an hour               100%  ...       $58.00       $42.00\n",
              "\n",
              "[5 rows x 13 columns]"
            ]
          },
          "metadata": {
            "tags": []
          },
          "execution_count": 194
        }
      ]
    },
    {
      "cell_type": "code",
      "metadata": {
        "id": "jVjWA4LP_CUf",
        "colab_type": "code",
        "outputId": "35ec425d-7aa2-4cba-b959-55f42ae74cf1",
        "colab": {
          "base_uri": "https://localhost:8080/",
          "height": 950
        }
      },
      "source": [
        "# investigate missings values on neighbourhood column\n",
        "# majority come from west zones\n",
        "categorical_train.loc[categorical_train.neighbourhood.isnull(),[\"neighbourhood\",\"zipcode\"]].zipcode.str[:5].value_counts()"
      ],
      "execution_count": 0,
      "outputs": [
        {
          "output_type": "execute_result",
          "data": {
            "text/plain": [
              "22780    62\n",
              "22641    13\n",
              "21931    12\n",
              "22785    12\n",
              "22783    10\n",
              "22770     9\n",
              "21940     9\n",
              "22750     8\n",
              "22765     7\n",
              "22753     6\n",
              "22740     6\n",
              "22745     6\n",
              "21920     5\n",
              "21941     5\n",
              "20397     5\n",
              "22755     5\n",
              "22710     4\n",
              "21321     4\n",
              "22730     4\n",
              "22743     3\n",
              "22775     3\n",
              "20531     3\n",
              "22720     3\n",
              "22725     2\n",
              "23090     2\n",
              "22723     2\n",
              "23055     2\n",
              "21930     2\n",
              "23070     2\n",
              "23093     1\n",
              "21820     1\n",
              "20396     1\n",
              "22531     1\n",
              "42833     1\n",
              "23575     1\n",
              "21810     1\n",
              "21833     1\n",
              "23026     1\n",
              "23545     1\n",
              "23050     1\n",
              "22790     1\n",
              "23020     1\n",
              "23035     1\n",
              "21320     1\n",
              "20535     1\n",
              "21932     1\n",
              "23017     1\n",
              "22713     1\n",
              "22711     1\n",
              "2104-     1\n",
              "22760     1\n",
              "22735     1\n",
              "21741     1\n",
              "Name: zipcode, dtype: int64"
            ]
          },
          "metadata": {
            "tags": []
          },
          "execution_count": 195
        }
      ]
    },
    {
      "cell_type": "code",
      "metadata": {
        "id": "3h1HM5xLp73r",
        "colab_type": "code",
        "outputId": "3f1c54d0-ccf1-42b4-bfdf-e80c5b681f04",
        "colab": {
          "base_uri": "https://localhost:8080/",
          "height": 205
        }
      },
      "source": [
        "categorical_train.describe()"
      ],
      "execution_count": 0,
      "outputs": [
        {
          "output_type": "execute_result",
          "data": {
            "text/html": [
              "<div>\n",
              "<style scoped>\n",
              "    .dataframe tbody tr th:only-of-type {\n",
              "        vertical-align: middle;\n",
              "    }\n",
              "\n",
              "    .dataframe tbody tr th {\n",
              "        vertical-align: top;\n",
              "    }\n",
              "\n",
              "    .dataframe thead th {\n",
              "        text-align: right;\n",
              "    }\n",
              "</style>\n",
              "<table border=\"1\" class=\"dataframe\">\n",
              "  <thead>\n",
              "    <tr style=\"text-align: right;\">\n",
              "      <th></th>\n",
              "      <th>host_response_time</th>\n",
              "      <th>host_response_rate</th>\n",
              "      <th>host_neighbourhood</th>\n",
              "      <th>neighbourhood</th>\n",
              "      <th>city</th>\n",
              "      <th>state</th>\n",
              "      <th>zipcode</th>\n",
              "      <th>property_type</th>\n",
              "      <th>room_type</th>\n",
              "      <th>bed_type</th>\n",
              "      <th>security_deposit</th>\n",
              "      <th>cleaning_fee</th>\n",
              "      <th>extra_people</th>\n",
              "    </tr>\n",
              "  </thead>\n",
              "  <tbody>\n",
              "    <tr>\n",
              "      <th>count</th>\n",
              "      <td>6489</td>\n",
              "      <td>6489</td>\n",
              "      <td>6344</td>\n",
              "      <td>8748</td>\n",
              "      <td>8988</td>\n",
              "      <td>8990</td>\n",
              "      <td>8603</td>\n",
              "      <td>9000</td>\n",
              "      <td>9000</td>\n",
              "      <td>9000</td>\n",
              "      <td>5999</td>\n",
              "      <td>7254</td>\n",
              "      <td>9000</td>\n",
              "    </tr>\n",
              "    <tr>\n",
              "      <th>unique</th>\n",
              "      <td>4</td>\n",
              "      <td>67</td>\n",
              "      <td>94</td>\n",
              "      <td>75</td>\n",
              "      <td>127</td>\n",
              "      <td>27</td>\n",
              "      <td>1795</td>\n",
              "      <td>29</td>\n",
              "      <td>3</td>\n",
              "      <td>5</td>\n",
              "      <td>331</td>\n",
              "      <td>251</td>\n",
              "      <td>187</td>\n",
              "    </tr>\n",
              "    <tr>\n",
              "      <th>top</th>\n",
              "      <td>within an hour</td>\n",
              "      <td>100%</td>\n",
              "      <td>Copacabana</td>\n",
              "      <td>Copacabana</td>\n",
              "      <td>Rio de Janeiro</td>\n",
              "      <td>Rio de Janeiro</td>\n",
              "      <td>22050-002</td>\n",
              "      <td>Apartment</td>\n",
              "      <td>Entire home/apt</td>\n",
              "      <td>Real Bed</td>\n",
              "      <td>$0.00</td>\n",
              "      <td>$150.00</td>\n",
              "      <td>$0.00</td>\n",
              "    </tr>\n",
              "    <tr>\n",
              "      <th>freq</th>\n",
              "      <td>3194</td>\n",
              "      <td>4183</td>\n",
              "      <td>2190</td>\n",
              "      <td>2736</td>\n",
              "      <td>5275</td>\n",
              "      <td>7947</td>\n",
              "      <td>112</td>\n",
              "      <td>7049</td>\n",
              "      <td>6517</td>\n",
              "      <td>8855</td>\n",
              "      <td>2433</td>\n",
              "      <td>1264</td>\n",
              "      <td>4380</td>\n",
              "    </tr>\n",
              "  </tbody>\n",
              "</table>\n",
              "</div>"
            ],
            "text/plain": [
              "       host_response_time host_response_rate  ... cleaning_fee extra_people\n",
              "count                6489               6489  ...         7254         9000\n",
              "unique                  4                 67  ...          251          187\n",
              "top        within an hour               100%  ...      $150.00        $0.00\n",
              "freq                 3194               4183  ...         1264         4380\n",
              "\n",
              "[4 rows x 13 columns]"
            ]
          },
          "metadata": {
            "tags": []
          },
          "execution_count": 196
        }
      ]
    },
    {
      "cell_type": "code",
      "metadata": {
        "id": "V0WF0TDpkiEQ",
        "colab_type": "code",
        "colab": {}
      },
      "source": [
        "pd.crosstab(categorical_train.property_type,categorical_train.neighbourhood)"
      ],
      "execution_count": 0,
      "outputs": []
    },
    {
      "cell_type": "code",
      "metadata": {
        "id": "SBw84jPJiphI",
        "colab_type": "code",
        "outputId": "655b9f3a-073c-46d7-c550-cb99ca3349fa",
        "colab": {
          "base_uri": "https://localhost:8080/",
          "height": 228
        }
      },
      "source": [
        "pd.crosstab(categorical_train.bed_type,categorical_train.room_type)"
      ],
      "execution_count": 0,
      "outputs": [
        {
          "output_type": "execute_result",
          "data": {
            "text/html": [
              "<div>\n",
              "<style scoped>\n",
              "    .dataframe tbody tr th:only-of-type {\n",
              "        vertical-align: middle;\n",
              "    }\n",
              "\n",
              "    .dataframe tbody tr th {\n",
              "        vertical-align: top;\n",
              "    }\n",
              "\n",
              "    .dataframe thead th {\n",
              "        text-align: right;\n",
              "    }\n",
              "</style>\n",
              "<table border=\"1\" class=\"dataframe\">\n",
              "  <thead>\n",
              "    <tr style=\"text-align: right;\">\n",
              "      <th>room_type</th>\n",
              "      <th>Entire home/apt</th>\n",
              "      <th>Private room</th>\n",
              "      <th>Shared room</th>\n",
              "    </tr>\n",
              "    <tr>\n",
              "      <th>bed_type</th>\n",
              "      <th></th>\n",
              "      <th></th>\n",
              "      <th></th>\n",
              "    </tr>\n",
              "  </thead>\n",
              "  <tbody>\n",
              "    <tr>\n",
              "      <th>Airbed</th>\n",
              "      <td>3</td>\n",
              "      <td>6</td>\n",
              "      <td>2</td>\n",
              "    </tr>\n",
              "    <tr>\n",
              "      <th>Couch</th>\n",
              "      <td>6</td>\n",
              "      <td>0</td>\n",
              "      <td>2</td>\n",
              "    </tr>\n",
              "    <tr>\n",
              "      <th>Futon</th>\n",
              "      <td>14</td>\n",
              "      <td>13</td>\n",
              "      <td>0</td>\n",
              "    </tr>\n",
              "    <tr>\n",
              "      <th>Pull-out Sofa</th>\n",
              "      <td>49</td>\n",
              "      <td>46</td>\n",
              "      <td>4</td>\n",
              "    </tr>\n",
              "    <tr>\n",
              "      <th>Real Bed</th>\n",
              "      <td>6445</td>\n",
              "      <td>2252</td>\n",
              "      <td>158</td>\n",
              "    </tr>\n",
              "  </tbody>\n",
              "</table>\n",
              "</div>"
            ],
            "text/plain": [
              "room_type      Entire home/apt  Private room  Shared room\n",
              "bed_type                                                 \n",
              "Airbed                       3             6            2\n",
              "Couch                        6             0            2\n",
              "Futon                       14            13            0\n",
              "Pull-out Sofa               49            46            4\n",
              "Real Bed                  6445          2252          158"
            ]
          },
          "metadata": {
            "tags": []
          },
          "execution_count": 198
        }
      ]
    },
    {
      "cell_type": "code",
      "metadata": {
        "id": "HkRiEztCiPVh",
        "colab_type": "code",
        "outputId": "f3052b82-90ee-4322-adc7-60c49fed5e41",
        "colab": {
          "base_uri": "https://localhost:8080/",
          "height": 121
        }
      },
      "source": [
        "categorical_train.bed_type.value_counts()"
      ],
      "execution_count": 0,
      "outputs": [
        {
          "output_type": "execute_result",
          "data": {
            "text/plain": [
              "Real Bed         8855\n",
              "Pull-out Sofa      99\n",
              "Futon              27\n",
              "Airbed             11\n",
              "Couch               8\n",
              "Name: bed_type, dtype: int64"
            ]
          },
          "metadata": {
            "tags": []
          },
          "execution_count": 199
        }
      ]
    },
    {
      "cell_type": "code",
      "metadata": {
        "id": "Z2bH5eGsiHT9",
        "colab_type": "code",
        "outputId": "4bd79071-c930-4561-9252-1eadf2068ea3",
        "colab": {
          "base_uri": "https://localhost:8080/",
          "height": 86
        }
      },
      "source": [
        "categorical_train.room_type.value_counts()"
      ],
      "execution_count": 0,
      "outputs": [
        {
          "output_type": "execute_result",
          "data": {
            "text/plain": [
              "Entire home/apt    6517\n",
              "Private room       2317\n",
              "Shared room         166\n",
              "Name: room_type, dtype: int64"
            ]
          },
          "metadata": {
            "tags": []
          },
          "execution_count": 200
        }
      ]
    },
    {
      "cell_type": "code",
      "metadata": {
        "id": "xmBtw90R52YS",
        "colab_type": "code",
        "outputId": "0b1f419c-2b3f-4171-91e1-0c5f21715c1b",
        "colab": {
          "base_uri": "https://localhost:8080/",
          "height": 535
        }
      },
      "source": [
        "categorical_train.property_type.value_counts()"
      ],
      "execution_count": 0,
      "outputs": [
        {
          "output_type": "execute_result",
          "data": {
            "text/plain": [
              "Apartment                 7049\n",
              "House                      624\n",
              "Condominium                457\n",
              "Serviced apartment         303\n",
              "Loft                       212\n",
              "Bed and breakfast           60\n",
              "Guest suite                 55\n",
              "Hostel                      39\n",
              "Guesthouse                  37\n",
              "Townhouse                   33\n",
              "Aparthotel                  33\n",
              "Other                       19\n",
              "Villa                       17\n",
              "Boutique hotel              14\n",
              "Hotel                       14\n",
              "Chalet                       6\n",
              "Tiny house                   5\n",
              "Earth house                  5\n",
              "Cottage                      3\n",
              "Nature lodge                 3\n",
              "Bungalow                     2\n",
              "Cabin                        2\n",
              "Boat                         2\n",
              "Farm stay                    1\n",
              "Barn                         1\n",
              "Dorm                         1\n",
              "Treehouse                    1\n",
              "Castle                       1\n",
              "Casa particular (Cuba)       1\n",
              "Name: property_type, dtype: int64"
            ]
          },
          "metadata": {
            "tags": []
          },
          "execution_count": 25
        }
      ]
    },
    {
      "cell_type": "code",
      "metadata": {
        "id": "annOysMz-Z3G",
        "colab_type": "code",
        "colab": {}
      },
      "source": [
        "south = [\"Copacabana\",\"Ipanema\",\"Leblon\",\"Botafogo\",\"Flamengo\",\"Leme\",\"Laranjeiras\",\"Glória\",\n",
        "         \"Catete\",\"Lagoa\",\"Jardim Botânico\",\"Gávea\",\"Humaitá\",\"São Conrado\",\"Vidigal\",\n",
        "         \"Urca\",\"Cosme Velho\",\"Rocinha\"]\n",
        "central = [\"Santa Teresa\",\"Centro\",\"Lapa\",\"São Cristóvão\",\"Rio Comprido\",\"Estacio\",\n",
        "           \"Gamboa\",\"Cidade Nova\",\"Santo Cristo\",\"Mangueira\",\"Benfica\",\"Saúde\",\n",
        "           \"Catumbi\",\"Caju\"]\n",
        "west = [\"Barra da Tijuca\",\"Recreio dos Bandeirantes\",\"Barra de Guaratiba\",\"Joá\"]\n",
        "north = [\"Tijuca\",\"Maracanã\",\"Vila Isabel\",\"Grajaú\",\"Praça da Bandeira\",\"Andaraí\",\"Engenho Novo\",\n",
        "         \"Engenho de Dentro\",\"Del Castilho\",\"Todos os Santos\",\"Marechal Hermes\",\"Penha\",\n",
        "         \"Irajá\", \"Cachambi\", \"Rocha\",\"Brás de Pina\", \"Cascadura\", \"Bento Ribeiro\",\"Maria da Graça\",\n",
        "         \"Inhaúma\",\"Méier\",\"Quintino Bocaiúva\",\"Sampaio\",\"Pilares\",\"Madureira\",\"Parada de Lucas\",\n",
        "         \"Guadalupe\",\"Lins de Vasconcelos\",\"Coelho Neto\",\"Engenho da Rainha\",\"Encantado\",\n",
        "         \"Tomás Coelho\",\"Penha Circular\",\"Parque Anchieta\",\"Piedade\",\"Oswaldo Cruz\",\"Complexo de Alemão\",\n",
        "         \"Riachuelo\",\"Vincente de Carvalho\"]"
      ],
      "execution_count": 0,
      "outputs": []
    },
    {
      "cell_type": "code",
      "metadata": {
        "id": "1vPoVf1189Yk",
        "colab_type": "code",
        "colab": {}
      },
      "source": [
        "categorical_train.neighbourhood.value_counts()"
      ],
      "execution_count": 0,
      "outputs": []
    },
    {
      "cell_type": "markdown",
      "metadata": {
        "id": "fwKyihOAouGW",
        "colab_type": "text"
      },
      "source": [
        "**insights**\n",
        "- remove columns with missings values greater than 1,000\n",
        "- **city, state** make no sense in this problem\n",
        "- remains: **neighbourhood, property_type, room_type, bed_type, extra_people**\n",
        "- **bed_type** can be split into \"Real Bed\" and \"Other\".\n",
        "- **extra_people** can be manipulate in order to transfom into a numerical column\n",
        "- **neighbourhood**: maybe handle neighbourhood organized in zones/regions (north, west, east, south)?\n",
        "- **property_type**: size less or equal than 60 can be classified as \"Other\""
      ]
    },
    {
      "cell_type": "markdown",
      "metadata": {
        "id": "yW1ZAOwhzBVo",
        "colab_type": "text"
      },
      "source": [
        "## Clean, prepare, and manipulate data"
      ]
    },
    {
      "cell_type": "code",
      "metadata": {
        "id": "aRRi_01ENXTz",
        "colab_type": "code",
        "colab": {}
      },
      "source": [
        "# Pipeline\n",
        "# Custom Transformer that extracts columns passed as argument to its constructor \n",
        "class FeatureSelector( BaseEstimator, TransformerMixin ):\n",
        "    #Class Constructor \n",
        "    def __init__( self, feature_names ):\n",
        "        self.feature_names = feature_names \n",
        "    \n",
        "    #Return self nothing else to do here    \n",
        "    def fit( self, X, y = None ):\n",
        "        return self \n",
        "    \n",
        "    #Method that describes what we need this transformer to do\n",
        "    def transform( self, X, y = None ):\n",
        "        return X[self.feature_names ] "
      ],
      "execution_count": 0,
      "outputs": []
    },
    {
      "cell_type": "code",
      "metadata": {
        "id": "Q_ARNRBHNu2V",
        "colab_type": "code",
        "colab": {}
      },
      "source": [
        "# validation\n",
        "# model_fs = FeatureSelector (numerical_cols2)\n",
        "# model_fs.fit_transform(train)"
      ],
      "execution_count": 0,
      "outputs": []
    },
    {
      "cell_type": "markdown",
      "metadata": {
        "id": "ntiZmRfIER6U",
        "colab_type": "text"
      },
      "source": [
        "### Numerical columns"
      ]
    },
    {
      "cell_type": "code",
      "metadata": {
        "id": "fCDLBvIVzlCn",
        "colab_type": "code",
        "outputId": "80125689-082e-4d37-823c-fcd01d38804c",
        "colab": {
          "base_uri": "https://localhost:8080/",
          "height": 198
        }
      },
      "source": [
        "# columns with correlations between [0.061,-0.079] are condidate to leave\n",
        "# filter all of them\n",
        "numerical_cols2 = numerical_train.loc[:,(numerical_train.corr()[\"price\"] > 0.062)].columns.to_list()\n",
        "numerical_train2 = train[numerical_cols2]\n",
        "numerical_train2.head()"
      ],
      "execution_count": 0,
      "outputs": [
        {
          "output_type": "execute_result",
          "data": {
            "text/html": [
              "<div>\n",
              "<style scoped>\n",
              "    .dataframe tbody tr th:only-of-type {\n",
              "        vertical-align: middle;\n",
              "    }\n",
              "\n",
              "    .dataframe tbody tr th {\n",
              "        vertical-align: top;\n",
              "    }\n",
              "\n",
              "    .dataframe thead th {\n",
              "        text-align: right;\n",
              "    }\n",
              "</style>\n",
              "<table border=\"1\" class=\"dataframe\">\n",
              "  <thead>\n",
              "    <tr style=\"text-align: right;\">\n",
              "      <th></th>\n",
              "      <th>accommodates</th>\n",
              "      <th>bathrooms</th>\n",
              "      <th>bedrooms</th>\n",
              "      <th>beds</th>\n",
              "      <th>price</th>\n",
              "    </tr>\n",
              "  </thead>\n",
              "  <tbody>\n",
              "    <tr>\n",
              "      <th>0</th>\n",
              "      <td>4</td>\n",
              "      <td>2.0</td>\n",
              "      <td>2.0</td>\n",
              "      <td>2.0</td>\n",
              "      <td>309.0</td>\n",
              "    </tr>\n",
              "    <tr>\n",
              "      <th>1</th>\n",
              "      <td>2</td>\n",
              "      <td>1.0</td>\n",
              "      <td>1.0</td>\n",
              "      <td>1.0</td>\n",
              "      <td>351.0</td>\n",
              "    </tr>\n",
              "    <tr>\n",
              "      <th>2</th>\n",
              "      <td>8</td>\n",
              "      <td>3.5</td>\n",
              "      <td>3.0</td>\n",
              "      <td>7.0</td>\n",
              "      <td>398.0</td>\n",
              "    </tr>\n",
              "    <tr>\n",
              "      <th>3</th>\n",
              "      <td>10</td>\n",
              "      <td>3.0</td>\n",
              "      <td>3.0</td>\n",
              "      <td>6.0</td>\n",
              "      <td>849.0</td>\n",
              "    </tr>\n",
              "    <tr>\n",
              "      <th>4</th>\n",
              "      <td>2</td>\n",
              "      <td>1.5</td>\n",
              "      <td>1.0</td>\n",
              "      <td>2.0</td>\n",
              "      <td>70.0</td>\n",
              "    </tr>\n",
              "  </tbody>\n",
              "</table>\n",
              "</div>"
            ],
            "text/plain": [
              "   accommodates  bathrooms  bedrooms  beds  price\n",
              "0             4        2.0       2.0   2.0  309.0\n",
              "1             2        1.0       1.0   1.0  351.0\n",
              "2             8        3.5       3.0   7.0  398.0\n",
              "3            10        3.0       3.0   6.0  849.0\n",
              "4             2        1.5       1.0   2.0   70.0"
            ]
          },
          "metadata": {
            "tags": []
          },
          "execution_count": 203
        }
      ]
    },
    {
      "cell_type": "code",
      "metadata": {
        "id": "UTMOV1-q2GmP",
        "colab_type": "code",
        "outputId": "1fbda5ef-8727-4806-c353-9fb2ba2f232f",
        "colab": {
          "base_uri": "https://localhost:8080/",
          "height": 288
        }
      },
      "source": [
        "numerical_train2.describe()"
      ],
      "execution_count": 0,
      "outputs": [
        {
          "output_type": "execute_result",
          "data": {
            "text/html": [
              "<div>\n",
              "<style scoped>\n",
              "    .dataframe tbody tr th:only-of-type {\n",
              "        vertical-align: middle;\n",
              "    }\n",
              "\n",
              "    .dataframe tbody tr th {\n",
              "        vertical-align: top;\n",
              "    }\n",
              "\n",
              "    .dataframe thead th {\n",
              "        text-align: right;\n",
              "    }\n",
              "</style>\n",
              "<table border=\"1\" class=\"dataframe\">\n",
              "  <thead>\n",
              "    <tr style=\"text-align: right;\">\n",
              "      <th></th>\n",
              "      <th>accommodates</th>\n",
              "      <th>bathrooms</th>\n",
              "      <th>bedrooms</th>\n",
              "      <th>beds</th>\n",
              "      <th>price</th>\n",
              "    </tr>\n",
              "  </thead>\n",
              "  <tbody>\n",
              "    <tr>\n",
              "      <th>count</th>\n",
              "      <td>9000.000000</td>\n",
              "      <td>8984.000000</td>\n",
              "      <td>8995.000000</td>\n",
              "      <td>8994.000000</td>\n",
              "      <td>9000.000000</td>\n",
              "    </tr>\n",
              "    <tr>\n",
              "      <th>mean</th>\n",
              "      <td>3.980111</td>\n",
              "      <td>1.563947</td>\n",
              "      <td>1.514619</td>\n",
              "      <td>2.500334</td>\n",
              "      <td>367.890000</td>\n",
              "    </tr>\n",
              "    <tr>\n",
              "      <th>std</th>\n",
              "      <td>2.267514</td>\n",
              "      <td>0.855437</td>\n",
              "      <td>0.963927</td>\n",
              "      <td>1.891312</td>\n",
              "      <td>966.137214</td>\n",
              "    </tr>\n",
              "    <tr>\n",
              "      <th>min</th>\n",
              "      <td>1.000000</td>\n",
              "      <td>0.000000</td>\n",
              "      <td>0.000000</td>\n",
              "      <td>0.000000</td>\n",
              "      <td>0.000000</td>\n",
              "    </tr>\n",
              "    <tr>\n",
              "      <th>25%</th>\n",
              "      <td>2.000000</td>\n",
              "      <td>1.000000</td>\n",
              "      <td>1.000000</td>\n",
              "      <td>1.000000</td>\n",
              "      <td>131.000000</td>\n",
              "    </tr>\n",
              "    <tr>\n",
              "      <th>50%</th>\n",
              "      <td>4.000000</td>\n",
              "      <td>1.000000</td>\n",
              "      <td>1.000000</td>\n",
              "      <td>2.000000</td>\n",
              "      <td>208.000000</td>\n",
              "    </tr>\n",
              "    <tr>\n",
              "      <th>75%</th>\n",
              "      <td>5.000000</td>\n",
              "      <td>2.000000</td>\n",
              "      <td>2.000000</td>\n",
              "      <td>3.000000</td>\n",
              "      <td>374.000000</td>\n",
              "    </tr>\n",
              "    <tr>\n",
              "      <th>max</th>\n",
              "      <td>16.000000</td>\n",
              "      <td>9.000000</td>\n",
              "      <td>13.000000</td>\n",
              "      <td>30.000000</td>\n",
              "      <td>35501.000000</td>\n",
              "    </tr>\n",
              "  </tbody>\n",
              "</table>\n",
              "</div>"
            ],
            "text/plain": [
              "       accommodates    bathrooms     bedrooms         beds         price\n",
              "count   9000.000000  8984.000000  8995.000000  8994.000000   9000.000000\n",
              "mean       3.980111     1.563947     1.514619     2.500334    367.890000\n",
              "std        2.267514     0.855437     0.963927     1.891312    966.137214\n",
              "min        1.000000     0.000000     0.000000     0.000000      0.000000\n",
              "25%        2.000000     1.000000     1.000000     1.000000    131.000000\n",
              "50%        4.000000     1.000000     1.000000     2.000000    208.000000\n",
              "75%        5.000000     2.000000     2.000000     3.000000    374.000000\n",
              "max       16.000000     9.000000    13.000000    30.000000  35501.000000"
            ]
          },
          "metadata": {
            "tags": []
          },
          "execution_count": 204
        }
      ]
    },
    {
      "cell_type": "markdown",
      "metadata": {
        "id": "4PBoQr07PR0z",
        "colab_type": "text"
      },
      "source": [
        "**insight**\n",
        "- the std is not so discrepant when compared with mean"
      ]
    },
    {
      "cell_type": "code",
      "metadata": {
        "id": "rFvL4fJlCZ0T",
        "colab_type": "code",
        "outputId": "fa35978b-856e-4e3e-822e-7bcf07260bc8",
        "colab": {
          "base_uri": "https://localhost:8080/",
          "height": 585
        }
      },
      "source": [
        "# trying to confirm the insights\n",
        "numerical_train2.plot(kind=\"box\",\n",
        "          subplots=True,\n",
        "          sharex=False,\n",
        "          layout=(2,3),\n",
        "          figsize=(8,8))\n",
        "plt.tight_layout()\n",
        "plt.show()"
      ],
      "execution_count": 0,
      "outputs": [
        {
          "output_type": "display_data",
          "data": {
            "image/png": "[encoded data removed]",
            "text/plain": [
              "<Figure size 576x576 with 6 Axes>"
            ]
          },
          "metadata": {
            "tags": []
          }
        }
      ]
    },
    {
      "cell_type": "code",
      "metadata": {
        "id": "fkAiZcd8Ef8A",
        "colab_type": "code",
        "colab": {}
      },
      "source": [
        "# Create an imputer object\n",
        "mean_imputer = SimpleImputer(strategy='median',missing_values=np.nan)\n",
        "\n",
        "# Train the imputer on the numerical train dataset\n",
        "median_imputer = mean_imputer.fit(numerical_train2)\n",
        "\n",
        "numerical_train2_imputered = pd.DataFrame(median_imputer.transform(numerical_train2), columns=numerical_cols2)"
      ],
      "execution_count": 0,
      "outputs": []
    },
    {
      "cell_type": "code",
      "metadata": {
        "id": "3F8jsSEXJI0f",
        "colab_type": "code",
        "outputId": "eda7ca1d-033c-4b98-d601-42f63668bbd3",
        "colab": {
          "base_uri": "https://localhost:8080/",
          "height": 288
        }
      },
      "source": [
        "# before\n",
        "numerical_train2.describe()"
      ],
      "execution_count": 0,
      "outputs": [
        {
          "output_type": "execute_result",
          "data": {
            "text/html": [
              "<div>\n",
              "<style scoped>\n",
              "    .dataframe tbody tr th:only-of-type {\n",
              "        vertical-align: middle;\n",
              "    }\n",
              "\n",
              "    .dataframe tbody tr th {\n",
              "        vertical-align: top;\n",
              "    }\n",
              "\n",
              "    .dataframe thead th {\n",
              "        text-align: right;\n",
              "    }\n",
              "</style>\n",
              "<table border=\"1\" class=\"dataframe\">\n",
              "  <thead>\n",
              "    <tr style=\"text-align: right;\">\n",
              "      <th></th>\n",
              "      <th>accommodates</th>\n",
              "      <th>bathrooms</th>\n",
              "      <th>bedrooms</th>\n",
              "      <th>beds</th>\n",
              "      <th>price</th>\n",
              "    </tr>\n",
              "  </thead>\n",
              "  <tbody>\n",
              "    <tr>\n",
              "      <th>count</th>\n",
              "      <td>9000.000000</td>\n",
              "      <td>8984.000000</td>\n",
              "      <td>8995.000000</td>\n",
              "      <td>8994.000000</td>\n",
              "      <td>9000.000000</td>\n",
              "    </tr>\n",
              "    <tr>\n",
              "      <th>mean</th>\n",
              "      <td>3.980111</td>\n",
              "      <td>1.563947</td>\n",
              "      <td>1.514619</td>\n",
              "      <td>2.500334</td>\n",
              "      <td>367.890000</td>\n",
              "    </tr>\n",
              "    <tr>\n",
              "      <th>std</th>\n",
              "      <td>2.267514</td>\n",
              "      <td>0.855437</td>\n",
              "      <td>0.963927</td>\n",
              "      <td>1.891312</td>\n",
              "      <td>966.137214</td>\n",
              "    </tr>\n",
              "    <tr>\n",
              "      <th>min</th>\n",
              "      <td>1.000000</td>\n",
              "      <td>0.000000</td>\n",
              "      <td>0.000000</td>\n",
              "      <td>0.000000</td>\n",
              "      <td>0.000000</td>\n",
              "    </tr>\n",
              "    <tr>\n",
              "      <th>25%</th>\n",
              "      <td>2.000000</td>\n",
              "      <td>1.000000</td>\n",
              "      <td>1.000000</td>\n",
              "      <td>1.000000</td>\n",
              "      <td>131.000000</td>\n",
              "    </tr>\n",
              "    <tr>\n",
              "      <th>50%</th>\n",
              "      <td>4.000000</td>\n",
              "      <td>1.000000</td>\n",
              "      <td>1.000000</td>\n",
              "      <td>2.000000</td>\n",
              "      <td>208.000000</td>\n",
              "    </tr>\n",
              "    <tr>\n",
              "      <th>75%</th>\n",
              "      <td>5.000000</td>\n",
              "      <td>2.000000</td>\n",
              "      <td>2.000000</td>\n",
              "      <td>3.000000</td>\n",
              "      <td>374.000000</td>\n",
              "    </tr>\n",
              "    <tr>\n",
              "      <th>max</th>\n",
              "      <td>16.000000</td>\n",
              "      <td>9.000000</td>\n",
              "      <td>13.000000</td>\n",
              "      <td>30.000000</td>\n",
              "      <td>35501.000000</td>\n",
              "    </tr>\n",
              "  </tbody>\n",
              "</table>\n",
              "</div>"
            ],
            "text/plain": [
              "       accommodates    bathrooms     bedrooms         beds         price\n",
              "count   9000.000000  8984.000000  8995.000000  8994.000000   9000.000000\n",
              "mean       3.980111     1.563947     1.514619     2.500334    367.890000\n",
              "std        2.267514     0.855437     0.963927     1.891312    966.137214\n",
              "min        1.000000     0.000000     0.000000     0.000000      0.000000\n",
              "25%        2.000000     1.000000     1.000000     1.000000    131.000000\n",
              "50%        4.000000     1.000000     1.000000     2.000000    208.000000\n",
              "75%        5.000000     2.000000     2.000000     3.000000    374.000000\n",
              "max       16.000000     9.000000    13.000000    30.000000  35501.000000"
            ]
          },
          "metadata": {
            "tags": []
          },
          "execution_count": 206
        }
      ]
    },
    {
      "cell_type": "code",
      "metadata": {
        "id": "QCEU2buzI2gm",
        "colab_type": "code",
        "outputId": "7c168dac-ba98-44f7-bc7c-00acedbcdcf0",
        "colab": {
          "base_uri": "https://localhost:8080/",
          "height": 288
        }
      },
      "source": [
        "# after\n",
        "numerical_train2_imputered.describe()"
      ],
      "execution_count": 0,
      "outputs": [
        {
          "output_type": "execute_result",
          "data": {
            "text/html": [
              "<div>\n",
              "<style scoped>\n",
              "    .dataframe tbody tr th:only-of-type {\n",
              "        vertical-align: middle;\n",
              "    }\n",
              "\n",
              "    .dataframe tbody tr th {\n",
              "        vertical-align: top;\n",
              "    }\n",
              "\n",
              "    .dataframe thead th {\n",
              "        text-align: right;\n",
              "    }\n",
              "</style>\n",
              "<table border=\"1\" class=\"dataframe\">\n",
              "  <thead>\n",
              "    <tr style=\"text-align: right;\">\n",
              "      <th></th>\n",
              "      <th>accommodates</th>\n",
              "      <th>bathrooms</th>\n",
              "      <th>bedrooms</th>\n",
              "      <th>beds</th>\n",
              "      <th>price</th>\n",
              "    </tr>\n",
              "  </thead>\n",
              "  <tbody>\n",
              "    <tr>\n",
              "      <th>count</th>\n",
              "      <td>9000.000000</td>\n",
              "      <td>9000.000000</td>\n",
              "      <td>9000.000000</td>\n",
              "      <td>9000.000000</td>\n",
              "      <td>9000.000000</td>\n",
              "    </tr>\n",
              "    <tr>\n",
              "      <th>mean</th>\n",
              "      <td>3.980111</td>\n",
              "      <td>1.562944</td>\n",
              "      <td>1.514333</td>\n",
              "      <td>2.500000</td>\n",
              "      <td>367.890000</td>\n",
              "    </tr>\n",
              "    <tr>\n",
              "      <th>std</th>\n",
              "      <td>2.267514</td>\n",
              "      <td>0.855006</td>\n",
              "      <td>0.963736</td>\n",
              "      <td>1.890725</td>\n",
              "      <td>966.137214</td>\n",
              "    </tr>\n",
              "    <tr>\n",
              "      <th>min</th>\n",
              "      <td>1.000000</td>\n",
              "      <td>0.000000</td>\n",
              "      <td>0.000000</td>\n",
              "      <td>0.000000</td>\n",
              "      <td>0.000000</td>\n",
              "    </tr>\n",
              "    <tr>\n",
              "      <th>25%</th>\n",
              "      <td>2.000000</td>\n",
              "      <td>1.000000</td>\n",
              "      <td>1.000000</td>\n",
              "      <td>1.000000</td>\n",
              "      <td>131.000000</td>\n",
              "    </tr>\n",
              "    <tr>\n",
              "      <th>50%</th>\n",
              "      <td>4.000000</td>\n",
              "      <td>1.000000</td>\n",
              "      <td>1.000000</td>\n",
              "      <td>2.000000</td>\n",
              "      <td>208.000000</td>\n",
              "    </tr>\n",
              "    <tr>\n",
              "      <th>75%</th>\n",
              "      <td>5.000000</td>\n",
              "      <td>2.000000</td>\n",
              "      <td>2.000000</td>\n",
              "      <td>3.000000</td>\n",
              "      <td>374.000000</td>\n",
              "    </tr>\n",
              "    <tr>\n",
              "      <th>max</th>\n",
              "      <td>16.000000</td>\n",
              "      <td>9.000000</td>\n",
              "      <td>13.000000</td>\n",
              "      <td>30.000000</td>\n",
              "      <td>35501.000000</td>\n",
              "    </tr>\n",
              "  </tbody>\n",
              "</table>\n",
              "</div>"
            ],
            "text/plain": [
              "       accommodates    bathrooms     bedrooms         beds         price\n",
              "count   9000.000000  9000.000000  9000.000000  9000.000000   9000.000000\n",
              "mean       3.980111     1.562944     1.514333     2.500000    367.890000\n",
              "std        2.267514     0.855006     0.963736     1.890725    966.137214\n",
              "min        1.000000     0.000000     0.000000     0.000000      0.000000\n",
              "25%        2.000000     1.000000     1.000000     1.000000    131.000000\n",
              "50%        4.000000     1.000000     1.000000     2.000000    208.000000\n",
              "75%        5.000000     2.000000     2.000000     3.000000    374.000000\n",
              "max       16.000000     9.000000    13.000000    30.000000  35501.000000"
            ]
          },
          "metadata": {
            "tags": []
          },
          "execution_count": 207
        }
      ]
    },
    {
      "cell_type": "code",
      "metadata": {
        "id": "RukRZSazKIWC",
        "colab_type": "code",
        "outputId": "af8fd19c-1f8f-496c-9d30-3cd47efe8485",
        "colab": {
          "base_uri": "https://localhost:8080/",
          "height": 198
        }
      },
      "source": [
        "numerical_train2_imputered.corr()"
      ],
      "execution_count": 0,
      "outputs": [
        {
          "output_type": "execute_result",
          "data": {
            "text/html": [
              "<div>\n",
              "<style scoped>\n",
              "    .dataframe tbody tr th:only-of-type {\n",
              "        vertical-align: middle;\n",
              "    }\n",
              "\n",
              "    .dataframe tbody tr th {\n",
              "        vertical-align: top;\n",
              "    }\n",
              "\n",
              "    .dataframe thead th {\n",
              "        text-align: right;\n",
              "    }\n",
              "</style>\n",
              "<table border=\"1\" class=\"dataframe\">\n",
              "  <thead>\n",
              "    <tr style=\"text-align: right;\">\n",
              "      <th></th>\n",
              "      <th>accommodates</th>\n",
              "      <th>bathrooms</th>\n",
              "      <th>bedrooms</th>\n",
              "      <th>beds</th>\n",
              "      <th>price</th>\n",
              "    </tr>\n",
              "  </thead>\n",
              "  <tbody>\n",
              "    <tr>\n",
              "      <th>accommodates</th>\n",
              "      <td>1.000000</td>\n",
              "      <td>0.593107</td>\n",
              "      <td>0.702202</td>\n",
              "      <td>0.795354</td>\n",
              "      <td>0.201935</td>\n",
              "    </tr>\n",
              "    <tr>\n",
              "      <th>bathrooms</th>\n",
              "      <td>0.593107</td>\n",
              "      <td>1.000000</td>\n",
              "      <td>0.698517</td>\n",
              "      <td>0.556225</td>\n",
              "      <td>0.242685</td>\n",
              "    </tr>\n",
              "    <tr>\n",
              "      <th>bedrooms</th>\n",
              "      <td>0.702202</td>\n",
              "      <td>0.698517</td>\n",
              "      <td>1.000000</td>\n",
              "      <td>0.630427</td>\n",
              "      <td>0.236072</td>\n",
              "    </tr>\n",
              "    <tr>\n",
              "      <th>beds</th>\n",
              "      <td>0.795354</td>\n",
              "      <td>0.556225</td>\n",
              "      <td>0.630427</td>\n",
              "      <td>1.000000</td>\n",
              "      <td>0.157373</td>\n",
              "    </tr>\n",
              "    <tr>\n",
              "      <th>price</th>\n",
              "      <td>0.201935</td>\n",
              "      <td>0.242685</td>\n",
              "      <td>0.236072</td>\n",
              "      <td>0.157373</td>\n",
              "      <td>1.000000</td>\n",
              "    </tr>\n",
              "  </tbody>\n",
              "</table>\n",
              "</div>"
            ],
            "text/plain": [
              "              accommodates  bathrooms  bedrooms      beds     price\n",
              "accommodates      1.000000   0.593107  0.702202  0.795354  0.201935\n",
              "bathrooms         0.593107   1.000000  0.698517  0.556225  0.242685\n",
              "bedrooms          0.702202   0.698517  1.000000  0.630427  0.236072\n",
              "beds              0.795354   0.556225  0.630427  1.000000  0.157373\n",
              "price             0.201935   0.242685  0.236072  0.157373  1.000000"
            ]
          },
          "metadata": {
            "tags": []
          },
          "execution_count": 208
        }
      ]
    },
    {
      "cell_type": "code",
      "metadata": {
        "id": "TGaLKvMLKOfx",
        "colab_type": "code",
        "outputId": "07caf954-3df4-4eec-d484-cb1573cbe968",
        "colab": {
          "base_uri": "https://localhost:8080/",
          "height": 352
        }
      },
      "source": [
        "sns.heatmap(numerical_train2_imputered.corr())"
      ],
      "execution_count": 0,
      "outputs": [
        {
          "output_type": "execute_result",
          "data": {
            "text/plain": [
              "<matplotlib.axes._subplots.AxesSubplot at 0x7ff9e7afae48>"
            ]
          },
          "metadata": {
            "tags": []
          },
          "execution_count": 59
        },
        {
          "output_type": "display_data",
          "data": {
            "image/png": "[encoded data removed]",
            "text/plain": [
              "<Figure size 432x288 with 2 Axes>"
            ]
          },
          "metadata": {
            "tags": []
          }
        }
      ]
    },
    {
      "cell_type": "markdown",
      "metadata": {
        "id": "XaHv7NRhLz_r",
        "colab_type": "text"
      },
      "source": [
        "**insights**\n",
        "- multicolinearity problem\n",
        "  - [0,strong] accommodates, bathrooms, bedrooms, bed \n",
        "  - [1,high] accommodates, bathrooms, bedrooms\n",
        "  - [2,small] bathrooms, bed\n",
        "  - [3,no] bathrooms\n",
        "  - [4,no] bedrooms\n",
        "\n"
      ]
    },
    {
      "cell_type": "code",
      "metadata": {
        "id": "Rx8VrMSJQg2j",
        "colab_type": "code",
        "colab": {}
      },
      "source": [
        "# Select what numerical column will be used\n",
        "class NumericalFeatureSelection( BaseEstimator, TransformerMixin ):\n",
        "  #Class constructor method that takes a scenario as its argument\n",
        "  def __init__(self, scenario=0):\n",
        "    self.scenario = scenario\n",
        "\n",
        "  #Return self nothing else to do here    \n",
        "  def fit( self, X, y = None ):\n",
        "    return self \n",
        "        \n",
        "  #Transformer method we wrote for this transformer \n",
        "  def transform(self, X , y = None ):\n",
        "    df = X.copy()\n",
        "    if self.scenario == 0:\n",
        "      return df\n",
        "    elif self.scenario == 1:\n",
        "      return df[[\"accommodates\", \"bathrooms\", \"bedrooms\"]]\n",
        "    elif self.scenario == 2:\n",
        "      return df[[\"bathrooms\",\"beds\"]]\n",
        "    elif self.scenario == 3:\n",
        "      return df[\"bathrooms\"].values.reshape(-1,1)\n",
        "    else:\n",
        "      return df[\"bedrooms\"].values.reshape(-1,1)"
      ],
      "execution_count": 0,
      "outputs": []
    },
    {
      "cell_type": "code",
      "metadata": {
        "id": "N11s3VykSzYd",
        "colab_type": "code",
        "colab": {}
      },
      "source": [
        "# validation\n",
        "\n",
        "# first pipeline - select all numerical columns\n",
        "# model_fs = FeatureSelector (numerical_cols2)\n",
        "# only_numerical_df = model_fs.fit_transform(train)\n",
        "\n",
        "# second pipeline - select specific numerical columns\n",
        "# model_fs_scenario = NumericalFeatureSelection(scenario=4)\n",
        "# model_fs_scenario.fit_transform(only_numerical_df).head()"
      ],
      "execution_count": 0,
      "outputs": []
    },
    {
      "cell_type": "markdown",
      "metadata": {
        "id": "Qbpf3pAZUoGg",
        "colab_type": "text"
      },
      "source": [
        "### Numerical Columns Pipeline"
      ]
    },
    {
      "cell_type": "code",
      "metadata": {
        "id": "TcNZWXUHU2_y",
        "colab_type": "code",
        "colab": {}
      },
      "source": [
        "# Numerical features to pass down the numerical pipeline \n",
        "numerical_features = ['accommodates', 'bathrooms', 'bedrooms', 'beds']\n",
        "\n",
        "# Defining the steps in the numerical pipeline     \n",
        "numerical_pipeline = Pipeline(steps = [('num_selector', FeatureSelector(numerical_features)),\n",
        "                                       ('scenario_selector', NumericalFeatureSelection(4)),\n",
        "                                       ('imputer_num',SimpleImputer(strategy='median')) \n",
        "                                       ]\n",
        "                              )"
      ],
      "execution_count": 0,
      "outputs": []
    },
    {
      "cell_type": "code",
      "metadata": {
        "id": "PvPTy57HWAuf",
        "colab_type": "code",
        "colab": {}
      },
      "source": [
        "# validation\n",
        "# numerical_pipeline.fit_transform(train)"
      ],
      "execution_count": 0,
      "outputs": []
    },
    {
      "cell_type": "markdown",
      "metadata": {
        "id": "os6XnUeBZEaP",
        "colab_type": "text"
      },
      "source": [
        "### Categorical Columns"
      ]
    },
    {
      "cell_type": "code",
      "metadata": {
        "id": "BPPB7cC_brXc",
        "colab_type": "code",
        "colab": {}
      },
      "source": [
        "categorical_cols2 = [\"neighbourhood\", \"property_type\", \"room_type\", \"bed_type\", \"extra_people\"]\n",
        "categorical_train2 = train[categorical_cols2].copy()"
      ],
      "execution_count": 0,
      "outputs": []
    },
    {
      "cell_type": "code",
      "metadata": {
        "id": "36FlTGT_-ZeQ",
        "colab_type": "code",
        "outputId": "34c064d6-53cd-44b8-e314-50b7954a7250",
        "colab": {
          "base_uri": "https://localhost:8080/",
          "height": 190
        }
      },
      "source": [
        "categorical_train2.info()"
      ],
      "execution_count": 0,
      "outputs": [
        {
          "output_type": "stream",
          "text": [
            "<class 'pandas.core.frame.DataFrame'>\n",
            "RangeIndex: 9000 entries, 0 to 8999\n",
            "Data columns (total 5 columns):\n",
            "neighbourhood    8748 non-null object\n",
            "property_type    9000 non-null object\n",
            "room_type        9000 non-null object\n",
            "bed_type         9000 non-null object\n",
            "extra_people     9000 non-null object\n",
            "dtypes: object(5)\n",
            "memory usage: 351.6+ KB\n"
          ],
          "name": "stdout"
        }
      ]
    },
    {
      "cell_type": "code",
      "metadata": {
        "id": "zzWqHzhbb_vN",
        "colab_type": "code",
        "outputId": "83d4887c-bd09-4b55-e439-3bb49bff5694",
        "colab": {
          "base_uri": "https://localhost:8080/",
          "height": 198
        }
      },
      "source": [
        "categorical_train2.head()"
      ],
      "execution_count": 0,
      "outputs": [
        {
          "output_type": "execute_result",
          "data": {
            "text/html": [
              "<div>\n",
              "<style scoped>\n",
              "    .dataframe tbody tr th:only-of-type {\n",
              "        vertical-align: middle;\n",
              "    }\n",
              "\n",
              "    .dataframe tbody tr th {\n",
              "        vertical-align: top;\n",
              "    }\n",
              "\n",
              "    .dataframe thead th {\n",
              "        text-align: right;\n",
              "    }\n",
              "</style>\n",
              "<table border=\"1\" class=\"dataframe\">\n",
              "  <thead>\n",
              "    <tr style=\"text-align: right;\">\n",
              "      <th></th>\n",
              "      <th>neighbourhood</th>\n",
              "      <th>property_type</th>\n",
              "      <th>room_type</th>\n",
              "      <th>bed_type</th>\n",
              "      <th>extra_people</th>\n",
              "    </tr>\n",
              "  </thead>\n",
              "  <tbody>\n",
              "    <tr>\n",
              "      <th>0</th>\n",
              "      <td>Ipanema</td>\n",
              "      <td>Apartment</td>\n",
              "      <td>Entire home/apt</td>\n",
              "      <td>Real Bed</td>\n",
              "      <td>$23.00</td>\n",
              "    </tr>\n",
              "    <tr>\n",
              "      <th>1</th>\n",
              "      <td>Barra da Tijuca</td>\n",
              "      <td>Apartment</td>\n",
              "      <td>Entire home/apt</td>\n",
              "      <td>Real Bed</td>\n",
              "      <td>$0.00</td>\n",
              "    </tr>\n",
              "    <tr>\n",
              "      <th>2</th>\n",
              "      <td>Copacabana</td>\n",
              "      <td>Apartment</td>\n",
              "      <td>Entire home/apt</td>\n",
              "      <td>Real Bed</td>\n",
              "      <td>$48.00</td>\n",
              "    </tr>\n",
              "    <tr>\n",
              "      <th>3</th>\n",
              "      <td>Lagoa</td>\n",
              "      <td>Apartment</td>\n",
              "      <td>Entire home/apt</td>\n",
              "      <td>Real Bed</td>\n",
              "      <td>$174.00</td>\n",
              "    </tr>\n",
              "    <tr>\n",
              "      <th>4</th>\n",
              "      <td>Joá</td>\n",
              "      <td>House</td>\n",
              "      <td>Entire home/apt</td>\n",
              "      <td>Real Bed</td>\n",
              "      <td>$100.00</td>\n",
              "    </tr>\n",
              "  </tbody>\n",
              "</table>\n",
              "</div>"
            ],
            "text/plain": [
              "     neighbourhood property_type        room_type  bed_type extra_people\n",
              "0          Ipanema     Apartment  Entire home/apt  Real Bed       $23.00\n",
              "1  Barra da Tijuca     Apartment  Entire home/apt  Real Bed        $0.00\n",
              "2       Copacabana     Apartment  Entire home/apt  Real Bed       $48.00\n",
              "3            Lagoa     Apartment  Entire home/apt  Real Bed      $174.00\n",
              "4              Joá         House  Entire home/apt  Real Bed      $100.00"
            ]
          },
          "metadata": {
            "tags": []
          },
          "execution_count": 212
        }
      ]
    },
    {
      "cell_type": "markdown",
      "metadata": {
        "id": "86-IkdiDuWcW",
        "colab_type": "text"
      },
      "source": [
        "#### bed_type"
      ]
    },
    {
      "cell_type": "code",
      "metadata": {
        "id": "GQ-ugfuPcWon",
        "colab_type": "code",
        "colab": {}
      },
      "source": [
        "# bed_type can be split into \"Real Bed\" and \"Other\".\n",
        "categorical_train2.loc[categorical_train2.bed_type != \"Real Bed\",\"bed_type\"] = \"Other\""
      ],
      "execution_count": 0,
      "outputs": []
    },
    {
      "cell_type": "code",
      "metadata": {
        "id": "FjXIzWVZOqR1",
        "colab_type": "code",
        "outputId": "ed24df02-da8a-4c7a-e697-bce2a0a1dfba",
        "colab": {
          "base_uri": "https://localhost:8080/",
          "height": 168
        }
      },
      "source": [
        "pd.concat([categorical_train2.bed_type,numerical_train2.price],axis=1).groupby(by=\"bed_type\").agg([\"mean\",np.std])"
      ],
      "execution_count": 0,
      "outputs": [
        {
          "output_type": "execute_result",
          "data": {
            "text/html": [
              "<div>\n",
              "<style scoped>\n",
              "    .dataframe tbody tr th:only-of-type {\n",
              "        vertical-align: middle;\n",
              "    }\n",
              "\n",
              "    .dataframe tbody tr th {\n",
              "        vertical-align: top;\n",
              "    }\n",
              "\n",
              "    .dataframe thead tr th {\n",
              "        text-align: left;\n",
              "    }\n",
              "\n",
              "    .dataframe thead tr:last-of-type th {\n",
              "        text-align: right;\n",
              "    }\n",
              "</style>\n",
              "<table border=\"1\" class=\"dataframe\">\n",
              "  <thead>\n",
              "    <tr>\n",
              "      <th></th>\n",
              "      <th colspan=\"2\" halign=\"left\">price</th>\n",
              "    </tr>\n",
              "    <tr>\n",
              "      <th></th>\n",
              "      <th>mean</th>\n",
              "      <th>std</th>\n",
              "    </tr>\n",
              "    <tr>\n",
              "      <th>bed_type</th>\n",
              "      <th></th>\n",
              "      <th></th>\n",
              "    </tr>\n",
              "  </thead>\n",
              "  <tbody>\n",
              "    <tr>\n",
              "      <th>Other</th>\n",
              "      <td>216.806897</td>\n",
              "      <td>229.457400</td>\n",
              "    </tr>\n",
              "    <tr>\n",
              "      <th>Real Bed</th>\n",
              "      <td>370.363975</td>\n",
              "      <td>973.381377</td>\n",
              "    </tr>\n",
              "  </tbody>\n",
              "</table>\n",
              "</div>"
            ],
            "text/plain": [
              "               price            \n",
              "                mean         std\n",
              "bed_type                        \n",
              "Other     216.806897  229.457400\n",
              "Real Bed  370.363975  973.381377"
            ]
          },
          "metadata": {
            "tags": []
          },
          "execution_count": 214
        }
      ]
    },
    {
      "cell_type": "code",
      "metadata": {
        "id": "yOhCOObrcMa9",
        "colab_type": "code",
        "outputId": "9f5b5668-d50f-4f50-d852-0a9d42b126fb",
        "colab": {
          "base_uri": "https://localhost:8080/",
          "height": 69
        }
      },
      "source": [
        "categorical_train2.bed_type.value_counts()"
      ],
      "execution_count": 0,
      "outputs": [
        {
          "output_type": "execute_result",
          "data": {
            "text/plain": [
              "Real Bed    8855\n",
              "Other        145\n",
              "Name: bed_type, dtype: int64"
            ]
          },
          "metadata": {
            "tags": []
          },
          "execution_count": 215
        }
      ]
    },
    {
      "cell_type": "code",
      "metadata": {
        "id": "uCRimtaWlI99",
        "colab_type": "code",
        "outputId": "c872a0e8-f220-4925-a50c-56601deb05c2",
        "colab": {
          "base_uri": "https://localhost:8080/",
          "height": 138
        }
      },
      "source": [
        "# drop=first is to avoid colinearity\n",
        "OneHotEncoder(sparse=False,drop=\"first\").fit_transform(categorical_train2.bed_type.values.reshape(-1,1))"
      ],
      "execution_count": 0,
      "outputs": [
        {
          "output_type": "execute_result",
          "data": {
            "text/plain": [
              "array([[1.],\n",
              "       [1.],\n",
              "       [1.],\n",
              "       ...,\n",
              "       [1.],\n",
              "       [1.],\n",
              "       [1.]])"
            ]
          },
          "metadata": {
            "tags": []
          },
          "execution_count": 216
        }
      ]
    },
    {
      "cell_type": "code",
      "metadata": {
        "id": "DCQ4MLBWkfUf",
        "colab_type": "code",
        "outputId": "958366a9-82a1-4a59-b81a-7073dccace2a",
        "colab": {
          "base_uri": "https://localhost:8080/",
          "height": 198
        }
      },
      "source": [
        "#pd.get_dummies(categorical_train2.bed_type,drop_first=True)[\"Real Bed\"].value_counts()\n",
        "pd.get_dummies(categorical_train2.bed_type,drop_first=True).head()"
      ],
      "execution_count": 0,
      "outputs": [
        {
          "output_type": "execute_result",
          "data": {
            "text/html": [
              "<div>\n",
              "<style scoped>\n",
              "    .dataframe tbody tr th:only-of-type {\n",
              "        vertical-align: middle;\n",
              "    }\n",
              "\n",
              "    .dataframe tbody tr th {\n",
              "        vertical-align: top;\n",
              "    }\n",
              "\n",
              "    .dataframe thead th {\n",
              "        text-align: right;\n",
              "    }\n",
              "</style>\n",
              "<table border=\"1\" class=\"dataframe\">\n",
              "  <thead>\n",
              "    <tr style=\"text-align: right;\">\n",
              "      <th></th>\n",
              "      <th>Real Bed</th>\n",
              "    </tr>\n",
              "  </thead>\n",
              "  <tbody>\n",
              "    <tr>\n",
              "      <th>0</th>\n",
              "      <td>1</td>\n",
              "    </tr>\n",
              "    <tr>\n",
              "      <th>1</th>\n",
              "      <td>1</td>\n",
              "    </tr>\n",
              "    <tr>\n",
              "      <th>2</th>\n",
              "      <td>1</td>\n",
              "    </tr>\n",
              "    <tr>\n",
              "      <th>3</th>\n",
              "      <td>1</td>\n",
              "    </tr>\n",
              "    <tr>\n",
              "      <th>4</th>\n",
              "      <td>1</td>\n",
              "    </tr>\n",
              "  </tbody>\n",
              "</table>\n",
              "</div>"
            ],
            "text/plain": [
              "   Real Bed\n",
              "0         1\n",
              "1         1\n",
              "2         1\n",
              "3         1\n",
              "4         1"
            ]
          },
          "metadata": {
            "tags": []
          },
          "execution_count": 217
        }
      ]
    },
    {
      "cell_type": "code",
      "metadata": {
        "id": "9PJWGDwNvQu_",
        "colab_type": "code",
        "outputId": "39704622-6f6d-4df4-cde7-7ebcecb649f9",
        "colab": {
          "base_uri": "https://localhost:8080/",
          "height": 198
        }
      },
      "source": [
        "categorical_train2 = pd.concat([categorical_train2,pd.get_dummies(categorical_train2.bed_type,drop_first=True)],axis=1)\n",
        "categorical_train2.drop(labels=\"bed_type\",axis=1,inplace=True)\n",
        "categorical_train2.head()"
      ],
      "execution_count": 0,
      "outputs": [
        {
          "output_type": "execute_result",
          "data": {
            "text/html": [
              "<div>\n",
              "<style scoped>\n",
              "    .dataframe tbody tr th:only-of-type {\n",
              "        vertical-align: middle;\n",
              "    }\n",
              "\n",
              "    .dataframe tbody tr th {\n",
              "        vertical-align: top;\n",
              "    }\n",
              "\n",
              "    .dataframe thead th {\n",
              "        text-align: right;\n",
              "    }\n",
              "</style>\n",
              "<table border=\"1\" class=\"dataframe\">\n",
              "  <thead>\n",
              "    <tr style=\"text-align: right;\">\n",
              "      <th></th>\n",
              "      <th>neighbourhood</th>\n",
              "      <th>property_type</th>\n",
              "      <th>room_type</th>\n",
              "      <th>extra_people</th>\n",
              "      <th>Real Bed</th>\n",
              "    </tr>\n",
              "  </thead>\n",
              "  <tbody>\n",
              "    <tr>\n",
              "      <th>0</th>\n",
              "      <td>Ipanema</td>\n",
              "      <td>Apartment</td>\n",
              "      <td>Entire home/apt</td>\n",
              "      <td>$23.00</td>\n",
              "      <td>1</td>\n",
              "    </tr>\n",
              "    <tr>\n",
              "      <th>1</th>\n",
              "      <td>Barra da Tijuca</td>\n",
              "      <td>Apartment</td>\n",
              "      <td>Entire home/apt</td>\n",
              "      <td>$0.00</td>\n",
              "      <td>1</td>\n",
              "    </tr>\n",
              "    <tr>\n",
              "      <th>2</th>\n",
              "      <td>Copacabana</td>\n",
              "      <td>Apartment</td>\n",
              "      <td>Entire home/apt</td>\n",
              "      <td>$48.00</td>\n",
              "      <td>1</td>\n",
              "    </tr>\n",
              "    <tr>\n",
              "      <th>3</th>\n",
              "      <td>Lagoa</td>\n",
              "      <td>Apartment</td>\n",
              "      <td>Entire home/apt</td>\n",
              "      <td>$174.00</td>\n",
              "      <td>1</td>\n",
              "    </tr>\n",
              "    <tr>\n",
              "      <th>4</th>\n",
              "      <td>Joá</td>\n",
              "      <td>House</td>\n",
              "      <td>Entire home/apt</td>\n",
              "      <td>$100.00</td>\n",
              "      <td>1</td>\n",
              "    </tr>\n",
              "  </tbody>\n",
              "</table>\n",
              "</div>"
            ],
            "text/plain": [
              "     neighbourhood property_type        room_type extra_people  Real Bed\n",
              "0          Ipanema     Apartment  Entire home/apt       $23.00         1\n",
              "1  Barra da Tijuca     Apartment  Entire home/apt        $0.00         1\n",
              "2       Copacabana     Apartment  Entire home/apt       $48.00         1\n",
              "3            Lagoa     Apartment  Entire home/apt      $174.00         1\n",
              "4              Joá         House  Entire home/apt      $100.00         1"
            ]
          },
          "metadata": {
            "tags": []
          },
          "execution_count": 218
        }
      ]
    },
    {
      "cell_type": "code",
      "metadata": {
        "id": "HRhJ4h8g8H8A",
        "colab_type": "code",
        "outputId": "2bf6054b-8f38-4a09-8e11-d788955fb2e2",
        "colab": {
          "base_uri": "https://localhost:8080/",
          "height": 69
        }
      },
      "source": [
        "categorical_train2[\"Real Bed\"].value_counts()"
      ],
      "execution_count": 0,
      "outputs": [
        {
          "output_type": "execute_result",
          "data": {
            "text/plain": [
              "1    8855\n",
              "0     145\n",
              "Name: Real Bed, dtype: int64"
            ]
          },
          "metadata": {
            "tags": []
          },
          "execution_count": 219
        }
      ]
    },
    {
      "cell_type": "markdown",
      "metadata": {
        "id": "D0SRQwC4vwpT",
        "colab_type": "text"
      },
      "source": [
        "#### extra_people"
      ]
    },
    {
      "cell_type": "code",
      "metadata": {
        "id": "ZR5bWwbFexf7",
        "colab_type": "code",
        "colab": {}
      },
      "source": [
        "# extra_people can be manipulate in order to transfom into a numerical column\n",
        "stripped_commas = categorical_train2.extra_people.str.replace(',', '')\n",
        "stripped_dollars = stripped_commas.str.replace('$', '')\n",
        "categorical_train2['extra_people'] = stripped_dollars.astype('float')"
      ],
      "execution_count": 0,
      "outputs": []
    },
    {
      "cell_type": "code",
      "metadata": {
        "id": "X2QOwfKNeJmg",
        "colab_type": "code",
        "outputId": "4f291133-ad96-4fdc-d3d1-241a42aa9840",
        "colab": {
          "base_uri": "https://localhost:8080/",
          "height": 198
        }
      },
      "source": [
        "categorical_train2.head()"
      ],
      "execution_count": 0,
      "outputs": [
        {
          "output_type": "execute_result",
          "data": {
            "text/html": [
              "<div>\n",
              "<style scoped>\n",
              "    .dataframe tbody tr th:only-of-type {\n",
              "        vertical-align: middle;\n",
              "    }\n",
              "\n",
              "    .dataframe tbody tr th {\n",
              "        vertical-align: top;\n",
              "    }\n",
              "\n",
              "    .dataframe thead th {\n",
              "        text-align: right;\n",
              "    }\n",
              "</style>\n",
              "<table border=\"1\" class=\"dataframe\">\n",
              "  <thead>\n",
              "    <tr style=\"text-align: right;\">\n",
              "      <th></th>\n",
              "      <th>neighbourhood</th>\n",
              "      <th>property_type</th>\n",
              "      <th>room_type</th>\n",
              "      <th>extra_people</th>\n",
              "      <th>Real Bed</th>\n",
              "    </tr>\n",
              "  </thead>\n",
              "  <tbody>\n",
              "    <tr>\n",
              "      <th>0</th>\n",
              "      <td>Ipanema</td>\n",
              "      <td>Apartment</td>\n",
              "      <td>Entire home/apt</td>\n",
              "      <td>23.0</td>\n",
              "      <td>1</td>\n",
              "    </tr>\n",
              "    <tr>\n",
              "      <th>1</th>\n",
              "      <td>Barra da Tijuca</td>\n",
              "      <td>Apartment</td>\n",
              "      <td>Entire home/apt</td>\n",
              "      <td>0.0</td>\n",
              "      <td>1</td>\n",
              "    </tr>\n",
              "    <tr>\n",
              "      <th>2</th>\n",
              "      <td>Copacabana</td>\n",
              "      <td>Apartment</td>\n",
              "      <td>Entire home/apt</td>\n",
              "      <td>48.0</td>\n",
              "      <td>1</td>\n",
              "    </tr>\n",
              "    <tr>\n",
              "      <th>3</th>\n",
              "      <td>Lagoa</td>\n",
              "      <td>Apartment</td>\n",
              "      <td>Entire home/apt</td>\n",
              "      <td>174.0</td>\n",
              "      <td>1</td>\n",
              "    </tr>\n",
              "    <tr>\n",
              "      <th>4</th>\n",
              "      <td>Joá</td>\n",
              "      <td>House</td>\n",
              "      <td>Entire home/apt</td>\n",
              "      <td>100.0</td>\n",
              "      <td>1</td>\n",
              "    </tr>\n",
              "  </tbody>\n",
              "</table>\n",
              "</div>"
            ],
            "text/plain": [
              "     neighbourhood property_type        room_type  extra_people  Real Bed\n",
              "0          Ipanema     Apartment  Entire home/apt          23.0         1\n",
              "1  Barra da Tijuca     Apartment  Entire home/apt           0.0         1\n",
              "2       Copacabana     Apartment  Entire home/apt          48.0         1\n",
              "3            Lagoa     Apartment  Entire home/apt         174.0         1\n",
              "4              Joá         House  Entire home/apt         100.0         1"
            ]
          },
          "metadata": {
            "tags": []
          },
          "execution_count": 221
        }
      ]
    },
    {
      "cell_type": "code",
      "metadata": {
        "id": "b_f-tMEGfyM0",
        "colab_type": "code",
        "outputId": "003c2b8e-f3a5-46db-e107-02373ce2eba7",
        "colab": {
          "base_uri": "https://localhost:8080/",
          "height": 228
        }
      },
      "source": [
        "# extra_people has a low correlation with other numerical columns, mainly with our target :-/\n",
        "pd.concat([numerical_train2,categorical_train2.extra_people],axis=1).corr()"
      ],
      "execution_count": 0,
      "outputs": [
        {
          "output_type": "execute_result",
          "data": {
            "text/html": [
              "<div>\n",
              "<style scoped>\n",
              "    .dataframe tbody tr th:only-of-type {\n",
              "        vertical-align: middle;\n",
              "    }\n",
              "\n",
              "    .dataframe tbody tr th {\n",
              "        vertical-align: top;\n",
              "    }\n",
              "\n",
              "    .dataframe thead th {\n",
              "        text-align: right;\n",
              "    }\n",
              "</style>\n",
              "<table border=\"1\" class=\"dataframe\">\n",
              "  <thead>\n",
              "    <tr style=\"text-align: right;\">\n",
              "      <th></th>\n",
              "      <th>accommodates</th>\n",
              "      <th>bathrooms</th>\n",
              "      <th>bedrooms</th>\n",
              "      <th>beds</th>\n",
              "      <th>price</th>\n",
              "      <th>extra_people</th>\n",
              "    </tr>\n",
              "  </thead>\n",
              "  <tbody>\n",
              "    <tr>\n",
              "      <th>accommodates</th>\n",
              "      <td>1.000000</td>\n",
              "      <td>0.594450</td>\n",
              "      <td>0.702192</td>\n",
              "      <td>0.795496</td>\n",
              "      <td>0.201935</td>\n",
              "      <td>0.109855</td>\n",
              "    </tr>\n",
              "    <tr>\n",
              "      <th>bathrooms</th>\n",
              "      <td>0.594450</td>\n",
              "      <td>1.000000</td>\n",
              "      <td>0.698749</td>\n",
              "      <td>0.555973</td>\n",
              "      <td>0.242736</td>\n",
              "      <td>0.141599</td>\n",
              "    </tr>\n",
              "    <tr>\n",
              "      <th>bedrooms</th>\n",
              "      <td>0.702192</td>\n",
              "      <td>0.698749</td>\n",
              "      <td>1.000000</td>\n",
              "      <td>0.630546</td>\n",
              "      <td>0.236029</td>\n",
              "      <td>0.129180</td>\n",
              "    </tr>\n",
              "    <tr>\n",
              "      <th>beds</th>\n",
              "      <td>0.795496</td>\n",
              "      <td>0.555973</td>\n",
              "      <td>0.630546</td>\n",
              "      <td>1.000000</td>\n",
              "      <td>0.157388</td>\n",
              "      <td>0.106595</td>\n",
              "    </tr>\n",
              "    <tr>\n",
              "      <th>price</th>\n",
              "      <td>0.201935</td>\n",
              "      <td>0.242736</td>\n",
              "      <td>0.236029</td>\n",
              "      <td>0.157388</td>\n",
              "      <td>1.000000</td>\n",
              "      <td>0.085368</td>\n",
              "    </tr>\n",
              "    <tr>\n",
              "      <th>extra_people</th>\n",
              "      <td>0.109855</td>\n",
              "      <td>0.141599</td>\n",
              "      <td>0.129180</td>\n",
              "      <td>0.106595</td>\n",
              "      <td>0.085368</td>\n",
              "      <td>1.000000</td>\n",
              "    </tr>\n",
              "  </tbody>\n",
              "</table>\n",
              "</div>"
            ],
            "text/plain": [
              "              accommodates  bathrooms  ...     price  extra_people\n",
              "accommodates      1.000000   0.594450  ...  0.201935      0.109855\n",
              "bathrooms         0.594450   1.000000  ...  0.242736      0.141599\n",
              "bedrooms          0.702192   0.698749  ...  0.236029      0.129180\n",
              "beds              0.795496   0.555973  ...  0.157388      0.106595\n",
              "price             0.201935   0.242736  ...  1.000000      0.085368\n",
              "extra_people      0.109855   0.141599  ...  0.085368      1.000000\n",
              "\n",
              "[6 rows x 6 columns]"
            ]
          },
          "metadata": {
            "tags": []
          },
          "execution_count": 222
        }
      ]
    },
    {
      "cell_type": "markdown",
      "metadata": {
        "id": "6IxLZXZPwohW",
        "colab_type": "text"
      },
      "source": [
        "#### neighbourhood"
      ]
    },
    {
      "cell_type": "code",
      "metadata": {
        "id": "cXJiOQMUiEVa",
        "colab_type": "code",
        "colab": {}
      },
      "source": [
        "south = [\"Copacabana\",\"Ipanema\",\"Leblon\",\"Botafogo\",\"Flamengo\",\"Leme\",\"Laranjeiras\",\"Glória\",\n",
        "         \"Catete\",\"Lagoa\",\"Jardim Botânico\",\"Gávea\",\"Humaitá\",\"São Conrado\",\"Vidigal\",\n",
        "         \"Urca\",\"Cosme Velho\",\"Rocinha\"]\n",
        "central = [\"Santa Teresa\",\"Centro\",\"Lapa\",\"São Cristóvão\",\"Rio Comprido\",\"Estacio\",\n",
        "           \"Gamboa\",\"Cidade Nova\",\"Santo Cristo\",\"Mangueira\",\"Benfica\",\"Saúde\",\n",
        "           \"Catumbi\",\"Caju\"]\n",
        "west = [\"Barra da Tijuca\",\"Recreio dos Bandeirantes\",\"Barra de Guaratiba\",\"Joá\"]\n",
        "north = [\"Tijuca\",\"Maracanã\",\"Vila Isabel\",\"Grajaú\",\"Praça da Bandeira\",\"Andaraí\",\"Engenho Novo\",\n",
        "         \"Engenho de Dentro\",\"Del Castilho\",\"Todos os Santos\",\"Marechal Hermes\",\"Penha\",\n",
        "         \"Irajá\", \"Cachambi\", \"Rocha\",\"Brás de Pina\", \"Cascadura\", \"Bento Ribeiro\",\"Maria da Graça\",\n",
        "         \"Inhaúma\",\"Méier\",\"Quintino Bocaiúva\",\"Sampaio\",\"Pilares\",\"Madureira\",\"Parada de Lucas\",\n",
        "         \"Guadalupe\",\"Lins de Vasconcelos\",\"Coelho Neto\",\"Engenho da Rainha\",\"Encantado\",\n",
        "         \"Tomás Coelho\",\"Penha Circular\",\"Parque Anchieta\",\"Piedade\",\"Oswaldo Cruz\",\"Complexo de Alemão\",\n",
        "         \"Riachuelo\",\"Vincente de Carvalho\"]"
      ],
      "execution_count": 0,
      "outputs": []
    },
    {
      "cell_type": "code",
      "metadata": {
        "id": "OaEktI8F3zsY",
        "colab_type": "code",
        "colab": {}
      },
      "source": [
        "def mapping_zones(neigh):\n",
        "  if neigh in south:\n",
        "    return \"south\"\n",
        "  elif (neigh in central):\n",
        "    return \"central\"\n",
        "  elif neigh in north:\n",
        "    return \"north\"\n",
        "  else:\n",
        "    # west and south have similar mean\n",
        "    return \"south\""
      ],
      "execution_count": 0,
      "outputs": []
    },
    {
      "cell_type": "code",
      "metadata": {
        "id": "xYFRpvaF3FN0",
        "colab_type": "code",
        "colab": {}
      },
      "source": [
        "categorical_train2[\"zones\"] = categorical_train2.neighbourhood.map(mapping_zones)"
      ],
      "execution_count": 0,
      "outputs": []
    },
    {
      "cell_type": "code",
      "metadata": {
        "id": "lUXqhqcd4qG1",
        "colab_type": "code",
        "outputId": "14e3ca49-7b48-48d4-ab4f-2dd019388e75",
        "colab": {
          "base_uri": "https://localhost:8080/",
          "height": 86
        }
      },
      "source": [
        "categorical_train2.zones.value_counts()"
      ],
      "execution_count": 0,
      "outputs": [
        {
          "output_type": "execute_result",
          "data": {
            "text/plain": [
              "south      7915\n",
              "central     682\n",
              "north       403\n",
              "Name: zones, dtype: int64"
            ]
          },
          "metadata": {
            "tags": []
          },
          "execution_count": 225
        }
      ]
    },
    {
      "cell_type": "code",
      "metadata": {
        "id": "gfQAQoLUHWPY",
        "colab_type": "code",
        "outputId": "542e0850-aac7-417c-d885-da0363dadc18",
        "colab": {
          "base_uri": "https://localhost:8080/",
          "height": 121
        }
      },
      "source": [
        "categorical_train2.neighbourhood.value_counts().head()"
      ],
      "execution_count": 0,
      "outputs": [
        {
          "output_type": "execute_result",
          "data": {
            "text/plain": [
              "Copacabana         2736\n",
              "Barra da Tijuca    1261\n",
              "Ipanema            1035\n",
              "Leblon              522\n",
              "Botafogo            488\n",
              "Name: neighbourhood, dtype: int64"
            ]
          },
          "metadata": {
            "tags": []
          },
          "execution_count": 226
        }
      ]
    },
    {
      "cell_type": "code",
      "metadata": {
        "id": "EbO76ftrPFWA",
        "colab_type": "code",
        "outputId": "7f23a690-4482-495b-e3ad-99899ea85fbc",
        "colab": {
          "base_uri": "https://localhost:8080/",
          "height": 198
        }
      },
      "source": [
        "pd.concat([categorical_train2.zones,numerical_train2.price],axis=1).groupby(by=\"zones\").agg([\"mean\",np.std])"
      ],
      "execution_count": 0,
      "outputs": [
        {
          "output_type": "execute_result",
          "data": {
            "text/html": [
              "<div>\n",
              "<style scoped>\n",
              "    .dataframe tbody tr th:only-of-type {\n",
              "        vertical-align: middle;\n",
              "    }\n",
              "\n",
              "    .dataframe tbody tr th {\n",
              "        vertical-align: top;\n",
              "    }\n",
              "\n",
              "    .dataframe thead tr th {\n",
              "        text-align: left;\n",
              "    }\n",
              "\n",
              "    .dataframe thead tr:last-of-type th {\n",
              "        text-align: right;\n",
              "    }\n",
              "</style>\n",
              "<table border=\"1\" class=\"dataframe\">\n",
              "  <thead>\n",
              "    <tr>\n",
              "      <th></th>\n",
              "      <th colspan=\"2\" halign=\"left\">price</th>\n",
              "    </tr>\n",
              "    <tr>\n",
              "      <th></th>\n",
              "      <th>mean</th>\n",
              "      <th>std</th>\n",
              "    </tr>\n",
              "    <tr>\n",
              "      <th>zones</th>\n",
              "      <th></th>\n",
              "      <th></th>\n",
              "    </tr>\n",
              "  </thead>\n",
              "  <tbody>\n",
              "    <tr>\n",
              "      <th>central</th>\n",
              "      <td>184.227273</td>\n",
              "      <td>248.557134</td>\n",
              "    </tr>\n",
              "    <tr>\n",
              "      <th>north</th>\n",
              "      <td>255.841191</td>\n",
              "      <td>1768.168368</td>\n",
              "    </tr>\n",
              "    <tr>\n",
              "      <th>south</th>\n",
              "      <td>389.420467</td>\n",
              "      <td>945.122313</td>\n",
              "    </tr>\n",
              "  </tbody>\n",
              "</table>\n",
              "</div>"
            ],
            "text/plain": [
              "              price             \n",
              "               mean          std\n",
              "zones                           \n",
              "central  184.227273   248.557134\n",
              "north    255.841191  1768.168368\n",
              "south    389.420467   945.122313"
            ]
          },
          "metadata": {
            "tags": []
          },
          "execution_count": 227
        }
      ]
    },
    {
      "cell_type": "code",
      "metadata": {
        "id": "3N9d_ifh6ku4",
        "colab_type": "code",
        "outputId": "7f1ef88d-0bc4-49e6-f705-950f7b6bd370",
        "colab": {
          "base_uri": "https://localhost:8080/",
          "height": 198
        }
      },
      "source": [
        "categorical_train2 = pd.concat([categorical_train2,pd.get_dummies(categorical_train2.zones,drop_first=True)],axis=1)\n",
        "categorical_train2.drop(labels=[\"neighbourhood\",\"zones\",\"extra_people\"],axis=1,inplace=True)\n",
        "categorical_train2.head()"
      ],
      "execution_count": 0,
      "outputs": [
        {
          "output_type": "execute_result",
          "data": {
            "text/html": [
              "<div>\n",
              "<style scoped>\n",
              "    .dataframe tbody tr th:only-of-type {\n",
              "        vertical-align: middle;\n",
              "    }\n",
              "\n",
              "    .dataframe tbody tr th {\n",
              "        vertical-align: top;\n",
              "    }\n",
              "\n",
              "    .dataframe thead th {\n",
              "        text-align: right;\n",
              "    }\n",
              "</style>\n",
              "<table border=\"1\" class=\"dataframe\">\n",
              "  <thead>\n",
              "    <tr style=\"text-align: right;\">\n",
              "      <th></th>\n",
              "      <th>property_type</th>\n",
              "      <th>room_type</th>\n",
              "      <th>Real Bed</th>\n",
              "      <th>north</th>\n",
              "      <th>south</th>\n",
              "    </tr>\n",
              "  </thead>\n",
              "  <tbody>\n",
              "    <tr>\n",
              "      <th>0</th>\n",
              "      <td>Apartment</td>\n",
              "      <td>Entire home/apt</td>\n",
              "      <td>1</td>\n",
              "      <td>0</td>\n",
              "      <td>1</td>\n",
              "    </tr>\n",
              "    <tr>\n",
              "      <th>1</th>\n",
              "      <td>Apartment</td>\n",
              "      <td>Entire home/apt</td>\n",
              "      <td>1</td>\n",
              "      <td>0</td>\n",
              "      <td>1</td>\n",
              "    </tr>\n",
              "    <tr>\n",
              "      <th>2</th>\n",
              "      <td>Apartment</td>\n",
              "      <td>Entire home/apt</td>\n",
              "      <td>1</td>\n",
              "      <td>0</td>\n",
              "      <td>1</td>\n",
              "    </tr>\n",
              "    <tr>\n",
              "      <th>3</th>\n",
              "      <td>Apartment</td>\n",
              "      <td>Entire home/apt</td>\n",
              "      <td>1</td>\n",
              "      <td>0</td>\n",
              "      <td>1</td>\n",
              "    </tr>\n",
              "    <tr>\n",
              "      <th>4</th>\n",
              "      <td>House</td>\n",
              "      <td>Entire home/apt</td>\n",
              "      <td>1</td>\n",
              "      <td>0</td>\n",
              "      <td>1</td>\n",
              "    </tr>\n",
              "  </tbody>\n",
              "</table>\n",
              "</div>"
            ],
            "text/plain": [
              "  property_type        room_type  Real Bed  north  south\n",
              "0     Apartment  Entire home/apt         1      0      1\n",
              "1     Apartment  Entire home/apt         1      0      1\n",
              "2     Apartment  Entire home/apt         1      0      1\n",
              "3     Apartment  Entire home/apt         1      0      1\n",
              "4         House  Entire home/apt         1      0      1"
            ]
          },
          "metadata": {
            "tags": []
          },
          "execution_count": 228
        }
      ]
    },
    {
      "cell_type": "markdown",
      "metadata": {
        "id": "y4rVvpOF9UwA",
        "colab_type": "text"
      },
      "source": [
        "#### room_type\n"
      ]
    },
    {
      "cell_type": "code",
      "metadata": {
        "id": "1oKDuHfW9W5j",
        "colab_type": "code",
        "outputId": "314002e4-6042-4979-a0a3-9568b798cb3d",
        "colab": {
          "base_uri": "https://localhost:8080/",
          "height": 86
        }
      },
      "source": [
        "categorical_train2.room_type.value_counts()"
      ],
      "execution_count": 0,
      "outputs": [
        {
          "output_type": "execute_result",
          "data": {
            "text/plain": [
              "Entire home/apt    6517\n",
              "Private room       2317\n",
              "Shared room         166\n",
              "Name: room_type, dtype: int64"
            ]
          },
          "metadata": {
            "tags": []
          },
          "execution_count": 229
        }
      ]
    },
    {
      "cell_type": "code",
      "metadata": {
        "id": "PDZflDNROCUN",
        "colab_type": "code",
        "outputId": "405bc52b-f7e4-4ce6-bff3-de1916a3969c",
        "colab": {
          "base_uri": "https://localhost:8080/",
          "height": 198
        }
      },
      "source": [
        "pd.concat([categorical_train2.room_type,numerical_train2.price],axis=1).groupby(by=\"room_type\").agg([\"mean\",np.std])"
      ],
      "execution_count": 0,
      "outputs": [
        {
          "output_type": "execute_result",
          "data": {
            "text/html": [
              "<div>\n",
              "<style scoped>\n",
              "    .dataframe tbody tr th:only-of-type {\n",
              "        vertical-align: middle;\n",
              "    }\n",
              "\n",
              "    .dataframe tbody tr th {\n",
              "        vertical-align: top;\n",
              "    }\n",
              "\n",
              "    .dataframe thead tr th {\n",
              "        text-align: left;\n",
              "    }\n",
              "\n",
              "    .dataframe thead tr:last-of-type th {\n",
              "        text-align: right;\n",
              "    }\n",
              "</style>\n",
              "<table border=\"1\" class=\"dataframe\">\n",
              "  <thead>\n",
              "    <tr>\n",
              "      <th></th>\n",
              "      <th colspan=\"2\" halign=\"left\">price</th>\n",
              "    </tr>\n",
              "    <tr>\n",
              "      <th></th>\n",
              "      <th>mean</th>\n",
              "      <th>std</th>\n",
              "    </tr>\n",
              "    <tr>\n",
              "      <th>room_type</th>\n",
              "      <th></th>\n",
              "      <th></th>\n",
              "    </tr>\n",
              "  </thead>\n",
              "  <tbody>\n",
              "    <tr>\n",
              "      <th>Entire home/apt</th>\n",
              "      <td>442.127666</td>\n",
              "      <td>1091.840381</td>\n",
              "    </tr>\n",
              "    <tr>\n",
              "      <th>Private room</th>\n",
              "      <td>178.019422</td>\n",
              "      <td>464.294616</td>\n",
              "    </tr>\n",
              "    <tr>\n",
              "      <th>Shared room</th>\n",
              "      <td>103.572289</td>\n",
              "      <td>102.387577</td>\n",
              "    </tr>\n",
              "  </tbody>\n",
              "</table>\n",
              "</div>"
            ],
            "text/plain": [
              "                      price             \n",
              "                       mean          std\n",
              "room_type                               \n",
              "Entire home/apt  442.127666  1091.840381\n",
              "Private room     178.019422   464.294616\n",
              "Shared room      103.572289   102.387577"
            ]
          },
          "metadata": {
            "tags": []
          },
          "execution_count": 230
        }
      ]
    },
    {
      "cell_type": "code",
      "metadata": {
        "id": "NwGjM3fJH_r8",
        "colab_type": "code",
        "outputId": "00f2ae7f-a5df-4e9a-a484-ec9d2b165e21",
        "colab": {
          "base_uri": "https://localhost:8080/",
          "height": 198
        }
      },
      "source": [
        "categorical_train2 = pd.concat([categorical_train2,pd.get_dummies(categorical_train2.room_type,drop_first=True)],axis=1)\n",
        "categorical_train2.drop(labels=[\"room_type\"],axis=1,inplace=True)\n",
        "categorical_train2.head()"
      ],
      "execution_count": 0,
      "outputs": [
        {
          "output_type": "execute_result",
          "data": {
            "text/html": [
              "<div>\n",
              "<style scoped>\n",
              "    .dataframe tbody tr th:only-of-type {\n",
              "        vertical-align: middle;\n",
              "    }\n",
              "\n",
              "    .dataframe tbody tr th {\n",
              "        vertical-align: top;\n",
              "    }\n",
              "\n",
              "    .dataframe thead th {\n",
              "        text-align: right;\n",
              "    }\n",
              "</style>\n",
              "<table border=\"1\" class=\"dataframe\">\n",
              "  <thead>\n",
              "    <tr style=\"text-align: right;\">\n",
              "      <th></th>\n",
              "      <th>property_type</th>\n",
              "      <th>Real Bed</th>\n",
              "      <th>north</th>\n",
              "      <th>south</th>\n",
              "      <th>Private room</th>\n",
              "      <th>Shared room</th>\n",
              "    </tr>\n",
              "  </thead>\n",
              "  <tbody>\n",
              "    <tr>\n",
              "      <th>0</th>\n",
              "      <td>Apartment</td>\n",
              "      <td>1</td>\n",
              "      <td>0</td>\n",
              "      <td>1</td>\n",
              "      <td>0</td>\n",
              "      <td>0</td>\n",
              "    </tr>\n",
              "    <tr>\n",
              "      <th>1</th>\n",
              "      <td>Apartment</td>\n",
              "      <td>1</td>\n",
              "      <td>0</td>\n",
              "      <td>1</td>\n",
              "      <td>0</td>\n",
              "      <td>0</td>\n",
              "    </tr>\n",
              "    <tr>\n",
              "      <th>2</th>\n",
              "      <td>Apartment</td>\n",
              "      <td>1</td>\n",
              "      <td>0</td>\n",
              "      <td>1</td>\n",
              "      <td>0</td>\n",
              "      <td>0</td>\n",
              "    </tr>\n",
              "    <tr>\n",
              "      <th>3</th>\n",
              "      <td>Apartment</td>\n",
              "      <td>1</td>\n",
              "      <td>0</td>\n",
              "      <td>1</td>\n",
              "      <td>0</td>\n",
              "      <td>0</td>\n",
              "    </tr>\n",
              "    <tr>\n",
              "      <th>4</th>\n",
              "      <td>House</td>\n",
              "      <td>1</td>\n",
              "      <td>0</td>\n",
              "      <td>1</td>\n",
              "      <td>0</td>\n",
              "      <td>0</td>\n",
              "    </tr>\n",
              "  </tbody>\n",
              "</table>\n",
              "</div>"
            ],
            "text/plain": [
              "  property_type  Real Bed  north  south  Private room  Shared room\n",
              "0     Apartment         1      0      1             0            0\n",
              "1     Apartment         1      0      1             0            0\n",
              "2     Apartment         1      0      1             0            0\n",
              "3     Apartment         1      0      1             0            0\n",
              "4         House         1      0      1             0            0"
            ]
          },
          "metadata": {
            "tags": []
          },
          "execution_count": 231
        }
      ]
    },
    {
      "cell_type": "markdown",
      "metadata": {
        "id": "RCb77U2aIS0Q",
        "colab_type": "text"
      },
      "source": [
        "#### property_type"
      ]
    },
    {
      "cell_type": "code",
      "metadata": {
        "id": "5mtG8YmhIVH1",
        "colab_type": "code",
        "colab": {}
      },
      "source": [
        "# size less or equal than 460 can be classified as \"Other\"\n",
        "series_property = categorical_train2.property_type.value_counts()\n",
        "# filter types\n",
        "target_types = series_property[(series_property <= 460) | (series_property == 7049)].index.to_list()\n",
        "# change the values for \"Other\" in case less or equal 460\n",
        "categorical_train2.loc[categorical_train2.property_type.isin(target_types),\"property_type\"] = \"Other\""
      ],
      "execution_count": 0,
      "outputs": []
    },
    {
      "cell_type": "code",
      "metadata": {
        "id": "PDPahBpgKBI5",
        "colab_type": "code",
        "outputId": "fa9f4357-d914-41d4-f7f2-39917b191f42",
        "colab": {
          "base_uri": "https://localhost:8080/",
          "height": 86
        }
      },
      "source": [
        "series_property.head(10)"
      ],
      "execution_count": 0,
      "outputs": [
        {
          "output_type": "execute_result",
          "data": {
            "text/plain": [
              "Apartment    7049\n",
              "Other        1327\n",
              "House         624\n",
              "Name: property_type, dtype: int64"
            ]
          },
          "metadata": {
            "tags": []
          },
          "execution_count": 238
        }
      ]
    },
    {
      "cell_type": "code",
      "metadata": {
        "id": "9Q4e4owQKcOV",
        "colab_type": "code",
        "outputId": "8385b805-ca18-483e-c053-e1778b9129c8",
        "colab": {
          "base_uri": "https://localhost:8080/",
          "height": 69
        }
      },
      "source": [
        "categorical_train2.property_type.value_counts()"
      ],
      "execution_count": 0,
      "outputs": [
        {
          "output_type": "execute_result",
          "data": {
            "text/plain": [
              "Other    8376\n",
              "House     624\n",
              "Name: property_type, dtype: int64"
            ]
          },
          "metadata": {
            "tags": []
          },
          "execution_count": 239
        }
      ]
    },
    {
      "cell_type": "code",
      "metadata": {
        "id": "4mDzl_8hJIkh",
        "colab_type": "code",
        "outputId": "468b06a4-2db5-40de-eb83-71796978d851",
        "colab": {
          "base_uri": "https://localhost:8080/",
          "height": 168
        }
      },
      "source": [
        "pd.concat([categorical_train2.property_type,numerical_train2.price],axis=1).groupby(by=\"property_type\").agg([\"mean\",np.std])"
      ],
      "execution_count": 0,
      "outputs": [
        {
          "output_type": "execute_result",
          "data": {
            "text/html": [
              "<div>\n",
              "<style scoped>\n",
              "    .dataframe tbody tr th:only-of-type {\n",
              "        vertical-align: middle;\n",
              "    }\n",
              "\n",
              "    .dataframe tbody tr th {\n",
              "        vertical-align: top;\n",
              "    }\n",
              "\n",
              "    .dataframe thead tr th {\n",
              "        text-align: left;\n",
              "    }\n",
              "\n",
              "    .dataframe thead tr:last-of-type th {\n",
              "        text-align: right;\n",
              "    }\n",
              "</style>\n",
              "<table border=\"1\" class=\"dataframe\">\n",
              "  <thead>\n",
              "    <tr>\n",
              "      <th></th>\n",
              "      <th colspan=\"2\" halign=\"left\">price</th>\n",
              "    </tr>\n",
              "    <tr>\n",
              "      <th></th>\n",
              "      <th>mean</th>\n",
              "      <th>std</th>\n",
              "    </tr>\n",
              "    <tr>\n",
              "      <th>property_type</th>\n",
              "      <th></th>\n",
              "      <th></th>\n",
              "    </tr>\n",
              "  </thead>\n",
              "  <tbody>\n",
              "    <tr>\n",
              "      <th>House</th>\n",
              "      <td>448.415064</td>\n",
              "      <td>1737.235805</td>\n",
              "    </tr>\n",
              "    <tr>\n",
              "      <th>Other</th>\n",
              "      <td>361.890998</td>\n",
              "      <td>882.012780</td>\n",
              "    </tr>\n",
              "  </tbody>\n",
              "</table>\n",
              "</div>"
            ],
            "text/plain": [
              "                    price             \n",
              "                     mean          std\n",
              "property_type                         \n",
              "House          448.415064  1737.235805\n",
              "Other          361.890998   882.012780"
            ]
          },
          "metadata": {
            "tags": []
          },
          "execution_count": 240
        }
      ]
    },
    {
      "cell_type": "code",
      "metadata": {
        "id": "QCC_6gjXPziL",
        "colab_type": "code",
        "outputId": "8a54f1fa-b9f2-4b80-8a78-ac30ee0ecef8",
        "colab": {
          "base_uri": "https://localhost:8080/",
          "height": 198
        }
      },
      "source": [
        "categorical_train2 = pd.concat([categorical_train2,pd.get_dummies(categorical_train2.property_type,drop_first=True)],axis=1)\n",
        "categorical_train2.drop(labels=[\"property_type\"],axis=1,inplace=True)\n",
        "categorical_train2.head()"
      ],
      "execution_count": 0,
      "outputs": [
        {
          "output_type": "execute_result",
          "data": {
            "text/html": [
              "<div>\n",
              "<style scoped>\n",
              "    .dataframe tbody tr th:only-of-type {\n",
              "        vertical-align: middle;\n",
              "    }\n",
              "\n",
              "    .dataframe tbody tr th {\n",
              "        vertical-align: top;\n",
              "    }\n",
              "\n",
              "    .dataframe thead th {\n",
              "        text-align: right;\n",
              "    }\n",
              "</style>\n",
              "<table border=\"1\" class=\"dataframe\">\n",
              "  <thead>\n",
              "    <tr style=\"text-align: right;\">\n",
              "      <th></th>\n",
              "      <th>Real Bed</th>\n",
              "      <th>north</th>\n",
              "      <th>south</th>\n",
              "      <th>Private room</th>\n",
              "      <th>Shared room</th>\n",
              "      <th>Other</th>\n",
              "    </tr>\n",
              "  </thead>\n",
              "  <tbody>\n",
              "    <tr>\n",
              "      <th>0</th>\n",
              "      <td>1</td>\n",
              "      <td>0</td>\n",
              "      <td>1</td>\n",
              "      <td>0</td>\n",
              "      <td>0</td>\n",
              "      <td>1</td>\n",
              "    </tr>\n",
              "    <tr>\n",
              "      <th>1</th>\n",
              "      <td>1</td>\n",
              "      <td>0</td>\n",
              "      <td>1</td>\n",
              "      <td>0</td>\n",
              "      <td>0</td>\n",
              "      <td>1</td>\n",
              "    </tr>\n",
              "    <tr>\n",
              "      <th>2</th>\n",
              "      <td>1</td>\n",
              "      <td>0</td>\n",
              "      <td>1</td>\n",
              "      <td>0</td>\n",
              "      <td>0</td>\n",
              "      <td>1</td>\n",
              "    </tr>\n",
              "    <tr>\n",
              "      <th>3</th>\n",
              "      <td>1</td>\n",
              "      <td>0</td>\n",
              "      <td>1</td>\n",
              "      <td>0</td>\n",
              "      <td>0</td>\n",
              "      <td>1</td>\n",
              "    </tr>\n",
              "    <tr>\n",
              "      <th>4</th>\n",
              "      <td>1</td>\n",
              "      <td>0</td>\n",
              "      <td>1</td>\n",
              "      <td>0</td>\n",
              "      <td>0</td>\n",
              "      <td>0</td>\n",
              "    </tr>\n",
              "  </tbody>\n",
              "</table>\n",
              "</div>"
            ],
            "text/plain": [
              "   Real Bed  north  south  Private room  Shared room  Other\n",
              "0         1      0      1             0            0      1\n",
              "1         1      0      1             0            0      1\n",
              "2         1      0      1             0            0      1\n",
              "3         1      0      1             0            0      1\n",
              "4         1      0      1             0            0      0"
            ]
          },
          "metadata": {
            "tags": []
          },
          "execution_count": 241
        }
      ]
    },
    {
      "cell_type": "markdown",
      "metadata": {
        "id": "CnbhuZYpQFge",
        "colab_type": "text"
      },
      "source": [
        "### Categorical columns pipeline"
      ]
    },
    {
      "cell_type": "code",
      "metadata": {
        "id": "zzcwQxCUG_-c",
        "colab_type": "code",
        "colab": {}
      },
      "source": [
        "def mapping_zones(neigh):\n",
        "    if neigh in south:\n",
        "      return \"south\"\n",
        "    elif neigh in central:\n",
        "      return \"central\"\n",
        "    elif neigh in north:\n",
        "      return \"north\"\n",
        "    else:\n",
        "      return \"south\"\n",
        "\n",
        "south = [\"Copacabana\",\"Ipanema\",\"Leblon\",\"Botafogo\",\"Flamengo\",\"Leme\",\"Laranjeiras\",\"Glória\",\n",
        "         \"Catete\",\"Lagoa\",\"Jardim Botânico\",\"Gávea\",\"Humaitá\",\"São Conrado\",\"Vidigal\",\n",
        "         \"Urca\",\"Cosme Velho\",\"Rocinha\"]\n",
        "central = [\"Santa Teresa\",\"Centro\",\"Lapa\",\"São Cristóvão\",\"Rio Comprido\",\"Estacio\",\n",
        "           \"Gamboa\",\"Cidade Nova\",\"Santo Cristo\",\"Mangueira\",\"Benfica\",\"Saúde\",\n",
        "           \"Catumbi\",\"Caju\"]\n",
        "west = [\"Barra da Tijuca\",\"Recreio dos Bandeirantes\",\"Barra de Guaratiba\",\"Joá\"]\n",
        "north = [\"Tijuca\",\"Maracanã\",\"Vila Isabel\",\"Grajaú\",\"Praça da Bandeira\",\"Andaraí\",\"Engenho Novo\",\n",
        "         \"Engenho de Dentro\",\"Del Castilho\",\"Todos os Santos\",\"Marechal Hermes\",\"Penha\",\n",
        "         \"Irajá\", \"Cachambi\", \"Rocha\",\"Brás de Pina\", \"Cascadura\", \"Bento Ribeiro\",\"Maria da Graça\",\n",
        "         \"Inhaúma\",\"Méier\",\"Quintino Bocaiúva\",\"Sampaio\",\"Pilares\",\"Madureira\",\"Parada de Lucas\",\n",
        "         \"Guadalupe\",\"Lins de Vasconcelos\",\"Coelho Neto\",\"Engenho da Rainha\",\"Encantado\",\n",
        "         \"Tomás Coelho\",\"Penha Circular\",\"Parque Anchieta\",\"Piedade\",\"Oswaldo Cruz\",\"Complexo de Alemão\",\n",
        "         \"Riachuelo\",\"Vincente de Carvalho\"]\n"
      ],
      "execution_count": 0,
      "outputs": []
    },
    {
      "cell_type": "code",
      "metadata": {
        "id": "lXTuPDXxeQDE",
        "colab_type": "code",
        "colab": {}
      },
      "source": [
        "# Preprocessing Categorical Columns\n",
        "class CategoricalPreprocessing(BaseEstimator, TransformerMixin):\n",
        "\n",
        "  #Class constructor method that takes a boolean as its argument\n",
        "  def __init__(self, scenario=0):\n",
        "    self.scenario = scenario\n",
        "\n",
        "  #Return self nothing else to do here    \n",
        "  def fit( self, X, y = None):\n",
        "    return self \n",
        "        \n",
        "  #Transformer method we wrote for this transformer \n",
        "  def transform(self, X , y = None):\n",
        "    df = X.copy()\n",
        "\n",
        "    # bed_type\n",
        "    # bed_type can be split into \"Real Bed\" and \"Other\"\n",
        "    df.loc[df.bed_type != \"Real Bed\",\"bed_type\"] = \"Other\"\n",
        "    # dummify the column and concatenate with df\n",
        "    df = pd.concat([df,pd.get_dummies(df.bed_type,drop_first=True)],axis=1)\n",
        "\n",
        "    # neighbourhood\n",
        "    # transform neigh info into zones\n",
        "    df[\"zones\"] = df.neighbourhood.map(mapping_zones)\n",
        "    # dummify the column and concatenate with df\n",
        "    df = pd.concat([df,pd.get_dummies(df.zones,drop_first=True)],axis=1)\n",
        "\n",
        "    # room_type\n",
        "    # dummify the column and concatenate with df\n",
        "    df = pd.concat([df,pd.get_dummies(df.room_type,drop_first=True)],axis=1)\n",
        "\n",
        "    # property_tye\n",
        "    # size less or equal than 460 can be classified as \"Other\"\n",
        "#    series_property = df.property_type.value_counts()\n",
        "    # filter types\n",
        "#    target_types = series_property[(series_property <= 460) | (series_property == 7049)].index.to_list()\n",
        "    # change the values for \"Other\" in case less or equal 460\n",
        "#    df.loc[df.property_type.isin(target_types),\"property_type\"] = \"Other\"\n",
        "    # dummify the column and concatenate with df\n",
        "#    df = pd.concat([df,pd.get_dummies(df.property_type,drop_first=True)],axis=1)\n",
        "\n",
        "    # drop original columns\n",
        "    df.drop(labels=[\"bed_type\",\"neighbourhood\",\"zones\",\n",
        "                    \"extra_people\",\"room_type\",\"property_type\"],\n",
        "            axis=1,inplace=True)\n",
        "    return df"
      ],
      "execution_count": 0,
      "outputs": []
    },
    {
      "cell_type": "code",
      "metadata": {
        "id": "VOh8KgeZXAmr",
        "colab_type": "code",
        "colab": {}
      },
      "source": [
        "# Preprocessing Categorical Columns\n",
        "class CategoricalPreprocessingNoDummy(BaseEstimator, TransformerMixin):\n",
        "\n",
        "  #Class constructor method that takes a boolean as its argument\n",
        "  def __init__(self, scenario=0):\n",
        "    self.scenario = scenario\n",
        "\n",
        "  #Return self nothing else to do here    \n",
        "  def fit( self, X, y = None):\n",
        "    return self \n",
        "        \n",
        "  #Transformer method we wrote for this transformer \n",
        "  def transform(self, X , y = None):\n",
        "    df = X.copy()\n",
        "\n",
        "    # bed_type\n",
        "    # bed_type can be split into \"Real Bed\" and \"Other\"\n",
        "    df.loc[df.bed_type != \"Real Bed\",\"bed_type\"] = \"Other\"\n",
        "  \n",
        "    # neighbourhood\n",
        "    # transform neigh info into zones\n",
        "    df[\"zones\"] = df.neighbourhood.map(mapping_zones)\n",
        "    \n",
        "    # room_type\n",
        "    \n",
        "    # property_tye\n",
        "    # size less or equal than 460 can be classified as \"Other\"\n",
        "    series_property = df.property_type.value_counts()\n",
        "    # filter types\n",
        "    target_types = series_property[(series_property <= 460) | (series_property == 7049)].index.to_list()\n",
        "    # change the values for \"Other\" in case less or equal 460\n",
        "    df.loc[df.property_type.isin(target_types),\"property_type\"] = \"Other\"\n",
        "\n",
        "    # drop original columns\n",
        "    df.drop(labels=[\"neighbourhood\",\"extra_people\"],\n",
        "            axis=1,inplace=True)\n",
        "   \n",
        "    # convert columns to categorical\n",
        "    for name in df.columns.to_list():\n",
        "      col = pd.Categorical(df[name])\n",
        "      df[name] = col.codes\n",
        "    return df"
      ],
      "execution_count": 0,
      "outputs": []
    },
    {
      "cell_type": "code",
      "metadata": {
        "id": "ImFChYCQn8pj",
        "colab_type": "code",
        "colab": {}
      },
      "source": [
        "# validation\n",
        "categorical_features = ['neighbourhood', 'property_type', \n",
        "                        'room_type', 'bed_type', 'extra_people']\n",
        "cat_fs = CategoricalPreprocessing()\n",
        "cat_fs.transform(train[categorical_features])"
      ],
      "execution_count": 0,
      "outputs": []
    },
    {
      "cell_type": "code",
      "metadata": {
        "id": "l8GRFXl-XqND",
        "colab_type": "code",
        "outputId": "3bdce296-e5ad-454d-d91a-abe118199f71",
        "colab": {
          "base_uri": "https://localhost:8080/",
          "height": 1000
        }
      },
      "source": [
        "# validation 2\n",
        "cat_fs2 = CategoricalPreprocessingNoDummy()\n",
        "cat_fs2.transform(train[categorical_features])"
      ],
      "execution_count": 0,
      "outputs": [
        {
          "output_type": "execute_result",
          "data": {
            "text/html": [
              "<div>\n",
              "<style scoped>\n",
              "    .dataframe tbody tr th:only-of-type {\n",
              "        vertical-align: middle;\n",
              "    }\n",
              "\n",
              "    .dataframe tbody tr th {\n",
              "        vertical-align: top;\n",
              "    }\n",
              "\n",
              "    .dataframe thead th {\n",
              "        text-align: right;\n",
              "    }\n",
              "</style>\n",
              "<table border=\"1\" class=\"dataframe\">\n",
              "  <thead>\n",
              "    <tr style=\"text-align: right;\">\n",
              "      <th></th>\n",
              "      <th>property_type</th>\n",
              "      <th>room_type</th>\n",
              "      <th>bed_type</th>\n",
              "      <th>zones</th>\n",
              "    </tr>\n",
              "  </thead>\n",
              "  <tbody>\n",
              "    <tr>\n",
              "      <th>0</th>\n",
              "      <td>1</td>\n",
              "      <td>0</td>\n",
              "      <td>1</td>\n",
              "      <td>2</td>\n",
              "    </tr>\n",
              "    <tr>\n",
              "      <th>1</th>\n",
              "      <td>1</td>\n",
              "      <td>0</td>\n",
              "      <td>1</td>\n",
              "      <td>2</td>\n",
              "    </tr>\n",
              "    <tr>\n",
              "      <th>2</th>\n",
              "      <td>1</td>\n",
              "      <td>0</td>\n",
              "      <td>1</td>\n",
              "      <td>2</td>\n",
              "    </tr>\n",
              "    <tr>\n",
              "      <th>3</th>\n",
              "      <td>1</td>\n",
              "      <td>0</td>\n",
              "      <td>1</td>\n",
              "      <td>2</td>\n",
              "    </tr>\n",
              "    <tr>\n",
              "      <th>4</th>\n",
              "      <td>0</td>\n",
              "      <td>0</td>\n",
              "      <td>1</td>\n",
              "      <td>2</td>\n",
              "    </tr>\n",
              "    <tr>\n",
              "      <th>5</th>\n",
              "      <td>0</td>\n",
              "      <td>1</td>\n",
              "      <td>1</td>\n",
              "      <td>1</td>\n",
              "    </tr>\n",
              "    <tr>\n",
              "      <th>6</th>\n",
              "      <td>1</td>\n",
              "      <td>1</td>\n",
              "      <td>1</td>\n",
              "      <td>0</td>\n",
              "    </tr>\n",
              "    <tr>\n",
              "      <th>7</th>\n",
              "      <td>1</td>\n",
              "      <td>0</td>\n",
              "      <td>1</td>\n",
              "      <td>2</td>\n",
              "    </tr>\n",
              "    <tr>\n",
              "      <th>8</th>\n",
              "      <td>1</td>\n",
              "      <td>0</td>\n",
              "      <td>1</td>\n",
              "      <td>2</td>\n",
              "    </tr>\n",
              "    <tr>\n",
              "      <th>9</th>\n",
              "      <td>1</td>\n",
              "      <td>1</td>\n",
              "      <td>1</td>\n",
              "      <td>2</td>\n",
              "    </tr>\n",
              "    <tr>\n",
              "      <th>10</th>\n",
              "      <td>1</td>\n",
              "      <td>0</td>\n",
              "      <td>1</td>\n",
              "      <td>2</td>\n",
              "    </tr>\n",
              "    <tr>\n",
              "      <th>11</th>\n",
              "      <td>1</td>\n",
              "      <td>0</td>\n",
              "      <td>1</td>\n",
              "      <td>2</td>\n",
              "    </tr>\n",
              "    <tr>\n",
              "      <th>12</th>\n",
              "      <td>1</td>\n",
              "      <td>0</td>\n",
              "      <td>1</td>\n",
              "      <td>2</td>\n",
              "    </tr>\n",
              "    <tr>\n",
              "      <th>13</th>\n",
              "      <td>1</td>\n",
              "      <td>0</td>\n",
              "      <td>1</td>\n",
              "      <td>2</td>\n",
              "    </tr>\n",
              "    <tr>\n",
              "      <th>14</th>\n",
              "      <td>1</td>\n",
              "      <td>0</td>\n",
              "      <td>1</td>\n",
              "      <td>2</td>\n",
              "    </tr>\n",
              "    <tr>\n",
              "      <th>15</th>\n",
              "      <td>1</td>\n",
              "      <td>0</td>\n",
              "      <td>1</td>\n",
              "      <td>0</td>\n",
              "    </tr>\n",
              "    <tr>\n",
              "      <th>16</th>\n",
              "      <td>1</td>\n",
              "      <td>1</td>\n",
              "      <td>1</td>\n",
              "      <td>1</td>\n",
              "    </tr>\n",
              "    <tr>\n",
              "      <th>17</th>\n",
              "      <td>1</td>\n",
              "      <td>0</td>\n",
              "      <td>1</td>\n",
              "      <td>0</td>\n",
              "    </tr>\n",
              "    <tr>\n",
              "      <th>18</th>\n",
              "      <td>1</td>\n",
              "      <td>0</td>\n",
              "      <td>0</td>\n",
              "      <td>2</td>\n",
              "    </tr>\n",
              "    <tr>\n",
              "      <th>19</th>\n",
              "      <td>1</td>\n",
              "      <td>1</td>\n",
              "      <td>1</td>\n",
              "      <td>2</td>\n",
              "    </tr>\n",
              "    <tr>\n",
              "      <th>20</th>\n",
              "      <td>1</td>\n",
              "      <td>0</td>\n",
              "      <td>1</td>\n",
              "      <td>2</td>\n",
              "    </tr>\n",
              "    <tr>\n",
              "      <th>21</th>\n",
              "      <td>1</td>\n",
              "      <td>1</td>\n",
              "      <td>1</td>\n",
              "      <td>2</td>\n",
              "    </tr>\n",
              "    <tr>\n",
              "      <th>22</th>\n",
              "      <td>1</td>\n",
              "      <td>0</td>\n",
              "      <td>1</td>\n",
              "      <td>2</td>\n",
              "    </tr>\n",
              "    <tr>\n",
              "      <th>23</th>\n",
              "      <td>1</td>\n",
              "      <td>0</td>\n",
              "      <td>1</td>\n",
              "      <td>2</td>\n",
              "    </tr>\n",
              "    <tr>\n",
              "      <th>24</th>\n",
              "      <td>1</td>\n",
              "      <td>0</td>\n",
              "      <td>1</td>\n",
              "      <td>2</td>\n",
              "    </tr>\n",
              "    <tr>\n",
              "      <th>25</th>\n",
              "      <td>1</td>\n",
              "      <td>0</td>\n",
              "      <td>1</td>\n",
              "      <td>2</td>\n",
              "    </tr>\n",
              "    <tr>\n",
              "      <th>26</th>\n",
              "      <td>1</td>\n",
              "      <td>0</td>\n",
              "      <td>1</td>\n",
              "      <td>2</td>\n",
              "    </tr>\n",
              "    <tr>\n",
              "      <th>27</th>\n",
              "      <td>1</td>\n",
              "      <td>0</td>\n",
              "      <td>1</td>\n",
              "      <td>2</td>\n",
              "    </tr>\n",
              "    <tr>\n",
              "      <th>28</th>\n",
              "      <td>1</td>\n",
              "      <td>1</td>\n",
              "      <td>1</td>\n",
              "      <td>2</td>\n",
              "    </tr>\n",
              "    <tr>\n",
              "      <th>29</th>\n",
              "      <td>1</td>\n",
              "      <td>0</td>\n",
              "      <td>1</td>\n",
              "      <td>2</td>\n",
              "    </tr>\n",
              "    <tr>\n",
              "      <th>...</th>\n",
              "      <td>...</td>\n",
              "      <td>...</td>\n",
              "      <td>...</td>\n",
              "      <td>...</td>\n",
              "    </tr>\n",
              "    <tr>\n",
              "      <th>8970</th>\n",
              "      <td>1</td>\n",
              "      <td>0</td>\n",
              "      <td>1</td>\n",
              "      <td>2</td>\n",
              "    </tr>\n",
              "    <tr>\n",
              "      <th>8971</th>\n",
              "      <td>1</td>\n",
              "      <td>0</td>\n",
              "      <td>1</td>\n",
              "      <td>2</td>\n",
              "    </tr>\n",
              "    <tr>\n",
              "      <th>8972</th>\n",
              "      <td>1</td>\n",
              "      <td>0</td>\n",
              "      <td>1</td>\n",
              "      <td>2</td>\n",
              "    </tr>\n",
              "    <tr>\n",
              "      <th>8973</th>\n",
              "      <td>1</td>\n",
              "      <td>0</td>\n",
              "      <td>1</td>\n",
              "      <td>2</td>\n",
              "    </tr>\n",
              "    <tr>\n",
              "      <th>8974</th>\n",
              "      <td>1</td>\n",
              "      <td>0</td>\n",
              "      <td>1</td>\n",
              "      <td>2</td>\n",
              "    </tr>\n",
              "    <tr>\n",
              "      <th>8975</th>\n",
              "      <td>1</td>\n",
              "      <td>0</td>\n",
              "      <td>1</td>\n",
              "      <td>2</td>\n",
              "    </tr>\n",
              "    <tr>\n",
              "      <th>8976</th>\n",
              "      <td>1</td>\n",
              "      <td>0</td>\n",
              "      <td>1</td>\n",
              "      <td>2</td>\n",
              "    </tr>\n",
              "    <tr>\n",
              "      <th>8977</th>\n",
              "      <td>1</td>\n",
              "      <td>0</td>\n",
              "      <td>1</td>\n",
              "      <td>2</td>\n",
              "    </tr>\n",
              "    <tr>\n",
              "      <th>8978</th>\n",
              "      <td>1</td>\n",
              "      <td>1</td>\n",
              "      <td>1</td>\n",
              "      <td>2</td>\n",
              "    </tr>\n",
              "    <tr>\n",
              "      <th>8979</th>\n",
              "      <td>1</td>\n",
              "      <td>0</td>\n",
              "      <td>1</td>\n",
              "      <td>2</td>\n",
              "    </tr>\n",
              "    <tr>\n",
              "      <th>8980</th>\n",
              "      <td>1</td>\n",
              "      <td>1</td>\n",
              "      <td>1</td>\n",
              "      <td>2</td>\n",
              "    </tr>\n",
              "    <tr>\n",
              "      <th>8981</th>\n",
              "      <td>1</td>\n",
              "      <td>1</td>\n",
              "      <td>1</td>\n",
              "      <td>2</td>\n",
              "    </tr>\n",
              "    <tr>\n",
              "      <th>8982</th>\n",
              "      <td>1</td>\n",
              "      <td>0</td>\n",
              "      <td>1</td>\n",
              "      <td>2</td>\n",
              "    </tr>\n",
              "    <tr>\n",
              "      <th>8983</th>\n",
              "      <td>1</td>\n",
              "      <td>0</td>\n",
              "      <td>1</td>\n",
              "      <td>2</td>\n",
              "    </tr>\n",
              "    <tr>\n",
              "      <th>8984</th>\n",
              "      <td>1</td>\n",
              "      <td>0</td>\n",
              "      <td>1</td>\n",
              "      <td>2</td>\n",
              "    </tr>\n",
              "    <tr>\n",
              "      <th>8985</th>\n",
              "      <td>1</td>\n",
              "      <td>0</td>\n",
              "      <td>1</td>\n",
              "      <td>2</td>\n",
              "    </tr>\n",
              "    <tr>\n",
              "      <th>8986</th>\n",
              "      <td>1</td>\n",
              "      <td>0</td>\n",
              "      <td>1</td>\n",
              "      <td>2</td>\n",
              "    </tr>\n",
              "    <tr>\n",
              "      <th>8987</th>\n",
              "      <td>1</td>\n",
              "      <td>0</td>\n",
              "      <td>1</td>\n",
              "      <td>2</td>\n",
              "    </tr>\n",
              "    <tr>\n",
              "      <th>8988</th>\n",
              "      <td>1</td>\n",
              "      <td>0</td>\n",
              "      <td>1</td>\n",
              "      <td>2</td>\n",
              "    </tr>\n",
              "    <tr>\n",
              "      <th>8989</th>\n",
              "      <td>1</td>\n",
              "      <td>0</td>\n",
              "      <td>1</td>\n",
              "      <td>2</td>\n",
              "    </tr>\n",
              "    <tr>\n",
              "      <th>8990</th>\n",
              "      <td>1</td>\n",
              "      <td>0</td>\n",
              "      <td>1</td>\n",
              "      <td>2</td>\n",
              "    </tr>\n",
              "    <tr>\n",
              "      <th>8991</th>\n",
              "      <td>1</td>\n",
              "      <td>1</td>\n",
              "      <td>1</td>\n",
              "      <td>2</td>\n",
              "    </tr>\n",
              "    <tr>\n",
              "      <th>8992</th>\n",
              "      <td>1</td>\n",
              "      <td>2</td>\n",
              "      <td>1</td>\n",
              "      <td>2</td>\n",
              "    </tr>\n",
              "    <tr>\n",
              "      <th>8993</th>\n",
              "      <td>1</td>\n",
              "      <td>0</td>\n",
              "      <td>1</td>\n",
              "      <td>2</td>\n",
              "    </tr>\n",
              "    <tr>\n",
              "      <th>8994</th>\n",
              "      <td>0</td>\n",
              "      <td>0</td>\n",
              "      <td>1</td>\n",
              "      <td>2</td>\n",
              "    </tr>\n",
              "    <tr>\n",
              "      <th>8995</th>\n",
              "      <td>1</td>\n",
              "      <td>1</td>\n",
              "      <td>1</td>\n",
              "      <td>2</td>\n",
              "    </tr>\n",
              "    <tr>\n",
              "      <th>8996</th>\n",
              "      <td>1</td>\n",
              "      <td>0</td>\n",
              "      <td>1</td>\n",
              "      <td>2</td>\n",
              "    </tr>\n",
              "    <tr>\n",
              "      <th>8997</th>\n",
              "      <td>0</td>\n",
              "      <td>1</td>\n",
              "      <td>1</td>\n",
              "      <td>0</td>\n",
              "    </tr>\n",
              "    <tr>\n",
              "      <th>8998</th>\n",
              "      <td>1</td>\n",
              "      <td>0</td>\n",
              "      <td>1</td>\n",
              "      <td>2</td>\n",
              "    </tr>\n",
              "    <tr>\n",
              "      <th>8999</th>\n",
              "      <td>1</td>\n",
              "      <td>0</td>\n",
              "      <td>1</td>\n",
              "      <td>2</td>\n",
              "    </tr>\n",
              "  </tbody>\n",
              "</table>\n",
              "<p>9000 rows × 4 columns</p>\n",
              "</div>"
            ],
            "text/plain": [
              "      property_type  room_type  bed_type  zones\n",
              "0                 1          0         1      2\n",
              "1                 1          0         1      2\n",
              "2                 1          0         1      2\n",
              "3                 1          0         1      2\n",
              "4                 0          0         1      2\n",
              "5                 0          1         1      1\n",
              "6                 1          1         1      0\n",
              "7                 1          0         1      2\n",
              "8                 1          0         1      2\n",
              "9                 1          1         1      2\n",
              "10                1          0         1      2\n",
              "11                1          0         1      2\n",
              "12                1          0         1      2\n",
              "13                1          0         1      2\n",
              "14                1          0         1      2\n",
              "15                1          0         1      0\n",
              "16                1          1         1      1\n",
              "17                1          0         1      0\n",
              "18                1          0         0      2\n",
              "19                1          1         1      2\n",
              "20                1          0         1      2\n",
              "21                1          1         1      2\n",
              "22                1          0         1      2\n",
              "23                1          0         1      2\n",
              "24                1          0         1      2\n",
              "25                1          0         1      2\n",
              "26                1          0         1      2\n",
              "27                1          0         1      2\n",
              "28                1          1         1      2\n",
              "29                1          0         1      2\n",
              "...             ...        ...       ...    ...\n",
              "8970              1          0         1      2\n",
              "8971              1          0         1      2\n",
              "8972              1          0         1      2\n",
              "8973              1          0         1      2\n",
              "8974              1          0         1      2\n",
              "8975              1          0         1      2\n",
              "8976              1          0         1      2\n",
              "8977              1          0         1      2\n",
              "8978              1          1         1      2\n",
              "8979              1          0         1      2\n",
              "8980              1          1         1      2\n",
              "8981              1          1         1      2\n",
              "8982              1          0         1      2\n",
              "8983              1          0         1      2\n",
              "8984              1          0         1      2\n",
              "8985              1          0         1      2\n",
              "8986              1          0         1      2\n",
              "8987              1          0         1      2\n",
              "8988              1          0         1      2\n",
              "8989              1          0         1      2\n",
              "8990              1          0         1      2\n",
              "8991              1          1         1      2\n",
              "8992              1          2         1      2\n",
              "8993              1          0         1      2\n",
              "8994              0          0         1      2\n",
              "8995              1          1         1      2\n",
              "8996              1          0         1      2\n",
              "8997              0          1         1      0\n",
              "8998              1          0         1      2\n",
              "8999              1          0         1      2\n",
              "\n",
              "[9000 rows x 4 columns]"
            ]
          },
          "metadata": {
            "tags": []
          },
          "execution_count": 287
        }
      ]
    },
    {
      "cell_type": "markdown",
      "metadata": {
        "id": "olnS8KNDscfQ",
        "colab_type": "text"
      },
      "source": [
        "## Modeling (train & test)"
      ]
    },
    {
      "cell_type": "code",
      "metadata": {
        "id": "lCXLoUCbbDF7",
        "colab_type": "code",
        "outputId": "3eddd3f8-a112-4a79-e7c5-08826b01193c",
        "colab": {
          "base_uri": "https://localhost:8080/",
          "height": 35
        }
      },
      "source": [
        "df = clean_outliers(train[['accommodates', 'bathrooms', 'bedrooms', 'beds']])\n",
        "df.shape"
      ],
      "execution_count": 0,
      "outputs": [
        {
          "output_type": "execute_result",
          "data": {
            "text/plain": [
              "(8153, 4)"
            ]
          },
          "metadata": {
            "tags": []
          },
          "execution_count": 307
        }
      ]
    },
    {
      "cell_type": "code",
      "metadata": {
        "id": "16zj99hrsk6Q",
        "colab_type": "code",
        "colab": {}
      },
      "source": [
        "# Train\n",
        "X_train = train.loc[df.index,:].drop(labels=\"price\",axis=1)\n",
        "y_train = train.loc[df.index,\"price\"]\n",
        "\n",
        "# Test\n",
        "X_test = test"
      ],
      "execution_count": 0,
      "outputs": []
    },
    {
      "cell_type": "code",
      "metadata": {
        "id": "pvgPM9UGt4GE",
        "colab_type": "code",
        "colab": {}
      },
      "source": [
        "# Categrical features \n",
        "categorical_features = ['neighbourhood', 'property_type', 'room_type', 'bed_type', 'extra_people']\n",
        "# Numerical features \n",
        "numerical_features = ['accommodates', 'bathrooms', 'bedrooms', 'beds']\n",
        "\n",
        "# Defining the steps in the categorical pipeline     \n",
        "categorical_pipeline = Pipeline(steps = [('cat_selector', FeatureSelector(categorical_features)),\n",
        "                                       ('cat_prep', CategoricalPreprocessingNoDummy())#CategoricalPreprocessing()) \n",
        "                                       ]\n",
        "                              )\n",
        "# Defining the steps in the numerical pipeline     \n",
        "numerical_pipeline = Pipeline(steps = [('num_selector', FeatureSelector(numerical_features)),\n",
        "                                       ('scenario_selector', NumericalFeatureSelection()),\n",
        "                                       ('imputer_num',SimpleImputer(strategy='median')) \n",
        "                                       ]\n",
        "                              )\n",
        "# Combining numerical and categorical piepline into one full big pipeline horizontally \n",
        "# using FeatureUnion\n",
        "full_pipeline_preprocessing = FeatureUnion(transformer_list = [('categorical_pipeline', categorical_pipeline),\n",
        "                                                               ('numerical_pipeline', numerical_pipeline)\n",
        "                                                               ]\n",
        "                                           )"
      ],
      "execution_count": 0,
      "outputs": []
    },
    {
      "cell_type": "markdown",
      "metadata": {
        "id": "ZKG1JbOIzOcy",
        "colab_type": "text"
      },
      "source": [
        "## Algorithm Tuning"
      ]
    },
    {
      "cell_type": "code",
      "metadata": {
        "id": "HLYwcT6KzVfT",
        "colab_type": "code",
        "outputId": "5224144c-fbff-4631-b3e8-40e83042a98a",
        "colab": {
          "base_uri": "https://localhost:8080/",
          "height": 72
        }
      },
      "source": [
        "seed = 42\n",
        "num_folds = 5\n",
        "scoring = 'neg_mean_squared_error'\n",
        "\n",
        "# The full pipeline as a step in another pipeline with an estimator as the final step\n",
        "pipe = Pipeline(steps = [('full_pipeline', full_pipeline_preprocessing),\n",
        "                         (\"fs\",SelectKBest()),\n",
        "                         (\"regressor\",KNeighborsRegressor())])\n",
        "\n",
        "# create a dictionary with the hyperparameters\n",
        "search_space = [\n",
        "                {\"regressor\":[KNeighborsRegressor()],\n",
        "                 \"regressor__n_neighbors\": [10,20,30],\n",
        "                 \"fs__k\":[4,6,8]\n",
        "                 },\n",
        "                {\"regressor\":[LinearRegression()],\n",
        "                 \"regressor__fit_intercept\":[False,True],\n",
        "                 \"fs__k\":[4,6,8]\n",
        "                 }\n",
        "                ]\n",
        "\n",
        "# create grid search\n",
        "kfold = KFold(n_splits=num_folds,random_state=seed)\n",
        "\n",
        "# return_train_score=True\n",
        "# official documentation: \"computing the scores on the training set can be\n",
        "# computationally expensive and is not strictly required to\n",
        "# select the parameters that yield the best generalization performance\".\n",
        "grid = GridSearchCV(estimator=pipe, \n",
        "                    param_grid=search_space,\n",
        "                    cv=kfold,\n",
        "                    scoring=scoring,\n",
        "                    return_train_score=True,\n",
        "                    n_jobs=-1)\n",
        "\n",
        "# fit grid search\n",
        "best_model = grid.fit(X_train,y_train)"
      ],
      "execution_count": 0,
      "outputs": [
        {
          "output_type": "stream",
          "text": [
            "/usr/local/lib/python3.6/dist-packages/sklearn/model_selection/_search.py:814: DeprecationWarning: The default of the `iid` parameter will change from True to False in version 0.22 and will be removed in 0.24. This will change numeric results when test-set sizes are unequal.\n",
            "  DeprecationWarning)\n"
          ],
          "name": "stderr"
        }
      ]
    },
    {
      "cell_type": "code",
      "metadata": {
        "id": "oTpKBh3v6NSX",
        "colab_type": "code",
        "outputId": "ddc5400a-eb31-4e21-ecd2-3270c276b69a",
        "colab": {
          "base_uri": "https://localhost:8080/",
          "height": 777
        }
      },
      "source": [
        "result = pd.DataFrame(best_model.cv_results_)\n",
        "result"
      ],
      "execution_count": 0,
      "outputs": [
        {
          "output_type": "execute_result",
          "data": {
            "text/html": [
              "<div>\n",
              "<style scoped>\n",
              "    .dataframe tbody tr th:only-of-type {\n",
              "        vertical-align: middle;\n",
              "    }\n",
              "\n",
              "    .dataframe tbody tr th {\n",
              "        vertical-align: top;\n",
              "    }\n",
              "\n",
              "    .dataframe thead th {\n",
              "        text-align: right;\n",
              "    }\n",
              "</style>\n",
              "<table border=\"1\" class=\"dataframe\">\n",
              "  <thead>\n",
              "    <tr style=\"text-align: right;\">\n",
              "      <th></th>\n",
              "      <th>mean_fit_time</th>\n",
              "      <th>std_fit_time</th>\n",
              "      <th>mean_score_time</th>\n",
              "      <th>std_score_time</th>\n",
              "      <th>param_fs__k</th>\n",
              "      <th>param_regressor</th>\n",
              "      <th>param_regressor__n_neighbors</th>\n",
              "      <th>param_regressor__fit_intercept</th>\n",
              "      <th>params</th>\n",
              "      <th>split0_test_score</th>\n",
              "      <th>split1_test_score</th>\n",
              "      <th>split2_test_score</th>\n",
              "      <th>split3_test_score</th>\n",
              "      <th>split4_test_score</th>\n",
              "      <th>mean_test_score</th>\n",
              "      <th>std_test_score</th>\n",
              "      <th>rank_test_score</th>\n",
              "      <th>split0_train_score</th>\n",
              "      <th>split1_train_score</th>\n",
              "      <th>split2_train_score</th>\n",
              "      <th>split3_train_score</th>\n",
              "      <th>split4_train_score</th>\n",
              "      <th>mean_train_score</th>\n",
              "      <th>std_train_score</th>\n",
              "    </tr>\n",
              "  </thead>\n",
              "  <tbody>\n",
              "    <tr>\n",
              "      <th>0</th>\n",
              "      <td>0.125746</td>\n",
              "      <td>0.004554</td>\n",
              "      <td>0.070909</td>\n",
              "      <td>0.001683</td>\n",
              "      <td>4</td>\n",
              "      <td>KNeighborsRegressor(algorithm='auto', leaf_siz...</td>\n",
              "      <td>10</td>\n",
              "      <td>NaN</td>\n",
              "      <td>{'fs__k': 4, 'regressor': KNeighborsRegressor(...</td>\n",
              "      <td>-992429.130582</td>\n",
              "      <td>-135299.162121</td>\n",
              "      <td>-554036.009957</td>\n",
              "      <td>-1.913833e+06</td>\n",
              "      <td>-953718.877988</td>\n",
              "      <td>-909734.769386</td>\n",
              "      <td>590434.926413</td>\n",
              "      <td>15</td>\n",
              "      <td>-850151.209109</td>\n",
              "      <td>-1.085617e+06</td>\n",
              "      <td>-971842.762810</td>\n",
              "      <td>-606143.959575</td>\n",
              "      <td>-859382.604584</td>\n",
              "      <td>-874627.512304</td>\n",
              "      <td>159299.902260</td>\n",
              "    </tr>\n",
              "    <tr>\n",
              "      <th>1</th>\n",
              "      <td>0.124784</td>\n",
              "      <td>0.008929</td>\n",
              "      <td>0.085207</td>\n",
              "      <td>0.017987</td>\n",
              "      <td>4</td>\n",
              "      <td>KNeighborsRegressor(algorithm='auto', leaf_siz...</td>\n",
              "      <td>20</td>\n",
              "      <td>NaN</td>\n",
              "      <td>{'fs__k': 4, 'regressor': KNeighborsRegressor(...</td>\n",
              "      <td>-957983.254132</td>\n",
              "      <td>-85295.714801</td>\n",
              "      <td>-524866.361576</td>\n",
              "      <td>-1.916880e+06</td>\n",
              "      <td>-932859.185436</td>\n",
              "      <td>-883444.154599</td>\n",
              "      <td>606861.136402</td>\n",
              "      <td>9</td>\n",
              "      <td>-847848.270553</td>\n",
              "      <td>-1.056995e+06</td>\n",
              "      <td>-950548.235395</td>\n",
              "      <td>-604726.715884</td>\n",
              "      <td>-844534.184749</td>\n",
              "      <td>-860930.453602</td>\n",
              "      <td>150035.285981</td>\n",
              "    </tr>\n",
              "    <tr>\n",
              "      <th>2</th>\n",
              "      <td>0.122379</td>\n",
              "      <td>0.003364</td>\n",
              "      <td>0.081028</td>\n",
              "      <td>0.001726</td>\n",
              "      <td>4</td>\n",
              "      <td>KNeighborsRegressor(algorithm='auto', leaf_siz...</td>\n",
              "      <td>30</td>\n",
              "      <td>NaN</td>\n",
              "      <td>{'fs__k': 4, 'regressor': KNeighborsRegressor(...</td>\n",
              "      <td>-940073.046447</td>\n",
              "      <td>-73166.813649</td>\n",
              "      <td>-529160.214991</td>\n",
              "      <td>-1.911034e+06</td>\n",
              "      <td>-921970.037867</td>\n",
              "      <td>-874948.004555</td>\n",
              "      <td>606982.871893</td>\n",
              "      <td>7</td>\n",
              "      <td>-841388.557938</td>\n",
              "      <td>-1.055882e+06</td>\n",
              "      <td>-951607.033229</td>\n",
              "      <td>-605938.978112</td>\n",
              "      <td>-844404.409299</td>\n",
              "      <td>-859844.214515</td>\n",
              "      <td>149598.217240</td>\n",
              "    </tr>\n",
              "    <tr>\n",
              "      <th>3</th>\n",
              "      <td>0.116840</td>\n",
              "      <td>0.004694</td>\n",
              "      <td>0.089244</td>\n",
              "      <td>0.006311</td>\n",
              "      <td>6</td>\n",
              "      <td>KNeighborsRegressor(algorithm='auto', leaf_siz...</td>\n",
              "      <td>10</td>\n",
              "      <td>NaN</td>\n",
              "      <td>{'fs__k': 6, 'regressor': KNeighborsRegressor(...</td>\n",
              "      <td>-928240.322164</td>\n",
              "      <td>-103410.745365</td>\n",
              "      <td>-522850.735169</td>\n",
              "      <td>-1.925240e+06</td>\n",
              "      <td>-930199.155282</td>\n",
              "      <td>-881854.339489</td>\n",
              "      <td>604612.288695</td>\n",
              "      <td>8</td>\n",
              "      <td>-814203.716881</td>\n",
              "      <td>-1.028774e+06</td>\n",
              "      <td>-922256.779364</td>\n",
              "      <td>-602473.283324</td>\n",
              "      <td>-820986.828048</td>\n",
              "      <td>-837738.927126</td>\n",
              "      <td>141295.533699</td>\n",
              "    </tr>\n",
              "    <tr>\n",
              "      <th>4</th>\n",
              "      <td>0.118619</td>\n",
              "      <td>0.004870</td>\n",
              "      <td>0.100209</td>\n",
              "      <td>0.004966</td>\n",
              "      <td>6</td>\n",
              "      <td>KNeighborsRegressor(algorithm='auto', leaf_siz...</td>\n",
              "      <td>20</td>\n",
              "      <td>NaN</td>\n",
              "      <td>{'fs__k': 6, 'regressor': KNeighborsRegressor(...</td>\n",
              "      <td>-955323.017316</td>\n",
              "      <td>-122514.850561</td>\n",
              "      <td>-527012.087673</td>\n",
              "      <td>-1.929098e+06</td>\n",
              "      <td>-924081.823919</td>\n",
              "      <td>-891474.750328</td>\n",
              "      <td>600952.008162</td>\n",
              "      <td>12</td>\n",
              "      <td>-868432.153133</td>\n",
              "      <td>-1.056034e+06</td>\n",
              "      <td>-937839.660674</td>\n",
              "      <td>-596989.687360</td>\n",
              "      <td>-830482.339069</td>\n",
              "      <td>-857955.473957</td>\n",
              "      <td>151383.007710</td>\n",
              "    </tr>\n",
              "    <tr>\n",
              "      <th>5</th>\n",
              "      <td>0.116306</td>\n",
              "      <td>0.003467</td>\n",
              "      <td>0.105948</td>\n",
              "      <td>0.001553</td>\n",
              "      <td>6</td>\n",
              "      <td>KNeighborsRegressor(algorithm='auto', leaf_siz...</td>\n",
              "      <td>30</td>\n",
              "      <td>NaN</td>\n",
              "      <td>{'fs__k': 6, 'regressor': KNeighborsRegressor(...</td>\n",
              "      <td>-922014.683538</td>\n",
              "      <td>-131560.038337</td>\n",
              "      <td>-523094.928407</td>\n",
              "      <td>-1.932615e+06</td>\n",
              "      <td>-918830.184764</td>\n",
              "      <td>-885490.419759</td>\n",
              "      <td>599737.356246</td>\n",
              "      <td>10</td>\n",
              "      <td>-848580.173637</td>\n",
              "      <td>-1.062872e+06</td>\n",
              "      <td>-940804.137418</td>\n",
              "      <td>-598711.209635</td>\n",
              "      <td>-834422.821917</td>\n",
              "      <td>-857078.117612</td>\n",
              "      <td>152774.478274</td>\n",
              "    </tr>\n",
              "    <tr>\n",
              "      <th>6</th>\n",
              "      <td>0.120532</td>\n",
              "      <td>0.001854</td>\n",
              "      <td>0.102404</td>\n",
              "      <td>0.001959</td>\n",
              "      <td>8</td>\n",
              "      <td>KNeighborsRegressor(algorithm='auto', leaf_siz...</td>\n",
              "      <td>10</td>\n",
              "      <td>NaN</td>\n",
              "      <td>{'fs__k': 8, 'regressor': KNeighborsRegressor(...</td>\n",
              "      <td>-933803.858204</td>\n",
              "      <td>-155157.275684</td>\n",
              "      <td>-578373.631429</td>\n",
              "      <td>-1.925203e+06</td>\n",
              "      <td>-934878.083270</td>\n",
              "      <td>-905354.476970</td>\n",
              "      <td>585024.040070</td>\n",
              "      <td>14</td>\n",
              "      <td>-822359.543332</td>\n",
              "      <td>-1.071228e+06</td>\n",
              "      <td>-933340.909131</td>\n",
              "      <td>-600504.879902</td>\n",
              "      <td>-824956.872418</td>\n",
              "      <td>-850477.947517</td>\n",
              "      <td>154612.518427</td>\n",
              "    </tr>\n",
              "    <tr>\n",
              "      <th>7</th>\n",
              "      <td>0.120626</td>\n",
              "      <td>0.004550</td>\n",
              "      <td>0.120679</td>\n",
              "      <td>0.007718</td>\n",
              "      <td>8</td>\n",
              "      <td>KNeighborsRegressor(algorithm='auto', leaf_siz...</td>\n",
              "      <td>20</td>\n",
              "      <td>NaN</td>\n",
              "      <td>{'fs__k': 8, 'regressor': KNeighborsRegressor(...</td>\n",
              "      <td>-976963.907735</td>\n",
              "      <td>-111999.123668</td>\n",
              "      <td>-535953.307097</td>\n",
              "      <td>-1.947891e+06</td>\n",
              "      <td>-927655.421804</td>\n",
              "      <td>-899960.588851</td>\n",
              "      <td>609593.380654</td>\n",
              "      <td>13</td>\n",
              "      <td>-856840.237492</td>\n",
              "      <td>-1.048150e+06</td>\n",
              "      <td>-934643.613429</td>\n",
              "      <td>-598269.519877</td>\n",
              "      <td>-836611.963956</td>\n",
              "      <td>-854903.109385</td>\n",
              "      <td>148257.956584</td>\n",
              "    </tr>\n",
              "    <tr>\n",
              "      <th>8</th>\n",
              "      <td>0.117106</td>\n",
              "      <td>0.002352</td>\n",
              "      <td>0.131798</td>\n",
              "      <td>0.004871</td>\n",
              "      <td>8</td>\n",
              "      <td>KNeighborsRegressor(algorithm='auto', leaf_siz...</td>\n",
              "      <td>30</td>\n",
              "      <td>NaN</td>\n",
              "      <td>{'fs__k': 8, 'regressor': KNeighborsRegressor(...</td>\n",
              "      <td>-949982.767091</td>\n",
              "      <td>-106996.210938</td>\n",
              "      <td>-529948.115488</td>\n",
              "      <td>-1.935571e+06</td>\n",
              "      <td>-925568.375241</td>\n",
              "      <td>-889480.668698</td>\n",
              "      <td>606727.920956</td>\n",
              "      <td>11</td>\n",
              "      <td>-842801.724440</td>\n",
              "      <td>-1.052885e+06</td>\n",
              "      <td>-935066.569923</td>\n",
              "      <td>-594345.723352</td>\n",
              "      <td>-842936.321487</td>\n",
              "      <td>-853607.157379</td>\n",
              "      <td>150860.590066</td>\n",
              "    </tr>\n",
              "    <tr>\n",
              "      <th>9</th>\n",
              "      <td>0.136744</td>\n",
              "      <td>0.042438</td>\n",
              "      <td>0.028847</td>\n",
              "      <td>0.000898</td>\n",
              "      <td>4</td>\n",
              "      <td>LinearRegression(copy_X=True, fit_intercept=Tr...</td>\n",
              "      <td>NaN</td>\n",
              "      <td>False</td>\n",
              "      <td>{'fs__k': 4, 'regressor': LinearRegression(cop...</td>\n",
              "      <td>-925341.115894</td>\n",
              "      <td>-70314.469458</td>\n",
              "      <td>-514996.138955</td>\n",
              "      <td>-1.907524e+06</td>\n",
              "      <td>-909428.263685</td>\n",
              "      <td>-865387.656194</td>\n",
              "      <td>607665.037943</td>\n",
              "      <td>2</td>\n",
              "      <td>-848800.910003</td>\n",
              "      <td>-1.062816e+06</td>\n",
              "      <td>-951572.053475</td>\n",
              "      <td>-603819.332790</td>\n",
              "      <td>-852847.672588</td>\n",
              "      <td>-863971.232017</td>\n",
              "      <td>151819.698748</td>\n",
              "    </tr>\n",
              "    <tr>\n",
              "      <th>10</th>\n",
              "      <td>0.145370</td>\n",
              "      <td>0.016590</td>\n",
              "      <td>0.030104</td>\n",
              "      <td>0.000940</td>\n",
              "      <td>4</td>\n",
              "      <td>LinearRegression(copy_X=True, fit_intercept=Tr...</td>\n",
              "      <td>NaN</td>\n",
              "      <td>True</td>\n",
              "      <td>{'fs__k': 4, 'regressor': LinearRegression(cop...</td>\n",
              "      <td>-925724.944247</td>\n",
              "      <td>-70698.962223</td>\n",
              "      <td>-516775.324093</td>\n",
              "      <td>-1.907750e+06</td>\n",
              "      <td>-909509.068715</td>\n",
              "      <td>-865958.630311</td>\n",
              "      <td>607445.688611</td>\n",
              "      <td>6</td>\n",
              "      <td>-848645.652038</td>\n",
              "      <td>-1.062662e+06</td>\n",
              "      <td>-951196.705980</td>\n",
              "      <td>-603814.289806</td>\n",
              "      <td>-852846.863347</td>\n",
              "      <td>-863833.149509</td>\n",
              "      <td>151740.938936</td>\n",
              "    </tr>\n",
              "    <tr>\n",
              "      <th>11</th>\n",
              "      <td>0.194793</td>\n",
              "      <td>0.018914</td>\n",
              "      <td>0.062911</td>\n",
              "      <td>0.009878</td>\n",
              "      <td>6</td>\n",
              "      <td>LinearRegression(copy_X=True, fit_intercept=Tr...</td>\n",
              "      <td>NaN</td>\n",
              "      <td>False</td>\n",
              "      <td>{'fs__k': 6, 'regressor': LinearRegression(cop...</td>\n",
              "      <td>-925441.246341</td>\n",
              "      <td>-70042.037213</td>\n",
              "      <td>-514472.331830</td>\n",
              "      <td>-1.908350e+06</td>\n",
              "      <td>-909346.592859</td>\n",
              "      <td>-865397.103045</td>\n",
              "      <td>608080.616772</td>\n",
              "      <td>3</td>\n",
              "      <td>-848198.298486</td>\n",
              "      <td>-1.062303e+06</td>\n",
              "      <td>-951146.296526</td>\n",
              "      <td>-603183.139568</td>\n",
              "      <td>-852282.042980</td>\n",
              "      <td>-863422.590648</td>\n",
              "      <td>151874.552476</td>\n",
              "    </tr>\n",
              "    <tr>\n",
              "      <th>12</th>\n",
              "      <td>0.174876</td>\n",
              "      <td>0.031139</td>\n",
              "      <td>0.060936</td>\n",
              "      <td>0.015268</td>\n",
              "      <td>6</td>\n",
              "      <td>LinearRegression(copy_X=True, fit_intercept=Tr...</td>\n",
              "      <td>NaN</td>\n",
              "      <td>True</td>\n",
              "      <td>{'fs__k': 6, 'regressor': LinearRegression(cop...</td>\n",
              "      <td>-925428.634061</td>\n",
              "      <td>-70043.376743</td>\n",
              "      <td>-516049.113516</td>\n",
              "      <td>-1.907513e+06</td>\n",
              "      <td>-908252.503889</td>\n",
              "      <td>-865324.219050</td>\n",
              "      <td>607595.704531</td>\n",
              "      <td>1</td>\n",
              "      <td>-847714.903517</td>\n",
              "      <td>-1.061820e+06</td>\n",
              "      <td>-950340.258330</td>\n",
              "      <td>-602930.213454</td>\n",
              "      <td>-852143.959958</td>\n",
              "      <td>-862989.830815</td>\n",
              "      <td>151753.367156</td>\n",
              "    </tr>\n",
              "    <tr>\n",
              "      <th>13</th>\n",
              "      <td>0.165170</td>\n",
              "      <td>0.032901</td>\n",
              "      <td>0.052884</td>\n",
              "      <td>0.015888</td>\n",
              "      <td>8</td>\n",
              "      <td>LinearRegression(copy_X=True, fit_intercept=Tr...</td>\n",
              "      <td>NaN</td>\n",
              "      <td>False</td>\n",
              "      <td>{'fs__k': 8, 'regressor': LinearRegression(cop...</td>\n",
              "      <td>-925454.665549</td>\n",
              "      <td>-69929.725499</td>\n",
              "      <td>-515930.686078</td>\n",
              "      <td>-1.907937e+06</td>\n",
              "      <td>-908820.361878</td>\n",
              "      <td>-865481.274350</td>\n",
              "      <td>607793.013784</td>\n",
              "      <td>4</td>\n",
              "      <td>-847781.419491</td>\n",
              "      <td>-1.061912e+06</td>\n",
              "      <td>-950438.336574</td>\n",
              "      <td>-602968.995854</td>\n",
              "      <td>-852061.631077</td>\n",
              "      <td>-863032.500096</td>\n",
              "      <td>151775.402571</td>\n",
              "    </tr>\n",
              "    <tr>\n",
              "      <th>14</th>\n",
              "      <td>0.139767</td>\n",
              "      <td>0.045713</td>\n",
              "      <td>0.044929</td>\n",
              "      <td>0.025371</td>\n",
              "      <td>8</td>\n",
              "      <td>LinearRegression(copy_X=True, fit_intercept=Tr...</td>\n",
              "      <td>NaN</td>\n",
              "      <td>True</td>\n",
              "      <td>{'fs__k': 8, 'regressor': LinearRegression(cop...</td>\n",
              "      <td>-925344.521240</td>\n",
              "      <td>-70141.796270</td>\n",
              "      <td>-516501.163046</td>\n",
              "      <td>-1.907688e+06</td>\n",
              "      <td>-908550.234273</td>\n",
              "      <td>-865512.121883</td>\n",
              "      <td>607580.696457</td>\n",
              "      <td>5</td>\n",
              "      <td>-847688.639786</td>\n",
              "      <td>-1.061750e+06</td>\n",
              "      <td>-950208.965553</td>\n",
              "      <td>-602922.207047</td>\n",
              "      <td>-852035.647458</td>\n",
              "      <td>-862921.051243</td>\n",
              "      <td>151724.729184</td>\n",
              "    </tr>\n",
              "  </tbody>\n",
              "</table>\n",
              "</div>"
            ],
            "text/plain": [
              "    mean_fit_time  std_fit_time  ...  mean_train_score  std_train_score\n",
              "0        0.125746      0.004554  ...    -874627.512304    159299.902260\n",
              "1        0.124784      0.008929  ...    -860930.453602    150035.285981\n",
              "2        0.122379      0.003364  ...    -859844.214515    149598.217240\n",
              "3        0.116840      0.004694  ...    -837738.927126    141295.533699\n",
              "4        0.118619      0.004870  ...    -857955.473957    151383.007710\n",
              "5        0.116306      0.003467  ...    -857078.117612    152774.478274\n",
              "6        0.120532      0.001854  ...    -850477.947517    154612.518427\n",
              "7        0.120626      0.004550  ...    -854903.109385    148257.956584\n",
              "8        0.117106      0.002352  ...    -853607.157379    150860.590066\n",
              "9        0.136744      0.042438  ...    -863971.232017    151819.698748\n",
              "10       0.145370      0.016590  ...    -863833.149509    151740.938936\n",
              "11       0.194793      0.018914  ...    -863422.590648    151874.552476\n",
              "12       0.174876      0.031139  ...    -862989.830815    151753.367156\n",
              "13       0.165170      0.032901  ...    -863032.500096    151775.402571\n",
              "14       0.139767      0.045713  ...    -862921.051243    151724.729184\n",
              "\n",
              "[15 rows x 24 columns]"
            ]
          },
          "metadata": {
            "tags": []
          },
          "execution_count": 332
        }
      ]
    },
    {
      "cell_type": "code",
      "metadata": {
        "id": "zqRvHDrP6Pqy",
        "colab_type": "code",
        "outputId": "5923b253-2b34-4fcf-a835-38b219caace6",
        "colab": {
          "base_uri": "https://localhost:8080/",
          "height": 498
        }
      },
      "source": [
        "# Training score much higher than test score.\n",
        "# The standard deviation of the test score is large.\n",
        "result_train = result[['mean_train_score', 'std_train_score','mean_test_score', 'std_test_score']].copy()\n",
        "result_train.loc[:,['mean_train_score','mean_test_score']] *= -1\n",
        "np.sqrt(result_train)"
      ],
      "execution_count": 0,
      "outputs": [
        {
          "output_type": "execute_result",
          "data": {
            "text/html": [
              "<div>\n",
              "<style scoped>\n",
              "    .dataframe tbody tr th:only-of-type {\n",
              "        vertical-align: middle;\n",
              "    }\n",
              "\n",
              "    .dataframe tbody tr th {\n",
              "        vertical-align: top;\n",
              "    }\n",
              "\n",
              "    .dataframe thead th {\n",
              "        text-align: right;\n",
              "    }\n",
              "</style>\n",
              "<table border=\"1\" class=\"dataframe\">\n",
              "  <thead>\n",
              "    <tr style=\"text-align: right;\">\n",
              "      <th></th>\n",
              "      <th>mean_train_score</th>\n",
              "      <th>std_train_score</th>\n",
              "      <th>mean_test_score</th>\n",
              "      <th>std_test_score</th>\n",
              "    </tr>\n",
              "  </thead>\n",
              "  <tbody>\n",
              "    <tr>\n",
              "      <th>0</th>\n",
              "      <td>935.215222</td>\n",
              "      <td>399.123918</td>\n",
              "      <td>953.800173</td>\n",
              "      <td>768.397636</td>\n",
              "    </tr>\n",
              "    <tr>\n",
              "      <th>1</th>\n",
              "      <td>927.863381</td>\n",
              "      <td>387.343886</td>\n",
              "      <td>939.917100</td>\n",
              "      <td>779.012924</td>\n",
              "    </tr>\n",
              "    <tr>\n",
              "      <th>2</th>\n",
              "      <td>927.277852</td>\n",
              "      <td>386.779288</td>\n",
              "      <td>935.386554</td>\n",
              "      <td>779.091055</td>\n",
              "    </tr>\n",
              "    <tr>\n",
              "      <th>3</th>\n",
              "      <td>915.280791</td>\n",
              "      <td>375.892982</td>\n",
              "      <td>939.070998</td>\n",
              "      <td>777.568189</td>\n",
              "    </tr>\n",
              "    <tr>\n",
              "      <th>4</th>\n",
              "      <td>926.258859</td>\n",
              "      <td>389.079693</td>\n",
              "      <td>944.179406</td>\n",
              "      <td>775.210944</td>\n",
              "    </tr>\n",
              "    <tr>\n",
              "      <th>5</th>\n",
              "      <td>925.785136</td>\n",
              "      <td>390.863759</td>\n",
              "      <td>941.005005</td>\n",
              "      <td>774.427115</td>\n",
              "    </tr>\n",
              "    <tr>\n",
              "      <th>6</th>\n",
              "      <td>922.213613</td>\n",
              "      <td>393.207984</td>\n",
              "      <td>951.501170</td>\n",
              "      <td>764.868642</td>\n",
              "    </tr>\n",
              "    <tr>\n",
              "      <th>7</th>\n",
              "      <td>924.609707</td>\n",
              "      <td>385.042798</td>\n",
              "      <td>948.662526</td>\n",
              "      <td>780.764613</td>\n",
              "    </tr>\n",
              "    <tr>\n",
              "      <th>8</th>\n",
              "      <td>923.908630</td>\n",
              "      <td>388.407763</td>\n",
              "      <td>943.122828</td>\n",
              "      <td>778.927417</td>\n",
              "    </tr>\n",
              "    <tr>\n",
              "      <th>9</th>\n",
              "      <td>929.500528</td>\n",
              "      <td>389.640474</td>\n",
              "      <td>930.262144</td>\n",
              "      <td>779.528728</td>\n",
              "    </tr>\n",
              "    <tr>\n",
              "      <th>10</th>\n",
              "      <td>929.426247</td>\n",
              "      <td>389.539393</td>\n",
              "      <td>930.568982</td>\n",
              "      <td>779.388022</td>\n",
              "    </tr>\n",
              "    <tr>\n",
              "      <th>11</th>\n",
              "      <td>929.205354</td>\n",
              "      <td>389.710858</td>\n",
              "      <td>930.267221</td>\n",
              "      <td>779.795240</td>\n",
              "    </tr>\n",
              "    <tr>\n",
              "      <th>12</th>\n",
              "      <td>928.972460</td>\n",
              "      <td>389.555345</td>\n",
              "      <td>930.228047</td>\n",
              "      <td>779.484255</td>\n",
              "    </tr>\n",
              "    <tr>\n",
              "      <th>13</th>\n",
              "      <td>928.995425</td>\n",
              "      <td>389.583627</td>\n",
              "      <td>930.312461</td>\n",
              "      <td>779.610809</td>\n",
              "    </tr>\n",
              "    <tr>\n",
              "      <th>14</th>\n",
              "      <td>928.935440</td>\n",
              "      <td>389.518586</td>\n",
              "      <td>930.329040</td>\n",
              "      <td>779.474628</td>\n",
              "    </tr>\n",
              "  </tbody>\n",
              "</table>\n",
              "</div>"
            ],
            "text/plain": [
              "    mean_train_score  std_train_score  mean_test_score  std_test_score\n",
              "0         935.215222       399.123918       953.800173      768.397636\n",
              "1         927.863381       387.343886       939.917100      779.012924\n",
              "2         927.277852       386.779288       935.386554      779.091055\n",
              "3         915.280791       375.892982       939.070998      777.568189\n",
              "4         926.258859       389.079693       944.179406      775.210944\n",
              "5         925.785136       390.863759       941.005005      774.427115\n",
              "6         922.213613       393.207984       951.501170      764.868642\n",
              "7         924.609707       385.042798       948.662526      780.764613\n",
              "8         923.908630       388.407763       943.122828      778.927417\n",
              "9         929.500528       389.640474       930.262144      779.528728\n",
              "10        929.426247       389.539393       930.568982      779.388022\n",
              "11        929.205354       389.710858       930.267221      779.795240\n",
              "12        928.972460       389.555345       930.228047      779.484255\n",
              "13        928.995425       389.583627       930.312461      779.610809\n",
              "14        928.935440       389.518586       930.329040      779.474628"
            ]
          },
          "metadata": {
            "tags": []
          },
          "execution_count": 333
        }
      ]
    },
    {
      "cell_type": "markdown",
      "metadata": {
        "id": "4h9G-r85crxU",
        "colab_type": "text"
      },
      "source": [
        "## Prepare submission"
      ]
    },
    {
      "cell_type": "code",
      "metadata": {
        "id": "osvTrtV5RR2Y",
        "colab_type": "code",
        "colab": {}
      },
      "source": [
        "# prepare a submission file\n",
        "submission_df = {\"id\": test.index, \"price\": best_model.predict(X_test)}\n",
        "submission = pd.DataFrame(submission_df)\n",
        "submission.to_csv(\"submission.csv\",index=False)"
      ],
      "execution_count": 0,
      "outputs": []
    },
    {
      "cell_type": "code",
      "metadata": {
        "id": "-VK3a1yuRl5Y",
        "colab_type": "code",
        "colab": {}
      },
      "source": [
        "files.download(\"submission.csv\")"
      ],
      "execution_count": 0,
      "outputs": []
    },
    {
      "cell_type": "code",
      "metadata": {
        "id": "R9j_yrfgY7_o",
        "colab_type": "code",
        "colab": {}
      },
      "source": [
        ""
      ],
      "execution_count": 0,
      "outputs": []
    }
  ]
}