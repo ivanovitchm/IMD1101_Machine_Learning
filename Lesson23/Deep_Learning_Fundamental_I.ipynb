{
  "nbformat": 4,
  "nbformat_minor": 0,
  "metadata": {
    "kernelspec": {
      "display_name": "Python 3",
      "language": "python",
      "name": "python3"
    },
    "language_info": {
      "codemirror_mode": {
        "name": "ipython",
        "version": 3
      },
      "file_extension": ".py",
      "mimetype": "text/x-python",
      "name": "python",
      "nbconvert_exporter": "python",
      "pygments_lexer": "ipython3",
      "version": "3.6.5"
    },
    "colab": {
      "name": "Deep Learning Fundamental I.ipynb",
      "provenance": []
    }
  },
  "cells": [
    {
      "cell_type": "markdown",
      "metadata": {
        "toc-hr-collapsed": true,
        "id": "qQeTb-gbAfOW",
        "colab_type": "text"
      },
      "source": [
        "# 1.0 Representing Neural Network"
      ]
    },
    {
      "cell_type": "markdown",
      "metadata": {
        "id": "qA5Z2wtUAfOX",
        "colab_type": "text"
      },
      "source": [
        "## 1.1 Nonlinear models"
      ]
    },
    {
      "cell_type": "markdown",
      "metadata": {
        "id": "5pm2qwEAAfOY",
        "colab_type": "text"
      },
      "source": [
        "In the previous lessons (since start of semester), we explored the following machine learning models in depth:\n",
        "\n",
        "<img width=\"600\" alt=\"creating a repo\" src=\"https://drive.google.com/uc?export=view&id=1Bz9MLQ0bAD6J5YQIClImSH8DsMFw8P7O\">\n",
        "\n",
        "Because these are all supervised machine learning models, we repeated a similar process when using each model:\n",
        "\n",
        "<img width=\"600\" alt=\"creating a repo\" src=\"https://drive.google.com/uc?export=view&id=1irRyfFn0GkxXQE0Nf9I72d46oi_I2y1F\">\n",
        "\n",
        "In this lesson, we'll add a new type of model to our toolbelt called **artificial neural networks**. Artificial neural networks (or neural networks for short) draw some inspiration from [biological neural networks](https://en.wikipedia.org/wiki/Neural_circuit), which describe how the cells in most brains (including ours) are connected and how they work together. Each cell in a neural network is called a neuron and is connected to multiple neurons. Neurons in human (and mammalian) brains communicate by sending electrical signals between each other.\n",
        "\n",
        "<img width=\"900\" alt=\"creating a repo\" src=\"https://drive.google.com/uc?export=view&id=1Sv-FzVZ2OPhPd1_KiqVBNYgOOHZdtq4E\">\n",
        "\n",
        "Neural network models were inspired by the structure of neurons in our brain and message passing between neurons, but the similarities between how biological neural networks and artificial neural networks end here.\n",
        "\n",
        "A **deep neural network** is a specific type of neural network that excels at capturing nonlinear relationships in data. Deep neural networks have broken many benchmarks in audio and image classification. Previously, linear models were often used with nonlinear transformations that were discovered by hand through research.\n",
        "\n",
        "<img width=\"800\" alt=\"creating a repo\" src=\"https://drive.google.com/uc?export=view&id=1Pu5kxAyn3-vMY-NJ92lkcsJ9wA5sXnzc\">\n",
        "\n",
        "Deep neural networks have some ability to discover how to structure the nonlinear transformations during the training process automatically and have grown to become a helpful tool for many problems.\n",
        "\n",
        "In the first part of this lesson, we'll focus on becoming familiar with how **neural networks** are represented and how to represent **linear regression** and **logistic regression** models in that representation. In later sections, we'll learn how to introduce **nonlinearity** in our networks, how to fit complex neural networks, and some real world **best practices.**"
      ]
    },
    {
      "cell_type": "markdown",
      "metadata": {
        "id": "e2-l6dF8AfOZ",
        "colab_type": "text"
      },
      "source": [
        "## 1.2 Introduction to graphs"
      ]
    },
    {
      "cell_type": "markdown",
      "metadata": {
        "id": "pa-yT-NVAfOa",
        "colab_type": "text"
      },
      "source": [
        "**Neural networks** are usually represented as **graphs**. A graph is a data structure that consists of **nodes** (represented as circles) that are connected by **edges** (represented as lines).\n",
        "\n",
        "<img width=\"600\" alt=\"creating a repo\" src=\"https://drive.google.com/uc?export=view&id=16Mo9QntoF9jVptcWjsAPubaYtxanWvze\">\n",
        "\n",
        "Graphs are commonly used to represent how components of a system are related or linked. For example, the [Facebook Social Graph](https://en.wikipedia.org/wiki/Social_graph) describes how all of the users on Facebook are connected to each other (and this graph is changing constantly as friends are added and removed). Google Maps uses graphs to represent locations in the physical world as nodes and roads as edges.\n",
        "\n",
        "<img width=\"600\" alt=\"creating a repo\" src=\"https://drive.google.com/uc?export=view&id=1EPKmyDL_W4r6GuC2oVKxobyw6Glx0TMg\">\n",
        "\n",
        "Graphs are a highly flexible data structure; you can even represent a list of values as a graph. Graphs are often categorized by their properties, which act as constraints. You can read about the many different ways graphs can be categorized on [Wikipedia](https://en.wikipedia.org/wiki/Graph_%28discrete_mathematics%29#Types_of_graphs).\n",
        "\n",
        "One way graphs can be categorized is the presence of edge direction.\n",
        "\n",
        "<img width=\"400\" alt=\"creating a repo\" src=\"https://drive.google.com/uc?export=view&id=1PaiEzXZpvo15dK9Z5X1_0n75n6CbmpY7\">\n",
        "\n",
        "Within directed graphs, graphs are either cyclic or acyclic.\n",
        "\n",
        "<img width=\"400\" alt=\"creating a repo\" src=\"https://drive.google.com/uc?export=view&id=1eQsM0eMKZ8dgW0_L2V9N-v2YVE0i-0tL\">"
      ]
    },
    {
      "cell_type": "markdown",
      "metadata": {
        "id": "49cnDJYeAfOb",
        "colab_type": "text"
      },
      "source": [
        "## 1.3 Computational Graphs"
      ]
    },
    {
      "cell_type": "markdown",
      "metadata": {
        "id": "-zb_bxpzAfOc",
        "colab_type": "text"
      },
      "source": [
        "Graphs provide a mental model for thinking and reasoning about a specific class of models -- those that consist of a series of functions that are executed in a specific order. In the context of neural networks, graphs let us compactly express a pipeline of functions that we want to be executed in succession. Later in this lesson, we'll explore the math behind the following example:\n",
        "\n",
        "<img width=\"500\" alt=\"creating a repo\" src=\"https://drive.google.com/uc?export=view&id=1GO38dSY4Ere8lg6BqQFOwOx8dVa2_NSg\">\n",
        "\n",
        "This pipeline has 2 stages of functions that happen in sequence:\n",
        "\n",
        "- In the first stage, $L1$ is computed: $L_1 = Xa_1^T$\n",
        "- In the second stage, $L2$ is computed: $L_2 = L_1a_2^T$\n",
        "\n",
        "The second stage can't happen without the first stage, because $L_1$ is an input to the second stage. As we'll learn in the next lessons, at the heart of **neural network** models is the successive computation of functions. This is known as a **computational graph**. A computational graph uses **nodes** to describe **variables** and **edges** to describe **how variables are combined**. Here's a simple example:\n",
        "\n",
        "<img width=\"150\" alt=\"creating a repo\" src=\"https://drive.google.com/uc?export=view&id=1GpFyPVyGXZKyTZK7wwoPi-ut0r3x8T1t\">\n",
        "\n",
        "The **computational graph** is a powerful representation, as it allows us to compactly represent models with many layers of nesting. In fact, a **decision tree** is really a specific type of computational graph. There's no compact way to express a decision tree model using just equations and standard algebraic notation.\n",
        "\n",
        "<img width=\"500\" alt=\"creating a repo\" src=\"https://drive.google.com/uc?export=view&id=1zpPbFAgTMD81eydwmMSyi0ORku6ZYfxu\">\n",
        "\n",
        "To get more familiar with this representation, **we'll represent a linear regression model using neural network notation**. This will help you get more comfortable with this unique representation and allow us to explore some of the neural network terminology as well."
      ]
    },
    {
      "cell_type": "markdown",
      "metadata": {
        "id": "SXqKbvv4AfOc",
        "colab_type": "text"
      },
      "source": [
        "## 1.4 A Neural Network That Performs Linear Regression"
      ]
    },
    {
      "cell_type": "markdown",
      "metadata": {
        "id": "OWvNatpyAfOe",
        "colab_type": "text"
      },
      "source": [
        "If you recall, a linear regression model is represented as:\n",
        "    \n",
        "$$\n",
        "\\hat{y} = a_0 + a_1x_1 + a_2x_2 + \\ldots + a_nx_n\n",
        "$$\n",
        "\n",
        "Where:\n",
        "\n",
        "- $a_0$ represents the intercept (also known as the **bias**)\n",
        "- $a_1$ to $a_n$ represent the trained model weights\n",
        "- $x_1$ to $x_n$  represent the features\n",
        "- $\\hat{y}$ represents the predicted value\n",
        "\n",
        "The first step is to rewrite this model using linear algebra notation, as a product of two vectors:\n",
        "\n",
        "$$\n",
        "Xa^T = \\hat{y}\n",
        "$$\n",
        "\n",
        "Here's a concrete example of this model:\n",
        "\n",
        "<img width=\"200\" alt=\"creating a repo\" src=\"https://drive.google.com/uc?export=view&id=1IPjnXF5aY7BQnWtF0wlrRKxGIRvLW60C\">\n",
        "\n",
        "\n",
        "In the **neural network** representation of this model:\n",
        "\n",
        "- each feature column in a data set is represented as an **input neuron**\n",
        "- each **weight value** is represented as an **arrow** from the feature column it multiples to the **output neuron**\n",
        "\n",
        "The **neurons** and **arrows** act as a visual metaphor for the weighted sum, which is how the feature columns and weights are combined.\n",
        "\n",
        "<img width=\"200\" alt=\"creating a repo\" src=\"https://drive.google.com/uc?export=view&id=1LH9ra2PBRKhEr9T91VvWdu0s00LMDDLQ\">\n",
        "\n",
        "Inspired by **biological neural networks**, an **activation function** determines if the neuron fires or not. In a neural network model, the activation function transforms the weighted sum of the input values. For this network, the activation function is the [identity function](https://en.wikipedia.org/wiki/Identity_function). The identity function returns the same value that was passed in:\n",
        "\n",
        "$$\n",
        "f(x) = x\n",
        "$$\n",
        "\n",
        "<img width=\"200\" alt=\"creating a repo\" src=\"https://drive.google.com/uc?export=view&id=1PxtytfRIju0kIL3z-gcN3a2S3VOFpBEt\">\n",
        "\n",
        "While the activation function isn't interesting for a network that performs linear regression, it's useful for logistic regression and more complex networks. Here's a comparison of both representations of the same linear regression model:\n",
        "\n",
        "<img width=\"500\" alt=\"creating a repo\" src=\"https://drive.google.com/uc?export=view&id=1bfneZhm7F7pV1CNzDe1JdmG_adgl-2ie\">\n"
      ]
    },
    {
      "cell_type": "markdown",
      "metadata": {
        "id": "dwWAInyiAfOf",
        "colab_type": "text"
      },
      "source": [
        "## 1.5 Generating Regression Data"
      ]
    },
    {
      "cell_type": "markdown",
      "metadata": {
        "id": "hWuDENhiAfOj",
        "colab_type": "text"
      },
      "source": [
        "In this lesson, we'll work with data that we'll generate ourselves, instead of an external data set. Generating data ourselves gives us more control of the properties of the data set (e.g. like the number of features, observations, and the noise in the features). Data sets where neural networks excel contain the same non-linearity, so we can generalize the learnings to real data sets as well.\n",
        "\n",
        "Scikit-learn contains the following convenience functions for generating data:\n",
        "\n",
        "- [sklearn.datasets.make_regression()](http://scikit-learn.org/stable/modules/generated/sklearn.datasets.make_regression.html)\n",
        "- [sklearn.datasets.make_classification()](http://scikit-learn.org/stable/modules/generated/sklearn.datasets.make_classification.html)\n",
        "- [sklearn.datasets.make_moons()](http://scikit-learn.org/stable/modules/generated/sklearn.datasets.make_moons.html#sklearn.datasets.make_moons)\n",
        "\n",
        "The following codes generates a regression data set with 3 features, 1000 observations, and a random seed of 1:\n",
        "\n",
        "\n"
      ]
    },
    {
      "cell_type": "code",
      "metadata": {
        "id": "l6tjj9gTAfOk",
        "colab_type": "code",
        "outputId": "3bc5c2c0-e6dc-416b-9587-bdc40b0201a4",
        "colab": {
          "base_uri": "https://localhost:8080/",
          "height": 35
        }
      },
      "source": [
        "from sklearn.datasets import make_regression\n",
        "\n",
        "# make_regression return a tuple\n",
        "# data[0].shape  (1000,3) -> features\n",
        "# data[1].shape  (1000,) -> target\n",
        "data = make_regression(n_samples=1000, n_features=3, random_state=1)\n",
        "\n",
        "type(data)"
      ],
      "execution_count": 0,
      "outputs": [
        {
          "output_type": "execute_result",
          "data": {
            "text/plain": [
              "tuple"
            ]
          },
          "metadata": {
            "tags": []
          },
          "execution_count": 1
        }
      ]
    },
    {
      "cell_type": "code",
      "metadata": {
        "id": "NEfOmBwTAfOp",
        "colab_type": "code",
        "outputId": "af5e2129-121f-4b4f-faeb-0624dcf0783d",
        "colab": {
          "base_uri": "https://localhost:8080/",
          "height": 35
        }
      },
      "source": [
        "data[0].shape"
      ],
      "execution_count": 0,
      "outputs": [
        {
          "output_type": "execute_result",
          "data": {
            "text/plain": [
              "(1000, 3)"
            ]
          },
          "metadata": {
            "tags": []
          },
          "execution_count": 2
        }
      ]
    },
    {
      "cell_type": "code",
      "metadata": {
        "id": "NMRJcQMyAfOw",
        "colab_type": "code",
        "outputId": "e2d926cd-223b-4db6-92c0-efa974fdc770",
        "colab": {
          "base_uri": "https://localhost:8080/",
          "height": 35
        }
      },
      "source": [
        "data[1].shape"
      ],
      "execution_count": 0,
      "outputs": [
        {
          "output_type": "execute_result",
          "data": {
            "text/plain": [
              "(1000,)"
            ]
          },
          "metadata": {
            "tags": []
          },
          "execution_count": 3
        }
      ]
    },
    {
      "cell_type": "code",
      "metadata": {
        "id": "-bFLwbGBAfO2",
        "colab_type": "code",
        "outputId": "85a3270b-d246-408d-fd42-617a03233873",
        "colab": {
          "base_uri": "https://localhost:8080/",
          "height": 104
        }
      },
      "source": [
        "data[0][:5]"
      ],
      "execution_count": 0,
      "outputs": [
        {
          "output_type": "execute_result",
          "data": {
            "text/plain": [
              "array([[ 0.93514778,  1.81252782,  0.14010988],\n",
              "       [-3.06414136,  0.11537031,  0.31742716],\n",
              "       [-0.42914228,  1.20845633,  1.1157018 ],\n",
              "       [-0.59384307, -0.34390071, -1.00016919],\n",
              "       [ 0.91208686, -0.85882315, -0.68327072]])"
            ]
          },
          "metadata": {
            "tags": []
          },
          "execution_count": 4
        }
      ]
    },
    {
      "cell_type": "code",
      "metadata": {
        "id": "mu8JiPYpAfO7",
        "colab_type": "code",
        "outputId": "20df3d2a-1e15-4dcf-a687-1c56e5b6bf0c",
        "colab": {
          "base_uri": "https://localhost:8080/",
          "height": 52
        }
      },
      "source": [
        "data[1][:5]"
      ],
      "execution_count": 0,
      "outputs": [
        {
          "output_type": "execute_result",
          "data": {
            "text/plain": [
              "array([ 255.52134901, -224.41673037,  177.69580838, -178.28847036,\n",
              "        -63.17367487])"
            ]
          },
          "metadata": {
            "tags": []
          },
          "execution_count": 5
        }
      ]
    },
    {
      "cell_type": "markdown",
      "metadata": {
        "id": "Sdn7gRkAAfPA",
        "colab_type": "text"
      },
      "source": [
        "We can then use the pandas.DataFrame() constructor to create dataframes:\n",
        "\n",
        "```python\n",
        "features = pd.DataFrame(data[0])\n",
        "```\n",
        "\n",
        "Let's generate some data for the network we're building."
      ]
    },
    {
      "cell_type": "markdown",
      "metadata": {
        "id": "UE4e4ixLAfPD",
        "colab_type": "text"
      },
      "source": [
        "**Exercise Start**\n",
        "\n",
        "<left><img width=\"100\" alt=\"creating a repo\" src=\"https://drive.google.com/uc?export=view&id=1E8tR7B9YYUXsU_rddJAyq0FrM0MSelxZ\"></left>\n",
        "\n",
        "- Generate a data set for regression:\n",
        "    - with 100 observations\n",
        "    - with 3 features\n",
        "    - using the random seed 1\n",
        "- Convert the NumPy array of generated features into a pandas dataframe and assign to **features**.\n",
        "- Convert the NumPy array of generated labels into a pandas series and assign to **labels**.\n"
      ]
    },
    {
      "cell_type": "code",
      "metadata": {
        "id": "RHXaBUBlAfPE",
        "colab_type": "code",
        "colab": {}
      },
      "source": [
        "# put your code here"
      ],
      "execution_count": 0,
      "outputs": []
    },
    {
      "cell_type": "markdown",
      "metadata": {
        "id": "JDouncRAAfPJ",
        "colab_type": "text"
      },
      "source": [
        "## 1.6 Fitting A Linear Regression Neural Network"
      ]
    },
    {
      "cell_type": "markdown",
      "metadata": {
        "id": "8LJ7ES8uAfPK",
        "colab_type": "text"
      },
      "source": [
        "Because the inputs from one layer of neurons feed to the next layer of the single, output neuron, this is known as a [feedforward network](https://en.wikipedia.org/wiki/Feedforward_neural_network). In the language of graphs, a feedforward network is a **directed, acyclic graph**.\n",
        "\n",
        "<left><img width=\"600\" alt=\"creating a repo\" src=\"https://drive.google.com/uc?export=view&id=1uc69vU4xRi1XlBT-cQGXSm_QnMQ0awtO\"></left>\n",
        "\n",
        "There are some neural network architectures that don't follow this pattern, but we won't be exploring those in this first lesson.\n",
        "\n",
        "### 1.6.1 Fitting A Network\n",
        "\n",
        "In the **Linear Regression lesson**, we explored two different approaches to training a linear regression model: **gradient descent** and **ordinary least squares**. Gradient descent is the most common technique for fitting neural network models and we'll explore it in further details later. Because we've implemented gradient descent before in the Linear Regression lesson, we'll rely on the scikit-learn implementation of gradient descent in this time.\n",
        "\n",
        "This implementation lives in the [SGDRegressor class](http://scikit-learn.org/stable/modules/generated/sklearn.linear_model.SGDRegressor.html). We use it the same we do with the LinearRegression class:\n",
        "\n",
        "```python\n",
        "from sklearn.linear_model import SGDRegressor\n",
        "lr = linear_model.SGDRegressor()\n",
        "lr.fit(X,y)\n",
        "```\n",
        "\n",
        "We now have everything we need to implement this network. Because we're focusing on building intuition, we'll be training and testing on the same data set. In real life scenarios, you always want to use a cross validation technique of some kind.\n",
        "\n",
        "**Exercise Start**\n",
        "\n",
        "<left><img width=\"100\" alt=\"creating a repo\" src=\"https://drive.google.com/uc?export=view&id=1E8tR7B9YYUXsU_rddJAyq0FrM0MSelxZ\"></left>\n",
        "\n",
        "\n",
        "- Add a **\"bias\"** column containing the value 1 for each row into **features** dataframe.\n",
        "- Import **SGDRegressor** from **sklearn.linear_model**.\n",
        "- Define two functions:\n",
        "    - **train(features, labels)**: takes in the **features** dataframe and **labels** series and performs model fitting.\n",
        "        - Use the SGDRegressor class from scikit-learn to handle model fitting.\n",
        "        - This function should return just an **NumPy 2D array of weights** for the linear regression model.\n",
        "    - **feedforward(features, weights):** takes in the **features** dataframe and the **weights** NumPy array.\n",
        "        - Perform matrix multiplication between **features** (100 rows by 4 columns) and **weights** (4 rows by 1 column) and assign the result to **predictions**.\n",
        "        - Return **predictions**. We'll skip implementing the identity function, since it just returns the same value that was passed in.\n",
        "    - Uncomment the code we have added for you and run the **train()** and **feedforward()** functions. The final predictions will be stored in **linear_predictions**."
      ]
    },
    {
      "cell_type": "code",
      "metadata": {
        "id": "3oOZX5rwAfPK",
        "colab_type": "code",
        "colab": {}
      },
      "source": [
        "from sklearn.datasets import make_regression\n",
        "import numpy as np\n",
        "data = make_regression(n_samples=100, n_features=3, random_state=1)\n",
        "features = pd.DataFrame(data[0])\n",
        "labels = pd.Series(data[1])\n",
        "\n",
        "# put your code here\n",
        "\n",
        "# Uncomment after you've implemented train() and feedforward()\n",
        "# train_weights = train(features, labels)\n",
        "# train_predictions = feedforward(features, train_weights)"
      ],
      "execution_count": 0,
      "outputs": []
    },
    {
      "cell_type": "markdown",
      "metadata": {
        "id": "z_u3w-uJAfPQ",
        "colab_type": "text"
      },
      "source": [
        "## 1.7 Generating Classification Data"
      ]
    },
    {
      "cell_type": "markdown",
      "metadata": {
        "id": "_l6XiK_HAfPR",
        "colab_type": "text"
      },
      "source": [
        "To generate sample data friendly for classification, we can use the [make_classification()](http://scikit-learn.org/stable/modules/generated/sklearn.datasets.make_classification.html) function from scikit-learn.\n",
        "\n",
        "The following codes generates a regression data set with 4 features, 1000 observations, 2 classes (default value) and a random seed of 1:"
      ]
    },
    {
      "cell_type": "code",
      "metadata": {
        "id": "aiFBVnG_AfPS",
        "colab_type": "code",
        "outputId": "d77ecf9b-8192-49c9-a795-1f27a3a6020a",
        "colab": {}
      },
      "source": [
        "from sklearn.datasets import make_classification\n",
        "class_data = make_classification(n_samples=1000, \n",
        "                                 n_features=4, \n",
        "                                 random_state=1)\n",
        "type(class_data)"
      ],
      "execution_count": 0,
      "outputs": [
        {
          "output_type": "execute_result",
          "data": {
            "text/plain": [
              "tuple"
            ]
          },
          "metadata": {
            "tags": []
          },
          "execution_count": 25
        }
      ]
    },
    {
      "cell_type": "code",
      "metadata": {
        "id": "doE7Hi-wAfPY",
        "colab_type": "code",
        "outputId": "59a12390-62d0-498f-9b79-7b8c231da6bc",
        "colab": {}
      },
      "source": [
        "# Features\n",
        "class_features = class_data[0]\n",
        "class_features[:5]\n",
        "\n"
      ],
      "execution_count": 0,
      "outputs": [
        {
          "output_type": "execute_result",
          "data": {
            "text/plain": [
              "array([[ 1.91518414,  1.14995454, -1.52847073,  0.79430654],\n",
              "       [ 1.4685668 ,  0.80644722, -1.04912964,  0.74652026],\n",
              "       [ 1.47102089,  0.90060386, -1.20228498,  0.57845433],\n",
              "       [ 1.07642824, -0.1813636 ,  0.49116807,  1.95642108],\n",
              "       [-5.34139911, -2.29763222,  2.77907005, -3.87463248]])"
            ]
          },
          "metadata": {
            "tags": []
          },
          "execution_count": 26
        }
      ]
    },
    {
      "cell_type": "code",
      "metadata": {
        "id": "oBwD9aNsAfPa",
        "colab_type": "code",
        "outputId": "55c2ebf1-1e8d-4e8c-9187-43148a13f3a4",
        "colab": {}
      },
      "source": [
        "# Labels\n",
        "class_labels = class_data[1]\n",
        "class_labels[:5]"
      ],
      "execution_count": 0,
      "outputs": [
        {
          "output_type": "execute_result",
          "data": {
            "text/plain": [
              "array([1, 1, 1, 1, 0])"
            ]
          },
          "metadata": {
            "tags": []
          },
          "execution_count": 28
        }
      ]
    },
    {
      "cell_type": "markdown",
      "metadata": {
        "id": "tf-VX5lXAfPc",
        "colab_type": "text"
      },
      "source": [
        "We can then use the **pandas.DataFrame()** constructor to create dataframes:\n",
        "\n",
        "```python\n",
        "features = pd.DataFrame(data[0])\n",
        "```\n",
        "\n",
        "Let's generate some classification data for the network we're building.\n",
        "\n",
        "**Exercise Start**\n",
        "\n",
        "<left><img width=\"100\" alt=\"creating a repo\" src=\"https://drive.google.com/uc?export=view&id=1E8tR7B9YYUXsU_rddJAyq0FrM0MSelxZ\"></left>\n",
        "\n",
        "- Generate a data set for classification:\n",
        "    - with 100 observations\n",
        "    - with 4 features\n",
        "    - using the random seed 1\n",
        "- Convert the NumPy array of generated features into a pandas dataframe and assign to **class_features**.\n",
        "- Convert the NumPy array of generated labels into a pandas series and assign to **class_labels**."
      ]
    },
    {
      "cell_type": "code",
      "metadata": {
        "id": "LEKXNCchAfPd",
        "colab_type": "code",
        "colab": {}
      },
      "source": [
        "# put your code here"
      ],
      "execution_count": 0,
      "outputs": []
    },
    {
      "cell_type": "markdown",
      "metadata": {
        "id": "_-K1qxXFAfPj",
        "colab_type": "text"
      },
      "source": [
        "## 1.8 Implementing A Neural Network That Performs Classification"
      ]
    },
    {
      "cell_type": "markdown",
      "metadata": {
        "id": "11uGdZo2AfPk",
        "colab_type": "text"
      },
      "source": [
        "**In the last few sections, we replicated linear regression as a feedforward neural network** model and learned about nonlinear activation functions. We now have a better idea of what defines a neural network. So far, we know that neural networks need:\n",
        "\n",
        "- a network structure (how are the nodes connected? which direction does the data and computation flow?)\n",
        "- a feedforward function (how are the node weights and observation values combined?)\n",
        "- an activation function (what transformations on the data are performed?)\n",
        "- a model fitting function (how is the model fit?)\n",
        "\n",
        "We'll now explore how to **build a neural network that replicates a logistic regression model**. We'll start with a quick recap.\n",
        "\n",
        "**Binary Classification and Logistic Regression**\n",
        "\n",
        "In **binary classification**, we're interested in finding a model that can differentiate between two categorical values (usually 0 and 1 are used). The values 0 and 1 don't have any numerical weight and are instead act as numerical placeholders for the two categories. We can instead try to learn the probability that a given observation belongs in either category.\n",
        "\n",
        "In the language of conditional probability, we're interested in the probability that a given observation $x$  belongs to each category:\n",
        "\n",
        "$$\n",
        "P(y=0|x) = 0.3 \\\\\n",
        "P(y=1|x) = 0.7\n",
        "$$\n",
        " \n",
        "Because the universe of possibilities only consists of these two categories, the probabilities for both must add up to 1. This lets us simplify what we want a binary classification model to learn:\n",
        "\n",
        "$$\n",
        "P(y=1|x) = ? \n",
        "$$\n",
        " \n",
        "If $P(y=1|x) > 0.5$, we want the model to assign it to category 1. If $P(y=0|x) < 0.5$, we want the model to assign it to category 0.\n",
        "\n",
        "**Implementing A Logistic Regression Model**\n",
        "\n",
        "A logistic regression model consists of two main components:\n",
        "\n",
        "- Computing the weighted linear combination of weights and features (just like in a linear regression model): $Xa^T$\n",
        "- Applying a transformation function to squash the result so it varies between 0 and 1: $\\sigma(Xa^T)$\n",
        "\n",
        "Combining these two steps yields the following definition of a logistic regression model:\n",
        "\n",
        "$$\n",
        "\\hat{y} = \\sigma(Xa^T)\n",
        "$$\n",
        "\n",
        "In neural networks literature, this function is usually referred to as the [sigmoid function](https://en.wikipedia.org/wiki/Sigmoid_function):\n",
        "\n",
        "$$\n",
        "S(x) = \\frac{1}{1 + e^{-x}}\n",
        "$$\n",
        "\n",
        "Here's a plot of the sigmoid function:\n",
        "\n",
        "\n"
      ]
    },
    {
      "cell_type": "code",
      "metadata": {
        "id": "qtCrFNjoAfPl",
        "colab_type": "code",
        "outputId": "24cf7c10-3594-49d5-f645-c8b0da37c212",
        "colab": {}
      },
      "source": [
        "import matplotlib.pyplot as plt\n",
        "import numpy as np\n",
        "\n",
        "sigmoid = lambda x: 1b/(1 + np.exp(-x))\n",
        "x=np.linspace(-10,10,100)\n",
        "\n",
        "plt.plot(x,sigmoid(x))"
      ],
      "execution_count": 0,
      "outputs": [
        {
          "output_type": "execute_result",
          "data": {
            "text/plain": [
              "[<matplotlib.lines.Line2D at 0x1178cfba8>]"
            ]
          },
          "metadata": {
            "tags": []
          },
          "execution_count": 71
        },
        {
          "output_type": "display_data",
          "data": {
            "image/png": "[encoded data removed]",
            "text/plain": [
              "<Figure size 432x288 with 1 Axes>"
            ]
          },
          "metadata": {
            "tags": []
          }
        }
      ]
    },
    {
      "cell_type": "markdown",
      "metadata": {
        "id": "Ki0hzUvYAfPo",
        "colab_type": "text"
      },
      "source": [
        "You'll notice that the sigmoid function has horizontal asymptotes at 0 and 1, which means any input value will always output a value between 0 and 1.\n",
        "\n",
        "To implement a network that performs classification, the only thing we need to change from the **linear regression network** we implemented is the **activation function**. Instead of using the identity function, we need to use the sigmoid function.\n",
        "\n",
        "Here's a diagram of this network:\n",
        "\n",
        "<left><img width=\"250\" alt=\"creating a repo\" src=\"https://drive.google.com/uc?export=view&id=1Onsw_cuy7cUxh4MhJflkeyOOhgOTbBsT\"></left>\n",
        "\n",
        "\n",
        "**Exercise Start**\n",
        "\n",
        "<left><img width=\"100\" alt=\"creating a repo\" src=\"https://drive.google.com/uc?export=view&id=1E8tR7B9YYUXsU_rddJAyq0FrM0MSelxZ\"></left>\n",
        "\n",
        "- Add a bias column containing the value 1 for each row named **\"bias\"** to the **class_features** dataframe.\n",
        "- Define three functions:\n",
        "    - **log_train(class_features, class_labels)**: takes in the **class_features** dataframe and **class_labels** series and performs model fitting.\n",
        "        - Use the [SGDClassifier](http://scikit-learn.org/stable/modules/generated/sklearn.linear_model.SGDClassifier.html) class from scikit-learn to handle model fitting.\n",
        "        - This function should return just an **NumPy 2D array of weights** for the logistic regression model.\n",
        "    - **sigmoid(linear_combination)**: takes in a NumPy 2D array and applies the sigmoid function for every value: $\\frac{1}{1 + e^{-x}}$\n",
        "    - **log_feedforward(class_features, log_train_weights)**: takes in the **class_features** dataframe and the **log_train_weights** NumPy array.\n",
        "        - Perform matrix multiplication between features (100 rows by 4 columns) and weights (4 rows by 1 column) and assign to **linear_combination**.\n",
        "        - Use the **sigmoid()** function to transform **linear_combinations** and assign the result to **log_predictions**.\n",
        "        - Convert each value in **log_predictions** to a class label:\n",
        "        - If the value is greater than or equal to 0.5, overwrite the value to 1.\n",
        "        - If the value is less than 0.5, overwrite the value to 0.\n",
        "        - Return **log_predictions**\n",
        "- Uncomment the code we have added for you and run the **log_train()** and **log_feedforward()** functions. The final predictions will be stored in **log_predictions.**"
      ]
    },
    {
      "cell_type": "code",
      "metadata": {
        "id": "jpAbJZhqAfPo",
        "colab_type": "code",
        "colab": {}
      },
      "source": [
        "from sklearn.linear_model import SGDClassifier\n",
        "from sklearn.datasets import make_classification\n",
        "\n",
        "class_data = make_classification(n_samples=100, n_features=4, random_state=1)\n",
        "class_features = class_data[0]\n",
        "class_labels = class_data[1]\n",
        "\n",
        "# put your code here\n",
        "\n",
        "# Uncomment this code when you're ready to test your functions.\n",
        "# log_train_weights = log_train(class_features, class_labels)\n",
        "# log_predictions = log_feedforward(class_features, log_train_weights)"
      ],
      "execution_count": 0,
      "outputs": []
    },
    {
      "cell_type": "markdown",
      "metadata": {
        "id": "o2YGOHyKAfPs",
        "colab_type": "text"
      },
      "source": [
        "## 1.9 Next Steps\n",
        "\n",
        "In this section, we learned about:\n",
        "\n",
        "- representing systems of equations as graphs\n",
        "- the different components of a neural network\n",
        "- how to represent linear and logistic regression models as graphs\n",
        "- In the next section, we'll dive deep into common activation functions and the role they play in neural network models."
      ]
    },
    {
      "cell_type": "markdown",
      "metadata": {
        "toc-hr-collapsed": true,
        "id": "8piccNhoAfPt",
        "colab_type": "text"
      },
      "source": [
        "# 2.0 Nonlinear Activation Functions"
      ]
    },
    {
      "cell_type": "markdown",
      "metadata": {
        "id": "so_jJh1OAfPv",
        "colab_type": "text"
      },
      "source": [
        "## 2.1 Introduction To Activation Functions"
      ]
    },
    {
      "cell_type": "markdown",
      "metadata": {
        "id": "9lhRBf3QAfPz",
        "colab_type": "text"
      },
      "source": [
        "In the last section, we became familiar with **computational graphs** and how **neural network** models are represented. We also became familiar with **neural network terminology** like:\n",
        "\n",
        "- forward pass\n",
        "- input neurons\n",
        "- output neurons\n",
        "\n",
        "In this section, we'll dive deeper into the role **nonlinear activation functions** play. To help motivate our exploration, let's start by reflecting on the purpose of a machine learning model.\n",
        "\n",
        "The purpose of a machine learning model is to transform training data inputs to the model (which are features) to approximate the training output values. We accomplish this by:\n",
        "\n",
        "- Selecting a specific model to use\n",
        "- Finding the right parameters for this model that work the best\n",
        "- Testing the model to understand how well it generalizes to new data\n",
        "\n",
        "**Linear Regression**\n",
        "\n",
        "We use linear regression when we think that the output values can be best approximated by a linear combination of the features and the learned weights. This model is a linear system, because any change in the output value is proportional to the changes in the input values.\n",
        "\n",
        "$$\n",
        "\\hat{y} = a_0 + a_1x_1 + a_2x_2 + \\ldots + a_nx_n\n",
        "$$\n",
        "\n",
        "When the target values $y$ can be approximated by a linear combination of the features $x_1$ to $x_2$, linear regression is the ideal choice. Here's a GIF that visualizes the potential expressability of a linear regression model (by conceptually mimicking what gradient descent does):\n",
        "\n",
        "<left><img width=\"500\" alt=\"creating a repo\" src=\"https://drive.google.com/uc?export=view&id=1RPNyKITU9qXpFa7YI-69PoJquBSEH3FF\"></left>\n",
        "\n",
        "Let's now look at a situation where the output values can't be approximated effectively using a linear combination of the input values.\n",
        "\n",
        "**Logistic Regression**\n",
        "\n",
        "In a binary classification problem, the target values are 0 and 1 and the relationship between the features and the target values is nonlinear. This means we need a function that can perform a **nonlinear transformation** of the input features.\n",
        "\n",
        "The sigmoid function is a good choice since all of its input values are squashed to range between 0  and 1.\n",
        "\n",
        "$$\n",
        "\\hat{y} = \\sigma(a_0 + a_1x_1 + a_2x_2 + \\ldots + a_nx_n)\n",
        "$$\n",
        "\n",
        "Adding the sigmoid transformation helps the model approximate this nonlinear relationship underlying common binary classification tasks. The following GIF shows how the shape of the logistic regression model changes as we increase the single weight (by conceptually mimicking what gradient descent does):\n",
        "\n",
        "<left><img width=\"500\" alt=\"creating a repo\" src=\"https://drive.google.com/uc?export=view&id=1fy5LEM6cKjq8n7qzBN1Trfq02GX3Idu-\"></left>\n",
        "\n",
        "**Neural Networks**\n",
        "\n",
        "Logistic regression models learn a set of weights that impact the linear combination phase and then are fed through a single nonlinear function (the sigmoid function). In this section, we'll dive into the most commonly used activation functions. The three most commonly used activation functions in neural networks are:\n",
        "\n",
        "- the sigmoid function\n",
        "- the ReLU function\n",
        "- the tanh function\n",
        "\n",
        "Since we've covered the sigmoid function already, we'll focus on the latter two functions."
      ]
    },
    {
      "cell_type": "markdown",
      "metadata": {
        "id": "3XmI0UjFAfP0",
        "colab_type": "text"
      },
      "source": [
        "## 2.2 ReLU Activation Function"
      ]
    },
    {
      "cell_type": "markdown",
      "metadata": {
        "id": "d8ukdtvfAfP6",
        "colab_type": "text"
      },
      "source": [
        "We'll start by introducing the **ReLU** activation function, which is a commonly used activation function in neural networks for solving **regression problems**. ReLU stands for **rectified linear unit** and is defined as follows:\n",
        "\n",
        "$$\n",
        "ReLU = max(0,x)\n",
        "$$\n",
        "\n",
        "The $max()$ function returns the maximum value between $0$ and $x$. This means that:\n",
        "\n",
        "- when $x$ is less than $0$, the value $0$ is returned\n",
        "- when $x$ is greater than $0$, the value $x$ is returned\n",
        "\n",
        "Here's a plot of the function:\n",
        "\n",
        "<left><img width=\"500\" alt=\"creating a repo\" src=\"https://drive.google.com/uc?export=view&id=1ubfxLYyI_tfMt7cGVPmDEvdNcM6X64tf\"></left>\n"
      ]
    },
    {
      "cell_type": "markdown",
      "metadata": {
        "id": "-PE0H953AfP6",
        "colab_type": "text"
      },
      "source": [
        "The ReLU function returns the positive component of the input value. Let's visualize the expressivity of a model that performs a linear combination of the features and weights followed by the ReLU transformation:\n",
        "\n",
        "<left><img width=\"500\" alt=\"creating a repo\" src=\"https://drive.google.com/uc?export=view&id=11aXYWLdlKJaNyIqGFjusc2SNoEcfmVLj\"></left>\n",
        "\n",
        "There are a few different ways we can implement the ReLU function in code. We'll leave it as an exercise for you to implement.\n",
        "\n",
        "**Exercise Start**\n",
        "\n",
        "<left><img width=\"100\" alt=\"creating a repo\" src=\"https://drive.google.com/uc?export=view&id=1E8tR7B9YYUXsU_rddJAyq0FrM0MSelxZ\"></left>\n",
        "\n",
        "- Define the relu() function.\n",
        "    - This function should be able to work with a single value or a list of values.\n",
        "- Call the relu() function, pass in x, and assign the returned value to **relu_y.**\n",
        "- Print both x and **relu_y**.\n",
        "- Generate a line chart with x on the x-axis and **relu_y** on the y-axis.\n"
      ]
    },
    {
      "cell_type": "code",
      "metadata": {
        "id": "QTye2alBAfP7",
        "colab_type": "code",
        "colab": {}
      },
      "source": [
        "import matplotlib.pyplot as plt\n",
        "import numpy as np\n",
        "\n",
        "x = np.linspace(-2, 2, 20)\n",
        "\n",
        "# put your code here"
      ],
      "execution_count": 0,
      "outputs": []
    },
    {
      "cell_type": "markdown",
      "metadata": {
        "id": "u0_K5t9SAfP9",
        "colab_type": "text"
      },
      "source": [
        "## 2.3 Trigonometric Functions"
      ]
    },
    {
      "cell_type": "markdown",
      "metadata": {
        "id": "nGy1Mn4wAfP-",
        "colab_type": "text"
      },
      "source": [
        "The last commonly used activation function in neural networks we'll discuss is the **tanh function** (also known as the **hyperbolic tangent function**). We'll start by reviewing some **trigonometry** by discussing the **tan** (short for tangent) function and then work our way up to the tanh function (in the next screen). While we won't provide the depth here needed to learn trigonometry from scratch, we do recommend the [Trigonometry Series on Khan Academy](https://www.khanacademy.org/math/trigonometry) if you're new to trigonometry.\n",
        "\n",
        "**What is trigonometry?**\n",
        "\n",
        "Trigonometry is short for triangle geometry and provides formulas, frameworks, and mental models for reasoning about triangles. Triangles are used extensively in theoretical and applied mathematics, and build on mathematical work done over many centuries. Let's start by clearly defining what a triangle is.\n",
        "\n",
        "A triangle is a [polygon](https://en.wikipedia.org/wiki/Polygon) that has the following properties:\n",
        "\n",
        "- 3 edges\n",
        "- 3 vertices\n",
        "- angles between edges add up to 180 degrees\n",
        "\n",
        "Two main ways that triangles can be classified is by the internal angles or by the edge lengths. The following diagram outlines the three different types of triangles by their edge length properties:\n",
        "\n",
        "<left><img width=\"500\" alt=\"creating a repo\" src=\"https://drive.google.com/uc?export=view&id=189s35_SIzjsdyPAVW4OqXCwId_LhwbjM\"></left>\n",
        "\n",
        "\n",
        "An important triangle that's classified by the internal angles is the **right angle triangle**. In a right angle triangle, one of the angles is 90 degrees (also known as the right angle). The edge opposite of the right angle is called the hypotenuse.\n",
        "\n",
        "<left><img width=\"200\" alt=\"creating a repo\" src=\"https://drive.google.com/uc?export=view&id=1WOxgo3Cv2BdHyRr_AiBYbK8-zFJ3JfBZ\"></left>\n",
        "\n",
        "A trigonometric function is a function that inputs an angle value (usually represented as $\\theta$) and outputs some value. These functions compute ratios between the edge lengths. Here are the first 3 trigonometric functions:\n",
        "\n",
        "$$\n",
        "sin(\\theta) = \\frac{opposite}{hypotenuse}\\\\\n",
        "cos(\\theta) = \\frac{adjacent}{hypotenuse}\\\\\n",
        "tan(\\theta) = \\frac{opposite}{adjacent}\n",
        "$$\n",
        "\n",
        "Let's define these terms further:\n",
        "\n",
        "- Hypotenuse describes the line that isn't touching the right angle.\n",
        "- Opposite refers to the line opposite the angle.\n",
        "- Adjacent refers to the line touching the angle that isn't the hypotenuse.\n",
        "\n",
        "Here's an example of the tangent function.\n",
        "\n",
        "<left><img width=\"400\" alt=\"creating a repo\" src=\"https://drive.google.com/uc?export=view&id=15Ny3YVcsxP6Utw32rS_uZeItg8XnheSL\"></left>\n",
        "\n",
        "Now, how does all of this relate to Cartesian coordinate system? The key idea that lets us plot trigonometric functions on a traditional Cartesian coordinate system is the important relationship between right angle triangles and the **unit circle**. The unit circle is a specific type of circle where the radius is 1 (and usually centered at  (0,0). In a unit circle, any line from the center to the circle itself (in red below) forms a right angle triangle.\n",
        "\n",
        "<left><img width=\"400\" alt=\"creating a repo\" src=\"https://drive.google.com/uc?export=view&id=1Gu0SnShJXmzgnKj8U3OuX6C0Sk00W2oY\"></left>\n",
        "\n",
        "The tangent of $\\theta$ the seen above is calculated by dividing the opposite edge length by the adjacent edge length.\n",
        "\n",
        "<left><img width=\"400\" alt=\"creating a repo\" src=\"https://drive.google.com/uc?export=view&id=1mBA4sgjxtYarI-c09kAkcpW3v1lSw9L2\"></left>\n",
        "\n",
        "Linking the unit circle with the Cartesian coordinate system also has another happy byproduct. Doing so lets us reframe the sin and cos trigonometric functions as returning either the $x$ or $y$  coordinate of a point on that circle. Here's a visualization:\n",
        "\n",
        "<left><img width=\"600\" alt=\"creating a repo\" src=\"https://drive.google.com/uc?export=view&id=1TlEAQ-g-GA_CvizgbbDsxKDf646q5U-4\"></left>\n",
        "\n",
        "This means that the tan function (opposite / adjacent) is really just the ratio between the $y$ value (opposite) and the $x$ value (adjacent) for a point on the unit circle corresponding to the angle. We'll revisit the relevance of this in the next two screens.\n",
        "\n",
        "**Plotting Tan**\n",
        "\n",
        "To plot the tangent function, we need to use [radians](https://en.wikipedia.org/wiki/Radian) on the x-axis instead of degrees. To describe a full trip around the circle, radians range from $0$ to $2\\pi$ while degrees range from $0$ to $360$. Wikipedia has a helpful diagram [here](https://en.wikipedia.org/wiki/Radian#/media/File:Degree-Radian_Conversion.svg).\n",
        "\n",
        "To understand how the tan function behaves, let's compute the values from $-2\\pi$ to $2\\pi$.\n",
        "\n",
        "**Exercise Start**\n",
        "\n",
        "<left><img width=\"100\" alt=\"creating a repo\" src=\"https://drive.google.com/uc?export=view&id=1E8tR7B9YYUXsU_rddJAyq0FrM0MSelxZ\"></left>\n",
        "\n",
        "- Use the [numpy.tan()](https://docs.scipy.org/doc/numpy-1.15.1/reference/generated/numpy.tan.html) function to compute the tangent of the values in x and assign the returned value to **tan_y**.\n",
        "- Print both x and **tan_y**.\n",
        "- Generate a line plot with x on the x-axis and **tan_y** on the y-axis."
      ]
    },
    {
      "cell_type": "code",
      "metadata": {
        "id": "7VJ8Uh5XAfP_",
        "colab_type": "code",
        "colab": {}
      },
      "source": [
        "x = np.linspace(-2*np.pi, 2*np.pi, 100)\n",
        "\n",
        "# put your code here"
      ],
      "execution_count": 0,
      "outputs": []
    },
    {
      "cell_type": "markdown",
      "metadata": {
        "id": "2QMgjUjNAfQC",
        "colab_type": "text"
      },
      "source": [
        "## 2.4 Reflecting On The Tangent Function"
      ]
    },
    {
      "cell_type": "markdown",
      "metadata": {
        "id": "SrRiyGg9AfQE",
        "colab_type": "text"
      },
      "source": [
        "The tangent function from the last section generated the following plot:\n",
        "\n",
        "<left><img width=\"400\" alt=\"creating a repo\" src=\"https://drive.google.com/uc?export=view&id=1xBxztnfguR8mryBpZbd8suQogIGOt3JD\"></left>\n",
        "\n",
        "The periodic sharp spikes that you see in the plot are known as [vertical asymptotes](https://en.wikipedia.org/wiki/Asymptote#Vertical_asymptotes). At those points, the value isn't defined but the limit approaches either negative or positive infinity (depending on which direction you're approaching the  value from).\n",
        "\n",
        "The key takeaway from the plot is how the tangent function is a repeating, **periodic function**. A periodic function is one that returns the same value at regular intervals. Let's look at a table of some values from the tangent function:\n",
        "\n",
        "| x   | tan(x) |\n",
        "|-----|--------|\n",
        "| -pi | 0      |\n",
        "| 0   | 0      |\n",
        "| pi  | 0      |\n",
        "\n",
        "The tangent function repeats itself every $\\pi$, which is known as the period. The tangent function isn't known to be used as an activation function in neural networks (or any machine learning model really) because the periodic nature isn't a pattern that's found in real datasets.\n",
        "\n",
        "While there have been some [experiments with periodic functions](https://ieeexplore.ieee.org/document/819741) as the activation function for neural networks, the general conclusion has been that period functions like tangent don't offer any unique benefits for modeling.\n",
        "\n",
        "Generally speaking, the activation functions that are used in neural networks are [monotonically increasing functions](https://en.wikipedia.org/wiki/Monotonic_function). A monotonically increasing function consists of 2 parts:\n",
        "\n",
        "- a monotonic function: a function that preserves order in both the domain ($x$ values) and the range ($f(x)$)\n",
        "- an increasing function: a function where $f(x)$ always stays the same or increases as $x$ increases\n",
        "\n",
        "All of the activation functions we've looked at (and will look at) in this mission meet this criteria."
      ]
    },
    {
      "cell_type": "markdown",
      "metadata": {
        "id": "L4l_qnk_AfQv",
        "colab_type": "text"
      },
      "source": [
        "## 2.5 Hyperbolic Tangent Function"
      ]
    },
    {
      "cell_type": "markdown",
      "metadata": {
        "id": "vY8kqC_QAfQ_",
        "colab_type": "text"
      },
      "source": [
        "While the tangent function describes the ratio of the $y$ and $x$ values on the unit circle, the **hyperbolic tangent function** describes the ratio of $y$ and $x$ values on the [unit hyperbola](https://en.wikipedia.org/wiki/Hyperbola). Here's a diagram of the hyperbola from Wikipedia:\n",
        "\n",
        "<left><img width=\"400\" alt=\"creating a repo\" src=\"https://drive.google.com/uc?export=view&id=1hXVYY1maOCz2BYpLEbVfr9FJ9cHEYE43\"></left>\n",
        "\n",
        "The math behind hyperbolic functions is quite involved and we won't be diving into it in this course. We highly recommend the excellent video on hyperbolic functions on [Khan Academy](https://www.youtube.com/watch?v=Wfpb-fniSSk).\n",
        "\n",
        "We'll rely instead on the [numpy.tanh()](https://docs.scipy.org/doc/numpy/reference/generated/numpy.tanh.html) function to visualize the behavior of this function.\n",
        "\n",
        "**Exercise Start**\n",
        "\n",
        "<left><img width=\"100\" alt=\"creating a repo\" src=\"https://drive.google.com/uc?export=view&id=1E8tR7B9YYUXsU_rddJAyq0FrM0MSelxZ\"></left>\n",
        "\n",
        "- Use the **numpy.tanh()** function to compute the hyperbolic tangent of the values in x and assign the returned value to **tanh_y**.\n",
        "- Print both x and **tanh_y.**\n",
        "- Generate a line plot with x on the x-axis and tanh_y on the y-axis."
      ]
    },
    {
      "cell_type": "code",
      "metadata": {
        "id": "Q84Lqbh_AfRK",
        "colab_type": "code",
        "colab": {}
      },
      "source": [
        "x = np.linspace(-40, 40, 100)\n",
        "\n",
        "# put your code here"
      ],
      "execution_count": 0,
      "outputs": []
    },
    {
      "cell_type": "code",
      "metadata": {
        "id": "Dx-M3lcE2ts6",
        "colab_type": "code",
        "outputId": "851f2313-5581-4cc5-8938-0973cdabb8f8",
        "colab": {
          "base_uri": "https://localhost:8080/",
          "height": 286
        }
      },
      "source": [
        "x = np.linspace(-40, 40, 100)\n",
        "tanh_y = np.tanh(x)\n",
        "plt.plot(x, tanh_y)"
      ],
      "execution_count": 0,
      "outputs": [
        {
          "output_type": "execute_result",
          "data": {
            "text/plain": [
              "[<matplotlib.lines.Line2D at 0x7f74adbf8ac8>]"
            ]
          },
          "metadata": {
            "tags": []
          },
          "execution_count": 47
        },
        {
          "output_type": "display_data",
          "data": {
            "image/png": "[encoded data removed]",
            "text/plain": [
              "<Figure size 432x288 with 1 Axes>"
            ]
          },
          "metadata": {
            "tags": []
          }
        }
      ]
    },
    {
      "cell_type": "markdown",
      "metadata": {
        "id": "_ZNk1DGyAfRP",
        "colab_type": "text"
      },
      "source": [
        "## 2.6 Reflecting On The Hyperbolic Tangent Function"
      ]
    },
    {
      "cell_type": "markdown",
      "metadata": {
        "id": "zDTXiNI7AfRP",
        "colab_type": "text"
      },
      "source": [
        "Here's the plot we generated in the last section:\n",
        "\n",
        "<left><img width=\"500\" alt=\"creating a repo\" src=\"https://drive.google.com/uc?export=view&id=1kuwLK17pDp74PLK2UYvK7lMXbJ_UKxth\"></left>\n",
        "\n",
        "You'll notice that like the **sigmoid** function, the **tanh** function has horizontal asymptotes as $x$ approaches negative or positive infinity. In addition, the **tanh** function also constrains the range ($y$) to between $-1$ and $1$. Because of this property, both the **sigmoid** and the **tanh** functions are commonly used in neural networks for **classification tasks**.\n",
        "\n",
        "The **ReLU** function, on the other hand, is known to be more effective in **regression tasks**."
      ]
    },
    {
      "cell_type": "markdown",
      "metadata": {
        "id": "cq_wFdSgAfRQ",
        "colab_type": "text"
      },
      "source": [
        "## 2.6 Next Steps\n",
        "\n",
        "- In this section, we learned about:\n",
        "\n",
        "    - The importance of nonlinear activation functions in increasing the complexity of patterns that can be learned.\n",
        "    - The most common nonlinear activation functions and their unique properties.\n",
        "\n",
        "In the next section, we'll dive into how adding layers of weights between the input layer and the output layer enables deep neural network models to learn more complex patterns."
      ]
    },
    {
      "cell_type": "markdown",
      "metadata": {
        "toc-hr-collapsed": true,
        "id": "fo0TZJtEAfRR",
        "colab_type": "text"
      },
      "source": [
        "# 3.0 Hidden Layers"
      ]
    },
    {
      "cell_type": "markdown",
      "metadata": {
        "id": "c9ugo2ngAfRS",
        "colab_type": "text"
      },
      "source": [
        "## 3.1 Introduction"
      ]
    },
    {
      "cell_type": "markdown",
      "metadata": {
        "id": "kWMLfMSnAfRT",
        "colab_type": "text"
      },
      "source": [
        "In the last 2 sections, we worked with single layer neural networks. These networks had a single layer of neurons. To make a prediction, a single layer of neurons in these networks directly fed their results into the output neuron(s).\n",
        "\n",
        "In this section, we'll explore how **multi-layer networks** (also known as **deep neural networks**) are able to better capture nonlinearity in the data. In a deep neural network, the first layer of input neurons feeds into a second, intermediate layer of neurons. Here's a diagram representing this architecture:\n",
        "\n",
        "<left><img width=250 alt=\"creating a repo\" src=\"https://drive.google.com/uc?export=view&id=1FSVFxXoMEnX7ob1ajegGpV8NXtbgFjNI\"></left>\n",
        "\n",
        "We included both of the functions that are used to compute each hidden neuron and output neuron to help clear up any confusion. You'll notice that the number of neurons in the second layer was more than those in the input layer. **Choosing the number of neurons in this layer is a bit of an art** form and not quite a science yet in neural network literature. We can actually add more intermediate layers, and this often leads to improved model accuracy (because of an increased capability in learning nonlinearity).\n",
        "\n",
        "<left><img width=450 alt=\"creating a repo\" src=\"https://drive.google.com/uc?export=view&id=1TyF5tUpJeORG737eAsoXG1SrVsyAMnSg\"></left>\n",
        "\n",
        "The intermediate layers are known as **hidden layers**, because they aren't directly represented in the input data or the output predictions. Instead, we can think of each hidden layer as intermediate features that are learned during the training process.\n",
        "\n",
        "**Comparison With Decision Tree Models**\n",
        "\n",
        "This is actually very similar to how decision trees are structured. The branches and splits represent some intermediate features that are useful for making predictions and are analogous to the hidden layers in a neural network:\n",
        "\n",
        "<left><img width=650 alt=\"creating a repo\" src=\"https://drive.google.com/uc?export=view&id=1hY9s1zM5Ky-sAfK9U-NM48topA6X-Zc4\"></left>\n",
        "\n",
        "Each of these hidden layers has it's own set of weights and biases, which are discovered during the training process. In decision tree models, the intermediate features in the model represented something more concrete we can understand (feature ranges).\n",
        "\n",
        "Decision tree models are referred to as **white box** models because they can be observed and understood but not easily altered. After we train a decision tree model, we can visualize the tree, interpret it, and have new ideas for tweaking the model. Neural networks, on the other hand, are much closer to being a **black box**. In a black box model, we can understand the inputs and the outputs but the intermediate features are actually difficult to interpret and understand. Even harder and perhaps more importantly, it's difficult to understand how to tweak a neural network based on these intermediate features.\n",
        "\n",
        "In this section, we'll learn how adding more layers to a network and adding more neurons in the hidden layers can improve the model's ability to learn more complex relationships."
      ]
    },
    {
      "cell_type": "markdown",
      "metadata": {
        "id": "BcuHO9axAfRV",
        "colab_type": "text"
      },
      "source": [
        "## 3.2 Generating Data That Contains Nonlinearity"
      ]
    },
    {
      "cell_type": "markdown",
      "metadata": {
        "id": "AHnYARsVAfRY",
        "colab_type": "text"
      },
      "source": [
        "To generate data with nonlinearity in the features (both between the features and between the features and the target column), we can use the [make_moons()](http://scikit-learn.org/stable/modules/generated/sklearn.datasets.make_moons.html#sklearn.datasets.make_moons) function from scikit-learn:\n",
        "\n",
        "\n"
      ]
    },
    {
      "cell_type": "code",
      "metadata": {
        "id": "p4IE_Mx8AfRZ",
        "colab_type": "code",
        "outputId": "5a7bd7df-00c4-4880-d52c-241d9eed4537",
        "colab": {}
      },
      "source": [
        "from sklearn.datasets import make_moons\n",
        "data = make_moons()\n",
        "\n",
        "type(data)"
      ],
      "execution_count": 0,
      "outputs": [
        {
          "output_type": "execute_result",
          "data": {
            "text/plain": [
              "tuple"
            ]
          },
          "metadata": {
            "tags": []
          },
          "execution_count": 94
        }
      ]
    },
    {
      "cell_type": "code",
      "metadata": {
        "id": "-BKo-1-PAfRi",
        "colab_type": "code",
        "outputId": "cea290f1-5ad3-4e36-84a3-57dfcbb435bc",
        "colab": {}
      },
      "source": [
        "data[0].shape"
      ],
      "execution_count": 0,
      "outputs": [
        {
          "output_type": "execute_result",
          "data": {
            "text/plain": [
              "(100, 2)"
            ]
          },
          "metadata": {
            "tags": []
          },
          "execution_count": 99
        }
      ]
    },
    {
      "cell_type": "code",
      "metadata": {
        "id": "YC31nmDWAfRl",
        "colab_type": "code",
        "outputId": "d09a1c33-1193-4716-875b-4f40758690dc",
        "colab": {}
      },
      "source": [
        "data[1].shape"
      ],
      "execution_count": 0,
      "outputs": [
        {
          "output_type": "execute_result",
          "data": {
            "text/plain": [
              "(100,)"
            ]
          },
          "metadata": {
            "tags": []
          },
          "execution_count": 100
        }
      ]
    },
    {
      "cell_type": "markdown",
      "metadata": {
        "id": "1BS_hP2RAfRz",
        "colab_type": "text"
      },
      "source": [
        "By default, make_moons() will generate 100 rows of data with 2 features. Here's a plot that visualizes one feature against the other:\n",
        "\n",
        "<left><img width=350 alt=\"creating a repo\" src=\"https://drive.google.com/uc?export=view&id=1Dw-iNlbp6_JHxwuh1bHH5MhoFA8k3T2H\"></left>\n",
        "\n",
        "To make things interesting, let's add some Gaussian noise to the data. Gaussian noise is a kind of statistical noise that follows the [Gaussian distribution](https://en.wikipedia.org/wiki/Gaussian_noise), and it's a common way to try to recreate the noise that's often found in real world data.\n",
        "\n",
        "We can use the **noise** parameter to specify the standard deviation of the Gaussian noise we want added to the data. Let's also set the **random_state** to 3 so the generated data can be recreated:\n",
        "\n",
        "```python\n",
        "data = make_moons(random_state = 3, noise=0.04)\n",
        "```\n",
        "\n",
        "Just like in a previous mission, we can separate the resulting NumPy object into 2 pandas dataframes:"
      ]
    },
    {
      "cell_type": "code",
      "metadata": {
        "id": "mK3eLnqGAfR3",
        "colab_type": "code",
        "colab": {}
      },
      "source": [
        "features = pd.DataFrame(data[0])\n",
        "labels = pd.Series(data[1])"
      ],
      "execution_count": 0,
      "outputs": []
    },
    {
      "cell_type": "code",
      "metadata": {
        "id": "Vp2N5tTOAfSG",
        "colab_type": "code",
        "outputId": "6568976f-1a77-4897-84ce-d239eb9c086e",
        "colab": {}
      },
      "source": [
        "labels.head()"
      ],
      "execution_count": 0,
      "outputs": [
        {
          "output_type": "execute_result",
          "data": {
            "text/plain": [
              "0    0\n",
              "1    0\n",
              "2    0\n",
              "3    1\n",
              "4    0\n",
              "dtype: int64"
            ]
          },
          "metadata": {
            "tags": []
          },
          "execution_count": 104
        }
      ]
    },
    {
      "cell_type": "code",
      "metadata": {
        "id": "WFVZg_J9AfSU",
        "colab_type": "code",
        "outputId": "0fab86b9-2f7d-4e30-cd0d-4ea0fb547292",
        "colab": {}
      },
      "source": [
        "features.head()"
      ],
      "execution_count": 0,
      "outputs": [
        {
          "output_type": "execute_result",
          "data": {
            "text/html": [
              "<div>\n",
              "<style scoped>\n",
              "    .dataframe tbody tr th:only-of-type {\n",
              "        vertical-align: middle;\n",
              "    }\n",
              "\n",
              "    .dataframe tbody tr th {\n",
              "        vertical-align: top;\n",
              "    }\n",
              "\n",
              "    .dataframe thead th {\n",
              "        text-align: right;\n",
              "    }\n",
              "</style>\n",
              "<table border=\"1\" class=\"dataframe\">\n",
              "  <thead>\n",
              "    <tr style=\"text-align: right;\">\n",
              "      <th></th>\n",
              "      <th>0</th>\n",
              "      <th>1</th>\n",
              "    </tr>\n",
              "  </thead>\n",
              "  <tbody>\n",
              "    <tr>\n",
              "      <th>0</th>\n",
              "      <td>-0.623490</td>\n",
              "      <td>0.781831</td>\n",
              "    </tr>\n",
              "    <tr>\n",
              "      <th>1</th>\n",
              "      <td>0.801414</td>\n",
              "      <td>0.598111</td>\n",
              "    </tr>\n",
              "    <tr>\n",
              "      <th>2</th>\n",
              "      <td>0.991790</td>\n",
              "      <td>0.127877</td>\n",
              "    </tr>\n",
              "    <tr>\n",
              "      <th>3</th>\n",
              "      <td>1.981559</td>\n",
              "      <td>0.308841</td>\n",
              "    </tr>\n",
              "    <tr>\n",
              "      <th>4</th>\n",
              "      <td>0.926917</td>\n",
              "      <td>0.375267</td>\n",
              "    </tr>\n",
              "  </tbody>\n",
              "</table>\n",
              "</div>"
            ],
            "text/plain": [
              "          0         1\n",
              "0 -0.623490  0.781831\n",
              "1  0.801414  0.598111\n",
              "2  0.991790  0.127877\n",
              "3  1.981559  0.308841\n",
              "4  0.926917  0.375267"
            ]
          },
          "metadata": {
            "tags": []
          },
          "execution_count": 105
        }
      ]
    },
    {
      "cell_type": "markdown",
      "metadata": {
        "id": "bscR3KQVAfSc",
        "colab_type": "text"
      },
      "source": [
        "**Exercise Start**\n",
        "\n",
        "<left><img width=\"100\" alt=\"creating a repo\" src=\"https://drive.google.com/uc?export=view&id=1E8tR7B9YYUXsU_rddJAyq0FrM0MSelxZ\"></left>\n",
        "\n",
        "\n",
        "- Use the **make_moons()** function to generate data with nonlinearity:\n",
        "    - Generate 100 values.\n",
        "    - Set the random seed to 3.\n",
        "    - Set the noise parameter to 0.04.\n",
        "- Convert the NumPy array of generated features into a pandas dataframe and assign to **features**.\n",
        "- Convert the NumPy array of generated labels into a pandas series and assign to **labels**.\n",
        "- Generate a 3d scatter plot of the data:\n",
        "    - Create a matplotlib figure object and set to figsize to (8,8) (**plt.figure()**).\n",
        "    - Create and attach single axes object to this figure using the 3d projection: **ax = fig.add_subplot(111, projection='3d')**\n",
        "    - Generate a 3d scatter plot with the first column from features on the x-axis and the second column from features.\n"
      ]
    },
    {
      "cell_type": "code",
      "metadata": {
        "id": "CSEMmkHqAfSj",
        "colab_type": "code",
        "colab": {}
      },
      "source": [
        "from mpl_toolkits.mplot3d import Axes3D\n",
        "from sklearn.datasets import make_moons\n",
        "import pandas as pd\n",
        "import matplotlib.pyplot as plt\n",
        "\n",
        "# put your code here"
      ],
      "execution_count": 0,
      "outputs": []
    },
    {
      "cell_type": "markdown",
      "metadata": {
        "id": "LzHBV5pHAfS1",
        "colab_type": "text"
      },
      "source": [
        "## 3.3 Hidden Layer With A Single Neuron"
      ]
    },
    {
      "cell_type": "markdown",
      "metadata": {
        "id": "iPYs1jqCAfS2",
        "colab_type": "text"
      },
      "source": [
        "In the sections 1 and 2, we learned how adding a nonlinear activation function expanded the range of patterns that a model could try to learn. The following GIF demonstrates how adding the sigmoid function enables a logistic regression model to capture nonlinearity more effectively:\n",
        "\n",
        "<left><img width=\"400\" alt=\"creating a repo\" src=\"https://drive.google.com/uc?export=view&id=1z2BLfw6XHL3RbphDHAmgXxLhNplXHmml\"></left>\n",
        "\n",
        "We can think of a logistic regression model as a neural network with an activation function but no hidden layers. To make predictions, a linear combination of the features and weights is performed followed by a single sigmoid transformation.\n",
        "\n",
        "<left><img width=\"200\" alt=\"creating a repo\" src=\"https://drive.google.com/uc?export=view&id=1vBUzJo11X6uybCfRIYKIZO2JCt1T_Jsq\"></left>\n",
        "\n",
        "To improve the expressive power, we can add a hidden layer of neurons in between the input layer and the output layer. Here's an example where we've added a single hidden layer with a single neuron in between the input layer and the output layer:\n",
        "\n",
        "<left><img width=\"500\" alt=\"creating a repo\" src=\"https://drive.google.com/uc?export=view&id=15eTYAknKzI2SMWu-8NbSjlJYV5r3uxiB\"></left>\n",
        "\n",
        "This network contains two sets of weights that are learned during the training phase:\n",
        "\n",
        "- 4 weights between the input layer and the hidden layer\n",
        "- 1 weight between the hidden layer and the output layer\n",
        "\n",
        "In the next section, we'll learn how to train a neural network with a hidden layer using scikit-learn. We'll compare this model with a logistic regression model."
      ]
    },
    {
      "cell_type": "markdown",
      "metadata": {
        "id": "3cqm_dI5AfS4",
        "colab_type": "text"
      },
      "source": [
        "## 3.4 Training A Neural Network Using Scikit-learn"
      ]
    },
    {
      "cell_type": "markdown",
      "metadata": {
        "id": "raQfX-IsAfS5",
        "colab_type": "text"
      },
      "source": [
        "Scikit-learn contains two classes for working with neural networks:\n",
        "\n",
        "- [MLPClassifier](http://scikit-learn.org/stable/modules/generated/sklearn.neural_network.MLPClassifier.html)\n",
        "- [MLPRegressor](http://scikit-learn.org/stable/modules/generated/sklearn.neural_network.MLPRegressor.html)\n",
        "\n",
        "Let's focus on the **MLPClassifier** class. As with all of the model classes in scikit-learn, MLPClassifier follows the standard model.fit() and model.predict() pattern:\n",
        "\n",
        "```python\n",
        "from sklearn.neural_network import MLPClassifier\n",
        "mlp = MLPClassifier()\n",
        "mlp.fit(X_train, y_train)\n",
        "predictions = mlp.predict(X_test)\n",
        "```\n",
        "\n",
        "We can specify the number of hidden neurons we want to use in each layer using the **hidden_layer_sizes** parameter. This parameter accepts a tuple where the index value corresponds to the number of neurons in that hidden layer. The parameter is set to the tuple (100,) by default, which corresponds to a hundred neurons in a single hidden layer. The following code specifies a hidden layer of six neurons:\n",
        "\n",
        "```python\n",
        "mlp = MLPClassifier(hidden_layer_sizes=(6,))\n",
        "```\n",
        "\n",
        "We can specify the **activation function** we want used in all layers using the activation parameter. This parameter accepts only the following string values:\n",
        "\n",
        "- **'identity'**: the identity function\n",
        "- **'logistic'**: the sigmoid function\n",
        "- **'tanh'**: the hyperbolic tangent (tanh) function\n",
        "- **'relu'**: the ReLU function\n",
        "\n",
        "\n",
        "Here's a model instantiated with the sigmoid activation function:\n",
        "\n",
        "```python\n",
        "mlp = MLPClassifier(hidden_layer_sizes=(6,), activation='logistic')\n",
        "```\n",
        "\n",
        "While scikit-learn is friendly to use when learning new concepts, it has a few limitations when it comes to working with neural networks in production.\n",
        "\n",
        "- At the time of writing, scikit-learn only supports using the same activation function for all layers.\n",
        "Scikit-learn also struggles to scale to larger datasets.\n",
        "- Libraries like [Theano](http://deeplearning.net/software/theano/) and [TensorFlow](https://www.tensorflow.org/) support offloading some computation to the GPU to overcome bottlenecks.\n",
        "\n",
        "**Exercise Start**\n",
        "\n",
        "<left><img width=\"100\" alt=\"creating a repo\" src=\"https://drive.google.com/uc?export=view&id=1E8tR7B9YYUXsU_rddJAyq0FrM0MSelxZ\"></left>\n",
        "\n",
        "- Train two different models using scikit-learn on the training set:\n",
        "    - A standard logistic regression model\n",
        "    - A neural network with:\n",
        "        - A single hidden layer\n",
        "        - A single neuron in the hidden layer\n",
        "        - The sigmoid activation function\n",
        "        - evaluate differents **iter_max** values\n",
        "- Make predictions on the test set using the logistic regression model and assign to **log_predictions**\n",
        "- Make predictions on the test set using the neural network model and assign to **nn_predictions.**\n",
        "- Compute the [accuracy score](https://scikit-learn.org/stable/modules/generated/sklearn.metrics.accuracy_score.html) for **log_predictions** and assign to **log_accuracy.**\n",
        "- Compute the **accuracy score** for **nn_predictions** and assign to **nn_accuracy.**\n",
        "- Print both **log_accuracy** and **nn_accuracy**."
      ]
    },
    {
      "cell_type": "code",
      "metadata": {
        "id": "g5yl5liUAfS7",
        "colab_type": "code",
        "colab": {}
      },
      "source": [
        "from sklearn.neural_network import MLPClassifier\n",
        "from sklearn.linear_model import LogisticRegression\n",
        "from sklearn.metrics import accuracy_score\n",
        "from sklearn.model_selection import train_test_split\n",
        "\n",
        "data = make_moons(1000, random_state=3, noise=0.04)\n",
        "features = pd.DataFrame(data[0])\n",
        "labels = pd.Series(data[1])\n",
        "features[\"bias\"] = 1\n",
        "\n",
        "train_x, test_x, train_y, test_y = train_test_split(features,\n",
        "                                                    labels,\n",
        "                                                    test_size=0.30, \n",
        "                                                    random_state=42)\n",
        "\n",
        "# put your code here"
      ],
      "execution_count": 0,
      "outputs": []
    },
    {
      "cell_type": "markdown",
      "metadata": {
        "id": "lMeN3iW5AfTF",
        "colab_type": "text"
      },
      "source": [
        "## 3.5 Hidden Layer With Multiple Neurons"
      ]
    },
    {
      "cell_type": "markdown",
      "metadata": {
        "id": "MESz4b9jAfTG",
        "colab_type": "text"
      },
      "source": [
        "In the previous section, the neural network and logistic regression models produced the same accuracy score. While we don't recommend using the accuracy score to benchmark classification models, they can helpful when we're learning and experimenting because they are easy to understand.\n",
        "\n",
        "Let's take a look at a network with a single hidden layer of multiple neurons:\n",
        "\n",
        "<left><img width=\"400\" alt=\"creating a repo\" src=\"https://drive.google.com/uc?export=view&id=1LET7Oz3hfTOFY2uqGRqleWNCZXHjsWmD\"></left>\n",
        "\n",
        "This network has 3 input neurons, 6 neurons in the single hidden layer, and 1 output neuron. You'll notice that there's an arrow between every input neuron and every hidden neuron (3 x 6 = 18 connections), representing a weight that needs to be learned during the training process. You'll notice that there's also a weight that needs to be learned between every hidden neuron and the final output neuron (6 x 1 = 6 connections).\n",
        "\n",
        "Because every neuron has a connection between itself and the next layer of neurons, this is known as a **fully connected network**. Lastly, because the computation flows from left (input layer) to right (hidden layer then to output layer), we can call this network a **fully connected, feedforward network**.\n",
        "\n",
        "There are two weight matrices ($\\alpha_1$ and $\\alpha_2$) that need to be learned during the training process, one for each stage of the computation. Let's look at the linear algebra representation of this network.\n",
        "\n",
        "<left><img width=\"600\" alt=\"creating a repo\" src=\"https://drive.google.com/uc?export=view&id=1nAT3aFvxw9qI4VWwldvOi0u3RTdMJ5eP\"></left>\n",
        "\n",
        "While we've discussed different architectures in this course, a deep neural network boils down to a series of matrix multiplications paired with nonlinear transformations! These are the key ideas that underlie all neural network architectures. Take a look at this conceptual diagram from the **Asimov Institute** that demonstrates a variety of neural network architectures:\n",
        "\n",
        "<left><img width=\"600\" alt=\"creating a repo\" src=\"https://drive.google.com/uc?export=view&id=1anN1gmLL7ttnD8shF4IXM15kKgDpVwE0\"></left>\n",
        "\n",
        "Let's experimenting with adding more neurons to the hidden layer in the neural network from the last screen and see how the accuracy changes.\n",
        "\n",
        "**Exercise Start**\n",
        "\n",
        "<left><img width=\"100\" alt=\"creating a repo\" src=\"https://drive.google.com/uc?export=view&id=1E8tR7B9YYUXsU_rddJAyq0FrM0MSelxZ\"></left>\n",
        "\n",
        "- Create a the following list of neuron counts and assign to **neurons: [1, 5, 10, 15, 20, 25]**\n",
        "- Create an empty list named **accuracies**.\n",
        "- For each value in neurons:\n",
        "    - Train a neural network:\n",
        "        - with the number of neurons in the hidden layer set to the current value\n",
        "        - using the sigmoid activation function\n",
        "    - Make predictions on the test set and compute the accuracy value.\n",
        "    - Append the accuracy value to **accuracies.**\n",
        "- Print **accuracies.**"
      ]
    },
    {
      "cell_type": "code",
      "metadata": {
        "id": "S0vi81iDAfTH",
        "colab_type": "code",
        "colab": {}
      },
      "source": [
        "from sklearn.neural_network import MLPClassifier\n",
        "from sklearn.linear_model import LogisticRegression\n",
        "from sklearn.metrics import accuracy_score\n",
        "from sklearn.model_selection import train_test_split\n",
        "\n",
        "data = make_moons(1000, random_state=3, noise=0.04)\n",
        "features = pd.DataFrame(data[0])\n",
        "labels = pd.Series(data[1])\n",
        "features[\"bias\"] = 1\n",
        "\n",
        "train_x, test_x, train_y, test_y = train_test_split(features,\n",
        "                                                    labels,\n",
        "                                                    test_size=0.30, \n",
        "                                                    random_state=42)\n",
        "\n",
        "# put your code here"
      ],
      "execution_count": 0,
      "outputs": []
    },
    {
      "cell_type": "markdown",
      "metadata": {
        "id": "08QkGEjXAfTR",
        "colab_type": "text"
      },
      "source": [
        "## 3.6 Multiple Hidden Layers"
      ]
    },
    {
      "cell_type": "markdown",
      "metadata": {
        "id": "ssVImQPEAfTU",
        "colab_type": "text"
      },
      "source": [
        "It seems like the test set prediction accuracy improved to 0.88 when using ten neurons in the hidden layer. In general, the accuracy didn't vastly improve between the models:\n",
        "\n",
        "```python\n",
        "print(accuracies)\n",
        "[0.5, 0.8766666666666667, 0.88, 0.88, 0.88, 0.88]\n",
        "```\n",
        "\n",
        "Next, we can try increasing the number of hidden layers to see if that helps improve the accuracy of the network. Here's a diagram representing a neural network with six neurons in the first hidden layer and four neurons in the second hidden layer:\n",
        "\n",
        "<left><img width=\"400\" alt=\"creating a repo\" src=\"https://drive.google.com/uc?export=view&id=11pXUHkxYlsExuoRNfbBSM7A00SaYi0Xq\"></left>\n",
        "\n",
        "To determine the number of weights between the layers, multiply the number of neurons between those two layers. Remember that these weights will be represented as weight matrices.\n",
        "\n",
        "To specify the number of hidden layers and the number of neurons in each hidden layer, we change the tuple we pass in to the hidden_layer_sizes parameter:\n",
        "\n",
        "```python\n",
        "mlp = MLPClassifier(hidden_layer_sizes=(n,k))\n",
        "```\n",
        "\n",
        "**Exercise Start**\n",
        "\n",
        "<left><img width=\"100\" alt=\"creating a repo\" src=\"https://drive.google.com/uc?export=view&id=1E8tR7B9YYUXsU_rddJAyq0FrM0MSelxZ\"></left>\n",
        "\n",
        "- Create a the following list of neuron counts and assign to **neurons: [1, 5, 10, 15, 20, 25]**\n",
        "- Create an empty list named **nn_accuracies.**\n",
        "- For each value in **neurons:**\n",
        "    - Train a neural network:\n",
        "        - with two hidden layers, each containing the same number of neurons (the current value in neurons)\n",
        "        - using the sigmoid activation function\n",
        "    - Make predictions on the test set and compute the accuracy value.\n",
        "    - Append the accuracy value to **nn_accuracies.**\n",
        "- Print nn_accuracies."
      ]
    },
    {
      "cell_type": "code",
      "metadata": {
        "id": "cCgi_cUTAfTW",
        "colab_type": "code",
        "colab": {}
      },
      "source": [
        "from sklearn.neural_network import MLPClassifier\n",
        "from sklearn.linear_model import LogisticRegression\n",
        "from sklearn.metrics import accuracy_score\n",
        "from sklearn.model_selection import train_test_split\n",
        "\n",
        "data = make_moons(1000, random_state=3, noise=0.04)\n",
        "features = pd.DataFrame(data[0])\n",
        "labels = pd.Series(data[1])\n",
        "features[\"bias\"] = 1\n",
        "\n",
        "train_x, test_x, train_y, test_y = train_test_split(features,\n",
        "                                                    labels,\n",
        "                                                    test_size=0.30, \n",
        "                                                    random_state=42)\n",
        "\n",
        "# put your code here"
      ],
      "execution_count": 0,
      "outputs": []
    },
    {
      "cell_type": "markdown",
      "metadata": {
        "id": "zGIuGKiSAfTe",
        "colab_type": "text"
      },
      "source": [
        "## 3.7 Next Steps"
      ]
    },
    {
      "cell_type": "markdown",
      "metadata": {
        "id": "OBfHFTbZAfTf",
        "colab_type": "text"
      },
      "source": [
        "It looks like the accuracy didn't increase with two hidden layers.\n",
        "\n",
        "```python\n",
        "[0.5, 0.88, 0.8833333333333333, 0.88, 0.88, 0.88]\n",
        "```\n",
        "\n",
        "Adding more layers can cause the network to overfit, which may have happened here. Let's shift our attention to a problem where neural networks are known to shine.\n",
        "\n",
        "Next, and last in this lesson, is a few steps where you'll build deep neural networks to classify handwritten digits. Neural networks have known to excel at image classification tasks, so this will be an exciting real-world problem for you to work on."
      ]
    },
    {
      "cell_type": "markdown",
      "metadata": {
        "toc-hr-collapsed": true,
        "id": "cduaJyP2AfTo",
        "colab_type": "text"
      },
      "source": [
        "# 4.0 Case Study: Building A Handwritten Digits Classifier"
      ]
    },
    {
      "cell_type": "markdown",
      "metadata": {
        "id": "BnqFaDqNAfT8",
        "colab_type": "text"
      },
      "source": [
        "## 4.1 Introduction"
      ]
    },
    {
      "cell_type": "markdown",
      "metadata": {
        "id": "MSLMQxt8AfUB",
        "colab_type": "text"
      },
      "source": [
        "In the last section, we learned how adding hidden layers of neurons to a neural network can improve its ability to capture nonlinearity in the data. We tested different neural networks models on a dataset that we generated with deliberate nonlinearity.\n",
        "\n",
        "Now, in this section we'll:\n",
        "\n",
        "- explore why image classification is a hard task\n",
        "- observe the limitations of traditional machine learning models for image classification\n",
        "- train, test, and improve a few different deep neural networks for image classification\n",
        "\n",
        "\n",
        "As we mentioned in the first section in this lesson, deep neural networks have been used to reach state-of-the-art performance on **image classification** tasks in the last decade. For some image classification tasks, deep neural networks actually perform as well as or slightly better than the human benchmark. You can read about the history of deep neural networks [here](https://arxiv.org/pdf/1803.01164.pdf).\n",
        "\n",
        "To end this lesson, we'll build models that can classify handwritten digits. Before the year 2000, institutions like the United States Post Office used handwriting recognition software to read addresses, zip codes, and more. One of their approaches, which consists of pre-processing handwritten images then feeding to a neural network model is detailed in this [paper](http://citeseerx.ist.psu.edu/viewdoc/download?doi=10.1.1.852.5499&rep=rep1&type=pdf).\n",
        "\n",
        "**Why is image classifcation a hard task?**\n",
        "\n",
        "Within the field of machine learning and pattern recognition, image classification (especially for handwritten text) is towards the difficult end of the spectrum. There are a few reasons for this.\n",
        "\n",
        "First, each image in a training set is high dimensional. Each pixel in an image is a feature and a separate column. This means that a 128 x 128 image has 16384 features.\n",
        "\n",
        "Second, images are often downsampled to lower resolutions and transformed to grayscale (no color). This is a limitation of compute power unfortunately. The resolution of a 8 megapixel photo has 3264 by 2448 pixels, for a total of 7,990,272 features (or about 8 million). Images of this resolution are usually scaled down to between 128 and 512 pixels in either direction for significantly faster processing. This often results in a loss of detail that's available for training and pattern matching.\n",
        "\n",
        "Third, the features in an image don't have an obvious linear or nonlinear relationship that can be learned with a model like linear or logistic regression. In grayscale, each pixel is just represented as a brightness value ranging from 0 to 256.\n",
        "\n",
        "Here's an example of how an image is represented across the different abstractions we care about:\n",
        "\n",
        "<left><img width=\"600\" alt=\"creating a repo\" src=\"https://drive.google.com/uc?export=view&id=1TEFvHIvnBTJevVGDhMlRvu-0_0jSxfVb\"></left>\n",
        "\n",
        "**Why is deep learning effective in image classification?**\n",
        "\n",
        "Deep learning is effective in image classification because of the models' **ability to learn hierarchical representations**. At a high level, an effective deep learning model learns intermediate representations at each layer in the model and uses them in the prediction process. Here's a diagram that visualizes what the weights represent at each layer of a **convolutional neural network**, a type of network that's often used in image classification and unfortunately out of scope for this lesson, which was trained to identify faces.\n",
        "\n",
        "<left><img width=\"600\" alt=\"creating a repo\" src=\"https://drive.google.com/uc?export=view&id=1Rd4p4C9Xg75FZ9IPaTWQq56sIhGEQpm-\"></left>\n",
        "\n",
        "You'll notice in the first hidden layer the network learned to represent edges and specific features of faces. In the second hidden layer, the weights seemed to represent higher level facial features like eyes and noses. Finally, the weights in the last hidden layer resemble faces that could be matched against. Each successive layer uses weights from previous layers to try to learn more complex representations.\n"
      ]
    },
    {
      "cell_type": "markdown",
      "metadata": {
        "id": "QtK2znA4AfUF",
        "colab_type": "text"
      },
      "source": [
        "## 4.2 Working With Image Data"
      ]
    },
    {
      "cell_type": "markdown",
      "metadata": {
        "id": "Rg3QF3zBAfUG",
        "colab_type": "text"
      },
      "source": [
        "Because dataframes are a tabular representation of data, each image is represented as a row of pixel values. To visualize an image from the dataframe, we need to reshape the image back to its original dimensions (28 x 28 pixels). To visualize the image, we need to reshape these pixel values back into the 28 by 28 and plot them on a coordinate grid.\n",
        "\n",
        "To reshape the image, we need to convert a training example to a numpy array (excluding the label column) and pass the result into that into the [numpy.reshape()](https://docs.scipy.org/doc/numpy/reference/generated/numpy.reshape.html) function:\n",
        "\n",
        "```python\n",
        "first_image = train.iloc[0]\n",
        "first_image = first_image.drop('label', axis=1)\n",
        "np_image = first_image.values\n",
        "np_image = np_image.reshape(28,28)\n",
        "```\n",
        "\n",
        "Now that the data is in the right shape, we can visualize it using [pyplot.imshow()](https://matplotlib.org/api/_as_gen/matplotlib.pyplot.imshow.html?highlight=matplotlib%20pyplot%20imshow#matplotlib.pyplot.imshow) function:\n",
        "\n",
        "```python\n",
        "plt.imshow(np_image, cmap='gray_r')\n",
        "```\n",
        "\n",
        "To display multiple images in one matplotlib figure, we can use the equivalent [axes.imshow()](https://matplotlib.org/api/_as_gen/matplotlib.axes.Axes.imshow.html#matplotlib.axes.Axes.imshow) function. Let's use what we've learned to display images from both classes.\n",
        "\n",
        "```python\n",
        "f, ax = plt.subplots(1, 2)\n",
        "\n",
        "axarr[0, 0].imshow(data.iloc[0].values.reshape(28,28), cmap='gray_r')\n",
        "axarr[0, 1].imshow(data.iloc[100].values.reshape(28,28), cmap='gray_r')\n",
        "```\n",
        "\n",
        "**Exercise Start**\n",
        "\n",
        "<left><img width=\"100\" alt=\"creating a repo\" src=\"https://drive.google.com/uc?export=view&id=1E8tR7B9YYUXsU_rddJAyq0FrM0MSelxZ\"></left>\n",
        "\n",
        "- Import **load_digits()** from the **sklearn.datasets** package. This function load and return the digits dataset (classification). Each datapoint is a 8x8 image of a digit.\n",
        "- Run **load_digits()** function and store the result to **digits**. \n",
        "- Transform the NumPy 2D array (**digits[\"data\"]**) into the dataframe **df_digits**.\n",
        "- Transform the Numpy 1D array (**digits[\"target\"]**) into the serie **label**.\n",
        "- Use matplotlib to visualize some of the images in the dataset.\n",
        "    - Generate a subplot grid, with 2 rows and 4 columns.\n",
        "    - In the first row:\n",
        "        - Display the images corresponding to rows 0, 100, 200, and 300.\n",
        "    - In the second row:\n",
        "        - Display the images corresponding to rows 1000, 1100, 1200, and 1300."
      ]
    },
    {
      "cell_type": "code",
      "metadata": {
        "id": "npy2L3p4AfUH",
        "colab_type": "code",
        "colab": {}
      },
      "source": [
        "# put your code here"
      ],
      "execution_count": 0,
      "outputs": []
    },
    {
      "cell_type": "markdown",
      "metadata": {
        "id": "IgxENxGbAfUV",
        "colab_type": "text"
      },
      "source": [
        "## 4.3 K-Nearest Neighbors Model"
      ]
    },
    {
      "cell_type": "markdown",
      "metadata": {
        "id": "cytQIffRAfUW",
        "colab_type": "text"
      },
      "source": [
        "While **linear** and **logistic regression** models make assumptions about the linearity between the features and the output labels, the **k-nearest neighbors** algorithm make no such assumption. This allows them to capture nonlinearity in the data. If you recall, k-nearest neighbors don't have a specific model representation (hence why it's referred to as an algorithm and not a model).\n",
        "\n",
        "The k-nearest neighbors algorithm compares every unseen observation in the test set to all (or many, as some implementations constrain the search space) training observations to look for similar (or the \"nearest\") observations. Then, the algorithm finds the label with the most nearby observations and assigns that as the prediction for the unseen observation.\n",
        "\n",
        "Recall that you can use the [KNeighborsClassifier](http://scikit-learn.org/stable/modules/generated/sklearn.neighbors.KNeighborsClassifier.html) package to train and test k-nearest neighbors models.\n",
        "\n",
        "**Exercise Start**\n",
        "\n",
        "<left><img width=\"100\" alt=\"creating a repo\" src=\"https://drive.google.com/uc?export=view&id=1E8tR7B9YYUXsU_rddJAyq0FrM0MSelxZ\"></left>\n",
        "\n",
        "- Create a plot to evaluate the relation between mean accuracy of models and the number of neighbors."
      ]
    },
    {
      "cell_type": "code",
      "metadata": {
        "id": "B_L_1-MnAfUX",
        "colab_type": "code",
        "outputId": "8c3a222f-2544-4270-955d-9160abb6eed3",
        "colab": {}
      },
      "source": [
        "from sklearn.neighbors import KNeighborsClassifier\n",
        "from sklearn.model_selection import KFold\n",
        "from sklearn.metrics import accuracy_score\n",
        "from sklearn.model_selection import train_test_split\n",
        "\n",
        "# Split dataset into train and test\n",
        "# just touch in test_x and test_y only on final version of model\n",
        "train_x, test_x, train_y, test_y = train_test_split(df_digits, \n",
        "                                                    labels, \n",
        "                                                    test_size=0.30, \n",
        "                                                    random_state=42)\n",
        "\n",
        "# number of neighbors\n",
        "neighbors = 3\n",
        "\n",
        "# store the accuracy results\n",
        "fold_accuracies = []\n",
        "\n",
        "# k-fold validation\n",
        "# df_digits is our original data\n",
        "kf = KFold(n_splits = 4, random_state=2)\n",
        "\n",
        "for train_index, test_index in kf.split(train_x):\n",
        "    \n",
        "    # split each fold into train and test\n",
        "    train_features, test_features = train_x.iloc[train_index], train_x.iloc[test_index]\n",
        "    train_labels, test_labels = train_y.iloc[train_index], train_y.iloc[test_index]\n",
        "    \n",
        "    # create a knn classifier model\n",
        "    knn = KNeighborsClassifier(n_neighbors = neighbors)\n",
        "    knn.fit(train_features, train_labels)\n",
        "    \n",
        "    # make predictions\n",
        "    predictions = knn.predict(test_features)\n",
        "    \n",
        "    # evaluate accuracy\n",
        "    overall_accuracy = accuracy_score(test_labels, predictions)\n",
        "    fold_accuracies.append(overall_accuracy)\n",
        "\n",
        "np.mean(fold_accuracies)"
      ],
      "execution_count": 0,
      "outputs": [
        {
          "output_type": "execute_result",
          "data": {
            "text/plain": [
              "0.9840915984228086"
            ]
          },
          "metadata": {
            "tags": []
          },
          "execution_count": 77
        }
      ]
    },
    {
      "cell_type": "markdown",
      "metadata": {
        "id": "JdjqEoThAfVe",
        "colab_type": "text"
      },
      "source": [
        "## 4.4 Neural Network With One Hidden Layer"
      ]
    },
    {
      "cell_type": "markdown",
      "metadata": {
        "id": "b_QXo7_QAfVi",
        "colab_type": "text"
      },
      "source": [
        "There are a few downsides to using k-nearest neighbors:\n",
        "\n",
        "- high memory usage (for each new unseen observation, many comparisons need to be made to seen observations)\n",
        "- no model representation to debug and explore\n",
        "\n",
        "Let's now try a neural network with a single hidden layer. Use the [MLPClassifier](http://scikit-learn.org/stable/modules/generated/sklearn.neural_network.MLPClassifier.html) package from scikit-learn.\n",
        "\n",
        "**Exercise Start**\n",
        "\n",
        "<left><img width=\"100\" alt=\"creating a repo\" src=\"https://drive.google.com/uc?export=view&id=1E8tR7B9YYUXsU_rddJAyq0FrM0MSelxZ\"></left>\n",
        "\n",
        "Display the **accuracy values** for each of the following models:\n",
        "\n",
        "- Train and test a neural network model using a single hidden layer of 8 neurons.\n",
        "- Train and test a neural network model using a single hidden layer of 16 neurons.\n",
        "- Train and test a neural network model using a single hidden layer of 32 neurons.\n",
        "- Train and test a neural network model using a single hidden layer of 64 neurons.\n",
        "- Train and test a neural network model using a single hidden layer of 128 neurons.\n",
        "- Train and test a neural network model using a single hidden layer of 256 neurons.\n",
        "\n",
        "Create a new Markdown cell summarizing what you saw.\n"
      ]
    },
    {
      "cell_type": "code",
      "metadata": {
        "id": "xKRYc0NRAfVk",
        "colab_type": "code",
        "colab": {}
      },
      "source": [
        "# put your code here"
      ],
      "execution_count": 0,
      "outputs": []
    },
    {
      "cell_type": "markdown",
      "metadata": {
        "id": "1W761r6DAfVm",
        "colab_type": "text"
      },
      "source": [
        "## 4.5 Neural Network With Two Hidden Layers"
      ]
    },
    {
      "cell_type": "markdown",
      "metadata": {
        "id": "a-xOHMrpAfVm",
        "colab_type": "text"
      },
      "source": [
        "\n",
        "It looks like adding more neurons to the single hidden layer helped massively improved simple accuracy from approximately 89% to approximately 97%. Simple accuracy computes the number of correct classifications the model made, but doesn't tell us anything about false or true positives or false or true negatives.\n",
        "\n",
        "Given that k-nearest neighbors achieved approximately 99% accuracy, there doesn't seem to be any advantages to using a single hidden layer neural network for this problem.\n",
        "\n",
        "Let's try using two hidden layers and continue to increase the number of neurons in each layer.\n",
        "\n",
        "**Exercise Start**\n",
        "\n",
        "<left><img width=\"100\" alt=\"creating a repo\" src=\"https://drive.google.com/uc?export=view&id=1E8tR7B9YYUXsU_rddJAyq0FrM0MSelxZ\"></left>\n",
        "\n",
        "\n",
        "- Modify the neural network training pipeline to use 2 hidden layers instead in the network.\n",
        "- Train a neural network model using 2 hidden layers:\n",
        "    - 64 neurons in the first hidden layer.\n",
        "    - 64 neurons in the second hidden layer.\n",
        "- Train a neural network model using 2 hidden layers:\n",
        "    - 128 neurons in the first hidden layer.\n",
        "    - 128 neurons in the second hidden layer.\n",
        "- Train a neural network model using 2 hidden layers:\n",
        "    - 256 neurons in the first hidden layer.\n",
        "    - 256 neurons in the second hidden layer.\n",
        "- Create a new Markdown cell summarizing what you saw."
      ]
    },
    {
      "cell_type": "code",
      "metadata": {
        "id": "TfWMbpksAfVn",
        "colab_type": "code",
        "colab": {}
      },
      "source": [
        "# put your code here"
      ],
      "execution_count": 0,
      "outputs": []
    },
    {
      "cell_type": "markdown",
      "metadata": {
        "id": "zmwGOvovAfVr",
        "colab_type": "text"
      },
      "source": [
        "## 4.6 Neural Network With Three Hidden Layers"
      ]
    },
    {
      "cell_type": "markdown",
      "metadata": {
        "id": "np0CWUoGAfVs",
        "colab_type": "text"
      },
      "source": [
        "Using two hidden layers instead of one definitely improved the classification accuracy. Using three layers will also improve classification accuracy, but you need to be very careful about overfitting. Let's increase the number of folds to 6 while testing 3 layer networks.\n",
        "\n",
        "**Exercise Start**\n",
        "\n",
        "<left><img width=\"100\" alt=\"creating a repo\" src=\"https://drive.google.com/uc?export=view&id=1E8tR7B9YYUXsU_rddJAyq0FrM0MSelxZ\"></left>\n",
        "\n",
        "- Modify the neural network training pipeline to use 6 fold cross validation instead.\n",
        "- Train a neural network model using 3 hidden layers:\n",
        "    - 10 neurons in the first hidden layer.\n",
        "    - 10 neurons in the second hidden layer.\n",
        "    - 10 neurons in the third hidden layer.\n",
        "- Train a neural network model using 3 hidden layers:\n",
        "    - 64 neurons in the first hidden layer.\n",
        "    - 64 neurons in the second hidden layer.\n",
        "    - 64 neurons in the third hidden layer.\n",
        "- Train a neural network model using 3 hidden layers:\n",
        "    - 128 neurons in the first hidden layer.\n",
        "    - 128 neurons in the second hidden layer.\n",
        "    - 128 neurons in the third hidden layer.\n",
        "- Create a new Markdown cell summarizing what you saw."
      ]
    },
    {
      "cell_type": "code",
      "metadata": {
        "id": "ZejmbsaTAfVx",
        "colab_type": "code",
        "colab": {}
      },
      "source": [
        "# put your code here"
      ],
      "execution_count": 0,
      "outputs": []
    },
    {
      "cell_type": "markdown",
      "metadata": {
        "id": "8DSGio3DAfV-",
        "colab_type": "text"
      },
      "source": [
        "## 4.7 Next Steps"
      ]
    },
    {
      "cell_type": "markdown",
      "metadata": {
        "id": "pZgZPm7AAfV_",
        "colab_type": "text"
      },
      "source": [
        "Here are some next steps to try:\n",
        "\n",
        "- Use the existing pipeline you've built to try other machine learning models:\n",
        "    - Decision Tree Models\n",
        "    - Random Forest Models\n",
        "    - Xgboost\n",
        "- Write up a summary of the effectiveness of the different models you tried, with data to back up your conclusions."
      ]
    },
    {
      "cell_type": "markdown",
      "metadata": {
        "id": "UNZInlsGiNvB",
        "colab_type": "text"
      },
      "source": [
        "**Load Libraries**"
      ]
    },
    {
      "cell_type": "code",
      "metadata": {
        "id": "gNzd3IVRVipx",
        "colab_type": "code",
        "colab": {}
      },
      "source": [
        "import pandas as pd\n",
        "import matplotlib.pyplot as plt\n",
        "from sklearn.metrics import make_scorer\n",
        "from sklearn.metrics import accuracy_score\n",
        "from sklearn.model_selection import train_test_split\n",
        "from sklearn.model_selection import KFold\n",
        "from sklearn.model_selection import cross_val_score\n",
        "from sklearn.model_selection import GridSearchCV\n",
        "from sklearn.metrics import classification_report\n",
        "from sklearn.metrics import confusion_matrix\n",
        "from xgboost import XGBClassifier\n",
        "import time\n",
        "from sklearn.pipeline import Pipeline\n",
        "import xgboost as xgb\n",
        "from sklearn.ensemble import RandomForestClassifier\n",
        "from google.colab import files\n",
        "from sklearn.model_selection import StratifiedKFold\n",
        "from sklearn.linear_model import LogisticRegression\n",
        "import numpy as np\n",
        "from sklearn.datasets import load_digits\n",
        "from sklearn.neural_network import MLPClassifier"
      ],
      "execution_count": 0,
      "outputs": []
    },
    {
      "cell_type": "markdown",
      "metadata": {
        "id": "BFIoCtuFjeZF",
        "colab_type": "text"
      },
      "source": [
        "**Load Data**"
      ]
    },
    {
      "cell_type": "code",
      "metadata": {
        "id": "ZgD3Ngj2isu-",
        "colab_type": "code",
        "colab": {}
      },
      "source": [
        "# load all metadata\n",
        "mnist = load_digits()"
      ],
      "execution_count": 0,
      "outputs": []
    },
    {
      "cell_type": "markdown",
      "metadata": {
        "id": "vRRq_OVy0mKE",
        "colab_type": "text"
      },
      "source": [
        "**Split data into train and test**"
      ]
    },
    {
      "cell_type": "code",
      "metadata": {
        "id": "RSq1r03Xja0b",
        "colab_type": "code",
        "colab": {}
      },
      "source": [
        "# Split dataset into train and test\n",
        "X_train, X_test, y_train, y_test = train_test_split(mnist.data, \n",
        "                                                    mnist.target,\n",
        "                                                    test_size=0.20, \n",
        "                                                    random_state=42)"
      ],
      "execution_count": 0,
      "outputs": []
    },
    {
      "cell_type": "code",
      "metadata": {
        "id": "D464FplHqWzb",
        "colab_type": "code",
        "colab": {}
      },
      "source": [
        "# global variables\n",
        "seed = 42\n",
        "num_folds = 10\n",
        "scoring = {'Accuracy': make_scorer(accuracy_score)}"
      ],
      "execution_count": 0,
      "outputs": []
    },
    {
      "cell_type": "markdown",
      "metadata": {
        "id": "DRwN_-jJ0fFA",
        "colab_type": "text"
      },
      "source": [
        "**Training using a Pipeline and Gridsearch**"
      ]
    },
    {
      "cell_type": "code",
      "metadata": {
        "id": "uwJ9B1ItVFLz",
        "colab_type": "code",
        "outputId": "f0d2f202-7ccf-4600-ad98-47aca47d888c",
        "colab": {
          "base_uri": "https://localhost:8080/",
          "height": 89
        }
      },
      "source": [
        "# A single Pipeline\n",
        "pipe = Pipeline(steps = [(\"clf\",MLPClassifier())])\n",
        "\n",
        "# create a dictionary with the hyperparameters\n",
        "search_space = [\n",
        "                {\"clf\":[MLPClassifier()],\n",
        "                 \"clf__hidden_layer_sizes\": [(64,),(128,)],\n",
        "                 \"clf__activation\": [\"logistic\"],\n",
        "                 \"clf__solver\": [\"sgd\"],\n",
        "                 \"clf__max_iter\": [500],\n",
        "                 \"clf__early_stopping\":[True],\n",
        "                 \"clf__n_iter_no_change\":[20],\n",
        "                 \"clf__validation_fraction\":[0.20], \n",
        "                 }\n",
        "                ]\n",
        "\n",
        "# create grid search\n",
        "kfold = StratifiedKFold(n_splits=num_folds,random_state=seed)\n",
        "\n",
        "# return_train_score=True\n",
        "# official documentation: \"computing the scores on the training set can be\n",
        "# computationally expensive and is not strictly required to\n",
        "# select the parameters that yield the best generalization performance\".\n",
        "grid = GridSearchCV(estimator=pipe, \n",
        "                    param_grid=search_space,\n",
        "                    cv=kfold,\n",
        "                    scoring=scoring,\n",
        "                    return_train_score=True,\n",
        "                    n_jobs=-1,\n",
        "                    refit=\"Accuracy\")\n",
        "\n",
        "tmp = time.time()\n",
        "\n",
        "# fit grid search\n",
        "best_model = grid.fit(X_train,y_train)\n",
        "\n",
        "print(\"CPU Training Time: %s seconds\" % (str(time.time() - tmp)))"
      ],
      "execution_count": 0,
      "outputs": [
        {
          "output_type": "stream",
          "text": [
            "/usr/local/lib/python3.6/dist-packages/sklearn/model_selection/_search.py:814: DeprecationWarning: The default of the `iid` parameter will change from True to False in version 0.22 and will be removed in 0.24. This will change numeric results when test-set sizes are unequal.\n",
            "  DeprecationWarning)\n"
          ],
          "name": "stderr"
        },
        {
          "output_type": "stream",
          "text": [
            "CPU Training Time: 22.9815354347229 seconds\n"
          ],
          "name": "stdout"
        }
      ]
    },
    {
      "cell_type": "code",
      "metadata": {
        "id": "FD8HPCmUqowb",
        "colab_type": "code",
        "outputId": "eeab0f3f-392b-4d03-9add-48f7ae4cde90",
        "colab": {
          "base_uri": "https://localhost:8080/",
          "height": 158
        }
      },
      "source": [
        "print(\"Best: %f using %s\" % (best_model.best_score_,best_model.best_params_))"
      ],
      "execution_count": 0,
      "outputs": [
        {
          "output_type": "stream",
          "text": [
            "Best: 0.933194 using {'clf': MLPClassifier(activation='logistic', alpha=0.0001, batch_size='auto',\n",
            "              beta_1=0.9, beta_2=0.999, early_stopping=True, epsilon=1e-08,\n",
            "              hidden_layer_sizes=(128,), learning_rate='constant',\n",
            "              learning_rate_init=0.001, max_iter=500, momentum=0.9,\n",
            "              n_iter_no_change=20, nesterovs_momentum=True, power_t=0.5,\n",
            "              random_state=None, shuffle=True, solver='sgd', tol=0.0001,\n",
            "              validation_fraction=0.2, verbose=False, warm_start=False), 'clf__activation': 'logistic', 'clf__early_stopping': True, 'clf__hidden_layer_sizes': (128,), 'clf__max_iter': 500, 'clf__n_iter_no_change': 20, 'clf__solver': 'sgd', 'clf__validation_fraction': 0.2}\n"
          ],
          "name": "stdout"
        }
      ]
    },
    {
      "cell_type": "code",
      "metadata": {
        "id": "ZK8ro8PWrLct",
        "colab_type": "code",
        "colab": {}
      },
      "source": [
        "result = pd.DataFrame(best_model.cv_results_)"
      ],
      "execution_count": 0,
      "outputs": []
    },
    {
      "cell_type": "code",
      "metadata": {
        "id": "gas9Ei0Hzpcs",
        "colab_type": "code",
        "outputId": "008c5503-8c1f-4d41-deb2-88c6a570c3e9",
        "colab": {
          "base_uri": "https://localhost:8080/",
          "height": 128
        }
      },
      "source": [
        "result_acc = result[['mean_train_Accuracy', 'std_train_Accuracy',\n",
        "                     'mean_test_Accuracy', 'std_test_Accuracy','rank_test_Accuracy',\"param_clf__hidden_layer_sizes\"]].copy()\n",
        "result_acc[\"std_ratio\"] = result_acc.std_test_Accuracy/result_acc.std_train_Accuracy\n",
        "result_acc.sort_values(by=\"rank_test_Accuracy\",ascending=True)"
      ],
      "execution_count": 0,
      "outputs": [
        {
          "output_type": "execute_result",
          "data": {
            "text/html": [
              "<div>\n",
              "<style scoped>\n",
              "    .dataframe tbody tr th:only-of-type {\n",
              "        vertical-align: middle;\n",
              "    }\n",
              "\n",
              "    .dataframe tbody tr th {\n",
              "        vertical-align: top;\n",
              "    }\n",
              "\n",
              "    .dataframe thead th {\n",
              "        text-align: right;\n",
              "    }\n",
              "</style>\n",
              "<table border=\"1\" class=\"dataframe\">\n",
              "  <thead>\n",
              "    <tr style=\"text-align: right;\">\n",
              "      <th></th>\n",
              "      <th>mean_train_Accuracy</th>\n",
              "      <th>std_train_Accuracy</th>\n",
              "      <th>mean_test_Accuracy</th>\n",
              "      <th>std_test_Accuracy</th>\n",
              "      <th>rank_test_Accuracy</th>\n",
              "      <th>param_clf__hidden_layer_sizes</th>\n",
              "      <th>std_ratio</th>\n",
              "    </tr>\n",
              "  </thead>\n",
              "  <tbody>\n",
              "    <tr>\n",
              "      <th>1</th>\n",
              "      <td>0.949491</td>\n",
              "      <td>0.011966</td>\n",
              "      <td>0.933194</td>\n",
              "      <td>0.021026</td>\n",
              "      <td>1</td>\n",
              "      <td>(128,)</td>\n",
              "      <td>1.757163</td>\n",
              "    </tr>\n",
              "    <tr>\n",
              "      <th>0</th>\n",
              "      <td>0.941467</td>\n",
              "      <td>0.007669</td>\n",
              "      <td>0.924148</td>\n",
              "      <td>0.022971</td>\n",
              "      <td>2</td>\n",
              "      <td>(64,)</td>\n",
              "      <td>2.995464</td>\n",
              "    </tr>\n",
              "  </tbody>\n",
              "</table>\n",
              "</div>"
            ],
            "text/plain": [
              "   mean_train_Accuracy  ...  std_ratio\n",
              "1             0.949491  ...   1.757163\n",
              "0             0.941467  ...   2.995464\n",
              "\n",
              "[2 rows x 7 columns]"
            ]
          },
          "metadata": {
            "tags": []
          },
          "execution_count": 10
        }
      ]
    },
    {
      "cell_type": "code",
      "metadata": {
        "id": "KOvqgPWTxRSK",
        "colab_type": "code",
        "outputId": "b25160c7-6afd-4284-91be-a7a1f6f7e780",
        "colab": {
          "base_uri": "https://localhost:8080/",
          "height": 35
        }
      },
      "source": [
        "# best model\n",
        "predict_first = best_model.best_estimator_.predict(X_test)\n",
        "print(accuracy_score(y_test, predict_first))"
      ],
      "execution_count": 0,
      "outputs": [
        {
          "output_type": "stream",
          "text": [
            "0.9305555555555556\n"
          ],
          "name": "stdout"
        }
      ]
    }
  ]
}