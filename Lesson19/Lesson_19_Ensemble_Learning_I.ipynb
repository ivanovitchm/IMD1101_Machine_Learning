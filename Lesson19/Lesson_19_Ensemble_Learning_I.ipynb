{
  "nbformat": 4,
  "nbformat_minor": 0,
  "metadata": {
    "colab": {
      "name": "Lesson #19 -  Ensemble Learning I.ipynb",
      "provenance": []
    },
    "kernelspec": {
      "display_name": "Python 3",
      "language": "python",
      "name": "python3"
    },
    "language_info": {
      "codemirror_mode": {
        "name": "ipython",
        "version": 3
      },
      "file_extension": ".py",
      "mimetype": "text/x-python",
      "name": "python",
      "nbconvert_exporter": "python",
      "pygments_lexer": "ipython3",
      "version": "3.6.5"
    }
  },
  "cells": [
    {
      "cell_type": "markdown",
      "metadata": {
        "id": "Op--1zpYsBpQ",
        "colab_type": "text"
      },
      "source": [
        "# 1.0 Ensemble Learning "
      ]
    },
    {
      "cell_type": "markdown",
      "metadata": {
        "id": "w1D5JfgmsTVg",
        "colab_type": "text"
      },
      "source": [
        "## 1.1 Introduction"
      ]
    },
    {
      "cell_type": "markdown",
      "metadata": {
        "id": "Eb2BD4BAsRZY",
        "colab_type": "text"
      },
      "source": [
        "Suppose you ask a complex question to thousands of random people, then aggregate their answers. In many cases you will find that this aggregated answer is better than\n",
        "an expert’s answer. This is called the [wisdom of the crowd](https://en.wikipedia.org/wiki/The_Wisdom_of_Crowds). Similarly, if you aggregate\n",
        "the predictions of a group of predictors (such as classifiers or regressors), you will often get better predictions than with the best individual predictor. A group of predictors is called an **ensemble**; thus, this technique is called **Ensemble Learning**, and an Ensemble Learning algorithm is called an Ensemble method.\n",
        "\n",
        "For example, you can train a group of **Decision Tree classifiers**, each on a different random subset of the training set. To make predictions, you just obtain the predictions of all individual trees, then predict the class that gets the most votes. Such an ensemble of Decision Trees is called a **Random Forest**, and despite its simplicity, this is one of the most powerful Machine Learning algorithms available today. In fact, the winning solutions in Machine Learning competitions often involve several Ensemble methods (most famously in the [Netflix Prize competition](https://netflixprize.com/)).\n",
        "\n",
        "In this lesson we will discuss the most popular Ensemble methods, including **bagging**, **boosting**, **stacking**, and a few others. We will also explore **Random Forests**."
      ]
    },
    {
      "cell_type": "markdown",
      "metadata": {
        "id": "Zxw8mqxmtx52",
        "colab_type": "text"
      },
      "source": [
        "## 1.2 Voting Classifiers"
      ]
    },
    {
      "cell_type": "markdown",
      "metadata": {
        "id": "hbON1kzlt5Jj",
        "colab_type": "text"
      },
      "source": [
        "Suppose you have trained a few classifiers, each one achieving about 80% accuracy. You may have a **Logistic Regression classifier**, an **SVM classifier**, a **Random Forest classifier**, a **K-Nearest Neighbors classifier**, and perhaps a few more.\n",
        "\n",
        "<img width=\"600\" alt=\"creating a repo\" src=\"https://drive.google.com/uc?export=view&id=1kfNWez7jD10dw0RAfy_ym3npEZSys1D4\">\n",
        "\n",
        "A very simple way to create an even better classifier is to aggregate the predictions of each classifier and predict the class that gets the most votes. This majority-vote classifier is called a **hard voting classifier**.\n",
        "\n",
        "<img width=\"600\" alt=\"creating a repo\" src=\"https://drive.google.com/uc?export=view&id=105KQ4RnrkWaMyYiVORvnVIMBApt7aAsc\">\n",
        "\n",
        "Somewhat surprisingly, this voting classifier often achieves a higher accuracy than the best classifier in the ensemble. In fact, even if each classifier is a weak learner (meaning it does only slightly better than random guessing), the ensemble can still be a strong learner (achieving high accuracy), provided there are a sufficient number of weak learners and they are sufficiently diverse.\n",
        "\n",
        "How is this possible? The following analogy can help shed some light on this mystery. Suppose you have a slightly biased coin that has a 51% chance of coming up heads, and 49% chance of coming up tails. If you toss it 1,000 times you will generally get more or less 510 heads and 490 tails, and hence a majority of heads. If you do the math, you will find that the probability of obtaining a majority of heads after 1,000 tosses is close to 75%. The more you toss the coin, the higher the probability (e.g., with 10,000 tosses, the probability climbs over 97%). This is due to the [law of large numbers](https://en.wikipedia.org/wiki/Law_of_large_numbers): as you keep tossing the coin, the ratio of heads gets closer and closer to the\n",
        "probability of heads (51%). Figure below shows 10 series of biased coin tosses. You can see that as the number of tosses increases, the ratio of heads approaches 51%. Eventually all 10 series end up so close to 51% that they are consistently above 50%."
      ]
    },
    {
      "cell_type": "code",
      "metadata": {
        "id": "ONU-jcRPxmxp",
        "colab_type": "code",
        "colab": {}
      },
      "source": [
        "import matplotlib.pyplot as plt\n",
        "import numpy as np\n",
        "\n",
        "# suppose you have a slightly biased coin\n",
        "heads_proba = 0.51\n",
        "\n",
        "# seed\n",
        "np.random.seed(42)\n",
        "\n",
        "# 10 series of biased coin tosses (10.000)\n",
        "coin_tosses = (np.random.rand(10000, 10) < heads_proba).astype(np.int32)\n",
        "\n",
        "# cumulative heads ratio for each series\n",
        "cumulative_heads_ratio = np.cumsum(coin_tosses, axis=0) / np.arange(1, 10001).reshape(-1, 1)"
      ],
      "execution_count": 0,
      "outputs": []
    },
    {
      "cell_type": "code",
      "metadata": {
        "id": "0ef3ULFqxw8q",
        "colab_type": "code",
        "outputId": "b27b895c-e8e3-411f-f442-589070048d20",
        "colab": {
          "base_uri": "https://localhost:8080/",
          "height": 256
        }
      },
      "source": [
        "plt.figure(figsize=(8,3.5))\n",
        "plt.plot(cumulative_heads_ratio)\n",
        "plt.plot([0, 10000], [0.51, 0.51], \"k--\", linewidth=2, label=\"51%\")\n",
        "plt.plot([0, 10000], [0.5, 0.5], \"k-\", label=\"50%\")\n",
        "plt.xlabel(\"Number of coin tosses\")\n",
        "plt.ylabel(\"Heads ratio\")\n",
        "plt.legend(loc=\"lower right\")\n",
        "plt.axis([0, 10000, 0.42, 0.58])\n",
        "plt.show()"
      ],
      "execution_count": 0,
      "outputs": [
        {
          "output_type": "display_data",
          "data": {
            "image/png": "[encoded data removed]",
            "text/plain": [
              "<Figure size 576x252 with 1 Axes>"
            ]
          },
          "metadata": {
            "tags": []
          }
        }
      ]
    },
    {
      "cell_type": "markdown",
      "metadata": {
        "id": "1Y_xv2ir30CR",
        "colab_type": "text"
      },
      "source": [
        "Similarly, suppose you build an ensemble containing 1,000 classifiers that are individually correct only 51% of the time (barely better than random guessing. If you predict the majority voted class, you can hope for up to 75% accuracy! However, this is only true if all classifiers are perfectly independent, making uncorrelated errors, which is clearly not the case since they are trained on the same data. They are likely to make the same types of errors, so there will be many majority votes for the wrong class, reducing the ensemble’s accuracy."
      ]
    },
    {
      "cell_type": "code",
      "metadata": {
        "id": "5bRRuKZZJM9X",
        "colab_type": "code",
        "outputId": "f9431e71-052f-46f5-8e0f-ca1a62596e4f",
        "colab": {
          "base_uri": "https://localhost:8080/",
          "height": 283
        }
      },
      "source": [
        "from sklearn.model_selection import train_test_split\n",
        "from sklearn.datasets import make_moons\n",
        "import pandas as pd\n",
        "\n",
        "# generate 2d classification dataset\n",
        "X, y = make_moons(n_samples=500, noise=0.30, random_state=42)\n",
        "\n",
        "# scatter plot, dots colored by class value\n",
        "df = pd.DataFrame(dict(x=X[:,0], y=X[:,1], label=y))\n",
        "colors = {0:'red', 1:'blue'}\n",
        "fig, ax = plt.subplots()\n",
        "grouped = df.groupby('label')\n",
        "for key, group in grouped:\n",
        "    group.plot(ax=ax, kind='scatter', x='x', y='y', label=key, color=colors[key])\n",
        "plt.show()"
      ],
      "execution_count": 0,
      "outputs": [
        {
          "output_type": "display_data",
          "data": {
            "image/png": "[encoded data removed]",
            "text/plain": [
              "<Figure size 432x288 with 1 Axes>"
            ]
          },
          "metadata": {
            "tags": []
          }
        }
      ]
    },
    {
      "cell_type": "code",
      "metadata": {
        "id": "MhN-DOmOnqfA",
        "colab_type": "code",
        "colab": {}
      },
      "source": [
        "# split dataset into train and test\n",
        "X_train, X_test, y_train, y_test = train_test_split(X, y, test_size=0.20,random_state=42)"
      ],
      "execution_count": 0,
      "outputs": []
    },
    {
      "cell_type": "markdown",
      "metadata": {
        "id": "Wy62GwLu6Y17",
        "colab_type": "text"
      },
      "source": [
        "The following code creates and trains a voting classifier in Scikit-Learn, composed of three diverse classifiers."
      ]
    },
    {
      "cell_type": "code",
      "metadata": {
        "id": "P8xbm8chnOge",
        "colab_type": "code",
        "outputId": "481c7133-640a-4fae-dd0a-efba4587fd4a",
        "colab": {
          "base_uri": "https://localhost:8080/",
          "height": 85
        }
      },
      "source": [
        "from sklearn.ensemble import RandomForestClassifier\n",
        "from sklearn.linear_model import LogisticRegression\n",
        "from sklearn.svm import SVC\n",
        "from sklearn.ensemble import VotingClassifier\n",
        "from sklearn.metrics import accuracy_score\n",
        "\n",
        "# create classifiers\n",
        "log_clf = LogisticRegression(solver=\"lbfgs\", random_state=42)\n",
        "rnd_clf = RandomForestClassifier(n_estimators=100, random_state=42)\n",
        "svm_clf = SVC(gamma=\"scale\", random_state=42)\n",
        "\n",
        "# hard voting\n",
        "voting_clf_hard = VotingClassifier(\n",
        "    estimators=[('lr', log_clf), \n",
        "                ('rf', rnd_clf),\n",
        "                ('svc', svm_clf)],\n",
        "    voting='hard')\n",
        "\n",
        "# training all models\n",
        "for clf in (log_clf, rnd_clf, svm_clf, voting_clf_hard):\n",
        "    clf.fit(X_train, y_train)\n",
        "    y_pred = clf.predict(X_test)\n",
        "    print(clf.__class__.__name__, accuracy_score(y_test, y_pred))"
      ],
      "execution_count": 0,
      "outputs": [
        {
          "output_type": "stream",
          "text": [
            "LogisticRegression 0.85\n",
            "RandomForestClassifier 0.88\n",
            "SVC 0.87\n",
            "VotingClassifier 0.87\n"
          ],
          "name": "stdout"
        }
      ]
    },
    {
      "cell_type": "markdown",
      "metadata": {
        "id": "fpJj7T4k6u5L",
        "colab_type": "text"
      },
      "source": [
        "If all classifiers are able to estimate class probabilities (i.e., they have a pre **dict_proba()** method), then you can tell Scikit-Learn to predict the class with the highest class probability, averaged over all the individual classifiers. This is called soft voting. It often achieves higher performance than hard voting because it gives more weight to highly confident votes. All you need to do is replace **voting=\"hard\"** with **voting=\"soft\"** and ensure that all classifiers can estimate class probabilities. This is not the case of the SVC class by default, so you need to set its probability hyperparameter\n",
        "to **True** (this will make the SVC class use cross-validation to estimate class probabilities, slowing down training, and it will add a **predict_proba()** method)."
      ]
    },
    {
      "cell_type": "code",
      "metadata": {
        "id": "YpwR1k9O5yMG",
        "colab_type": "code",
        "outputId": "7a14327f-f631-4873-f9cf-c212683ee5c6",
        "colab": {
          "base_uri": "https://localhost:8080/",
          "height": 85
        }
      },
      "source": [
        "# crate classifiers\n",
        "svm_clf = SVC(gamma=\"scale\", probability=True, random_state=42)\n",
        "\n",
        "# soft voting\n",
        "voting_clf_hard = VotingClassifier(\n",
        "    estimators=[('lr', log_clf), \n",
        "                ('rf', rnd_clf),\n",
        "                ('svc', svm_clf)],\n",
        "    voting='soft')\n",
        "\n",
        "# training all models\n",
        "for clf in (log_clf, rnd_clf, svm_clf, voting_clf_hard):\n",
        "    clf.fit(X_train, y_train)\n",
        "    y_pred = clf.predict(X_test)\n",
        "    print(clf.__class__.__name__, accuracy_score(y_test, y_pred))"
      ],
      "execution_count": 0,
      "outputs": [
        {
          "output_type": "stream",
          "text": [
            "LogisticRegression 0.85\n",
            "RandomForestClassifier 0.88\n",
            "SVC 0.87\n",
            "VotingClassifier 0.89\n"
          ],
          "name": "stdout"
        }
      ]
    },
    {
      "cell_type": "markdown",
      "metadata": {
        "id": "POhUuMMgtwIG",
        "colab_type": "text"
      },
      "source": [
        "# 2.0 Bagging and Pasting"
      ]
    },
    {
      "cell_type": "markdown",
      "metadata": {
        "id": "p8lxsRcit2Qa",
        "colab_type": "text"
      },
      "source": [
        "One way to get a diverse set of classifiers is to use very different training algorithms, as just discussed. Another approach is to use the **same training algorithm for every predictor**, but to train them on **different random subsets** of the training set. When sampling is performed **with replacement**, this method is called **bagging** (short for **bootstrap aggregating**). When sampling is performed **without replacement**, it is called **pasting**.\n",
        "\n",
        "\n",
        "In other words, both bagging and pasting allow training instances to be sampled several times across multiple predictors, but only bagging allows training instances to be sampled several times for the same predictor. This sampling and training process is represented in Figure below.\n",
        "\n",
        "<img width=\"600\" alt=\"creating a repo\" src=\"https://drive.google.com/uc?export=view&id=1LsFkQ-q9MHxNwb5Y2z_jsfSGq8EAVe5T\">\n",
        "\n",
        "\n",
        "Once all predictors are trained, the ensemble can make a prediction for a new\n",
        "instance by simply aggregating the predictions of all predictors. The aggregation function is typically the statistical mode (i.e., the most frequent prediction, just like a hard voting classifier) for classification, or the average for regression. **Each individual predictor has a higher bias than if it were trained on the original training set, but aggregation reduces both bias and variance.** Generally, the net result is that the\n",
        "ensemble has a similar bias but a lower variance than a single predictor trained on the original training set.\n",
        "\n",
        "As you can see in Figure above, predictors can all be trained in **parallel**, via different CPU cores or even different servers. Similarly, predictions can be made in parallel. This is one of the reasons why bagging and pasting are such popular methods: they scale very well."
      ]
    },
    {
      "cell_type": "markdown",
      "metadata": {
        "id": "O49VoXK9wb5l",
        "colab_type": "text"
      },
      "source": [
        "## 2.1 Bagging and Pasting in Scikit-Learn"
      ]
    },
    {
      "cell_type": "markdown",
      "metadata": {
        "id": "Z8GaQ-Bgztuj",
        "colab_type": "text"
      },
      "source": [
        "Scikit-Learn offers a simple API for both bagging and pasting with the [BaggingClassifier class](https://scikit-learn.org/stable/modules/generated/sklearn.ensemble.BaggingClassifier.html) (or BaggingRegressor for regression). The following code trains an ensemble of 500 Decision Tree classifiers, each trained on 100 training instances randomly sampled from the training set with replacement (this is an example of bagging, but if you want to use pasting instead, just set **bootstrap=False**). The **n_jobs** parameter tells Scikit-Learn the number of CPU cores to use for training and predictions (–1 tells Scikit-Learn to use all available cores)."
      ]
    },
    {
      "cell_type": "code",
      "metadata": {
        "id": "3M5fXedkHhdr",
        "colab_type": "code",
        "outputId": "e2e3c773-45f8-4592-a2a2-62db5273d6c1",
        "colab": {
          "base_uri": "https://localhost:8080/",
          "height": 68
        }
      },
      "source": [
        "from sklearn.ensemble import BaggingClassifier\n",
        "from sklearn.tree import DecisionTreeClassifier\n",
        "from sklearn.metrics import accuracy_score\n",
        "\n",
        "\n",
        "# instantiate a bagging object (model,size,samples,bootstrap,rnd)\n",
        "bag_clf = BaggingClassifier(DecisionTreeClassifier(random_state=42), \n",
        "                            n_estimators=500,\n",
        "                            max_samples=100, \n",
        "                            bootstrap=True, \n",
        "                            random_state=42)\n",
        "# training the  bagging model\n",
        "bag_clf.fit(X_train, y_train)\n",
        "\n",
        "# instantiate a pasting object (model,size,samples,bootstrap,rnd)\n",
        "pas_clf = BaggingClassifier(DecisionTreeClassifier(random_state=42), \n",
        "                            n_estimators=500,\n",
        "                            max_samples=100, \n",
        "                            bootstrap=False, \n",
        "                            random_state=42)\n",
        "# training the  pasting model\n",
        "pas_clf.fit(X_train, y_train)\n",
        "\n",
        "# instantiate a Decision Tree classifier\n",
        "tree_clf = DecisionTreeClassifier(random_state=42)\n",
        "\n",
        "# train the Decision Tree model\n",
        "tree_clf.fit(X_train, y_train)\n",
        "\n",
        "# predict\n",
        "y_pred_bag = bag_clf.predict(X_test)\n",
        "y_pred_pas = pas_clf.predict(X_test)\n",
        "y_pred_tree = tree_clf.predict(X_test)\n",
        "\n",
        "print(\"Accuracy.bagging: {0:.2f}\".format(accuracy_score(y_test, y_pred_bag)))\n",
        "print(\"Accuracy.pasting: {0:.2f}\".format(accuracy_score(y_test, y_pred_pas)))\n",
        "print(\"Accuracy.decision_tree: {0:.2f}\".format(accuracy_score(y_test, y_pred_tree)))"
      ],
      "execution_count": 0,
      "outputs": [
        {
          "output_type": "stream",
          "text": [
            "Accuracy.bagging: 0.90\n",
            "Accuracy.pasting: 0.89\n",
            "Accuracy.decision_tree: 0.82\n"
          ],
          "name": "stdout"
        }
      ]
    },
    {
      "cell_type": "code",
      "metadata": {
        "id": "6djpznm2LVjR",
        "colab_type": "code",
        "colab": {}
      },
      "source": [
        "# source: https://github.com/ageron/handson-ml2/blob/master/07_ensemble_learning_and_random_forests.ipynb\n",
        "from matplotlib.colors import ListedColormap\n",
        "\n",
        "def plot_decision_boundary(clf, X, y, axes=[-1.5, 2.5, -1, 1.5], alpha=0.5, contour=True):\n",
        "    x1s = np.linspace(axes[0], axes[1], 100)\n",
        "    x2s = np.linspace(axes[2], axes[3], 100)\n",
        "    x1, x2 = np.meshgrid(x1s, x2s)\n",
        "    X_new = np.c_[x1.ravel(), x2.ravel()]\n",
        "    y_pred = clf.predict(X_new).reshape(x1.shape)\n",
        "    custom_cmap = ListedColormap(['#fafab0','#9898ff','#a0faa0'])\n",
        "    plt.contourf(x1, x2, y_pred, alpha=0.3, cmap=custom_cmap)\n",
        "    if contour:\n",
        "        custom_cmap2 = ListedColormap(['#7d7d58','#4c4c7f','#507d50'])\n",
        "        plt.contour(x1, x2, y_pred, cmap=custom_cmap2, alpha=0.8)\n",
        "    plt.plot(X[:, 0][y==0], X[:, 1][y==0], \"yo\", alpha=alpha)\n",
        "    plt.plot(X[:, 0][y==1], X[:, 1][y==1], \"bs\", alpha=alpha)\n",
        "    plt.axis(axes)\n",
        "    plt.xlabel(r\"$x_1$\", fontsize=18)\n",
        "    plt.ylabel(r\"$x_2$\", fontsize=18, rotation=0)"
      ],
      "execution_count": 0,
      "outputs": []
    },
    {
      "cell_type": "code",
      "metadata": {
        "id": "ELHqAHVILZo3",
        "colab_type": "code",
        "outputId": "fe369167-3cbc-403a-8717-5688fd2d32f3",
        "colab": {
          "base_uri": "https://localhost:8080/",
          "height": 297
        }
      },
      "source": [
        "plt.figure(figsize=(11,4))\n",
        "plt.subplot(131)\n",
        "plot_decision_boundary(tree_clf, X, y)\n",
        "plt.title(\"Decision Tree\", fontsize=14)\n",
        "plt.subplot(132)\n",
        "plot_decision_boundary(bag_clf, X, y)\n",
        "plt.title(\"Decision Trees with Bagging\", fontsize=14)\n",
        "plt.subplot(133)\n",
        "plot_decision_boundary(pas_clf, X, y)\n",
        "plt.title(\"Decision Trees with Pasting\", fontsize=14)\n",
        "plt.tight_layout()\n",
        "plt.show()"
      ],
      "execution_count": 0,
      "outputs": [
        {
          "output_type": "display_data",
          "data": {
            "image/png": "[encoded data removed]",
            "text/plain": [
              "<Figure size 792x288 with 3 Axes>"
            ]
          },
          "metadata": {
            "tags": []
          }
        }
      ]
    },
    {
      "cell_type": "markdown",
      "metadata": {
        "id": "DhSys80AMd2m",
        "colab_type": "text"
      },
      "source": [
        "You can compare the decision boundary of a single Decision Tree with the decision boundary of a bagging ensemble of 500 trees (from the preceding code), bothtrained on the moons dataset. As you can see, the ensemble’s  predictions will likely generalize much better than the single Decision Tree’s predictions: the ensemble has a comparable bias but a smaller variance (it makes roughly the same number of errors on the training set, but the decision boundary is less irregular).\n",
        "\n",
        "Bootstrapping introduces a bit more diversity in the subsets that each predictor is trained on, so bagging ends up with a slightly higher bias than pasting, but this also means that predictors end up being less correlated so the ensemble’s variance is reduced. **Overall, bagging often results in better models, which explains why it is generally preferred**. However, if you have spare time and CPU power you can use crossvalidation to evaluate both bagging and pasting and select the one that works best."
      ]
    },
    {
      "cell_type": "markdown",
      "metadata": {
        "id": "mpbVaiNsPrFJ",
        "colab_type": "text"
      },
      "source": [
        "## 2.2 Out-of-Bag Evaluation"
      ]
    },
    {
      "cell_type": "markdown",
      "metadata": {
        "id": "784q6bIsP09I",
        "colab_type": "text"
      },
      "source": [
        "With bagging, some instances may be sampled several times for any given predictor, while others may not be sampled at all. By default a **BaggingClassifier** samples *m* training instances with replacement (**bootstrap=True**), where *m* is the size of the training set. This means that only about 63% of the training instances are sampled on average for each predictor. The remaining 37% of the training instances that are not\n",
        "sampled are called **out-of-bag (oob)** instances. Note that they are not the same 37% for all predictors.\n",
        "\n",
        "> If there are *m* rows in the training data set. Then, the probability of not picking a row in a random draw is:\n",
        ">\n",
        ">$\n",
        "\\displaystyle 1 - \\frac{1}{m}\n",
        "$\n",
        ">\n",
        ">Using sampling-with-replacement the probability of not picking m rows in random draws is:\n",
        ">\n",
        ">$\n",
        "\\displaystyle (1 - \\frac{1}{m})^m\n",
        "$\n",
        ">\n",
        ">which in the limit of large m becomes equal to:\n",
        ">\n",
        ">$\n",
        "\\displaystyle \\lim_{m\\to\\infty}(1 - \\frac{1}{m})^m = e^{-1} = 0.3678\n",
        "$\n",
        "\n",
        "\n",
        "Since a predictor never sees the **oob** instances during training, it can be evaluated on these instances, without the need for a separate validation set. You can evaluate the ensemble itself by averaging out the oob evaluations of each predictor.\n",
        "\n",
        "In Scikit-Learn, you can set **oob_score=True** when creating a **BaggingClassifier** to request an automatic oob evaluation after training. The following code demonstrates this. The resulting evaluation score is available through the **oob_score_** variable."
      ]
    },
    {
      "cell_type": "code",
      "metadata": {
        "id": "DPWT_dSSQ1RT",
        "colab_type": "code",
        "outputId": "67528349-6499-4834-e8e4-6143f84e5ee5",
        "colab": {
          "base_uri": "https://localhost:8080/",
          "height": 34
        }
      },
      "source": [
        "bag_clf = BaggingClassifier(DecisionTreeClassifier(random_state=42), \n",
        "                            n_estimators=500,\n",
        "                            bootstrap=True, \n",
        "                            oob_score=True, \n",
        "                            random_state=40)\n",
        "bag_clf.fit(X_train, y_train)\n",
        "bag_clf.oob_score_"
      ],
      "execution_count": 0,
      "outputs": [
        {
          "output_type": "execute_result",
          "data": {
            "text/plain": [
              "0.9075"
            ]
          },
          "metadata": {
            "tags": []
          },
          "execution_count": 25
        }
      ]
    },
    {
      "cell_type": "markdown",
      "metadata": {
        "id": "-Dadqch9RF-M",
        "colab_type": "text"
      },
      "source": [
        "According to this **oob** evaluation, this **BaggingClassifier** is likely to achieve about 90.75% accuracy on the test set."
      ]
    },
    {
      "cell_type": "markdown",
      "metadata": {
        "toc-hr-collapsed": true,
        "id": "xOlkDGZHk34X",
        "colab_type": "text"
      },
      "source": [
        "## 2.3 Random Forest"
      ]
    },
    {
      "cell_type": "markdown",
      "metadata": {
        "colab_type": "text",
        "id": "1pGCUzMmJING"
      },
      "source": [
        "### 2.3.1 Introduction\n"
      ]
    },
    {
      "cell_type": "markdown",
      "metadata": {
        "id": "wtOd9N4KmzNe",
        "colab_type": "text"
      },
      "source": [
        "As we have discussed, a [Random Forest](https://ieeexplore.ieee.org/abstract/document/598994) is an ensemble of Decision Trees, **generally trained via the bagging** method (or sometimes pasting), typically with **max_samples = 1.0**\n",
        "set to the size of the training set. Instead of building a BaggingClassifier and passing it a DecisionTreeClassifier, you can instead use the [RandomForestClassifier](https://scikit-learn.org/stable/modules/generated/sklearn.ensemble.RandomForestClassifier.html) class, which is more convenient and optimized for Decision Trees (similarly, there is a [RandomForestRegressor](https://scikit-learn.org/stable/modules/generated/sklearn.ensemble.RandomForestRegressor.html) class for regression tasks). \n",
        "\n",
        "The following code trains a Random Forest classifier with:\n",
        "- 500 trees\n",
        "- Each ones limited to maximum 16 nodes\n",
        "- Using all available CPU cores"
      ]
    },
    {
      "cell_type": "code",
      "metadata": {
        "id": "lI5WZaYToYvU",
        "colab_type": "code",
        "outputId": "b2663ca5-a441-407b-a437-05b5c19b4ea1",
        "colab": {
          "base_uri": "https://localhost:8080/",
          "height": 34
        }
      },
      "source": [
        "from sklearn.ensemble import RandomForestClassifier\n",
        "\n",
        "# Random Forest using BaggingClassifier\n",
        "bag_clf = BaggingClassifier(DecisionTreeClassifier(max_features=\"auto\", \n",
        "                                                   max_leaf_nodes=16, \n",
        "                                                   random_state=42),\n",
        "                            n_estimators=500, \n",
        "                            max_samples=1.0, \n",
        "                            bootstrap=True, \n",
        "                            random_state=42)\n",
        "# Predict\n",
        "bag_clf.fit(X_train, y_train)\n",
        "y_pred = bag_clf.predict(X_test)\n",
        "\n",
        "# Random Forest using RandomForestClassifier\n",
        "rnd_clf = RandomForestClassifier(n_estimators=500,\n",
        "                                 max_leaf_nodes=16, \n",
        "                                 random_state=42)\n",
        "rnd_clf.fit(X_train, y_train)\n",
        "\n",
        "# Predict\n",
        "y_pred_rf = rnd_clf.predict(X_test)\n",
        "\n",
        "# almost identical predictions\n",
        "np.sum(y_pred == y_pred_rf) / len(y_pred)  "
      ],
      "execution_count": 0,
      "outputs": [
        {
          "output_type": "execute_result",
          "data": {
            "text/plain": [
              "1.0"
            ]
          },
          "metadata": {
            "tags": []
          },
          "execution_count": 26
        }
      ]
    },
    {
      "cell_type": "markdown",
      "metadata": {
        "id": "XAM-T9HjuMWJ",
        "colab_type": "text"
      },
      "source": [
        "With a few exceptions, a **RandomForestClassifier** has all the hyperparameters of a **DecisionTreeClassifier** (to control how trees are grown), plus all the hyperparameters of a **BaggingClassifier** to control the ensemble itself.\n",
        "\n",
        "The Random Forest algorithm can introduces extra randomness when growing trees;\n",
        "instead of searching for the very best feature when splitting a node, it\n",
        "searches for the best feature among a random subset of features. This results in a greater tree diversity, which (once again) trades a **higher bias for a lower variance**, generally yielding an overall better model. The following **BaggingClassifier** is roughly equivalent to the previous RandomForestClassifier:"
      ]
    },
    {
      "cell_type": "code",
      "metadata": {
        "id": "RCLQiDLRs7Wp",
        "colab_type": "code",
        "outputId": "70c69398-4e3a-40a2-9b70-95f22da73e47",
        "colab": {
          "base_uri": "https://localhost:8080/",
          "height": 34
        }
      },
      "source": [
        "# Random Forest using BaggingClassifier\n",
        "bag_clf = BaggingClassifier(DecisionTreeClassifier(max_features=\"auto\",\n",
        "                                                   #added this hyperparameter\n",
        "                                                   splitter=\"random\",\n",
        "                                                   max_leaf_nodes=16, \n",
        "                                                   random_state=42),\n",
        "                            n_estimators=500, \n",
        "                            max_samples=1.0, \n",
        "                            bootstrap=True, \n",
        "                            random_state=42)\n",
        "# Predict\n",
        "bag_clf.fit(X_train, y_train)\n",
        "y_pred = bag_clf.predict(X_test)\n",
        "\n",
        "# Random Forest using RandomForestClassifier\n",
        "rnd_clf = RandomForestClassifier(n_estimators=500,\n",
        "                                 max_leaf_nodes=16, \n",
        "                                 random_state=42)\n",
        "rnd_clf.fit(X_train, y_train)\n",
        "\n",
        "# Predict\n",
        "y_pred_rf = rnd_clf.predict(X_test)\n",
        "\n",
        "# almost identical predictions\n",
        "np.sum(y_pred == y_pred_rf) / len(y_pred)  "
      ],
      "execution_count": 0,
      "outputs": [
        {
          "output_type": "execute_result",
          "data": {
            "text/plain": [
              "0.96"
            ]
          },
          "metadata": {
            "tags": []
          },
          "execution_count": 27
        }
      ]
    },
    {
      "cell_type": "markdown",
      "metadata": {
        "id": "_sFK9l5HvhjU",
        "colab_type": "text"
      },
      "source": [
        "### 2.3.2 Feature Importance"
      ]
    },
    {
      "cell_type": "markdown",
      "metadata": {
        "id": "K1RCHBOZv_E0",
        "colab_type": "text"
      },
      "source": [
        "Yet another great quality of Random Forests is that they make it easy to measure the relative importance of each feature. Scikit-Learn measures a **feature’s importance** by looking at:\n",
        "- how much the tree nodes that use that feature reduce impurity on average\n",
        "(across all trees in the forest). \n",
        "\n",
        "More precisely, it is a weighted average, where each\n",
        "node’s weight is equal to the number of training samples that are associated with it. **Scikit-Learn computes this score automatically for each feature after training, then it scales the results so that the sum of all importances is equal to 1**. You can access the result using the **feature_importances_** variable. \n",
        "\n",
        "For example, the following code trains a RandomForestClassifier on the iris dataset and outputs each feature’s importance. It seems that the most important features are the petal length (44%) and width (42%), while sepal length and width are rather unimportant in comparison (11% and 2%, respectively)."
      ]
    },
    {
      "cell_type": "code",
      "metadata": {
        "id": "yq5AJz8vwcZe",
        "colab_type": "code",
        "outputId": "e0359701-753e-4292-badc-1664b4194666",
        "colab": {
          "base_uri": "https://localhost:8080/",
          "height": 85
        }
      },
      "source": [
        "from sklearn.datasets import load_iris\n",
        "#load dataset\n",
        "iris = load_iris()\n",
        "# instantiate the model\n",
        "rnd_clf = RandomForestClassifier(n_estimators=500, random_state=42)\n",
        "# training\n",
        "rnd_clf.fit(iris[\"data\"], iris[\"target\"])\n",
        "# find the feature importance\n",
        "for name, score in zip(iris[\"feature_names\"], rnd_clf.feature_importances_):\n",
        "    print(name, score)"
      ],
      "execution_count": 0,
      "outputs": [
        {
          "output_type": "stream",
          "text": [
            "sepal length (cm) 0.11249225099876375\n",
            "sepal width (cm) 0.02311928828251033\n",
            "petal length (cm) 0.4410304643639577\n",
            "petal width (cm) 0.4233579963547682\n"
          ],
          "name": "stdout"
        }
      ]
    },
    {
      "cell_type": "markdown",
      "metadata": {
        "id": "Y4_35TA05VnG",
        "colab_type": "text"
      },
      "source": [
        "Similarly, if you train a Random Forest classifier on the MNIST dataset and plot each pixel’s importance, you get the image below:"
      ]
    },
    {
      "cell_type": "code",
      "metadata": {
        "id": "-pLA9F5g5dSy",
        "colab_type": "code",
        "outputId": "50199173-2569-49b4-a4af-e7a7447831f9",
        "colab": {
          "base_uri": "https://localhost:8080/",
          "height": 136
        }
      },
      "source": [
        "from sklearn.datasets import fetch_openml\n",
        "\n",
        "# load and pre-processing the dataset\n",
        "mnist = fetch_openml('mnist_784', version=1)\n",
        "mnist.target = mnist.target.astype(np.uint8)\n",
        "\n",
        "# create the random forest model\n",
        "rnd_clf = RandomForestClassifier(n_estimators=100, random_state=42)\n",
        "rnd_clf.fit(mnist[\"data\"], mnist[\"target\"])"
      ],
      "execution_count": 0,
      "outputs": [
        {
          "output_type": "execute_result",
          "data": {
            "text/plain": [
              "RandomForestClassifier(bootstrap=True, class_weight=None, criterion='gini',\n",
              "                       max_depth=None, max_features='auto', max_leaf_nodes=None,\n",
              "                       min_impurity_decrease=0.0, min_impurity_split=None,\n",
              "                       min_samples_leaf=1, min_samples_split=2,\n",
              "                       min_weight_fraction_leaf=0.0, n_estimators=100,\n",
              "                       n_jobs=None, oob_score=False, random_state=42, verbose=0,\n",
              "                       warm_start=False)"
            ]
          },
          "metadata": {
            "tags": []
          },
          "execution_count": 30
        }
      ]
    },
    {
      "cell_type": "code",
      "metadata": {
        "id": "cP_1L2T85vf_",
        "colab_type": "code",
        "outputId": "1115ca8b-32fe-4573-8873-259b28e2d20c",
        "colab": {
          "base_uri": "https://localhost:8080/",
          "height": 269
        }
      },
      "source": [
        "import matplotlib as mpl\n",
        "\n",
        "def plot_digit(data):\n",
        "    image = data.reshape(28, 28)\n",
        "    plt.imshow(image, cmap = mpl.cm.hot,\n",
        "               interpolation=\"nearest\")\n",
        "    plt.axis(\"off\")\n",
        "\n",
        "# reshape all pixels to a square (28,28)\n",
        "plot_digit(rnd_clf.feature_importances_)\n",
        "\n",
        "# define min, max values\n",
        "cbar = plt.colorbar(ticks=[rnd_clf.feature_importances_.min(), rnd_clf.feature_importances_.max()])\n",
        "cbar.ax.set_yticklabels(['Not important', 'Very important'])\n",
        "\n",
        "plt.show()"
      ],
      "execution_count": 0,
      "outputs": [
        {
          "output_type": "display_data",
          "data": {
            "image/png": "[encoded data removed]",
            "text/plain": [
              "<Figure size 432x288 with 2 Axes>"
            ]
          },
          "metadata": {
            "tags": []
          }
        }
      ]
    },
    {
      "cell_type": "markdown",
      "metadata": {
        "id": "a9Q_ilW-8he0",
        "colab_type": "text"
      },
      "source": [
        "### 2.3.3 Case Study: 1994 census US Income"
      ]
    },
    {
      "cell_type": "markdown",
      "metadata": {
        "colab_type": "text",
        "id": "JgRfEve-Jj3O"
      },
      "source": [
        "We'll continue using the same 1994 census data set on U.S. income. It contains information on **marital status**, **age**, **type of work**, and **more**. The target column, **high_income**, records salaries less than or equal to 50k a year (0), and more than 50k a year (1).\n",
        "\n",
        "You can download the data from the [University of California](http://archive.ics.uci.edu/ml/datasets/Adult), Irvine's website."
      ]
    },
    {
      "cell_type": "markdown",
      "metadata": {
        "id": "bLmrUN57_C3e",
        "colab_type": "text"
      },
      "source": [
        "#### Load Libraries\n"
      ]
    },
    {
      "cell_type": "code",
      "metadata": {
        "id": "rbunawTH_In8",
        "colab_type": "code",
        "colab": {}
      },
      "source": [
        "import pandas as pd\n",
        "import numpy as np\n",
        "import seaborn as sns\n",
        "import matplotlib.pyplot as plt\n",
        "from sklearn.model_selection import train_test_split\n",
        "from sklearn.model_selection import KFold\n",
        "from sklearn.model_selection import cross_val_score\n",
        "from sklearn.pipeline import Pipeline, FeatureUnion\n",
        "from sklearn.model_selection import GridSearchCV\n",
        "from sklearn.metrics import accuracy_score\n",
        "from sklearn.metrics import classification_report\n",
        "from sklearn.metrics import confusion_matrix\n",
        "import pydotplus\n",
        "from IPython.display import Image\n",
        "from sklearn import tree\n",
        "from sklearn.feature_selection import SelectKBest\n",
        "from sklearn.feature_selection import chi2\n",
        "from sklearn.metrics import make_scorer\n",
        "from sklearn.metrics import accuracy_score\n",
        "import pickle\n",
        "from sklearn.base import BaseEstimator, TransformerMixin\n",
        "from sklearn.preprocessing import StandardScaler\n",
        "from sklearn.preprocessing import MinMaxScaler\n",
        "from sklearn.ensemble import RandomForestClassifier"
      ],
      "execution_count": 0,
      "outputs": []
    },
    {
      "cell_type": "markdown",
      "metadata": {
        "id": "vywKM_HD-3tx",
        "colab_type": "text"
      },
      "source": [
        "#### Get the data"
      ]
    },
    {
      "cell_type": "code",
      "metadata": {
        "colab_type": "code",
        "id": "1nwfztMMK-gH",
        "outputId": "72ad7a15-c602-4306-aae9-2944415e3db7",
        "colab": {
          "base_uri": "https://localhost:8080/",
          "height": 292
        }
      },
      "source": [
        "import pandas as pd\n",
        "\n",
        "# load the dataset\n",
        "income = pd.read_csv(\"income.csv\")\n",
        "income.head()"
      ],
      "execution_count": 0,
      "outputs": [
        {
          "output_type": "execute_result",
          "data": {
            "text/html": [
              "<div>\n",
              "<style scoped>\n",
              "    .dataframe tbody tr th:only-of-type {\n",
              "        vertical-align: middle;\n",
              "    }\n",
              "\n",
              "    .dataframe tbody tr th {\n",
              "        vertical-align: top;\n",
              "    }\n",
              "\n",
              "    .dataframe thead th {\n",
              "        text-align: right;\n",
              "    }\n",
              "</style>\n",
              "<table border=\"1\" class=\"dataframe\">\n",
              "  <thead>\n",
              "    <tr style=\"text-align: right;\">\n",
              "      <th></th>\n",
              "      <th>age</th>\n",
              "      <th>workclass</th>\n",
              "      <th>fnlwgt</th>\n",
              "      <th>education</th>\n",
              "      <th>education_num</th>\n",
              "      <th>marital_status</th>\n",
              "      <th>occupation</th>\n",
              "      <th>relationship</th>\n",
              "      <th>race</th>\n",
              "      <th>sex</th>\n",
              "      <th>capital_gain</th>\n",
              "      <th>capital_loss</th>\n",
              "      <th>hours_per_week</th>\n",
              "      <th>native_country</th>\n",
              "      <th>high_income</th>\n",
              "    </tr>\n",
              "  </thead>\n",
              "  <tbody>\n",
              "    <tr>\n",
              "      <th>0</th>\n",
              "      <td>39</td>\n",
              "      <td>State-gov</td>\n",
              "      <td>77516</td>\n",
              "      <td>Bachelors</td>\n",
              "      <td>13</td>\n",
              "      <td>Never-married</td>\n",
              "      <td>Adm-clerical</td>\n",
              "      <td>Not-in-family</td>\n",
              "      <td>White</td>\n",
              "      <td>Male</td>\n",
              "      <td>2174</td>\n",
              "      <td>0</td>\n",
              "      <td>40</td>\n",
              "      <td>United-States</td>\n",
              "      <td>&lt;=50K</td>\n",
              "    </tr>\n",
              "    <tr>\n",
              "      <th>1</th>\n",
              "      <td>50</td>\n",
              "      <td>Self-emp-not-inc</td>\n",
              "      <td>83311</td>\n",
              "      <td>Bachelors</td>\n",
              "      <td>13</td>\n",
              "      <td>Married-civ-spouse</td>\n",
              "      <td>Exec-managerial</td>\n",
              "      <td>Husband</td>\n",
              "      <td>White</td>\n",
              "      <td>Male</td>\n",
              "      <td>0</td>\n",
              "      <td>0</td>\n",
              "      <td>13</td>\n",
              "      <td>United-States</td>\n",
              "      <td>&lt;=50K</td>\n",
              "    </tr>\n",
              "    <tr>\n",
              "      <th>2</th>\n",
              "      <td>38</td>\n",
              "      <td>Private</td>\n",
              "      <td>215646</td>\n",
              "      <td>HS-grad</td>\n",
              "      <td>9</td>\n",
              "      <td>Divorced</td>\n",
              "      <td>Handlers-cleaners</td>\n",
              "      <td>Not-in-family</td>\n",
              "      <td>White</td>\n",
              "      <td>Male</td>\n",
              "      <td>0</td>\n",
              "      <td>0</td>\n",
              "      <td>40</td>\n",
              "      <td>United-States</td>\n",
              "      <td>&lt;=50K</td>\n",
              "    </tr>\n",
              "    <tr>\n",
              "      <th>3</th>\n",
              "      <td>53</td>\n",
              "      <td>Private</td>\n",
              "      <td>234721</td>\n",
              "      <td>11th</td>\n",
              "      <td>7</td>\n",
              "      <td>Married-civ-spouse</td>\n",
              "      <td>Handlers-cleaners</td>\n",
              "      <td>Husband</td>\n",
              "      <td>Black</td>\n",
              "      <td>Male</td>\n",
              "      <td>0</td>\n",
              "      <td>0</td>\n",
              "      <td>40</td>\n",
              "      <td>United-States</td>\n",
              "      <td>&lt;=50K</td>\n",
              "    </tr>\n",
              "    <tr>\n",
              "      <th>4</th>\n",
              "      <td>28</td>\n",
              "      <td>Private</td>\n",
              "      <td>338409</td>\n",
              "      <td>Bachelors</td>\n",
              "      <td>13</td>\n",
              "      <td>Married-civ-spouse</td>\n",
              "      <td>Prof-specialty</td>\n",
              "      <td>Wife</td>\n",
              "      <td>Black</td>\n",
              "      <td>Female</td>\n",
              "      <td>0</td>\n",
              "      <td>0</td>\n",
              "      <td>40</td>\n",
              "      <td>Cuba</td>\n",
              "      <td>&lt;=50K</td>\n",
              "    </tr>\n",
              "  </tbody>\n",
              "</table>\n",
              "</div>"
            ],
            "text/plain": [
              "   age          workclass  fnlwgt  ... hours_per_week  native_country high_income\n",
              "0   39          State-gov   77516  ...             40   United-States       <=50K\n",
              "1   50   Self-emp-not-inc   83311  ...             13   United-States       <=50K\n",
              "2   38            Private  215646  ...             40   United-States       <=50K\n",
              "3   53            Private  234721  ...             40   United-States       <=50K\n",
              "4   28            Private  338409  ...             40            Cuba       <=50K\n",
              "\n",
              "[5 rows x 15 columns]"
            ]
          },
          "metadata": {
            "tags": []
          },
          "execution_count": 68
        }
      ]
    },
    {
      "cell_type": "code",
      "metadata": {
        "colab_type": "code",
        "id": "SI2P3tfRLkht",
        "outputId": "30799421-e341-4d69-f482-fe9b1ec01e8e",
        "colab": {
          "base_uri": "https://localhost:8080/",
          "height": 357
        }
      },
      "source": [
        "# verifying if there are missing values\n",
        "income.info()"
      ],
      "execution_count": 0,
      "outputs": [
        {
          "output_type": "stream",
          "text": [
            "<class 'pandas.core.frame.DataFrame'>\n",
            "RangeIndex: 32561 entries, 0 to 32560\n",
            "Data columns (total 15 columns):\n",
            "age               32561 non-null int64\n",
            "workclass         32561 non-null object\n",
            "fnlwgt            32561 non-null int64\n",
            "education         32561 non-null object\n",
            "education_num     32561 non-null int64\n",
            "marital_status    32561 non-null object\n",
            "occupation        32561 non-null object\n",
            "relationship      32561 non-null object\n",
            "race              32561 non-null object\n",
            "sex               32561 non-null object\n",
            "capital_gain      32561 non-null int64\n",
            "capital_loss      32561 non-null int64\n",
            "hours_per_week    32561 non-null int64\n",
            "native_country    32561 non-null object\n",
            "high_income       32561 non-null object\n",
            "dtypes: int64(6), object(9)\n",
            "memory usage: 3.7+ MB\n"
          ],
          "name": "stdout"
        }
      ]
    },
    {
      "cell_type": "markdown",
      "metadata": {
        "id": "qAsqYS2vhcBv",
        "colab_type": "text"
      },
      "source": [
        "#### Clean, prepare and manipulate Data (feature engineering)"
      ]
    },
    {
      "cell_type": "markdown",
      "metadata": {
        "id": "FiDepKOrhnRq",
        "colab_type": "text"
      },
      "source": [
        "This dataset contains a mix of **categorical (9 columns)** and **numerical (6 columns)** independent variables which as we know will need to pre-processed in different ways and separately.\n",
        "\n",
        "This means that initially they’ll have to go through **separate pipelines** to be pre-processed appropriately and then we’ll combine them together. So the first step in both pipelines would have to be to extract the appropriate columns that need to be pushed down for pre-processing."
      ]
    },
    {
      "cell_type": "code",
      "metadata": {
        "id": "nRiWmBz8-Af_",
        "colab_type": "code",
        "colab": {}
      },
      "source": [
        "# the only step necessary to be done outside of pipeline\n",
        "# convert the target column to categorical\n",
        "col = pd.Categorical(income.high_income)\n",
        "income[\"high_income\"] = col.codes"
      ],
      "execution_count": 0,
      "outputs": []
    },
    {
      "cell_type": "code",
      "metadata": {
        "id": "qbFbOUOlibQ0",
        "colab_type": "code",
        "colab": {}
      },
      "source": [
        "#Custom Transformer that extracts columns passed as argument to its constructor \n",
        "class FeatureSelector( BaseEstimator, TransformerMixin ):\n",
        "    #Class Constructor \n",
        "    def __init__( self, feature_names ):\n",
        "        self.feature_names = feature_names \n",
        "    \n",
        "    #Return self nothing else to do here    \n",
        "    def fit( self, X, y = None ):\n",
        "        return self \n",
        "    \n",
        "    #Method that describes what we need this transformer to do\n",
        "    def transform( self, X, y = None ):\n",
        "        return X[ self.feature_names ] "
      ],
      "execution_count": 0,
      "outputs": []
    },
    {
      "cell_type": "markdown",
      "metadata": {
        "id": "FWt3fuMIiyMa",
        "colab_type": "text"
      },
      "source": [
        "**Categorical Pipeline**"
      ]
    },
    {
      "cell_type": "code",
      "metadata": {
        "id": "VVaYmwaSopbV",
        "colab_type": "code",
        "colab": {}
      },
      "source": [
        "#converts certain features to categorical\n",
        "class CategoricalTransformer( BaseEstimator, TransformerMixin ):\n",
        "  #Class constructor method that takes a boolean as its argument\n",
        "  def __init__(self, new_features=True):\n",
        "    self.new_features = new_features\n",
        "\n",
        "  #Return self nothing else to do here    \n",
        "  def fit( self, X, y = None ):\n",
        "    return self \n",
        "        \n",
        "  #Transformer method we wrote for this transformer \n",
        "  def transform(self, X , y = None ):\n",
        "    df = X.copy()\n",
        "    if self.new_features:\n",
        "      # Treat ? workclass as unknown\n",
        "      df['workclass']= df['workclass'].replace('?','Unknown') \n",
        "      # Two many category level, convert just US and Non-US\n",
        "      df.loc[df['native_country']!=' United-States','native_country'] = 'non_usa' \n",
        "\n",
        "    # convert columns to categorical\n",
        "    for name in df.columns.to_list():\n",
        "      col = pd.Categorical(df[name])\n",
        "      df[name] = col.codes\n",
        "    \n",
        "    #returns numpy array\n",
        "    return df"
      ],
      "execution_count": 0,
      "outputs": []
    },
    {
      "cell_type": "code",
      "metadata": {
        "id": "Tz_lSNabr-vo",
        "colab_type": "code",
        "colab": {}
      },
      "source": [
        "# for validation purposes\n",
        "# model = CategoricalTransformer(new_features=True)\n",
        "# df = model.transform(income.drop(labels=[\"high_income\"],axis=1))"
      ],
      "execution_count": 0,
      "outputs": []
    },
    {
      "cell_type": "code",
      "metadata": {
        "id": "Mz2WX53svcKK",
        "colab_type": "code",
        "colab": {}
      },
      "source": [
        "# for validation purposes\n",
        "# model = FeatureSelector(income.select_dtypes(\"object\").columns.to_list())\n",
        "# df = model.transform(income.drop(labels=[\"high_income\"],axis=1))"
      ],
      "execution_count": 0,
      "outputs": []
    },
    {
      "cell_type": "markdown",
      "metadata": {
        "id": "xIDbsWQLxW2x",
        "colab_type": "text"
      },
      "source": [
        "#### Modeling (train and test)"
      ]
    },
    {
      "cell_type": "code",
      "metadata": {
        "id": "37LWvbv9hdS3",
        "colab_type": "code",
        "colab": {}
      },
      "source": [
        "# global varibles\n",
        "seed = 42\n",
        "num_folds = 10\n",
        "scoring = {'AUC': 'roc_auc', 'Accuracy': make_scorer(accuracy_score)}"
      ],
      "execution_count": 0,
      "outputs": []
    },
    {
      "cell_type": "code",
      "metadata": {
        "id": "OCgsF22T98iM",
        "colab_type": "code",
        "colab": {}
      },
      "source": [
        "# split-out train/validation and test dataset\n",
        "X_train, X_test, y_train, y_test = train_test_split(income.drop(labels=\"high_income\",axis=1),\n",
        "                                                    income[\"high_income\"],\n",
        "                                                    test_size=0.20,\n",
        "                                                    random_state=seed,\n",
        "                                                    shuffle=True,\n",
        "                                                    stratify=income[\"high_income\"])"
      ],
      "execution_count": 0,
      "outputs": []
    },
    {
      "cell_type": "code",
      "metadata": {
        "id": "qzDn0RNbuHy6",
        "colab_type": "code",
        "colab": {}
      },
      "source": [
        "# Categrical features to pass down the categorical pipeline \n",
        "categorical_features = income.select_dtypes(\"object\").columns.to_list()\n",
        "\n",
        "# Numerical features to pass down the numerical pipeline \n",
        "numerical_features = income.select_dtypes(\"int64\").columns.to_list()\n",
        "\n",
        "# Defining the steps in the categorical pipeline \n",
        "categorical_pipeline = Pipeline(steps = [('cat_selector', FeatureSelector(categorical_features)),\n",
        "                                         ('cat_transformer', CategoricalTransformer())\n",
        "                                         ]\n",
        "                                )\n",
        "# Defining the steps in the numerical pipeline     \n",
        "numerical_pipeline = Pipeline(steps = [('num_selector', FeatureSelector(numerical_features)),\n",
        "                                       ('std_scaler', MinMaxScaler()) \n",
        "                                       ]\n",
        "                              )\n",
        "\n",
        "# Combining numerical and categorical piepline into one full big pipeline horizontally \n",
        "# using FeatureUnion\n",
        "full_pipeline_preprocessing = FeatureUnion(transformer_list = [('categorical_pipeline', categorical_pipeline),\n",
        "                                                               ('numerical_pipeline', numerical_pipeline)\n",
        "                                                               ]\n",
        "                                           )"
      ],
      "execution_count": 0,
      "outputs": []
    },
    {
      "cell_type": "code",
      "metadata": {
        "id": "CIpXZ7BFkADg",
        "colab_type": "code",
        "outputId": "de1505ff-c721-4cef-8dd3-7107ea08b6f2",
        "colab": {
          "base_uri": "https://localhost:8080/",
          "height": 224
        }
      },
      "source": [
        "# for validate purposes\n",
        "new_data = full_pipeline_preprocessing.fit_transform(X_train)\n",
        "new_data_df = pd.DataFrame(new_data,columns = categorical_features + numerical_features)\n",
        "new_data_df.head()"
      ],
      "execution_count": 0,
      "outputs": [
        {
          "output_type": "execute_result",
          "data": {
            "text/html": [
              "<div>\n",
              "<style scoped>\n",
              "    .dataframe tbody tr th:only-of-type {\n",
              "        vertical-align: middle;\n",
              "    }\n",
              "\n",
              "    .dataframe tbody tr th {\n",
              "        vertical-align: top;\n",
              "    }\n",
              "\n",
              "    .dataframe thead th {\n",
              "        text-align: right;\n",
              "    }\n",
              "</style>\n",
              "<table border=\"1\" class=\"dataframe\">\n",
              "  <thead>\n",
              "    <tr style=\"text-align: right;\">\n",
              "      <th></th>\n",
              "      <th>workclass</th>\n",
              "      <th>education</th>\n",
              "      <th>marital_status</th>\n",
              "      <th>occupation</th>\n",
              "      <th>relationship</th>\n",
              "      <th>race</th>\n",
              "      <th>sex</th>\n",
              "      <th>native_country</th>\n",
              "      <th>age</th>\n",
              "      <th>fnlwgt</th>\n",
              "      <th>education_num</th>\n",
              "      <th>capital_gain</th>\n",
              "      <th>capital_loss</th>\n",
              "      <th>hours_per_week</th>\n",
              "    </tr>\n",
              "  </thead>\n",
              "  <tbody>\n",
              "    <tr>\n",
              "      <th>0</th>\n",
              "      <td>4.0</td>\n",
              "      <td>9.0</td>\n",
              "      <td>2.0</td>\n",
              "      <td>4.0</td>\n",
              "      <td>0.0</td>\n",
              "      <td>4.0</td>\n",
              "      <td>1.0</td>\n",
              "      <td>0.0</td>\n",
              "      <td>0.205479</td>\n",
              "      <td>0.016928</td>\n",
              "      <td>0.800000</td>\n",
              "      <td>0.000000</td>\n",
              "      <td>0.0</td>\n",
              "      <td>0.448980</td>\n",
              "    </tr>\n",
              "    <tr>\n",
              "      <th>1</th>\n",
              "      <td>4.0</td>\n",
              "      <td>12.0</td>\n",
              "      <td>4.0</td>\n",
              "      <td>4.0</td>\n",
              "      <td>1.0</td>\n",
              "      <td>4.0</td>\n",
              "      <td>0.0</td>\n",
              "      <td>0.0</td>\n",
              "      <td>0.356164</td>\n",
              "      <td>0.060896</td>\n",
              "      <td>0.866667</td>\n",
              "      <td>0.000000</td>\n",
              "      <td>0.0</td>\n",
              "      <td>0.448980</td>\n",
              "    </tr>\n",
              "    <tr>\n",
              "      <th>2</th>\n",
              "      <td>0.0</td>\n",
              "      <td>11.0</td>\n",
              "      <td>4.0</td>\n",
              "      <td>0.0</td>\n",
              "      <td>1.0</td>\n",
              "      <td>4.0</td>\n",
              "      <td>0.0</td>\n",
              "      <td>0.0</td>\n",
              "      <td>0.041096</td>\n",
              "      <td>0.074679</td>\n",
              "      <td>0.533333</td>\n",
              "      <td>0.000000</td>\n",
              "      <td>0.0</td>\n",
              "      <td>0.275510</td>\n",
              "    </tr>\n",
              "    <tr>\n",
              "      <th>3</th>\n",
              "      <td>2.0</td>\n",
              "      <td>15.0</td>\n",
              "      <td>0.0</td>\n",
              "      <td>14.0</td>\n",
              "      <td>4.0</td>\n",
              "      <td>4.0</td>\n",
              "      <td>1.0</td>\n",
              "      <td>0.0</td>\n",
              "      <td>0.315068</td>\n",
              "      <td>0.008474</td>\n",
              "      <td>0.600000</td>\n",
              "      <td>0.068491</td>\n",
              "      <td>0.0</td>\n",
              "      <td>0.397959</td>\n",
              "    </tr>\n",
              "    <tr>\n",
              "      <th>4</th>\n",
              "      <td>4.0</td>\n",
              "      <td>9.0</td>\n",
              "      <td>4.0</td>\n",
              "      <td>10.0</td>\n",
              "      <td>3.0</td>\n",
              "      <td>4.0</td>\n",
              "      <td>1.0</td>\n",
              "      <td>0.0</td>\n",
              "      <td>0.095890</td>\n",
              "      <td>0.069037</td>\n",
              "      <td>0.800000</td>\n",
              "      <td>0.000000</td>\n",
              "      <td>0.0</td>\n",
              "      <td>0.397959</td>\n",
              "    </tr>\n",
              "  </tbody>\n",
              "</table>\n",
              "</div>"
            ],
            "text/plain": [
              "   workclass  education  ...  capital_loss  hours_per_week\n",
              "0        4.0        9.0  ...           0.0        0.448980\n",
              "1        4.0       12.0  ...           0.0        0.448980\n",
              "2        0.0       11.0  ...           0.0        0.275510\n",
              "3        2.0       15.0  ...           0.0        0.397959\n",
              "4        4.0        9.0  ...           0.0        0.397959\n",
              "\n",
              "[5 rows x 14 columns]"
            ]
          },
          "metadata": {
            "tags": []
          },
          "execution_count": 77
        }
      ]
    },
    {
      "cell_type": "markdown",
      "metadata": {
        "id": "ZlnX7PPHpTDf",
        "colab_type": "text"
      },
      "source": [
        "#### Algorithm Tuning"
      ]
    },
    {
      "cell_type": "code",
      "metadata": {
        "id": "9vRlshxDNH7e",
        "colab_type": "code",
        "colab": {}
      },
      "source": [
        "# The full pipeline as a step in another pipeline with an estimator as the final step\n",
        "pipe = Pipeline(steps = [('full_pipeline', full_pipeline_preprocessing),\n",
        "                         (\"fs\",SelectKBest()),\n",
        "                         (\"clf\",RandomForestClassifier())])\n",
        "\n",
        "# create a dictionary with the hyperparameters\n",
        "# 12 x num_fold + 120 x num_folds = 1320 models =]\n",
        "# 50min \n",
        "search_space = [\n",
        "                {\"clf\":[DecisionTreeClassifier()],\n",
        "                 \"clf__criterion\": [\"gini\",\"entropy\"],\n",
        "                 \"clf__splitter\": [\"best\",\"random\"],\n",
        "                 \"clf__random_state\": [seed],\n",
        "                 \"fs__score_func\":[chi2],\n",
        "                 \"fs__k\":[4,6,8]},\n",
        "                {\"clf\":[RandomForestClassifier()],\n",
        "                 \"clf__n_estimators\": [100,200,300,400],\n",
        "                 \"clf__criterion\": [\"gini\",\"entropy\"],\n",
        "                 \"clf__max_leaf_nodes\": [4,16,32,64,128],\n",
        "                 \"clf__random_state\": [seed],\n",
        "                 \"fs__score_func\":[chi2],\n",
        "                 \"fs__k\":[4,6,8]}]\n",
        "\n",
        "# create grid search\n",
        "kfold = KFold(n_splits=num_folds,random_state=seed)\n",
        "\n",
        "# return_train_score=True\n",
        "# official documentation: \"computing the scores on the training set can be\n",
        "# computationally expensive and is not strictly required to\n",
        "# select the parameters that yield the best generalization performance\".\n",
        "grid = GridSearchCV(estimator=pipe, \n",
        "                    param_grid=search_space,\n",
        "                    cv=kfold,\n",
        "                    scoring=scoring,\n",
        "                    return_train_score=True,\n",
        "                    n_jobs=-1,\n",
        "                    refit=\"AUC\")\n",
        "\n",
        "# fit grid search\n",
        "best_model = grid.fit(X_train,y_train)"
      ],
      "execution_count": 0,
      "outputs": []
    },
    {
      "cell_type": "code",
      "metadata": {
        "id": "B-_ri8NoqZzR",
        "colab_type": "code",
        "outputId": "55d1341a-fecd-41a4-c0db-990e305640da",
        "colab": {
          "base_uri": "https://localhost:8080/",
          "height": 156
        }
      },
      "source": [
        "print(\"Best: %f using %s\" % (best_model.best_score_,best_model.best_params_))"
      ],
      "execution_count": 0,
      "outputs": [
        {
          "output_type": "stream",
          "text": [
            "Best: 0.902703 using {'clf': RandomForestClassifier(bootstrap=True, class_weight=None, criterion='entropy',\n",
            "                       max_depth=None, max_features='auto', max_leaf_nodes=128,\n",
            "                       min_impurity_decrease=0.0, min_impurity_split=None,\n",
            "                       min_samples_leaf=1, min_samples_split=2,\n",
            "                       min_weight_fraction_leaf=0.0, n_estimators=200,\n",
            "                       n_jobs=None, oob_score=False, random_state=42, verbose=0,\n",
            "                       warm_start=False), 'clf__criterion': 'entropy', 'clf__max_leaf_nodes': 128, 'clf__n_estimators': 200, 'clf__random_state': 42, 'fs__k': 8, 'fs__score_func': <function chi2 at 0x7f56cf852a60>}\n"
          ],
          "name": "stdout"
        }
      ]
    },
    {
      "cell_type": "code",
      "metadata": {
        "id": "5z5rxfjGraB1",
        "colab_type": "code",
        "outputId": "9f9a7e2f-07db-4f3a-99de-5f6531178d55",
        "colab": {
          "base_uri": "https://localhost:8080/",
          "height": 549
        }
      },
      "source": [
        "result = pd.DataFrame(best_model.cv_results_)\n",
        "result.head(10)"
      ],
      "execution_count": 0,
      "outputs": [
        {
          "output_type": "execute_result",
          "data": {
            "text/html": [
              "<div>\n",
              "<style scoped>\n",
              "    .dataframe tbody tr th:only-of-type {\n",
              "        vertical-align: middle;\n",
              "    }\n",
              "\n",
              "    .dataframe tbody tr th {\n",
              "        vertical-align: top;\n",
              "    }\n",
              "\n",
              "    .dataframe thead th {\n",
              "        text-align: right;\n",
              "    }\n",
              "</style>\n",
              "<table border=\"1\" class=\"dataframe\">\n",
              "  <thead>\n",
              "    <tr style=\"text-align: right;\">\n",
              "      <th></th>\n",
              "      <th>mean_fit_time</th>\n",
              "      <th>std_fit_time</th>\n",
              "      <th>mean_score_time</th>\n",
              "      <th>std_score_time</th>\n",
              "      <th>param_clf</th>\n",
              "      <th>param_clf__criterion</th>\n",
              "      <th>param_clf__random_state</th>\n",
              "      <th>param_clf__splitter</th>\n",
              "      <th>param_fs__k</th>\n",
              "      <th>param_fs__score_func</th>\n",
              "      <th>param_clf__max_leaf_nodes</th>\n",
              "      <th>param_clf__n_estimators</th>\n",
              "      <th>params</th>\n",
              "      <th>split0_test_AUC</th>\n",
              "      <th>split1_test_AUC</th>\n",
              "      <th>split2_test_AUC</th>\n",
              "      <th>split3_test_AUC</th>\n",
              "      <th>split4_test_AUC</th>\n",
              "      <th>split5_test_AUC</th>\n",
              "      <th>split6_test_AUC</th>\n",
              "      <th>split7_test_AUC</th>\n",
              "      <th>split8_test_AUC</th>\n",
              "      <th>split9_test_AUC</th>\n",
              "      <th>mean_test_AUC</th>\n",
              "      <th>std_test_AUC</th>\n",
              "      <th>rank_test_AUC</th>\n",
              "      <th>split0_train_AUC</th>\n",
              "      <th>split1_train_AUC</th>\n",
              "      <th>split2_train_AUC</th>\n",
              "      <th>split3_train_AUC</th>\n",
              "      <th>split4_train_AUC</th>\n",
              "      <th>split5_train_AUC</th>\n",
              "      <th>split6_train_AUC</th>\n",
              "      <th>split7_train_AUC</th>\n",
              "      <th>split8_train_AUC</th>\n",
              "      <th>split9_train_AUC</th>\n",
              "      <th>mean_train_AUC</th>\n",
              "      <th>std_train_AUC</th>\n",
              "      <th>split0_test_Accuracy</th>\n",
              "      <th>split1_test_Accuracy</th>\n",
              "      <th>split2_test_Accuracy</th>\n",
              "      <th>split3_test_Accuracy</th>\n",
              "      <th>split4_test_Accuracy</th>\n",
              "      <th>split5_test_Accuracy</th>\n",
              "      <th>split6_test_Accuracy</th>\n",
              "      <th>split7_test_Accuracy</th>\n",
              "      <th>split8_test_Accuracy</th>\n",
              "      <th>split9_test_Accuracy</th>\n",
              "      <th>mean_test_Accuracy</th>\n",
              "      <th>std_test_Accuracy</th>\n",
              "      <th>rank_test_Accuracy</th>\n",
              "      <th>split0_train_Accuracy</th>\n",
              "      <th>split1_train_Accuracy</th>\n",
              "      <th>split2_train_Accuracy</th>\n",
              "      <th>split3_train_Accuracy</th>\n",
              "      <th>split4_train_Accuracy</th>\n",
              "      <th>split5_train_Accuracy</th>\n",
              "      <th>split6_train_Accuracy</th>\n",
              "      <th>split7_train_Accuracy</th>\n",
              "      <th>split8_train_Accuracy</th>\n",
              "      <th>split9_train_Accuracy</th>\n",
              "      <th>mean_train_Accuracy</th>\n",
              "      <th>std_train_Accuracy</th>\n",
              "    </tr>\n",
              "  </thead>\n",
              "  <tbody>\n",
              "    <tr>\n",
              "      <th>0</th>\n",
              "      <td>0.094254</td>\n",
              "      <td>0.004465</td>\n",
              "      <td>0.052384</td>\n",
              "      <td>0.000343</td>\n",
              "      <td>DecisionTreeClassifier(class_weight=None, crit...</td>\n",
              "      <td>gini</td>\n",
              "      <td>42</td>\n",
              "      <td>best</td>\n",
              "      <td>4</td>\n",
              "      <td>&lt;function chi2 at 0x7f56cf852a60&gt;</td>\n",
              "      <td>NaN</td>\n",
              "      <td>NaN</td>\n",
              "      <td>{'clf': DecisionTreeClassifier(class_weight=No...</td>\n",
              "      <td>0.879737</td>\n",
              "      <td>0.770063</td>\n",
              "      <td>0.890067</td>\n",
              "      <td>0.754662</td>\n",
              "      <td>0.860297</td>\n",
              "      <td>0.894153</td>\n",
              "      <td>0.841077</td>\n",
              "      <td>0.829657</td>\n",
              "      <td>0.823056</td>\n",
              "      <td>0.830986</td>\n",
              "      <td>0.837376</td>\n",
              "      <td>0.044736</td>\n",
              "      <td>115</td>\n",
              "      <td>0.899191</td>\n",
              "      <td>0.898719</td>\n",
              "      <td>0.897951</td>\n",
              "      <td>0.898341</td>\n",
              "      <td>0.842931</td>\n",
              "      <td>0.898022</td>\n",
              "      <td>0.845008</td>\n",
              "      <td>0.846032</td>\n",
              "      <td>0.846578</td>\n",
              "      <td>0.844377</td>\n",
              "      <td>0.871715</td>\n",
              "      <td>0.026747</td>\n",
              "      <td>0.840307</td>\n",
              "      <td>0.785797</td>\n",
              "      <td>0.847601</td>\n",
              "      <td>0.779655</td>\n",
              "      <td>0.812668</td>\n",
              "      <td>0.849136</td>\n",
              "      <td>0.819194</td>\n",
              "      <td>0.810365</td>\n",
              "      <td>0.787634</td>\n",
              "      <td>0.807220</td>\n",
              "      <td>0.813959</td>\n",
              "      <td>0.024112</td>\n",
              "      <td>77</td>\n",
              "      <td>0.848867</td>\n",
              "      <td>0.848569</td>\n",
              "      <td>0.848057</td>\n",
              "      <td>0.848228</td>\n",
              "      <td>0.809410</td>\n",
              "      <td>0.848057</td>\n",
              "      <td>0.808642</td>\n",
              "      <td>0.809623</td>\n",
              "      <td>0.812105</td>\n",
              "      <td>0.808778</td>\n",
              "      <td>0.829034</td>\n",
              "      <td>0.019343</td>\n",
              "    </tr>\n",
              "    <tr>\n",
              "      <th>1</th>\n",
              "      <td>0.107457</td>\n",
              "      <td>0.005159</td>\n",
              "      <td>0.054094</td>\n",
              "      <td>0.001872</td>\n",
              "      <td>DecisionTreeClassifier(class_weight=None, crit...</td>\n",
              "      <td>gini</td>\n",
              "      <td>42</td>\n",
              "      <td>best</td>\n",
              "      <td>6</td>\n",
              "      <td>&lt;function chi2 at 0x7f56cf852a60&gt;</td>\n",
              "      <td>NaN</td>\n",
              "      <td>NaN</td>\n",
              "      <td>{'clf': DecisionTreeClassifier(class_weight=No...</td>\n",
              "      <td>0.882060</td>\n",
              "      <td>0.795158</td>\n",
              "      <td>0.900740</td>\n",
              "      <td>0.787234</td>\n",
              "      <td>0.900339</td>\n",
              "      <td>0.902825</td>\n",
              "      <td>0.785493</td>\n",
              "      <td>0.778393</td>\n",
              "      <td>0.795487</td>\n",
              "      <td>0.767909</td>\n",
              "      <td>0.829567</td>\n",
              "      <td>0.055405</td>\n",
              "      <td>119</td>\n",
              "      <td>0.926336</td>\n",
              "      <td>0.916263</td>\n",
              "      <td>0.915367</td>\n",
              "      <td>0.915165</td>\n",
              "      <td>0.925340</td>\n",
              "      <td>0.915251</td>\n",
              "      <td>0.915892</td>\n",
              "      <td>0.916630</td>\n",
              "      <td>0.927437</td>\n",
              "      <td>0.915181</td>\n",
              "      <td>0.918886</td>\n",
              "      <td>0.004944</td>\n",
              "      <td>0.844914</td>\n",
              "      <td>0.802687</td>\n",
              "      <td>0.852975</td>\n",
              "      <td>0.803071</td>\n",
              "      <td>0.851440</td>\n",
              "      <td>0.858349</td>\n",
              "      <td>0.804990</td>\n",
              "      <td>0.796929</td>\n",
              "      <td>0.797235</td>\n",
              "      <td>0.836406</td>\n",
              "      <td>0.824900</td>\n",
              "      <td>0.024614</td>\n",
              "      <td>60</td>\n",
              "      <td>0.863456</td>\n",
              "      <td>0.861067</td>\n",
              "      <td>0.860939</td>\n",
              "      <td>0.860299</td>\n",
              "      <td>0.863413</td>\n",
              "      <td>0.860257</td>\n",
              "      <td>0.859873</td>\n",
              "      <td>0.861281</td>\n",
              "      <td>0.864699</td>\n",
              "      <td>0.860561</td>\n",
              "      <td>0.861585</td>\n",
              "      <td>0.001572</td>\n",
              "    </tr>\n",
              "    <tr>\n",
              "      <th>2</th>\n",
              "      <td>0.140714</td>\n",
              "      <td>0.005217</td>\n",
              "      <td>0.059645</td>\n",
              "      <td>0.010914</td>\n",
              "      <td>DecisionTreeClassifier(class_weight=None, crit...</td>\n",
              "      <td>gini</td>\n",
              "      <td>42</td>\n",
              "      <td>best</td>\n",
              "      <td>8</td>\n",
              "      <td>&lt;function chi2 at 0x7f56cf852a60&gt;</td>\n",
              "      <td>NaN</td>\n",
              "      <td>NaN</td>\n",
              "      <td>{'clf': DecisionTreeClassifier(class_weight=No...</td>\n",
              "      <td>0.832547</td>\n",
              "      <td>0.754089</td>\n",
              "      <td>0.820625</td>\n",
              "      <td>0.772732</td>\n",
              "      <td>0.824723</td>\n",
              "      <td>0.821800</td>\n",
              "      <td>0.748504</td>\n",
              "      <td>0.744559</td>\n",
              "      <td>0.760581</td>\n",
              "      <td>0.810092</td>\n",
              "      <td>0.789025</td>\n",
              "      <td>0.034058</td>\n",
              "      <td>131</td>\n",
              "      <td>0.980977</td>\n",
              "      <td>0.981498</td>\n",
              "      <td>0.981194</td>\n",
              "      <td>0.981385</td>\n",
              "      <td>0.981547</td>\n",
              "      <td>0.981339</td>\n",
              "      <td>0.981833</td>\n",
              "      <td>0.981429</td>\n",
              "      <td>0.981561</td>\n",
              "      <td>0.981447</td>\n",
              "      <td>0.981421</td>\n",
              "      <td>0.000216</td>\n",
              "      <td>0.834549</td>\n",
              "      <td>0.802303</td>\n",
              "      <td>0.839923</td>\n",
              "      <td>0.806526</td>\n",
              "      <td>0.826104</td>\n",
              "      <td>0.833013</td>\n",
              "      <td>0.802687</td>\n",
              "      <td>0.800000</td>\n",
              "      <td>0.796083</td>\n",
              "      <td>0.826421</td>\n",
              "      <td>0.816761</td>\n",
              "      <td>0.015868</td>\n",
              "      <td>71</td>\n",
              "      <td>0.924711</td>\n",
              "      <td>0.925607</td>\n",
              "      <td>0.924754</td>\n",
              "      <td>0.925394</td>\n",
              "      <td>0.925863</td>\n",
              "      <td>0.925436</td>\n",
              "      <td>0.926332</td>\n",
              "      <td>0.925308</td>\n",
              "      <td>0.926079</td>\n",
              "      <td>0.925653</td>\n",
              "      <td>0.925514</td>\n",
              "      <td>0.000492</td>\n",
              "    </tr>\n",
              "    <tr>\n",
              "      <th>3</th>\n",
              "      <td>0.087781</td>\n",
              "      <td>0.011223</td>\n",
              "      <td>0.052276</td>\n",
              "      <td>0.000583</td>\n",
              "      <td>DecisionTreeClassifier(class_weight=None, crit...</td>\n",
              "      <td>gini</td>\n",
              "      <td>42</td>\n",
              "      <td>random</td>\n",
              "      <td>4</td>\n",
              "      <td>&lt;function chi2 at 0x7f56cf852a60&gt;</td>\n",
              "      <td>NaN</td>\n",
              "      <td>NaN</td>\n",
              "      <td>{'clf': DecisionTreeClassifier(class_weight=No...</td>\n",
              "      <td>0.883280</td>\n",
              "      <td>0.786899</td>\n",
              "      <td>0.890114</td>\n",
              "      <td>0.780701</td>\n",
              "      <td>0.856721</td>\n",
              "      <td>0.887777</td>\n",
              "      <td>0.839006</td>\n",
              "      <td>0.827547</td>\n",
              "      <td>0.820158</td>\n",
              "      <td>0.830930</td>\n",
              "      <td>0.840314</td>\n",
              "      <td>0.037303</td>\n",
              "      <td>113</td>\n",
              "      <td>0.899191</td>\n",
              "      <td>0.898719</td>\n",
              "      <td>0.897951</td>\n",
              "      <td>0.898341</td>\n",
              "      <td>0.842931</td>\n",
              "      <td>0.898022</td>\n",
              "      <td>0.845008</td>\n",
              "      <td>0.846032</td>\n",
              "      <td>0.846578</td>\n",
              "      <td>0.844377</td>\n",
              "      <td>0.871715</td>\n",
              "      <td>0.026747</td>\n",
              "      <td>0.842610</td>\n",
              "      <td>0.794626</td>\n",
              "      <td>0.848752</td>\n",
              "      <td>0.790019</td>\n",
              "      <td>0.811516</td>\n",
              "      <td>0.846833</td>\n",
              "      <td>0.818426</td>\n",
              "      <td>0.809597</td>\n",
              "      <td>0.786866</td>\n",
              "      <td>0.807220</td>\n",
              "      <td>0.815648</td>\n",
              "      <td>0.022034</td>\n",
              "      <td>72</td>\n",
              "      <td>0.848867</td>\n",
              "      <td>0.848569</td>\n",
              "      <td>0.848057</td>\n",
              "      <td>0.848228</td>\n",
              "      <td>0.809410</td>\n",
              "      <td>0.848057</td>\n",
              "      <td>0.808642</td>\n",
              "      <td>0.809623</td>\n",
              "      <td>0.812105</td>\n",
              "      <td>0.808778</td>\n",
              "      <td>0.829034</td>\n",
              "      <td>0.019343</td>\n",
              "    </tr>\n",
              "    <tr>\n",
              "      <th>4</th>\n",
              "      <td>0.094351</td>\n",
              "      <td>0.004778</td>\n",
              "      <td>0.055624</td>\n",
              "      <td>0.004322</td>\n",
              "      <td>DecisionTreeClassifier(class_weight=None, crit...</td>\n",
              "      <td>gini</td>\n",
              "      <td>42</td>\n",
              "      <td>random</td>\n",
              "      <td>6</td>\n",
              "      <td>&lt;function chi2 at 0x7f56cf852a60&gt;</td>\n",
              "      <td>NaN</td>\n",
              "      <td>NaN</td>\n",
              "      <td>{'clf': DecisionTreeClassifier(class_weight=No...</td>\n",
              "      <td>0.881333</td>\n",
              "      <td>0.794939</td>\n",
              "      <td>0.893739</td>\n",
              "      <td>0.804949</td>\n",
              "      <td>0.899048</td>\n",
              "      <td>0.898314</td>\n",
              "      <td>0.770400</td>\n",
              "      <td>0.775795</td>\n",
              "      <td>0.834018</td>\n",
              "      <td>0.764106</td>\n",
              "      <td>0.831667</td>\n",
              "      <td>0.053675</td>\n",
              "      <td>117</td>\n",
              "      <td>0.926336</td>\n",
              "      <td>0.916263</td>\n",
              "      <td>0.915367</td>\n",
              "      <td>0.915165</td>\n",
              "      <td>0.925340</td>\n",
              "      <td>0.915251</td>\n",
              "      <td>0.915892</td>\n",
              "      <td>0.916630</td>\n",
              "      <td>0.927437</td>\n",
              "      <td>0.915181</td>\n",
              "      <td>0.918886</td>\n",
              "      <td>0.004944</td>\n",
              "      <td>0.848369</td>\n",
              "      <td>0.802303</td>\n",
              "      <td>0.850288</td>\n",
              "      <td>0.808829</td>\n",
              "      <td>0.850672</td>\n",
              "      <td>0.857965</td>\n",
              "      <td>0.797313</td>\n",
              "      <td>0.796161</td>\n",
              "      <td>0.825269</td>\n",
              "      <td>0.834485</td>\n",
              "      <td>0.827165</td>\n",
              "      <td>0.023130</td>\n",
              "      <td>53</td>\n",
              "      <td>0.863456</td>\n",
              "      <td>0.861067</td>\n",
              "      <td>0.860939</td>\n",
              "      <td>0.860299</td>\n",
              "      <td>0.863413</td>\n",
              "      <td>0.860257</td>\n",
              "      <td>0.859873</td>\n",
              "      <td>0.861281</td>\n",
              "      <td>0.864699</td>\n",
              "      <td>0.860561</td>\n",
              "      <td>0.861585</td>\n",
              "      <td>0.001572</td>\n",
              "    </tr>\n",
              "    <tr>\n",
              "      <th>5</th>\n",
              "      <td>0.105337</td>\n",
              "      <td>0.005594</td>\n",
              "      <td>0.056486</td>\n",
              "      <td>0.007310</td>\n",
              "      <td>DecisionTreeClassifier(class_weight=None, crit...</td>\n",
              "      <td>gini</td>\n",
              "      <td>42</td>\n",
              "      <td>random</td>\n",
              "      <td>8</td>\n",
              "      <td>&lt;function chi2 at 0x7f56cf852a60&gt;</td>\n",
              "      <td>NaN</td>\n",
              "      <td>NaN</td>\n",
              "      <td>{'clf': DecisionTreeClassifier(class_weight=No...</td>\n",
              "      <td>0.818488</td>\n",
              "      <td>0.769216</td>\n",
              "      <td>0.814125</td>\n",
              "      <td>0.767361</td>\n",
              "      <td>0.821368</td>\n",
              "      <td>0.827879</td>\n",
              "      <td>0.761288</td>\n",
              "      <td>0.743066</td>\n",
              "      <td>0.773823</td>\n",
              "      <td>0.786854</td>\n",
              "      <td>0.788347</td>\n",
              "      <td>0.028335</td>\n",
              "      <td>132</td>\n",
              "      <td>0.980977</td>\n",
              "      <td>0.981498</td>\n",
              "      <td>0.981194</td>\n",
              "      <td>0.981385</td>\n",
              "      <td>0.981547</td>\n",
              "      <td>0.981339</td>\n",
              "      <td>0.981833</td>\n",
              "      <td>0.981429</td>\n",
              "      <td>0.981561</td>\n",
              "      <td>0.981447</td>\n",
              "      <td>0.981421</td>\n",
              "      <td>0.000216</td>\n",
              "      <td>0.826488</td>\n",
              "      <td>0.809597</td>\n",
              "      <td>0.833013</td>\n",
              "      <td>0.809597</td>\n",
              "      <td>0.824184</td>\n",
              "      <td>0.835317</td>\n",
              "      <td>0.802687</td>\n",
              "      <td>0.800000</td>\n",
              "      <td>0.799155</td>\n",
              "      <td>0.802995</td>\n",
              "      <td>0.814304</td>\n",
              "      <td>0.013337</td>\n",
              "      <td>76</td>\n",
              "      <td>0.924711</td>\n",
              "      <td>0.925607</td>\n",
              "      <td>0.924754</td>\n",
              "      <td>0.925394</td>\n",
              "      <td>0.925863</td>\n",
              "      <td>0.925436</td>\n",
              "      <td>0.926332</td>\n",
              "      <td>0.925308</td>\n",
              "      <td>0.926079</td>\n",
              "      <td>0.925653</td>\n",
              "      <td>0.925514</td>\n",
              "      <td>0.000492</td>\n",
              "    </tr>\n",
              "    <tr>\n",
              "      <th>6</th>\n",
              "      <td>0.091204</td>\n",
              "      <td>0.004080</td>\n",
              "      <td>0.053764</td>\n",
              "      <td>0.002011</td>\n",
              "      <td>DecisionTreeClassifier(class_weight=None, crit...</td>\n",
              "      <td>entropy</td>\n",
              "      <td>42</td>\n",
              "      <td>best</td>\n",
              "      <td>4</td>\n",
              "      <td>&lt;function chi2 at 0x7f56cf852a60&gt;</td>\n",
              "      <td>NaN</td>\n",
              "      <td>NaN</td>\n",
              "      <td>{'clf': DecisionTreeClassifier(class_weight=No...</td>\n",
              "      <td>0.880058</td>\n",
              "      <td>0.769356</td>\n",
              "      <td>0.891405</td>\n",
              "      <td>0.756139</td>\n",
              "      <td>0.859392</td>\n",
              "      <td>0.892768</td>\n",
              "      <td>0.837834</td>\n",
              "      <td>0.829657</td>\n",
              "      <td>0.823056</td>\n",
              "      <td>0.828021</td>\n",
              "      <td>0.836769</td>\n",
              "      <td>0.044576</td>\n",
              "      <td>116</td>\n",
              "      <td>0.899191</td>\n",
              "      <td>0.898719</td>\n",
              "      <td>0.897951</td>\n",
              "      <td>0.898341</td>\n",
              "      <td>0.842931</td>\n",
              "      <td>0.898022</td>\n",
              "      <td>0.845008</td>\n",
              "      <td>0.846032</td>\n",
              "      <td>0.846578</td>\n",
              "      <td>0.844377</td>\n",
              "      <td>0.871715</td>\n",
              "      <td>0.026747</td>\n",
              "      <td>0.840691</td>\n",
              "      <td>0.785029</td>\n",
              "      <td>0.847985</td>\n",
              "      <td>0.779655</td>\n",
              "      <td>0.811900</td>\n",
              "      <td>0.848752</td>\n",
              "      <td>0.818426</td>\n",
              "      <td>0.810365</td>\n",
              "      <td>0.787634</td>\n",
              "      <td>0.806452</td>\n",
              "      <td>0.813690</td>\n",
              "      <td>0.024254</td>\n",
              "      <td>81</td>\n",
              "      <td>0.848867</td>\n",
              "      <td>0.848569</td>\n",
              "      <td>0.848057</td>\n",
              "      <td>0.848228</td>\n",
              "      <td>0.809410</td>\n",
              "      <td>0.848057</td>\n",
              "      <td>0.808642</td>\n",
              "      <td>0.809623</td>\n",
              "      <td>0.812105</td>\n",
              "      <td>0.808778</td>\n",
              "      <td>0.829034</td>\n",
              "      <td>0.019343</td>\n",
              "    </tr>\n",
              "    <tr>\n",
              "      <th>7</th>\n",
              "      <td>0.107017</td>\n",
              "      <td>0.006003</td>\n",
              "      <td>0.051849</td>\n",
              "      <td>0.000768</td>\n",
              "      <td>DecisionTreeClassifier(class_weight=None, crit...</td>\n",
              "      <td>entropy</td>\n",
              "      <td>42</td>\n",
              "      <td>best</td>\n",
              "      <td>6</td>\n",
              "      <td>&lt;function chi2 at 0x7f56cf852a60&gt;</td>\n",
              "      <td>NaN</td>\n",
              "      <td>NaN</td>\n",
              "      <td>{'clf': DecisionTreeClassifier(class_weight=No...</td>\n",
              "      <td>0.884847</td>\n",
              "      <td>0.794654</td>\n",
              "      <td>0.900998</td>\n",
              "      <td>0.784638</td>\n",
              "      <td>0.902904</td>\n",
              "      <td>0.898959</td>\n",
              "      <td>0.784579</td>\n",
              "      <td>0.776160</td>\n",
              "      <td>0.791349</td>\n",
              "      <td>0.767367</td>\n",
              "      <td>0.828649</td>\n",
              "      <td>0.056380</td>\n",
              "      <td>122</td>\n",
              "      <td>0.926336</td>\n",
              "      <td>0.916263</td>\n",
              "      <td>0.915367</td>\n",
              "      <td>0.915165</td>\n",
              "      <td>0.925340</td>\n",
              "      <td>0.915251</td>\n",
              "      <td>0.915892</td>\n",
              "      <td>0.916630</td>\n",
              "      <td>0.927437</td>\n",
              "      <td>0.915181</td>\n",
              "      <td>0.918886</td>\n",
              "      <td>0.004944</td>\n",
              "      <td>0.847217</td>\n",
              "      <td>0.802687</td>\n",
              "      <td>0.852207</td>\n",
              "      <td>0.801919</td>\n",
              "      <td>0.852207</td>\n",
              "      <td>0.857582</td>\n",
              "      <td>0.804990</td>\n",
              "      <td>0.796929</td>\n",
              "      <td>0.797619</td>\n",
              "      <td>0.836790</td>\n",
              "      <td>0.825015</td>\n",
              "      <td>0.024786</td>\n",
              "      <td>58</td>\n",
              "      <td>0.863456</td>\n",
              "      <td>0.861067</td>\n",
              "      <td>0.860939</td>\n",
              "      <td>0.860299</td>\n",
              "      <td>0.863413</td>\n",
              "      <td>0.860257</td>\n",
              "      <td>0.859873</td>\n",
              "      <td>0.861281</td>\n",
              "      <td>0.864699</td>\n",
              "      <td>0.860561</td>\n",
              "      <td>0.861585</td>\n",
              "      <td>0.001572</td>\n",
              "    </tr>\n",
              "    <tr>\n",
              "      <th>8</th>\n",
              "      <td>0.147538</td>\n",
              "      <td>0.005816</td>\n",
              "      <td>0.057624</td>\n",
              "      <td>0.007771</td>\n",
              "      <td>DecisionTreeClassifier(class_weight=None, crit...</td>\n",
              "      <td>entropy</td>\n",
              "      <td>42</td>\n",
              "      <td>best</td>\n",
              "      <td>8</td>\n",
              "      <td>&lt;function chi2 at 0x7f56cf852a60&gt;</td>\n",
              "      <td>NaN</td>\n",
              "      <td>NaN</td>\n",
              "      <td>{'clf': DecisionTreeClassifier(class_weight=No...</td>\n",
              "      <td>0.822813</td>\n",
              "      <td>0.753979</td>\n",
              "      <td>0.825605</td>\n",
              "      <td>0.773465</td>\n",
              "      <td>0.825008</td>\n",
              "      <td>0.825359</td>\n",
              "      <td>0.744803</td>\n",
              "      <td>0.745876</td>\n",
              "      <td>0.760184</td>\n",
              "      <td>0.816834</td>\n",
              "      <td>0.789393</td>\n",
              "      <td>0.034622</td>\n",
              "      <td>130</td>\n",
              "      <td>0.980977</td>\n",
              "      <td>0.981498</td>\n",
              "      <td>0.981194</td>\n",
              "      <td>0.981385</td>\n",
              "      <td>0.981547</td>\n",
              "      <td>0.981339</td>\n",
              "      <td>0.981833</td>\n",
              "      <td>0.981429</td>\n",
              "      <td>0.981561</td>\n",
              "      <td>0.981447</td>\n",
              "      <td>0.981421</td>\n",
              "      <td>0.000216</td>\n",
              "      <td>0.829175</td>\n",
              "      <td>0.803071</td>\n",
              "      <td>0.838772</td>\n",
              "      <td>0.809213</td>\n",
              "      <td>0.828023</td>\n",
              "      <td>0.837236</td>\n",
              "      <td>0.796929</td>\n",
              "      <td>0.801919</td>\n",
              "      <td>0.798771</td>\n",
              "      <td>0.829109</td>\n",
              "      <td>0.817222</td>\n",
              "      <td>0.015864</td>\n",
              "      <td>69</td>\n",
              "      <td>0.924711</td>\n",
              "      <td>0.925607</td>\n",
              "      <td>0.924754</td>\n",
              "      <td>0.925394</td>\n",
              "      <td>0.925863</td>\n",
              "      <td>0.925436</td>\n",
              "      <td>0.926332</td>\n",
              "      <td>0.925308</td>\n",
              "      <td>0.926079</td>\n",
              "      <td>0.925653</td>\n",
              "      <td>0.925514</td>\n",
              "      <td>0.000492</td>\n",
              "    </tr>\n",
              "    <tr>\n",
              "      <th>9</th>\n",
              "      <td>0.089261</td>\n",
              "      <td>0.011051</td>\n",
              "      <td>0.051828</td>\n",
              "      <td>0.000640</td>\n",
              "      <td>DecisionTreeClassifier(class_weight=None, crit...</td>\n",
              "      <td>entropy</td>\n",
              "      <td>42</td>\n",
              "      <td>random</td>\n",
              "      <td>4</td>\n",
              "      <td>&lt;function chi2 at 0x7f56cf852a60&gt;</td>\n",
              "      <td>NaN</td>\n",
              "      <td>NaN</td>\n",
              "      <td>{'clf': DecisionTreeClassifier(class_weight=No...</td>\n",
              "      <td>0.880201</td>\n",
              "      <td>0.786043</td>\n",
              "      <td>0.890407</td>\n",
              "      <td>0.780585</td>\n",
              "      <td>0.858282</td>\n",
              "      <td>0.892855</td>\n",
              "      <td>0.839006</td>\n",
              "      <td>0.828462</td>\n",
              "      <td>0.820651</td>\n",
              "      <td>0.805703</td>\n",
              "      <td>0.838221</td>\n",
              "      <td>0.039218</td>\n",
              "      <td>114</td>\n",
              "      <td>0.899191</td>\n",
              "      <td>0.898719</td>\n",
              "      <td>0.897951</td>\n",
              "      <td>0.898341</td>\n",
              "      <td>0.842931</td>\n",
              "      <td>0.898022</td>\n",
              "      <td>0.845008</td>\n",
              "      <td>0.846032</td>\n",
              "      <td>0.846578</td>\n",
              "      <td>0.844377</td>\n",
              "      <td>0.871715</td>\n",
              "      <td>0.026747</td>\n",
              "      <td>0.840691</td>\n",
              "      <td>0.793858</td>\n",
              "      <td>0.849136</td>\n",
              "      <td>0.790787</td>\n",
              "      <td>0.811900</td>\n",
              "      <td>0.848752</td>\n",
              "      <td>0.818426</td>\n",
              "      <td>0.810365</td>\n",
              "      <td>0.786482</td>\n",
              "      <td>0.795315</td>\n",
              "      <td>0.814573</td>\n",
              "      <td>0.022890</td>\n",
              "      <td>74</td>\n",
              "      <td>0.848867</td>\n",
              "      <td>0.848569</td>\n",
              "      <td>0.848057</td>\n",
              "      <td>0.848228</td>\n",
              "      <td>0.809410</td>\n",
              "      <td>0.848057</td>\n",
              "      <td>0.808642</td>\n",
              "      <td>0.809623</td>\n",
              "      <td>0.812105</td>\n",
              "      <td>0.808778</td>\n",
              "      <td>0.829034</td>\n",
              "      <td>0.019343</td>\n",
              "    </tr>\n",
              "  </tbody>\n",
              "</table>\n",
              "</div>"
            ],
            "text/plain": [
              "   mean_fit_time  std_fit_time  ...  mean_train_Accuracy  std_train_Accuracy\n",
              "0       0.094254      0.004465  ...             0.829034            0.019343\n",
              "1       0.107457      0.005159  ...             0.861585            0.001572\n",
              "2       0.140714      0.005217  ...             0.925514            0.000492\n",
              "3       0.087781      0.011223  ...             0.829034            0.019343\n",
              "4       0.094351      0.004778  ...             0.861585            0.001572\n",
              "5       0.105337      0.005594  ...             0.925514            0.000492\n",
              "6       0.091204      0.004080  ...             0.829034            0.019343\n",
              "7       0.107017      0.006003  ...             0.861585            0.001572\n",
              "8       0.147538      0.005816  ...             0.925514            0.000492\n",
              "9       0.089261      0.011051  ...             0.829034            0.019343\n",
              "\n",
              "[10 rows x 63 columns]"
            ]
          },
          "metadata": {
            "tags": []
          },
          "execution_count": 81
        }
      ]
    },
    {
      "cell_type": "code",
      "metadata": {
        "id": "VMNF9H-ySNpP",
        "colab_type": "code",
        "outputId": "b726e543-7da5-4c84-e72b-486404e02c28",
        "colab": {
          "base_uri": "https://localhost:8080/",
          "height": 80
        }
      },
      "source": [
        "result[result.rank_test_AUC == 1][['mean_train_AUC', 'std_train_AUC','mean_test_AUC', 'std_test_AUC']]"
      ],
      "execution_count": 0,
      "outputs": [
        {
          "output_type": "execute_result",
          "data": {
            "text/html": [
              "<div>\n",
              "<style scoped>\n",
              "    .dataframe tbody tr th:only-of-type {\n",
              "        vertical-align: middle;\n",
              "    }\n",
              "\n",
              "    .dataframe tbody tr th {\n",
              "        vertical-align: top;\n",
              "    }\n",
              "\n",
              "    .dataframe thead th {\n",
              "        text-align: right;\n",
              "    }\n",
              "</style>\n",
              "<table border=\"1\" class=\"dataframe\">\n",
              "  <thead>\n",
              "    <tr style=\"text-align: right;\">\n",
              "      <th></th>\n",
              "      <th>mean_train_AUC</th>\n",
              "      <th>std_train_AUC</th>\n",
              "      <th>mean_test_AUC</th>\n",
              "      <th>std_test_AUC</th>\n",
              "    </tr>\n",
              "  </thead>\n",
              "  <tbody>\n",
              "    <tr>\n",
              "      <th>125</th>\n",
              "      <td>0.921701</td>\n",
              "      <td>0.000456</td>\n",
              "      <td>0.902703</td>\n",
              "      <td>0.014056</td>\n",
              "    </tr>\n",
              "  </tbody>\n",
              "</table>\n",
              "</div>"
            ],
            "text/plain": [
              "     mean_train_AUC  std_train_AUC  mean_test_AUC  std_test_AUC\n",
              "125        0.921701       0.000456       0.902703      0.014056"
            ]
          },
          "metadata": {
            "tags": []
          },
          "execution_count": 88
        }
      ]
    },
    {
      "cell_type": "code",
      "metadata": {
        "id": "sUJlE0LqRLpK",
        "colab_type": "code",
        "outputId": "6ac5c160-ab26-4ad9-ce79-f9ec52a8cb7a",
        "colab": {
          "base_uri": "https://localhost:8080/",
          "height": 34
        }
      },
      "source": [
        "result.shape"
      ],
      "execution_count": 0,
      "outputs": [
        {
          "output_type": "execute_result",
          "data": {
            "text/plain": [
              "(132, 63)"
            ]
          },
          "metadata": {
            "tags": []
          },
          "execution_count": 82
        }
      ]
    },
    {
      "cell_type": "code",
      "metadata": {
        "id": "IDVc1olUroAS",
        "colab_type": "code",
        "colab": {}
      },
      "source": [
        "# Training score much higher than test score.\n",
        "# The standard deviation of the test score is large.\n",
        "result_auc = result[['mean_train_AUC', 'std_train_AUC','mean_test_AUC', 'std_test_AUC']]\n",
        "result_auc"
      ],
      "execution_count": 0,
      "outputs": []
    },
    {
      "cell_type": "code",
      "metadata": {
        "id": "2EXg2Oxyr2-g",
        "colab_type": "code",
        "colab": {}
      },
      "source": [
        "result_acc = result[['mean_train_Accuracy', 'std_train_Accuracy','mean_test_Accuracy', 'std_test_Accuracy']]\n",
        "result_acc"
      ],
      "execution_count": 0,
      "outputs": []
    },
    {
      "cell_type": "markdown",
      "metadata": {
        "id": "5F-wJfod4bRh",
        "colab_type": "text"
      },
      "source": [
        "**Detecting Overfiting**\n",
        "\n",
        "- CV Training Score >> CV Test Score\n",
        "  - overfitting in model fitting stage\n",
        "  - reduce complexity of classifer\n",
        "  - get more training data\n",
        "  - increase cv number\n",
        "- CV Test Score >> Validation Score\n",
        "  - overfitting in model tuning stage\n",
        "  - decrease cv number\n",
        "  - decrease size of parameter grid"
      ]
    },
    {
      "cell_type": "markdown",
      "metadata": {
        "id": "QtR_4lCrsiWv",
        "colab_type": "text"
      },
      "source": [
        "#### Finalizing the Model"
      ]
    },
    {
      "cell_type": "code",
      "metadata": {
        "id": "vPhPhPkhBkbE",
        "colab_type": "code",
        "colab": {}
      },
      "source": [
        "# Serializing your model\n",
        "\n",
        "# Development environment\n",
        "with open('pipe.pkl', 'wb') as file:\n",
        "  pickle.dump(best_model, file)"
      ],
      "execution_count": 0,
      "outputs": []
    },
    {
      "cell_type": "code",
      "metadata": {
        "id": "EyxtlVf35fXd",
        "colab_type": "code",
        "outputId": "45ef2671-b1af-4ff8-d744-4b80809730f8",
        "colab": {
          "base_uri": "https://localhost:8080/",
          "height": 221
        }
      },
      "source": [
        "# final model\n",
        "predict = best_model.predict(X_test)\n",
        "print(accuracy_score(y_test, predict))\n",
        "print(confusion_matrix(y_test,predict))\n",
        "print(classification_report(y_test,predict))"
      ],
      "execution_count": 0,
      "outputs": [
        {
          "output_type": "stream",
          "text": [
            "0.8662674650698603\n",
            "[[4728  217]\n",
            " [ 654  914]]\n",
            "              precision    recall  f1-score   support\n",
            "\n",
            "           0       0.88      0.96      0.92      4945\n",
            "           1       0.81      0.58      0.68      1568\n",
            "\n",
            "    accuracy                           0.87      6513\n",
            "   macro avg       0.84      0.77      0.80      6513\n",
            "weighted avg       0.86      0.87      0.86      6513\n",
            "\n"
          ],
          "name": "stdout"
        }
      ]
    },
    {
      "cell_type": "code",
      "metadata": {
        "id": "BylWOQV4W6DB",
        "colab_type": "code",
        "colab": {}
      },
      "source": [
        "from google.colab import files\n",
        "files.download(\"pipe.pkl\")"
      ],
      "execution_count": 0,
      "outputs": []
    },
    {
      "cell_type": "markdown",
      "metadata": {
        "colab_type": "text",
        "id": "GD7oOSWqJIOe"
      },
      "source": [
        "### 2.3.4 Final Remarks"
      ]
    },
    {
      "cell_type": "markdown",
      "metadata": {
        "colab_type": "text",
        "id": "vcfesuIyMOY7"
      },
      "source": [
        "While the random forest algorithm is incredibly powerful, it isn't applicable to all tasks. The main **strengths** of a **Random Forest** are:\n",
        "\n",
        "- **Very accurate predictions** - Random forests achieve near state-of-the-art performance on many machine learning tasks. Along with neural networks and gradient-boosted trees, they're typically one of the top-performing algorithms.\n",
        "- **Resistance to overfitting** - Due to their construction, Random Forests are fairly resistant to overfitting. We still need to set and tweak parameters like **max_depth** though.\n",
        "\n",
        "The main **weaknesses** of using a **Random Forest** are:\n",
        "\n",
        "- **They're difficult to interpret** - Because we've averaging the results of many trees, it can be hard to figure out why a Random Forest is making predictions the way it is.\n",
        "- **They take longer to create** - Making two trees takes twice as long as making one, making three takes three times as long, and so on. Fortunately, we can exploit multicore processors to parallelize tree construction. Scikit allows us to do this through the **n_jobs** parameter on [RandomForestClassifier](http://scikit-learn.org/stable/modules/generated/sklearn.ensemble.RandomForestClassifier.html). We'll discuss parallelization in greater detail later on.\n",
        "\n",
        "Given these trade-offs, it makes sense to use Random Forests in situations where accuracy is of the utmost importance; being able to interpret or explain the decisions the model is making isn't key. In cases where time is of the essence or interpretability is important, a single decision tree may be a better choice."
      ]
    }
  ]
}