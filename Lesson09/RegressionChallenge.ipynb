{
  "nbformat": 4,
  "nbformat_minor": 0,
  "metadata": {
    "colab": {
      "name": "RegressionChallenge.ipynb",
      "version": "0.3.2",
      "provenance": [],
      "collapsed_sections": []
    },
    "kernelspec": {
      "name": "python3",
      "display_name": "Python 3"
    }
  },
  "cells": [
    {
      "cell_type": "code",
      "metadata": {
        "id": "yNiiOM-wQnkV",
        "colab_type": "code",
        "colab": {}
      },
      "source": [
        "from sklearn.neighbors import KNeighborsRegressor\n",
        "from sklearn.metrics import mean_squared_error\n",
        "import numpy as np\n",
        "import pandas as pd\n",
        "from google.colab import files"
      ],
      "execution_count": 0,
      "outputs": []
    },
    {
      "cell_type": "code",
      "metadata": {
        "id": "XqCOwzmGQ_4A",
        "colab_type": "code",
        "colab": {}
      },
      "source": [
        "# read the datasets\n",
        "train = pd.read_csv(\"train.csv\")\n",
        "test = pd.read_csv(\"test.csv\")"
      ],
      "execution_count": 0,
      "outputs": []
    },
    {
      "cell_type": "code",
      "metadata": {
        "id": "E__7MnXLRMNT",
        "colab_type": "code",
        "colab": {}
      },
      "source": [
        "# instantiate a knn object\n",
        "knn = KNeighborsRegressor(n_neighbors=5, n_jobs=-1)\n",
        "\n",
        "X = train.drop(labels=\"price\",axis=1)\n",
        "y = train[\"price\"]\n",
        "\n",
        "# train the model\n",
        "knn.fit(X[[\"accommodates\",\"minimum_nights\"]],y)\n",
        "\n",
        "# predict\n",
        "predict = knn.predict(test[[\"accommodates\",\"minimum_nights\"]])"
      ],
      "execution_count": 0,
      "outputs": []
    },
    {
      "cell_type": "code",
      "metadata": {
        "id": "osvTrtV5RR2Y",
        "colab_type": "code",
        "colab": {}
      },
      "source": [
        "# prepare a submission file\n",
        "submission_df = {\"id\": test.index, \"price\": predict}\n",
        "submission = pd.DataFrame(submission_df)\n",
        "submission.to_csv(\"submission.csv\",index=False)"
      ],
      "execution_count": 0,
      "outputs": []
    },
    {
      "cell_type": "code",
      "metadata": {
        "id": "-VK3a1yuRl5Y",
        "colab_type": "code",
        "colab": {}
      },
      "source": [
        "files.download(\"submission.csv\")"
      ],
      "execution_count": 0,
      "outputs": []
    }
  ]
}