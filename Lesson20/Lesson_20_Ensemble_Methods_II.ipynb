{
  "nbformat": 4,
  "nbformat_minor": 0,
  "metadata": {
    "colab": {
      "name": "Lesson #20 Ensemble Methods II.ipynb",
      "provenance": [],
      "collapsed_sections": []
    },
    "kernelspec": {
      "name": "python3",
      "display_name": "Python 3"
    },
    "accelerator": "GPU"
  },
  "cells": [
    {
      "cell_type": "markdown",
      "metadata": {
        "id": "wPrg47Q60eeb",
        "colab_type": "text"
      },
      "source": [
        "# 1.0 Boosting"
      ]
    },
    {
      "cell_type": "markdown",
      "metadata": {
        "id": "raEJzDld1DH2",
        "colab_type": "text"
      },
      "source": [
        "**Boosting** (originally called hypothesis boosting) refers to any Ensemble method that can combine several weak learners into a strong learner. The general idea of most boosting methods is to train predictors sequentially, each trying to correct its predecessor. There are many boosting methods available, but by far the most popular are **AdaBoost** (short for Adaptive Boosting) and **Gradient Boosting**. Let’s start with AdaBoost."
      ]
    },
    {
      "cell_type": "markdown",
      "metadata": {
        "id": "ic2HkH_M27Fa",
        "colab_type": "text"
      },
      "source": [
        "## 1.1 AdaBoost"
      ]
    },
    {
      "cell_type": "markdown",
      "metadata": {
        "id": "BoHCVzG029yh",
        "colab_type": "text"
      },
      "source": [
        "One way for a new predictor to correct its predecessor is to **pay a bit more attention to the training instances that the predecessor underfitted**. This results in new predictors focusing more and more on the hard cases. This is the technique used by **AdaBoost**.\n",
        "\n",
        "For example, to build an AdaBoost classifier, a first base classifier (such as a Decision Tree) is trained and used to make predictions on the training set. The relative weight of misclassified training instances is then increased. A second classifier is trained using the updated weights and again it makes predictions on the training set, weights are updated, and so on.\n",
        "\n",
        "<img width=\"500\" alt=\"creating a repo\" src=\"https://drive.google.com/uc?export=view&id=1xAz0-6kXiScOPwpiuc9eHfFz3YwHJWxh\">\n",
        "\n",
        "Once all predictors are trained, the ensemble makes predictions very much like bagging or pasting, except that predictors have different weights depending on their overall accuracy on the weighted training set."
      ]
    },
    {
      "cell_type": "code",
      "metadata": {
        "id": "O6GOLXG6GRF0",
        "colab_type": "code",
        "colab": {}
      },
      "source": [
        "# source: https://github.com/ageron/handson-ml2/blob/master/07_ensemble_learning_and_random_forests.ipynb\n",
        "from matplotlib.colors import ListedColormap\n",
        "import numpy as np\n",
        "\n",
        "def plot_decision_boundary(clf, X, y, axes=[-1.5, 2.5, -1, 1.5], alpha=0.5, contour=True):\n",
        "    x1s = np.linspace(axes[0], axes[1], 100)\n",
        "    x2s = np.linspace(axes[2], axes[3], 100)\n",
        "    x1, x2 = np.meshgrid(x1s, x2s)\n",
        "    X_new = np.c_[x1.ravel(), x2.ravel()]\n",
        "    y_pred = clf.predict(X_new).reshape(x1.shape)\n",
        "    custom_cmap = ListedColormap(['#fafab0','#9898ff','#a0faa0'])\n",
        "    plt.contourf(x1, x2, y_pred, alpha=0.3, cmap=custom_cmap)\n",
        "    if contour:\n",
        "        custom_cmap2 = ListedColormap(['#7d7d58','#4c4c7f','#507d50'])\n",
        "        plt.contour(x1, x2, y_pred, cmap=custom_cmap2, alpha=0.8)\n",
        "    plt.plot(X[:, 0][y==0], X[:, 1][y==0], \"yo\", alpha=alpha)\n",
        "    plt.plot(X[:, 0][y==1], X[:, 1][y==1], \"bs\", alpha=alpha)\n",
        "    plt.axis(axes)\n",
        "    plt.xlabel(r\"$x_1$\", fontsize=18)\n",
        "    plt.ylabel(r\"$x_2$\", fontsize=18, rotation=0)"
      ],
      "execution_count": 0,
      "outputs": []
    },
    {
      "cell_type": "code",
      "metadata": {
        "id": "9-VVEood3yGF",
        "colab_type": "code",
        "outputId": "4eb88610-2c79-47e8-c42d-f5ab2bb80a2a",
        "colab": {
          "base_uri": "https://localhost:8080/",
          "height": 283
        }
      },
      "source": [
        "from sklearn.model_selection import train_test_split\n",
        "from sklearn.datasets import make_moons\n",
        "import pandas as pd\n",
        "import matplotlib.pyplot as plt\n",
        "\n",
        "# generate 2d classification dataset\n",
        "X, y = make_moons(n_samples=500, noise=0.30, random_state=42)\n",
        "\n",
        "# scatter plot, dots colored by class value\n",
        "df = pd.DataFrame(dict(x=X[:,0], y=X[:,1], label=y))\n",
        "colors = {0:'red', 1:'blue'}\n",
        "fig, ax = plt.subplots()\n",
        "grouped = df.groupby('label')\n",
        "for key, group in grouped:\n",
        "    group.plot(ax=ax, kind='scatter', x='x', y='y', label=key, color=colors[key])\n",
        "plt.show()"
      ],
      "execution_count": 0,
      "outputs": [
        {
          "output_type": "display_data",
          "data": {
            "image/png": "[encoded data removed]",
            "text/plain": [
              "<Figure size 432x288 with 1 Axes>"
            ]
          },
          "metadata": {
            "tags": []
          }
        }
      ]
    },
    {
      "cell_type": "code",
      "metadata": {
        "id": "9knFA8-wF7NO",
        "colab_type": "code",
        "colab": {}
      },
      "source": [
        "# split dataset into train and test\n",
        "X_train, X_test, y_train, y_test = train_test_split(X, y, test_size=0.20,random_state=42)"
      ],
      "execution_count": 0,
      "outputs": []
    },
    {
      "cell_type": "markdown",
      "metadata": {
        "id": "Op4RoGz2JQMU",
        "colab_type": "text"
      },
      "source": [
        "Scikit-Learn actually uses a multiclass version of [AdaBoost called SAMME](https://scikit-learn.org/stable/modules/generated/sklearn.ensemble.AdaBoostClassifier.html) (which stands for Stagewise Additive Modeling using a Multiclass Exponential loss function). When there are just two classes, SAMME is equivalent to AdaBoost. Moreover, if the\n",
        "predictors can estimate class probabilities (i.e., if they have a **predict_proba()**\n",
        "method), Scikit-Learn can use a variant of SAMME called **SAMME.R** (the R stands for \"Real\"), which relies on class probabilities rather than predictions and generally performs better.\n",
        "\n",
        "The following code trains an AdaBoost classifier based on 200 Decision Stumps using Scikit-Learn’s AdaBoostClassifier class (as you might expect, there is also an Ada BoostRegressor class). A Decision Stump is a Decision Tree with **max_depth=1**, in other words, a tree composed of a single decision node plus two leaf nodes. This is the default base estimator for the AdaBoostClassifier class."
      ]
    },
    {
      "cell_type": "code",
      "metadata": {
        "id": "DhWBT847Gr1H",
        "colab_type": "code",
        "outputId": "195cf17a-fa1f-4ef1-9192-de0a695cf503",
        "colab": {
          "base_uri": "https://localhost:8080/",
          "height": 297
        }
      },
      "source": [
        "from sklearn.ensemble import AdaBoostClassifier\n",
        "from sklearn.tree import DecisionTreeClassifier\n",
        "from sklearn.metrics import accuracy_score\n",
        "\n",
        "plt.figure(figsize=(11, 4))\n",
        "\n",
        "for subplot, learning_rate in ((131, 1), (132, 0.5), (133, 0.1)):\n",
        "  plt.subplot(subplot)\n",
        "  ada_clf = AdaBoostClassifier(DecisionTreeClassifier(max_depth=1), \n",
        "                             n_estimators=200,\n",
        "                             algorithm=\"SAMME.R\", \n",
        "                             learning_rate=learning_rate, \n",
        "                             random_state=42)\n",
        "  ada_clf.fit(X_train, y_train)\n",
        "  plot_decision_boundary(ada_clf, X, y)\n",
        "\n",
        "  plt.title(\"learning_rate = {0}, acc ({1})\".format(learning_rate,\n",
        "                                                    accuracy_score(y_test,ada_clf.predict(X_test))),\n",
        "            fontsize=12)\n",
        "\n",
        "plt.tight_layout()\n",
        "plt.show()"
      ],
      "execution_count": 0,
      "outputs": [
        {
          "output_type": "display_data",
          "data": {
            "image/png": "[encoded data removed]",
            "text/plain": [
              "<Figure size 792x288 with 3 Axes>"
            ]
          },
          "metadata": {
            "tags": []
          }
        }
      ]
    },
    {
      "cell_type": "markdown",
      "metadata": {
        "id": "i7OHEBaeIDfc",
        "colab_type": "text"
      },
      "source": [
        "\n",
        "## 1.2 Gradient Boosting\n"
      ]
    },
    {
      "cell_type": "markdown",
      "metadata": {
        "id": "N_F2aBb5wedn",
        "colab_type": "text"
      },
      "source": [
        "Another very popular Boosting algorithm is **Gradient Boosting**. Just like AdaBoost, Gradient Boosting works by sequentially adding predictors to an ensemble, each one correcting its predecessor. However, instead of tweaking the instance weights at every iteration like AdaBoost does, **this method tries to fit the new predictor to the residual errors made by the previous predictor**.\n",
        "\n",
        "Let’s go through a simple regression example using Decision Trees as the base predictors (of course Gradient Boosting also works great with classification tasks). This is called **Gradient Tree Boosting**, or **Gradient Boosted Regression Trees (GBRT)**. First, let’s fit a DecisionTreeRegressor to the training set (for example, a noisy quadratic training set):"
      ]
    },
    {
      "cell_type": "code",
      "metadata": {
        "id": "gtmoOCW5xkLl",
        "colab_type": "code",
        "outputId": "4737ab95-cef2-4c0c-eac4-dc71dc6b245d",
        "colab": {
          "base_uri": "https://localhost:8080/",
          "height": 102
        }
      },
      "source": [
        "from sklearn.tree import DecisionTreeRegressor\n",
        "import numpy as np\n",
        "\n",
        "np.random.seed(42)\n",
        "X = np.random.rand(100, 1) - 0.5\n",
        "y = 3*X[:, 0]**2 + 0.05 * np.random.randn(100)\n",
        "\n",
        "# create a simple DecisionTreeRegressor\n",
        "tree_reg1 = DecisionTreeRegressor(max_depth=2, random_state=42)\n",
        "tree_reg1.fit(X, y)"
      ],
      "execution_count": 0,
      "outputs": [
        {
          "output_type": "execute_result",
          "data": {
            "text/plain": [
              "DecisionTreeRegressor(criterion='mse', max_depth=2, max_features=None,\n",
              "                      max_leaf_nodes=None, min_impurity_decrease=0.0,\n",
              "                      min_impurity_split=None, min_samples_leaf=1,\n",
              "                      min_samples_split=2, min_weight_fraction_leaf=0.0,\n",
              "                      presort=False, random_state=42, splitter='best')"
            ]
          },
          "metadata": {
            "tags": []
          },
          "execution_count": 2
        }
      ]
    },
    {
      "cell_type": "code",
      "metadata": {
        "id": "ALY8hfP_499_",
        "colab_type": "code",
        "outputId": "f7b31a66-3397-48b9-d76a-40747d2fa4bf",
        "colab": {
          "base_uri": "https://localhost:8080/",
          "height": 102
        }
      },
      "source": [
        "# now train a second DecisionTreeRegressor \n",
        "# on the residual errors made by the first predictor\n",
        "y2 = y - tree_reg1.predict(X)\n",
        "tree_reg2 = DecisionTreeRegressor(max_depth=2, random_state=42)\n",
        "tree_reg2.fit(X, y2)"
      ],
      "execution_count": 0,
      "outputs": [
        {
          "output_type": "execute_result",
          "data": {
            "text/plain": [
              "DecisionTreeRegressor(criterion='mse', max_depth=2, max_features=None,\n",
              "                      max_leaf_nodes=None, min_impurity_decrease=0.0,\n",
              "                      min_impurity_split=None, min_samples_leaf=1,\n",
              "                      min_samples_split=2, min_weight_fraction_leaf=0.0,\n",
              "                      presort=False, random_state=42, splitter='best')"
            ]
          },
          "metadata": {
            "tags": []
          },
          "execution_count": 3
        }
      ]
    },
    {
      "cell_type": "code",
      "metadata": {
        "id": "dbLmRE015COf",
        "colab_type": "code",
        "outputId": "61f3f864-0587-4147-fac5-c3724af625d4",
        "colab": {
          "base_uri": "https://localhost:8080/",
          "height": 102
        }
      },
      "source": [
        "# then we train a third regressor on the residual errors\n",
        "# made by the second predictor\n",
        "y3 = y2 - tree_reg2.predict(X)\n",
        "tree_reg3 = DecisionTreeRegressor(max_depth=2, random_state=42)\n",
        "tree_reg3.fit(X, y3)"
      ],
      "execution_count": 0,
      "outputs": [
        {
          "output_type": "execute_result",
          "data": {
            "text/plain": [
              "DecisionTreeRegressor(criterion='mse', max_depth=2, max_features=None,\n",
              "                      max_leaf_nodes=None, min_impurity_decrease=0.0,\n",
              "                      min_impurity_split=None, min_samples_leaf=1,\n",
              "                      min_samples_split=2, min_weight_fraction_leaf=0.0,\n",
              "                      presort=False, random_state=42, splitter='best')"
            ]
          },
          "metadata": {
            "tags": []
          },
          "execution_count": 5
        }
      ]
    },
    {
      "cell_type": "markdown",
      "metadata": {
        "id": "h78el_pU5YJq",
        "colab_type": "text"
      },
      "source": [
        "Now we have an ensemble containing three trees. It can make predictions on a new instance simply by adding up the predictions of all the trees:"
      ]
    },
    {
      "cell_type": "code",
      "metadata": {
        "id": "id0n-1Xg5ZD3",
        "colab_type": "code",
        "outputId": "4dbb5bf4-c1ed-4cc1-b02a-e19643e1c438",
        "colab": {
          "base_uri": "https://localhost:8080/",
          "height": 34
        }
      },
      "source": [
        "X_new = np.array([[0.6]])\n",
        "y_pred = sum(tree.predict(X_new) for tree in (tree_reg1, tree_reg2, tree_reg3))\n",
        "y_pred"
      ],
      "execution_count": 0,
      "outputs": [
        {
          "output_type": "execute_result",
          "data": {
            "text/plain": [
              "array([0.75026781])"
            ]
          },
          "metadata": {
            "tags": []
          },
          "execution_count": 6
        }
      ]
    },
    {
      "cell_type": "markdown",
      "metadata": {
        "id": "KrsT6raq5t8B",
        "colab_type": "text"
      },
      "source": [
        "The figure below represents the predictions of these three trees in the left column, and the ensemble’s predictions in the right column. In the first row, the ensemble has just one tree, so its predictions are exactly the same as the first tree’s predictions. In the second row, a new tree is trained on the residual errors of the first tree. On the right you can see that the ensemble’s predictions are equal to the sum of the predictions of the first\n",
        "two trees. Similarly, in the third row another tree is trained on the residual errors of the second tree. You can see that the ensemble’s predictions gradually get better as trees are added to the ensemble."
      ]
    },
    {
      "cell_type": "code",
      "metadata": {
        "id": "lrrok3RY5eFF",
        "colab_type": "code",
        "colab": {}
      },
      "source": [
        "def plot_predictions(regressors, X, y, axes, label=None, style=\"r-\", data_style=\"b.\", data_label=None):\n",
        "    x1 = np.linspace(axes[0], axes[1], 500)\n",
        "    y_pred = sum(regressor.predict(x1.reshape(-1, 1)) for regressor in regressors)\n",
        "    plt.plot(X[:, 0], y, data_style, label=data_label)\n",
        "    plt.plot(x1, y_pred, style, linewidth=2, label=label)\n",
        "    if label or data_label:\n",
        "        plt.legend(loc=\"upper center\", fontsize=16)\n",
        "    plt.axis(axes)"
      ],
      "execution_count": 0,
      "outputs": []
    },
    {
      "cell_type": "code",
      "metadata": {
        "id": "vKhdY4U56AsE",
        "colab_type": "code",
        "outputId": "5e02e38a-cb19-4f6e-8972-1c79c2f837b5",
        "colab": {
          "base_uri": "https://localhost:8080/",
          "height": 801
        }
      },
      "source": [
        "import matplotlib.pyplot as plt\n",
        "\n",
        "plt.figure(figsize=(11,11))\n",
        "\n",
        "plt.subplot(321)\n",
        "plot_predictions([tree_reg1], X, y, axes=[-0.5, 0.5, -0.1, 0.8], label=\"$h_1(x_1)$\", style=\"g-\", data_label=\"Training set\")\n",
        "plt.ylabel(\"$y$\", fontsize=16, rotation=0)\n",
        "plt.title(\"Residuals and tree predictions\", fontsize=16)\n",
        "\n",
        "plt.subplot(322)\n",
        "plot_predictions([tree_reg1], X, y, axes=[-0.5, 0.5, -0.1, 0.8], label=\"$h(x_1) = h_1(x_1)$\", data_label=\"Training set\")\n",
        "plt.ylabel(\"$y$\", fontsize=16, rotation=0)\n",
        "plt.title(\"Ensemble predictions\", fontsize=16)\n",
        "\n",
        "plt.subplot(323)\n",
        "plot_predictions([tree_reg2], X, y2, axes=[-0.5, 0.5, -0.5, 0.5], label=\"$h_2(x_1)$\", style=\"g-\", data_style=\"k+\", data_label=\"Residuals\")\n",
        "plt.ylabel(\"$y - h_1(x_1)$\", fontsize=16)\n",
        "\n",
        "plt.subplot(324)\n",
        "plot_predictions([tree_reg1, tree_reg2], X, y, axes=[-0.5, 0.5, -0.1, 0.8], label=\"$h(x_1) = h_1(x_1) + h_2(x_1)$\")\n",
        "plt.ylabel(\"$y$\", fontsize=16, rotation=0)\n",
        "\n",
        "plt.subplot(325)\n",
        "plot_predictions([tree_reg3], X, y3, axes=[-0.5, 0.5, -0.5, 0.5], label=\"$h_3(x_1)$\", style=\"g-\", data_style=\"k+\")\n",
        "plt.ylabel(\"$y - h_1(x_1) - h_2(x_1)$\", fontsize=16)\n",
        "plt.xlabel(\"$x_1$\", fontsize=16)\n",
        "\n",
        "plt.subplot(326)\n",
        "plot_predictions([tree_reg1, tree_reg2, tree_reg3], X, y, axes=[-0.5, 0.5, -0.1, 0.8], label=\"$h(x_1) = h_1(x_1) + h_2(x_1) + h_3(x_1)$\")\n",
        "plt.xlabel(\"$x_1$\", fontsize=16)\n",
        "plt.ylabel(\"$y$\", fontsize=16, rotation=0)\n",
        "\n",
        "plt.tight_layout()\n",
        "plt.show()"
      ],
      "execution_count": 0,
      "outputs": [
        {
          "output_type": "display_data",
          "data": {
            "image/png": "[encoded data removed]",
            "text/plain": [
              "<Figure size 792x792 with 6 Axes>"
            ]
          },
          "metadata": {
            "tags": []
          }
        }
      ]
    },
    {
      "cell_type": "markdown",
      "metadata": {
        "id": "5LKR7Nv66BW6",
        "colab_type": "text"
      },
      "source": [
        "A simpler way to train GBRT ensembles is to use Scikit-Learn’s [GradientBoostingRegressor](https://scikit-learn.org/stable/modules/generated/sklearn.ensemble.GradientBoostingRegressor.html) class. Much like the RandomForestRegressor class, it has hyperparameters to control the growth of Decision Trees (e.g., **max_depth**, **min_samples_leaf**, and so on), as well as hyperparameters to control the ensemble training, such as the number of trees (**n_estimators**). The following code creates the same ensemble as the previous one:"
      ]
    },
    {
      "cell_type": "code",
      "metadata": {
        "id": "R2RzY4766-4K",
        "colab_type": "code",
        "outputId": "e78cf92c-e8e9-4308-ca82-1378747635ee",
        "colab": {
          "base_uri": "https://localhost:8080/",
          "height": 170
        }
      },
      "source": [
        "from sklearn.ensemble import GradientBoostingRegressor\n",
        "\n",
        "gbrt = GradientBoostingRegressor(max_depth=2, \n",
        "                                 n_estimators=3, \n",
        "                                 learning_rate=1.0, \n",
        "                                 random_state=42)\n",
        "gbrt.fit(X, y)"
      ],
      "execution_count": 0,
      "outputs": [
        {
          "output_type": "execute_result",
          "data": {
            "text/plain": [
              "GradientBoostingRegressor(alpha=0.9, criterion='friedman_mse', init=None,\n",
              "                          learning_rate=1.0, loss='ls', max_depth=2,\n",
              "                          max_features=None, max_leaf_nodes=None,\n",
              "                          min_impurity_decrease=0.0, min_impurity_split=None,\n",
              "                          min_samples_leaf=1, min_samples_split=2,\n",
              "                          min_weight_fraction_leaf=0.0, n_estimators=3,\n",
              "                          n_iter_no_change=None, presort='auto',\n",
              "                          random_state=42, subsample=1.0, tol=0.0001,\n",
              "                          validation_fraction=0.1, verbose=0, warm_start=False)"
            ]
          },
          "metadata": {
            "tags": []
          },
          "execution_count": 11
        }
      ]
    },
    {
      "cell_type": "code",
      "metadata": {
        "id": "rN_s46cM7eDN",
        "colab_type": "code",
        "outputId": "db4b7d92-d948-4cf6-96ed-36721a399212",
        "colab": {
          "base_uri": "https://localhost:8080/",
          "height": 297
        }
      },
      "source": [
        "plt.figure(figsize=(11,4))\n",
        "\n",
        "plt.subplot(121)\n",
        "plot_predictions([tree_reg1, tree_reg2, tree_reg3], X, y, axes=[-0.5, 0.5, -0.1, 0.8], label=\"$h(x_1) = h_1(x_1) + h_2(x_1) + h_3(x_1)$\")\n",
        "plt.xlabel(\"$x_1$\", fontsize=16)\n",
        "plt.ylabel(\"$y$\", fontsize=16, rotation=0)\n",
        "\n",
        "# learning rate = 1\n",
        "# n_estimators = 3\n",
        "plt.subplot(122)\n",
        "plot_predictions([gbrt], X, y, axes=[-0.5, 0.5, -0.1, 0.8], label=\"Using Sklearn\")\n",
        "plt.xlabel(\"$x_1$\", fontsize=16)\n",
        "plt.ylabel(\"$y$\", fontsize=16, rotation=0)\n",
        "\n",
        "plt.tight_layout()\n",
        "plt.show()"
      ],
      "execution_count": 0,
      "outputs": [
        {
          "output_type": "display_data",
          "data": {
            "image/png": "[encoded data removed]",
            "text/plain": [
              "<Figure size 792x288 with 2 Axes>"
            ]
          },
          "metadata": {
            "tags": []
          }
        }
      ]
    },
    {
      "cell_type": "markdown",
      "metadata": {
        "id": "BuAoUAZN7tHB",
        "colab_type": "text"
      },
      "source": [
        "The **learning_rate** hyperparameter scales the contribution of each tree. If you set it to a low value, such as 0.1, you will need more trees in the ensemble to fit the training set, but the predictions will usually generalize better. This is a regularization technique\n",
        "called **shrinkage**. Figure below shows two GBRT ensembles trained with a low\n",
        "learning rate: the one on the left does not have enough trees to fit the training set, while the one on the right has too many trees and overfits the training set."
      ]
    },
    {
      "cell_type": "code",
      "metadata": {
        "id": "8VMuVUU_BJwY",
        "colab_type": "code",
        "outputId": "b980039e-8f0f-4f08-c7bc-21056a125400",
        "colab": {
          "base_uri": "https://localhost:8080/",
          "height": 170
        }
      },
      "source": [
        "gbrt_slow = GradientBoostingRegressor(max_depth=2, n_estimators=200, learning_rate=0.1, random_state=42)\n",
        "gbrt_slow.fit(X, y)"
      ],
      "execution_count": 0,
      "outputs": [
        {
          "output_type": "execute_result",
          "data": {
            "text/plain": [
              "GradientBoostingRegressor(alpha=0.9, criterion='friedman_mse', init=None,\n",
              "                          learning_rate=0.1, loss='ls', max_depth=2,\n",
              "                          max_features=None, max_leaf_nodes=None,\n",
              "                          min_impurity_decrease=0.0, min_impurity_split=None,\n",
              "                          min_samples_leaf=1, min_samples_split=2,\n",
              "                          min_weight_fraction_leaf=0.0, n_estimators=200,\n",
              "                          n_iter_no_change=None, presort='auto',\n",
              "                          random_state=42, subsample=1.0, tol=0.0001,\n",
              "                          validation_fraction=0.1, verbose=0, warm_start=False)"
            ]
          },
          "metadata": {
            "tags": []
          },
          "execution_count": 21
        }
      ]
    },
    {
      "cell_type": "code",
      "metadata": {
        "id": "fU1LioNbBPCt",
        "colab_type": "code",
        "outputId": "d5a436cd-f6d0-4700-9915-de0f01a285e2",
        "colab": {
          "base_uri": "https://localhost:8080/",
          "height": 282
        }
      },
      "source": [
        "plt.figure(figsize=(11,4))\n",
        "\n",
        "plt.subplot(121)\n",
        "plot_predictions([gbrt], X, y, axes=[-0.5, 0.5, -0.1, 0.8], label=\"Ensemble predictions\")\n",
        "plt.title(\"learning_rate={}, n_estimators={}\".format(gbrt.learning_rate, gbrt.n_estimators), fontsize=14)\n",
        "\n",
        "plt.subplot(122)\n",
        "plot_predictions([gbrt_slow], X, y, axes=[-0.5, 0.5, -0.1, 0.8])\n",
        "plt.title(\"learning_rate={}, n_estimators={}\".format(gbrt_slow.learning_rate, gbrt_slow.n_estimators), fontsize=14)\n",
        "\n",
        "plt.show()"
      ],
      "execution_count": 0,
      "outputs": [
        {
          "output_type": "display_data",
          "data": {
            "image/png": "[encoded data removed]",
            "text/plain": [
              "<Figure size 792x288 with 2 Axes>"
            ]
          },
          "metadata": {
            "tags": []
          }
        }
      ]
    },
    {
      "cell_type": "markdown",
      "metadata": {
        "id": "mLz3Xu32BTl7",
        "colab_type": "text"
      },
      "source": [
        "### 1.2.1 Early stopping"
      ]
    },
    {
      "cell_type": "markdown",
      "metadata": {
        "id": "Cov5nPlHEOPi",
        "colab_type": "text"
      },
      "source": [
        "In order to find the optimal number of trees, you can use early stopping. A simple way to implement this is to use the **staged_predict()** method: it\n",
        "returns an iterator over the predictions made by the ensemble at each stage of training (with one tree, two trees, etc.). The following code trains a GBRT ensemble with 120 trees, then measures the validation error at each stage of training to find the optimal number of trees, and finally trains another GBRT ensemble using the optimal number of trees:"
      ]
    },
    {
      "cell_type": "code",
      "metadata": {
        "id": "CE_3PxKqHN3s",
        "colab_type": "code",
        "outputId": "8eb01212-fef7-481e-d50f-531be84a08ee",
        "colab": {
          "base_uri": "https://localhost:8080/",
          "height": 170
        }
      },
      "source": [
        "import numpy as np\n",
        "from sklearn.model_selection import train_test_split\n",
        "from sklearn.metrics import mean_squared_error\n",
        "\n",
        "X_train, X_test, y_train, y_test = train_test_split(X, y, random_state=49)\n",
        "\n",
        "gbrt = GradientBoostingRegressor(max_depth=2, n_estimators=120, random_state=42)\n",
        "gbrt.fit(X_train, y_train)\n",
        "\n",
        "errors = [mean_squared_error(y_test, y_pred) \n",
        "            for y_pred in gbrt.staged_predict(X_test)]\n",
        "bst_n_estimators = np.argmin(errors) + 1\n",
        "\n",
        "gbrt_best = GradientBoostingRegressor(max_depth=2, n_estimators=bst_n_estimators, random_state=42)\n",
        "gbrt_best.fit(X_train, y_train)"
      ],
      "execution_count": 0,
      "outputs": [
        {
          "output_type": "execute_result",
          "data": {
            "text/plain": [
              "GradientBoostingRegressor(alpha=0.9, criterion='friedman_mse', init=None,\n",
              "                          learning_rate=0.1, loss='ls', max_depth=2,\n",
              "                          max_features=None, max_leaf_nodes=None,\n",
              "                          min_impurity_decrease=0.0, min_impurity_split=None,\n",
              "                          min_samples_leaf=1, min_samples_split=2,\n",
              "                          min_weight_fraction_leaf=0.0, n_estimators=56,\n",
              "                          n_iter_no_change=None, presort='auto',\n",
              "                          random_state=42, subsample=1.0, tol=0.0001,\n",
              "                          validation_fraction=0.1, verbose=0, warm_start=False)"
            ]
          },
          "metadata": {
            "tags": []
          },
          "execution_count": 29
        }
      ]
    },
    {
      "cell_type": "code",
      "metadata": {
        "id": "tUYmVq8oHh8p",
        "colab_type": "code",
        "outputId": "7555fc1f-fb69-4981-cc5f-4fc2bc66cff4",
        "colab": {
          "base_uri": "https://localhost:8080/",
          "height": 34
        }
      },
      "source": [
        "min_error = np.min(errors)\n",
        "min_error"
      ],
      "execution_count": 0,
      "outputs": [
        {
          "output_type": "execute_result",
          "data": {
            "text/plain": [
              "0.002712853325235463"
            ]
          },
          "metadata": {
            "tags": []
          },
          "execution_count": 30
        }
      ]
    },
    {
      "cell_type": "code",
      "metadata": {
        "id": "DIH5GFcAHk-R",
        "colab_type": "code",
        "outputId": "100a2f4a-f966-4fad-b9e5-cc5f3765a31d",
        "colab": {
          "base_uri": "https://localhost:8080/",
          "height": 313
        }
      },
      "source": [
        "plt.figure(figsize=(11, 4))\n",
        "\n",
        "plt.subplot(121)\n",
        "plt.plot(errors, \"b.-\")\n",
        "plt.plot([bst_n_estimators, bst_n_estimators], [0, min_error], \"k--\")\n",
        "plt.plot([0, 120], [min_error, min_error], \"k--\")\n",
        "plt.plot(bst_n_estimators, min_error, \"ko\")\n",
        "plt.text(bst_n_estimators, min_error*1.2, \"Minimum\", ha=\"center\", fontsize=14)\n",
        "plt.axis([0, 120, 0, 0.01])\n",
        "plt.xlabel(\"Number of trees\")\n",
        "plt.title(\"Validation error\", fontsize=14)\n",
        "\n",
        "plt.subplot(122)\n",
        "plot_predictions([gbrt_best], X, y, axes=[-0.5, 0.5, -0.1, 0.8])\n",
        "plt.title(\"Best model (%d trees)\" % bst_n_estimators, fontsize=14)\n",
        "\n",
        "print(\"Minimum validation MSE:\", mean_squared_error(y_test, gbrt_best.predict(X_test)))\n",
        "\n",
        "plt.show()"
      ],
      "execution_count": 0,
      "outputs": [
        {
          "output_type": "stream",
          "text": [
            "Minimum validation MSE: 0.002712853325235463\n"
          ],
          "name": "stdout"
        },
        {
          "output_type": "display_data",
          "data": {
            "image/png": "[encoded data removed]",
            "text/plain": [
              "<Figure size 792x288 with 2 Axes>"
            ]
          },
          "metadata": {
            "tags": []
          }
        }
      ]
    },
    {
      "cell_type": "markdown",
      "metadata": {
        "id": "j-LigoxNHvaW",
        "colab_type": "text"
      },
      "source": [
        "It is also possible to implement early stopping by actually stopping training early (instead of training a large number of trees first and then looking back to find the optimal number). You can do so by setting **warm_start=True**, which makes Scikit-Learn keep existing trees when the fit() method is called, allowing incremental training. The following code stops training when the validation error does not improve for five iterations in a row:"
      ]
    },
    {
      "cell_type": "code",
      "metadata": {
        "id": "hk3CTF8LIkc9",
        "colab_type": "code",
        "colab": {}
      },
      "source": [
        "gbrt = GradientBoostingRegressor(max_depth=2, warm_start=True, random_state=42)\n",
        "\n",
        "min_val_error = float(\"inf\")\n",
        "error_going_up = 0\n",
        "for n_estimators in range(1, 120):\n",
        "    gbrt.n_estimators = n_estimators\n",
        "    gbrt.fit(X_train, y_train)\n",
        "    y_pred = gbrt.predict(X_test)\n",
        "    val_error = mean_squared_error(y_test, y_pred)\n",
        "    if val_error < min_val_error:\n",
        "        min_val_error = val_error\n",
        "        error_going_up = 0\n",
        "    else:\n",
        "        error_going_up += 1\n",
        "        if error_going_up == 5:\n",
        "            break  # early stopping"
      ],
      "execution_count": 0,
      "outputs": []
    },
    {
      "cell_type": "code",
      "metadata": {
        "id": "S4WgK-1bIwym",
        "colab_type": "code",
        "outputId": "59c6e7c4-aa4a-48a7-dbae-11fe7d99a769",
        "colab": {
          "base_uri": "https://localhost:8080/",
          "height": 34
        }
      },
      "source": [
        "print(gbrt.n_estimators)"
      ],
      "execution_count": 0,
      "outputs": [
        {
          "output_type": "stream",
          "text": [
            "61\n"
          ],
          "name": "stdout"
        }
      ]
    },
    {
      "cell_type": "code",
      "metadata": {
        "id": "4SfSDJrTI2y5",
        "colab_type": "code",
        "outputId": "da1dcd71-078a-41fb-c8c8-69a0c8f3adee",
        "colab": {
          "base_uri": "https://localhost:8080/",
          "height": 34
        }
      },
      "source": [
        "print(\"Minimum validation MSE:\", min_val_error)"
      ],
      "execution_count": 0,
      "outputs": [
        {
          "output_type": "stream",
          "text": [
            "Minimum validation MSE: 0.002712853325235463\n"
          ],
          "name": "stdout"
        }
      ]
    },
    {
      "cell_type": "markdown",
      "metadata": {
        "id": "z6AZOqaEI6LR",
        "colab_type": "text"
      },
      "source": [
        "The GradientBoostingRegressor class also supports a subsample hyperparameter,\n",
        "which specifies the fraction of training instances to be used for training each tree. For example, if **subsample=0.25**, then each tree is trained on 25% of the training instances, selected randomly. As you can probably guess by now, this trades a higher bias for a lower variance. It also speeds up training considerably. This technique is called **Stochastic Gradient Boosting**."
      ]
    },
    {
      "cell_type": "markdown",
      "metadata": {
        "id": "wq1W7DJu1vHK",
        "colab_type": "text"
      },
      "source": [
        "### 1.2.2 Improvements to Basic Gradient Boosting"
      ]
    },
    {
      "cell_type": "markdown",
      "metadata": {
        "id": "6KJuYckJ1z6d",
        "colab_type": "text"
      },
      "source": [
        "Gradient boosting is a greedy algorithm and can overfit a training dataset quickly. It can benefit from regularization methods that penalize various parts of the algorithm and generally improve the performance of the algorithm by reducing overfitting. In this this section we will look at [four\n",
        "enhancements to basic gradient boosting](https://arxiv.org/pdf/1603.02754.pdf):\n",
        "\n",
        "1. Tree Constraints.\n",
        "2. Shrinkage.\n",
        "3. Random Sampling.\n",
        "4. Penalized Gradient Boosting.\n",
        "\n",
        "**Tree Constraints**\n",
        "\n",
        "It is important that the **weak learners have skill but remain weak**. There are a number of ways that the trees can be constrained. A good general heuristic is that the more constrained tree creation is, the more trees you will need in the model, and the reverse, where less constrained\n",
        "individual trees, the fewer trees that will be required. Below are some constraints that can be imposed on the construction of decision trees:\n",
        "\n",
        "- The advice is to keep adding trees until no further improvement is observed.\n",
        "- Tree depth, deeper trees are more complex trees and shorter trees are preferred. Generally, better results are seen with 4-8 levels.\n",
        "- Number of observations per split imposes a minimum constraint on the amount of training data at a training node before a split can be considered.\n",
        "\n",
        "**Weighted Updates**\n",
        "\n",
        "The predictions of each tree are added together sequentially. The contribution of each tree to this sum can be weighted to slow down the learning by the algorithm. This weighting is called a **shrinkage** or a **learning rate**.\n",
        "\n",
        "The effect is that learning is slowed down, in turn require more trees to be added to the model, in turn taking longer to train, providing a configuration trade-off\u000b between the number of trees and learning rate.\n",
        "\n",
        "- Decreasing the value of the learning rate increases the best value for the\n",
        "number of trees.\n",
        "- It is common to have small values for learning rate in the range of 0.1 to 0.3, as well as values less than 0.1.\n",
        "\n",
        "Similar to a learning rate in stochastic optimization, shrinkage reduces the influence of each individual tree and leaves space for future trees to improve the model.\n",
        "\n",
        "**Stochastic Gradient**\n",
        "\n",
        "A big insight into bagging ensembles and random forest was allowing trees to be greedily created from subsamples of the training dataset. This same benefit can be used to reduce the correlation between the trees in the sequence in gradient boosting models. This variation of boosting is called **stochastic gradient boosting**\n",
        "\n",
        "- at each iteration a subsample of the training data is drawn at random (without replacement) from the full training dataset. The randomly selected subsample is then used, instead of the full sample, to fit the base learner.\n",
        "- generally, aggressive sub-sampling such as selecting only 50% of the data has shown to be beneficial.\n",
        "\n",
        "A few variants of stochastic boosting that can be used:\n",
        "\n",
        "- Subsample rows before creating each tree.\n",
        "- Subsample columns before creating each tree\n",
        "- Subsample columns before considering each split.\n",
        "\n",
        "**Penalized Gradient Boosting**\n",
        "\n",
        "Additional constraints can be imposed on the parameterized trees in addition to their structure. Classical decision trees like CART are not used as weak learners, instead a modified form called a regression tree is used that has numeric values in the leaf nodes (also called terminal nodes). The values in the leaves of the trees can be called weights in some literature. As such, the leaf weight values of the trees can be regularized using popular regularization functions, such as:\n",
        "\n",
        "- $L^1$ regularization of weights.\n",
        "- $L^2$ regularization of weights.\n",
        "\n",
        "The additional regularization term helps to smooth the \fnal learnt weights to\n",
        "avoid over-\ftting. Intuitively, the regularized objective will tend to select a model employing simple and predictive functions.\n"
      ]
    },
    {
      "cell_type": "markdown",
      "metadata": {
        "id": "6vOIy17zpgSN",
        "colab_type": "text"
      },
      "source": [
        "## 1.3 eXtreme Gradient Boosting (XGboost)"
      ]
    },
    {
      "cell_type": "markdown",
      "metadata": {
        "id": "EWLuRkXKqAy7",
        "colab_type": "text"
      },
      "source": [
        "XGBoost is an algorithm that has recently been dominating applied machine learning and Kaggle competitions for structured or tabular data. XGBoost is an implementation of gradient boosted decision trees designed for speed and performance.\n",
        "\n",
        "XGBoost stands for **eXtreme Gradient Boosting**. The name XGBoost, though, actually refers to the engineering goal to push the limit of computations resources for boosted tree algorithms. Which is the reason why\n",
        "many people use XGBoost.\n",
        "\n",
        "It is an implementation of gradient boosting machines created by [Tianqi Chen](https://arxiv.org/abs/1603.02754), now with contributions from many developers. It belongs to a broader collection of tools under the umbrella of the Distributed Machine Learning Community or DMLC who are also the creators of the popular mxnet deep learning library. Tianqi Chen provides a brief and interesting back\n",
        "story on the creation of XGBoost in the tutorial Story and Lessons Behind the [Evolution of XGBoost](https://homes.cs.washington.edu/~tqchen/2016/03/10/story-and-lessons-behind-the-evolution-of-xgboost.html). XGBoost is a software library that you can download and install on your machine, then access from a variety of interfaces. Speci\fcally XGBoost supports the following main interfaces:\n",
        "\n",
        "- Command Line Interface (CLI).\n",
        "- C++ (the language in which the library is written).\n",
        "- Python interface as well as a model in scikit-learn.\n",
        "- R interface as well as a model in the caret package.\n",
        "- Julia support.\n",
        "- Java and JVM languages like Scala and platforms like Hadoop."
      ]
    },
    {
      "cell_type": "markdown",
      "metadata": {
        "id": "oyFitduitLf3",
        "colab_type": "text"
      },
      "source": [
        "### 1.3.1 XGBoost Features"
      ]
    },
    {
      "cell_type": "markdown",
      "metadata": {
        "id": "729K1597tROa",
        "colab_type": "text"
      },
      "source": [
        "The library is laser focused on computational speed and model performance, as such there are few frills. Nevertheless, it does o\u000ber a number of advanced features.\n",
        "\n",
        "The implementation of the model supports the features of the scikit-learn and R implementations, with new additions like regularization. Three main forms of gradient boosting are supported:\n",
        "\n",
        "- Gradient Boosting algorithm also called gradient boosting machine including the learning rate.\n",
        "- Stochastic Gradient Boosting with sub-sampling at the row, column and column per split levels.\n",
        "- Regularized Gradient Boosting with both $L^1$ and $L^2$ regularization.\n",
        "\n",
        "The library provides a system for use in a range of computing environments, not least:\n",
        "- Parallelization of tree construction using all of your CPU cores during training.\n",
        "- Distributed Computing for training very large models using a cluster of machines.\n",
        "- Out-of-Core Computing for very large datasets that don't \ft into memory.\n",
        "- Cache Optimization of data structures and algorithm to make best use of hardware."
      ]
    },
    {
      "cell_type": "markdown",
      "metadata": {
        "id": "pAPNAV44w9s9",
        "colab_type": "text"
      },
      "source": [
        "### 1.3.2 Why Use XGBoost?"
      ]
    },
    {
      "cell_type": "markdown",
      "metadata": {
        "id": "sgIaMRgXw_46",
        "colab_type": "text"
      },
      "source": [
        "The two reasons to use XGBoost are:\n",
        "\n",
        "- Execution Speed\n",
        "- Model Performance\n",
        "\n",
        "Generally, XGBoost is fast. Really fast when compared to other implementations of gradient boosting. Szilard Pafka performed some objective benchmarks comparing the performance of XGBoost to other implementations of gradient boosting and bagged decision trees. He wrote up his results in May 2015 in the blog tutorial titled [Benchmarking Random Forest\n",
        "Implementations](http://datascience.la/benchmarking-random-forest-implementations/). He also provides all the [code on GitHub](https://github.com/szilard/benchm-ml) and a more extensive report of results with hard numbers. His results showed that XGBoost was almost always faster than the other benchmarked\n",
        "implementations from R, Python Spark and H2O."
      ]
    },
    {
      "cell_type": "markdown",
      "metadata": {
        "id": "a9Q_ilW-8he0",
        "colab_type": "text"
      },
      "source": [
        "### 1.3.3 Case Study: using Sklearn Wrapper\n",
        "\n",
        "\n"
      ]
    },
    {
      "cell_type": "markdown",
      "metadata": {
        "colab_type": "text",
        "id": "JgRfEve-Jj3O"
      },
      "source": [
        "We'll continue using the same 1994 census data set on U.S. income. It contains information on **marital status**, **age**, **type of work**, and **more**. The target column, **high_income**, records salaries less than or equal to 50k a year (0), and more than 50k a year (1).\n",
        "\n",
        "You can download the data from the [University of California](http://archive.ics.uci.edu/ml/datasets/Adult), Irvine's website."
      ]
    },
    {
      "cell_type": "markdown",
      "metadata": {
        "id": "bLmrUN57_C3e",
        "colab_type": "text"
      },
      "source": [
        "#### Load Libraries\n"
      ]
    },
    {
      "cell_type": "code",
      "metadata": {
        "id": "rbunawTH_In8",
        "colab_type": "code",
        "colab": {}
      },
      "source": [
        "import pandas as pd\n",
        "import numpy as np\n",
        "import seaborn as sns\n",
        "import matplotlib.pyplot as plt\n",
        "from sklearn.model_selection import train_test_split\n",
        "from sklearn.model_selection import KFold\n",
        "from sklearn.model_selection import cross_val_score\n",
        "from sklearn.pipeline import Pipeline, FeatureUnion\n",
        "from sklearn.model_selection import GridSearchCV\n",
        "from sklearn.metrics import accuracy_score\n",
        "from sklearn.metrics import classification_report\n",
        "from sklearn.metrics import confusion_matrix\n",
        "import pydotplus\n",
        "from IPython.display import Image\n",
        "from sklearn import tree\n",
        "from sklearn.feature_selection import SelectKBest\n",
        "from sklearn.feature_selection import chi2\n",
        "from sklearn.metrics import make_scorer\n",
        "from sklearn.metrics import accuracy_score\n",
        "import pickle\n",
        "from sklearn.base import BaseEstimator, TransformerMixin\n",
        "from sklearn.preprocessing import StandardScaler\n",
        "from sklearn.preprocessing import MinMaxScaler\n",
        "from sklearn.ensemble import RandomForestClassifier\n",
        "from xgboost import XGBClassifier\n",
        "import time\n",
        "import xgboost as xgb"
      ],
      "execution_count": 0,
      "outputs": []
    },
    {
      "cell_type": "markdown",
      "metadata": {
        "id": "vywKM_HD-3tx",
        "colab_type": "text"
      },
      "source": [
        "#### Get the data"
      ]
    },
    {
      "cell_type": "code",
      "metadata": {
        "colab_type": "code",
        "id": "1nwfztMMK-gH",
        "outputId": "ace0f352-947a-47a0-b2a1-f286b6f4a968",
        "colab": {
          "base_uri": "https://localhost:8080/",
          "height": 292
        }
      },
      "source": [
        "import pandas as pd\n",
        "\n",
        "# load the dataset\n",
        "income = pd.read_csv(\"income.csv\")\n",
        "income.head()"
      ],
      "execution_count": 0,
      "outputs": [
        {
          "output_type": "execute_result",
          "data": {
            "text/html": [
              "<div>\n",
              "<style scoped>\n",
              "    .dataframe tbody tr th:only-of-type {\n",
              "        vertical-align: middle;\n",
              "    }\n",
              "\n",
              "    .dataframe tbody tr th {\n",
              "        vertical-align: top;\n",
              "    }\n",
              "\n",
              "    .dataframe thead th {\n",
              "        text-align: right;\n",
              "    }\n",
              "</style>\n",
              "<table border=\"1\" class=\"dataframe\">\n",
              "  <thead>\n",
              "    <tr style=\"text-align: right;\">\n",
              "      <th></th>\n",
              "      <th>age</th>\n",
              "      <th>workclass</th>\n",
              "      <th>fnlwgt</th>\n",
              "      <th>education</th>\n",
              "      <th>education_num</th>\n",
              "      <th>marital_status</th>\n",
              "      <th>occupation</th>\n",
              "      <th>relationship</th>\n",
              "      <th>race</th>\n",
              "      <th>sex</th>\n",
              "      <th>capital_gain</th>\n",
              "      <th>capital_loss</th>\n",
              "      <th>hours_per_week</th>\n",
              "      <th>native_country</th>\n",
              "      <th>high_income</th>\n",
              "    </tr>\n",
              "  </thead>\n",
              "  <tbody>\n",
              "    <tr>\n",
              "      <th>0</th>\n",
              "      <td>39</td>\n",
              "      <td>State-gov</td>\n",
              "      <td>77516</td>\n",
              "      <td>Bachelors</td>\n",
              "      <td>13</td>\n",
              "      <td>Never-married</td>\n",
              "      <td>Adm-clerical</td>\n",
              "      <td>Not-in-family</td>\n",
              "      <td>White</td>\n",
              "      <td>Male</td>\n",
              "      <td>2174</td>\n",
              "      <td>0</td>\n",
              "      <td>40</td>\n",
              "      <td>United-States</td>\n",
              "      <td>&lt;=50K</td>\n",
              "    </tr>\n",
              "    <tr>\n",
              "      <th>1</th>\n",
              "      <td>50</td>\n",
              "      <td>Self-emp-not-inc</td>\n",
              "      <td>83311</td>\n",
              "      <td>Bachelors</td>\n",
              "      <td>13</td>\n",
              "      <td>Married-civ-spouse</td>\n",
              "      <td>Exec-managerial</td>\n",
              "      <td>Husband</td>\n",
              "      <td>White</td>\n",
              "      <td>Male</td>\n",
              "      <td>0</td>\n",
              "      <td>0</td>\n",
              "      <td>13</td>\n",
              "      <td>United-States</td>\n",
              "      <td>&lt;=50K</td>\n",
              "    </tr>\n",
              "    <tr>\n",
              "      <th>2</th>\n",
              "      <td>38</td>\n",
              "      <td>Private</td>\n",
              "      <td>215646</td>\n",
              "      <td>HS-grad</td>\n",
              "      <td>9</td>\n",
              "      <td>Divorced</td>\n",
              "      <td>Handlers-cleaners</td>\n",
              "      <td>Not-in-family</td>\n",
              "      <td>White</td>\n",
              "      <td>Male</td>\n",
              "      <td>0</td>\n",
              "      <td>0</td>\n",
              "      <td>40</td>\n",
              "      <td>United-States</td>\n",
              "      <td>&lt;=50K</td>\n",
              "    </tr>\n",
              "    <tr>\n",
              "      <th>3</th>\n",
              "      <td>53</td>\n",
              "      <td>Private</td>\n",
              "      <td>234721</td>\n",
              "      <td>11th</td>\n",
              "      <td>7</td>\n",
              "      <td>Married-civ-spouse</td>\n",
              "      <td>Handlers-cleaners</td>\n",
              "      <td>Husband</td>\n",
              "      <td>Black</td>\n",
              "      <td>Male</td>\n",
              "      <td>0</td>\n",
              "      <td>0</td>\n",
              "      <td>40</td>\n",
              "      <td>United-States</td>\n",
              "      <td>&lt;=50K</td>\n",
              "    </tr>\n",
              "    <tr>\n",
              "      <th>4</th>\n",
              "      <td>28</td>\n",
              "      <td>Private</td>\n",
              "      <td>338409</td>\n",
              "      <td>Bachelors</td>\n",
              "      <td>13</td>\n",
              "      <td>Married-civ-spouse</td>\n",
              "      <td>Prof-specialty</td>\n",
              "      <td>Wife</td>\n",
              "      <td>Black</td>\n",
              "      <td>Female</td>\n",
              "      <td>0</td>\n",
              "      <td>0</td>\n",
              "      <td>40</td>\n",
              "      <td>Cuba</td>\n",
              "      <td>&lt;=50K</td>\n",
              "    </tr>\n",
              "  </tbody>\n",
              "</table>\n",
              "</div>"
            ],
            "text/plain": [
              "   age          workclass  fnlwgt  ... hours_per_week  native_country high_income\n",
              "0   39          State-gov   77516  ...             40   United-States       <=50K\n",
              "1   50   Self-emp-not-inc   83311  ...             13   United-States       <=50K\n",
              "2   38            Private  215646  ...             40   United-States       <=50K\n",
              "3   53            Private  234721  ...             40   United-States       <=50K\n",
              "4   28            Private  338409  ...             40            Cuba       <=50K\n",
              "\n",
              "[5 rows x 15 columns]"
            ]
          },
          "metadata": {
            "tags": []
          },
          "execution_count": 13
        }
      ]
    },
    {
      "cell_type": "code",
      "metadata": {
        "colab_type": "code",
        "id": "SI2P3tfRLkht",
        "outputId": "a73ed443-dc27-4b25-b4a1-7a7ade15a2c9",
        "colab": {
          "base_uri": "https://localhost:8080/",
          "height": 357
        }
      },
      "source": [
        "# verifying if there are missing values\n",
        "income.info()"
      ],
      "execution_count": 0,
      "outputs": [
        {
          "output_type": "stream",
          "text": [
            "<class 'pandas.core.frame.DataFrame'>\n",
            "RangeIndex: 32561 entries, 0 to 32560\n",
            "Data columns (total 15 columns):\n",
            "age               32561 non-null int64\n",
            "workclass         32561 non-null object\n",
            "fnlwgt            32561 non-null int64\n",
            "education         32561 non-null object\n",
            "education_num     32561 non-null int64\n",
            "marital_status    32561 non-null object\n",
            "occupation        32561 non-null object\n",
            "relationship      32561 non-null object\n",
            "race              32561 non-null object\n",
            "sex               32561 non-null object\n",
            "capital_gain      32561 non-null int64\n",
            "capital_loss      32561 non-null int64\n",
            "hours_per_week    32561 non-null int64\n",
            "native_country    32561 non-null object\n",
            "high_income       32561 non-null object\n",
            "dtypes: int64(6), object(9)\n",
            "memory usage: 3.7+ MB\n"
          ],
          "name": "stdout"
        }
      ]
    },
    {
      "cell_type": "markdown",
      "metadata": {
        "id": "qAsqYS2vhcBv",
        "colab_type": "text"
      },
      "source": [
        "#### Clean, prepare and manipulate Data (feature engineering)"
      ]
    },
    {
      "cell_type": "markdown",
      "metadata": {
        "id": "FiDepKOrhnRq",
        "colab_type": "text"
      },
      "source": [
        "This dataset contains a mix of **categorical (9 columns)** and **numerical (6 columns)** independent variables which as we know will need to pre-processed in different ways and separately.\n",
        "\n",
        "This means that initially they’ll have to go through **separate pipelines** to be pre-processed appropriately and then we’ll combine them together. So the first step in both pipelines would have to be to extract the appropriate columns that need to be pushed down for pre-processing."
      ]
    },
    {
      "cell_type": "code",
      "metadata": {
        "id": "nRiWmBz8-Af_",
        "colab_type": "code",
        "colab": {}
      },
      "source": [
        "# the only step necessary to be done outside of pipeline\n",
        "# convert the target column to categorical\n",
        "col = pd.Categorical(income.high_income)\n",
        "income[\"high_income\"] = col.codes"
      ],
      "execution_count": 0,
      "outputs": []
    },
    {
      "cell_type": "code",
      "metadata": {
        "id": "qbFbOUOlibQ0",
        "colab_type": "code",
        "colab": {}
      },
      "source": [
        "#Custom Transformer that extracts columns passed as argument to its constructor \n",
        "class FeatureSelector( BaseEstimator, TransformerMixin ):\n",
        "    #Class Constructor \n",
        "    def __init__( self, feature_names ):\n",
        "        self.feature_names = feature_names \n",
        "    \n",
        "    #Return self nothing else to do here    \n",
        "    def fit( self, X, y = None ):\n",
        "        return self \n",
        "    \n",
        "    #Method that describes what we need this transformer to do\n",
        "    def transform( self, X, y = None ):\n",
        "        return X[ self.feature_names ] "
      ],
      "execution_count": 0,
      "outputs": []
    },
    {
      "cell_type": "markdown",
      "metadata": {
        "id": "FWt3fuMIiyMa",
        "colab_type": "text"
      },
      "source": [
        "**Categorical Pipeline**"
      ]
    },
    {
      "cell_type": "code",
      "metadata": {
        "id": "VVaYmwaSopbV",
        "colab_type": "code",
        "colab": {}
      },
      "source": [
        "#converts certain features to categorical\n",
        "class CategoricalTransformer( BaseEstimator, TransformerMixin ):\n",
        "  #Class constructor method that takes a boolean as its argument\n",
        "  def __init__(self, new_features=True):\n",
        "    self.new_features = new_features\n",
        "\n",
        "  #Return self nothing else to do here    \n",
        "  def fit( self, X, y = None ):\n",
        "    return self \n",
        "        \n",
        "  #Transformer method we wrote for this transformer \n",
        "  def transform(self, X , y = None ):\n",
        "    df = X.copy()\n",
        "    if self.new_features:\n",
        "      # Treat ? workclass as unknown\n",
        "      df['workclass']= df['workclass'].replace('?','Unknown') \n",
        "      # Two many category level, convert just US and Non-US\n",
        "      df.loc[df['native_country']!=' United-States','native_country'] = 'non_usa' \n",
        "\n",
        "    # convert columns to categorical\n",
        "    for name in df.columns.to_list():\n",
        "      col = pd.Categorical(df[name])\n",
        "      df[name] = col.codes\n",
        "    \n",
        "    #returns numpy array\n",
        "    return df"
      ],
      "execution_count": 0,
      "outputs": []
    },
    {
      "cell_type": "code",
      "metadata": {
        "id": "Tz_lSNabr-vo",
        "colab_type": "code",
        "colab": {}
      },
      "source": [
        "# for validation purposes\n",
        "# model = CategoricalTransformer(new_features=True)\n",
        "# df = model.transform(income.drop(labels=[\"high_income\"],axis=1))"
      ],
      "execution_count": 0,
      "outputs": []
    },
    {
      "cell_type": "code",
      "metadata": {
        "id": "Mz2WX53svcKK",
        "colab_type": "code",
        "colab": {}
      },
      "source": [
        "# for validation purposes\n",
        "# model = FeatureSelector(income.select_dtypes(\"object\").columns.to_list())\n",
        "# df = model.transform(income.drop(labels=[\"high_income\"],axis=1))"
      ],
      "execution_count": 0,
      "outputs": []
    },
    {
      "cell_type": "markdown",
      "metadata": {
        "id": "xIDbsWQLxW2x",
        "colab_type": "text"
      },
      "source": [
        "#### Modeling (train and test)"
      ]
    },
    {
      "cell_type": "code",
      "metadata": {
        "id": "37LWvbv9hdS3",
        "colab_type": "code",
        "colab": {}
      },
      "source": [
        "# global varibles\n",
        "seed = 42\n",
        "num_folds = 10\n",
        "scoring = {'AUC': 'roc_auc', 'Accuracy': make_scorer(accuracy_score)}"
      ],
      "execution_count": 0,
      "outputs": []
    },
    {
      "cell_type": "code",
      "metadata": {
        "id": "OCgsF22T98iM",
        "colab_type": "code",
        "colab": {}
      },
      "source": [
        "# split-out train/validation and test dataset\n",
        "X_train, X_test, y_train, y_test = train_test_split(income.drop(labels=\"high_income\",axis=1),\n",
        "                                                    income[\"high_income\"],\n",
        "                                                    test_size=0.20,\n",
        "                                                    random_state=seed,\n",
        "                                                    shuffle=True,\n",
        "                                                    stratify=income[\"high_income\"])"
      ],
      "execution_count": 0,
      "outputs": []
    },
    {
      "cell_type": "code",
      "metadata": {
        "id": "qzDn0RNbuHy6",
        "colab_type": "code",
        "colab": {}
      },
      "source": [
        "# Categrical features to pass down the categorical pipeline \n",
        "categorical_features = income.select_dtypes(\"object\").columns.to_list()\n",
        "\n",
        "# Numerical features to pass down the numerical pipeline \n",
        "numerical_features = income.select_dtypes(\"int64\").columns.to_list()\n",
        "\n",
        "# Defining the steps in the categorical pipeline \n",
        "categorical_pipeline = Pipeline(steps = [('cat_selector', FeatureSelector(categorical_features)),\n",
        "                                         ('cat_transformer', CategoricalTransformer())\n",
        "                                         ]\n",
        "                                )\n",
        "# Defining the steps in the numerical pipeline     \n",
        "numerical_pipeline = Pipeline(steps = [('num_selector', FeatureSelector(numerical_features)),\n",
        "                                       ('std_scaler', MinMaxScaler()) \n",
        "                                       ]\n",
        "                              )\n",
        "\n",
        "# Combining numerical and categorical piepline into one full big pipeline horizontally \n",
        "# using FeatureUnion\n",
        "full_pipeline_preprocessing = FeatureUnion(transformer_list = [('categorical_pipeline', categorical_pipeline),\n",
        "                                                               ('numerical_pipeline', numerical_pipeline)\n",
        "                                                               ]\n",
        "                                           )"
      ],
      "execution_count": 0,
      "outputs": []
    },
    {
      "cell_type": "code",
      "metadata": {
        "id": "CIpXZ7BFkADg",
        "colab_type": "code",
        "outputId": "e6e67740-a785-4b73-befc-d8f07a5c215f",
        "colab": {
          "base_uri": "https://localhost:8080/",
          "height": 224
        }
      },
      "source": [
        "# for validate purposes\n",
        "new_data = full_pipeline_preprocessing.fit_transform(X_train)\n",
        "new_data_df = pd.DataFrame(new_data,columns = categorical_features + numerical_features)\n",
        "new_data_df.head()"
      ],
      "execution_count": 0,
      "outputs": [
        {
          "output_type": "execute_result",
          "data": {
            "text/html": [
              "<div>\n",
              "<style scoped>\n",
              "    .dataframe tbody tr th:only-of-type {\n",
              "        vertical-align: middle;\n",
              "    }\n",
              "\n",
              "    .dataframe tbody tr th {\n",
              "        vertical-align: top;\n",
              "    }\n",
              "\n",
              "    .dataframe thead th {\n",
              "        text-align: right;\n",
              "    }\n",
              "</style>\n",
              "<table border=\"1\" class=\"dataframe\">\n",
              "  <thead>\n",
              "    <tr style=\"text-align: right;\">\n",
              "      <th></th>\n",
              "      <th>workclass</th>\n",
              "      <th>education</th>\n",
              "      <th>marital_status</th>\n",
              "      <th>occupation</th>\n",
              "      <th>relationship</th>\n",
              "      <th>race</th>\n",
              "      <th>sex</th>\n",
              "      <th>native_country</th>\n",
              "      <th>age</th>\n",
              "      <th>fnlwgt</th>\n",
              "      <th>education_num</th>\n",
              "      <th>capital_gain</th>\n",
              "      <th>capital_loss</th>\n",
              "      <th>hours_per_week</th>\n",
              "    </tr>\n",
              "  </thead>\n",
              "  <tbody>\n",
              "    <tr>\n",
              "      <th>0</th>\n",
              "      <td>4.0</td>\n",
              "      <td>9.0</td>\n",
              "      <td>2.0</td>\n",
              "      <td>4.0</td>\n",
              "      <td>0.0</td>\n",
              "      <td>4.0</td>\n",
              "      <td>1.0</td>\n",
              "      <td>0.0</td>\n",
              "      <td>0.205479</td>\n",
              "      <td>0.016928</td>\n",
              "      <td>0.800000</td>\n",
              "      <td>0.000000</td>\n",
              "      <td>0.0</td>\n",
              "      <td>0.448980</td>\n",
              "    </tr>\n",
              "    <tr>\n",
              "      <th>1</th>\n",
              "      <td>4.0</td>\n",
              "      <td>12.0</td>\n",
              "      <td>4.0</td>\n",
              "      <td>4.0</td>\n",
              "      <td>1.0</td>\n",
              "      <td>4.0</td>\n",
              "      <td>0.0</td>\n",
              "      <td>0.0</td>\n",
              "      <td>0.356164</td>\n",
              "      <td>0.060896</td>\n",
              "      <td>0.866667</td>\n",
              "      <td>0.000000</td>\n",
              "      <td>0.0</td>\n",
              "      <td>0.448980</td>\n",
              "    </tr>\n",
              "    <tr>\n",
              "      <th>2</th>\n",
              "      <td>0.0</td>\n",
              "      <td>11.0</td>\n",
              "      <td>4.0</td>\n",
              "      <td>0.0</td>\n",
              "      <td>1.0</td>\n",
              "      <td>4.0</td>\n",
              "      <td>0.0</td>\n",
              "      <td>0.0</td>\n",
              "      <td>0.041096</td>\n",
              "      <td>0.074679</td>\n",
              "      <td>0.533333</td>\n",
              "      <td>0.000000</td>\n",
              "      <td>0.0</td>\n",
              "      <td>0.275510</td>\n",
              "    </tr>\n",
              "    <tr>\n",
              "      <th>3</th>\n",
              "      <td>2.0</td>\n",
              "      <td>15.0</td>\n",
              "      <td>0.0</td>\n",
              "      <td>14.0</td>\n",
              "      <td>4.0</td>\n",
              "      <td>4.0</td>\n",
              "      <td>1.0</td>\n",
              "      <td>0.0</td>\n",
              "      <td>0.315068</td>\n",
              "      <td>0.008474</td>\n",
              "      <td>0.600000</td>\n",
              "      <td>0.068491</td>\n",
              "      <td>0.0</td>\n",
              "      <td>0.397959</td>\n",
              "    </tr>\n",
              "    <tr>\n",
              "      <th>4</th>\n",
              "      <td>4.0</td>\n",
              "      <td>9.0</td>\n",
              "      <td>4.0</td>\n",
              "      <td>10.0</td>\n",
              "      <td>3.0</td>\n",
              "      <td>4.0</td>\n",
              "      <td>1.0</td>\n",
              "      <td>0.0</td>\n",
              "      <td>0.095890</td>\n",
              "      <td>0.069037</td>\n",
              "      <td>0.800000</td>\n",
              "      <td>0.000000</td>\n",
              "      <td>0.0</td>\n",
              "      <td>0.397959</td>\n",
              "    </tr>\n",
              "  </tbody>\n",
              "</table>\n",
              "</div>"
            ],
            "text/plain": [
              "   workclass  education  ...  capital_loss  hours_per_week\n",
              "0        4.0        9.0  ...           0.0        0.448980\n",
              "1        4.0       12.0  ...           0.0        0.448980\n",
              "2        0.0       11.0  ...           0.0        0.275510\n",
              "3        2.0       15.0  ...           0.0        0.397959\n",
              "4        4.0        9.0  ...           0.0        0.397959\n",
              "\n",
              "[5 rows x 14 columns]"
            ]
          },
          "metadata": {
            "tags": []
          },
          "execution_count": 20
        }
      ]
    },
    {
      "cell_type": "markdown",
      "metadata": {
        "id": "ZlnX7PPHpTDf",
        "colab_type": "text"
      },
      "source": [
        "#### Algorithm Tuning"
      ]
    },
    {
      "cell_type": "code",
      "metadata": {
        "id": "9vRlshxDNH7e",
        "colab_type": "code",
        "outputId": "7daca348-246d-48a4-b98e-ecddebfce049",
        "colab": {
          "base_uri": "https://localhost:8080/",
          "height": 34
        }
      },
      "source": [
        "# The full pipeline as a step in another pipeline with an estimator as the final step\n",
        "pipe = Pipeline(steps = [('full_pipeline', full_pipeline_preprocessing),\n",
        "                         (\"fs\",SelectKBest()),\n",
        "                         (\"clf\",XGBClassifier())])\n",
        "\n",
        "# create a dictionary with the hyperparameters\n",
        "search_space = [\n",
        "                {\"clf\":[RandomForestClassifier()],\n",
        "                 \"clf__n_estimators\": [200],\n",
        "                 \"clf__criterion\": [\"entropy\"],\n",
        "                 \"clf__max_leaf_nodes\": [128],\n",
        "                 \"clf__random_state\": [seed],\n",
        "                 \"fs__score_func\":[chi2],\n",
        "                 \"fs__k\":[13]},\n",
        "                {\"clf\":[XGBClassifier()],\n",
        "                 \"clf__n_estimators\": [100,200],\n",
        "                 \"clf__max_depth\": [4],\n",
        "                 \"clf__learning_rate\": [0.1],\n",
        "                 \"clf__random_state\": [seed],\n",
        "                 \"clf__subsample\": [1],\n",
        "                 \"clf__colsample_bytree\": [1.0],\n",
        "                 \"fs__score_func\":[chi2],\n",
        "                 \"fs__k\":[13]}\n",
        "                ]\n",
        "\n",
        "# create grid search\n",
        "kfold = KFold(n_splits=num_folds,random_state=seed)\n",
        "\n",
        "# return_train_score=True\n",
        "# official documentation: \"computing the scores on the training set can be\n",
        "# computationally expensive and is not strictly required to\n",
        "# select the parameters that yield the best generalization performance\".\n",
        "grid = GridSearchCV(estimator=pipe, \n",
        "                    param_grid=search_space,\n",
        "                    cv=kfold,\n",
        "                    scoring=scoring,\n",
        "                    return_train_score=True,\n",
        "                    n_jobs=-1,\n",
        "                    refit=\"AUC\")\n",
        "tmp = time.time()\n",
        "\n",
        "# fit grid search\n",
        "best_model = grid.fit(X_train,y_train)\n",
        "\n",
        "print(\"CPU Training Time: %s seconds\" % (str(time.time() - tmp)))"
      ],
      "execution_count": 0,
      "outputs": [
        {
          "output_type": "stream",
          "text": [
            "CPU Training Time: 68.71298003196716 seconds\n"
          ],
          "name": "stdout"
        }
      ]
    },
    {
      "cell_type": "code",
      "metadata": {
        "id": "B-_ri8NoqZzR",
        "colab_type": "code",
        "outputId": "2c9784ad-e2f8-4014-c8c3-0c24531ee908",
        "colab": {
          "base_uri": "https://localhost:8080/",
          "height": 156
        }
      },
      "source": [
        "print(\"Best: %f using %s\" % (best_model.best_score_,best_model.best_params_))"
      ],
      "execution_count": 0,
      "outputs": [
        {
          "output_type": "stream",
          "text": [
            "Best: 0.921564 using {'clf': XGBClassifier(base_score=0.5, booster='gbtree', colsample_bylevel=1,\n",
            "              colsample_bynode=1, colsample_bytree=1.0, gamma=0,\n",
            "              learning_rate=0.1, max_delta_step=0, max_depth=4,\n",
            "              min_child_weight=1, missing=None, n_estimators=200, n_jobs=1,\n",
            "              nthread=None, objective='binary:logistic', random_state=42,\n",
            "              reg_alpha=0, reg_lambda=1, scale_pos_weight=1, seed=None,\n",
            "              silent=None, subsample=1, verbosity=1), 'clf__colsample_bytree': 1.0, 'clf__learning_rate': 0.1, 'clf__max_depth': 4, 'clf__n_estimators': 200, 'clf__random_state': 42, 'clf__subsample': 1, 'fs__k': 13, 'fs__score_func': <function chi2 at 0x7fe9ca1599d8>}\n"
          ],
          "name": "stdout"
        }
      ]
    },
    {
      "cell_type": "code",
      "metadata": {
        "id": "5z5rxfjGraB1",
        "colab_type": "code",
        "outputId": "1d70399f-4254-495d-f9ce-dd9153ac3c7f",
        "colab": {
          "base_uri": "https://localhost:8080/",
          "height": 213
        }
      },
      "source": [
        "result = pd.DataFrame(best_model.cv_results_)\n",
        "result.head()"
      ],
      "execution_count": 0,
      "outputs": [
        {
          "output_type": "execute_result",
          "data": {
            "text/html": [
              "<div>\n",
              "<style scoped>\n",
              "    .dataframe tbody tr th:only-of-type {\n",
              "        vertical-align: middle;\n",
              "    }\n",
              "\n",
              "    .dataframe tbody tr th {\n",
              "        vertical-align: top;\n",
              "    }\n",
              "\n",
              "    .dataframe thead th {\n",
              "        text-align: right;\n",
              "    }\n",
              "</style>\n",
              "<table border=\"1\" class=\"dataframe\">\n",
              "  <thead>\n",
              "    <tr style=\"text-align: right;\">\n",
              "      <th></th>\n",
              "      <th>mean_fit_time</th>\n",
              "      <th>std_fit_time</th>\n",
              "      <th>mean_score_time</th>\n",
              "      <th>std_score_time</th>\n",
              "      <th>param_clf</th>\n",
              "      <th>param_clf__criterion</th>\n",
              "      <th>param_clf__max_leaf_nodes</th>\n",
              "      <th>param_clf__n_estimators</th>\n",
              "      <th>param_clf__random_state</th>\n",
              "      <th>param_fs__k</th>\n",
              "      <th>param_fs__score_func</th>\n",
              "      <th>param_clf__colsample_bytree</th>\n",
              "      <th>param_clf__learning_rate</th>\n",
              "      <th>param_clf__max_depth</th>\n",
              "      <th>param_clf__subsample</th>\n",
              "      <th>params</th>\n",
              "      <th>split0_test_AUC</th>\n",
              "      <th>split1_test_AUC</th>\n",
              "      <th>split2_test_AUC</th>\n",
              "      <th>split3_test_AUC</th>\n",
              "      <th>split4_test_AUC</th>\n",
              "      <th>split5_test_AUC</th>\n",
              "      <th>split6_test_AUC</th>\n",
              "      <th>split7_test_AUC</th>\n",
              "      <th>split8_test_AUC</th>\n",
              "      <th>split9_test_AUC</th>\n",
              "      <th>mean_test_AUC</th>\n",
              "      <th>std_test_AUC</th>\n",
              "      <th>rank_test_AUC</th>\n",
              "      <th>split0_train_AUC</th>\n",
              "      <th>split1_train_AUC</th>\n",
              "      <th>split2_train_AUC</th>\n",
              "      <th>split3_train_AUC</th>\n",
              "      <th>split4_train_AUC</th>\n",
              "      <th>split5_train_AUC</th>\n",
              "      <th>split6_train_AUC</th>\n",
              "      <th>split7_train_AUC</th>\n",
              "      <th>split8_train_AUC</th>\n",
              "      <th>split9_train_AUC</th>\n",
              "      <th>mean_train_AUC</th>\n",
              "      <th>std_train_AUC</th>\n",
              "      <th>split0_test_Accuracy</th>\n",
              "      <th>split1_test_Accuracy</th>\n",
              "      <th>split2_test_Accuracy</th>\n",
              "      <th>split3_test_Accuracy</th>\n",
              "      <th>split4_test_Accuracy</th>\n",
              "      <th>split5_test_Accuracy</th>\n",
              "      <th>split6_test_Accuracy</th>\n",
              "      <th>split7_test_Accuracy</th>\n",
              "      <th>split8_test_Accuracy</th>\n",
              "      <th>split9_test_Accuracy</th>\n",
              "      <th>mean_test_Accuracy</th>\n",
              "      <th>std_test_Accuracy</th>\n",
              "      <th>rank_test_Accuracy</th>\n",
              "      <th>split0_train_Accuracy</th>\n",
              "      <th>split1_train_Accuracy</th>\n",
              "      <th>split2_train_Accuracy</th>\n",
              "      <th>split3_train_Accuracy</th>\n",
              "      <th>split4_train_Accuracy</th>\n",
              "      <th>split5_train_Accuracy</th>\n",
              "      <th>split6_train_Accuracy</th>\n",
              "      <th>split7_train_Accuracy</th>\n",
              "      <th>split8_train_Accuracy</th>\n",
              "      <th>split9_train_Accuracy</th>\n",
              "      <th>mean_train_Accuracy</th>\n",
              "      <th>std_train_Accuracy</th>\n",
              "    </tr>\n",
              "  </thead>\n",
              "  <tbody>\n",
              "    <tr>\n",
              "      <th>0</th>\n",
              "      <td>3.636574</td>\n",
              "      <td>0.028000</td>\n",
              "      <td>0.238388</td>\n",
              "      <td>0.002481</td>\n",
              "      <td>RandomForestClassifier(bootstrap=True, class_w...</td>\n",
              "      <td>entropy</td>\n",
              "      <td>128</td>\n",
              "      <td>200</td>\n",
              "      <td>42</td>\n",
              "      <td>13</td>\n",
              "      <td>&lt;function chi2 at 0x7fe9ca1599d8&gt;</td>\n",
              "      <td>NaN</td>\n",
              "      <td>NaN</td>\n",
              "      <td>NaN</td>\n",
              "      <td>NaN</td>\n",
              "      <td>{'clf': RandomForestClassifier(bootstrap=True,...</td>\n",
              "      <td>0.918610</td>\n",
              "      <td>0.911203</td>\n",
              "      <td>0.913516</td>\n",
              "      <td>0.909162</td>\n",
              "      <td>0.925699</td>\n",
              "      <td>0.917564</td>\n",
              "      <td>0.913160</td>\n",
              "      <td>0.902687</td>\n",
              "      <td>0.905697</td>\n",
              "      <td>0.917694</td>\n",
              "      <td>0.913500</td>\n",
              "      <td>0.006411</td>\n",
              "      <td>3</td>\n",
              "      <td>0.928160</td>\n",
              "      <td>0.927711</td>\n",
              "      <td>0.928000</td>\n",
              "      <td>0.927791</td>\n",
              "      <td>0.926678</td>\n",
              "      <td>0.927616</td>\n",
              "      <td>0.927582</td>\n",
              "      <td>0.928513</td>\n",
              "      <td>0.928732</td>\n",
              "      <td>0.927621</td>\n",
              "      <td>0.927840</td>\n",
              "      <td>0.000539</td>\n",
              "      <td>0.861420</td>\n",
              "      <td>0.849520</td>\n",
              "      <td>0.862188</td>\n",
              "      <td>0.851056</td>\n",
              "      <td>0.864875</td>\n",
              "      <td>0.858733</td>\n",
              "      <td>0.867562</td>\n",
              "      <td>0.856046</td>\n",
              "      <td>0.847926</td>\n",
              "      <td>0.854455</td>\n",
              "      <td>0.857379</td>\n",
              "      <td>0.006345</td>\n",
              "      <td>3</td>\n",
              "      <td>0.868106</td>\n",
              "      <td>0.867850</td>\n",
              "      <td>0.867636</td>\n",
              "      <td>0.866357</td>\n",
              "      <td>0.866101</td>\n",
              "      <td>0.868020</td>\n",
              "      <td>0.865333</td>\n",
              "      <td>0.868148</td>\n",
              "      <td>0.869775</td>\n",
              "      <td>0.866106</td>\n",
              "      <td>0.867343</td>\n",
              "      <td>0.001266</td>\n",
              "    </tr>\n",
              "    <tr>\n",
              "      <th>1</th>\n",
              "      <td>2.299515</td>\n",
              "      <td>0.048032</td>\n",
              "      <td>0.082070</td>\n",
              "      <td>0.001002</td>\n",
              "      <td>XGBClassifier(base_score=0.5, booster='gbtree'...</td>\n",
              "      <td>NaN</td>\n",
              "      <td>NaN</td>\n",
              "      <td>100</td>\n",
              "      <td>42</td>\n",
              "      <td>13</td>\n",
              "      <td>&lt;function chi2 at 0x7fe9ca1599d8&gt;</td>\n",
              "      <td>1</td>\n",
              "      <td>0.1</td>\n",
              "      <td>4</td>\n",
              "      <td>1</td>\n",
              "      <td>{'clf': XGBClassifier(base_score=0.5, booster=...</td>\n",
              "      <td>0.924293</td>\n",
              "      <td>0.915655</td>\n",
              "      <td>0.923312</td>\n",
              "      <td>0.915992</td>\n",
              "      <td>0.931257</td>\n",
              "      <td>0.925974</td>\n",
              "      <td>0.915977</td>\n",
              "      <td>0.905394</td>\n",
              "      <td>0.913693</td>\n",
              "      <td>0.927121</td>\n",
              "      <td>0.919867</td>\n",
              "      <td>0.007393</td>\n",
              "      <td>2</td>\n",
              "      <td>0.931236</td>\n",
              "      <td>0.931453</td>\n",
              "      <td>0.930988</td>\n",
              "      <td>0.931150</td>\n",
              "      <td>0.930484</td>\n",
              "      <td>0.930988</td>\n",
              "      <td>0.930472</td>\n",
              "      <td>0.932019</td>\n",
              "      <td>0.931904</td>\n",
              "      <td>0.930631</td>\n",
              "      <td>0.931132</td>\n",
              "      <td>0.000514</td>\n",
              "      <td>0.869098</td>\n",
              "      <td>0.851823</td>\n",
              "      <td>0.866411</td>\n",
              "      <td>0.852591</td>\n",
              "      <td>0.871785</td>\n",
              "      <td>0.868330</td>\n",
              "      <td>0.865643</td>\n",
              "      <td>0.850288</td>\n",
              "      <td>0.854455</td>\n",
              "      <td>0.872120</td>\n",
              "      <td>0.862254</td>\n",
              "      <td>0.008408</td>\n",
              "      <td>1</td>\n",
              "      <td>0.874547</td>\n",
              "      <td>0.874163</td>\n",
              "      <td>0.873352</td>\n",
              "      <td>0.873608</td>\n",
              "      <td>0.873651</td>\n",
              "      <td>0.874419</td>\n",
              "      <td>0.872030</td>\n",
              "      <td>0.874888</td>\n",
              "      <td>0.874339</td>\n",
              "      <td>0.872889</td>\n",
              "      <td>0.873789</td>\n",
              "      <td>0.000823</td>\n",
              "    </tr>\n",
              "    <tr>\n",
              "      <th>2</th>\n",
              "      <td>4.335794</td>\n",
              "      <td>0.026709</td>\n",
              "      <td>0.106380</td>\n",
              "      <td>0.005653</td>\n",
              "      <td>XGBClassifier(base_score=0.5, booster='gbtree'...</td>\n",
              "      <td>NaN</td>\n",
              "      <td>NaN</td>\n",
              "      <td>200</td>\n",
              "      <td>42</td>\n",
              "      <td>13</td>\n",
              "      <td>&lt;function chi2 at 0x7fe9ca1599d8&gt;</td>\n",
              "      <td>1</td>\n",
              "      <td>0.1</td>\n",
              "      <td>4</td>\n",
              "      <td>1</td>\n",
              "      <td>{'clf': XGBClassifier(base_score=0.5, booster=...</td>\n",
              "      <td>0.925898</td>\n",
              "      <td>0.914683</td>\n",
              "      <td>0.926117</td>\n",
              "      <td>0.917757</td>\n",
              "      <td>0.933398</td>\n",
              "      <td>0.928683</td>\n",
              "      <td>0.918358</td>\n",
              "      <td>0.903114</td>\n",
              "      <td>0.916277</td>\n",
              "      <td>0.931357</td>\n",
              "      <td>0.921564</td>\n",
              "      <td>0.008756</td>\n",
              "      <td>1</td>\n",
              "      <td>0.938444</td>\n",
              "      <td>0.938586</td>\n",
              "      <td>0.938342</td>\n",
              "      <td>0.937637</td>\n",
              "      <td>0.937574</td>\n",
              "      <td>0.938141</td>\n",
              "      <td>0.937398</td>\n",
              "      <td>0.939047</td>\n",
              "      <td>0.938708</td>\n",
              "      <td>0.938124</td>\n",
              "      <td>0.938200</td>\n",
              "      <td>0.000506</td>\n",
              "      <td>0.871017</td>\n",
              "      <td>0.849904</td>\n",
              "      <td>0.872169</td>\n",
              "      <td>0.855662</td>\n",
              "      <td>0.870633</td>\n",
              "      <td>0.871017</td>\n",
              "      <td>0.866795</td>\n",
              "      <td>0.838772</td>\n",
              "      <td>0.852151</td>\n",
              "      <td>0.874040</td>\n",
              "      <td>0.862216</td>\n",
              "      <td>0.011537</td>\n",
              "      <td>2</td>\n",
              "      <td>0.881244</td>\n",
              "      <td>0.882438</td>\n",
              "      <td>0.880092</td>\n",
              "      <td>0.880433</td>\n",
              "      <td>0.880049</td>\n",
              "      <td>0.880860</td>\n",
              "      <td>0.878770</td>\n",
              "      <td>0.881841</td>\n",
              "      <td>0.881633</td>\n",
              "      <td>0.880993</td>\n",
              "      <td>0.880835</td>\n",
              "      <td>0.001000</td>\n",
              "    </tr>\n",
              "  </tbody>\n",
              "</table>\n",
              "</div>"
            ],
            "text/plain": [
              "   mean_fit_time  std_fit_time  ...  mean_train_Accuracy  std_train_Accuracy\n",
              "0       3.636574      0.028000  ...             0.867343            0.001266\n",
              "1       2.299515      0.048032  ...             0.873789            0.000823\n",
              "2       4.335794      0.026709  ...             0.880835            0.001000\n",
              "\n",
              "[3 rows x 66 columns]"
            ]
          },
          "metadata": {
            "tags": []
          },
          "execution_count": 15
        }
      ]
    },
    {
      "cell_type": "code",
      "metadata": {
        "id": "IDVc1olUroAS",
        "colab_type": "code",
        "outputId": "8df122ec-d4d3-4aaf-f7ef-14c4b7f8c0cc",
        "colab": {
          "base_uri": "https://localhost:8080/",
          "height": 142
        }
      },
      "source": [
        "# Training score much higher than test score.\n",
        "# The standard deviation of the test score is large.\n",
        "result_auc = result[['mean_train_AUC', 'std_train_AUC','mean_test_AUC', 'std_test_AUC']]\n",
        "result_auc"
      ],
      "execution_count": 0,
      "outputs": [
        {
          "output_type": "execute_result",
          "data": {
            "text/html": [
              "<div>\n",
              "<style scoped>\n",
              "    .dataframe tbody tr th:only-of-type {\n",
              "        vertical-align: middle;\n",
              "    }\n",
              "\n",
              "    .dataframe tbody tr th {\n",
              "        vertical-align: top;\n",
              "    }\n",
              "\n",
              "    .dataframe thead th {\n",
              "        text-align: right;\n",
              "    }\n",
              "</style>\n",
              "<table border=\"1\" class=\"dataframe\">\n",
              "  <thead>\n",
              "    <tr style=\"text-align: right;\">\n",
              "      <th></th>\n",
              "      <th>mean_train_AUC</th>\n",
              "      <th>std_train_AUC</th>\n",
              "      <th>mean_test_AUC</th>\n",
              "      <th>std_test_AUC</th>\n",
              "    </tr>\n",
              "  </thead>\n",
              "  <tbody>\n",
              "    <tr>\n",
              "      <th>0</th>\n",
              "      <td>0.927840</td>\n",
              "      <td>0.000539</td>\n",
              "      <td>0.913500</td>\n",
              "      <td>0.006411</td>\n",
              "    </tr>\n",
              "    <tr>\n",
              "      <th>1</th>\n",
              "      <td>0.931132</td>\n",
              "      <td>0.000514</td>\n",
              "      <td>0.919867</td>\n",
              "      <td>0.007393</td>\n",
              "    </tr>\n",
              "    <tr>\n",
              "      <th>2</th>\n",
              "      <td>0.938200</td>\n",
              "      <td>0.000506</td>\n",
              "      <td>0.921564</td>\n",
              "      <td>0.008756</td>\n",
              "    </tr>\n",
              "  </tbody>\n",
              "</table>\n",
              "</div>"
            ],
            "text/plain": [
              "   mean_train_AUC  std_train_AUC  mean_test_AUC  std_test_AUC\n",
              "0        0.927840       0.000539       0.913500      0.006411\n",
              "1        0.931132       0.000514       0.919867      0.007393\n",
              "2        0.938200       0.000506       0.921564      0.008756"
            ]
          },
          "metadata": {
            "tags": []
          },
          "execution_count": 16
        }
      ]
    },
    {
      "cell_type": "code",
      "metadata": {
        "id": "2EXg2Oxyr2-g",
        "colab_type": "code",
        "outputId": "1f6bf946-42c7-490e-ef20-f6988e5fc73e",
        "colab": {
          "base_uri": "https://localhost:8080/",
          "height": 142
        }
      },
      "source": [
        "result_acc = result[['mean_train_Accuracy', 'std_train_Accuracy','mean_test_Accuracy', 'std_test_Accuracy']]\n",
        "result_acc"
      ],
      "execution_count": 0,
      "outputs": [
        {
          "output_type": "execute_result",
          "data": {
            "text/html": [
              "<div>\n",
              "<style scoped>\n",
              "    .dataframe tbody tr th:only-of-type {\n",
              "        vertical-align: middle;\n",
              "    }\n",
              "\n",
              "    .dataframe tbody tr th {\n",
              "        vertical-align: top;\n",
              "    }\n",
              "\n",
              "    .dataframe thead th {\n",
              "        text-align: right;\n",
              "    }\n",
              "</style>\n",
              "<table border=\"1\" class=\"dataframe\">\n",
              "  <thead>\n",
              "    <tr style=\"text-align: right;\">\n",
              "      <th></th>\n",
              "      <th>mean_train_Accuracy</th>\n",
              "      <th>std_train_Accuracy</th>\n",
              "      <th>mean_test_Accuracy</th>\n",
              "      <th>std_test_Accuracy</th>\n",
              "    </tr>\n",
              "  </thead>\n",
              "  <tbody>\n",
              "    <tr>\n",
              "      <th>0</th>\n",
              "      <td>0.867343</td>\n",
              "      <td>0.001266</td>\n",
              "      <td>0.857379</td>\n",
              "      <td>0.006345</td>\n",
              "    </tr>\n",
              "    <tr>\n",
              "      <th>1</th>\n",
              "      <td>0.873789</td>\n",
              "      <td>0.000823</td>\n",
              "      <td>0.862254</td>\n",
              "      <td>0.008408</td>\n",
              "    </tr>\n",
              "    <tr>\n",
              "      <th>2</th>\n",
              "      <td>0.880835</td>\n",
              "      <td>0.001000</td>\n",
              "      <td>0.862216</td>\n",
              "      <td>0.011537</td>\n",
              "    </tr>\n",
              "  </tbody>\n",
              "</table>\n",
              "</div>"
            ],
            "text/plain": [
              "   mean_train_Accuracy  ...  std_test_Accuracy\n",
              "0             0.867343  ...           0.006345\n",
              "1             0.873789  ...           0.008408\n",
              "2             0.880835  ...           0.011537\n",
              "\n",
              "[3 rows x 4 columns]"
            ]
          },
          "metadata": {
            "tags": []
          },
          "execution_count": 17
        }
      ]
    },
    {
      "cell_type": "markdown",
      "metadata": {
        "id": "5F-wJfod4bRh",
        "colab_type": "text"
      },
      "source": [
        "**Detecting Overfiting**\n",
        "\n",
        "- CV Training Score >> CV Test Score\n",
        "  - overfitting in model fitting stage\n",
        "  - reduce complexity of classifer\n",
        "  - get more training data\n",
        "  - increase cv number\n",
        "- CV Test Score >> Validation Score\n",
        "  - overfitting in model tuning stage\n",
        "  - decrease cv number\n",
        "  - decrease size of parameter grid"
      ]
    },
    {
      "cell_type": "markdown",
      "metadata": {
        "id": "QtR_4lCrsiWv",
        "colab_type": "text"
      },
      "source": [
        "#### Finalizing the Model"
      ]
    },
    {
      "cell_type": "code",
      "metadata": {
        "id": "vPhPhPkhBkbE",
        "colab_type": "code",
        "colab": {}
      },
      "source": [
        "# Serializing your model\n",
        "\n",
        "# Development environment\n",
        "with open('pipe.pkl', 'wb') as file:\n",
        "  pickle.dump(best_model, file)"
      ],
      "execution_count": 0,
      "outputs": []
    },
    {
      "cell_type": "code",
      "metadata": {
        "id": "EyxtlVf35fXd",
        "colab_type": "code",
        "outputId": "29949e1e-1614-455d-8399-4ee6b666615b",
        "colab": {
          "base_uri": "https://localhost:8080/",
          "height": 221
        }
      },
      "source": [
        "# final model\n",
        "predict = best_model.predict(X_test)\n",
        "print(accuracy_score(y_test, predict))\n",
        "print(confusion_matrix(y_test,predict))\n",
        "print(classification_report(y_test,predict))"
      ],
      "execution_count": 0,
      "outputs": [
        {
          "output_type": "stream",
          "text": [
            "0.8737908797789037\n",
            "[[4659  286]\n",
            " [ 536 1032]]\n",
            "              precision    recall  f1-score   support\n",
            "\n",
            "           0       0.90      0.94      0.92      4945\n",
            "           1       0.78      0.66      0.72      1568\n",
            "\n",
            "    accuracy                           0.87      6513\n",
            "   macro avg       0.84      0.80      0.82      6513\n",
            "weighted avg       0.87      0.87      0.87      6513\n",
            "\n"
          ],
          "name": "stdout"
        }
      ]
    },
    {
      "cell_type": "code",
      "metadata": {
        "id": "BylWOQV4W6DB",
        "colab_type": "code",
        "colab": {}
      },
      "source": [
        "from google.colab import files\n",
        "files.download(\"pipe.pkl\")"
      ],
      "execution_count": 0,
      "outputs": []
    }
  ]
}